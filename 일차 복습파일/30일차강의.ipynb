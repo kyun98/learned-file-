{
 "cells": [
  {
   "cell_type": "markdown",
   "metadata": {},
   "source": [
    "## 30일차 강의 (2021.8.13)\n",
    "# 신경망"
   ]
  },
  {
   "cell_type": "markdown",
   "metadata": {},
   "source": [
    "### 연습문제\n",
    "- 미니배치는 입력데이터를 여러 조각으로 나누어 각자 훈련시키는 것이다.\n",
    "- 행복데이터에서 배치 크기를 64로 해서 각 배치의 출력값과 오차값을 계산해보자. (배치를 자르기 전에 먼저 데이터를 섞어야 한다.)\n",
    "- 주요 속성 6개를 입력값으로, 행복지수를 출력값으로 하는 회귀 문제이다.\n",
    "- 중간층은 하나이며 256개의 노드를 가진다. 중간층의 활성화 함수는 시그모이드이다.\n",
    "- 가능하면 입력데이터를 정규화한다."
   ]
  },
  {
   "cell_type": "code",
   "execution_count": 1,
   "metadata": {},
   "outputs": [],
   "source": [
    "import numpy as np\n",
    "import pandas as pd\n",
    "import matplotlib.pyplot as plt"
   ]
  },
  {
   "cell_type": "code",
   "execution_count": 2,
   "metadata": {},
   "outputs": [
    {
     "data": {
      "text/plain": [
       "(149, 20)"
      ]
     },
     "execution_count": 2,
     "metadata": {},
     "output_type": "execute_result"
    }
   ],
   "source": [
    "happy = pd.read_csv('world_happiness_report_2021.csv')\n",
    "happy.shape"
   ]
  },
  {
   "cell_type": "code",
   "execution_count": 4,
   "metadata": {},
   "outputs": [],
   "source": [
    "X = happy.iloc[:,6:12].values\n",
    "y = happy['Ladder score'].values"
   ]
  },
  {
   "cell_type": "code",
   "execution_count": null,
   "metadata": {},
   "outputs": [],
   "source": []
  },
  {
   "cell_type": "code",
   "execution_count": 6,
   "metadata": {},
   "outputs": [
    {
     "data": {
      "text/plain": [
       "array([ 54, 115,  53,  64,  34, 135,  18,   8, 142, 132, 148, 144, 101,\n",
       "         6,  31, 127,  37, 118, 119,  39,   2, 121,  38, 125,  98,  33,\n",
       "        63,  46,  47,  58,  36,  26,  43, 106,  99, 140, 112, 100, 110,\n",
       "         9,  65,  48, 104,  57, 102, 130,  40,  56,  77, 120,  92,  67,\n",
       "       117, 128,  62, 124,  60,   7,  88,   3,  24, 141,  61, 137, 114,\n",
       "        85, 107, 146,  22, 134,  25,  95,  70, 129,  12,  11, 105, 145,\n",
       "        93, 103,  69, 126,  45,   0, 139,  73,  84, 109,  79,  91,  89,\n",
       "        17, 116,  21,   4,  87, 111,   5,  90,  29,  23,  52,  75,  86,\n",
       "        76,  27,  97, 131, 113,  42,  35,  51,  50,  59, 143, 136,  74,\n",
       "        28,  20, 133,  68,  14,  13,  10,  15,  32,  71,  78, 147, 108,\n",
       "        19,  66, 138,  82,  96,  16,  30,  44,  81,  94,   1,  80,  72,\n",
       "       123, 122,  55,  83,  41,  49])"
      ]
     },
     "execution_count": 6,
     "metadata": {},
     "output_type": "execute_result"
    }
   ],
   "source": [
    "idx = np.random.permutation(range(149))\n",
    "idx"
   ]
  },
  {
   "cell_type": "code",
   "execution_count": 10,
   "metadata": {},
   "outputs": [
    {
     "data": {
      "text/plain": [
       "((64, 6), (64,))"
      ]
     },
     "execution_count": 10,
     "metadata": {},
     "output_type": "execute_result"
    }
   ],
   "source": [
    "X1 = X[idx[:64]]\n",
    "y1 = y[idx[:64]]\n",
    "X1 = (X1 - X1.mean(axis=0)) / X1.std(axis=0)\n",
    "X1.shape, y1.shape"
   ]
  },
  {
   "cell_type": "code",
   "execution_count": 11,
   "metadata": {},
   "outputs": [
    {
     "data": {
      "text/plain": [
       "((64, 6), (64,))"
      ]
     },
     "execution_count": 11,
     "metadata": {},
     "output_type": "execute_result"
    }
   ],
   "source": [
    "X2 = X[idx[64:128]]\n",
    "y2 = y[idx[64:128]]\n",
    "X2 = (X2 - X2.mean(axis=0)) / X2.std(axis=0)\n",
    "X2.shape, y2.shape"
   ]
  },
  {
   "cell_type": "code",
   "execution_count": 12,
   "metadata": {},
   "outputs": [
    {
     "data": {
      "text/plain": [
       "((21, 6), (21,))"
      ]
     },
     "execution_count": 12,
     "metadata": {},
     "output_type": "execute_result"
    }
   ],
   "source": [
    "X3 = X[idx[128:]]\n",
    "y3 = y[idx[128:]]\n",
    "X3 = (X3 - X3.mean(axis=0)) / X3.std(axis=0)\n",
    "X3.shape, y3.shape"
   ]
  },
  {
   "cell_type": "code",
   "execution_count": null,
   "metadata": {},
   "outputs": [],
   "source": []
  },
  {
   "cell_type": "code",
   "execution_count": 3,
   "metadata": {},
   "outputs": [],
   "source": [
    "import tensorflow as tf\n",
    "from tensorflow import keras"
   ]
  },
  {
   "cell_type": "code",
   "execution_count": 14,
   "metadata": {},
   "outputs": [
    {
     "data": {
      "text/plain": [
       "<tf.Tensor: shape=(7,), dtype=int32, numpy=array([0, 0, 0, 0, 1, 2, 3])>"
      ]
     },
     "execution_count": 14,
     "metadata": {},
     "output_type": "execute_result"
    }
   ],
   "source": [
    "tf.nn.relu([-3,-2,-1,0,1,2,3])"
   ]
  },
  {
   "cell_type": "code",
   "execution_count": 17,
   "metadata": {},
   "outputs": [
    {
     "data": {
      "text/plain": [
       "0.0"
      ]
     },
     "execution_count": 17,
     "metadata": {},
     "output_type": "execute_result"
    }
   ],
   "source": [
    "tf.math.sin(0.).numpy()"
   ]
  },
  {
   "cell_type": "code",
   "execution_count": null,
   "metadata": {},
   "outputs": [],
   "source": []
  },
  {
   "cell_type": "markdown",
   "metadata": {},
   "source": [
    "### MNIST 경사하강법 적용"
   ]
  },
  {
   "cell_type": "code",
   "execution_count": 4,
   "metadata": {},
   "outputs": [
    {
     "data": {
      "text/plain": [
       "((60000, 28, 28), (60000,), (10000, 28, 28), (10000,))"
      ]
     },
     "execution_count": 4,
     "metadata": {},
     "output_type": "execute_result"
    }
   ],
   "source": [
    "(X_train, y_train), (X_test, y_test) = keras.datasets.mnist.load_data()\n",
    "X_train.shape, y_train.shape, X_test.shape, y_test.shape"
   ]
  },
  {
   "cell_type": "code",
   "execution_count": 5,
   "metadata": {},
   "outputs": [
    {
     "data": {
      "text/plain": [
       "(0, 255)"
      ]
     },
     "execution_count": 5,
     "metadata": {},
     "output_type": "execute_result"
    }
   ],
   "source": [
    "X_train.min(), X_train.max()"
   ]
  },
  {
   "cell_type": "code",
   "execution_count": 6,
   "metadata": {},
   "outputs": [
    {
     "data": {
      "text/plain": [
       "Text(0.5, 1.0, '5')"
      ]
     },
     "execution_count": 6,
     "metadata": {},
     "output_type": "execute_result"
    },
    {
     "data": {
      "image/png": "[encoded data removed]",
      "text/plain": [
       "<Figure size 432x288 with 1 Axes>"
      ]
     },
     "metadata": {
      "needs_background": "light"
     },
     "output_type": "display_data"
    }
   ],
   "source": [
    "plt.imshow(X_train[0], cmap='gray_r', vmin=0, vmax=255)\n",
    "plt.title(y_train[0])"
   ]
  },
  {
   "cell_type": "code",
   "execution_count": 7,
   "metadata": {},
   "outputs": [
    {
     "data": {
      "text/plain": [
       "((60000, 784), (10000, 784))"
      ]
     },
     "execution_count": 7,
     "metadata": {},
     "output_type": "execute_result"
    }
   ],
   "source": [
    "X_train = X_train.reshape(-1, 28*28)/255\n",
    "X_test = X_test.reshape(-1,28*28)/255\n",
    "X_train.shape, X_test.shape"
   ]
  },
  {
   "cell_type": "code",
   "execution_count": null,
   "metadata": {},
   "outputs": [],
   "source": []
  },
  {
   "cell_type": "code",
   "execution_count": 8,
   "metadata": {},
   "outputs": [
    {
     "name": "stdout",
     "output_type": "stream",
     "text": [
      "0 2.6863733916304624\n",
      "1 2.5029410685145024\n",
      "2 2.3655447320739897\n",
      "3 2.250500081998989\n",
      "4 2.149994053659922\n",
      "5 2.060288619129308\n",
      "6 1.979053966370025\n",
      "7 1.9046631576212585\n",
      "8 1.8359888912185245\n",
      "9 1.7722696064812165\n"
     ]
    }
   ],
   "source": [
    "# 가중치 초기화\n",
    "W = tf.Variable(np.random.normal(0, 0.1, size=[784,10]))\n",
    "b = tf.Variable(np.zeros(10))\n",
    "\n",
    "y_onehot = np.eye(10)[y_train]\n",
    "eps = np.finfo(float).eps\n",
    "lr = 0.1\n",
    "losses = []\n",
    "\n",
    "for epoch in range(10):\n",
    "    with tf.GradientTape() as tape:\n",
    "        pred_y = tf.nn.softmax(X_train@W + b)\n",
    "        # categorical cross-entropy : -log(p)\n",
    "        loss = tf.reduce_sum(-y_onehot*tf.math.log(pred_y+eps)) / len(y_train)\n",
    "        \n",
    "    W_grads, b_grads = tape.gradient(loss, [W,b]) # 기울기를 구함\n",
    "    \n",
    "    W.assign_sub(lr*W_grads)\n",
    "    b.assign_sub(lr*b_grads)\n",
    "    \n",
    "    losses.append(loss.numpy())\n",
    "    print(epoch, loss.numpy())"
   ]
  },
  {
   "cell_type": "code",
   "execution_count": 51,
   "metadata": {},
   "outputs": [
    {
     "data": {
      "text/plain": [
       "[<matplotlib.lines.Line2D at 0x2018c4c1670>]"
      ]
     },
     "execution_count": 51,
     "metadata": {},
     "output_type": "execute_result"
    },
    {
     "data": {
      "image/png": "[encoded data removed]",
      "text/plain": [
       "<Figure size 432x288 with 1 Axes>"
      ]
     },
     "metadata": {
      "needs_background": "light"
     },
     "output_type": "display_data"
    }
   ],
   "source": [
    "plt.plot(losses)"
   ]
  },
  {
   "cell_type": "code",
   "execution_count": null,
   "metadata": {},
   "outputs": [],
   "source": []
  },
  {
   "cell_type": "code",
   "execution_count": 60,
   "metadata": {},
   "outputs": [
    {
     "name": "stdout",
     "output_type": "stream",
     "text": [
      "0 0.43802610857465224\n",
      "1 0.3820200167254793\n",
      "2 0.359298177209226\n",
      "3 0.345961321198954\n",
      "4 0.3366832847189671\n",
      "5 0.329592943488348\n",
      "6 0.3238549126610683\n",
      "7 0.3190333654294544\n",
      "8 0.31487429440112263\n",
      "9 0.3112169462706537\n"
     ]
    }
   ],
   "source": [
    "# 가중치 초기화\n",
    "W = tf.Variable(np.random.normal(0, 0.1, size=[784,10]))\n",
    "b = tf.Variable(np.zeros(10))\n",
    "\n",
    "y_onehot = np.eye(10)[y_train]\n",
    "eps = np.finfo(float).eps\n",
    "lr = 0.1\n",
    "losses = []\n",
    "\n",
    "for epoch in range(10):\n",
    "    for batch in range(600): # batch_size=100\n",
    "        with tf.GradientTape() as tape:\n",
    "            pred_y = tf.nn.softmax(X_train[batch*100:(batch+1)*100]@W + b)\n",
    "            # categorical cross-entropy : -log(p)\n",
    "            loss = tf.reduce_sum(-y_onehot[batch*100:(batch+1)*100]*tf.math.log(pred_y+eps))/100\n",
    "\n",
    "        W_grads, b_grads = tape.gradient(loss, [W,b]) # 기울기를 구함\n",
    "\n",
    "        W.assign_sub(lr*W_grads)\n",
    "        b.assign_sub(lr*b_grads)\n",
    "    \n",
    "    losses.append(loss.numpy())\n",
    "    print(epoch, loss.numpy())"
   ]
  },
  {
   "cell_type": "code",
   "execution_count": null,
   "metadata": {},
   "outputs": [],
   "source": []
  },
  {
   "cell_type": "markdown",
   "metadata": {},
   "source": [
    "### Keras"
   ]
  },
  {
   "cell_type": "code",
   "execution_count": 11,
   "metadata": {},
   "outputs": [
    {
     "data": {
      "text/plain": [
       "tensorflow.python.keras.optimizer_v2.rmsprop.RMSprop"
      ]
     },
     "execution_count": 11,
     "metadata": {},
     "output_type": "execute_result"
    }
   ],
   "source": [
    "from tensorflow import keras # tensorflow 2.0\n",
    "keras.optimizers.RMSprop"
   ]
  },
  {
   "cell_type": "code",
   "execution_count": 10,
   "metadata": {},
   "outputs": [
    {
     "data": {
      "text/plain": [
       "tensorflow.python.keras.optimizer_v2.rmsprop.RMSprop"
      ]
     },
     "execution_count": 10,
     "metadata": {},
     "output_type": "execute_result"
    }
   ],
   "source": [
    "tf.keras.optimizers.RMSprop"
   ]
  },
  {
   "cell_type": "code",
   "execution_count": null,
   "metadata": {},
   "outputs": [],
   "source": []
  },
  {
   "cell_type": "code",
   "execution_count": 16,
   "metadata": {},
   "outputs": [],
   "source": [
    "model = keras.models.Sequential()\n",
    "model.add(keras.layers.Dense(10, input_shape=(784,), activation='softmax'))"
   ]
  },
  {
   "cell_type": "code",
   "execution_count": 17,
   "metadata": {
    "scrolled": true
   },
   "outputs": [
    {
     "name": "stdout",
     "output_type": "stream",
     "text": [
      "Epoch 1/100\n",
      "600/600 [==============================] - 2s 2ms/step - loss: 1.5397\n",
      "Epoch 2/100\n",
      "600/600 [==============================] - 1s 2ms/step - loss: 0.6951\n",
      "Epoch 3/100\n",
      "600/600 [==============================] - 1s 2ms/step - loss: 0.5619\n",
      "Epoch 4/100\n",
      "600/600 [==============================] - 1s 2ms/step - loss: 0.5069\n",
      "Epoch 5/100\n",
      "600/600 [==============================] - 1s 2ms/step - loss: 0.4614\n",
      "Epoch 6/100\n",
      "600/600 [==============================] - 1s 2ms/step - loss: 0.4425\n",
      "Epoch 7/100\n",
      "600/600 [==============================] - 1s 2ms/step - loss: 0.4181\n",
      "Epoch 8/100\n",
      "600/600 [==============================] - 1s 2ms/step - loss: 0.4113\n",
      "Epoch 9/100\n",
      "600/600 [==============================] - 1s 2ms/step - loss: 0.3998\n",
      "Epoch 10/100\n",
      "600/600 [==============================] - 1s 2ms/step - loss: 0.3885\n",
      "Epoch 11/100\n",
      "600/600 [==============================] - 1s 2ms/step - loss: 0.3824\n",
      "Epoch 12/100\n",
      "600/600 [==============================] - 1s 2ms/step - loss: 0.3737\n",
      "Epoch 13/100\n",
      "600/600 [==============================] - 1s 2ms/step - loss: 0.3652\n",
      "Epoch 14/100\n",
      "600/600 [==============================] - 1s 2ms/step - loss: 0.3595\n",
      "Epoch 15/100\n",
      "600/600 [==============================] - 1s 2ms/step - loss: 0.3578\n",
      "Epoch 16/100\n",
      "600/600 [==============================] - 1s 2ms/step - loss: 0.3496\n",
      "Epoch 17/100\n",
      "600/600 [==============================] - 1s 2ms/step - loss: 0.3507\n",
      "Epoch 18/100\n",
      "600/600 [==============================] - 1s 2ms/step - loss: 0.3480\n",
      "Epoch 19/100\n",
      "600/600 [==============================] - 1s 2ms/step - loss: 0.3428\n",
      "Epoch 20/100\n",
      "600/600 [==============================] - 1s 2ms/step - loss: 0.3424\n",
      "Epoch 21/100\n",
      "600/600 [==============================] - 1s 2ms/step - loss: 0.3381\n",
      "Epoch 22/100\n",
      "600/600 [==============================] - 1s 2ms/step - loss: 0.3360\n",
      "Epoch 23/100\n",
      "600/600 [==============================] - 1s 2ms/step - loss: 0.3308\n",
      "Epoch 24/100\n",
      "600/600 [==============================] - 1s 2ms/step - loss: 0.3346\n",
      "Epoch 25/100\n",
      "600/600 [==============================] - 1s 2ms/step - loss: 0.3285\n",
      "Epoch 26/100\n",
      "600/600 [==============================] - 1s 2ms/step - loss: 0.3361A: 0s - loss: 0.336\n",
      "Epoch 27/100\n",
      "600/600 [==============================] - 1s 2ms/step - loss: 0.3230\n",
      "Epoch 28/100\n",
      "600/600 [==============================] - 1s 2ms/step - loss: 0.3244\n",
      "Epoch 29/100\n",
      "600/600 [==============================] - 1s 2ms/step - loss: 0.3253\n",
      "Epoch 30/100\n",
      "600/600 [==============================] - 1s 2ms/step - loss: 0.3285\n",
      "Epoch 31/100\n",
      "600/600 [==============================] - 1s 2ms/step - loss: 0.3134\n",
      "Epoch 32/100\n",
      "600/600 [==============================] - 1s 2ms/step - loss: 0.3181\n",
      "Epoch 33/100\n",
      "600/600 [==============================] - 1s 2ms/step - loss: 0.3191\n",
      "Epoch 34/100\n",
      "600/600 [==============================] - 1s 2ms/step - loss: 0.3149\n",
      "Epoch 35/100\n",
      "600/600 [==============================] - 1s 2ms/step - loss: 0.3144\n",
      "Epoch 36/100\n",
      "600/600 [==============================] - 1s 2ms/step - loss: 0.3138\n",
      "Epoch 37/100\n",
      "600/600 [==============================] - 1s 2ms/step - loss: 0.3095\n",
      "Epoch 38/100\n",
      "600/600 [==============================] - 1s 2ms/step - loss: 0.3123\n",
      "Epoch 39/100\n",
      "600/600 [==============================] - 1s 2ms/step - loss: 0.3088\n",
      "Epoch 40/100\n",
      "600/600 [==============================] - 1s 2ms/step - loss: 0.3041\n",
      "Epoch 41/100\n",
      "600/600 [==============================] - 1s 2ms/step - loss: 0.3045\n",
      "Epoch 42/100\n",
      "600/600 [==============================] - 1s 2ms/step - loss: 0.3092\n",
      "Epoch 43/100\n",
      "600/600 [==============================] - 1s 2ms/step - loss: 0.3084\n",
      "Epoch 44/100\n",
      "600/600 [==============================] - 1s 2ms/step - loss: 0.3102\n",
      "Epoch 45/100\n",
      "600/600 [==============================] - 1s 2ms/step - loss: 0.3013\n",
      "Epoch 46/100\n",
      "600/600 [==============================] - 1s 2ms/step - loss: 0.3037\n",
      "Epoch 47/100\n",
      "600/600 [==============================] - 1s 2ms/step - loss: 0.3002\n",
      "Epoch 48/100\n",
      "600/600 [==============================] - 1s 2ms/step - loss: 0.3120\n",
      "Epoch 49/100\n",
      "600/600 [==============================] - 1s 2ms/step - loss: 0.3010\n",
      "Epoch 50/100\n",
      "600/600 [==============================] - 1s 2ms/step - loss: 0.3011\n",
      "Epoch 51/100\n",
      "600/600 [==============================] - 1s 2ms/step - loss: 0.3011\n",
      "Epoch 52/100\n",
      "600/600 [==============================] - 2s 3ms/step - loss: 0.3015\n",
      "Epoch 53/100\n",
      "600/600 [==============================] - 2s 3ms/step - loss: 0.2958\n",
      "Epoch 54/100\n",
      "600/600 [==============================] - 2s 3ms/step - loss: 0.3019\n",
      "Epoch 55/100\n",
      "600/600 [==============================] - 2s 3ms/step - loss: 0.2970\n",
      "Epoch 56/100\n",
      "600/600 [==============================] - 2s 3ms/step - loss: 0.2934\n",
      "Epoch 57/100\n",
      "600/600 [==============================] - 2s 3ms/step - loss: 0.2951\n",
      "Epoch 58/100\n",
      "600/600 [==============================] - 2s 3ms/step - loss: 0.2891\n",
      "Epoch 59/100\n",
      "600/600 [==============================] - 2s 3ms/step - loss: 0.3006\n",
      "Epoch 60/100\n",
      "600/600 [==============================] - 2s 3ms/step - loss: 0.2955\n",
      "Epoch 61/100\n",
      "600/600 [==============================] - 2s 3ms/step - loss: 0.2957\n",
      "Epoch 62/100\n",
      "600/600 [==============================] - 2s 3ms/step - loss: 0.2881\n",
      "Epoch 63/100\n",
      "600/600 [==============================] - 2s 3ms/step - loss: 0.2992\n",
      "Epoch 64/100\n",
      "600/600 [==============================] - 2s 3ms/step - loss: 0.2951\n",
      "Epoch 65/100\n",
      "600/600 [==============================] - 2s 3ms/step - loss: 0.2954\n",
      "Epoch 66/100\n",
      "600/600 [==============================] - 2s 3ms/step - loss: 0.2927\n",
      "Epoch 67/100\n",
      "600/600 [==============================] - 1s 2ms/step - loss: 0.2971\n",
      "Epoch 68/100\n",
      "600/600 [==============================] - 1s 2ms/step - loss: 0.2909\n",
      "Epoch 69/100\n",
      "600/600 [==============================] - 1s 2ms/step - loss: 0.2914\n",
      "Epoch 70/100\n",
      "600/600 [==============================] - 2s 3ms/step - loss: 0.2903\n",
      "Epoch 71/100\n",
      "600/600 [==============================] - 2s 3ms/step - loss: 0.2824\n",
      "Epoch 72/100\n",
      "600/600 [==============================] - 2s 3ms/step - loss: 0.2904\n",
      "Epoch 73/100\n",
      "600/600 [==============================] - 2s 3ms/step - loss: 0.2912\n",
      "Epoch 74/100\n",
      "600/600 [==============================] - 2s 3ms/step - loss: 0.2893\n",
      "Epoch 75/100\n",
      "600/600 [==============================] - 2s 3ms/step - loss: 0.2915\n",
      "Epoch 76/100\n",
      "600/600 [==============================] - 2s 3ms/step - loss: 0.2922\n",
      "Epoch 77/100\n",
      "600/600 [==============================] - 2s 3ms/step - loss: 0.2843\n",
      "Epoch 78/100\n",
      "600/600 [==============================] - 2s 3ms/step - loss: 0.2899\n",
      "Epoch 79/100\n",
      "600/600 [==============================] - 2s 3ms/step - loss: 0.2834\n",
      "Epoch 80/100\n",
      "600/600 [==============================] - 2s 3ms/step - loss: 0.2927\n",
      "Epoch 81/100\n",
      "600/600 [==============================] - 2s 3ms/step - loss: 0.2945\n",
      "Epoch 82/100\n",
      "600/600 [==============================] - 2s 3ms/step - loss: 0.2871\n",
      "Epoch 83/100\n",
      "600/600 [==============================] - 2s 3ms/step - loss: 0.2887\n",
      "Epoch 84/100\n",
      "600/600 [==============================] - 2s 3ms/step - loss: 0.2820\n",
      "Epoch 85/100\n",
      "600/600 [==============================] - 2s 3ms/step - loss: 0.2874\n",
      "Epoch 86/100\n",
      "600/600 [==============================] - 2s 3ms/step - loss: 0.2831\n",
      "Epoch 87/100\n",
      "600/600 [==============================] - 2s 3ms/step - loss: 0.2891\n",
      "Epoch 88/100\n",
      "600/600 [==============================] - 2s 3ms/step - loss: 0.2810\n",
      "Epoch 89/100\n",
      "600/600 [==============================] - 2s 3ms/step - loss: 0.2831\n",
      "Epoch 90/100\n",
      "600/600 [==============================] - 2s 3ms/step - loss: 0.2836\n",
      "Epoch 91/100\n",
      "600/600 [==============================] - 2s 3ms/step - loss: 0.2798\n",
      "Epoch 92/100\n",
      "600/600 [==============================] - 2s 3ms/step - loss: 0.2805\n",
      "Epoch 93/100\n",
      "600/600 [==============================] - 2s 3ms/step - loss: 0.2803\n",
      "Epoch 94/100\n",
      "600/600 [==============================] - 2s 3ms/step - loss: 0.2785\n",
      "Epoch 95/100\n",
      "600/600 [==============================] - 2s 3ms/step - loss: 0.2811\n",
      "Epoch 96/100\n",
      "600/600 [==============================] - 2s 3ms/step - loss: 0.2823\n",
      "Epoch 97/100\n",
      "600/600 [==============================] - 2s 3ms/step - loss: 0.2764\n",
      "Epoch 98/100\n",
      "600/600 [==============================] - 2s 3ms/step - loss: 0.2790\n",
      "Epoch 99/100\n",
      "600/600 [==============================] - 2s 3ms/step - loss: 0.2882\n",
      "Epoch 100/100\n",
      "600/600 [==============================] - 2s 3ms/step - loss: 0.2774\n"
     ]
    },
    {
     "data": {
      "text/plain": [
       "<tensorflow.python.keras.callbacks.History at 0x13a386c4c40>"
      ]
     },
     "execution_count": 17,
     "metadata": {},
     "output_type": "execute_result"
    }
   ],
   "source": [
    "model.compile(loss='categorical_crossentropy', optimizer='sgd')\n",
    "y_onehot = np.eye(10)[y_train]\n",
    "model.fit(X_train, y_onehot, batch_size=100, epochs=100)"
   ]
  },
  {
   "cell_type": "code",
   "execution_count": 18,
   "metadata": {
    "collapsed": true,
    "jupyter": {
     "outputs_hidden": true
    }
   },
   "outputs": [
    {
     "data": {
      "text/plain": [
       "[<matplotlib.lines.Line2D at 0x13a386cab80>]"
      ]
     },
     "execution_count": 18,
     "metadata": {},
     "output_type": "execute_result"
    },
    {
     "data": {
      "image/png": "[encoded data removed]",
      "text/plain": [
       "<Figure size 432x288 with 1 Axes>"
      ]
     },
     "metadata": {
      "needs_background": "light"
     },
     "output_type": "display_data"
    }
   ],
   "source": [
    "h = model.history.history\n",
    "plt.plot(h['loss'])"
   ]
  },
  {
   "cell_type": "code",
   "execution_count": null,
   "metadata": {},
   "outputs": [],
   "source": []
  },
  {
   "cell_type": "code",
   "execution_count": 19,
   "metadata": {},
   "outputs": [],
   "source": [
    "model = keras.models.Sequential()\n",
    "model.add(keras.layers.Dense(10, input_shape=(784,), activation='softmax'))"
   ]
  },
  {
   "cell_type": "code",
   "execution_count": 20,
   "metadata": {
    "scrolled": true
   },
   "outputs": [
    {
     "name": "stdout",
     "output_type": "stream",
     "text": [
      "Epoch 1/100\n",
      "480/480 [==============================] - 3s 5ms/step - loss: 1.6837 - acc: 0.5144 - val_loss: 0.8080 - val_acc: 0.8408\n",
      "Epoch 2/100\n",
      "480/480 [==============================] - 2s 3ms/step - loss: 0.7714 - acc: 0.8324 - val_loss: 0.5992 - val_acc: 0.8673\n",
      "Epoch 3/100\n",
      "480/480 [==============================] - 2s 3ms/step - loss: 0.6150 - acc: 0.8536 - val_loss: 0.5173 - val_acc: 0.8773\n",
      "Epoch 4/100\n",
      "480/480 [==============================] - 2s 3ms/step - loss: 0.5374 - acc: 0.8679 - val_loss: 0.4723 - val_acc: 0.8842\n",
      "Epoch 5/100\n",
      "480/480 [==============================] - 2s 3ms/step - loss: 0.4992 - acc: 0.8731 - val_loss: 0.4435 - val_acc: 0.8881\n",
      "Epoch 6/100\n",
      "480/480 [==============================] - 2s 3ms/step - loss: 0.4648 - acc: 0.8794 - val_loss: 0.4230 - val_acc: 0.8923\n",
      "Epoch 7/100\n",
      "480/480 [==============================] - 2s 3ms/step - loss: 0.4431 - acc: 0.8848 - val_loss: 0.4075 - val_acc: 0.8951\n",
      "Epoch 8/100\n",
      "480/480 [==============================] - 2s 3ms/step - loss: 0.4367 - acc: 0.8839 - val_loss: 0.3955 - val_acc: 0.8982\n",
      "Epoch 9/100\n",
      "480/480 [==============================] - 2s 4ms/step - loss: 0.4210 - acc: 0.8902 - val_loss: 0.3858 - val_acc: 0.8984\n",
      "Epoch 10/100\n",
      "480/480 [==============================] - 2s 3ms/step - loss: 0.4144 - acc: 0.8888 - val_loss: 0.3774 - val_acc: 0.8999\n",
      "Epoch 11/100\n",
      "480/480 [==============================] - 2s 3ms/step - loss: 0.4001 - acc: 0.8924 - val_loss: 0.3706 - val_acc: 0.9019\n",
      "Epoch 12/100\n",
      "480/480 [==============================] - 2s 3ms/step - loss: 0.3955 - acc: 0.8911 - val_loss: 0.3645 - val_acc: 0.9036\n",
      "Epoch 13/100\n",
      "480/480 [==============================] - 2s 3ms/step - loss: 0.3871 - acc: 0.8949 - val_loss: 0.3592 - val_acc: 0.9046\n",
      "Epoch 14/100\n",
      "480/480 [==============================] - 2s 3ms/step - loss: 0.3798 - acc: 0.8973 - val_loss: 0.3547 - val_acc: 0.9043\n",
      "Epoch 15/100\n",
      "480/480 [==============================] - 2s 3ms/step - loss: 0.3745 - acc: 0.8969 - val_loss: 0.3505 - val_acc: 0.9063\n",
      "Epoch 16/100\n",
      "480/480 [==============================] - 2s 3ms/step - loss: 0.3694 - acc: 0.8991 - val_loss: 0.3467 - val_acc: 0.9066\n",
      "Epoch 17/100\n",
      "480/480 [==============================] - 2s 3ms/step - loss: 0.3667 - acc: 0.8996 - val_loss: 0.3435 - val_acc: 0.9072\n",
      "Epoch 18/100\n",
      "480/480 [==============================] - 2s 3ms/step - loss: 0.3648 - acc: 0.9013 - val_loss: 0.3403 - val_acc: 0.9082\n",
      "Epoch 19/100\n",
      "480/480 [==============================] - 2s 3ms/step - loss: 0.3612 - acc: 0.9017 - val_loss: 0.3376 - val_acc: 0.9084\n",
      "Epoch 20/100\n",
      "480/480 [==============================] - 2s 3ms/step - loss: 0.3553 - acc: 0.9047 - val_loss: 0.3350 - val_acc: 0.9093\n",
      "Epoch 21/100\n",
      "480/480 [==============================] - 2s 3ms/step - loss: 0.3511 - acc: 0.9026 - val_loss: 0.3326 - val_acc: 0.9091\n",
      "Epoch 22/100\n",
      "480/480 [==============================] - 2s 3ms/step - loss: 0.3458 - acc: 0.9054 - val_loss: 0.3305 - val_acc: 0.9093\n",
      "Epoch 23/100\n",
      "480/480 [==============================] - 2s 3ms/step - loss: 0.3456 - acc: 0.9059 - val_loss: 0.3282 - val_acc: 0.9111\n",
      "Epoch 24/100\n",
      "480/480 [==============================] - 2s 3ms/step - loss: 0.3449 - acc: 0.9047 - val_loss: 0.3264 - val_acc: 0.9108\n",
      "Epoch 25/100\n",
      "480/480 [==============================] - 2s 3ms/step - loss: 0.3449 - acc: 0.9047 - val_loss: 0.3247 - val_acc: 0.9115\n",
      "Epoch 26/100\n",
      "480/480 [==============================] - 2s 3ms/step - loss: 0.3447 - acc: 0.9041 - val_loss: 0.3228 - val_acc: 0.9118\n",
      "Epoch 27/100\n",
      "480/480 [==============================] - 2s 3ms/step - loss: 0.3376 - acc: 0.9061 - val_loss: 0.3215 - val_acc: 0.9124\n",
      "Epoch 28/100\n",
      "480/480 [==============================] - 2s 3ms/step - loss: 0.3373 - acc: 0.9068 - val_loss: 0.3197 - val_acc: 0.9129\n",
      "Epoch 29/100\n",
      "480/480 [==============================] - 2s 4ms/step - loss: 0.3362 - acc: 0.9064 - val_loss: 0.3183 - val_acc: 0.9129\n",
      "Epoch 30/100\n",
      "480/480 [==============================] - 2s 4ms/step - loss: 0.3305 - acc: 0.9082 - val_loss: 0.3170 - val_acc: 0.9142\n",
      "Epoch 31/100\n",
      "480/480 [==============================] - 2s 3ms/step - loss: 0.3284 - acc: 0.9090 - val_loss: 0.3157 - val_acc: 0.9137\n",
      "Epoch 32/100\n",
      "480/480 [==============================] - 2s 4ms/step - loss: 0.3309 - acc: 0.9091 - val_loss: 0.3147 - val_acc: 0.9137\n",
      "Epoch 33/100\n",
      "480/480 [==============================] - 2s 3ms/step - loss: 0.3291 - acc: 0.9078 - val_loss: 0.3133 - val_acc: 0.9144\n",
      "Epoch 34/100\n",
      "480/480 [==============================] - 2s 3ms/step - loss: 0.3292 - acc: 0.9093 - val_loss: 0.3123 - val_acc: 0.9150\n",
      "Epoch 35/100\n",
      "480/480 [==============================] - 2s 3ms/step - loss: 0.3282 - acc: 0.9081 - val_loss: 0.3112 - val_acc: 0.9151\n",
      "Epoch 36/100\n",
      "480/480 [==============================] - 2s 3ms/step - loss: 0.3229 - acc: 0.9089 - val_loss: 0.3101 - val_acc: 0.9148\n",
      "Epoch 37/100\n",
      "480/480 [==============================] - 2s 3ms/step - loss: 0.3189 - acc: 0.9128 - val_loss: 0.3092 - val_acc: 0.9148\n",
      "Epoch 38/100\n",
      "480/480 [==============================] - 2s 3ms/step - loss: 0.3214 - acc: 0.9109 - val_loss: 0.3083 - val_acc: 0.9157\n",
      "Epoch 39/100\n",
      "480/480 [==============================] - 2s 3ms/step - loss: 0.3127 - acc: 0.9118 - val_loss: 0.3073 - val_acc: 0.9150\n",
      "Epoch 40/100\n",
      "480/480 [==============================] - 2s 3ms/step - loss: 0.3246 - acc: 0.9114 - val_loss: 0.3065 - val_acc: 0.9158\n",
      "Epoch 41/100\n",
      "480/480 [==============================] - 2s 3ms/step - loss: 0.3146 - acc: 0.9132 - val_loss: 0.3058 - val_acc: 0.9153\n",
      "Epoch 42/100\n",
      "480/480 [==============================] - 2s 3ms/step - loss: 0.3161 - acc: 0.9129 - val_loss: 0.3049 - val_acc: 0.9157\n",
      "Epoch 43/100\n",
      "480/480 [==============================] - 2s 3ms/step - loss: 0.3192 - acc: 0.9121 - val_loss: 0.3042 - val_acc: 0.9154\n",
      "Epoch 44/100\n",
      "480/480 [==============================] - 2s 3ms/step - loss: 0.3197 - acc: 0.9114 - val_loss: 0.3033 - val_acc: 0.9164\n",
      "Epoch 45/100\n",
      "480/480 [==============================] - 2s 4ms/step - loss: 0.3159 - acc: 0.9126 - val_loss: 0.3026 - val_acc: 0.9163\n",
      "Epoch 46/100\n",
      "480/480 [==============================] - 2s 5ms/step - loss: 0.3094 - acc: 0.9150 - val_loss: 0.3020 - val_acc: 0.9159\n",
      "Epoch 47/100\n",
      "480/480 [==============================] - 2s 4ms/step - loss: 0.3165 - acc: 0.9132 - val_loss: 0.3014 - val_acc: 0.9162\n",
      "Epoch 48/100\n",
      "480/480 [==============================] - 2s 4ms/step - loss: 0.3075 - acc: 0.9137 - val_loss: 0.3007 - val_acc: 0.9157\n",
      "Epoch 49/100\n",
      "480/480 [==============================] - 2s 5ms/step - loss: 0.3129 - acc: 0.9130 - val_loss: 0.3001 - val_acc: 0.9162\n",
      "Epoch 50/100\n",
      "480/480 [==============================] - 2s 5ms/step - loss: 0.3107 - acc: 0.9134 - val_loss: 0.2994 - val_acc: 0.9168\n",
      "Epoch 51/100\n",
      "480/480 [==============================] - 2s 4ms/step - loss: 0.3104 - acc: 0.9141 - val_loss: 0.2989 - val_acc: 0.9159\n",
      "Epoch 52/100\n",
      "480/480 [==============================] - 2s 5ms/step - loss: 0.3093 - acc: 0.9144 - val_loss: 0.2982 - val_acc: 0.9168\n",
      "Epoch 53/100\n",
      "480/480 [==============================] - 2s 4ms/step - loss: 0.3101 - acc: 0.9150 - val_loss: 0.2978 - val_acc: 0.9161\n",
      "Epoch 54/100\n",
      "480/480 [==============================] - 2s 4ms/step - loss: 0.3036 - acc: 0.9174 - val_loss: 0.2972 - val_acc: 0.9168\n",
      "Epoch 55/100\n",
      "480/480 [==============================] - 2s 4ms/step - loss: 0.3085 - acc: 0.9139 - val_loss: 0.2968 - val_acc: 0.9162\n",
      "Epoch 56/100\n",
      "480/480 [==============================] - 2s 4ms/step - loss: 0.3117 - acc: 0.9141 - val_loss: 0.2961 - val_acc: 0.9163\n",
      "Epoch 57/100\n",
      "480/480 [==============================] - 2s 4ms/step - loss: 0.3023 - acc: 0.9156 - val_loss: 0.2958 - val_acc: 0.9166\n",
      "Epoch 58/100\n",
      "480/480 [==============================] - 2s 4ms/step - loss: 0.3095 - acc: 0.9140 - val_loss: 0.2953 - val_acc: 0.9171\n",
      "Epoch 59/100\n",
      "480/480 [==============================] - 2s 4ms/step - loss: 0.3043 - acc: 0.9150 - val_loss: 0.2948 - val_acc: 0.9177\n",
      "Epoch 60/100\n",
      "480/480 [==============================] - 2s 5ms/step - loss: 0.3070 - acc: 0.9148 - val_loss: 0.2942 - val_acc: 0.9178\n",
      "Epoch 61/100\n",
      "480/480 [==============================] - 2s 4ms/step - loss: 0.3096 - acc: 0.9136 - val_loss: 0.2939 - val_acc: 0.9175\n",
      "Epoch 62/100\n",
      "480/480 [==============================] - 2s 4ms/step - loss: 0.3029 - acc: 0.9165 - val_loss: 0.2935 - val_acc: 0.9178\n",
      "Epoch 63/100\n",
      "480/480 [==============================] - 2s 4ms/step - loss: 0.3057 - acc: 0.9158 - val_loss: 0.2931 - val_acc: 0.9178\n",
      "Epoch 64/100\n",
      "480/480 [==============================] - 2s 4ms/step - loss: 0.3062 - acc: 0.9155 - val_loss: 0.2926 - val_acc: 0.9178\n",
      "Epoch 65/100\n",
      "480/480 [==============================] - 2s 4ms/step - loss: 0.3078 - acc: 0.9149 - val_loss: 0.2925 - val_acc: 0.9180\n",
      "Epoch 66/100\n",
      "480/480 [==============================] - 2s 4ms/step - loss: 0.3012 - acc: 0.9164 - val_loss: 0.2918 - val_acc: 0.9183\n",
      "Epoch 67/100\n",
      "480/480 [==============================] - 2s 4ms/step - loss: 0.2976 - acc: 0.9187 - val_loss: 0.2915 - val_acc: 0.9184\n",
      "Epoch 68/100\n",
      "480/480 [==============================] - 2s 4ms/step - loss: 0.2994 - acc: 0.9178 - val_loss: 0.2912 - val_acc: 0.9181\n",
      "Epoch 69/100\n",
      "480/480 [==============================] - 2s 4ms/step - loss: 0.3072 - acc: 0.9142 - val_loss: 0.2908 - val_acc: 0.9186\n",
      "Epoch 70/100\n",
      "480/480 [==============================] - 2s 4ms/step - loss: 0.3015 - acc: 0.9163 - val_loss: 0.2905 - val_acc: 0.9185\n",
      "Epoch 71/100\n",
      "480/480 [==============================] - 2s 4ms/step - loss: 0.3016 - acc: 0.9151 - val_loss: 0.2901 - val_acc: 0.9187\n",
      "Epoch 72/100\n",
      "480/480 [==============================] - 2s 4ms/step - loss: 0.2995 - acc: 0.9168 - val_loss: 0.2897 - val_acc: 0.9188\n",
      "Epoch 73/100\n",
      "480/480 [==============================] - 2s 4ms/step - loss: 0.2941 - acc: 0.9188 - val_loss: 0.2895 - val_acc: 0.9194\n",
      "Epoch 74/100\n",
      "480/480 [==============================] - 2s 4ms/step - loss: 0.2935 - acc: 0.9190 - val_loss: 0.2890 - val_acc: 0.9195\n",
      "Epoch 75/100\n",
      "480/480 [==============================] - 2s 4ms/step - loss: 0.2986 - acc: 0.9169 - val_loss: 0.2888 - val_acc: 0.9190\n",
      "Epoch 76/100\n",
      "480/480 [==============================] - 2s 4ms/step - loss: 0.3001 - acc: 0.9177 - val_loss: 0.2886 - val_acc: 0.9196\n",
      "Epoch 77/100\n",
      "480/480 [==============================] - 2s 4ms/step - loss: 0.3027 - acc: 0.9156 - val_loss: 0.2882 - val_acc: 0.9193\n",
      "Epoch 78/100\n",
      "480/480 [==============================] - 2s 4ms/step - loss: 0.2978 - acc: 0.9164 - val_loss: 0.2879 - val_acc: 0.9197\n",
      "Epoch 79/100\n",
      "480/480 [==============================] - 2s 4ms/step - loss: 0.2968 - acc: 0.9184 - val_loss: 0.2876 - val_acc: 0.9199\n",
      "Epoch 80/100\n",
      "480/480 [==============================] - 2s 4ms/step - loss: 0.2999 - acc: 0.9169 - val_loss: 0.2873 - val_acc: 0.9193\n",
      "Epoch 81/100\n",
      "480/480 [==============================] - 2s 5ms/step - loss: 0.2942 - acc: 0.9180 - val_loss: 0.2871 - val_acc: 0.9198\n",
      "Epoch 82/100\n",
      "480/480 [==============================] - 2s 4ms/step - loss: 0.2982 - acc: 0.9186 - val_loss: 0.2870 - val_acc: 0.9199\n",
      "Epoch 83/100\n",
      "480/480 [==============================] - 2s 4ms/step - loss: 0.2969 - acc: 0.9189 - val_loss: 0.2866 - val_acc: 0.9200\n",
      "Epoch 84/100\n",
      "480/480 [==============================] - 2s 4ms/step - loss: 0.2920 - acc: 0.9171 - val_loss: 0.2863 - val_acc: 0.9199\n",
      "Epoch 85/100\n",
      "480/480 [==============================] - 2s 4ms/step - loss: 0.3001 - acc: 0.9172 - val_loss: 0.2861 - val_acc: 0.9201\n",
      "Epoch 86/100\n",
      "480/480 [==============================] - 2s 4ms/step - loss: 0.2952 - acc: 0.9186 - val_loss: 0.2860 - val_acc: 0.9202\n",
      "Epoch 87/100\n",
      "480/480 [==============================] - 2s 4ms/step - loss: 0.2905 - acc: 0.9196 - val_loss: 0.2857 - val_acc: 0.9202\n",
      "Epoch 88/100\n",
      "480/480 [==============================] - 2s 4ms/step - loss: 0.2899 - acc: 0.9191 - val_loss: 0.2854 - val_acc: 0.9202\n",
      "Epoch 89/100\n",
      "480/480 [==============================] - 2s 4ms/step - loss: 0.2937 - acc: 0.9195 - val_loss: 0.2850 - val_acc: 0.9201\n",
      "Epoch 90/100\n",
      "480/480 [==============================] - 2s 4ms/step - loss: 0.2905 - acc: 0.9194 - val_loss: 0.2848 - val_acc: 0.9204\n",
      "Epoch 91/100\n",
      "480/480 [==============================] - 2s 4ms/step - loss: 0.2865 - acc: 0.9196 - val_loss: 0.2846 - val_acc: 0.9206\n",
      "Epoch 92/100\n",
      "480/480 [==============================] - 2s 4ms/step - loss: 0.2905 - acc: 0.9199 - val_loss: 0.2844 - val_acc: 0.9209\n",
      "Epoch 93/100\n",
      "480/480 [==============================] - 2s 4ms/step - loss: 0.2881 - acc: 0.9204 - val_loss: 0.2841 - val_acc: 0.9208\n",
      "Epoch 94/100\n",
      "480/480 [==============================] - 2s 4ms/step - loss: 0.2857 - acc: 0.9211 - val_loss: 0.2840 - val_acc: 0.9210\n",
      "Epoch 95/100\n",
      "480/480 [==============================] - 2s 4ms/step - loss: 0.2862 - acc: 0.9210 - val_loss: 0.2837 - val_acc: 0.9208\n",
      "Epoch 96/100\n",
      "480/480 [==============================] - 2s 4ms/step - loss: 0.2884 - acc: 0.9212 - val_loss: 0.2835 - val_acc: 0.9209\n",
      "Epoch 97/100\n",
      "480/480 [==============================] - 2s 4ms/step - loss: 0.2883 - acc: 0.9191 - val_loss: 0.2833 - val_acc: 0.9208\n",
      "Epoch 98/100\n",
      "480/480 [==============================] - 2s 4ms/step - loss: 0.2871 - acc: 0.9202 - val_loss: 0.2831 - val_acc: 0.9211\n",
      "Epoch 99/100\n",
      "480/480 [==============================] - 2s 4ms/step - loss: 0.2954 - acc: 0.9181 - val_loss: 0.2829 - val_acc: 0.9211\n",
      "Epoch 100/100\n",
      "480/480 [==============================] - 2s 4ms/step - loss: 0.2874 - acc: 0.9189 - val_loss: 0.2827 - val_acc: 0.9209\n"
     ]
    },
    {
     "data": {
      "text/plain": [
       "<tensorflow.python.keras.callbacks.History at 0x13a458f8340>"
      ]
     },
     "execution_count": 20,
     "metadata": {},
     "output_type": "execute_result"
    }
   ],
   "source": [
    "model.compile(loss='categorical_crossentropy', optimizer='sgd', metrics=['acc'])\n",
    "y_onehot = np.eye(10)[y_train]\n",
    "model.fit(X_train, y_onehot, batch_size=100, epochs=100, validation_split=0.2)"
   ]
  },
  {
   "cell_type": "code",
   "execution_count": 24,
   "metadata": {},
   "outputs": [
    {
     "data": {
      "text/plain": [
       "<matplotlib.legend.Legend at 0x13a45398250>"
      ]
     },
     "execution_count": 24,
     "metadata": {},
     "output_type": "execute_result"
    },
    {
     "data": {
      "image/png": "[encoded data removed]",
      "text/plain": [
       "<Figure size 432x288 with 2 Axes>"
      ]
     },
     "metadata": {
      "needs_background": "light"
     },
     "output_type": "display_data"
    }
   ],
   "source": [
    "h = model.history.history\n",
    "\n",
    "plt.subplot(1,2,1)\n",
    "plt.plot(h['loss'])\n",
    "plt.plot(h['val_loss'])\n",
    "plt.legend(['loss', 'val_loss'])\n",
    "\n",
    "plt.subplot(1,2,2)\n",
    "plt.plot(h['acc'])\n",
    "plt.plot(h['val_acc'])\n",
    "plt.legend(['acc', 'val_acc'])"
   ]
  },
  {
   "cell_type": "code",
   "execution_count": null,
   "metadata": {},
   "outputs": [],
   "source": []
  },
  {
   "cell_type": "code",
   "execution_count": 27,
   "metadata": {
    "collapsed": true,
    "jupyter": {
     "outputs_hidden": true
    }
   },
   "outputs": [
    {
     "data": {
      "text/plain": [
       "array([[6.0213551e-05, 8.5191143e-09, 1.5248805e-04, ..., 9.9469841e-01,\n",
       "        3.9336184e-05, 6.5456383e-04],\n",
       "       [2.7273651e-03, 3.5599322e-05, 9.6333748e-01, ..., 6.9802518e-11,\n",
       "        1.6895485e-03, 2.9965157e-08],\n",
       "       [2.0482685e-05, 9.7077638e-01, 1.3074989e-02, ..., 3.4088865e-03,\n",
       "        4.6214736e-03, 5.6658074e-04],\n",
       "       ...,\n",
       "       [2.6468837e-07, 6.1233129e-07, 2.8345265e-05, ..., 1.7783291e-03,\n",
       "        8.6966325e-03, 2.0724289e-02],\n",
       "       [1.2619262e-04, 4.3627375e-04, 1.7127239e-04, ..., 2.6158454e-05,\n",
       "        1.4789498e-01, 8.9604124e-05],\n",
       "       [6.3439227e-05, 2.5354258e-10, 3.1296481e-04, ..., 1.4064322e-09,\n",
       "        1.1906227e-06, 4.9025331e-08]], dtype=float32)"
      ]
     },
     "execution_count": 27,
     "metadata": {},
     "output_type": "execute_result"
    }
   ],
   "source": [
    "result = model.predict(X_test)\n",
    "result"
   ]
  },
  {
   "cell_type": "code",
   "execution_count": 28,
   "metadata": {},
   "outputs": [
    {
     "data": {
      "text/plain": [
       "(10000, 10)"
      ]
     },
     "execution_count": 28,
     "metadata": {},
     "output_type": "execute_result"
    }
   ],
   "source": [
    "result.shape"
   ]
  },
  {
   "cell_type": "code",
   "execution_count": 29,
   "metadata": {},
   "outputs": [
    {
     "data": {
      "text/plain": [
       "array([7, 2, 1, ..., 4, 5, 6], dtype=uint8)"
      ]
     },
     "execution_count": 29,
     "metadata": {},
     "output_type": "execute_result"
    }
   ],
   "source": [
    "y_test"
   ]
  },
  {
   "cell_type": "code",
   "execution_count": 30,
   "metadata": {},
   "outputs": [
    {
     "data": {
      "text/plain": [
       "array([6.0213551e-05, 8.5191143e-09, 1.5248805e-04, 4.3630870e-03,\n",
       "       3.5522455e-06, 2.8397579e-05, 3.4772786e-08, 9.9469841e-01,\n",
       "       3.9336184e-05, 6.5456383e-04], dtype=float32)"
      ]
     },
     "execution_count": 30,
     "metadata": {},
     "output_type": "execute_result"
    }
   ],
   "source": [
    "result[0]"
   ]
  },
  {
   "cell_type": "code",
   "execution_count": 32,
   "metadata": {},
   "outputs": [
    {
     "data": {
      "text/plain": [
       "7"
      ]
     },
     "execution_count": 32,
     "metadata": {},
     "output_type": "execute_result"
    }
   ],
   "source": [
    "result[0].argmax()"
   ]
  },
  {
   "cell_type": "code",
   "execution_count": 33,
   "metadata": {},
   "outputs": [
    {
     "data": {
      "text/plain": [
       "array([7, 2, 1, ..., 4, 5, 6], dtype=int64)"
      ]
     },
     "execution_count": 33,
     "metadata": {},
     "output_type": "execute_result"
    }
   ],
   "source": [
    "result.argmax(axis=1)"
   ]
  },
  {
   "cell_type": "code",
   "execution_count": 34,
   "metadata": {},
   "outputs": [
    {
     "data": {
      "text/plain": [
       "0.9218"
      ]
     },
     "execution_count": 34,
     "metadata": {},
     "output_type": "execute_result"
    }
   ],
   "source": [
    "# 테스트 데이터에 대한 정확도\n",
    "(result.argmax(axis=1)==y_test).mean()"
   ]
  },
  {
   "cell_type": "code",
   "execution_count": 35,
   "metadata": {},
   "outputs": [
    {
     "data": {
      "text/plain": [
       "9218"
      ]
     },
     "execution_count": 35,
     "metadata": {},
     "output_type": "execute_result"
    }
   ],
   "source": [
    "(result.argmax(axis=1)==y_test).sum()"
   ]
  },
  {
   "cell_type": "code",
   "execution_count": null,
   "metadata": {},
   "outputs": [],
   "source": []
  }
 ],
 "metadata": {
  "kernelspec": {
   "display_name": "Python 3 (ipykernel)",
   "language": "python",
   "name": "python3"
  },
  "language_info": {
   "codemirror_mode": {
    "name": "ipython",
    "version": 3
   },
   "file_extension": ".py",
   "mimetype": "text/x-python",
   "name": "python",
   "nbconvert_exporter": "python",
   "pygments_lexer": "ipython3",
   "version": "3.9.12"
  }
 },
 "nbformat": 4,
 "nbformat_minor": 4
}

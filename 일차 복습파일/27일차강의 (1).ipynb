{
 "cells": [
  {
   "cell_type": "markdown",
   "metadata": {},
   "source": [
    "## 27일차 강의 (2021.8.10)\n",
    "# 신경망"
   ]
  },
  {
   "cell_type": "markdown",
   "metadata": {},
   "source": [
    "### 연습문제\n",
    "1. 행복데이터의 주요 6개 속성으로 행복지수를 예측하려고 한다. 64개의 노드와 128개의 노드로 된 중간층을 가진 신경망을 구성하고, 최종 출력값을 계산하시오.\n",
    "\n",
    "2. 유방암데이터로 악성/양성을 분류하려고 한다. 128개와 256개의 노드로 구성된 중간층을 가지고, 1개의 노드로 된 출력층을 가지는 신경망을 구성하고, 최종 출력값을 계산하시오.\n",
    "\n",
    "> - 가중치와 절편 값은 임의로 초기화한다.\n",
    "> - 활성화함수(시그모이드함수) 는 적절히 적용한다.\n",
    "\n",
    "3. 위의 계산결과를 가지고 오차값을 계산해 보시오."
   ]
  },
  {
   "cell_type": "code",
   "execution_count": 1,
   "metadata": {},
   "outputs": [],
   "source": [
    "import numpy as np\n",
    "import pandas as pd\n",
    "import matplotlib.pyplot as plt"
   ]
  },
  {
   "cell_type": "code",
   "execution_count": 2,
   "metadata": {
    "collapsed": true,
    "jupyter": {
     "outputs_hidden": true
    }
   },
   "outputs": [
    {
     "data": {
      "text/html": [
       "<div>\n",
       "<style scoped>\n",
       "    .dataframe tbody tr th:only-of-type {\n",
       "        vertical-align: middle;\n",
       "    }\n",
       "\n",
       "    .dataframe tbody tr th {\n",
       "        vertical-align: top;\n",
       "    }\n",
       "\n",
       "    .dataframe thead th {\n",
       "        text-align: right;\n",
       "    }\n",
       "</style>\n",
       "<table border=\"1\" class=\"dataframe\">\n",
       "  <thead>\n",
       "    <tr style=\"text-align: right;\">\n",
       "      <th></th>\n",
       "      <th>Country name</th>\n",
       "      <th>Regional indicator</th>\n",
       "      <th>Ladder score</th>\n",
       "      <th>Standard error of ladder score</th>\n",
       "      <th>upperwhisker</th>\n",
       "      <th>lowerwhisker</th>\n",
       "      <th>Logged GDP per capita</th>\n",
       "      <th>Social support</th>\n",
       "      <th>Healthy life expectancy</th>\n",
       "      <th>Freedom to make life choices</th>\n",
       "      <th>Generosity</th>\n",
       "      <th>Perceptions of corruption</th>\n",
       "      <th>Ladder score in Dystopia</th>\n",
       "      <th>Explained by: Log GDP per capita</th>\n",
       "      <th>Explained by: Social support</th>\n",
       "      <th>Explained by: Healthy life expectancy</th>\n",
       "      <th>Explained by: Freedom to make life choices</th>\n",
       "      <th>Explained by: Generosity</th>\n",
       "      <th>Explained by: Perceptions of corruption</th>\n",
       "      <th>Dystopia + residual</th>\n",
       "    </tr>\n",
       "  </thead>\n",
       "  <tbody>\n",
       "    <tr>\n",
       "      <th>0</th>\n",
       "      <td>Finland</td>\n",
       "      <td>Western Europe</td>\n",
       "      <td>7.842</td>\n",
       "      <td>0.032</td>\n",
       "      <td>7.904</td>\n",
       "      <td>7.780</td>\n",
       "      <td>10.775</td>\n",
       "      <td>0.954</td>\n",
       "      <td>72.000</td>\n",
       "      <td>0.949</td>\n",
       "      <td>-0.098</td>\n",
       "      <td>0.186</td>\n",
       "      <td>2.43</td>\n",
       "      <td>1.446</td>\n",
       "      <td>1.106</td>\n",
       "      <td>0.741</td>\n",
       "      <td>0.691</td>\n",
       "      <td>0.124</td>\n",
       "      <td>0.481</td>\n",
       "      <td>3.253</td>\n",
       "    </tr>\n",
       "    <tr>\n",
       "      <th>1</th>\n",
       "      <td>Denmark</td>\n",
       "      <td>Western Europe</td>\n",
       "      <td>7.620</td>\n",
       "      <td>0.035</td>\n",
       "      <td>7.687</td>\n",
       "      <td>7.552</td>\n",
       "      <td>10.933</td>\n",
       "      <td>0.954</td>\n",
       "      <td>72.700</td>\n",
       "      <td>0.946</td>\n",
       "      <td>0.030</td>\n",
       "      <td>0.179</td>\n",
       "      <td>2.43</td>\n",
       "      <td>1.502</td>\n",
       "      <td>1.108</td>\n",
       "      <td>0.763</td>\n",
       "      <td>0.686</td>\n",
       "      <td>0.208</td>\n",
       "      <td>0.485</td>\n",
       "      <td>2.868</td>\n",
       "    </tr>\n",
       "    <tr>\n",
       "      <th>2</th>\n",
       "      <td>Switzerland</td>\n",
       "      <td>Western Europe</td>\n",
       "      <td>7.571</td>\n",
       "      <td>0.036</td>\n",
       "      <td>7.643</td>\n",
       "      <td>7.500</td>\n",
       "      <td>11.117</td>\n",
       "      <td>0.942</td>\n",
       "      <td>74.400</td>\n",
       "      <td>0.919</td>\n",
       "      <td>0.025</td>\n",
       "      <td>0.292</td>\n",
       "      <td>2.43</td>\n",
       "      <td>1.566</td>\n",
       "      <td>1.079</td>\n",
       "      <td>0.816</td>\n",
       "      <td>0.653</td>\n",
       "      <td>0.204</td>\n",
       "      <td>0.413</td>\n",
       "      <td>2.839</td>\n",
       "    </tr>\n",
       "    <tr>\n",
       "      <th>3</th>\n",
       "      <td>Iceland</td>\n",
       "      <td>Western Europe</td>\n",
       "      <td>7.554</td>\n",
       "      <td>0.059</td>\n",
       "      <td>7.670</td>\n",
       "      <td>7.438</td>\n",
       "      <td>10.878</td>\n",
       "      <td>0.983</td>\n",
       "      <td>73.000</td>\n",
       "      <td>0.955</td>\n",
       "      <td>0.160</td>\n",
       "      <td>0.673</td>\n",
       "      <td>2.43</td>\n",
       "      <td>1.482</td>\n",
       "      <td>1.172</td>\n",
       "      <td>0.772</td>\n",
       "      <td>0.698</td>\n",
       "      <td>0.293</td>\n",
       "      <td>0.170</td>\n",
       "      <td>2.967</td>\n",
       "    </tr>\n",
       "    <tr>\n",
       "      <th>4</th>\n",
       "      <td>Netherlands</td>\n",
       "      <td>Western Europe</td>\n",
       "      <td>7.464</td>\n",
       "      <td>0.027</td>\n",
       "      <td>7.518</td>\n",
       "      <td>7.410</td>\n",
       "      <td>10.932</td>\n",
       "      <td>0.942</td>\n",
       "      <td>72.400</td>\n",
       "      <td>0.913</td>\n",
       "      <td>0.175</td>\n",
       "      <td>0.338</td>\n",
       "      <td>2.43</td>\n",
       "      <td>1.501</td>\n",
       "      <td>1.079</td>\n",
       "      <td>0.753</td>\n",
       "      <td>0.647</td>\n",
       "      <td>0.302</td>\n",
       "      <td>0.384</td>\n",
       "      <td>2.798</td>\n",
       "    </tr>\n",
       "    <tr>\n",
       "      <th>...</th>\n",
       "      <td>...</td>\n",
       "      <td>...</td>\n",
       "      <td>...</td>\n",
       "      <td>...</td>\n",
       "      <td>...</td>\n",
       "      <td>...</td>\n",
       "      <td>...</td>\n",
       "      <td>...</td>\n",
       "      <td>...</td>\n",
       "      <td>...</td>\n",
       "      <td>...</td>\n",
       "      <td>...</td>\n",
       "      <td>...</td>\n",
       "      <td>...</td>\n",
       "      <td>...</td>\n",
       "      <td>...</td>\n",
       "      <td>...</td>\n",
       "      <td>...</td>\n",
       "      <td>...</td>\n",
       "      <td>...</td>\n",
       "    </tr>\n",
       "    <tr>\n",
       "      <th>144</th>\n",
       "      <td>Lesotho</td>\n",
       "      <td>Sub-Saharan Africa</td>\n",
       "      <td>3.512</td>\n",
       "      <td>0.120</td>\n",
       "      <td>3.748</td>\n",
       "      <td>3.276</td>\n",
       "      <td>7.926</td>\n",
       "      <td>0.787</td>\n",
       "      <td>48.700</td>\n",
       "      <td>0.715</td>\n",
       "      <td>-0.131</td>\n",
       "      <td>0.915</td>\n",
       "      <td>2.43</td>\n",
       "      <td>0.451</td>\n",
       "      <td>0.731</td>\n",
       "      <td>0.007</td>\n",
       "      <td>0.405</td>\n",
       "      <td>0.103</td>\n",
       "      <td>0.015</td>\n",
       "      <td>1.800</td>\n",
       "    </tr>\n",
       "    <tr>\n",
       "      <th>145</th>\n",
       "      <td>Botswana</td>\n",
       "      <td>Sub-Saharan Africa</td>\n",
       "      <td>3.467</td>\n",
       "      <td>0.074</td>\n",
       "      <td>3.611</td>\n",
       "      <td>3.322</td>\n",
       "      <td>9.782</td>\n",
       "      <td>0.784</td>\n",
       "      <td>59.269</td>\n",
       "      <td>0.824</td>\n",
       "      <td>-0.246</td>\n",
       "      <td>0.801</td>\n",
       "      <td>2.43</td>\n",
       "      <td>1.099</td>\n",
       "      <td>0.724</td>\n",
       "      <td>0.340</td>\n",
       "      <td>0.539</td>\n",
       "      <td>0.027</td>\n",
       "      <td>0.088</td>\n",
       "      <td>0.648</td>\n",
       "    </tr>\n",
       "    <tr>\n",
       "      <th>146</th>\n",
       "      <td>Rwanda</td>\n",
       "      <td>Sub-Saharan Africa</td>\n",
       "      <td>3.415</td>\n",
       "      <td>0.068</td>\n",
       "      <td>3.548</td>\n",
       "      <td>3.282</td>\n",
       "      <td>7.676</td>\n",
       "      <td>0.552</td>\n",
       "      <td>61.400</td>\n",
       "      <td>0.897</td>\n",
       "      <td>0.061</td>\n",
       "      <td>0.167</td>\n",
       "      <td>2.43</td>\n",
       "      <td>0.364</td>\n",
       "      <td>0.202</td>\n",
       "      <td>0.407</td>\n",
       "      <td>0.627</td>\n",
       "      <td>0.227</td>\n",
       "      <td>0.493</td>\n",
       "      <td>1.095</td>\n",
       "    </tr>\n",
       "    <tr>\n",
       "      <th>147</th>\n",
       "      <td>Zimbabwe</td>\n",
       "      <td>Sub-Saharan Africa</td>\n",
       "      <td>3.145</td>\n",
       "      <td>0.058</td>\n",
       "      <td>3.259</td>\n",
       "      <td>3.030</td>\n",
       "      <td>7.943</td>\n",
       "      <td>0.750</td>\n",
       "      <td>56.201</td>\n",
       "      <td>0.677</td>\n",
       "      <td>-0.047</td>\n",
       "      <td>0.821</td>\n",
       "      <td>2.43</td>\n",
       "      <td>0.457</td>\n",
       "      <td>0.649</td>\n",
       "      <td>0.243</td>\n",
       "      <td>0.359</td>\n",
       "      <td>0.157</td>\n",
       "      <td>0.075</td>\n",
       "      <td>1.205</td>\n",
       "    </tr>\n",
       "    <tr>\n",
       "      <th>148</th>\n",
       "      <td>Afghanistan</td>\n",
       "      <td>South Asia</td>\n",
       "      <td>2.523</td>\n",
       "      <td>0.038</td>\n",
       "      <td>2.596</td>\n",
       "      <td>2.449</td>\n",
       "      <td>7.695</td>\n",
       "      <td>0.463</td>\n",
       "      <td>52.493</td>\n",
       "      <td>0.382</td>\n",
       "      <td>-0.102</td>\n",
       "      <td>0.924</td>\n",
       "      <td>2.43</td>\n",
       "      <td>0.370</td>\n",
       "      <td>0.000</td>\n",
       "      <td>0.126</td>\n",
       "      <td>0.000</td>\n",
       "      <td>0.122</td>\n",
       "      <td>0.010</td>\n",
       "      <td>1.895</td>\n",
       "    </tr>\n",
       "  </tbody>\n",
       "</table>\n",
       "<p>149 rows × 20 columns</p>\n",
       "</div>"
      ],
      "text/plain": [
       "    Country name  Regional indicator  Ladder score  \\\n",
       "0        Finland      Western Europe         7.842   \n",
       "1        Denmark      Western Europe         7.620   \n",
       "2    Switzerland      Western Europe         7.571   \n",
       "3        Iceland      Western Europe         7.554   \n",
       "4    Netherlands      Western Europe         7.464   \n",
       "..           ...                 ...           ...   \n",
       "144      Lesotho  Sub-Saharan Africa         3.512   \n",
       "145     Botswana  Sub-Saharan Africa         3.467   \n",
       "146       Rwanda  Sub-Saharan Africa         3.415   \n",
       "147     Zimbabwe  Sub-Saharan Africa         3.145   \n",
       "148  Afghanistan          South Asia         2.523   \n",
       "\n",
       "     Standard error of ladder score  upperwhisker  lowerwhisker  \\\n",
       "0                             0.032         7.904         7.780   \n",
       "1                             0.035         7.687         7.552   \n",
       "2                             0.036         7.643         7.500   \n",
       "3                             0.059         7.670         7.438   \n",
       "4                             0.027         7.518         7.410   \n",
       "..                              ...           ...           ...   \n",
       "144                           0.120         3.748         3.276   \n",
       "145                           0.074         3.611         3.322   \n",
       "146                           0.068         3.548         3.282   \n",
       "147                           0.058         3.259         3.030   \n",
       "148                           0.038         2.596         2.449   \n",
       "\n",
       "     Logged GDP per capita  Social support  Healthy life expectancy  \\\n",
       "0                   10.775           0.954                   72.000   \n",
       "1                   10.933           0.954                   72.700   \n",
       "2                   11.117           0.942                   74.400   \n",
       "3                   10.878           0.983                   73.000   \n",
       "4                   10.932           0.942                   72.400   \n",
       "..                     ...             ...                      ...   \n",
       "144                  7.926           0.787                   48.700   \n",
       "145                  9.782           0.784                   59.269   \n",
       "146                  7.676           0.552                   61.400   \n",
       "147                  7.943           0.750                   56.201   \n",
       "148                  7.695           0.463                   52.493   \n",
       "\n",
       "     Freedom to make life choices  Generosity  Perceptions of corruption  \\\n",
       "0                           0.949      -0.098                      0.186   \n",
       "1                           0.946       0.030                      0.179   \n",
       "2                           0.919       0.025                      0.292   \n",
       "3                           0.955       0.160                      0.673   \n",
       "4                           0.913       0.175                      0.338   \n",
       "..                            ...         ...                        ...   \n",
       "144                         0.715      -0.131                      0.915   \n",
       "145                         0.824      -0.246                      0.801   \n",
       "146                         0.897       0.061                      0.167   \n",
       "147                         0.677      -0.047                      0.821   \n",
       "148                         0.382      -0.102                      0.924   \n",
       "\n",
       "     Ladder score in Dystopia  Explained by: Log GDP per capita  \\\n",
       "0                        2.43                             1.446   \n",
       "1                        2.43                             1.502   \n",
       "2                        2.43                             1.566   \n",
       "3                        2.43                             1.482   \n",
       "4                        2.43                             1.501   \n",
       "..                        ...                               ...   \n",
       "144                      2.43                             0.451   \n",
       "145                      2.43                             1.099   \n",
       "146                      2.43                             0.364   \n",
       "147                      2.43                             0.457   \n",
       "148                      2.43                             0.370   \n",
       "\n",
       "     Explained by: Social support  Explained by: Healthy life expectancy  \\\n",
       "0                           1.106                                  0.741   \n",
       "1                           1.108                                  0.763   \n",
       "2                           1.079                                  0.816   \n",
       "3                           1.172                                  0.772   \n",
       "4                           1.079                                  0.753   \n",
       "..                            ...                                    ...   \n",
       "144                         0.731                                  0.007   \n",
       "145                         0.724                                  0.340   \n",
       "146                         0.202                                  0.407   \n",
       "147                         0.649                                  0.243   \n",
       "148                         0.000                                  0.126   \n",
       "\n",
       "     Explained by: Freedom to make life choices  Explained by: Generosity  \\\n",
       "0                                         0.691                     0.124   \n",
       "1                                         0.686                     0.208   \n",
       "2                                         0.653                     0.204   \n",
       "3                                         0.698                     0.293   \n",
       "4                                         0.647                     0.302   \n",
       "..                                          ...                       ...   \n",
       "144                                       0.405                     0.103   \n",
       "145                                       0.539                     0.027   \n",
       "146                                       0.627                     0.227   \n",
       "147                                       0.359                     0.157   \n",
       "148                                       0.000                     0.122   \n",
       "\n",
       "     Explained by: Perceptions of corruption  Dystopia + residual  \n",
       "0                                      0.481                3.253  \n",
       "1                                      0.485                2.868  \n",
       "2                                      0.413                2.839  \n",
       "3                                      0.170                2.967  \n",
       "4                                      0.384                2.798  \n",
       "..                                       ...                  ...  \n",
       "144                                    0.015                1.800  \n",
       "145                                    0.088                0.648  \n",
       "146                                    0.493                1.095  \n",
       "147                                    0.075                1.205  \n",
       "148                                    0.010                1.895  \n",
       "\n",
       "[149 rows x 20 columns]"
      ]
     },
     "execution_count": 2,
     "metadata": {},
     "output_type": "execute_result"
    }
   ],
   "source": [
    "happy = pd.read_csv('world_happiness_report_2021.csv')\n",
    "happy"
   ]
  },
  {
   "cell_type": "code",
   "execution_count": 3,
   "metadata": {},
   "outputs": [
    {
     "data": {
      "text/plain": [
       "((149, 6), (149,))"
      ]
     },
     "execution_count": 3,
     "metadata": {},
     "output_type": "execute_result"
    }
   ],
   "source": [
    "X = happy.iloc[:, 6:12].values\n",
    "y = happy['Ladder score'].values\n",
    "X.shape, y.shape"
   ]
  },
  {
   "cell_type": "code",
   "execution_count": 5,
   "metadata": {},
   "outputs": [
    {
     "data": {
      "image/png": "[encoded data removed]",
      "text/plain": [
       "<Figure size 432x288 with 1 Axes>"
      ]
     },
     "metadata": {
      "needs_background": "light"
     },
     "output_type": "display_data"
    }
   ],
   "source": [
    "plt.boxplot(X); pass"
   ]
  },
  {
   "cell_type": "code",
   "execution_count": 6,
   "metadata": {},
   "outputs": [
    {
     "data": {
      "text/plain": [
       "(149, 6)"
      ]
     },
     "execution_count": 6,
     "metadata": {},
     "output_type": "execute_result"
    }
   ],
   "source": [
    "X_norm = (X-X.mean(axis=0))/X.std(axis=0)\n",
    "X_norm.shape"
   ]
  },
  {
   "cell_type": "code",
   "execution_count": 9,
   "metadata": {},
   "outputs": [],
   "source": [
    "def sigmoid(x):\n",
    "    return 1/(1+np.exp(-x))"
   ]
  },
  {
   "cell_type": "code",
   "execution_count": 10,
   "metadata": {},
   "outputs": [
    {
     "data": {
      "text/plain": [
       "(149, 64)"
      ]
     },
     "execution_count": 10,
     "metadata": {},
     "output_type": "execute_result"
    }
   ],
   "source": [
    "W1 = np.random.randn(6,64)/10\n",
    "b1 = np.random.randn(64)/10\n",
    "\n",
    "y1 = sigmoid(X_norm@W1 + b1)\n",
    "y1.shape"
   ]
  },
  {
   "cell_type": "code",
   "execution_count": 12,
   "metadata": {},
   "outputs": [
    {
     "data": {
      "text/plain": [
       "(149, 128)"
      ]
     },
     "execution_count": 12,
     "metadata": {},
     "output_type": "execute_result"
    }
   ],
   "source": [
    "W2 = np.random.randn(64,128)/10\n",
    "b2 = np.random.randn(128)/10\n",
    "\n",
    "y2 = sigmoid(y1@W2 + b2)\n",
    "y2.shape"
   ]
  },
  {
   "cell_type": "code",
   "execution_count": 19,
   "metadata": {},
   "outputs": [
    {
     "data": {
      "text/plain": [
       "(149, 1)"
      ]
     },
     "execution_count": 19,
     "metadata": {},
     "output_type": "execute_result"
    }
   ],
   "source": [
    "W3 = np.random.randn(128,1)/10\n",
    "b3 = np.random.randn(1)/10\n",
    "\n",
    "pred_y = y2@W3 + b3\n",
    "pred_y.shape"
   ]
  },
  {
   "cell_type": "code",
   "execution_count": 20,
   "metadata": {},
   "outputs": [
    {
     "data": {
      "text/plain": [
       "(149,)"
      ]
     },
     "execution_count": 20,
     "metadata": {},
     "output_type": "execute_result"
    }
   ],
   "source": [
    "y.shape"
   ]
  },
  {
   "cell_type": "code",
   "execution_count": 21,
   "metadata": {},
   "outputs": [
    {
     "data": {
      "text/plain": [
       "(149,)"
      ]
     },
     "execution_count": 21,
     "metadata": {},
     "output_type": "execute_result"
    }
   ],
   "source": [
    "pred_y = pred_y.ravel()\n",
    "pred_y.shape"
   ]
  },
  {
   "cell_type": "code",
   "execution_count": 22,
   "metadata": {},
   "outputs": [
    {
     "data": {
      "text/plain": [
       "21.560466356430208"
      ]
     },
     "execution_count": 22,
     "metadata": {},
     "output_type": "execute_result"
    }
   ],
   "source": [
    "mse = ((y-pred_y)**2).mean()\n",
    "mse"
   ]
  },
  {
   "cell_type": "code",
   "execution_count": null,
   "metadata": {},
   "outputs": [],
   "source": []
  },
  {
   "cell_type": "code",
   "execution_count": 23,
   "metadata": {},
   "outputs": [],
   "source": [
    "from sklearn.datasets import load_breast_cancer\n",
    "cancer = load_breast_cancer()"
   ]
  },
  {
   "cell_type": "code",
   "execution_count": 24,
   "metadata": {},
   "outputs": [
    {
     "data": {
      "text/plain": [
       "((569, 30), (569,))"
      ]
     },
     "execution_count": 24,
     "metadata": {},
     "output_type": "execute_result"
    }
   ],
   "source": [
    "X = cancer.data\n",
    "y = cancer.target\n",
    "\n",
    "X.shape, y.shape"
   ]
  },
  {
   "cell_type": "code",
   "execution_count": 25,
   "metadata": {},
   "outputs": [
    {
     "data": {
      "text/plain": [
       "(569, 30)"
      ]
     },
     "execution_count": 25,
     "metadata": {},
     "output_type": "execute_result"
    }
   ],
   "source": [
    "X_norm = (X- X.mean(axis=0))/X.std(axis=0)\n",
    "X_norm.shape"
   ]
  },
  {
   "cell_type": "code",
   "execution_count": 26,
   "metadata": {},
   "outputs": [
    {
     "data": {
      "text/plain": [
       "(569, 128)"
      ]
     },
     "execution_count": 26,
     "metadata": {},
     "output_type": "execute_result"
    }
   ],
   "source": [
    "W1 = np.random.randn(30,128)/10\n",
    "b1 = np.random.randn(128)/10\n",
    "\n",
    "y1 = sigmoid(X_norm@W1 + b1)\n",
    "y1.shape"
   ]
  },
  {
   "cell_type": "code",
   "execution_count": 27,
   "metadata": {},
   "outputs": [
    {
     "data": {
      "text/plain": [
       "(569, 256)"
      ]
     },
     "execution_count": 27,
     "metadata": {},
     "output_type": "execute_result"
    }
   ],
   "source": [
    "W2 = np.random.randn(128,256)/10\n",
    "b2 = np.random.randn(256)/10\n",
    "\n",
    "y2 = sigmoid(y1@W2 + b2)\n",
    "y2.shape"
   ]
  },
  {
   "cell_type": "code",
   "execution_count": 28,
   "metadata": {},
   "outputs": [
    {
     "data": {
      "text/plain": [
       "(569, 1)"
      ]
     },
     "execution_count": 28,
     "metadata": {},
     "output_type": "execute_result"
    }
   ],
   "source": [
    "W3 = np.random.randn(256,1)/10\n",
    "b3 = np.random.randn(1)/10\n",
    "\n",
    "pred_y = sigmoid(y2@W3 + b3)\n",
    "pred_y.shape"
   ]
  },
  {
   "cell_type": "code",
   "execution_count": 29,
   "metadata": {},
   "outputs": [],
   "source": [
    "pred_y = pred_y.ravel()"
   ]
  },
  {
   "cell_type": "code",
   "execution_count": 31,
   "metadata": {},
   "outputs": [
    {
     "data": {
      "text/plain": [
       "(0, 0.7268100207209767)"
      ]
     },
     "execution_count": 31,
     "metadata": {},
     "output_type": "execute_result"
    }
   ],
   "source": [
    "y[0], pred_y[0]"
   ]
  },
  {
   "cell_type": "code",
   "execution_count": 32,
   "metadata": {},
   "outputs": [
    {
     "data": {
      "text/plain": [
       "1.297587831024728"
      ]
     },
     "execution_count": 32,
     "metadata": {},
     "output_type": "execute_result"
    }
   ],
   "source": [
    "-np.log(1-pred_y[0])"
   ]
  },
  {
   "cell_type": "code",
   "execution_count": 34,
   "metadata": {},
   "outputs": [
    {
     "data": {
      "text/plain": [
       "0.6832426731941278"
      ]
     },
     "execution_count": 34,
     "metadata": {},
     "output_type": "execute_result"
    }
   ],
   "source": [
    "entropy = 0\n",
    "for i in range(569):\n",
    "    if y[i]==1:\n",
    "        entropy += -np.log(pred_y[i])\n",
    "    else:\n",
    "        entropy += -np.log(1-pred_y[i])\n",
    "        \n",
    "entropy /= 569\n",
    "entropy"
   ]
  },
  {
   "cell_type": "code",
   "execution_count": 36,
   "metadata": {},
   "outputs": [
    {
     "data": {
      "text/plain": [
       "0.6832426731941283"
      ]
     },
     "execution_count": 36,
     "metadata": {},
     "output_type": "execute_result"
    }
   ],
   "source": [
    "entropy = (-y*np.log(pred_y)-(1-y)*np.log(1-pred_y)).mean()\n",
    "entropy"
   ]
  },
  {
   "cell_type": "code",
   "execution_count": null,
   "metadata": {},
   "outputs": [],
   "source": []
  }
 ],
 "metadata": {
  "kernelspec": {
   "display_name": "Python 3 (ipykernel)",
   "language": "python",
   "name": "python3"
  },
  "language_info": {
   "codemirror_mode": {
    "name": "ipython",
    "version": 3
   },
   "file_extension": ".py",
   "mimetype": "text/x-python",
   "name": "python",
   "nbconvert_exporter": "python",
   "pygments_lexer": "ipython3",
   "version": "3.9.12"
  }
 },
 "nbformat": 4,
 "nbformat_minor": 4
}

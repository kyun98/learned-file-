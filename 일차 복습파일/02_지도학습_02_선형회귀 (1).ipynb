{
 "cells": [
  {
   "cell_type": "markdown",
   "metadata": {},
   "source": [
    "## 머신러닝\n",
    "# 선형회귀 (Linear Regression)"
   ]
  },
  {
   "cell_type": "markdown",
   "metadata": {},
   "source": [
    "- 회귀는 데이터가 주어졌을 때, **실수값**인 타겟값(또는 목표값)을 예측하는 방법이다.\n",
    "\n",
    "나이 | 성별 | 키  | 몸무계\n",
    "-----|------|-----|-------\n",
    "35   | 남   | 175 | 67\n",
    "...  | ...  | ... | ...\n",
    "27   | 여   | 163 | 52\n",
    "\n",
    "- 위와 같은 데이터가 주어졌을 때, 키(데이터)에 따른 몸무계(타겟값)를 예측하는 것은 회귀 문제이다.\n",
    "- 회귀 중에서도, 직선 또는 곧은 평면(굽은 평면이 아님)으로 타겟값을 예측하는 것을 **선형회귀** 라고 한다. 아래 그림에서 직선으로 예측한 경우에 해당한다.\n",
    "\n",
    "<img src=\"ch02_02.png\" />\n",
    "<p style=\"text-align: center;\">(출처 : wikipedia - overfitting)</p>\n",
    "\n",
    "- 속성이 하나 뿐일 때는 위와 같이 직선으로 표현할 수 있지만 속성이 2개일 때는 곧은 평면, 3개 이상에서는 초평면으로 표현한다.\n",
    "\n",
    "<img src=\"ch02_03.jpg\" />\n",
    "<p style=\"text-align: center;\">(출처 : https://www.dataquest.io/blog/statistical-learning-for-predictive-modeling-r/)</p>\n",
    "\n",
    "- 선형회귀에서 굳이 타겟값을 별도로 구분했지만, 다르게 표현하면 타겟값을 포함한 모든 속성의 상관관계를 평면으로 표현한 것으로 이해할 수 있다.\n",
    "- 아래에서 Iris 데이터를 가지고 선형회귀를 적용해 보겠다."
   ]
  },
  {
   "cell_type": "markdown",
   "metadata": {},
   "source": [
    "### 선형회귀의 가정\n",
    "- y = w\\*x + b\n",
    "- y = w1\\*x1 + w2\\*x2 + b\n",
    "- w1, w2, ..., b 를 찾는다"
   ]
  },
  {
   "cell_type": "code",
   "execution_count": 1,
   "metadata": {},
   "outputs": [],
   "source": [
    "import numpy as np\n",
    "import matplotlib.pyplot as plt"
   ]
  },
  {
   "cell_type": "code",
   "execution_count": 2,
   "metadata": {},
   "outputs": [],
   "source": [
    "from sklearn.datasets import load_iris\n",
    "\n",
    "iris = load_iris()"
   ]
  },
  {
   "cell_type": "code",
   "execution_count": 3,
   "metadata": {},
   "outputs": [
    {
     "data": {
      "text/plain": [
       "array([[5.1, 3.5, 1.4, 0.2],\n",
       "       [4.9, 3. , 1.4, 0.2],\n",
       "       [4.7, 3.2, 1.3, 0.2],\n",
       "       [4.6, 3.1, 1.5, 0.2],\n",
       "       [5. , 3.6, 1.4, 0.2],\n",
       "       [5.4, 3.9, 1.7, 0.4],\n",
       "       [4.6, 3.4, 1.4, 0.3],\n",
       "       [5. , 3.4, 1.5, 0.2],\n",
       "       [4.4, 2.9, 1.4, 0.2],\n",
       "       [4.9, 3.1, 1.5, 0.1],\n",
       "       [5.4, 3.7, 1.5, 0.2],\n",
       "       [4.8, 3.4, 1.6, 0.2],\n",
       "       [4.8, 3. , 1.4, 0.1],\n",
       "       [4.3, 3. , 1.1, 0.1],\n",
       "       [5.8, 4. , 1.2, 0.2],\n",
       "       [5.7, 4.4, 1.5, 0.4],\n",
       "       [5.4, 3.9, 1.3, 0.4],\n",
       "       [5.1, 3.5, 1.4, 0.3],\n",
       "       [5.7, 3.8, 1.7, 0.3],\n",
       "       [5.1, 3.8, 1.5, 0.3],\n",
       "       [5.4, 3.4, 1.7, 0.2],\n",
       "       [5.1, 3.7, 1.5, 0.4],\n",
       "       [4.6, 3.6, 1. , 0.2],\n",
       "       [5.1, 3.3, 1.7, 0.5],\n",
       "       [4.8, 3.4, 1.9, 0.2],\n",
       "       [5. , 3. , 1.6, 0.2],\n",
       "       [5. , 3.4, 1.6, 0.4],\n",
       "       [5.2, 3.5, 1.5, 0.2],\n",
       "       [5.2, 3.4, 1.4, 0.2],\n",
       "       [4.7, 3.2, 1.6, 0.2],\n",
       "       [4.8, 3.1, 1.6, 0.2],\n",
       "       [5.4, 3.4, 1.5, 0.4],\n",
       "       [5.2, 4.1, 1.5, 0.1],\n",
       "       [5.5, 4.2, 1.4, 0.2],\n",
       "       [4.9, 3.1, 1.5, 0.1],\n",
       "       [5. , 3.2, 1.2, 0.2],\n",
       "       [5.5, 3.5, 1.3, 0.2],\n",
       "       [4.9, 3.1, 1.5, 0.1],\n",
       "       [4.4, 3. , 1.3, 0.2],\n",
       "       [5.1, 3.4, 1.5, 0.2],\n",
       "       [5. , 3.5, 1.3, 0.3],\n",
       "       [4.5, 2.3, 1.3, 0.3],\n",
       "       [4.4, 3.2, 1.3, 0.2],\n",
       "       [5. , 3.5, 1.6, 0.6],\n",
       "       [5.1, 3.8, 1.9, 0.4],\n",
       "       [4.8, 3. , 1.4, 0.3],\n",
       "       [5.1, 3.8, 1.6, 0.2],\n",
       "       [4.6, 3.2, 1.4, 0.2],\n",
       "       [5.3, 3.7, 1.5, 0.2],\n",
       "       [5. , 3.3, 1.4, 0.2],\n",
       "       [7. , 3.2, 4.7, 1.4],\n",
       "       [6.4, 3.2, 4.5, 1.5],\n",
       "       [6.9, 3.1, 4.9, 1.5],\n",
       "       [5.5, 2.3, 4. , 1.3],\n",
       "       [6.5, 2.8, 4.6, 1.5],\n",
       "       [5.7, 2.8, 4.5, 1.3],\n",
       "       [6.3, 3.3, 4.7, 1.6],\n",
       "       [4.9, 2.4, 3.3, 1. ],\n",
       "       [6.6, 2.9, 4.6, 1.3],\n",
       "       [5.2, 2.7, 3.9, 1.4],\n",
       "       [5. , 2. , 3.5, 1. ],\n",
       "       [5.9, 3. , 4.2, 1.5],\n",
       "       [6. , 2.2, 4. , 1. ],\n",
       "       [6.1, 2.9, 4.7, 1.4],\n",
       "       [5.6, 2.9, 3.6, 1.3],\n",
       "       [6.7, 3.1, 4.4, 1.4],\n",
       "       [5.6, 3. , 4.5, 1.5],\n",
       "       [5.8, 2.7, 4.1, 1. ],\n",
       "       [6.2, 2.2, 4.5, 1.5],\n",
       "       [5.6, 2.5, 3.9, 1.1],\n",
       "       [5.9, 3.2, 4.8, 1.8],\n",
       "       [6.1, 2.8, 4. , 1.3],\n",
       "       [6.3, 2.5, 4.9, 1.5],\n",
       "       [6.1, 2.8, 4.7, 1.2],\n",
       "       [6.4, 2.9, 4.3, 1.3],\n",
       "       [6.6, 3. , 4.4, 1.4],\n",
       "       [6.8, 2.8, 4.8, 1.4],\n",
       "       [6.7, 3. , 5. , 1.7],\n",
       "       [6. , 2.9, 4.5, 1.5],\n",
       "       [5.7, 2.6, 3.5, 1. ],\n",
       "       [5.5, 2.4, 3.8, 1.1],\n",
       "       [5.5, 2.4, 3.7, 1. ],\n",
       "       [5.8, 2.7, 3.9, 1.2],\n",
       "       [6. , 2.7, 5.1, 1.6],\n",
       "       [5.4, 3. , 4.5, 1.5],\n",
       "       [6. , 3.4, 4.5, 1.6],\n",
       "       [6.7, 3.1, 4.7, 1.5],\n",
       "       [6.3, 2.3, 4.4, 1.3],\n",
       "       [5.6, 3. , 4.1, 1.3],\n",
       "       [5.5, 2.5, 4. , 1.3],\n",
       "       [5.5, 2.6, 4.4, 1.2],\n",
       "       [6.1, 3. , 4.6, 1.4],\n",
       "       [5.8, 2.6, 4. , 1.2],\n",
       "       [5. , 2.3, 3.3, 1. ],\n",
       "       [5.6, 2.7, 4.2, 1.3],\n",
       "       [5.7, 3. , 4.2, 1.2],\n",
       "       [5.7, 2.9, 4.2, 1.3],\n",
       "       [6.2, 2.9, 4.3, 1.3],\n",
       "       [5.1, 2.5, 3. , 1.1],\n",
       "       [5.7, 2.8, 4.1, 1.3],\n",
       "       [6.3, 3.3, 6. , 2.5],\n",
       "       [5.8, 2.7, 5.1, 1.9],\n",
       "       [7.1, 3. , 5.9, 2.1],\n",
       "       [6.3, 2.9, 5.6, 1.8],\n",
       "       [6.5, 3. , 5.8, 2.2],\n",
       "       [7.6, 3. , 6.6, 2.1],\n",
       "       [4.9, 2.5, 4.5, 1.7],\n",
       "       [7.3, 2.9, 6.3, 1.8],\n",
       "       [6.7, 2.5, 5.8, 1.8],\n",
       "       [7.2, 3.6, 6.1, 2.5],\n",
       "       [6.5, 3.2, 5.1, 2. ],\n",
       "       [6.4, 2.7, 5.3, 1.9],\n",
       "       [6.8, 3. , 5.5, 2.1],\n",
       "       [5.7, 2.5, 5. , 2. ],\n",
       "       [5.8, 2.8, 5.1, 2.4],\n",
       "       [6.4, 3.2, 5.3, 2.3],\n",
       "       [6.5, 3. , 5.5, 1.8],\n",
       "       [7.7, 3.8, 6.7, 2.2],\n",
       "       [7.7, 2.6, 6.9, 2.3],\n",
       "       [6. , 2.2, 5. , 1.5],\n",
       "       [6.9, 3.2, 5.7, 2.3],\n",
       "       [5.6, 2.8, 4.9, 2. ],\n",
       "       [7.7, 2.8, 6.7, 2. ],\n",
       "       [6.3, 2.7, 4.9, 1.8],\n",
       "       [6.7, 3.3, 5.7, 2.1],\n",
       "       [7.2, 3.2, 6. , 1.8],\n",
       "       [6.2, 2.8, 4.8, 1.8],\n",
       "       [6.1, 3. , 4.9, 1.8],\n",
       "       [6.4, 2.8, 5.6, 2.1],\n",
       "       [7.2, 3. , 5.8, 1.6],\n",
       "       [7.4, 2.8, 6.1, 1.9],\n",
       "       [7.9, 3.8, 6.4, 2. ],\n",
       "       [6.4, 2.8, 5.6, 2.2],\n",
       "       [6.3, 2.8, 5.1, 1.5],\n",
       "       [6.1, 2.6, 5.6, 1.4],\n",
       "       [7.7, 3. , 6.1, 2.3],\n",
       "       [6.3, 3.4, 5.6, 2.4],\n",
       "       [6.4, 3.1, 5.5, 1.8],\n",
       "       [6. , 3. , 4.8, 1.8],\n",
       "       [6.9, 3.1, 5.4, 2.1],\n",
       "       [6.7, 3.1, 5.6, 2.4],\n",
       "       [6.9, 3.1, 5.1, 2.3],\n",
       "       [5.8, 2.7, 5.1, 1.9],\n",
       "       [6.8, 3.2, 5.9, 2.3],\n",
       "       [6.7, 3.3, 5.7, 2.5],\n",
       "       [6.7, 3. , 5.2, 2.3],\n",
       "       [6.3, 2.5, 5. , 1.9],\n",
       "       [6.5, 3. , 5.2, 2. ],\n",
       "       [6.2, 3.4, 5.4, 2.3],\n",
       "       [5.9, 3. , 5.1, 1.8]])"
      ]
     },
     "execution_count": 3,
     "metadata": {},
     "output_type": "execute_result"
    }
   ],
   "source": [
    "iris.data"
   ]
  },
  {
   "cell_type": "code",
   "execution_count": 10,
   "metadata": {},
   "outputs": [
    {
     "data": {
      "text/plain": [
       "<matplotlib.legend.Legend at 0x1e72dd00908>"
      ]
     },
     "execution_count": 10,
     "metadata": {},
     "output_type": "execute_result"
    },
    {
     "data": {
      "image/png": "[encoded data removed]",
      "text/plain": [
       "<matplotlib.figure.Figure at 0x1e72dcb5748>"
      ]
     },
     "metadata": {},
     "output_type": "display_data"
    }
   ],
   "source": [
    "plt.plot(iris.data[:,2])\n",
    "plt.plot(iris.data[:,3])\n",
    "plt.legend(['pl','pw'])"
   ]
  },
  {
   "cell_type": "code",
   "execution_count": 5,
   "metadata": {},
   "outputs": [
    {
     "data": {
      "text/plain": [
       "Text(0,0.5,'petal width')"
      ]
     },
     "execution_count": 5,
     "metadata": {},
     "output_type": "execute_result"
    },
    {
     "data": {
      "image/png": "[encoded data removed]",
      "text/plain": [
       "<matplotlib.figure.Figure at 0x1e72c8eda90>"
      ]
     },
     "metadata": {},
     "output_type": "display_data"
    }
   ],
   "source": [
    "plt.scatter(iris.data[:,2], iris.data[:,3])\n",
    "plt.axis('scaled')\n",
    "plt.xlabel('petal length')\n",
    "plt.ylabel('petal width')"
   ]
  },
  {
   "cell_type": "code",
   "execution_count": 6,
   "metadata": {},
   "outputs": [],
   "source": [
    "pl = iris.data[:,2]\n",
    "pw = iris.data[:,3]"
   ]
  },
  {
   "cell_type": "code",
   "execution_count": 7,
   "metadata": {},
   "outputs": [
    {
     "data": {
      "text/plain": [
       "<matplotlib.legend.Legend at 0x1e72cbf84e0>"
      ]
     },
     "execution_count": 7,
     "metadata": {},
     "output_type": "execute_result"
    },
    {
     "data": {
      "image/png": "[encoded data removed]",
      "text/plain": [
       "<matplotlib.figure.Figure at 0x1e72c979eb8>"
      ]
     },
     "metadata": {},
     "output_type": "display_data"
    }
   ],
   "source": [
    "plt.plot(pl)\n",
    "plt.plot(2.5*pw + 0.8)\n",
    "plt.legend(['pl','pw'])"
   ]
  },
  {
   "cell_type": "code",
   "execution_count": 9,
   "metadata": {},
   "outputs": [
    {
     "data": {
      "text/plain": [
       "(-0.3529480286738351, 7.411908602150538, -0.35000000000000003, 7.35)"
      ]
     },
     "execution_count": 9,
     "metadata": {},
     "output_type": "execute_result"
    },
    {
     "data": {
      "image/png": "[encoded data removed]",
      "text/plain": [
       "<matplotlib.figure.Figure at 0x1e72dc224e0>"
      ]
     },
     "metadata": {},
     "output_type": "display_data"
    }
   ],
   "source": [
    "plt.scatter(2.5*pw+0.8, pl)\n",
    "plt.plot([0,7],[0,7])\n",
    "plt.axis('scaled')"
   ]
  },
  {
   "cell_type": "code",
   "execution_count": null,
   "metadata": {},
   "outputs": [],
   "source": []
  },
  {
   "cell_type": "markdown",
   "metadata": {},
   "source": [
    "### 속성 3개로 나머지 속성값 예측하기\n",
    "- 아이리스 데이터 불러오기"
   ]
  },
  {
   "cell_type": "code",
   "execution_count": 4,
   "metadata": {},
   "outputs": [
    {
     "data": {
      "text/plain": [
       "['DESCR', 'data', 'feature_names', 'target', 'target_names']"
      ]
     },
     "execution_count": 4,
     "metadata": {},
     "output_type": "execute_result"
    }
   ],
   "source": [
    "import numpy as np\n",
    "import matplotlib.pyplot as plt\n",
    "\n",
    "from sklearn.datasets import load_iris\n",
    "\n",
    "iris = load_iris()\n",
    "dir(iris)"
   ]
  },
  {
   "cell_type": "markdown",
   "metadata": {},
   "source": [
    "- 앞의 속성 세가지를 가지고 마지막 속성인 Petal Width 값을 예측해 보자"
   ]
  },
  {
   "cell_type": "code",
   "execution_count": 5,
   "metadata": {},
   "outputs": [],
   "source": [
    "X = iris.data[:,:3]\n",
    "y = iris.data[:,3]"
   ]
  },
  {
   "cell_type": "code",
   "execution_count": 7,
   "metadata": {},
   "outputs": [
    {
     "data": {
      "text/plain": [
       "array([0., 0., 0., 0., 0., 0., 0., 0., 0., 0., 0., 0., 0., 0., 0., 0., 0.,\n",
       "       0., 0., 0., 0., 0., 0., 0., 0., 0., 0., 0., 0., 0., 0., 0., 0., 0.,\n",
       "       0., 0., 0., 0., 0., 0., 0., 0., 0., 0., 0., 0., 0., 0., 0., 0., 0.,\n",
       "       0., 0., 0., 0., 0., 0., 0., 0., 0., 0., 0., 0., 0., 0., 0., 0., 0.,\n",
       "       0., 0., 0., 0., 0., 0., 0., 0., 0., 0., 0., 0., 0., 0., 0., 0., 0.,\n",
       "       0., 0., 0., 0., 0., 0., 0., 0., 0., 0., 0., 0., 0., 0., 0., 0., 0.,\n",
       "       0., 0., 0., 0., 0., 0., 0., 0., 0., 0., 0., 0., 0., 0., 0., 0., 0.,\n",
       "       0., 0., 0., 0., 0., 0., 0., 0., 0., 0., 0., 0., 0., 0., 0., 0., 0.,\n",
       "       0., 0., 0., 0., 0., 0., 0., 0., 0., 0., 0., 0., 0., 0.])"
      ]
     },
     "execution_count": 7,
     "metadata": {},
     "output_type": "execute_result"
    }
   ],
   "source": [
    "w1 = 0\n",
    "w2 = 0\n",
    "w3 = 0\n",
    "b = 0\n",
    "\n",
    "pred_y = w1*X[:,0] + w2*X[:,1] + w3*X[:,2] + b # 가정 (선형회귀라는 가정)\n",
    "pred_y"
   ]
  },
  {
   "cell_type": "code",
   "execution_count": 8,
   "metadata": {},
   "outputs": [
    {
     "data": {
      "text/plain": [
       "array([0.2, 0.2, 0.2, 0.2, 0.2, 0.4, 0.3, 0.2, 0.2, 0.1, 0.2, 0.2, 0.1,\n",
       "       0.1, 0.2, 0.4, 0.4, 0.3, 0.3, 0.3, 0.2, 0.4, 0.2, 0.5, 0.2, 0.2,\n",
       "       0.4, 0.2, 0.2, 0.2, 0.2, 0.4, 0.1, 0.2, 0.1, 0.2, 0.2, 0.1, 0.2,\n",
       "       0.2, 0.3, 0.3, 0.2, 0.6, 0.4, 0.3, 0.2, 0.2, 0.2, 0.2, 1.4, 1.5,\n",
       "       1.5, 1.3, 1.5, 1.3, 1.6, 1. , 1.3, 1.4, 1. , 1.5, 1. , 1.4, 1.3,\n",
       "       1.4, 1.5, 1. , 1.5, 1.1, 1.8, 1.3, 1.5, 1.2, 1.3, 1.4, 1.4, 1.7,\n",
       "       1.5, 1. , 1.1, 1. , 1.2, 1.6, 1.5, 1.6, 1.5, 1.3, 1.3, 1.3, 1.2,\n",
       "       1.4, 1.2, 1. , 1.3, 1.2, 1.3, 1.3, 1.1, 1.3, 2.5, 1.9, 2.1, 1.8,\n",
       "       2.2, 2.1, 1.7, 1.8, 1.8, 2.5, 2. , 1.9, 2.1, 2. , 2.4, 2.3, 1.8,\n",
       "       2.2, 2.3, 1.5, 2.3, 2. , 2. , 1.8, 2.1, 1.8, 1.8, 1.8, 2.1, 1.6,\n",
       "       1.9, 2. , 2.2, 1.5, 1.4, 2.3, 2.4, 1.8, 1.8, 2.1, 2.4, 2.3, 1.9,\n",
       "       2.3, 2.5, 2.3, 1.9, 2. , 2.3, 1.8])"
      ]
     },
     "execution_count": 8,
     "metadata": {},
     "output_type": "execute_result"
    }
   ],
   "source": [
    "y"
   ]
  },
  {
   "cell_type": "code",
   "execution_count": 9,
   "metadata": {},
   "outputs": [
    {
     "data": {
      "text/plain": [
       "2.015333333333333"
      ]
     },
     "execution_count": 9,
     "metadata": {},
     "output_type": "execute_result"
    }
   ],
   "source": [
    "# 예측했을 때, 판단기준이 필요하다 (무엇이 좋고 나쁜지..) => MSE (비용함수)\n",
    "오차 = ((pred_y - y)**2).mean()\n",
    "오차"
   ]
  },
  {
   "cell_type": "code",
   "execution_count": 10,
   "metadata": {},
   "outputs": [
    {
     "data": {
      "text/plain": [
       "0.8600566666666667"
      ]
     },
     "execution_count": 10,
     "metadata": {},
     "output_type": "execute_result"
    }
   ],
   "source": [
    "w1 = 0.1\n",
    "pred_y = w1*X[:,0] + w2*X[:,1] + w3*X[:,2] + b\n",
    "오차 = ((pred_y - y)**2).mean()\n",
    "오차"
   ]
  },
  {
   "cell_type": "code",
   "execution_count": 19,
   "metadata": {},
   "outputs": [
    {
     "data": {
      "text/plain": [
       "3.8671233333333332"
      ]
     },
     "execution_count": 19,
     "metadata": {},
     "output_type": "execute_result"
    }
   ],
   "source": [
    "w1 = -0.1\n",
    "pred_y = w1*X[:,0] + w2*X[:,1] + w3*X[:,2] + b\n",
    "오차 = ((pred_y - y)**2).mean()\n",
    "오차"
   ]
  },
  {
   "cell_type": "code",
   "execution_count": null,
   "metadata": {},
   "outputs": [],
   "source": [
    "# 결론 : w1 을 증가시키자\n",
    "# 이런 과정을 무지하게 많이 반복한다"
   ]
  },
  {
   "cell_type": "code",
   "execution_count": 20,
   "metadata": {},
   "outputs": [
    {
     "data": {
      "text/plain": [
       "1.4017633333333333"
      ]
     },
     "execution_count": 20,
     "metadata": {},
     "output_type": "execute_result"
    }
   ],
   "source": [
    "w1 = 0\n",
    "w2 = 0.1\n",
    "pred_y = w1*X[:,0] + w2*X[:,1] + w3*X[:,2] + b\n",
    "오차 = ((pred_y - y)**2).mean()\n",
    "오차"
   ]
  },
  {
   "cell_type": "code",
   "execution_count": 21,
   "metadata": {},
   "outputs": [
    {
     "data": {
      "text/plain": [
       "2.819176666666667"
      ]
     },
     "execution_count": 21,
     "metadata": {},
     "output_type": "execute_result"
    }
   ],
   "source": [
    "w1 = 0\n",
    "w2 = -0.1\n",
    "pred_y = w1*X[:,0] + w2*X[:,1] + w3*X[:,2] + b\n",
    "오차 = ((pred_y - y)**2).mean()\n",
    "오차"
   ]
  },
  {
   "cell_type": "code",
   "execution_count": null,
   "metadata": {},
   "outputs": [],
   "source": []
  },
  {
   "cell_type": "markdown",
   "metadata": {},
   "source": [
    "- 학습용과 테스트용 으로 데이터 분리하기"
   ]
  },
  {
   "cell_type": "code",
   "execution_count": 12,
   "metadata": {},
   "outputs": [],
   "source": [
    "from sklearn.model_selection import train_test_split\n",
    "\n",
    "X_train, X_test, y_train, y_test = train_test_split(X, y)"
   ]
  },
  {
   "cell_type": "code",
   "execution_count": 13,
   "metadata": {},
   "outputs": [
    {
     "data": {
      "text/plain": [
       "array([1. , 1.9, 1.3, 0.2, 1.4, 2.4, 0.2, 2.2, 0.2, 0.4, 0.2, 0.2, 0.2,\n",
       "       0.2, 0.4, 2.3, 1.8, 1.8, 1.1, 1.3, 0.2, 1.6, 1. , 1.6, 1.4, 1.5,\n",
       "       2.3, 1.8, 1.8, 1.9, 1.3, 0.3, 0.3, 0.2, 1.8, 2.1, 0.3, 1.8])"
      ]
     },
     "metadata": {},
     "output_type": "display_data"
    },
    {
     "data": {
      "text/plain": [
       "array([0.93323341, 2.09901931, 1.35362847, 0.23949026, 1.30267023,\n",
       "       1.84872446, 0.19791106, 2.58787879, 0.24552185, 0.18802027,\n",
       "       0.14723351, 0.09111189, 0.08025097, 0.48812445, 0.29737445,\n",
       "       2.07364211, 1.98414528, 1.87727033, 0.80560675, 1.41981857,\n",
       "       0.17133267, 1.66962782, 1.07972007, 1.79222023, 1.40044682,\n",
       "       1.47018929, 2.06612863, 2.17162362, 1.70420529, 1.82876519,\n",
       "       1.47601597, 0.13696011, 0.19987854, 0.09883028, 1.7665362 ,\n",
       "       2.37096022, 0.32009364, 2.24274604])"
      ]
     },
     "metadata": {},
     "output_type": "display_data"
    },
    {
     "data": {
      "text/plain": [
       "0.932904707015795"
      ]
     },
     "execution_count": 13,
     "metadata": {},
     "output_type": "execute_result"
    }
   ],
   "source": [
    "from sklearn.linear_model import LinearRegression\n",
    "\n",
    "model = LinearRegression()\n",
    "model.fit(X_train, y_train) # model.coef_ 와 model.intercept_ 값이 할당됨\n",
    "\n",
    "pred_y = model.predict(X_test)\n",
    "display(y_test, pred_y)\n",
    "\n",
    "model.score(X_test, y_test)"
   ]
  },
  {
   "cell_type": "code",
   "execution_count": 14,
   "metadata": {},
   "outputs": [
    {
     "data": {
      "text/plain": [
       "<matplotlib.legend.Legend at 0x1f1aac2e828>"
      ]
     },
     "execution_count": 14,
     "metadata": {},
     "output_type": "execute_result"
    },
    {
     "data": {
      "image/png": "[encoded data removed]",
      "text/plain": [
       "<matplotlib.figure.Figure at 0x1f1aa8a0e80>"
      ]
     },
     "metadata": {},
     "output_type": "display_data"
    }
   ],
   "source": [
    "plt.plot(y_test)\n",
    "plt.plot(pred_y)\n",
    "plt.legend(['y_test', 'pred_y'])"
   ]
  },
  {
   "cell_type": "code",
   "execution_count": 15,
   "metadata": {},
   "outputs": [
    {
     "data": {
      "text/plain": [
       "<matplotlib.legend.Legend at 0x1f1abec7e80>"
      ]
     },
     "execution_count": 15,
     "metadata": {},
     "output_type": "execute_result"
    },
    {
     "data": {
      "image/png": "[encoded data removed]",
      "text/plain": [
       "<matplotlib.figure.Figure at 0x1f1aab59da0>"
      ]
     },
     "metadata": {},
     "output_type": "display_data"
    }
   ],
   "source": [
    "idx = np.argsort(y_test)\n",
    "\n",
    "plt.plot(y_test[idx])\n",
    "plt.plot(pred_y[idx])\n",
    "plt.legend(['y_test', 'pred_y'])"
   ]
  },
  {
   "cell_type": "code",
   "execution_count": 27,
   "metadata": {},
   "outputs": [
    {
     "data": {
      "text/plain": [
       "array([-0.19534608,  0.20502527,  0.51248152])"
      ]
     },
     "execution_count": 27,
     "metadata": {},
     "output_type": "execute_result"
    }
   ],
   "source": [
    "model.coef_ # 가중치 또는 기울기"
   ]
  },
  {
   "cell_type": "code",
   "execution_count": 28,
   "metadata": {},
   "outputs": [
    {
     "data": {
      "text/plain": [
       "-0.2321115734821657"
      ]
     },
     "execution_count": 28,
     "metadata": {},
     "output_type": "execute_result"
    }
   ],
   "source": [
    "model.intercept_ # 절편"
   ]
  },
  {
   "cell_type": "code",
   "execution_count": null,
   "metadata": {},
   "outputs": [],
   "source": [
    "#pred_y = w1*X[:,0] + w2*X[:,1] + w3*X[:,2] + b"
   ]
  },
  {
   "cell_type": "code",
   "execution_count": 30,
   "metadata": {},
   "outputs": [],
   "source": [
    "w1, w2, w3 = model.coef_\n",
    "b = model.intercept_"
   ]
  },
  {
   "cell_type": "code",
   "execution_count": 31,
   "metadata": {},
   "outputs": [
    {
     "data": {
      "text/plain": [
       "array([7.2, 3.6, 6.1])"
      ]
     },
     "execution_count": 31,
     "metadata": {},
     "output_type": "execute_result"
    }
   ],
   "source": [
    "X_test[0]"
   ]
  },
  {
   "cell_type": "code",
   "execution_count": 32,
   "metadata": {},
   "outputs": [
    {
     "data": {
      "text/plain": [
       "2.2256248363647977"
      ]
     },
     "execution_count": 32,
     "metadata": {},
     "output_type": "execute_result"
    }
   ],
   "source": [
    "w1*7.2 + w2*3.6 + w3*6.1 + b"
   ]
  },
  {
   "cell_type": "code",
   "execution_count": 33,
   "metadata": {},
   "outputs": [
    {
     "data": {
      "text/plain": [
       "array([2.22562484])"
      ]
     },
     "execution_count": 33,
     "metadata": {},
     "output_type": "execute_result"
    }
   ],
   "source": [
    "model.predict(X_test[[0]]) # X_test[0].reshape(-1,1)"
   ]
  },
  {
   "cell_type": "code",
   "execution_count": null,
   "metadata": {},
   "outputs": [],
   "source": []
  },
  {
   "cell_type": "code",
   "execution_count": 35,
   "metadata": {},
   "outputs": [
    {
     "data": {
      "text/plain": [
       "Text(0,0.5,'pred_y')"
      ]
     },
     "execution_count": 35,
     "metadata": {},
     "output_type": "execute_result"
    },
    {
     "data": {
      "image/png": "[encoded data removed]",
      "text/plain": [
       "<matplotlib.figure.Figure at 0x1e72e225278>"
      ]
     },
     "metadata": {},
     "output_type": "display_data"
    }
   ],
   "source": [
    "plt.scatter(y_test, pred_y)\n",
    "plt.plot([0,3], [0,3], ':')\n",
    "plt.axis('scaled')\n",
    "plt.xlabel('y_test')\n",
    "plt.ylabel('pred_y')"
   ]
  },
  {
   "cell_type": "code",
   "execution_count": 40,
   "metadata": {},
   "outputs": [
    {
     "data": {
      "text/plain": [
       "(0, 2)"
      ]
     },
     "execution_count": 40,
     "metadata": {},
     "output_type": "execute_result"
    },
    {
     "data": {
      "image/png": "[encoded data removed]",
      "text/plain": [
       "<matplotlib.figure.Figure at 0x1e72e337fd0>"
      ]
     },
     "metadata": {},
     "output_type": "display_data"
    }
   ],
   "source": [
    "plt.scatter(y_test, pred_y/y_test)\n",
    "plt.hlines([1],0,2.5,linestyles=':')\n",
    "plt.axis('scaled')\n",
    "plt.ylim(0,2)"
   ]
  },
  {
   "cell_type": "code",
   "execution_count": 20,
   "metadata": {},
   "outputs": [
    {
     "data": {
      "text/plain": [
       "<matplotlib.legend.Legend at 0x192ea626d68>"
      ]
     },
     "execution_count": 20,
     "metadata": {},
     "output_type": "execute_result"
    },
    {
     "data": {
      "image/png": "[encoded data removed]",
      "text/plain": [
       "<matplotlib.figure.Figure at 0x192ea51e7b8>"
      ]
     },
     "metadata": {},
     "output_type": "display_data"
    }
   ],
   "source": [
    "idx = np.argsort(y_test)\n",
    "\n",
    "plt.plot(y_test[idx], 'bo--')\n",
    "plt.plot(pred_y[idx], 'r-')\n",
    "plt.legend(['y_test', 'pred_y'])"
   ]
  },
  {
   "cell_type": "code",
   "execution_count": null,
   "metadata": {},
   "outputs": [],
   "source": []
  },
  {
   "cell_type": "markdown",
   "metadata": {},
   "source": [
    "### 속성 하나와 목표값 하나로 제한"
   ]
  },
  {
   "cell_type": "code",
   "execution_count": 48,
   "metadata": {},
   "outputs": [],
   "source": [
    "# petal width 를 속성값, petal length 를 목표값으로 하자\n",
    "# 학습/테스트 데이터를 분리하지 않는다\n",
    "X = iris.data[:,[3]] # iris.data[:,3].reshape(-1,1)\n",
    "y = iris.data[:,2]"
   ]
  },
  {
   "cell_type": "code",
   "execution_count": 49,
   "metadata": {},
   "outputs": [
    {
     "data": {
      "text/plain": [
       "LinearRegression(copy_X=True, fit_intercept=True, n_jobs=1, normalize=False)"
      ]
     },
     "execution_count": 49,
     "metadata": {},
     "output_type": "execute_result"
    }
   ],
   "source": [
    "# 훈련을 시켜 기울기와 절편값을 구한다\n",
    "model = LinearRegression()\n",
    "model.fit(X, y)"
   ]
  },
  {
   "cell_type": "code",
   "execution_count": 50,
   "metadata": {},
   "outputs": [
    {
     "data": {
      "text/plain": [
       "(array([2.22588531]), 1.090572145877378)"
      ]
     },
     "execution_count": 50,
     "metadata": {},
     "output_type": "execute_result"
    }
   ],
   "source": [
    "model.coef_, model.intercept_"
   ]
  },
  {
   "cell_type": "code",
   "execution_count": 51,
   "metadata": {},
   "outputs": [],
   "source": [
    "w = model.coef_[0]\n",
    "b = model.intercept_"
   ]
  },
  {
   "cell_type": "code",
   "execution_count": 63,
   "metadata": {},
   "outputs": [
    {
     "data": {
      "image/png": "[encoded data removed]",
      "text/plain": [
       "<matplotlib.figure.Figure at 0x1e72dc4f908>"
      ]
     },
     "metadata": {},
     "output_type": "display_data"
    }
   ],
   "source": [
    "# 아래 그림에 근사하는 직선을 그려보자\n",
    "plt.scatter(iris.data[:,3], iris.data[:,2])\n",
    "plt.plot([0, 3], [b, 3*w+b], 'r:', lw=3)\n",
    "plt.axis('equal')\n",
    "plt.xlabel('petal width')\n",
    "plt.ylabel('petal length')\n",
    "pass"
   ]
  },
  {
   "cell_type": "code",
   "execution_count": 59,
   "metadata": {},
   "outputs": [
    {
     "data": {
      "text/plain": [
       "0.9269012279220037"
      ]
     },
     "execution_count": 59,
     "metadata": {},
     "output_type": "execute_result"
    }
   ],
   "source": [
    "model.score(X, y)"
   ]
  },
  {
   "cell_type": "code",
   "execution_count": 62,
   "metadata": {
    "collapsed": true
   },
   "outputs": [
    {
     "data": {
      "text/plain": [
       "array([1.4, 1.4, 1.3, 1.5, 1.4, 1.7, 1.4, 1.5, 1.4, 1.5, 1.5, 1.6, 1.4,\n",
       "       1.1, 1.2, 1.5, 1.3, 1.4, 1.7, 1.5, 1.7, 1.5, 1. , 1.7, 1.9, 1.6,\n",
       "       1.6, 1.5, 1.4, 1.6, 1.6, 1.5, 1.5, 1.4, 1.5, 1.2, 1.3, 1.5, 1.3,\n",
       "       1.5, 1.3, 1.3, 1.3, 1.6, 1.9, 1.4, 1.6, 1.4, 1.5, 1.4, 4.7, 4.5,\n",
       "       4.9, 4. , 4.6, 4.5, 4.7, 3.3, 4.6, 3.9, 3.5, 4.2, 4. , 4.7, 3.6,\n",
       "       4.4, 4.5, 4.1, 4.5, 3.9, 4.8, 4. , 4.9, 4.7, 4.3, 4.4, 4.8, 5. ,\n",
       "       4.5, 3.5, 3.8, 3.7, 3.9, 5.1, 4.5, 4.5, 4.7, 4.4, 4.1, 4. , 4.4,\n",
       "       4.6, 4. , 3.3, 4.2, 4.2, 4.2, 4.3, 3. , 4.1, 6. , 5.1, 5.9, 5.6,\n",
       "       5.8, 6.6, 4.5, 6.3, 5.8, 6.1, 5.1, 5.3, 5.5, 5. , 5.1, 5.3, 5.5,\n",
       "       6.7, 6.9, 5. , 5.7, 4.9, 6.7, 4.9, 5.7, 6. , 4.8, 4.9, 5.6, 5.8,\n",
       "       6.1, 6.4, 5.6, 5.1, 5.6, 6.1, 5.6, 5.5, 4.8, 5.4, 5.6, 5.1, 5.1,\n",
       "       5.9, 5.7, 5.2, 5. , 5.2, 5.4, 5.1])"
      ]
     },
     "metadata": {},
     "output_type": "display_data"
    },
    {
     "data": {
      "text/plain": [
       "array([1.53574921, 1.53574921, 1.53574921, 1.53574921, 1.53574921,\n",
       "       1.98092627, 1.75833774, 1.53574921, 1.53574921, 1.31316068,\n",
       "       1.53574921, 1.53574921, 1.31316068, 1.31316068, 1.53574921,\n",
       "       1.98092627, 1.98092627, 1.75833774, 1.75833774, 1.75833774,\n",
       "       1.53574921, 1.98092627, 1.53574921, 2.2035148 , 1.53574921,\n",
       "       1.53574921, 1.98092627, 1.53574921, 1.53574921, 1.53574921,\n",
       "       1.53574921, 1.98092627, 1.31316068, 1.53574921, 1.31316068,\n",
       "       1.53574921, 1.53574921, 1.31316068, 1.53574921, 1.53574921,\n",
       "       1.75833774, 1.75833774, 1.53574921, 2.42610333, 1.98092627,\n",
       "       1.75833774, 1.53574921, 1.53574921, 1.53574921, 1.53574921,\n",
       "       4.20681158, 4.42940011, 4.42940011, 3.98422304, 4.42940011,\n",
       "       3.98422304, 4.65198864, 3.31645745, 3.98422304, 4.20681158,\n",
       "       3.31645745, 4.42940011, 3.31645745, 4.20681158, 3.98422304,\n",
       "       4.20681158, 4.42940011, 3.31645745, 4.42940011, 3.53904598,\n",
       "       5.0971657 , 3.98422304, 4.42940011, 3.76163451, 3.98422304,\n",
       "       4.20681158, 4.20681158, 4.87457717, 4.42940011, 3.31645745,\n",
       "       3.53904598, 3.31645745, 3.76163451, 4.65198864, 4.42940011,\n",
       "       4.65198864, 4.42940011, 3.98422304, 3.98422304, 3.98422304,\n",
       "       3.76163451, 4.20681158, 3.76163451, 3.31645745, 3.98422304,\n",
       "       3.76163451, 3.98422304, 3.98422304, 3.53904598, 3.98422304,\n",
       "       6.65528541, 5.31975423, 5.76493129, 5.0971657 , 5.98751982,\n",
       "       5.76493129, 4.87457717, 5.0971657 , 5.0971657 , 6.65528541,\n",
       "       5.54234276, 5.31975423, 5.76493129, 5.54234276, 6.43269688,\n",
       "       6.21010835, 5.0971657 , 5.98751982, 6.21010835, 4.42940011,\n",
       "       6.21010835, 5.54234276, 5.54234276, 5.0971657 , 5.76493129,\n",
       "       5.0971657 , 5.0971657 , 5.0971657 , 5.76493129, 4.65198864,\n",
       "       5.31975423, 5.54234276, 5.98751982, 4.42940011, 4.20681158,\n",
       "       6.21010835, 6.43269688, 5.0971657 , 5.0971657 , 5.76493129,\n",
       "       6.43269688, 6.21010835, 5.31975423, 6.21010835, 6.65528541,\n",
       "       6.21010835, 5.31975423, 5.54234276, 6.21010835, 5.0971657 ])"
      ]
     },
     "metadata": {},
     "output_type": "display_data"
    }
   ],
   "source": [
    "pred_y = model.predict(X)\n",
    "display(y, pred_y)"
   ]
  },
  {
   "cell_type": "code",
   "execution_count": 64,
   "metadata": {},
   "outputs": [
    {
     "data": {
      "text/plain": [
       "3.758666666666666"
      ]
     },
     "execution_count": 64,
     "metadata": {},
     "output_type": "execute_result"
    }
   ],
   "source": [
    "y.mean()"
   ]
  },
  {
   "cell_type": "markdown",
   "metadata": {},
   "source": [
    "- 회귀에서의 평가 점수는 $R^2$ (Coefficient of Determination, 결정계수) 이라는 것을 사용한다.<br>\n",
    "\n",
    "> $R^2 = 1 - \\frac{\\sum (y-\\hat{y})^2} {\\sum (y-\\bar{y})^2} $  ($\\bar{y}$ 는 평균, $\\hat{y}$ 는 예측값)<br>\n",
    "> 평균값으로 예측한 경우에 비해 얼마나 잘 예측했는지를 평가한다. (최대값은 1)<br>\n",
    "> $R^2$ 값이 1 이면 완벽하게 예측했다는 의미이고, 0 이면 누구나 하듯이 평균값으로 에측했다는 의미이다. 그리고 음수이면 평균값 예측보다도 못하다는 의미가 된다.\n",
    "\n",
    "- 앞에서 model.fit() 을 하고 나면, model.coef\\_ 으로 기울기 값을 model.intercept\\_ 로 y절편 값을 얻을 수 있다.\n",
    "- 그런데 앞의 예제는 앞에서 중요하게 강조했던 학습세트와 테스트세트로 분리하지 않았다. 그냥 전체 데이터를 사용하여 두 속성의 상관관계 만을 알고 싶었기 때문이다.\n",
    "- 하지만 제대로 머신러닝 과정을 밟기 위해 아래에서 학습세트와 테스트세트로 분리하여 적용해 보자. 이렇게 하면 여러가지 예측모델 중에서 어떤 예측모델이 더 나은지 판단할 수 있게 된다."
   ]
  },
  {
   "cell_type": "markdown",
   "metadata": {},
   "source": [
    "### 속성들 간의 관계를 선형회귀로 알아보자"
   ]
  },
  {
   "cell_type": "code",
   "execution_count": 65,
   "metadata": {},
   "outputs": [],
   "source": [
    "X = iris.data[:,[0]] # iris.data[:,3].reshape(-1,1)\n",
    "y = iris.data[:,1]"
   ]
  },
  {
   "cell_type": "code",
   "execution_count": 66,
   "metadata": {},
   "outputs": [
    {
     "data": {
      "text/plain": [
       "LinearRegression(copy_X=True, fit_intercept=True, n_jobs=1, normalize=False)"
      ]
     },
     "execution_count": 66,
     "metadata": {},
     "output_type": "execute_result"
    }
   ],
   "source": [
    "model = LinearRegression()\n",
    "model.fit(X, y)"
   ]
  },
  {
   "cell_type": "code",
   "execution_count": 67,
   "metadata": {},
   "outputs": [
    {
     "data": {
      "text/plain": [
       "(array([-0.05726823]), 3.3886373794881)"
      ]
     },
     "execution_count": 67,
     "metadata": {},
     "output_type": "execute_result"
    }
   ],
   "source": [
    "model.coef_, model.intercept_"
   ]
  },
  {
   "cell_type": "code",
   "execution_count": 68,
   "metadata": {},
   "outputs": [],
   "source": [
    "w = model.coef_[0]\n",
    "b = model.intercept_"
   ]
  },
  {
   "cell_type": "code",
   "execution_count": 70,
   "metadata": {},
   "outputs": [
    {
     "data": {
      "image/png": "[encoded data removed]",
      "text/plain": [
       "<matplotlib.figure.Figure at 0x1e72e986390>"
      ]
     },
     "metadata": {},
     "output_type": "display_data"
    }
   ],
   "source": [
    "plt.scatter(iris.data[:,0], iris.data[:,1])\n",
    "plt.plot([4, 8], [4*w+b, 8*w+b], 'r:', lw=3)\n",
    "plt.axis('equal')\n",
    "plt.xlabel('sepal length')\n",
    "plt.ylabel('sepal width')"
   ]
  },
  {
   "cell_type": "code",
   "execution_count": 71,
   "metadata": {},
   "outputs": [
    {
     "data": {
      "text/plain": [
       "0.011961632834767588"
      ]
     },
     "execution_count": 71,
     "metadata": {},
     "output_type": "execute_result"
    }
   ],
   "source": [
    "model.score(X, y)"
   ]
  },
  {
   "cell_type": "code",
   "execution_count": null,
   "metadata": {},
   "outputs": [],
   "source": []
  },
  {
   "cell_type": "code",
   "execution_count": 72,
   "metadata": {},
   "outputs": [],
   "source": [
    "X = iris.data[:,[0]] # iris.data[:,3].reshape(-1,1)\n",
    "y = iris.data[:,2]"
   ]
  },
  {
   "cell_type": "code",
   "execution_count": 73,
   "metadata": {},
   "outputs": [
    {
     "data": {
      "text/plain": [
       "LinearRegression(copy_X=True, fit_intercept=True, n_jobs=1, normalize=False)"
      ]
     },
     "execution_count": 73,
     "metadata": {},
     "output_type": "execute_result"
    }
   ],
   "source": [
    "model = LinearRegression()\n",
    "model.fit(X, y)"
   ]
  },
  {
   "cell_type": "code",
   "execution_count": 74,
   "metadata": {},
   "outputs": [
    {
     "data": {
      "text/plain": [
       "(array([1.85750967]), -7.0953814782793145)"
      ]
     },
     "execution_count": 74,
     "metadata": {},
     "output_type": "execute_result"
    }
   ],
   "source": [
    "model.coef_, model.intercept_"
   ]
  },
  {
   "cell_type": "code",
   "execution_count": 75,
   "metadata": {},
   "outputs": [],
   "source": [
    "w = model.coef_[0]\n",
    "b = model.intercept_"
   ]
  },
  {
   "cell_type": "code",
   "execution_count": 79,
   "metadata": {},
   "outputs": [
    {
     "data": {
      "image/png": "[encoded data removed]",
      "text/plain": [
       "<matplotlib.figure.Figure at 0x1e72ea44dd8>"
      ]
     },
     "metadata": {},
     "output_type": "display_data"
    }
   ],
   "source": [
    "# 아래 그림에 근사하는 직선을 그려보자\n",
    "plt.scatter(iris.data[:,0], iris.data[:,2])\n",
    "plt.plot([4, 8], [4*w+b, 8*w+b], 'r:', lw=3)\n",
    "plt.axis('equal')\n",
    "plt.xlabel('sepal length')\n",
    "plt.ylabel('petal length')\n",
    "pass"
   ]
  },
  {
   "cell_type": "code",
   "execution_count": 78,
   "metadata": {},
   "outputs": [
    {
     "data": {
      "text/plain": [
       "0.7599553107783261"
      ]
     },
     "execution_count": 78,
     "metadata": {},
     "output_type": "execute_result"
    }
   ],
   "source": [
    "model.score(X, y)"
   ]
  },
  {
   "cell_type": "code",
   "execution_count": null,
   "metadata": {},
   "outputs": [],
   "source": [
    "# MSE (Mean Squared Error) 를 구하자 => y 와 pred_y 를 이용\n",
    "pred_y = model.predict(X)\n",
    "mse = ((pred_y - y)**2).mean()\n",
    "mae = (np.abs(pred_y-y)).mean()\n",
    "mse, mae"
   ]
  },
  {
   "cell_type": "code",
   "execution_count": null,
   "metadata": {},
   "outputs": [],
   "source": []
  },
  {
   "cell_type": "markdown",
   "metadata": {},
   "source": [
    "### 모든 속성 적용하기"
   ]
  },
  {
   "cell_type": "markdown",
   "metadata": {},
   "source": [
    "- 이제 타겟값인 petal_width 를 제외한 나머지 세가지 속성을 모두 사용하여 선형회귀를 적용해 보자.\n",
    "- 이럴 경우, 4차원 상에 3차원 초평면으로 예측하기 때문에 그림으로 결과를 표현하기는 쉽지 않다."
   ]
  },
  {
   "cell_type": "code",
   "execution_count": 37,
   "metadata": {},
   "outputs": [
    {
     "name": "stdout",
     "output_type": "stream",
     "text": [
      "w = [-0.25262564  0.26218795  0.54348953]\n",
      "b = -0.17445381394099968\n"
     ]
    }
   ],
   "source": [
    "X = iris.data[:,:3]\n",
    "y = iris.data[:,3]\n",
    "\n",
    "X_train,X_test,y_train,y_test = train_test_split(X, y)\n",
    "\n",
    "model = LinearRegression()\n",
    "model.fit(X_train, y_train)\n",
    "\n",
    "w = model.coef_ # 기울기 (데이터의 속성이 3개이므로 값이 3개임)\n",
    "b = model.intercept_ # y 절편\n",
    "\n",
    "print('w =',w)\n",
    "print('b =',b)"
   ]
  },
  {
   "cell_type": "code",
   "execution_count": 45,
   "metadata": {},
   "outputs": [
    {
     "data": {
      "text/plain": [
       "'학습세트 점수: 0.926902'"
      ]
     },
     "metadata": {},
     "output_type": "display_data"
    },
    {
     "data": {
      "text/plain": [
       "'테스트세트 점수: 0.925286'"
      ]
     },
     "metadata": {},
     "output_type": "display_data"
    }
   ],
   "source": [
    "score1 = model.score(X_train, y_train)\n",
    "score2 = model.score(X_test, y_test)\n",
    "display('학습세트 점수: %f' % score1, '테스트세트 점수: %f' % score2) # R^2 값"
   ]
  },
  {
   "cell_type": "markdown",
   "metadata": {},
   "source": [
    "- 속성이 3개이므로 w 의 값은 3개이다.\n",
    "> $pred\\_y = w_1 \\cdot x_1 + w_2 \\cdot x_2 + w_3 \\cdot x_3 + b$\n",
    "\n",
    "- train_test_split() 함수를 호출할 때 마다 훈련세트/테스트세트 가 새롭게 구성되므로 score 가 달라질 수 있고 학습 보다 테스트 시 더 score 가 높은 경우도 있다.\n",
    "- 다양한 선형회귀 모델은 다음 URL 을 참고하자. (http://scikit-learn.org/stable/modules/linear_model.html)\n",
    "- 선형회귀의 변종인 릿지회귀와 라쏘회귀는 뒤에서 다룬다.\n",
    "- 2차곡선, 3차곡선 과 같이 다항식을 적용한 다항회귀도 있다. (위 URL의 1.1.16 참고)"
   ]
  },
  {
   "cell_type": "code",
   "execution_count": 39,
   "metadata": {},
   "outputs": [
    {
     "data": {
      "text/plain": [
       "array([1.72776505, 2.01862895])"
      ]
     },
     "execution_count": 39,
     "metadata": {},
     "output_type": "execute_result"
    }
   ],
   "source": [
    "x = [[1,2,3], [2,2,4]]\n",
    "model.predict(x)"
   ]
  },
  {
   "cell_type": "code",
   "execution_count": 40,
   "metadata": {},
   "outputs": [
    {
     "data": {
      "text/plain": [
       "1.7277650536860119"
      ]
     },
     "execution_count": 40,
     "metadata": {},
     "output_type": "execute_result"
    }
   ],
   "source": [
    "# [1,2,3] 샘플에 대한 예측값 직접 계산\n",
    "model.coef_[0]*1 + model.coef_[1]*2 + model.coef_[2]*3 + model.intercept_"
   ]
  },
  {
   "cell_type": "markdown",
   "metadata": {},
   "source": [
    "- 선형회귀에서 사용하는 선형 알고리즘은 다른 많은 머신러닝 알고리즘의 기반이 된다.\n",
    "- 특히 신경망의 핵심 알고리즘은 선형회귀에서 나온 것이며, 가장 간단한 신경망은 곧 선형회귀와 같다."
   ]
  },
  {
   "cell_type": "code",
   "execution_count": 46,
   "metadata": {},
   "outputs": [
    {
     "name": "stdout",
     "output_type": "stream",
     "text": [
      "w = [ 0.73769041 -0.51141073]\n",
      "b = -1.5614067257337525\n"
     ]
    }
   ],
   "source": [
    "X = iris.data[:,:2]\n",
    "y = iris.data[:,3]\n",
    "\n",
    "X_train,X_test,y_train,y_test = train_test_split(X, y)\n",
    "\n",
    "model = LinearRegression()\n",
    "model.fit(X_train, y_train)\n",
    "\n",
    "w = model.coef_ # 가중치\n",
    "b = model.intercept_ # y 절편\n",
    "\n",
    "print('w =',w)\n",
    "print('b =',b)"
   ]
  },
  {
   "cell_type": "code",
   "execution_count": 47,
   "metadata": {},
   "outputs": [
    {
     "data": {
      "text/plain": [
       "0.7369987746782513"
      ]
     },
     "execution_count": 47,
     "metadata": {},
     "output_type": "execute_result"
    }
   ],
   "source": [
    "model.score(X_test, y_test)"
   ]
  },
  {
   "cell_type": "markdown",
   "metadata": {},
   "source": [
    "### 와인데이터 회귀 적용"
   ]
  },
  {
   "cell_type": "code",
   "execution_count": 83,
   "metadata": {},
   "outputs": [],
   "source": [
    "wine = np.loadtxt('winequality-red.csv', skiprows=1, delimiter=';')"
   ]
  },
  {
   "cell_type": "code",
   "execution_count": 84,
   "metadata": {},
   "outputs": [],
   "source": [
    "col1 = 0\n",
    "col2 = 2"
   ]
  },
  {
   "cell_type": "code",
   "execution_count": 85,
   "metadata": {},
   "outputs": [
    {
     "data": {
      "text/plain": [
       "array([0.  , 0.  , 0.04, ..., 0.13, 0.12, 0.47])"
      ]
     },
     "execution_count": 85,
     "metadata": {},
     "output_type": "execute_result"
    }
   ],
   "source": [
    "wine[:,2]"
   ]
  },
  {
   "cell_type": "code",
   "execution_count": 86,
   "metadata": {},
   "outputs": [
    {
     "data": {
      "text/plain": [
       "[<matplotlib.lines.Line2D at 0x1e72e7ba630>]"
      ]
     },
     "execution_count": 86,
     "metadata": {},
     "output_type": "execute_result"
    },
    {
     "data": {
      "image/png": "[encoded data removed]",
      "text/plain": [
       "<matplotlib.figure.Figure at 0x1e72eb5af98>"
      ]
     },
     "metadata": {},
     "output_type": "display_data"
    }
   ],
   "source": [
    "plt.scatter(wine[:,col1], wine[:,col2]*10, c=wine[:,-1], alpha=0.2)\n",
    "plt.colorbar()\n",
    "plt.axis('equal')\n",
    "plt.plot([4,16],[4*0.75-3.54, 16*0.75-3.54])"
   ]
  },
  {
   "cell_type": "code",
   "execution_count": null,
   "metadata": {},
   "outputs": [],
   "source": []
  },
  {
   "cell_type": "code",
   "execution_count": 87,
   "metadata": {},
   "outputs": [
    {
     "name": "stdout",
     "output_type": "stream",
     "text": [
      "w = 0.0751529893715566\n",
      "b = -0.3542700018191085\n"
     ]
    }
   ],
   "source": [
    "X = wine[:,[0]]\n",
    "y = wine[:,2]\n",
    "\n",
    "model = LinearRegression()\n",
    "model.fit(X, y)\n",
    "\n",
    "w = model.coef_[0] # 기울기\n",
    "b = model.intercept_ # y 절편\n",
    "\n",
    "print('w =',w)\n",
    "print('b =',b)"
   ]
  },
  {
   "cell_type": "code",
   "execution_count": 88,
   "metadata": {
    "scrolled": true
   },
   "outputs": [
    {
     "data": {
      "text/plain": [
       "[<matplotlib.lines.Line2D at 0x1e72e816f98>]"
      ]
     },
     "execution_count": 88,
     "metadata": {},
     "output_type": "execute_result"
    },
    {
     "data": {
      "image/png": "[encoded data removed]",
      "text/plain": [
       "<matplotlib.figure.Figure at 0x1e72eb5aeb8>"
      ]
     },
     "metadata": {},
     "output_type": "display_data"
    }
   ],
   "source": [
    "plt.scatter(wine[:,0], wine[:,2], c=wine[:,-1], alpha=0.2)\n",
    "plt.colorbar()\n",
    "plt.plot([4,16],[4*w+b, 16*w+b])"
   ]
  },
  {
   "cell_type": "code",
   "execution_count": 89,
   "metadata": {},
   "outputs": [
    {
     "data": {
      "text/plain": [
       "0.4511855042738975"
      ]
     },
     "execution_count": 89,
     "metadata": {},
     "output_type": "execute_result"
    }
   ],
   "source": [
    "model.score(X, y)"
   ]
  },
  {
   "cell_type": "code",
   "execution_count": null,
   "metadata": {},
   "outputs": [],
   "source": []
  },
  {
   "cell_type": "code",
   "execution_count": 91,
   "metadata": {},
   "outputs": [
    {
     "data": {
      "text/plain": [
       "['DESCR', 'data', 'feature_names', 'target', 'target_names']"
      ]
     },
     "execution_count": 91,
     "metadata": {},
     "output_type": "execute_result"
    }
   ],
   "source": [
    "from sklearn.datasets import load_wine\n",
    "\n",
    "wine2 = load_wine()\n",
    "dir(wine2)"
   ]
  },
  {
   "cell_type": "code",
   "execution_count": 93,
   "metadata": {},
   "outputs": [
    {
     "data": {
      "text/plain": [
       "array(['class_0', 'class_1', 'class_2'], dtype='<U7')"
      ]
     },
     "execution_count": 93,
     "metadata": {},
     "output_type": "execute_result"
    }
   ],
   "source": [
    "wine2.target_names"
   ]
  },
  {
   "cell_type": "markdown",
   "metadata": {},
   "source": [
    "### 모든 속성 적용하여 점수 예측"
   ]
  },
  {
   "cell_type": "code",
   "execution_count": 94,
   "metadata": {},
   "outputs": [
    {
     "name": "stdout",
     "output_type": "stream",
     "text": [
      "w = [ 2.49905527e-02 -1.08359026e+00 -1.82563948e-01  1.63312698e-02\n",
      " -1.87422516e+00  4.36133331e-03 -3.26457970e-03 -1.78811638e+01\n",
      " -4.13653144e-01  9.16334413e-01  2.76197699e-01]\n",
      "b = 21.965208449448404\n"
     ]
    }
   ],
   "source": [
    "wine = np.loadtxt('winequality-red.csv', skiprows=1, delimiter=';')\n",
    "\n",
    "X = wine[:,:-1]\n",
    "y = wine[:,-1]\n",
    "\n",
    "model = LinearRegression()\n",
    "model.fit(X, y)\n",
    "\n",
    "w = model.coef_ # 기울기\n",
    "b = model.intercept_ # y 절편\n",
    "\n",
    "print('w =',w)\n",
    "print('b =',b)"
   ]
  },
  {
   "cell_type": "code",
   "execution_count": 96,
   "metadata": {},
   "outputs": [
    {
     "data": {
      "image/png": "[encoded data removed]",
      "text/plain": [
       "<matplotlib.figure.Figure at 0x2bdfb24b978>"
      ]
     },
     "metadata": {},
     "output_type": "display_data"
    }
   ],
   "source": [
    "plt.boxplot(wine)\n",
    "pass"
   ]
  },
  {
   "cell_type": "code",
   "execution_count": 49,
   "metadata": {},
   "outputs": [
    {
     "data": {
      "text/plain": [
       "0.3605517030386881"
      ]
     },
     "execution_count": 49,
     "metadata": {},
     "output_type": "execute_result"
    }
   ],
   "source": [
    "model.score(X, y)"
   ]
  },
  {
   "cell_type": "code",
   "execution_count": 97,
   "metadata": {},
   "outputs": [
    {
     "data": {
      "text/plain": [
       "0.5004899635644872"
      ]
     },
     "execution_count": 97,
     "metadata": {},
     "output_type": "execute_result"
    }
   ],
   "source": [
    "pred_y = model.predict(X)\n",
    "\n",
    "MAE = np.abs(y - pred_y).sum()/len(y)\n",
    "MAE"
   ]
  },
  {
   "cell_type": "code",
   "execution_count": 51,
   "metadata": {},
   "outputs": [
    {
     "data": {
      "text/plain": [
       "<matplotlib.legend.Legend at 0x1ba7d75fd30>"
      ]
     },
     "execution_count": 51,
     "metadata": {},
     "output_type": "execute_result"
    },
    {
     "data": {
      "image/png": "[encoded data removed]",
      "text/plain": [
       "<Figure size 864x288 with 1 Axes>"
      ]
     },
     "metadata": {
      "needs_background": "light"
     },
     "output_type": "display_data"
    }
   ],
   "source": [
    "plt.figure(figsize=[12,4])\n",
    "plt.plot(y)\n",
    "plt.plot(pred_y)\n",
    "plt.legend(['y', 'pred_y'])"
   ]
  },
  {
   "cell_type": "code",
   "execution_count": 57,
   "metadata": {},
   "outputs": [
    {
     "data": {
      "text/plain": [
       "<matplotlib.legend.Legend at 0x11e52cd8f98>"
      ]
     },
     "execution_count": 57,
     "metadata": {},
     "output_type": "execute_result"
    },
    {
     "data": {
      "image/png": "[encoded data removed]",
      "text/plain": [
       "<Figure size 864x288 with 1 Axes>"
      ]
     },
     "metadata": {
      "needs_background": "light"
     },
     "output_type": "display_data"
    }
   ],
   "source": [
    "idx = np.argsort(y)\n",
    "\n",
    "plt.figure(figsize=[12,4])\n",
    "plt.plot(y[idx])\n",
    "plt.plot(pred_y[idx])\n",
    "plt.legend(['y', 'pred_y'])"
   ]
  },
  {
   "cell_type": "code",
   "execution_count": 99,
   "metadata": {},
   "outputs": [
    {
     "data": {
      "text/plain": [
       "[<matplotlib.lines.Line2D at 0x2bdfd23f240>]"
      ]
     },
     "execution_count": 99,
     "metadata": {},
     "output_type": "execute_result"
    },
    {
     "data": {
      "image/png": "[encoded data removed]",
      "text/plain": [
       "<matplotlib.figure.Figure at 0x2bdfd19ec18>"
      ]
     },
     "metadata": {},
     "output_type": "display_data"
    }
   ],
   "source": [
    "plt.scatter(y, pred_y, c=y)\n",
    "plt.colorbar()\n",
    "plt.plot([0,10], [0,10])"
   ]
  },
  {
   "cell_type": "code",
   "execution_count": 101,
   "metadata": {},
   "outputs": [
    {
     "data": {
      "image/png": "[encoded data removed]",
      "text/plain": [
       "<matplotlib.figure.Figure at 0x2bdfd478f98>"
      ]
     },
     "metadata": {},
     "output_type": "display_data"
    }
   ],
   "source": [
    "X_norm = (X-X.mean(axis=0))/X.std(axis=0)\n",
    "plt.boxplot(X_norm)\n",
    "pass"
   ]
  },
  {
   "cell_type": "code",
   "execution_count": 102,
   "metadata": {},
   "outputs": [
    {
     "name": "stdout",
     "output_type": "stream",
     "text": [
      "w = [ 0.04349735 -0.19396667 -0.03555254  0.02301871 -0.08818339  0.04560596\n",
      " -0.10735582 -0.03373717 -0.06384247  0.1552765   0.29424288]\n",
      "b = 5.636022514071305\n"
     ]
    }
   ],
   "source": [
    "model = LinearRegression()\n",
    "model.fit(X_norm, y)\n",
    "\n",
    "w = model.coef_ # 기울기\n",
    "b = model.intercept_ # y 절편\n",
    "\n",
    "print('w =',w)\n",
    "print('b =',b)"
   ]
  },
  {
   "cell_type": "code",
   "execution_count": 103,
   "metadata": {},
   "outputs": [
    {
     "data": {
      "text/plain": [
       "0.3605517030386882"
      ]
     },
     "execution_count": 103,
     "metadata": {},
     "output_type": "execute_result"
    }
   ],
   "source": [
    "model.score(X_norm, y)"
   ]
  },
  {
   "cell_type": "code",
   "execution_count": 105,
   "metadata": {},
   "outputs": [
    {
     "data": {
      "text/plain": [
       "<Container object of 11 artists>"
      ]
     },
     "execution_count": 105,
     "metadata": {},
     "output_type": "execute_result"
    },
    {
     "data": {
      "image/png": "[encoded data removed]",
      "text/plain": [
       "<matplotlib.figure.Figure at 0x2bdfd71cc88>"
      ]
     },
     "metadata": {},
     "output_type": "display_data"
    }
   ],
   "source": [
    "plt.bar(range(11), w)"
   ]
  },
  {
   "cell_type": "code",
   "execution_count": 110,
   "metadata": {},
   "outputs": [
    {
     "data": {
      "text/plain": [
       "<matplotlib.colorbar.Colorbar at 0x2bdfce74198>"
      ]
     },
     "execution_count": 110,
     "metadata": {},
     "output_type": "execute_result"
    },
    {
     "data": {
      "image/png": "[encoded data removed]",
      "text/plain": [
       "<matplotlib.figure.Figure at 0x2bdfcb3ada0>"
      ]
     },
     "metadata": {},
     "output_type": "display_data"
    }
   ],
   "source": [
    "plt.imshow(w.reshape(1,-1), vmin= -0.3, vmax=0.3, cmap='seismic')\n",
    "plt.colorbar()"
   ]
  },
  {
   "cell_type": "markdown",
   "metadata": {},
   "source": [
    "### 지하철 데이터 적용"
   ]
  },
  {
   "cell_type": "code",
   "execution_count": 111,
   "metadata": {},
   "outputs": [],
   "source": [
    "import pandas as pd"
   ]
  },
  {
   "cell_type": "code",
   "execution_count": 112,
   "metadata": {},
   "outputs": [
    {
     "data": {
      "text/html": [
       "<div>\n",
       "<style scoped>\n",
       "    .dataframe tbody tr th:only-of-type {\n",
       "        vertical-align: middle;\n",
       "    }\n",
       "\n",
       "    .dataframe tbody tr th {\n",
       "        vertical-align: top;\n",
       "    }\n",
       "\n",
       "    .dataframe thead th {\n",
       "        text-align: right;\n",
       "    }\n",
       "</style>\n",
       "<table border=\"1\" class=\"dataframe\">\n",
       "  <thead>\n",
       "    <tr style=\"text-align: right;\">\n",
       "      <th></th>\n",
       "      <th>사용일자</th>\n",
       "      <th>노선명</th>\n",
       "      <th>역ID</th>\n",
       "      <th>역명</th>\n",
       "      <th>승차총승객수</th>\n",
       "      <th>하차총승객수</th>\n",
       "      <th>등록일자</th>\n",
       "    </tr>\n",
       "  </thead>\n",
       "  <tbody>\n",
       "    <tr>\n",
       "      <th>0</th>\n",
       "      <td>20190501</td>\n",
       "      <td>일산선</td>\n",
       "      <td>1955</td>\n",
       "      <td>마두</td>\n",
       "      <td>8528</td>\n",
       "      <td>8796</td>\n",
       "      <td>20190504</td>\n",
       "    </tr>\n",
       "    <tr>\n",
       "      <th>1</th>\n",
       "      <td>20190501</td>\n",
       "      <td>일산선</td>\n",
       "      <td>1954</td>\n",
       "      <td>백석</td>\n",
       "      <td>10118</td>\n",
       "      <td>10399</td>\n",
       "      <td>20190504</td>\n",
       "    </tr>\n",
       "    <tr>\n",
       "      <th>2</th>\n",
       "      <td>20190501</td>\n",
       "      <td>일산선</td>\n",
       "      <td>1953</td>\n",
       "      <td>대곡</td>\n",
       "      <td>1655</td>\n",
       "      <td>1406</td>\n",
       "      <td>20190504</td>\n",
       "    </tr>\n",
       "    <tr>\n",
       "      <th>3</th>\n",
       "      <td>20190501</td>\n",
       "      <td>일산선</td>\n",
       "      <td>1952</td>\n",
       "      <td>화정</td>\n",
       "      <td>20102</td>\n",
       "      <td>20951</td>\n",
       "      <td>20190504</td>\n",
       "    </tr>\n",
       "    <tr>\n",
       "      <th>4</th>\n",
       "      <td>20190501</td>\n",
       "      <td>일산선</td>\n",
       "      <td>1951</td>\n",
       "      <td>원당</td>\n",
       "      <td>11419</td>\n",
       "      <td>11064</td>\n",
       "      <td>20190504</td>\n",
       "    </tr>\n",
       "  </tbody>\n",
       "</table>\n",
       "</div>"
      ],
      "text/plain": [
       "       사용일자  노선명   역ID  역명  승차총승객수  하차총승객수      등록일자\n",
       "0  20190501  일산선  1955  마두    8528    8796  20190504\n",
       "1  20190501  일산선  1954  백석   10118   10399  20190504\n",
       "2  20190501  일산선  1953  대곡    1655    1406  20190504\n",
       "3  20190501  일산선  1952  화정   20102   20951  20190504\n",
       "4  20190501  일산선  1951  원당   11419   11064  20190504"
      ]
     },
     "execution_count": 112,
     "metadata": {},
     "output_type": "execute_result"
    }
   ],
   "source": [
    "subway = pd.read_csv('CARD_SUBWAY_MONTH_201905.csv')\n",
    "subway.head()"
   ]
  },
  {
   "cell_type": "code",
   "execution_count": 113,
   "metadata": {},
   "outputs": [
    {
     "data": {
      "text/plain": [
       "(17746, 2)"
      ]
     },
     "execution_count": 113,
     "metadata": {},
     "output_type": "execute_result"
    }
   ],
   "source": [
    "data = subway[['승차총승객수', '하차총승객수']].values\n",
    "data.shape"
   ]
  },
  {
   "cell_type": "code",
   "execution_count": 126,
   "metadata": {},
   "outputs": [
    {
     "name": "stdout",
     "output_type": "stream",
     "text": [
      "w = [1.01252421]\n",
      "b = -218.6894464379002\n"
     ]
    }
   ],
   "source": [
    "X = data[:,[0]]\n",
    "y = data[:,1]\n",
    "\n",
    "model = LinearRegression()\n",
    "model.fit(X, y)\n",
    "\n",
    "w = model.coef_ # 기울기\n",
    "b = model.intercept_ # y 절편\n",
    "\n",
    "print('w =',w)\n",
    "print('b =',b)"
   ]
  },
  {
   "cell_type": "code",
   "execution_count": 128,
   "metadata": {},
   "outputs": [
    {
     "data": {
      "text/plain": [
       "(-6132.450448028674,\n",
       " 128781.45940860215,\n",
       " -7210.474608605271,\n",
       " 146608.79895907687)"
      ]
     },
     "execution_count": 128,
     "metadata": {},
     "output_type": "execute_result"
    },
    {
     "data": {
      "image/png": "[encoded data removed]",
      "text/plain": [
       "<matplotlib.figure.Figure at 0x2bdff4f50f0>"
      ]
     },
     "metadata": {},
     "output_type": "display_data"
    }
   ],
   "source": [
    "plt.scatter(X, y, alpha=0.1)\n",
    "plt.plot([0,120000], [b, 120000*w+b], 'y-', linewidth=5, alpha=0.5)\n",
    "plt.axis('scaled')"
   ]
  },
  {
   "cell_type": "code",
   "execution_count": 121,
   "metadata": {},
   "outputs": [
    {
     "name": "stdout",
     "output_type": "stream",
     "text": [
      "w = [1.11184782]\n",
      "b = -9101.899585585212\n"
     ]
    }
   ],
   "source": [
    "data2 = data[data[:,0]>100000]\n",
    "\n",
    "X = data2[:,[0]]\n",
    "y = data2[:,1]\n",
    "\n",
    "model = LinearRegression()\n",
    "model.fit(X, y)\n",
    "\n",
    "w = model.coef_ # 기울기\n",
    "b = model.intercept_ # y 절편\n",
    "\n",
    "print('w =',w)\n",
    "print('b =',b)"
   ]
  },
  {
   "cell_type": "code",
   "execution_count": 125,
   "metadata": {},
   "outputs": [
    {
     "data": {
      "text/plain": [
       "(100000, 150000)"
      ]
     },
     "execution_count": 125,
     "metadata": {},
     "output_type": "execute_result"
    },
    {
     "data": {
      "image/png": "[encoded data removed]",
      "text/plain": [
       "<matplotlib.figure.Figure at 0x2bdff5cb898>"
      ]
     },
     "metadata": {},
     "output_type": "display_data"
    }
   ],
   "source": [
    "plt.scatter(X, y)\n",
    "plt.plot([0,120000], [b, 120000*w+b], 'r:')\n",
    "plt.axis('scaled')\n",
    "plt.xlim(100000, 150000)\n",
    "plt.ylim(100000, 150000)"
   ]
  },
  {
   "cell_type": "markdown",
   "metadata": {},
   "source": [
    "### world 데이터 적용\n",
    "```\n",
    "CREATE TABLE `country` (\n",
    "  `Code` char(3) NOT NULL DEFAULT '',\n",
    "  `Name` char(52) NOT NULL DEFAULT '',\n",
    "  `Continent` enum('Asia','Europe','North America','Africa','Oceania','Antarctica','South America') NOT NULL DEFAULT 'Asia',\n",
    "  `Region` char(26) NOT NULL DEFAULT '',\n",
    "  `SurfaceArea` decimal(10,2) NOT NULL DEFAULT '0.00',\n",
    "  `IndepYear` smallint DEFAULT NULL,\n",
    "  `Population` int NOT NULL DEFAULT '0',\n",
    "  `LifeExpectancy` decimal(3,1) DEFAULT NULL,\n",
    "  `GNP` decimal(10,2) DEFAULT NULL,\n",
    "  `GNPOld` decimal(10,2) DEFAULT NULL,\n",
    "  `LocalName` char(45) NOT NULL DEFAULT '',\n",
    "  `GovernmentForm` char(45) NOT NULL DEFAULT '',\n",
    "  `HeadOfState` char(60) DEFAULT NULL,\n",
    "  `Capital` int DEFAULT NULL,\n",
    "  `Code2` char(2) NOT NULL DEFAULT '',\n",
    "  PRIMARY KEY (`Code`)\n",
    ") ENGINE=InnoDB DEFAULT CHARSET=utf8mb4;\n",
    "```"
   ]
  },
  {
   "cell_type": "code",
   "execution_count": 132,
   "metadata": {},
   "outputs": [],
   "source": [
    "world = pd.read_csv('world.csv', header=None, quotechar=\"'\")"
   ]
  },
  {
   "cell_type": "code",
   "execution_count": null,
   "metadata": {},
   "outputs": [],
   "source": [
    "world.columns = [....]"
   ]
  },
  {
   "cell_type": "code",
   "execution_count": 133,
   "metadata": {},
   "outputs": [
    {
     "name": "stdout",
     "output_type": "stream",
     "text": [
      "<class 'pandas.core.frame.DataFrame'>\n",
      "RangeIndex: 239 entries, 0 to 238\n",
      "Data columns (total 15 columns):\n",
      "0     239 non-null object\n",
      "1     239 non-null object\n",
      "2     239 non-null object\n",
      "3     239 non-null object\n",
      "4     239 non-null float64\n",
      "5     192 non-null float64\n",
      "6     239 non-null int64\n",
      "7     222 non-null float64\n",
      "8     239 non-null float64\n",
      "9     178 non-null float64\n",
      "10    239 non-null object\n",
      "11    239 non-null object\n",
      "12    236 non-null object\n",
      "13    232 non-null float64\n",
      "14    238 non-null object\n",
      "dtypes: float64(6), int64(1), object(8)\n",
      "memory usage: 28.1+ KB\n"
     ]
    }
   ],
   "source": [
    "world.info()"
   ]
  },
  {
   "cell_type": "code",
   "execution_count": 138,
   "metadata": {},
   "outputs": [
    {
     "data": {
      "text/html": [
       "<div>\n",
       "<style scoped>\n",
       "    .dataframe tbody tr th:only-of-type {\n",
       "        vertical-align: middle;\n",
       "    }\n",
       "\n",
       "    .dataframe tbody tr th {\n",
       "        vertical-align: top;\n",
       "    }\n",
       "\n",
       "    .dataframe thead th {\n",
       "        text-align: right;\n",
       "    }\n",
       "</style>\n",
       "<table border=\"1\" class=\"dataframe\">\n",
       "  <thead>\n",
       "    <tr style=\"text-align: right;\">\n",
       "      <th></th>\n",
       "      <th>4</th>\n",
       "      <th>5</th>\n",
       "      <th>6</th>\n",
       "      <th>7</th>\n",
       "      <th>8</th>\n",
       "      <th>9</th>\n",
       "      <th>13</th>\n",
       "    </tr>\n",
       "  </thead>\n",
       "  <tbody>\n",
       "    <tr>\n",
       "      <th>count</th>\n",
       "      <td>2.390000e+02</td>\n",
       "      <td>192.000000</td>\n",
       "      <td>2.390000e+02</td>\n",
       "      <td>222.000000</td>\n",
       "      <td>2.390000e+02</td>\n",
       "      <td>1.780000e+02</td>\n",
       "      <td>232.000000</td>\n",
       "    </tr>\n",
       "    <tr>\n",
       "      <th>mean</th>\n",
       "      <td>6.232481e+05</td>\n",
       "      <td>1847.260417</td>\n",
       "      <td>2.543410e+07</td>\n",
       "      <td>66.486036</td>\n",
       "      <td>1.228239e+05</td>\n",
       "      <td>1.655343e+05</td>\n",
       "      <td>2071.306034</td>\n",
       "    </tr>\n",
       "    <tr>\n",
       "      <th>std</th>\n",
       "      <td>1.924140e+06</td>\n",
       "      <td>420.831370</td>\n",
       "      <td>1.093398e+08</td>\n",
       "      <td>11.519267</td>\n",
       "      <td>6.379976e+05</td>\n",
       "      <td>7.204689e+05</td>\n",
       "      <td>1184.095609</td>\n",
       "    </tr>\n",
       "    <tr>\n",
       "      <th>min</th>\n",
       "      <td>4.000000e-01</td>\n",
       "      <td>-1523.000000</td>\n",
       "      <td>0.000000e+00</td>\n",
       "      <td>37.200000</td>\n",
       "      <td>0.000000e+00</td>\n",
       "      <td>1.570000e+02</td>\n",
       "      <td>1.000000</td>\n",
       "    </tr>\n",
       "    <tr>\n",
       "      <th>25%</th>\n",
       "      <td>2.275000e+03</td>\n",
       "      <td>1906.750000</td>\n",
       "      <td>2.380000e+05</td>\n",
       "      <td>60.300000</td>\n",
       "      <td>6.400000e+02</td>\n",
       "      <td>2.187000e+03</td>\n",
       "      <td>915.750000</td>\n",
       "    </tr>\n",
       "    <tr>\n",
       "      <th>50%</th>\n",
       "      <td>7.174000e+04</td>\n",
       "      <td>1960.000000</td>\n",
       "      <td>3.869000e+06</td>\n",
       "      <td>70.150000</td>\n",
       "      <td>4.787000e+03</td>\n",
       "      <td>8.421000e+03</td>\n",
       "      <td>2449.500000</td>\n",
       "    </tr>\n",
       "    <tr>\n",
       "      <th>75%</th>\n",
       "      <td>3.987545e+05</td>\n",
       "      <td>1974.000000</td>\n",
       "      <td>1.493550e+07</td>\n",
       "      <td>75.500000</td>\n",
       "      <td>2.994450e+04</td>\n",
       "      <td>7.114550e+04</td>\n",
       "      <td>3065.250000</td>\n",
       "    </tr>\n",
       "    <tr>\n",
       "      <th>max</th>\n",
       "      <td>1.707540e+07</td>\n",
       "      <td>1994.000000</td>\n",
       "      <td>1.277558e+09</td>\n",
       "      <td>83.500000</td>\n",
       "      <td>8.510700e+06</td>\n",
       "      <td>8.110900e+06</td>\n",
       "      <td>4074.000000</td>\n",
       "    </tr>\n",
       "  </tbody>\n",
       "</table>\n",
       "</div>"
      ],
      "text/plain": [
       "                 4            5             6           7             8   \\\n",
       "count  2.390000e+02   192.000000  2.390000e+02  222.000000  2.390000e+02   \n",
       "mean   6.232481e+05  1847.260417  2.543410e+07   66.486036  1.228239e+05   \n",
       "std    1.924140e+06   420.831370  1.093398e+08   11.519267  6.379976e+05   \n",
       "min    4.000000e-01 -1523.000000  0.000000e+00   37.200000  0.000000e+00   \n",
       "25%    2.275000e+03  1906.750000  2.380000e+05   60.300000  6.400000e+02   \n",
       "50%    7.174000e+04  1960.000000  3.869000e+06   70.150000  4.787000e+03   \n",
       "75%    3.987545e+05  1974.000000  1.493550e+07   75.500000  2.994450e+04   \n",
       "max    1.707540e+07  1994.000000  1.277558e+09   83.500000  8.510700e+06   \n",
       "\n",
       "                 9            13  \n",
       "count  1.780000e+02   232.000000  \n",
       "mean   1.655343e+05  2071.306034  \n",
       "std    7.204689e+05  1184.095609  \n",
       "min    1.570000e+02     1.000000  \n",
       "25%    2.187000e+03   915.750000  \n",
       "50%    8.421000e+03  2449.500000  \n",
       "75%    7.114550e+04  3065.250000  \n",
       "max    8.110900e+06  4074.000000  "
      ]
     },
     "execution_count": 138,
     "metadata": {},
     "output_type": "execute_result"
    }
   ],
   "source": [
    "world.describe()"
   ]
  },
  {
   "cell_type": "code",
   "execution_count": 134,
   "metadata": {},
   "outputs": [
    {
     "data": {
      "text/html": [
       "<div>\n",
       "<style scoped>\n",
       "    .dataframe tbody tr th:only-of-type {\n",
       "        vertical-align: middle;\n",
       "    }\n",
       "\n",
       "    .dataframe tbody tr th {\n",
       "        vertical-align: top;\n",
       "    }\n",
       "\n",
       "    .dataframe thead th {\n",
       "        text-align: right;\n",
       "    }\n",
       "</style>\n",
       "<table border=\"1\" class=\"dataframe\">\n",
       "  <thead>\n",
       "    <tr style=\"text-align: right;\">\n",
       "      <th></th>\n",
       "      <th>6</th>\n",
       "      <th>8</th>\n",
       "    </tr>\n",
       "  </thead>\n",
       "  <tbody>\n",
       "    <tr>\n",
       "      <th>0</th>\n",
       "      <td>103000</td>\n",
       "      <td>828.0</td>\n",
       "    </tr>\n",
       "    <tr>\n",
       "      <th>1</th>\n",
       "      <td>22720000</td>\n",
       "      <td>5976.0</td>\n",
       "    </tr>\n",
       "    <tr>\n",
       "      <th>2</th>\n",
       "      <td>12878000</td>\n",
       "      <td>6648.0</td>\n",
       "    </tr>\n",
       "    <tr>\n",
       "      <th>3</th>\n",
       "      <td>8000</td>\n",
       "      <td>63.2</td>\n",
       "    </tr>\n",
       "    <tr>\n",
       "      <th>4</th>\n",
       "      <td>3401200</td>\n",
       "      <td>3205.0</td>\n",
       "    </tr>\n",
       "  </tbody>\n",
       "</table>\n",
       "</div>"
      ],
      "text/plain": [
       "          6       8\n",
       "0    103000   828.0\n",
       "1  22720000  5976.0\n",
       "2  12878000  6648.0\n",
       "3      8000    63.2\n",
       "4   3401200  3205.0"
      ]
     },
     "execution_count": 134,
     "metadata": {},
     "output_type": "execute_result"
    }
   ],
   "source": [
    "world[[6,8]].head()"
   ]
  },
  {
   "cell_type": "code",
   "execution_count": 139,
   "metadata": {},
   "outputs": [
    {
     "data": {
      "text/plain": [
       "array([[1.0300e+03, 8.2800e+02],\n",
       "       [2.2720e+05, 5.9760e+03],\n",
       "       [1.2878e+05, 6.6480e+03],\n",
       "       [8.0000e+01, 6.3200e+01],\n",
       "       [3.4012e+04, 3.2050e+03]])"
      ]
     },
     "execution_count": 139,
     "metadata": {},
     "output_type": "execute_result"
    }
   ],
   "source": [
    "data = world[[6,8]].values * [0.01, 1]\n",
    "data[:5]"
   ]
  },
  {
   "cell_type": "code",
   "execution_count": 140,
   "metadata": {},
   "outputs": [
    {
     "name": "stdout",
     "output_type": "stream",
     "text": [
      "w = [0.16408199]\n",
      "b = 81091.10747673977\n"
     ]
    }
   ],
   "source": [
    "X = data[:,[0]]\n",
    "y = data[:,1]\n",
    "\n",
    "model = LinearRegression()\n",
    "model.fit(X, y)\n",
    "\n",
    "w = model.coef_ # 기울기\n",
    "b = model.intercept_ # y 절편\n",
    "\n",
    "print('w =',w)\n",
    "print('b =',b)"
   ]
  },
  {
   "cell_type": "code",
   "execution_count": 144,
   "metadata": {},
   "outputs": [
    {
     "data": {
      "text/plain": [
       "(0, 2000000.0)"
      ]
     },
     "execution_count": 144,
     "metadata": {},
     "output_type": "execute_result"
    },
    {
     "data": {
      "image/png": "[encoded data removed]",
      "text/plain": [
       "<matplotlib.figure.Figure at 0x2bdff74b358>"
      ]
     },
     "metadata": {},
     "output_type": "display_data"
    }
   ],
   "source": [
    "plt.scatter(X, y, alpha=0.1)\n",
    "plt.plot([0, 1.3e7], [b, 1.3e7*w+b], 'y-', linewidth=5, alpha=0.5)\n",
    "plt.axis('scaled')\n",
    "plt.xlim(0,0.2e7)\n",
    "plt.ylim(0,0.2e7)\n"
   ]
  },
  {
   "cell_type": "code",
   "execution_count": 145,
   "metadata": {},
   "outputs": [
    {
     "data": {
      "text/plain": [
       "0.07907523077375755"
      ]
     },
     "execution_count": 145,
     "metadata": {},
     "output_type": "execute_result"
    }
   ],
   "source": [
    "model.score(X, y)"
   ]
  },
  {
   "cell_type": "code",
   "execution_count": 146,
   "metadata": {},
   "outputs": [
    {
     "data": {
      "text/html": [
       "<div>\n",
       "<style scoped>\n",
       "    .dataframe tbody tr th:only-of-type {\n",
       "        vertical-align: middle;\n",
       "    }\n",
       "\n",
       "    .dataframe tbody tr th {\n",
       "        vertical-align: top;\n",
       "    }\n",
       "\n",
       "    .dataframe thead th {\n",
       "        text-align: right;\n",
       "    }\n",
       "</style>\n",
       "<table border=\"1\" class=\"dataframe\">\n",
       "  <thead>\n",
       "    <tr style=\"text-align: right;\">\n",
       "      <th></th>\n",
       "      <th>6</th>\n",
       "      <th>7</th>\n",
       "      <th>8</th>\n",
       "    </tr>\n",
       "  </thead>\n",
       "  <tbody>\n",
       "    <tr>\n",
       "      <th>0</th>\n",
       "      <td>103000</td>\n",
       "      <td>78.4</td>\n",
       "      <td>828.0</td>\n",
       "    </tr>\n",
       "    <tr>\n",
       "      <th>1</th>\n",
       "      <td>22720000</td>\n",
       "      <td>45.9</td>\n",
       "      <td>5976.0</td>\n",
       "    </tr>\n",
       "    <tr>\n",
       "      <th>2</th>\n",
       "      <td>12878000</td>\n",
       "      <td>38.3</td>\n",
       "      <td>6648.0</td>\n",
       "    </tr>\n",
       "    <tr>\n",
       "      <th>3</th>\n",
       "      <td>8000</td>\n",
       "      <td>76.1</td>\n",
       "      <td>63.2</td>\n",
       "    </tr>\n",
       "    <tr>\n",
       "      <th>4</th>\n",
       "      <td>3401200</td>\n",
       "      <td>71.6</td>\n",
       "      <td>3205.0</td>\n",
       "    </tr>\n",
       "  </tbody>\n",
       "</table>\n",
       "</div>"
      ],
      "text/plain": [
       "          6     7       8\n",
       "0    103000  78.4   828.0\n",
       "1  22720000  45.9  5976.0\n",
       "2  12878000  38.3  6648.0\n",
       "3      8000  76.1    63.2\n",
       "4   3401200  71.6  3205.0"
      ]
     },
     "execution_count": 146,
     "metadata": {},
     "output_type": "execute_result"
    }
   ],
   "source": [
    "data2 = world[[6,7,8]]\n",
    "data2.head()"
   ]
  },
  {
   "cell_type": "code",
   "execution_count": 148,
   "metadata": {},
   "outputs": [
    {
     "data": {
      "text/plain": [
       "(239, 3)"
      ]
     },
     "execution_count": 148,
     "metadata": {},
     "output_type": "execute_result"
    }
   ],
   "source": [
    "data2.shape"
   ]
  },
  {
   "cell_type": "code",
   "execution_count": 149,
   "metadata": {},
   "outputs": [
    {
     "data": {
      "text/plain": [
       "(222, 3)"
      ]
     },
     "execution_count": 149,
     "metadata": {},
     "output_type": "execute_result"
    }
   ],
   "source": [
    "data3 = data2.dropna()\n",
    "data3.shape"
   ]
  },
  {
   "cell_type": "code",
   "execution_count": 150,
   "metadata": {},
   "outputs": [],
   "source": [
    "wdata = data3.values"
   ]
  },
  {
   "cell_type": "code",
   "execution_count": 151,
   "metadata": {},
   "outputs": [
    {
     "data": {
      "text/plain": [
       "(222, 3)"
      ]
     },
     "execution_count": 151,
     "metadata": {},
     "output_type": "execute_result"
    }
   ],
   "source": [
    "wdata.shape"
   ]
  },
  {
   "cell_type": "code",
   "execution_count": 152,
   "metadata": {},
   "outputs": [
    {
     "data": {
      "text/plain": [
       "array([[1.0300e+05, 7.8400e+01, 8.2800e+02],\n",
       "       [2.2720e+07, 4.5900e+01, 5.9760e+03],\n",
       "       [1.2878e+07, 3.8300e+01, 6.6480e+03],\n",
       "       [8.0000e+03, 7.6100e+01, 6.3200e+01],\n",
       "       [3.4012e+06, 7.1600e+01, 3.2050e+03]])"
      ]
     },
     "execution_count": 152,
     "metadata": {},
     "output_type": "execute_result"
    }
   ],
   "source": [
    "wdata[:5] # 인구수, 기대수명, GNP"
   ]
  },
  {
   "cell_type": "code",
   "execution_count": 154,
   "metadata": {},
   "outputs": [
    {
     "data": {
      "text/plain": [
       "array([0.00803883, 0.00026303, 0.00051623, 0.0079    , 0.00094231])"
      ]
     },
     "execution_count": 154,
     "metadata": {},
     "output_type": "execute_result"
    }
   ],
   "source": [
    "(wdata[:,2]/wdata[:,0])[:5]"
   ]
  },
  {
   "cell_type": "code",
   "execution_count": 155,
   "metadata": {},
   "outputs": [
    {
     "data": {
      "text/plain": [
       "(222, 4)"
      ]
     },
     "execution_count": 155,
     "metadata": {},
     "output_type": "execute_result"
    }
   ],
   "source": [
    "wdata2 = np.c_[wdata, wdata[:,2]/wdata[:,0]]\n",
    "wdata2.shape # # 인구수, 기대수명, GNP, 일인당GNP"
   ]
  },
  {
   "cell_type": "code",
   "execution_count": 158,
   "metadata": {},
   "outputs": [
    {
     "data": {
      "image/png": "[encoded data removed]",
      "text/plain": [
       "<matplotlib.figure.Figure at 0x2bdff693908>"
      ]
     },
     "metadata": {},
     "output_type": "display_data"
    }
   ],
   "source": [
    "wdata3 = (wdata2-wdata2.mean(axis=0))/wdata2.std(axis=0)\n",
    "plt.boxplot(wdata3)\n",
    "pass"
   ]
  },
  {
   "cell_type": "code",
   "execution_count": 163,
   "metadata": {},
   "outputs": [],
   "source": [
    "wdata4 = wdata3[wdata3[:,3]>0]"
   ]
  },
  {
   "cell_type": "code",
   "execution_count": 166,
   "metadata": {},
   "outputs": [
    {
     "name": "stdout",
     "output_type": "stream",
     "text": [
      "w = [0.54425044]\n",
      "b = -3.934950605345577e-16\n"
     ]
    }
   ],
   "source": [
    "X = wdata3[:,[3]]\n",
    "y = wdata3[:,1]\n",
    "\n",
    "model = LinearRegression()\n",
    "model.fit(X, y)\n",
    "\n",
    "w = model.coef_ # 기울기\n",
    "b = model.intercept_ # y 절편\n",
    "\n",
    "print('w =',w)\n",
    "print('b =',b)"
   ]
  },
  {
   "cell_type": "code",
   "execution_count": 167,
   "metadata": {},
   "outputs": [
    {
     "data": {
      "text/plain": [
       "(-1.25, 4.25, -2.7988395423416748, 2.4139465963635263)"
      ]
     },
     "execution_count": 167,
     "metadata": {},
     "output_type": "execute_result"
    },
    {
     "data": {
      "image/png": "[encoded data removed]",
      "text/plain": [
       "<matplotlib.figure.Figure at 0x2bdf9c25d68>"
      ]
     },
     "metadata": {},
     "output_type": "display_data"
    }
   ],
   "source": [
    "plt.scatter(X, y, alpha=0.5)\n",
    "plt.plot([-1, 4], [-1*w+b, 4*w+b], 'y-', linewidth=5, alpha=0.5)\n",
    "plt.axis('scaled')\n",
    "#plt.xlim(0,0.2e7)\n",
    "#plt.ylim(0,0.2e7)\n"
   ]
  },
  {
   "cell_type": "code",
   "execution_count": 169,
   "metadata": {},
   "outputs": [
    {
     "data": {
      "text/plain": [
       "<matplotlib.collections.PathCollection at 0x2bdffd71d30>"
      ]
     },
     "execution_count": 169,
     "metadata": {},
     "output_type": "execute_result"
    },
    {
     "data": {
      "image/png": "[encoded data removed]",
      "text/plain": [
       "<matplotlib.figure.Figure at 0x2bd80747390>"
      ]
     },
     "metadata": {},
     "output_type": "display_data"
    }
   ],
   "source": [
    "plt.scatter(np.log(X+1), y)"
   ]
  },
  {
   "cell_type": "markdown",
   "metadata": {},
   "source": [
    "### 행렬식 계산"
   ]
  },
  {
   "cell_type": "code",
   "execution_count": 17,
   "metadata": {},
   "outputs": [],
   "source": [
    "X = iris.data[:,:3]\n",
    "y = iris.data[:,3] # petal width"
   ]
  },
  {
   "cell_type": "code",
   "execution_count": 18,
   "metadata": {},
   "outputs": [
    {
     "data": {
      "text/plain": [
       "array([[5.1, 3.5, 1.4],\n",
       "       [4.9, 3. , 1.4],\n",
       "       [4.7, 3.2, 1.3],\n",
       "       [4.6, 3.1, 1.5],\n",
       "       [5. , 3.6, 1.4],\n",
       "       [5.4, 3.9, 1.7],\n",
       "       [4.6, 3.4, 1.4],\n",
       "       [5. , 3.4, 1.5],\n",
       "       [4.4, 2.9, 1.4],\n",
       "       [4.9, 3.1, 1.5],\n",
       "       [5.4, 3.7, 1.5],\n",
       "       [4.8, 3.4, 1.6],\n",
       "       [4.8, 3. , 1.4],\n",
       "       [4.3, 3. , 1.1],\n",
       "       [5.8, 4. , 1.2],\n",
       "       [5.7, 4.4, 1.5],\n",
       "       [5.4, 3.9, 1.3],\n",
       "       [5.1, 3.5, 1.4],\n",
       "       [5.7, 3.8, 1.7],\n",
       "       [5.1, 3.8, 1.5],\n",
       "       [5.4, 3.4, 1.7],\n",
       "       [5.1, 3.7, 1.5],\n",
       "       [4.6, 3.6, 1. ],\n",
       "       [5.1, 3.3, 1.7],\n",
       "       [4.8, 3.4, 1.9],\n",
       "       [5. , 3. , 1.6],\n",
       "       [5. , 3.4, 1.6],\n",
       "       [5.2, 3.5, 1.5],\n",
       "       [5.2, 3.4, 1.4],\n",
       "       [4.7, 3.2, 1.6],\n",
       "       [4.8, 3.1, 1.6],\n",
       "       [5.4, 3.4, 1.5],\n",
       "       [5.2, 4.1, 1.5],\n",
       "       [5.5, 4.2, 1.4],\n",
       "       [4.9, 3.1, 1.5],\n",
       "       [5. , 3.2, 1.2],\n",
       "       [5.5, 3.5, 1.3],\n",
       "       [4.9, 3.1, 1.5],\n",
       "       [4.4, 3. , 1.3],\n",
       "       [5.1, 3.4, 1.5],\n",
       "       [5. , 3.5, 1.3],\n",
       "       [4.5, 2.3, 1.3],\n",
       "       [4.4, 3.2, 1.3],\n",
       "       [5. , 3.5, 1.6],\n",
       "       [5.1, 3.8, 1.9],\n",
       "       [4.8, 3. , 1.4],\n",
       "       [5.1, 3.8, 1.6],\n",
       "       [4.6, 3.2, 1.4],\n",
       "       [5.3, 3.7, 1.5],\n",
       "       [5. , 3.3, 1.4],\n",
       "       [7. , 3.2, 4.7],\n",
       "       [6.4, 3.2, 4.5],\n",
       "       [6.9, 3.1, 4.9],\n",
       "       [5.5, 2.3, 4. ],\n",
       "       [6.5, 2.8, 4.6],\n",
       "       [5.7, 2.8, 4.5],\n",
       "       [6.3, 3.3, 4.7],\n",
       "       [4.9, 2.4, 3.3],\n",
       "       [6.6, 2.9, 4.6],\n",
       "       [5.2, 2.7, 3.9],\n",
       "       [5. , 2. , 3.5],\n",
       "       [5.9, 3. , 4.2],\n",
       "       [6. , 2.2, 4. ],\n",
       "       [6.1, 2.9, 4.7],\n",
       "       [5.6, 2.9, 3.6],\n",
       "       [6.7, 3.1, 4.4],\n",
       "       [5.6, 3. , 4.5],\n",
       "       [5.8, 2.7, 4.1],\n",
       "       [6.2, 2.2, 4.5],\n",
       "       [5.6, 2.5, 3.9],\n",
       "       [5.9, 3.2, 4.8],\n",
       "       [6.1, 2.8, 4. ],\n",
       "       [6.3, 2.5, 4.9],\n",
       "       [6.1, 2.8, 4.7],\n",
       "       [6.4, 2.9, 4.3],\n",
       "       [6.6, 3. , 4.4],\n",
       "       [6.8, 2.8, 4.8],\n",
       "       [6.7, 3. , 5. ],\n",
       "       [6. , 2.9, 4.5],\n",
       "       [5.7, 2.6, 3.5],\n",
       "       [5.5, 2.4, 3.8],\n",
       "       [5.5, 2.4, 3.7],\n",
       "       [5.8, 2.7, 3.9],\n",
       "       [6. , 2.7, 5.1],\n",
       "       [5.4, 3. , 4.5],\n",
       "       [6. , 3.4, 4.5],\n",
       "       [6.7, 3.1, 4.7],\n",
       "       [6.3, 2.3, 4.4],\n",
       "       [5.6, 3. , 4.1],\n",
       "       [5.5, 2.5, 4. ],\n",
       "       [5.5, 2.6, 4.4],\n",
       "       [6.1, 3. , 4.6],\n",
       "       [5.8, 2.6, 4. ],\n",
       "       [5. , 2.3, 3.3],\n",
       "       [5.6, 2.7, 4.2],\n",
       "       [5.7, 3. , 4.2],\n",
       "       [5.7, 2.9, 4.2],\n",
       "       [6.2, 2.9, 4.3],\n",
       "       [5.1, 2.5, 3. ],\n",
       "       [5.7, 2.8, 4.1],\n",
       "       [6.3, 3.3, 6. ],\n",
       "       [5.8, 2.7, 5.1],\n",
       "       [7.1, 3. , 5.9],\n",
       "       [6.3, 2.9, 5.6],\n",
       "       [6.5, 3. , 5.8],\n",
       "       [7.6, 3. , 6.6],\n",
       "       [4.9, 2.5, 4.5],\n",
       "       [7.3, 2.9, 6.3],\n",
       "       [6.7, 2.5, 5.8],\n",
       "       [7.2, 3.6, 6.1],\n",
       "       [6.5, 3.2, 5.1],\n",
       "       [6.4, 2.7, 5.3],\n",
       "       [6.8, 3. , 5.5],\n",
       "       [5.7, 2.5, 5. ],\n",
       "       [5.8, 2.8, 5.1],\n",
       "       [6.4, 3.2, 5.3],\n",
       "       [6.5, 3. , 5.5],\n",
       "       [7.7, 3.8, 6.7],\n",
       "       [7.7, 2.6, 6.9],\n",
       "       [6. , 2.2, 5. ],\n",
       "       [6.9, 3.2, 5.7],\n",
       "       [5.6, 2.8, 4.9],\n",
       "       [7.7, 2.8, 6.7],\n",
       "       [6.3, 2.7, 4.9],\n",
       "       [6.7, 3.3, 5.7],\n",
       "       [7.2, 3.2, 6. ],\n",
       "       [6.2, 2.8, 4.8],\n",
       "       [6.1, 3. , 4.9],\n",
       "       [6.4, 2.8, 5.6],\n",
       "       [7.2, 3. , 5.8],\n",
       "       [7.4, 2.8, 6.1],\n",
       "       [7.9, 3.8, 6.4],\n",
       "       [6.4, 2.8, 5.6],\n",
       "       [6.3, 2.8, 5.1],\n",
       "       [6.1, 2.6, 5.6],\n",
       "       [7.7, 3. , 6.1],\n",
       "       [6.3, 3.4, 5.6],\n",
       "       [6.4, 3.1, 5.5],\n",
       "       [6. , 3. , 4.8],\n",
       "       [6.9, 3.1, 5.4],\n",
       "       [6.7, 3.1, 5.6],\n",
       "       [6.9, 3.1, 5.1],\n",
       "       [5.8, 2.7, 5.1],\n",
       "       [6.8, 3.2, 5.9],\n",
       "       [6.7, 3.3, 5.7],\n",
       "       [6.7, 3. , 5.2],\n",
       "       [6.3, 2.5, 5. ],\n",
       "       [6.5, 3. , 5.2],\n",
       "       [6.2, 3.4, 5.4],\n",
       "       [5.9, 3. , 5.1]])"
      ]
     },
     "execution_count": 18,
     "metadata": {},
     "output_type": "execute_result"
    }
   ],
   "source": [
    "X"
   ]
  },
  {
   "cell_type": "code",
   "execution_count": 19,
   "metadata": {},
   "outputs": [
    {
     "data": {
      "text/plain": [
       "array([[ 5.1,  7. ,  4.2],\n",
       "       [ 4.9,  6. ,  4.2],\n",
       "       [ 4.7,  6.4,  3.9],\n",
       "       [ 4.6,  6.2,  4.5],\n",
       "       [ 5. ,  7.2,  4.2],\n",
       "       [ 5.4,  7.8,  5.1],\n",
       "       [ 4.6,  6.8,  4.2],\n",
       "       [ 5. ,  6.8,  4.5],\n",
       "       [ 4.4,  5.8,  4.2],\n",
       "       [ 4.9,  6.2,  4.5],\n",
       "       [ 5.4,  7.4,  4.5],\n",
       "       [ 4.8,  6.8,  4.8],\n",
       "       [ 4.8,  6. ,  4.2],\n",
       "       [ 4.3,  6. ,  3.3],\n",
       "       [ 5.8,  8. ,  3.6],\n",
       "       [ 5.7,  8.8,  4.5],\n",
       "       [ 5.4,  7.8,  3.9],\n",
       "       [ 5.1,  7. ,  4.2],\n",
       "       [ 5.7,  7.6,  5.1],\n",
       "       [ 5.1,  7.6,  4.5],\n",
       "       [ 5.4,  6.8,  5.1],\n",
       "       [ 5.1,  7.4,  4.5],\n",
       "       [ 4.6,  7.2,  3. ],\n",
       "       [ 5.1,  6.6,  5.1],\n",
       "       [ 4.8,  6.8,  5.7],\n",
       "       [ 5. ,  6. ,  4.8],\n",
       "       [ 5. ,  6.8,  4.8],\n",
       "       [ 5.2,  7. ,  4.5],\n",
       "       [ 5.2,  6.8,  4.2],\n",
       "       [ 4.7,  6.4,  4.8],\n",
       "       [ 4.8,  6.2,  4.8],\n",
       "       [ 5.4,  6.8,  4.5],\n",
       "       [ 5.2,  8.2,  4.5],\n",
       "       [ 5.5,  8.4,  4.2],\n",
       "       [ 4.9,  6.2,  4.5],\n",
       "       [ 5. ,  6.4,  3.6],\n",
       "       [ 5.5,  7. ,  3.9],\n",
       "       [ 4.9,  6.2,  4.5],\n",
       "       [ 4.4,  6. ,  3.9],\n",
       "       [ 5.1,  6.8,  4.5],\n",
       "       [ 5. ,  7. ,  3.9],\n",
       "       [ 4.5,  4.6,  3.9],\n",
       "       [ 4.4,  6.4,  3.9],\n",
       "       [ 5. ,  7. ,  4.8],\n",
       "       [ 5.1,  7.6,  5.7],\n",
       "       [ 4.8,  6. ,  4.2],\n",
       "       [ 5.1,  7.6,  4.8],\n",
       "       [ 4.6,  6.4,  4.2],\n",
       "       [ 5.3,  7.4,  4.5],\n",
       "       [ 5. ,  6.6,  4.2],\n",
       "       [ 7. ,  6.4, 14.1],\n",
       "       [ 6.4,  6.4, 13.5],\n",
       "       [ 6.9,  6.2, 14.7],\n",
       "       [ 5.5,  4.6, 12. ],\n",
       "       [ 6.5,  5.6, 13.8],\n",
       "       [ 5.7,  5.6, 13.5],\n",
       "       [ 6.3,  6.6, 14.1],\n",
       "       [ 4.9,  4.8,  9.9],\n",
       "       [ 6.6,  5.8, 13.8],\n",
       "       [ 5.2,  5.4, 11.7],\n",
       "       [ 5. ,  4. , 10.5],\n",
       "       [ 5.9,  6. , 12.6],\n",
       "       [ 6. ,  4.4, 12. ],\n",
       "       [ 6.1,  5.8, 14.1],\n",
       "       [ 5.6,  5.8, 10.8],\n",
       "       [ 6.7,  6.2, 13.2],\n",
       "       [ 5.6,  6. , 13.5],\n",
       "       [ 5.8,  5.4, 12.3],\n",
       "       [ 6.2,  4.4, 13.5],\n",
       "       [ 5.6,  5. , 11.7],\n",
       "       [ 5.9,  6.4, 14.4],\n",
       "       [ 6.1,  5.6, 12. ],\n",
       "       [ 6.3,  5. , 14.7],\n",
       "       [ 6.1,  5.6, 14.1],\n",
       "       [ 6.4,  5.8, 12.9],\n",
       "       [ 6.6,  6. , 13.2],\n",
       "       [ 6.8,  5.6, 14.4],\n",
       "       [ 6.7,  6. , 15. ],\n",
       "       [ 6. ,  5.8, 13.5],\n",
       "       [ 5.7,  5.2, 10.5],\n",
       "       [ 5.5,  4.8, 11.4],\n",
       "       [ 5.5,  4.8, 11.1],\n",
       "       [ 5.8,  5.4, 11.7],\n",
       "       [ 6. ,  5.4, 15.3],\n",
       "       [ 5.4,  6. , 13.5],\n",
       "       [ 6. ,  6.8, 13.5],\n",
       "       [ 6.7,  6.2, 14.1],\n",
       "       [ 6.3,  4.6, 13.2],\n",
       "       [ 5.6,  6. , 12.3],\n",
       "       [ 5.5,  5. , 12. ],\n",
       "       [ 5.5,  5.2, 13.2],\n",
       "       [ 6.1,  6. , 13.8],\n",
       "       [ 5.8,  5.2, 12. ],\n",
       "       [ 5. ,  4.6,  9.9],\n",
       "       [ 5.6,  5.4, 12.6],\n",
       "       [ 5.7,  6. , 12.6],\n",
       "       [ 5.7,  5.8, 12.6],\n",
       "       [ 6.2,  5.8, 12.9],\n",
       "       [ 5.1,  5. ,  9. ],\n",
       "       [ 5.7,  5.6, 12.3],\n",
       "       [ 6.3,  6.6, 18. ],\n",
       "       [ 5.8,  5.4, 15.3],\n",
       "       [ 7.1,  6. , 17.7],\n",
       "       [ 6.3,  5.8, 16.8],\n",
       "       [ 6.5,  6. , 17.4],\n",
       "       [ 7.6,  6. , 19.8],\n",
       "       [ 4.9,  5. , 13.5],\n",
       "       [ 7.3,  5.8, 18.9],\n",
       "       [ 6.7,  5. , 17.4],\n",
       "       [ 7.2,  7.2, 18.3],\n",
       "       [ 6.5,  6.4, 15.3],\n",
       "       [ 6.4,  5.4, 15.9],\n",
       "       [ 6.8,  6. , 16.5],\n",
       "       [ 5.7,  5. , 15. ],\n",
       "       [ 5.8,  5.6, 15.3],\n",
       "       [ 6.4,  6.4, 15.9],\n",
       "       [ 6.5,  6. , 16.5],\n",
       "       [ 7.7,  7.6, 20.1],\n",
       "       [ 7.7,  5.2, 20.7],\n",
       "       [ 6. ,  4.4, 15. ],\n",
       "       [ 6.9,  6.4, 17.1],\n",
       "       [ 5.6,  5.6, 14.7],\n",
       "       [ 7.7,  5.6, 20.1],\n",
       "       [ 6.3,  5.4, 14.7],\n",
       "       [ 6.7,  6.6, 17.1],\n",
       "       [ 7.2,  6.4, 18. ],\n",
       "       [ 6.2,  5.6, 14.4],\n",
       "       [ 6.1,  6. , 14.7],\n",
       "       [ 6.4,  5.6, 16.8],\n",
       "       [ 7.2,  6. , 17.4],\n",
       "       [ 7.4,  5.6, 18.3],\n",
       "       [ 7.9,  7.6, 19.2],\n",
       "       [ 6.4,  5.6, 16.8],\n",
       "       [ 6.3,  5.6, 15.3],\n",
       "       [ 6.1,  5.2, 16.8],\n",
       "       [ 7.7,  6. , 18.3],\n",
       "       [ 6.3,  6.8, 16.8],\n",
       "       [ 6.4,  6.2, 16.5],\n",
       "       [ 6. ,  6. , 14.4],\n",
       "       [ 6.9,  6.2, 16.2],\n",
       "       [ 6.7,  6.2, 16.8],\n",
       "       [ 6.9,  6.2, 15.3],\n",
       "       [ 5.8,  5.4, 15.3],\n",
       "       [ 6.8,  6.4, 17.7],\n",
       "       [ 6.7,  6.6, 17.1],\n",
       "       [ 6.7,  6. , 15.6],\n",
       "       [ 6.3,  5. , 15. ],\n",
       "       [ 6.5,  6. , 15.6],\n",
       "       [ 6.2,  6.8, 16.2],\n",
       "       [ 5.9,  6. , 15.3]])"
      ]
     },
     "execution_count": 19,
     "metadata": {},
     "output_type": "execute_result"
    }
   ],
   "source": [
    "X*[1,2,3]"
   ]
  },
  {
   "cell_type": "code",
   "execution_count": 20,
   "metadata": {},
   "outputs": [
    {
     "data": {
      "text/plain": [
       "array([[ 5.1,  7. ,  4.2],\n",
       "       [ 4.9,  6. ,  4.2],\n",
       "       [ 4.7,  6.4,  3.9],\n",
       "       [ 4.6,  6.2,  4.5],\n",
       "       [ 5. ,  7.2,  4.2],\n",
       "       [ 5.4,  7.8,  5.1],\n",
       "       [ 4.6,  6.8,  4.2],\n",
       "       [ 5. ,  6.8,  4.5],\n",
       "       [ 4.4,  5.8,  4.2],\n",
       "       [ 4.9,  6.2,  4.5],\n",
       "       [ 5.4,  7.4,  4.5],\n",
       "       [ 4.8,  6.8,  4.8],\n",
       "       [ 4.8,  6. ,  4.2],\n",
       "       [ 4.3,  6. ,  3.3],\n",
       "       [ 5.8,  8. ,  3.6],\n",
       "       [ 5.7,  8.8,  4.5],\n",
       "       [ 5.4,  7.8,  3.9],\n",
       "       [ 5.1,  7. ,  4.2],\n",
       "       [ 5.7,  7.6,  5.1],\n",
       "       [ 5.1,  7.6,  4.5],\n",
       "       [ 5.4,  6.8,  5.1],\n",
       "       [ 5.1,  7.4,  4.5],\n",
       "       [ 4.6,  7.2,  3. ],\n",
       "       [ 5.1,  6.6,  5.1],\n",
       "       [ 4.8,  6.8,  5.7],\n",
       "       [ 5. ,  6. ,  4.8],\n",
       "       [ 5. ,  6.8,  4.8],\n",
       "       [ 5.2,  7. ,  4.5],\n",
       "       [ 5.2,  6.8,  4.2],\n",
       "       [ 4.7,  6.4,  4.8],\n",
       "       [ 4.8,  6.2,  4.8],\n",
       "       [ 5.4,  6.8,  4.5],\n",
       "       [ 5.2,  8.2,  4.5],\n",
       "       [ 5.5,  8.4,  4.2],\n",
       "       [ 4.9,  6.2,  4.5],\n",
       "       [ 5. ,  6.4,  3.6],\n",
       "       [ 5.5,  7. ,  3.9],\n",
       "       [ 4.9,  6.2,  4.5],\n",
       "       [ 4.4,  6. ,  3.9],\n",
       "       [ 5.1,  6.8,  4.5],\n",
       "       [ 5. ,  7. ,  3.9],\n",
       "       [ 4.5,  4.6,  3.9],\n",
       "       [ 4.4,  6.4,  3.9],\n",
       "       [ 5. ,  7. ,  4.8],\n",
       "       [ 5.1,  7.6,  5.7],\n",
       "       [ 4.8,  6. ,  4.2],\n",
       "       [ 5.1,  7.6,  4.8],\n",
       "       [ 4.6,  6.4,  4.2],\n",
       "       [ 5.3,  7.4,  4.5],\n",
       "       [ 5. ,  6.6,  4.2],\n",
       "       [ 7. ,  6.4, 14.1],\n",
       "       [ 6.4,  6.4, 13.5],\n",
       "       [ 6.9,  6.2, 14.7],\n",
       "       [ 5.5,  4.6, 12. ],\n",
       "       [ 6.5,  5.6, 13.8],\n",
       "       [ 5.7,  5.6, 13.5],\n",
       "       [ 6.3,  6.6, 14.1],\n",
       "       [ 4.9,  4.8,  9.9],\n",
       "       [ 6.6,  5.8, 13.8],\n",
       "       [ 5.2,  5.4, 11.7],\n",
       "       [ 5. ,  4. , 10.5],\n",
       "       [ 5.9,  6. , 12.6],\n",
       "       [ 6. ,  4.4, 12. ],\n",
       "       [ 6.1,  5.8, 14.1],\n",
       "       [ 5.6,  5.8, 10.8],\n",
       "       [ 6.7,  6.2, 13.2],\n",
       "       [ 5.6,  6. , 13.5],\n",
       "       [ 5.8,  5.4, 12.3],\n",
       "       [ 6.2,  4.4, 13.5],\n",
       "       [ 5.6,  5. , 11.7],\n",
       "       [ 5.9,  6.4, 14.4],\n",
       "       [ 6.1,  5.6, 12. ],\n",
       "       [ 6.3,  5. , 14.7],\n",
       "       [ 6.1,  5.6, 14.1],\n",
       "       [ 6.4,  5.8, 12.9],\n",
       "       [ 6.6,  6. , 13.2],\n",
       "       [ 6.8,  5.6, 14.4],\n",
       "       [ 6.7,  6. , 15. ],\n",
       "       [ 6. ,  5.8, 13.5],\n",
       "       [ 5.7,  5.2, 10.5],\n",
       "       [ 5.5,  4.8, 11.4],\n",
       "       [ 5.5,  4.8, 11.1],\n",
       "       [ 5.8,  5.4, 11.7],\n",
       "       [ 6. ,  5.4, 15.3],\n",
       "       [ 5.4,  6. , 13.5],\n",
       "       [ 6. ,  6.8, 13.5],\n",
       "       [ 6.7,  6.2, 14.1],\n",
       "       [ 6.3,  4.6, 13.2],\n",
       "       [ 5.6,  6. , 12.3],\n",
       "       [ 5.5,  5. , 12. ],\n",
       "       [ 5.5,  5.2, 13.2],\n",
       "       [ 6.1,  6. , 13.8],\n",
       "       [ 5.8,  5.2, 12. ],\n",
       "       [ 5. ,  4.6,  9.9],\n",
       "       [ 5.6,  5.4, 12.6],\n",
       "       [ 5.7,  6. , 12.6],\n",
       "       [ 5.7,  5.8, 12.6],\n",
       "       [ 6.2,  5.8, 12.9],\n",
       "       [ 5.1,  5. ,  9. ],\n",
       "       [ 5.7,  5.6, 12.3],\n",
       "       [ 6.3,  6.6, 18. ],\n",
       "       [ 5.8,  5.4, 15.3],\n",
       "       [ 7.1,  6. , 17.7],\n",
       "       [ 6.3,  5.8, 16.8],\n",
       "       [ 6.5,  6. , 17.4],\n",
       "       [ 7.6,  6. , 19.8],\n",
       "       [ 4.9,  5. , 13.5],\n",
       "       [ 7.3,  5.8, 18.9],\n",
       "       [ 6.7,  5. , 17.4],\n",
       "       [ 7.2,  7.2, 18.3],\n",
       "       [ 6.5,  6.4, 15.3],\n",
       "       [ 6.4,  5.4, 15.9],\n",
       "       [ 6.8,  6. , 16.5],\n",
       "       [ 5.7,  5. , 15. ],\n",
       "       [ 5.8,  5.6, 15.3],\n",
       "       [ 6.4,  6.4, 15.9],\n",
       "       [ 6.5,  6. , 16.5],\n",
       "       [ 7.7,  7.6, 20.1],\n",
       "       [ 7.7,  5.2, 20.7],\n",
       "       [ 6. ,  4.4, 15. ],\n",
       "       [ 6.9,  6.4, 17.1],\n",
       "       [ 5.6,  5.6, 14.7],\n",
       "       [ 7.7,  5.6, 20.1],\n",
       "       [ 6.3,  5.4, 14.7],\n",
       "       [ 6.7,  6.6, 17.1],\n",
       "       [ 7.2,  6.4, 18. ],\n",
       "       [ 6.2,  5.6, 14.4],\n",
       "       [ 6.1,  6. , 14.7],\n",
       "       [ 6.4,  5.6, 16.8],\n",
       "       [ 7.2,  6. , 17.4],\n",
       "       [ 7.4,  5.6, 18.3],\n",
       "       [ 7.9,  7.6, 19.2],\n",
       "       [ 6.4,  5.6, 16.8],\n",
       "       [ 6.3,  5.6, 15.3],\n",
       "       [ 6.1,  5.2, 16.8],\n",
       "       [ 7.7,  6. , 18.3],\n",
       "       [ 6.3,  6.8, 16.8],\n",
       "       [ 6.4,  6.2, 16.5],\n",
       "       [ 6. ,  6. , 14.4],\n",
       "       [ 6.9,  6.2, 16.2],\n",
       "       [ 6.7,  6.2, 16.8],\n",
       "       [ 6.9,  6.2, 15.3],\n",
       "       [ 5.8,  5.4, 15.3],\n",
       "       [ 6.8,  6.4, 17.7],\n",
       "       [ 6.7,  6.6, 17.1],\n",
       "       [ 6.7,  6. , 15.6],\n",
       "       [ 6.3,  5. , 15. ],\n",
       "       [ 6.5,  6. , 15.6],\n",
       "       [ 6.2,  6.8, 16.2],\n",
       "       [ 5.9,  6. , 15.3]])"
      ]
     },
     "execution_count": 20,
     "metadata": {},
     "output_type": "execute_result"
    }
   ],
   "source": [
    "W = np.array([1,2,3]) # [w1, w2, w3]\n",
    "\n",
    "X*W"
   ]
  },
  {
   "cell_type": "code",
   "execution_count": 21,
   "metadata": {},
   "outputs": [
    {
     "data": {
      "text/plain": [
       "array([16.3, 15.1, 15. , 15.3, 16.4, 18.3, 15.6, 16.3, 14.4, 15.6, 17.3,\n",
       "       16.4, 15. , 13.6, 17.4, 19. , 17.1, 16.3, 18.4, 17.2, 17.3, 17. ,\n",
       "       14.8, 16.8, 17.3, 15.8, 16.6, 16.7, 16.2, 15.9, 15.8, 16.7, 17.9,\n",
       "       18.1, 15.6, 15. , 16.4, 15.6, 14.3, 16.4, 15.9, 13. , 14.7, 16.8,\n",
       "       18.4, 15. , 17.5, 15.2, 17.2, 15.8, 27.5, 26.3, 27.8, 22.1, 25.9,\n",
       "       24.8, 27. , 19.6, 26.2, 22.3, 19.5, 24.5, 22.4, 26. , 22.2, 26.1,\n",
       "       25.1, 23.5, 24.1, 22.3, 26.7, 23.7, 26. , 25.8, 25.1, 25.8, 26.8,\n",
       "       27.7, 25.3, 21.4, 21.7, 21.4, 22.9, 26.7, 24.9, 26.3, 27. , 24.1,\n",
       "       23.9, 22.5, 23.9, 25.9, 23. , 19.5, 23.6, 24.3, 24.1, 24.9, 19.1,\n",
       "       23.6, 30.9, 26.5, 30.8, 28.9, 29.9, 33.4, 23.4, 32. , 29.1, 32.7,\n",
       "       28.2, 27.7, 29.3, 25.7, 26.7, 28.7, 29. , 35.4, 33.6, 25.4, 30.4,\n",
       "       25.9, 33.4, 26.4, 30.4, 31.6, 26.2, 26.8, 28.8, 30.6, 31.3, 34.7,\n",
       "       28.8, 27.2, 28.1, 32. , 29.9, 29.1, 26.4, 29.3, 29.7, 28.4, 26.5,\n",
       "       30.9, 30.4, 28.3, 26.3, 28.1, 29.2, 27.2])"
      ]
     },
     "execution_count": 21,
     "metadata": {},
     "output_type": "execute_result"
    }
   ],
   "source": [
    "(X*W).sum(axis=1)"
   ]
  },
  {
   "cell_type": "code",
   "execution_count": 22,
   "metadata": {},
   "outputs": [],
   "source": [
    "W = np.array([1,2,3]) # [w1, w2, w3]\n",
    "b = 1\n",
    "\n",
    "pred_y = (X*W).sum(axis=1) + b # model.predict(X)"
   ]
  },
  {
   "cell_type": "code",
   "execution_count": 23,
   "metadata": {},
   "outputs": [
    {
     "data": {
      "text/plain": [
       "555.4736666666666"
      ]
     },
     "execution_count": 23,
     "metadata": {},
     "output_type": "execute_result"
    }
   ],
   "source": [
    "mse = ((pred_y - y)**2).mean()\n",
    "mse"
   ]
  },
  {
   "cell_type": "code",
   "execution_count": 24,
   "metadata": {},
   "outputs": [
    {
     "data": {
      "text/plain": [
       "array([17.3, 16.1, 16. , 16.3, 17.4, 19.3, 16.6, 17.3, 15.4, 16.6, 18.3,\n",
       "       17.4, 16. , 14.6, 18.4, 20. , 18.1, 17.3, 19.4, 18.2, 18.3, 18. ,\n",
       "       15.8, 17.8, 18.3, 16.8, 17.6, 17.7, 17.2, 16.9, 16.8, 17.7, 18.9,\n",
       "       19.1, 16.6, 16. , 17.4, 16.6, 15.3, 17.4, 16.9, 14. , 15.7, 17.8,\n",
       "       19.4, 16. , 18.5, 16.2, 18.2, 16.8, 28.5, 27.3, 28.8, 23.1, 26.9,\n",
       "       25.8, 28. , 20.6, 27.2, 23.3, 20.5, 25.5, 23.4, 27. , 23.2, 27.1,\n",
       "       26.1, 24.5, 25.1, 23.3, 27.7, 24.7, 27. , 26.8, 26.1, 26.8, 27.8,\n",
       "       28.7, 26.3, 22.4, 22.7, 22.4, 23.9, 27.7, 25.9, 27.3, 28. , 25.1,\n",
       "       24.9, 23.5, 24.9, 26.9, 24. , 20.5, 24.6, 25.3, 25.1, 25.9, 20.1,\n",
       "       24.6, 31.9, 27.5, 31.8, 29.9, 30.9, 34.4, 24.4, 33. , 30.1, 33.7,\n",
       "       29.2, 28.7, 30.3, 26.7, 27.7, 29.7, 30. , 36.4, 34.6, 26.4, 31.4,\n",
       "       26.9, 34.4, 27.4, 31.4, 32.6, 27.2, 27.8, 29.8, 31.6, 32.3, 35.7,\n",
       "       29.8, 28.2, 29.1, 33. , 30.9, 30.1, 27.4, 30.3, 30.7, 29.4, 27.5,\n",
       "       31.9, 31.4, 29.3, 27.3, 29.1, 30.2, 28.2])"
      ]
     },
     "execution_count": 24,
     "metadata": {},
     "output_type": "execute_result"
    }
   ],
   "source": [
    "W = np.array([1,2,3]) # [w1, w2, w3]\n",
    "b = 1\n",
    "\n",
    "pred_y = X@W + b # np.dot(X,W)+b, np.matmul(X,W)+b\n",
    "pred_y"
   ]
  },
  {
   "cell_type": "code",
   "execution_count": 25,
   "metadata": {},
   "outputs": [
    {
     "data": {
      "text/plain": [
       "555.4736666666666"
      ]
     },
     "execution_count": 25,
     "metadata": {},
     "output_type": "execute_result"
    }
   ],
   "source": [
    "cost = ((X@W+b-y)**2).mean() # MSE\n",
    "cost"
   ]
  },
  {
   "cell_type": "code",
   "execution_count": null,
   "metadata": {},
   "outputs": [],
   "source": []
  }
 ],
 "metadata": {
  "kernelspec": {
   "display_name": "Python 3",
   "language": "python",
   "name": "python3"
  },
  "language_info": {
   "codemirror_mode": {
    "name": "ipython",
    "version": 3
   },
   "file_extension": ".py",
   "mimetype": "text/x-python",
   "name": "python",
   "nbconvert_exporter": "python",
   "pygments_lexer": "ipython3",
   "version": "3.6.4"
  }
 },
 "nbformat": 4,
 "nbformat_minor": 1
}

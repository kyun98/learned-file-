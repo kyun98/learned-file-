{
 "cells": [
  {
   "cell_type": "markdown",
   "metadata": {},
   "source": [
    "## 이미지 처리 딥러닝\n",
    "# AutoEncoder\n",
    "- https://blog.keras.io/building-autoencoders-in-keras.html"
   ]
  },
  {
   "cell_type": "markdown",
   "metadata": {},
   "source": [
    "<img src='https://www.researchgate.net/profile/Xifeng_Guo/publication/320658590/figure/fig1/AS:614154637418504@1523437284408/The-structure-of-proposed-Convolutional-AutoEncoders-CAE-for-MNIST-In-the-middle-there.png' />\n",
    "(출처: https://www.researchgate.net/figure/The-structure-of-proposed-Convolutional-AutoEncoders-CAE-for-MNIST-In-the-middle-there_fig1_320658590)"
   ]
  },
  {
   "cell_type": "code",
   "execution_count": 1,
   "metadata": {},
   "outputs": [],
   "source": [
    "import numpy as np\n",
    "import matplotlib.pyplot as plt"
   ]
  },
  {
   "cell_type": "code",
   "execution_count": 3,
   "metadata": {},
   "outputs": [],
   "source": [
    "import tensorflow as tf\n",
    "from tensorflow import keras"
   ]
  },
  {
   "cell_type": "markdown",
   "metadata": {},
   "source": [
    "### MNIST 로딩"
   ]
  },
  {
   "cell_type": "code",
   "execution_count": 2,
   "metadata": {},
   "outputs": [],
   "source": [
    "from tensorflow.keras.datasets import mnist\n",
    "\n",
    "(X_train, y_train), (X_test, y_test) = mnist.load_data()"
   ]
  },
  {
   "cell_type": "code",
   "execution_count": 4,
   "metadata": {},
   "outputs": [
    {
     "data": {
      "text/plain": [
       "((60000, 28, 28, 1), (10000, 28, 28, 1), 1.0, dtype('float64'))"
      ]
     },
     "execution_count": 4,
     "metadata": {},
     "output_type": "execute_result"
    }
   ],
   "source": [
    "X_train = X_train.reshape(-1,28,28,1)/255\n",
    "X_test = X_test.reshape(-1,28,28,1)/255\n",
    "\n",
    "X_train.shape, X_test.shape, X_train[0].max(), X_train[0].dtype"
   ]
  },
  {
   "cell_type": "code",
   "execution_count": 5,
   "metadata": {},
   "outputs": [
    {
     "data": {
      "text/plain": [
       "<matplotlib.image.AxesImage at 0x1cb855fce50>"
      ]
     },
     "execution_count": 5,
     "metadata": {},
     "output_type": "execute_result"
    },
    {
     "data": {
      "image/png": "[encoded data removed]",
      "text/plain": [
       "<Figure size 432x288 with 2 Axes>"
      ]
     },
     "metadata": {
      "needs_background": "light"
     },
     "output_type": "display_data"
    }
   ],
   "source": [
    "plt.subplot(1,2,1)\n",
    "plt.imshow(X_train[0].reshape(28,28), cmap='gray')\n",
    "#plt.imshow(X_train[0,:,:,0], cmap='gray')\n",
    "plt.subplot(1,2,2)\n",
    "plt.imshow(X_test[0].reshape(28,28), cmap='gray')"
   ]
  },
  {
   "cell_type": "markdown",
   "metadata": {},
   "source": [
    "### 인코더 생성"
   ]
  },
  {
   "cell_type": "code",
   "execution_count": 6,
   "metadata": {},
   "outputs": [],
   "source": [
    "from tensorflow.keras.models import Model\n",
    "from tensorflow.keras.layers import Input, Conv2D, Flatten, Dense, Reshape, Conv2DTranspose"
   ]
  },
  {
   "cell_type": "code",
   "execution_count": 7,
   "metadata": {},
   "outputs": [],
   "source": [
    "input = Input((28,28,1))\n",
    "\n",
    "x = Conv2D(32, (3,3), strides=2, padding='same', activation='relu')(input)\n",
    "x = Conv2D(64, (3,3), strides=2, padding='same', activation='relu')(x)\n",
    "x = Conv2D(128, (3,3), strides=2, activation='relu')(x)\n",
    "\n",
    "x = Flatten()(x)\n",
    "latent = Dense(10)(x)"
   ]
  },
  {
   "cell_type": "code",
   "execution_count": null,
   "metadata": {},
   "outputs": [],
   "source": [
    "'''model = keras.models.Sequential()\n",
    "model.add(Conv2D(32, (3,3), strides=2, padding='same', activation='relu',\n",
    "                 input_shape=(28,28,1)))\n",
    "model.add(Conv2D(64, (3,3), strides=2, padding='same', activation='relu'))\n",
    "model.add(Conv2D(128, (3,3), strides=2, activation='relu'))\n",
    "model.add(Flatten())\n",
    "model.add(Dense(10))'''"
   ]
  },
  {
   "cell_type": "markdown",
   "metadata": {},
   "source": [
    "- 인코더의 출력은 10개의 벡터값이다.\n",
    "- 이 값을 잠재공간벡터(latent vector) 라고 한다.\n",
    "- 즉, 28\\*28\\*1 의 이미지를 10개의 숫자로 축약하였다."
   ]
  },
  {
   "cell_type": "code",
   "execution_count": 8,
   "metadata": {},
   "outputs": [
    {
     "name": "stdout",
     "output_type": "stream",
     "text": [
      "Model: \"model\"\n",
      "_________________________________________________________________\n",
      "Layer (type)                 Output Shape              Param #   \n",
      "=================================================================\n",
      "input_1 (InputLayer)         [(None, 28, 28, 1)]       0         \n",
      "_________________________________________________________________\n",
      "conv2d (Conv2D)              (None, 14, 14, 32)        320       \n",
      "_________________________________________________________________\n",
      "conv2d_1 (Conv2D)            (None, 7, 7, 64)          18496     \n",
      "_________________________________________________________________\n",
      "conv2d_2 (Conv2D)            (None, 3, 3, 128)         73856     \n",
      "_________________________________________________________________\n",
      "flatten (Flatten)            (None, 1152)              0         \n",
      "_________________________________________________________________\n",
      "dense (Dense)                (None, 10)                11530     \n",
      "=================================================================\n",
      "Total params: 104,202\n",
      "Trainable params: 104,202\n",
      "Non-trainable params: 0\n",
      "_________________________________________________________________\n"
     ]
    }
   ],
   "source": [
    "encoder = Model(input, latent)\n",
    "\n",
    "encoder.summary()"
   ]
  },
  {
   "cell_type": "markdown",
   "metadata": {},
   "source": [
    "### 디코더 생성"
   ]
  },
  {
   "cell_type": "code",
   "execution_count": 9,
   "metadata": {},
   "outputs": [],
   "source": [
    "input2 = Input((10,))\n",
    "\n",
    "x2 = Dense(3*3*128, activation='relu')(input2)\n",
    "x2 = Reshape((3,3,128))(x2)\n",
    "\n",
    "x2 = Conv2DTranspose(64, (3,3), strides=2, activation='relu')(x2)\n",
    "x2 = Conv2DTranspose(32, (3,3), strides=2, padding='same', activation='relu')(x2)\n",
    "\n",
    "output = Conv2DTranspose(1, (3,3), strides=2, padding='same', activation='relu')(x2)"
   ]
  },
  {
   "cell_type": "markdown",
   "metadata": {},
   "source": [
    "- Conv2DTranspose 설명 : https://datascience.stackexchange.com/questions/6107/what-are-deconvolutional-layers\n",
    "<img src='https://i.stack.imgur.com/YyCu2.gif' />\n",
    "<img src='https://i.stack.imgur.com/f2RiP.gif' />"
   ]
  },
  {
   "cell_type": "code",
   "execution_count": 10,
   "metadata": {},
   "outputs": [
    {
     "name": "stdout",
     "output_type": "stream",
     "text": [
      "Model: \"model_1\"\n",
      "_________________________________________________________________\n",
      "Layer (type)                 Output Shape              Param #   \n",
      "=================================================================\n",
      "input_2 (InputLayer)         [(None, 10)]              0         \n",
      "_________________________________________________________________\n",
      "dense_1 (Dense)              (None, 1152)              12672     \n",
      "_________________________________________________________________\n",
      "reshape (Reshape)            (None, 3, 3, 128)         0         \n",
      "_________________________________________________________________\n",
      "conv2d_transpose (Conv2DTran (None, 7, 7, 64)          73792     \n",
      "_________________________________________________________________\n",
      "conv2d_transpose_1 (Conv2DTr (None, 14, 14, 32)        18464     \n",
      "_________________________________________________________________\n",
      "conv2d_transpose_2 (Conv2DTr (None, 28, 28, 1)         289       \n",
      "=================================================================\n",
      "Total params: 105,217\n",
      "Trainable params: 105,217\n",
      "Non-trainable params: 0\n",
      "_________________________________________________________________\n"
     ]
    }
   ],
   "source": [
    "decoder = Model(input2, output)\n",
    "\n",
    "decoder.summary()"
   ]
  },
  {
   "cell_type": "markdown",
   "metadata": {},
   "source": [
    "### 오토인코더 구성"
   ]
  },
  {
   "cell_type": "code",
   "execution_count": 11,
   "metadata": {},
   "outputs": [
    {
     "name": "stdout",
     "output_type": "stream",
     "text": [
      "Model: \"model_2\"\n",
      "_________________________________________________________________\n",
      "Layer (type)                 Output Shape              Param #   \n",
      "=================================================================\n",
      "input_1 (InputLayer)         [(None, 28, 28, 1)]       0         \n",
      "_________________________________________________________________\n",
      "model (Functional)           (None, 10)                104202    \n",
      "_________________________________________________________________\n",
      "model_1 (Functional)         (None, 28, 28, 1)         105217    \n",
      "=================================================================\n",
      "Total params: 209,419\n",
      "Trainable params: 209,419\n",
      "Non-trainable params: 0\n",
      "_________________________________________________________________\n"
     ]
    }
   ],
   "source": [
    "autoencoder = Model(inputs=input, outputs=decoder(encoder(input)))\n",
    "\n",
    "autoencoder.summary()"
   ]
  },
  {
   "cell_type": "code",
   "execution_count": 12,
   "metadata": {},
   "outputs": [],
   "source": [
    "autoencoder.compile(loss='mse', optimizer='adam', metrics=['acc'])"
   ]
  },
  {
   "cell_type": "code",
   "execution_count": 20,
   "metadata": {},
   "outputs": [
    {
     "name": "stdout",
     "output_type": "stream",
     "text": [
      "Train on 60000 samples, validate on 10000 samples\n",
      "Epoch 1/1\n",
      "60000/60000 [==============================] - 228s 4ms/step - loss: 0.0267 - acc: 0.8079 - val_loss: 0.0181 - val_acc: 0.8077\n"
     ]
    },
    {
     "data": {
      "text/plain": [
       "<keras.callbacks.History at 0x1fc04200240>"
      ]
     },
     "execution_count": 20,
     "metadata": {},
     "output_type": "execute_result"
    }
   ],
   "source": [
    "#autoencoder.fit(X_train, X_train, batch_size=32,\n",
    "#                epochs=1, validation_data=(X_test, X_test))"
   ]
  },
  {
   "cell_type": "markdown",
   "metadata": {},
   "source": [
    "- colab 결과\n",
    "```\n",
    "Epoch 1/50\n",
    "469/469 [==============================] - 4s 7ms/step - loss: 0.0496 - acc: 0.8036 - val_loss: 0.0185 - val_acc: 0.8088\n",
    "Epoch 2/50\n",
    "469/469 [==============================] - 3s 6ms/step - loss: 0.0179 - acc: 0.8099 - val_loss: 0.0160 - val_acc: 0.8095\n",
    "Epoch 3/50\n",
    "469/469 [==============================] - 3s 6ms/step - loss: 0.0157 - acc: 0.8110 - val_loss: 0.0148 - val_acc: 0.8105\n",
    "Epoch 4/50\n",
    "469/469 [==============================] - 3s 6ms/step - loss: 0.0146 - acc: 0.8116 - val_loss: 0.0140 - val_acc: 0.8109\n",
    "Epoch 5/50\n",
    "469/469 [==============================] - 3s 6ms/step - loss: 0.0140 - acc: 0.8115 - val_loss: 0.0136 - val_acc: 0.8107\n",
    "Epoch 6/50\n",
    "469/469 [==============================] - 3s 6ms/step - loss: 0.0134 - acc: 0.8122 - val_loss: 0.0132 - val_acc: 0.8111\n",
    "Epoch 7/50\n",
    "469/469 [==============================] - 3s 6ms/step - loss: 0.0130 - acc: 0.8125 - val_loss: 0.0129 - val_acc: 0.8111\n",
    "Epoch 8/50\n",
    "469/469 [==============================] - 3s 6ms/step - loss: 0.0127 - acc: 0.8127 - val_loss: 0.0126 - val_acc: 0.8116\n",
    "Epoch 9/50\n",
    "469/469 [==============================] - 3s 6ms/step - loss: 0.0123 - acc: 0.8127 - val_loss: 0.0124 - val_acc: 0.8116\n",
    "Epoch 10/50\n",
    "469/469 [==============================] - 3s 6ms/step - loss: 0.0121 - acc: 0.8126 - val_loss: 0.0122 - val_acc: 0.8115\n",
    "Epoch 11/50\n",
    "469/469 [==============================] - 3s 6ms/step - loss: 0.0118 - acc: 0.8132 - val_loss: 0.0120 - val_acc: 0.8117\n",
    "Epoch 12/50\n",
    "469/469 [==============================] - 3s 6ms/step - loss: 0.0117 - acc: 0.8129 - val_loss: 0.0119 - val_acc: 0.8119\n",
    "Epoch 13/50\n",
    "469/469 [==============================] - 3s 6ms/step - loss: 0.0115 - acc: 0.8130 - val_loss: 0.0117 - val_acc: 0.8117\n",
    "Epoch 14/50\n",
    "469/469 [==============================] - 3s 6ms/step - loss: 0.0114 - acc: 0.8133 - val_loss: 0.0117 - val_acc: 0.8118\n",
    "Epoch 15/50\n",
    "469/469 [==============================] - 3s 6ms/step - loss: 0.0112 - acc: 0.8133 - val_loss: 0.0115 - val_acc: 0.8120\n",
    "Epoch 16/50\n",
    "469/469 [==============================] - 3s 6ms/step - loss: 0.0111 - acc: 0.8129 - val_loss: 0.0114 - val_acc: 0.8120\n",
    "Epoch 17/50\n",
    "469/469 [==============================] - 3s 6ms/step - loss: 0.0109 - acc: 0.8130 - val_loss: 0.0113 - val_acc: 0.8119\n",
    "Epoch 18/50\n",
    "469/469 [==============================] - 3s 6ms/step - loss: 0.0108 - acc: 0.8132 - val_loss: 0.0113 - val_acc: 0.8121\n",
    "Epoch 19/50\n",
    "469/469 [==============================] - 3s 6ms/step - loss: 0.0108 - acc: 0.8134 - val_loss: 0.0112 - val_acc: 0.8118\n",
    "Epoch 20/50\n",
    "469/469 [==============================] - 3s 6ms/step - loss: 0.0106 - acc: 0.8132 - val_loss: 0.0111 - val_acc: 0.8120\n",
    "Epoch 21/50\n",
    "469/469 [==============================] - 3s 6ms/step - loss: 0.0105 - acc: 0.8136 - val_loss: 0.0110 - val_acc: 0.8120\n",
    "Epoch 22/50\n",
    "469/469 [==============================] - 3s 6ms/step - loss: 0.0105 - acc: 0.8131 - val_loss: 0.0110 - val_acc: 0.8122\n",
    "Epoch 23/50\n",
    "469/469 [==============================] - 3s 6ms/step - loss: 0.0104 - acc: 0.8135 - val_loss: 0.0110 - val_acc: 0.8121\n",
    "Epoch 24/50\n",
    "469/469 [==============================] - 3s 6ms/step - loss: 0.0104 - acc: 0.8137 - val_loss: 0.0109 - val_acc: 0.8121\n",
    "Epoch 25/50\n",
    "469/469 [==============================] - 3s 6ms/step - loss: 0.0103 - acc: 0.8134 - val_loss: 0.0108 - val_acc: 0.8122\n",
    "Epoch 26/50\n",
    "469/469 [==============================] - 3s 6ms/step - loss: 0.0102 - acc: 0.8139 - val_loss: 0.0109 - val_acc: 0.8123\n",
    "Epoch 27/50\n",
    "469/469 [==============================] - 3s 6ms/step - loss: 0.0101 - acc: 0.8135 - val_loss: 0.0110 - val_acc: 0.8119\n",
    "Epoch 28/50\n",
    "469/469 [==============================] - 3s 7ms/step - loss: 0.0101 - acc: 0.8136 - val_loss: 0.0108 - val_acc: 0.8119\n",
    "Epoch 29/50\n",
    "469/469 [==============================] - 3s 6ms/step - loss: 0.0100 - acc: 0.8137 - val_loss: 0.0107 - val_acc: 0.8120\n",
    "Epoch 30/50\n",
    "469/469 [==============================] - 3s 6ms/step - loss: 0.0100 - acc: 0.8134 - val_loss: 0.0107 - val_acc: 0.8121\n",
    "Epoch 31/50\n",
    "469/469 [==============================] - 3s 6ms/step - loss: 0.0099 - acc: 0.8139 - val_loss: 0.0107 - val_acc: 0.8123\n",
    "Epoch 32/50\n",
    "469/469 [==============================] - 3s 6ms/step - loss: 0.0099 - acc: 0.8138 - val_loss: 0.0106 - val_acc: 0.8121\n",
    "Epoch 33/50\n",
    "469/469 [==============================] - 3s 6ms/step - loss: 0.0098 - acc: 0.8137 - val_loss: 0.0107 - val_acc: 0.8122\n",
    "Epoch 34/50\n",
    "469/469 [==============================] - 3s 6ms/step - loss: 0.0098 - acc: 0.8133 - val_loss: 0.0106 - val_acc: 0.8122\n",
    "Epoch 35/50\n",
    "469/469 [==============================] - 3s 6ms/step - loss: 0.0097 - acc: 0.8138 - val_loss: 0.0105 - val_acc: 0.8122\n",
    "Epoch 36/50\n",
    "469/469 [==============================] - 3s 6ms/step - loss: 0.0097 - acc: 0.8134 - val_loss: 0.0105 - val_acc: 0.8123\n",
    "Epoch 37/50\n",
    "469/469 [==============================] - 3s 6ms/step - loss: 0.0097 - acc: 0.8135 - val_loss: 0.0106 - val_acc: 0.8122\n",
    "Epoch 38/50\n",
    "469/469 [==============================] - 3s 6ms/step - loss: 0.0096 - acc: 0.8134 - val_loss: 0.0105 - val_acc: 0.8121\n",
    "Epoch 39/50\n",
    "469/469 [==============================] - 3s 6ms/step - loss: 0.0096 - acc: 0.8135 - val_loss: 0.0105 - val_acc: 0.8123\n",
    "Epoch 40/50\n",
    "469/469 [==============================] - 3s 6ms/step - loss: 0.0096 - acc: 0.8138 - val_loss: 0.0105 - val_acc: 0.8121\n",
    "Epoch 41/50\n",
    "469/469 [==============================] - 3s 6ms/step - loss: 0.0095 - acc: 0.8136 - val_loss: 0.0105 - val_acc: 0.8123\n",
    "Epoch 42/50\n",
    "469/469 [==============================] - 3s 6ms/step - loss: 0.0095 - acc: 0.8138 - val_loss: 0.0105 - val_acc: 0.8122\n",
    "Epoch 43/50\n",
    "469/469 [==============================] - 3s 6ms/step - loss: 0.0095 - acc: 0.8139 - val_loss: 0.0105 - val_acc: 0.8120\n",
    "Epoch 44/50\n",
    "469/469 [==============================] - 3s 6ms/step - loss: 0.0094 - acc: 0.8136 - val_loss: 0.0104 - val_acc: 0.8122\n",
    "Epoch 45/50\n",
    "469/469 [==============================] - 3s 6ms/step - loss: 0.0095 - acc: 0.8137 - val_loss: 0.0105 - val_acc: 0.8120\n",
    "Epoch 46/50\n",
    "469/469 [==============================] - 3s 6ms/step - loss: 0.0095 - acc: 0.8134 - val_loss: 0.0105 - val_acc: 0.8121\n",
    "Epoch 47/50\n",
    "469/469 [==============================] - 3s 6ms/step - loss: 0.0094 - acc: 0.8141 - val_loss: 0.0104 - val_acc: 0.8122\n",
    "Epoch 48/50\n",
    "469/469 [==============================] - 3s 6ms/step - loss: 0.0094 - acc: 0.8139 - val_loss: 0.0105 - val_acc: 0.8124\n",
    "Epoch 49/50\n",
    "469/469 [==============================] - 3s 6ms/step - loss: 0.0093 - acc: 0.8136 - val_loss: 0.0105 - val_acc: 0.8121\n",
    "Epoch 50/50\n",
    "469/469 [==============================] - 3s 6ms/step - loss: 0.0093 - acc: 0.8145 - val_loss: 0.0104 - val_acc: 0.8123\n",
    "```"
   ]
  },
  {
   "cell_type": "code",
   "execution_count": 13,
   "metadata": {},
   "outputs": [
    {
     "name": "stdout",
     "output_type": "stream",
     "text": [
      "Epoch 1/3\n",
      "375/375 [==============================] - 234s 611ms/step - loss: 0.0564 - acc: 0.8031 - val_loss: 0.0200 - val_acc: 0.8101\n",
      "Epoch 2/3\n",
      "375/375 [==============================] - 216s 577ms/step - loss: 0.0190 - acc: 0.8097 - val_loss: 0.0174 - val_acc: 0.8103\n",
      "Epoch 3/3\n",
      "375/375 [==============================] - 216s 575ms/step - loss: 0.0165 - acc: 0.8111 - val_loss: 0.0158 - val_acc: 0.8116\n"
     ]
    },
    {
     "data": {
      "text/plain": [
       "<tensorflow.python.keras.callbacks.History at 0x1cb85831f70>"
      ]
     },
     "execution_count": 13,
     "metadata": {},
     "output_type": "execute_result"
    }
   ],
   "source": [
    "autoencoder.fit(X_train, X_train, batch_size=128,\n",
    "                epochs=3, validation_split=0.2)"
   ]
  },
  {
   "cell_type": "markdown",
   "metadata": {},
   "source": [
    "### 평가"
   ]
  },
  {
   "cell_type": "code",
   "execution_count": 14,
   "metadata": {},
   "outputs": [
    {
     "data": {
      "image/png": "[encoded data removed]",
      "text/plain": [
       "<Figure size 576x216 with 20 Axes>"
      ]
     },
     "metadata": {
      "needs_background": "light"
     },
     "output_type": "display_data"
    }
   ],
   "source": [
    "plt.figure(figsize=[8,3])\n",
    "\n",
    "for i in range(10):\n",
    "    r = autoencoder.predict(X_train[[i]])\n",
    "\n",
    "    plt.subplot(2,10,1+i)\n",
    "    plt.imshow(X_train[i,:,:,0], vmax=1, vmin=0, cmap='gray_r')\n",
    "    plt.axis('off')\n",
    "\n",
    "    plt.subplot(2,10,11+i)\n",
    "    plt.imshow(r[0,:,:,0], vmax=1, vmin=0, cmap='gray_r')\n",
    "    plt.axis('off')"
   ]
  },
  {
   "cell_type": "code",
   "execution_count": 15,
   "metadata": {},
   "outputs": [
    {
     "data": {
      "image/png": "[encoded data removed]",
      "text/plain": [
       "<Figure size 576x216 with 20 Axes>"
      ]
     },
     "metadata": {
      "needs_background": "light"
     },
     "output_type": "display_data"
    }
   ],
   "source": [
    "plt.figure(figsize=[8,3])\n",
    "\n",
    "for i in range(10):\n",
    "    r = autoencoder.predict(X_test[[i]])\n",
    "\n",
    "    plt.subplot(2,10,1+i)\n",
    "    plt.imshow(X_test[i,:,:,0], vmax=1, vmin=0, cmap='gray_r')\n",
    "    plt.axis('off')\n",
    "\n",
    "    plt.subplot(2,10,11+i)\n",
    "    plt.imshow(r[0,:,:,0], vmax=1, vmin=0, cmap='gray_r')\n",
    "    plt.axis('off')"
   ]
  },
  {
   "cell_type": "markdown",
   "metadata": {},
   "source": [
    "### 시각화\n",
    "- 잠재공간 10차원 중 앞 2차원을 활용"
   ]
  },
  {
   "cell_type": "code",
   "execution_count": 16,
   "metadata": {},
   "outputs": [],
   "source": [
    "latent_value = encoder.predict(X_train)"
   ]
  },
  {
   "cell_type": "code",
   "execution_count": 17,
   "metadata": {},
   "outputs": [
    {
     "data": {
      "text/plain": [
       "(60000, 10)"
      ]
     },
     "execution_count": 17,
     "metadata": {},
     "output_type": "execute_result"
    }
   ],
   "source": [
    "latent_value.shape"
   ]
  },
  {
   "cell_type": "code",
   "execution_count": 18,
   "metadata": {},
   "outputs": [
    {
     "data": {
      "text/plain": [
       "<matplotlib.colorbar.Colorbar at 0x1cbab098c10>"
      ]
     },
     "execution_count": 18,
     "metadata": {},
     "output_type": "execute_result"
    },
    {
     "data": {
      "image/png": "[encoded data removed]",
      "text/plain": [
       "<Figure size 432x288 with 2 Axes>"
      ]
     },
     "metadata": {
      "needs_background": "light"
     },
     "output_type": "display_data"
    }
   ],
   "source": [
    "plt.scatter(latent_value[:100,0], latent_value[:100,1], c=y_train[:100])\n",
    "plt.colorbar()"
   ]
  },
  {
   "cell_type": "code",
   "execution_count": 19,
   "metadata": {},
   "outputs": [
    {
     "data": {
      "image/png": "[encoded data removed]",
      "text/plain": [
       "<Figure size 432x288 with 1 Axes>"
      ]
     },
     "metadata": {
      "needs_background": "light"
     },
     "output_type": "display_data"
    }
   ],
   "source": [
    "plt.axis([-3,7,-7,5])\n",
    "for i in range(100):\n",
    "    plt.text(latent_value[i,0], latent_value[i,1], str(y_train[i]))"
   ]
  },
  {
   "cell_type": "markdown",
   "metadata": {},
   "source": [
    "### 도전과제\n",
    "- 잠재공간이 2차원인 인코더를 만들자.\n",
    "- 학습을 시킨 후, 테스트 데이터에 대한 2차원 산점도를 그려보자. (각 점은 해당 숫자로 표시)"
   ]
  }
 ],
 "metadata": {
  "kernelspec": {
   "display_name": "Python 3 (ipykernel)",
   "language": "python",
   "name": "python3"
  },
  "language_info": {
   "codemirror_mode": {
    "name": "ipython",
    "version": 3
   },
   "file_extension": ".py",
   "mimetype": "text/x-python",
   "name": "python",
   "nbconvert_exporter": "python",
   "pygments_lexer": "ipython3",
   "version": "3.9.12"
  }
 },
 "nbformat": 4,
 "nbformat_minor": 4
}

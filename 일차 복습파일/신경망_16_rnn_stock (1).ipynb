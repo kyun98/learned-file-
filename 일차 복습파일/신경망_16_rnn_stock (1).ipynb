{
 "cells": [
  {
   "cell_type": "markdown",
   "metadata": {},
   "source": [
    "## 자연어 처리 딥러닝\n",
    "# 주가 분석\n",
    "- https://finance.yahoo.com/quote/005930.KS/history?p=005930.KS (삼성전자)\n",
    "- https://finance.yahoo.com/quote/%5EKS11/history?p=%5EKS11 (KOSPI)\n",
    "- https://finance.yahoo.com/quote/035420.KS/history?p=035420.KS (Naver)\n",
    "\n",
    "- https://m.blog.naver.com/tkdlqm2/221575377059\n",
    "- https://medium.com/datadriveninvestor/multivariate-time-series-using-rnn-with-keras-7f78f4488679"
   ]
  },
  {
   "cell_type": "code",
   "execution_count": 1,
   "metadata": {},
   "outputs": [],
   "source": [
    "import numpy as np\n",
    "import matplotlib.pyplot as plt\n",
    "import pandas as pd\n",
    "\n",
    "from tensorflow import keras"
   ]
  },
  {
   "cell_type": "code",
   "execution_count": 2,
   "metadata": {},
   "outputs": [
    {
     "data": {
      "text/html": [
       "<div>\n",
       "<style scoped>\n",
       "    .dataframe tbody tr th:only-of-type {\n",
       "        vertical-align: middle;\n",
       "    }\n",
       "\n",
       "    .dataframe tbody tr th {\n",
       "        vertical-align: top;\n",
       "    }\n",
       "\n",
       "    .dataframe thead th {\n",
       "        text-align: right;\n",
       "    }\n",
       "</style>\n",
       "<table border=\"1\" class=\"dataframe\">\n",
       "  <thead>\n",
       "    <tr style=\"text-align: right;\">\n",
       "      <th></th>\n",
       "      <th>Date</th>\n",
       "      <th>Open</th>\n",
       "      <th>High</th>\n",
       "      <th>Low</th>\n",
       "      <th>Close</th>\n",
       "      <th>Adj Close</th>\n",
       "      <th>Volume</th>\n",
       "    </tr>\n",
       "  </thead>\n",
       "  <tbody>\n",
       "    <tr>\n",
       "      <th>0</th>\n",
       "      <td>2014-08-25</td>\n",
       "      <td>24620.0</td>\n",
       "      <td>24620.0</td>\n",
       "      <td>24420.0</td>\n",
       "      <td>24560.0</td>\n",
       "      <td>66.414185</td>\n",
       "      <td>11577200.0</td>\n",
       "    </tr>\n",
       "    <tr>\n",
       "      <th>1</th>\n",
       "      <td>2014-08-26</td>\n",
       "      <td>24700.0</td>\n",
       "      <td>24700.0</td>\n",
       "      <td>24420.0</td>\n",
       "      <td>24440.0</td>\n",
       "      <td>66.089699</td>\n",
       "      <td>10719450.0</td>\n",
       "    </tr>\n",
       "    <tr>\n",
       "      <th>2</th>\n",
       "      <td>2014-08-27</td>\n",
       "      <td>24460.0</td>\n",
       "      <td>24740.0</td>\n",
       "      <td>24440.0</td>\n",
       "      <td>24600.0</td>\n",
       "      <td>66.522362</td>\n",
       "      <td>12171000.0</td>\n",
       "    </tr>\n",
       "    <tr>\n",
       "      <th>3</th>\n",
       "      <td>2014-08-28</td>\n",
       "      <td>25160.0</td>\n",
       "      <td>25160.0</td>\n",
       "      <td>24720.0</td>\n",
       "      <td>24840.0</td>\n",
       "      <td>67.171364</td>\n",
       "      <td>10311850.0</td>\n",
       "    </tr>\n",
       "    <tr>\n",
       "      <th>4</th>\n",
       "      <td>2014-08-29</td>\n",
       "      <td>24760.0</td>\n",
       "      <td>24760.0</td>\n",
       "      <td>24560.0</td>\n",
       "      <td>24680.0</td>\n",
       "      <td>66.738708</td>\n",
       "      <td>14558250.0</td>\n",
       "    </tr>\n",
       "  </tbody>\n",
       "</table>\n",
       "</div>"
      ],
      "text/plain": [
       "         Date     Open     High      Low    Close  Adj Close      Volume\n",
       "0  2014-08-25  24620.0  24620.0  24420.0  24560.0  66.414185  11577200.0\n",
       "1  2014-08-26  24700.0  24700.0  24420.0  24440.0  66.089699  10719450.0\n",
       "2  2014-08-27  24460.0  24740.0  24440.0  24600.0  66.522362  12171000.0\n",
       "3  2014-08-28  25160.0  25160.0  24720.0  24840.0  67.171364  10311850.0\n",
       "4  2014-08-29  24760.0  24760.0  24560.0  24680.0  66.738708  14558250.0"
      ]
     },
     "execution_count": 2,
     "metadata": {},
     "output_type": "execute_result"
    }
   ],
   "source": [
    "stock_df = pd.read_csv('samsung_005930.KS.csv')\n",
    "stock_df.head()"
   ]
  },
  {
   "cell_type": "code",
   "execution_count": 3,
   "metadata": {},
   "outputs": [
    {
     "data": {
      "text/html": [
       "<div>\n",
       "<style scoped>\n",
       "    .dataframe tbody tr th:only-of-type {\n",
       "        vertical-align: middle;\n",
       "    }\n",
       "\n",
       "    .dataframe tbody tr th {\n",
       "        vertical-align: top;\n",
       "    }\n",
       "\n",
       "    .dataframe thead th {\n",
       "        text-align: right;\n",
       "    }\n",
       "</style>\n",
       "<table border=\"1\" class=\"dataframe\">\n",
       "  <thead>\n",
       "    <tr style=\"text-align: right;\">\n",
       "      <th></th>\n",
       "      <th>Date</th>\n",
       "      <th>Open</th>\n",
       "      <th>High</th>\n",
       "      <th>Low</th>\n",
       "      <th>Close</th>\n",
       "      <th>Adj Close</th>\n",
       "      <th>Volume</th>\n",
       "    </tr>\n",
       "  </thead>\n",
       "  <tbody>\n",
       "    <tr>\n",
       "      <th>1220</th>\n",
       "      <td>2019-08-16</td>\n",
       "      <td>43800.0</td>\n",
       "      <td>43900.0</td>\n",
       "      <td>43300.0</td>\n",
       "      <td>43900.0</td>\n",
       "      <td>43900.0</td>\n",
       "      <td>9528115.0</td>\n",
       "    </tr>\n",
       "    <tr>\n",
       "      <th>1221</th>\n",
       "      <td>2019-08-19</td>\n",
       "      <td>44350.0</td>\n",
       "      <td>44350.0</td>\n",
       "      <td>43500.0</td>\n",
       "      <td>43600.0</td>\n",
       "      <td>43600.0</td>\n",
       "      <td>6014218.0</td>\n",
       "    </tr>\n",
       "    <tr>\n",
       "      <th>1222</th>\n",
       "      <td>2019-08-20</td>\n",
       "      <td>43950.0</td>\n",
       "      <td>44600.0</td>\n",
       "      <td>43550.0</td>\n",
       "      <td>44450.0</td>\n",
       "      <td>44450.0</td>\n",
       "      <td>8434205.0</td>\n",
       "    </tr>\n",
       "    <tr>\n",
       "      <th>1223</th>\n",
       "      <td>2019-08-21</td>\n",
       "      <td>44350.0</td>\n",
       "      <td>44800.0</td>\n",
       "      <td>44150.0</td>\n",
       "      <td>44500.0</td>\n",
       "      <td>44500.0</td>\n",
       "      <td>6571717.0</td>\n",
       "    </tr>\n",
       "    <tr>\n",
       "      <th>1224</th>\n",
       "      <td>2019-08-22</td>\n",
       "      <td>44500.0</td>\n",
       "      <td>44700.0</td>\n",
       "      <td>43850.0</td>\n",
       "      <td>44050.0</td>\n",
       "      <td>44050.0</td>\n",
       "      <td>8061177.0</td>\n",
       "    </tr>\n",
       "  </tbody>\n",
       "</table>\n",
       "</div>"
      ],
      "text/plain": [
       "            Date     Open     High      Low    Close  Adj Close     Volume\n",
       "1220  2019-08-16  43800.0  43900.0  43300.0  43900.0    43900.0  9528115.0\n",
       "1221  2019-08-19  44350.0  44350.0  43500.0  43600.0    43600.0  6014218.0\n",
       "1222  2019-08-20  43950.0  44600.0  43550.0  44450.0    44450.0  8434205.0\n",
       "1223  2019-08-21  44350.0  44800.0  44150.0  44500.0    44500.0  6571717.0\n",
       "1224  2019-08-22  44500.0  44700.0  43850.0  44050.0    44050.0  8061177.0"
      ]
     },
     "execution_count": 3,
     "metadata": {},
     "output_type": "execute_result"
    }
   ],
   "source": [
    "stock_df.tail()"
   ]
  },
  {
   "cell_type": "code",
   "execution_count": 4,
   "metadata": {},
   "outputs": [
    {
     "name": "stdout",
     "output_type": "stream",
     "text": [
      "<class 'pandas.core.frame.DataFrame'>\n",
      "RangeIndex: 1225 entries, 0 to 1224\n",
      "Data columns (total 7 columns):\n",
      " #   Column     Non-Null Count  Dtype  \n",
      "---  ------     --------------  -----  \n",
      " 0   Date       1225 non-null   object \n",
      " 1   Open       1224 non-null   float64\n",
      " 2   High       1224 non-null   float64\n",
      " 3   Low        1224 non-null   float64\n",
      " 4   Close      1224 non-null   float64\n",
      " 5   Adj Close  1224 non-null   float64\n",
      " 6   Volume     1224 non-null   float64\n",
      "dtypes: float64(6), object(1)\n",
      "memory usage: 67.1+ KB\n"
     ]
    }
   ],
   "source": [
    "stock_df.info()"
   ]
  },
  {
   "cell_type": "code",
   "execution_count": 5,
   "metadata": {},
   "outputs": [],
   "source": [
    "stock_df = stock_df.dropna() # 2019.8.2 데이터가 비어있음"
   ]
  },
  {
   "cell_type": "code",
   "execution_count": 6,
   "metadata": {},
   "outputs": [
    {
     "name": "stdout",
     "output_type": "stream",
     "text": [
      "<class 'pandas.core.frame.DataFrame'>\n",
      "Int64Index: 1224 entries, 0 to 1224\n",
      "Data columns (total 7 columns):\n",
      " #   Column     Non-Null Count  Dtype  \n",
      "---  ------     --------------  -----  \n",
      " 0   Date       1224 non-null   object \n",
      " 1   Open       1224 non-null   float64\n",
      " 2   High       1224 non-null   float64\n",
      " 3   Low        1224 non-null   float64\n",
      " 4   Close      1224 non-null   float64\n",
      " 5   Adj Close  1224 non-null   float64\n",
      " 6   Volume     1224 non-null   float64\n",
      "dtypes: float64(6), object(1)\n",
      "memory usage: 76.5+ KB\n"
     ]
    }
   ],
   "source": [
    "stock_df.info()"
   ]
  },
  {
   "cell_type": "code",
   "execution_count": 7,
   "metadata": {},
   "outputs": [],
   "source": [
    "stock_df['average'] = (stock_df['High'] + stock_df['Low'])/2"
   ]
  },
  {
   "cell_type": "code",
   "execution_count": 8,
   "metadata": {},
   "outputs": [
    {
     "data": {
      "text/html": [
       "<div>\n",
       "<style scoped>\n",
       "    .dataframe tbody tr th:only-of-type {\n",
       "        vertical-align: middle;\n",
       "    }\n",
       "\n",
       "    .dataframe tbody tr th {\n",
       "        vertical-align: top;\n",
       "    }\n",
       "\n",
       "    .dataframe thead th {\n",
       "        text-align: right;\n",
       "    }\n",
       "</style>\n",
       "<table border=\"1\" class=\"dataframe\">\n",
       "  <thead>\n",
       "    <tr style=\"text-align: right;\">\n",
       "      <th></th>\n",
       "      <th>Date</th>\n",
       "      <th>Open</th>\n",
       "      <th>High</th>\n",
       "      <th>Low</th>\n",
       "      <th>Close</th>\n",
       "      <th>Adj Close</th>\n",
       "      <th>Volume</th>\n",
       "      <th>average</th>\n",
       "    </tr>\n",
       "  </thead>\n",
       "  <tbody>\n",
       "    <tr>\n",
       "      <th>0</th>\n",
       "      <td>2014-08-25</td>\n",
       "      <td>24620.0</td>\n",
       "      <td>24620.0</td>\n",
       "      <td>24420.0</td>\n",
       "      <td>24560.0</td>\n",
       "      <td>66.414185</td>\n",
       "      <td>11577200.0</td>\n",
       "      <td>24520.0</td>\n",
       "    </tr>\n",
       "    <tr>\n",
       "      <th>1</th>\n",
       "      <td>2014-08-26</td>\n",
       "      <td>24700.0</td>\n",
       "      <td>24700.0</td>\n",
       "      <td>24420.0</td>\n",
       "      <td>24440.0</td>\n",
       "      <td>66.089699</td>\n",
       "      <td>10719450.0</td>\n",
       "      <td>24560.0</td>\n",
       "    </tr>\n",
       "  </tbody>\n",
       "</table>\n",
       "</div>"
      ],
      "text/plain": [
       "         Date     Open     High      Low    Close  Adj Close      Volume  \\\n",
       "0  2014-08-25  24620.0  24620.0  24420.0  24560.0  66.414185  11577200.0   \n",
       "1  2014-08-26  24700.0  24700.0  24420.0  24440.0  66.089699  10719450.0   \n",
       "\n",
       "   average  \n",
       "0  24520.0  \n",
       "1  24560.0  "
      ]
     },
     "execution_count": 8,
     "metadata": {},
     "output_type": "execute_result"
    }
   ],
   "source": [
    "stock_df.head(2)"
   ]
  },
  {
   "cell_type": "code",
   "execution_count": 11,
   "metadata": {},
   "outputs": [
    {
     "data": {
      "text/plain": [
       "[<matplotlib.lines.Line2D at 0x19f94c3df70>]"
      ]
     },
     "execution_count": 11,
     "metadata": {},
     "output_type": "execute_result"
    },
    {
     "data": {
      "image/png": "[encoded data removed]",
      "text/plain": [
       "<Figure size 432x288 with 1 Axes>"
      ]
     },
     "metadata": {
      "needs_background": "light"
     },
     "output_type": "display_data"
    }
   ],
   "source": [
    "plt.plot(stock_df['Volume'])\n",
    "#plt.ylim(0,1000000)"
   ]
  },
  {
   "cell_type": "code",
   "execution_count": 12,
   "metadata": {},
   "outputs": [
    {
     "data": {
      "text/plain": [
       "[<matplotlib.lines.Line2D at 0x19f94ca13a0>]"
      ]
     },
     "execution_count": 12,
     "metadata": {},
     "output_type": "execute_result"
    },
    {
     "data": {
      "image/png": "[encoded data removed]",
      "text/plain": [
       "<Figure size 432x288 with 1 Axes>"
      ]
     },
     "metadata": {
      "needs_background": "light"
     },
     "output_type": "display_data"
    }
   ],
   "source": [
    "plt.plot(stock_df['average'])"
   ]
  },
  {
   "cell_type": "markdown",
   "metadata": {},
   "source": [
    "- 거래량과 일별평균주가로 데이터를 만든다"
   ]
  },
  {
   "cell_type": "code",
   "execution_count": 13,
   "metadata": {},
   "outputs": [
    {
     "data": {
      "text/plain": [
       "(1224, 2)"
      ]
     },
     "execution_count": 13,
     "metadata": {},
     "output_type": "execute_result"
    }
   ],
   "source": [
    "stock = stock_df[['Volume','average']].values\n",
    "stock.shape"
   ]
  },
  {
   "cell_type": "markdown",
   "metadata": {},
   "source": [
    "### 학습용 데이터 생성"
   ]
  },
  {
   "cell_type": "code",
   "execution_count": 14,
   "metadata": {},
   "outputs": [
    {
     "data": {
      "text/plain": [
       "(1224, 2)"
      ]
     },
     "execution_count": 14,
     "metadata": {},
     "output_type": "execute_result"
    }
   ],
   "source": [
    "stock.shape"
   ]
  },
  {
   "cell_type": "code",
   "execution_count": 16,
   "metadata": {},
   "outputs": [],
   "source": [
    "lookback = 50 # 50일치 데이터로 시퀀스를 만든다"
   ]
  },
  {
   "cell_type": "code",
   "execution_count": 17,
   "metadata": {},
   "outputs": [],
   "source": [
    "X = []\n",
    "y = []\n",
    "\n",
    "for i in range(len(stock)-lookback):\n",
    "    X.append(stock[i:i+lookback])\n",
    "    y.append(stock[i+lookback,[1]])"
   ]
  },
  {
   "cell_type": "code",
   "execution_count": 18,
   "metadata": {},
   "outputs": [
    {
     "data": {
      "text/plain": [
       "((1174, 50, 2), (1174, 1))"
      ]
     },
     "execution_count": 18,
     "metadata": {},
     "output_type": "execute_result"
    }
   ],
   "source": [
    "X = np.array(X)\n",
    "y = np.array(y)\n",
    "\n",
    "X.shape, y.shape"
   ]
  },
  {
   "cell_type": "code",
   "execution_count": 19,
   "metadata": {},
   "outputs": [],
   "source": [
    "X_train = X[:-200-lookback]\n",
    "X_test = X[-200:]\n",
    "y_train = y[:-200-lookback]\n",
    "y_test = y[-200:]"
   ]
  },
  {
   "cell_type": "code",
   "execution_count": 20,
   "metadata": {},
   "outputs": [
    {
     "data": {
      "text/plain": [
       "((924, 50, 2), (200, 50, 2), (924, 1), (200, 1))"
      ]
     },
     "execution_count": 20,
     "metadata": {},
     "output_type": "execute_result"
    }
   ],
   "source": [
    "X_train.shape, X_test.shape, y_train.shape, y_test.shape"
   ]
  },
  {
   "cell_type": "code",
   "execution_count": null,
   "metadata": {},
   "outputs": [],
   "source": []
  },
  {
   "cell_type": "markdown",
   "metadata": {},
   "source": [
    "- 각 샘플 별로 정규화 적용"
   ]
  },
  {
   "cell_type": "code",
   "execution_count": 55,
   "metadata": {},
   "outputs": [],
   "source": [
    "X = []\n",
    "Y = []\n",
    "\n",
    "for x,y in zip(X_train, y_train):\n",
    "    x_mean = x.mean(axis=0)\n",
    "    x_std = x.std(axis=0)\n",
    "    X.append((x-x_mean)/x_std)\n",
    "    Y.append([(y[0]-x_mean[1])/x_std[1]])"
   ]
  },
  {
   "cell_type": "code",
   "execution_count": 56,
   "metadata": {},
   "outputs": [
    {
     "data": {
      "text/plain": [
       "((924, 50, 2), (924, 1))"
      ]
     },
     "execution_count": 56,
     "metadata": {},
     "output_type": "execute_result"
    }
   ],
   "source": [
    "np.array(X).shape, np.array(Y).shape"
   ]
  },
  {
   "cell_type": "code",
   "execution_count": 59,
   "metadata": {},
   "outputs": [],
   "source": [
    "X_train = np.array(X)\n",
    "y_train = np.array(Y)"
   ]
  },
  {
   "cell_type": "code",
   "execution_count": null,
   "metadata": {},
   "outputs": [],
   "source": []
  },
  {
   "cell_type": "code",
   "execution_count": 60,
   "metadata": {},
   "outputs": [],
   "source": [
    "X = []\n",
    "Y = []\n",
    "\n",
    "for x,y in zip(X_test, y_test):\n",
    "    x_mean = x.mean(axis=0)\n",
    "    x_std = x.std(axis=0)\n",
    "    X.append((x-x_mean)/x_std)\n",
    "    Y.append([(y[0]-x_mean[1])/x_std[1]])\n",
    "    \n",
    "X_test = np.array(X)\n",
    "y_test = np.array(Y)"
   ]
  },
  {
   "cell_type": "code",
   "execution_count": 69,
   "metadata": {},
   "outputs": [
    {
     "data": {
      "text/plain": [
       "((200, 50, 2), (200, 1))"
      ]
     },
     "execution_count": 69,
     "metadata": {},
     "output_type": "execute_result"
    }
   ],
   "source": [
    "X_test.shape, y_test.shape"
   ]
  },
  {
   "cell_type": "markdown",
   "metadata": {},
   "source": [
    "### 모델 생성"
   ]
  },
  {
   "cell_type": "code",
   "execution_count": 64,
   "metadata": {},
   "outputs": [],
   "source": [
    "from tensorflow.keras.models import Sequential\n",
    "from tensorflow.keras.layers import Dense, LSTM, BatchNormalization"
   ]
  },
  {
   "cell_type": "code",
   "execution_count": 71,
   "metadata": {},
   "outputs": [
    {
     "name": "stdout",
     "output_type": "stream",
     "text": [
      "Model: \"sequential_2\"\n",
      "_________________________________________________________________\n",
      "Layer (type)                 Output Shape              Param #   \n",
      "=================================================================\n",
      "lstm_6 (LSTM)                (None, 50, 32)            4480      \n",
      "_________________________________________________________________\n",
      "lstm_7 (LSTM)                (None, 50, 32)            8320      \n",
      "_________________________________________________________________\n",
      "lstm_8 (LSTM)                (None, 32)                8320      \n",
      "_________________________________________________________________\n",
      "dense_2 (Dense)              (None, 1)                 33        \n",
      "=================================================================\n",
      "Total params: 21,153\n",
      "Trainable params: 21,153\n",
      "Non-trainable params: 0\n",
      "_________________________________________________________________\n"
     ]
    }
   ],
   "source": [
    "model = Sequential()\n",
    "model.add(LSTM(32, return_sequences=True, activation='relu',\n",
    "              input_shape=(50,2))) # ReLU 적용 (회귀)\n",
    "model.add(LSTM(32, return_sequences=True, activation='relu')) # ReLU 적용 (회귀)\n",
    "model.add(LSTM(32))\n",
    "model.add(Dense(1))\n",
    "\n",
    "model.summary()"
   ]
  },
  {
   "cell_type": "code",
   "execution_count": 72,
   "metadata": {},
   "outputs": [],
   "source": [
    "model.compile(loss='mse', optimizer='adam')"
   ]
  },
  {
   "cell_type": "code",
   "execution_count": 73,
   "metadata": {
    "scrolled": true
   },
   "outputs": [
    {
     "name": "stdout",
     "output_type": "stream",
     "text": [
      "Epoch 1/20\n",
      "29/29 [==============================] - 29s 307ms/step - loss: 1.9937 - val_loss: 1.4354\n",
      "Epoch 2/20\n",
      "29/29 [==============================] - 5s 177ms/step - loss: 0.9651 - val_loss: 0.8269\n",
      "Epoch 3/20\n",
      "29/29 [==============================] - 5s 186ms/step - loss: 0.6231 - val_loss: 0.4646\n",
      "Epoch 4/20\n",
      "29/29 [==============================] - 5s 180ms/step - loss: 0.4445 - val_loss: 0.3792\n",
      "Epoch 5/20\n",
      "29/29 [==============================] - 5s 180ms/step - loss: 0.3577 - val_loss: 0.2681\n",
      "Epoch 6/20\n",
      "29/29 [==============================] - 5s 180ms/step - loss: 0.3267 - val_loss: 0.2670\n",
      "Epoch 7/20\n",
      "29/29 [==============================] - 6s 192ms/step - loss: 0.2960 - val_loss: 0.2953\n",
      "Epoch 8/20\n",
      "29/29 [==============================] - 5s 182ms/step - loss: 0.2178 - val_loss: 0.1628\n",
      "Epoch 9/20\n",
      "29/29 [==============================] - 5s 180ms/step - loss: 0.1924 - val_loss: 0.2818\n",
      "Epoch 10/20\n",
      "29/29 [==============================] - 5s 182ms/step - loss: 0.2017 - val_loss: 0.1923\n",
      "Epoch 11/20\n",
      "29/29 [==============================] - 5s 181ms/step - loss: 0.1467 - val_loss: 0.1283\n",
      "Epoch 12/20\n",
      "29/29 [==============================] - 5s 181ms/step - loss: 0.1645 - val_loss: 0.1490\n",
      "Epoch 13/20\n",
      "29/29 [==============================] - 5s 184ms/step - loss: 0.1423 - val_loss: 0.1504\n",
      "Epoch 14/20\n",
      "29/29 [==============================] - 5s 181ms/step - loss: 0.1362 - val_loss: 0.1408\n",
      "Epoch 15/20\n",
      "29/29 [==============================] - 5s 181ms/step - loss: 0.1715 - val_loss: 0.1417\n",
      "Epoch 16/20\n",
      "29/29 [==============================] - 5s 183ms/step - loss: 0.1419 - val_loss: 0.1359\n",
      "Epoch 17/20\n",
      "29/29 [==============================] - 5s 181ms/step - loss: 0.1460 - val_loss: 0.1332\n",
      "Epoch 18/20\n",
      "29/29 [==============================] - 5s 181ms/step - loss: 0.1417 - val_loss: 0.1347\n",
      "Epoch 19/20\n",
      "29/29 [==============================] - 5s 181ms/step - loss: 0.1368 - val_loss: 0.1317\n",
      "Epoch 20/20\n",
      "29/29 [==============================] - 5s 181ms/step - loss: 0.1301 - val_loss: 0.1394\n"
     ]
    }
   ],
   "source": [
    "h = model.fit(X_train, y_train, batch_size=32, epochs=20,\n",
    "              validation_data=(X_test, y_test))"
   ]
  },
  {
   "cell_type": "code",
   "execution_count": 74,
   "metadata": {},
   "outputs": [
    {
     "data": {
      "text/plain": [
       "<matplotlib.legend.Legend at 0x19fac14d760>"
      ]
     },
     "execution_count": 74,
     "metadata": {},
     "output_type": "execute_result"
    },
    {
     "data": {
      "image/png": "[encoded data removed]",
      "text/plain": [
       "<Figure size 432x288 with 1 Axes>"
      ]
     },
     "metadata": {
      "needs_background": "light"
     },
     "output_type": "display_data"
    }
   ],
   "source": [
    "plt.plot(h.history['loss'])\n",
    "plt.plot(h.history['val_loss'])\n",
    "plt.legend(['loss', 'val_loss'])"
   ]
  },
  {
   "cell_type": "markdown",
   "metadata": {},
   "source": [
    "### 평가"
   ]
  },
  {
   "cell_type": "code",
   "execution_count": 75,
   "metadata": {},
   "outputs": [],
   "source": [
    "X = []\n",
    "y = []\n",
    "\n",
    "for i in range(len(stock)-lookback):\n",
    "    X.append(stock[i:i+lookback])\n",
    "    y.append(stock[i+lookback,[1]])"
   ]
  },
  {
   "cell_type": "code",
   "execution_count": 76,
   "metadata": {},
   "outputs": [
    {
     "data": {
      "text/plain": [
       "((1174, 50, 2), (1174, 1))"
      ]
     },
     "execution_count": 76,
     "metadata": {},
     "output_type": "execute_result"
    }
   ],
   "source": [
    "X = np.array(X)\n",
    "y = np.array(y)\n",
    "\n",
    "X.shape, y.shape"
   ]
  },
  {
   "cell_type": "code",
   "execution_count": 77,
   "metadata": {},
   "outputs": [],
   "source": [
    "_X_train = X[:-200-lookback]\n",
    "_X_test = X[-200:]\n",
    "_y_train = y[:-200-lookback]\n",
    "_y_test = y[-200:]"
   ]
  },
  {
   "cell_type": "code",
   "execution_count": 78,
   "metadata": {},
   "outputs": [
    {
     "data": {
      "text/plain": [
       "((924, 50, 2), (200, 50, 2), (924, 1), (200, 1))"
      ]
     },
     "execution_count": 78,
     "metadata": {},
     "output_type": "execute_result"
    }
   ],
   "source": [
    "_X_train.shape, _X_test.shape, _y_train.shape, _y_test.shape"
   ]
  },
  {
   "cell_type": "code",
   "execution_count": null,
   "metadata": {},
   "outputs": [],
   "source": []
  },
  {
   "cell_type": "code",
   "execution_count": 79,
   "metadata": {
    "collapsed": true
   },
   "outputs": [
    {
     "data": {
      "text/plain": [
       "array([[-1.5549465e+00],\n",
       "       [-1.3162442e+00],\n",
       "       [-1.5493947e+00],\n",
       "       [-6.4573604e-01],\n",
       "       [-1.2636739e+00],\n",
       "       [-9.3980610e-01],\n",
       "       [-4.8294565e-01],\n",
       "       [-3.1439286e-01],\n",
       "       [-5.8131748e-01],\n",
       "       [-2.3103514e-01],\n",
       "       [-5.6193095e-01],\n",
       "       [-2.0083973e-01],\n",
       "       [-3.2726395e-01],\n",
       "       [ 1.5276149e-03],\n",
       "       [-2.8922507e-01],\n",
       "       [-1.0823207e+00],\n",
       "       [-1.1834474e+00],\n",
       "       [-7.9463416e-01],\n",
       "       [-9.3194443e-01],\n",
       "       [-8.1712812e-01],\n",
       "       [-5.4631597e-01],\n",
       "       [-4.4404873e-01],\n",
       "       [-1.5438169e-01],\n",
       "       [-8.7325072e-01],\n",
       "       [-5.1667124e-01],\n",
       "       [-1.1362504e+00],\n",
       "       [-2.0171864e+00],\n",
       "       [-2.1916254e+00],\n",
       "       [-1.6644201e+00],\n",
       "       [-2.4486516e+00],\n",
       "       [-2.0855503e+00],\n",
       "       [-2.0201805e+00],\n",
       "       [-2.0736835e+00],\n",
       "       [-2.9194186e+00],\n",
       "       [-2.6423860e+00],\n",
       "       [-2.5257542e+00],\n",
       "       [-2.0064616e+00],\n",
       "       [-2.1329174e+00],\n",
       "       [-2.2078626e+00],\n",
       "       [-1.7569087e+00],\n",
       "       [-1.8385319e+00],\n",
       "       [-1.7562474e+00],\n",
       "       [-1.5832230e+00],\n",
       "       [-1.3170718e+00],\n",
       "       [-2.0024841e+00],\n",
       "       [-2.0813982e+00],\n",
       "       [-1.0713485e+00],\n",
       "       [-1.4152045e+00],\n",
       "       [-1.1346309e+00],\n",
       "       [-5.9879762e-01],\n",
       "       [-7.1077764e-01],\n",
       "       [-6.2061030e-01],\n",
       "       [-3.6877570e-01],\n",
       "       [-5.6072049e-02],\n",
       "       [ 3.6449116e-01],\n",
       "       [ 4.2721969e-01],\n",
       "       [ 5.0796914e-01],\n",
       "       [ 5.5730498e-01],\n",
       "       [ 3.0576059e-01],\n",
       "       [ 1.1159393e+00],\n",
       "       [ 1.8676022e+00],\n",
       "       [ 1.9321241e+00],\n",
       "       [ 1.6645311e+00],\n",
       "       [ 2.1932018e+00],\n",
       "       [ 2.6022477e+00],\n",
       "       [ 2.0909395e+00],\n",
       "       [ 2.0657225e+00],\n",
       "       [ 1.1782646e+00],\n",
       "       [ 1.1422813e+00],\n",
       "       [ 1.6194247e+00],\n",
       "       [ 1.6973393e+00],\n",
       "       [ 1.7580804e+00],\n",
       "       [ 1.2559146e+00],\n",
       "       [ 1.3549016e+00],\n",
       "       [ 1.1087888e+00],\n",
       "       [ 1.5369581e+00],\n",
       "       [ 1.2963437e+00],\n",
       "       [ 1.2543336e+00],\n",
       "       [ 1.3736740e+00],\n",
       "       [ 1.2107269e+00],\n",
       "       [ 1.1879934e+00],\n",
       "       [ 6.5847957e-01],\n",
       "       [ 8.3010584e-01],\n",
       "       [ 4.8901644e-01],\n",
       "       [ 3.0974320e-01],\n",
       "       [ 3.8888717e-01],\n",
       "       [ 3.7812343e-01],\n",
       "       [ 2.1477267e-01],\n",
       "       [ 4.1912988e-01],\n",
       "       [ 1.8214571e-01],\n",
       "       [ 3.5854355e-03],\n",
       "       [ 1.5996537e-01],\n",
       "       [ 3.5638310e-02],\n",
       "       [-5.8533810e-02],\n",
       "       [-1.1235490e-01],\n",
       "       [ 6.4698040e-01],\n",
       "       [ 1.3204131e+00],\n",
       "       [-3.0403338e-02],\n",
       "       [ 3.9318982e-01],\n",
       "       [ 1.7451486e-01],\n",
       "       [-3.9249286e-03],\n",
       "       [-1.9626817e-01],\n",
       "       [ 3.3794054e-01],\n",
       "       [ 5.8948088e-01],\n",
       "       [ 9.5067704e-01],\n",
       "       [ 1.1522626e+00],\n",
       "       [ 1.4391425e+00],\n",
       "       [ 8.0782527e-01],\n",
       "       [ 8.9356565e-01],\n",
       "       [ 7.6453763e-01],\n",
       "       [ 9.0837359e-01],\n",
       "       [ 7.5711089e-01],\n",
       "       [ 1.5840057e+00],\n",
       "       [ 1.0161735e+00],\n",
       "       [ 1.2087029e+00],\n",
       "       [ 2.6017979e-01],\n",
       "       [-9.2573784e-02],\n",
       "       [ 6.3066259e-03],\n",
       "       [-2.5405380e-01],\n",
       "       [-6.3509578e-01],\n",
       "       [-7.6396960e-01],\n",
       "       [-8.0149454e-01],\n",
       "       [ 5.0422060e-01],\n",
       "       [ 3.9827943e-01],\n",
       "       [ 2.4431169e-01],\n",
       "       [ 1.6275421e-01],\n",
       "       [-7.6968229e-01],\n",
       "       [-8.1606978e-01],\n",
       "       [-1.9725307e+00],\n",
       "       [-2.1546476e+00],\n",
       "       [-2.1003430e+00],\n",
       "       [-2.4981043e+00],\n",
       "       [-1.6167375e+00],\n",
       "       [-2.5170715e+00],\n",
       "       [-2.5266716e+00],\n",
       "       [-1.9250110e+00],\n",
       "       [-8.4871489e-01],\n",
       "       [-1.6524959e+00],\n",
       "       [-8.3757496e-01],\n",
       "       [-1.4796797e+00],\n",
       "       [-1.4771820e+00],\n",
       "       [-1.3345044e+00],\n",
       "       [-2.1063869e+00],\n",
       "       [-1.0497497e+00],\n",
       "       [-1.3218840e+00],\n",
       "       [-6.9285268e-01],\n",
       "       [-8.7552851e-01],\n",
       "       [-3.0929664e-01],\n",
       "       [-5.8727282e-01],\n",
       "       [-3.6815457e-02],\n",
       "       [ 3.9616384e-02],\n",
       "       [ 1.6813345e-02],\n",
       "       [-5.1881295e-01],\n",
       "       [-2.4072966e-01],\n",
       "       [-2.3297915e-01],\n",
       "       [ 5.5840082e-02],\n",
       "       [ 8.2256138e-01],\n",
       "       [ 3.9218667e-01],\n",
       "       [ 7.2634619e-01],\n",
       "       [ 6.4958882e-01],\n",
       "       [ 6.7953748e-01],\n",
       "       [ 9.3750298e-01],\n",
       "       [ 1.2214795e+00],\n",
       "       [ 1.7037003e+00],\n",
       "       [ 1.5945086e+00],\n",
       "       [ 1.2335753e+00],\n",
       "       [ 8.9820856e-01],\n",
       "       [ 9.8534751e-01],\n",
       "       [ 8.5585797e-01],\n",
       "       [ 6.9633342e-02],\n",
       "       [ 6.3603461e-01],\n",
       "       [ 1.1168163e+00],\n",
       "       [ 1.3725846e+00],\n",
       "       [ 1.0453700e+00],\n",
       "       [ 1.1461015e+00],\n",
       "       [ 1.4560891e+00],\n",
       "       [ 1.0008718e+00],\n",
       "       [ 9.5809615e-01],\n",
       "       [ 1.5290161e+00],\n",
       "       [ 1.4688429e+00],\n",
       "       [ 1.6474599e+00],\n",
       "       [ 1.0485228e+00],\n",
       "       [ 1.3766044e+00],\n",
       "       [ 1.2506323e+00],\n",
       "       [ 9.0067559e-01],\n",
       "       [ 9.9865109e-01],\n",
       "       [ 1.4001665e-01],\n",
       "       [-9.8599635e-02],\n",
       "       [-1.0368639e+00],\n",
       "       [-1.5193918e+00],\n",
       "       [-1.0100402e+00],\n",
       "       [-1.4953865e+00],\n",
       "       [-1.4291493e+00],\n",
       "       [-9.6700877e-01],\n",
       "       [-1.8959543e+00],\n",
       "       [-9.2756307e-01],\n",
       "       [-1.5274392e+00],\n",
       "       [-1.0945904e+00],\n",
       "       [-9.7643256e-01],\n",
       "       [-7.3587269e-01]], dtype=float32)"
      ]
     },
     "execution_count": 79,
     "metadata": {},
     "output_type": "execute_result"
    }
   ],
   "source": [
    "pred_y = model.predict(X_test)\n",
    "pred_y"
   ]
  },
  {
   "cell_type": "code",
   "execution_count": 84,
   "metadata": {},
   "outputs": [],
   "source": [
    "real_y = []\n",
    "\n",
    "for i in range(200):\n",
    "    x = _X_test[i]\n",
    "    real_y.append(pred_y[i]*(x.std(axis=0)[1]) + x.mean(axis=0)[1])"
   ]
  },
  {
   "cell_type": "code",
   "execution_count": 87,
   "metadata": {},
   "outputs": [],
   "source": [
    "real_y = np.array(real_y)"
   ]
  },
  {
   "cell_type": "code",
   "execution_count": 99,
   "metadata": {},
   "outputs": [
    {
     "data": {
      "text/plain": [
       "Text(0.5, 1.0, 'Samsung - Stock price')"
      ]
     },
     "execution_count": 99,
     "metadata": {},
     "output_type": "execute_result"
    },
    {
     "data": {
      "image/png": "[encoded data removed]",
      "text/plain": [
       "<Figure size 864x432 with 1 Axes>"
      ]
     },
     "metadata": {
      "needs_background": "light"
     },
     "output_type": "display_data"
    }
   ],
   "source": [
    "plt.figure(figsize=[12,6])\n",
    "plt.plot(real_y.ravel(), 'r-', label='pred_y')\n",
    "plt.plot(_y_test.ravel(), 'b-', label='y_test')\n",
    "#plt.plot((real_y-_y_test).ravel()*50, 'g-', label='diff*10')\n",
    "plt.legend()\n",
    "plt.title('Samsung - Stock price')"
   ]
  },
  {
   "cell_type": "markdown",
   "metadata": {},
   "source": [
    "- 위의 결과는 그럴듯해 보이지만 사실은 엉터리이다\n",
    "- 바로 하루전의 주가로 예측한 것일 뿐이다"
   ]
  },
  {
   "cell_type": "code",
   "execution_count": 101,
   "metadata": {},
   "outputs": [
    {
     "data": {
      "text/plain": [
       "Text(0.5, 1.0, 'Samsung - Stock price')"
      ]
     },
     "execution_count": 101,
     "metadata": {},
     "output_type": "execute_result"
    },
    {
     "data": {
      "image/png": "[encoded data removed]",
      "text/plain": [
       "<Figure size 864x432 with 1 Axes>"
      ]
     },
     "metadata": {
      "needs_background": "light"
     },
     "output_type": "display_data"
    }
   ],
   "source": [
    "plt.figure(figsize=[12,6])\n",
    "plt.plot(real_y.ravel()[1:], 'r-', label='pred_y')\n",
    "plt.plot(_y_test.ravel(), 'b-', label='y_test')\n",
    "#plt.plot((real_y-_y_test).ravel()*50, 'g-', label='diff*10')\n",
    "plt.legend()\n",
    "plt.title('Samsung - Stock price')"
   ]
  }
 ],
 "metadata": {
  "kernelspec": {
   "display_name": "Python 3",
   "language": "python",
   "name": "python3"
  },
  "language_info": {
   "codemirror_mode": {
    "name": "ipython",
    "version": 3
   },
   "file_extension": ".py",
   "mimetype": "text/x-python",
   "name": "python",
   "nbconvert_exporter": "python",
   "pygments_lexer": "ipython3",
   "version": "3.8.5"
  }
 },
 "nbformat": 4,
 "nbformat_minor": 2
}

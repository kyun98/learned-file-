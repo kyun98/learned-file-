{
 "cells": [
  {
   "cell_type": "markdown",
   "metadata": {},
   "source": [
    "## 파이썬 머신러닝\n",
    "# Numpy를 활용한 수치근사법 예제"
   ]
  },
  {
   "cell_type": "code",
   "execution_count": 1,
   "metadata": {},
   "outputs": [],
   "source": [
    "import numpy as np\n",
    "import matplotlib.pyplot as plt"
   ]
  },
  {
   "cell_type": "markdown",
   "metadata": {},
   "source": [
    "### sklearn 의 make_blobs 함수를 사용"
   ]
  },
  {
   "cell_type": "code",
   "execution_count": 2,
   "metadata": {},
   "outputs": [],
   "source": [
    "from sklearn.datasets import make_blobs"
   ]
  },
  {
   "cell_type": "code",
   "execution_count": 3,
   "metadata": {},
   "outputs": [],
   "source": [
    "data, label = make_blobs(n_samples=500, centers=[[0,0]])"
   ]
  },
  {
   "cell_type": "code",
   "execution_count": 4,
   "metadata": {
    "collapsed": true
   },
   "outputs": [
    {
     "data": {
      "text/plain": [
       "array([[ 2.43941649e-01, -3.33516827e-01],\n",
       "       [-3.75632447e-01, -1.15058630e+00],\n",
       "       [ 9.67924212e-01, -1.30106510e-01],\n",
       "       [ 2.27136295e+00, -3.79732803e-01],\n",
       "       [ 9.39960370e-01,  1.40959170e-01],\n",
       "       [-7.59622185e-01, -9.98881519e-01],\n",
       "       [ 1.04406391e+00, -1.57557734e-01],\n",
       "       [-5.10698248e-01, -6.57031099e-01],\n",
       "       [-3.75976020e-01, -5.31051765e-01],\n",
       "       [-4.58279514e-01,  2.36930179e+00],\n",
       "       [ 1.24210258e+00, -1.92992067e-01],\n",
       "       [ 1.09063525e+00,  3.39156895e-01],\n",
       "       [-4.79469063e-01,  1.07860276e+00],\n",
       "       [-1.44012246e-01,  4.09014035e-01],\n",
       "       [-1.39329741e+00, -1.12679805e+00],\n",
       "       [ 2.56372392e-01,  4.82887791e-01],\n",
       "       [ 5.09066481e-01,  8.84040457e-01],\n",
       "       [ 7.20378296e-01, -2.20624066e-01],\n",
       "       [ 1.48101134e-02, -1.02000879e-01],\n",
       "       [ 1.71468533e+00,  2.21220992e-01],\n",
       "       [ 4.99297318e-02, -6.91403340e-01],\n",
       "       [-1.25152691e+00, -1.99785779e+00],\n",
       "       [-7.92453042e-01, -2.00538064e+00],\n",
       "       [ 9.06177011e-01,  8.18920870e-02],\n",
       "       [-1.17708487e+00, -2.29719340e+00],\n",
       "       [ 5.41383249e-01,  2.67731245e-01],\n",
       "       [-7.66017284e-02,  5.97087776e-01],\n",
       "       [-1.22025064e+00,  6.05615073e-01],\n",
       "       [ 2.72961825e-01, -7.88702878e-01],\n",
       "       [-1.24419776e+00, -3.69831403e-01],\n",
       "       [-8.52218245e-01, -6.58584123e-01],\n",
       "       [ 1.30286672e-01, -2.36758707e+00],\n",
       "       [-7.89597441e-02, -1.30155156e+00],\n",
       "       [-2.38645473e-01,  5.70580943e-01],\n",
       "       [ 5.24843489e-02,  1.05974323e+00],\n",
       "       [-7.37350161e-01,  4.59976241e-01],\n",
       "       [ 2.85103667e-01,  8.28188484e-01],\n",
       "       [ 2.83666286e-01,  5.18769155e-01],\n",
       "       [ 2.32020823e-01, -1.11197825e-01],\n",
       "       [-1.43914260e+00, -1.92218708e+00],\n",
       "       [ 8.53614570e-01,  3.42683406e-02],\n",
       "       [-9.12120067e-01,  8.14583524e-01],\n",
       "       [-1.18930525e-02,  4.55773520e-01],\n",
       "       [ 2.42152264e-02,  1.09239297e+00],\n",
       "       [ 1.40884380e+00,  3.48902325e-01],\n",
       "       [-6.34523503e-01,  8.49271325e-01],\n",
       "       [-6.19248691e-01, -9.00820193e-01],\n",
       "       [ 1.60780035e+00, -1.51153066e+00],\n",
       "       [-1.82349937e+00,  4.64497703e-01],\n",
       "       [-1.75264243e+00, -1.09516089e+00],\n",
       "       [-3.45058470e-02, -6.05727811e-01],\n",
       "       [ 1.17867986e+00,  6.56641527e-01],\n",
       "       [ 2.65391439e-01, -1.15608607e+00],\n",
       "       [ 2.19375071e-01,  9.08431371e-02],\n",
       "       [-8.29603300e-01,  6.36752190e-01],\n",
       "       [ 1.51039370e+00,  1.10725962e+00],\n",
       "       [ 1.91948115e-01,  9.52722593e-01],\n",
       "       [ 1.06519197e+00, -7.44551220e-01],\n",
       "       [ 1.18971387e+00, -3.28325774e-01],\n",
       "       [ 9.02304897e-01,  2.66093780e-03],\n",
       "       [-3.27913567e-01, -1.72924881e+00],\n",
       "       [ 1.65312099e-01,  1.60702487e+00],\n",
       "       [-6.45317910e-01, -9.29247448e-01],\n",
       "       [-1.30829768e+00, -5.88130815e-01],\n",
       "       [ 7.91688410e-01,  1.02357915e+00],\n",
       "       [ 3.34358872e-01,  6.29393621e-01],\n",
       "       [-5.37243026e-01,  8.78242094e-01],\n",
       "       [-2.59382302e-01,  3.09895356e-01],\n",
       "       [ 1.54264043e+00,  8.58804004e-01],\n",
       "       [-6.87670285e-01,  1.47064173e-01],\n",
       "       [-1.08466088e-01,  4.31862455e-01],\n",
       "       [ 2.11032469e+00,  1.42011158e+00],\n",
       "       [ 1.24150527e+00, -5.35972348e-01],\n",
       "       [ 4.61055393e-01,  1.54087470e+00],\n",
       "       [ 2.40953121e-01, -1.96878648e-01],\n",
       "       [-1.19088103e+00, -2.79568464e-01],\n",
       "       [ 1.02682954e+00,  3.76362523e-03],\n",
       "       [ 1.77381408e+00,  7.31729774e-01],\n",
       "       [ 2.19733967e+00,  3.72564757e-01],\n",
       "       [-6.81926636e-01,  1.21007891e+00],\n",
       "       [ 9.77301106e-01, -7.70574866e-01],\n",
       "       [ 1.12493793e+00,  6.48625679e-01],\n",
       "       [-1.56729284e+00, -1.23246140e+00],\n",
       "       [ 1.49801392e-01,  1.46985321e-01],\n",
       "       [ 2.83007165e-02,  7.67188786e-01],\n",
       "       [-8.39944625e-02,  1.45261007e-02],\n",
       "       [ 5.86249555e-01, -2.00392923e+00],\n",
       "       [ 9.74814160e-01,  8.64892539e-01],\n",
       "       [ 8.49314526e-03, -1.33887952e+00],\n",
       "       [-1.77005131e-01,  7.10741569e-01],\n",
       "       [ 9.95057720e-01,  4.52487957e-01],\n",
       "       [-2.70898993e-01,  4.20491758e-01],\n",
       "       [-1.22576360e+00,  5.13055700e-01],\n",
       "       [ 1.26885835e+00, -6.30468271e-01],\n",
       "       [-1.39142200e+00, -6.23629044e-02],\n",
       "       [ 4.51820647e-01,  1.02898720e+00],\n",
       "       [ 1.76295510e-02,  2.76327495e-01],\n",
       "       [-4.57514914e-02,  1.59921841e-01],\n",
       "       [ 1.90390797e+00,  5.50496177e-01],\n",
       "       [ 1.67568400e+00,  5.20493571e-01],\n",
       "       [ 1.67968860e-01,  1.01466167e+00],\n",
       "       [-5.64308793e-01, -2.96102696e-01],\n",
       "       [ 2.50248234e-01,  6.28454482e-01],\n",
       "       [-5.06225872e-01,  4.75782427e-01],\n",
       "       [-1.02584375e+00,  6.87729854e-01],\n",
       "       [ 9.19991982e-01, -5.78972218e-01],\n",
       "       [ 6.06909372e-01,  6.68276623e-01],\n",
       "       [ 7.04445404e-01, -5.70934197e-01],\n",
       "       [ 3.00751580e-01,  3.28236774e-01],\n",
       "       [-6.21950059e-01, -7.70555066e-01],\n",
       "       [-1.36651051e+00,  3.63668303e-01],\n",
       "       [-1.64422993e+00, -4.04203382e-01],\n",
       "       [-7.64935060e-01, -1.47175632e+00],\n",
       "       [ 1.37623707e-01, -5.10564123e-01],\n",
       "       [ 4.19271025e-01,  6.71373977e-01],\n",
       "       [ 4.44515245e-02, -5.79206291e-01],\n",
       "       [-5.87968179e-01, -4.43747961e-01],\n",
       "       [ 4.78265562e-01,  4.82122320e-01],\n",
       "       [ 4.83445733e-01,  3.41073149e-01],\n",
       "       [ 5.04384433e-01, -7.70266906e-01],\n",
       "       [-3.51283548e-01, -3.70681447e-02],\n",
       "       [ 8.18784061e-01, -5.45033195e-01],\n",
       "       [ 2.64221490e-01, -1.21609369e+00],\n",
       "       [ 1.16967303e+00,  7.29172357e-01],\n",
       "       [-9.35088177e-01, -2.50979511e-01],\n",
       "       [-7.56923989e-01,  4.59594390e-02],\n",
       "       [-8.49996785e-01, -1.97426848e-01],\n",
       "       [-8.54746352e-01, -5.67773101e-01],\n",
       "       [-2.99668946e-01, -2.56780004e-01],\n",
       "       [ 9.54266621e-01,  1.30609144e+00],\n",
       "       [-7.92831144e-01, -1.05299500e+00],\n",
       "       [-5.49390111e-01,  1.47170536e+00],\n",
       "       [ 5.31138158e-01, -6.09919754e-01],\n",
       "       [ 1.49916184e+00, -4.07790608e-01],\n",
       "       [-1.99939363e-01,  1.08815419e+00],\n",
       "       [ 7.65148059e-01,  1.09499920e+00],\n",
       "       [ 9.48178046e-01,  6.27166517e-01],\n",
       "       [-5.23603185e-01,  1.15308967e+00],\n",
       "       [ 7.42013916e-02, -1.10622250e+00],\n",
       "       [-4.45582689e-01, -3.63782995e-01],\n",
       "       [-3.47062132e-02,  1.81822969e+00],\n",
       "       [ 1.03333032e+00,  1.28009526e+00],\n",
       "       [ 1.46174279e-01, -2.68298024e-01],\n",
       "       [ 2.79880664e-01,  3.55017932e-01],\n",
       "       [ 1.04409316e+00, -1.12124671e+00],\n",
       "       [-1.12902404e+00, -1.97165822e+00],\n",
       "       [ 4.11311688e-01, -4.23342132e-01],\n",
       "       [ 2.10037220e+00,  6.68473453e-01],\n",
       "       [-2.88514535e-01, -1.02108949e+00],\n",
       "       [ 7.72017062e-01, -2.63018662e-01],\n",
       "       [ 2.51804089e-01, -8.79977635e-02],\n",
       "       [ 2.67168415e+00, -3.41389187e-01],\n",
       "       [-3.07680622e-01,  3.10327534e-02],\n",
       "       [ 4.99830266e-02,  2.75492706e-01],\n",
       "       [-1.61115219e+00, -2.04954871e+00],\n",
       "       [ 2.71444532e-01, -1.01104139e+00],\n",
       "       [ 5.44976220e-01, -2.17277428e-01],\n",
       "       [-5.47492519e-01,  1.38211324e-01],\n",
       "       [-7.55771157e-01, -1.06221432e+00],\n",
       "       [ 9.53058407e-01,  6.96285121e-01],\n",
       "       [-2.14538276e-01,  8.13884224e-01],\n",
       "       [ 6.90183038e-01,  1.08470662e+00],\n",
       "       [ 1.36636996e-01, -2.26964838e-02],\n",
       "       [-1.91497497e+00,  2.02205019e+00],\n",
       "       [-8.23441992e-01,  1.74729339e-01],\n",
       "       [ 1.61480708e+00,  1.37201488e+00],\n",
       "       [-2.77296027e-01,  2.20014342e-01],\n",
       "       [ 1.51770234e-01, -1.44113562e+00],\n",
       "       [ 4.61369664e-01, -6.11538920e-01],\n",
       "       [-8.51312840e-01, -1.65988974e+00],\n",
       "       [-7.00857209e-01, -9.80211339e-01],\n",
       "       [ 9.52165411e-01,  1.18188500e+00],\n",
       "       [-1.05332777e+00, -1.29857271e+00],\n",
       "       [-4.40099928e-01, -1.33518864e+00],\n",
       "       [-2.24382715e-02,  1.93605662e+00],\n",
       "       [ 1.05511918e+00, -3.34446291e-01],\n",
       "       [-1.18684385e-01, -1.45879005e+00],\n",
       "       [-2.77925286e-01,  1.29615563e+00],\n",
       "       [-9.68543261e-01,  2.10410752e+00],\n",
       "       [ 1.02502356e+00,  1.65180157e-01],\n",
       "       [-1.88478794e+00,  1.66373614e+00],\n",
       "       [-1.36036069e+00,  7.40145920e-01],\n",
       "       [-5.87234264e-01,  1.63459241e+00],\n",
       "       [ 1.13009276e+00, -1.69870762e+00],\n",
       "       [ 3.18557984e-01, -4.34937684e-02],\n",
       "       [ 9.80803845e-01, -1.94267565e+00],\n",
       "       [-3.10992986e-01,  5.07264744e-01],\n",
       "       [ 1.20199159e+00,  8.88126184e-01],\n",
       "       [ 7.98841155e-01, -7.01132966e-01],\n",
       "       [-6.01380625e-01, -2.07773458e-01],\n",
       "       [-4.75588216e-01,  1.33433902e+00],\n",
       "       [-4.55785160e-01, -6.60390239e-01],\n",
       "       [-1.21438324e+00,  9.67985667e-01],\n",
       "       [ 1.99877533e-01,  1.59430049e+00],\n",
       "       [-2.12540872e-01, -2.15506329e-02],\n",
       "       [ 4.40677595e-01, -2.18020710e+00],\n",
       "       [ 6.61946605e-01,  4.00175962e-01],\n",
       "       [ 2.15494985e-01,  5.97838908e-01],\n",
       "       [ 7.62874028e-01, -1.76089893e+00],\n",
       "       [-8.99683636e-01,  1.79010436e+00],\n",
       "       [-8.06360398e-01, -3.88110277e-01],\n",
       "       [-1.95404933e+00, -7.88461299e-01],\n",
       "       [ 1.92113072e-01, -1.82208359e-01],\n",
       "       [ 1.02996931e+00, -7.78834865e-01],\n",
       "       [ 1.37201458e+00,  1.03309762e+00],\n",
       "       [ 5.23518004e-02, -3.22514195e-01],\n",
       "       [-3.42015761e-01, -1.87706474e+00],\n",
       "       [ 8.94376896e-01, -1.60716182e+00],\n",
       "       [-6.69454915e-01, -1.03476794e+00],\n",
       "       [-1.80907927e+00,  1.21530871e-01],\n",
       "       [ 1.15861259e-01,  8.21869592e-01],\n",
       "       [ 1.58504528e-01, -1.24170675e+00],\n",
       "       [ 1.40767422e+00, -3.38911537e-01],\n",
       "       [-6.18105769e-01,  9.46859659e-02],\n",
       "       [-8.70020239e-02,  1.16026734e+00],\n",
       "       [ 4.34368530e-01, -7.66183836e-01],\n",
       "       [-1.00574407e+00,  7.16046141e-01],\n",
       "       [ 1.31283703e+00, -1.12911123e+00],\n",
       "       [-8.52743394e-01,  8.87619749e-01],\n",
       "       [ 7.36343293e-01,  9.14448988e-01],\n",
       "       [-1.65306448e+00,  4.01836950e-01],\n",
       "       [ 1.84018392e-01, -1.16964906e+00],\n",
       "       [-1.28714237e+00,  2.80443393e-01],\n",
       "       [-1.53949197e+00,  1.54288545e+00],\n",
       "       [-1.27674059e+00,  3.13864568e-01],\n",
       "       [-6.66808326e-01,  3.15799053e-01],\n",
       "       [-4.50204750e-01,  1.09343617e+00],\n",
       "       [-1.48839794e+00, -7.30418623e-02],\n",
       "       [ 9.36515403e-02,  5.99841418e-01],\n",
       "       [ 8.99326178e-01,  3.24082563e-03],\n",
       "       [-8.66680398e-01, -1.51626628e-01],\n",
       "       [-1.03761858e+00,  5.73071407e-01],\n",
       "       [-8.42504134e-01, -1.42665224e+00],\n",
       "       [-5.59008030e-01, -3.36753004e-01],\n",
       "       [ 1.07774674e+00, -1.61430012e+00],\n",
       "       [-7.58925238e-01,  1.83392950e-01],\n",
       "       [-1.05793230e+00, -1.11057355e+00],\n",
       "       [ 1.66136405e+00,  5.39092423e-01],\n",
       "       [-1.18385876e+00,  5.66162756e-01],\n",
       "       [-4.01269567e-01, -1.83015385e+00],\n",
       "       [-1.56270986e+00, -1.00499189e-01],\n",
       "       [ 5.83876344e-01, -1.90799789e+00],\n",
       "       [ 2.30814920e+00,  8.32574013e-01],\n",
       "       [-2.98334527e+00, -7.23979687e-01],\n",
       "       [-3.22780486e-01,  4.06999035e-01],\n",
       "       [-3.01839624e-01, -8.75296036e-01],\n",
       "       [-1.49341279e+00,  1.50737600e+00],\n",
       "       [ 4.75205748e-01,  9.53827713e-01],\n",
       "       [ 1.51154938e+00,  1.82974396e+00],\n",
       "       [ 4.59123923e-01, -7.07085933e-01],\n",
       "       [-5.95884041e-01,  8.39227837e-01],\n",
       "       [-4.87429726e-01, -1.63563985e+00],\n",
       "       [ 1.45974334e+00,  1.45287766e+00],\n",
       "       [ 4.43212824e-01, -3.10734231e-01],\n",
       "       [-1.72286545e+00, -5.87312256e-01],\n",
       "       [-7.07556415e-01,  3.36663342e-01],\n",
       "       [-6.43027625e-02,  1.24958849e-01],\n",
       "       [ 1.66592530e+00,  9.03116122e-01],\n",
       "       [-1.03720328e-01, -1.98042345e+00],\n",
       "       [ 1.96594459e-01,  3.37208273e-01],\n",
       "       [ 1.81043852e+00,  3.40069719e-01],\n",
       "       [ 5.54723859e-01,  5.93518067e-01],\n",
       "       [ 1.06935133e+00, -2.58477625e+00],\n",
       "       [-1.49422521e+00,  5.64722802e-02],\n",
       "       [ 4.29197206e-01,  1.39202029e+00],\n",
       "       [-1.05727030e+00,  1.97421962e+00],\n",
       "       [-5.45614996e-01, -5.89619187e-01],\n",
       "       [ 5.00484181e-01,  1.02704173e+00],\n",
       "       [ 8.59740567e-01,  8.95011499e-01],\n",
       "       [ 1.18953313e+00,  2.69507945e+00],\n",
       "       [-8.27711741e-01,  1.21659954e+00],\n",
       "       [-3.81993970e-01, -1.34472740e+00],\n",
       "       [-1.47057028e+00, -9.82018822e-01],\n",
       "       [-9.41407225e-01,  2.11855649e+00],\n",
       "       [-1.30949579e-01, -3.31896323e-01],\n",
       "       [-1.44629558e+00,  3.63655080e-01],\n",
       "       [ 1.64203994e-01, -9.56767110e-02],\n",
       "       [ 1.57736428e-01, -5.29170927e-01],\n",
       "       [-7.74071096e-01,  1.11024219e+00],\n",
       "       [-8.13603132e-01, -6.58412090e-01],\n",
       "       [ 1.62572777e-01,  9.96750271e-01],\n",
       "       [-2.03035468e-01,  4.90606258e-01],\n",
       "       [-1.30658016e+00, -6.67245008e-01],\n",
       "       [-1.18795708e+00, -2.30512753e-01],\n",
       "       [-8.03318112e-01,  1.24647093e-01],\n",
       "       [-4.82524619e-01, -1.33610366e-01],\n",
       "       [-1.67185783e+00, -1.32705045e+00],\n",
       "       [-7.55883220e-01,  5.07597722e-01],\n",
       "       [ 4.47005201e-01, -8.72024138e-02],\n",
       "       [-4.27974961e-01,  1.24143398e-01],\n",
       "       [ 3.98580508e-01, -8.31842716e-02],\n",
       "       [ 1.25670735e-01, -2.02000249e-01],\n",
       "       [-4.44830705e-01, -5.02172042e-01],\n",
       "       [-1.13977375e+00,  6.25652474e-01],\n",
       "       [ 5.19095500e-01, -1.55055046e-01],\n",
       "       [ 1.22751460e+00, -1.43002494e+00],\n",
       "       [ 1.13834474e+00,  2.78560054e-01],\n",
       "       [ 1.50429594e+00,  1.74590533e-01],\n",
       "       [ 3.49965072e-01, -8.03814002e-01],\n",
       "       [-1.10227056e+00,  7.80184797e-01],\n",
       "       [ 1.75503530e+00,  8.18955118e-02],\n",
       "       [ 2.87973067e-01,  5.96500401e-02],\n",
       "       [-6.84437899e-01, -1.72572613e+00],\n",
       "       [-9.04515142e-02,  5.66789305e-01],\n",
       "       [-1.64005841e+00, -9.78922310e-01],\n",
       "       [-1.65897630e-01, -1.40417636e+00],\n",
       "       [-2.75629239e+00, -1.42189453e+00],\n",
       "       [ 1.13358525e+00, -1.26049410e+00],\n",
       "       [-2.15737288e-01,  5.66153090e-01],\n",
       "       [ 2.60302197e-01, -5.55905443e-01],\n",
       "       [-4.37667940e-01, -1.37121823e+00],\n",
       "       [ 8.56480324e-01, -1.03641436e+00],\n",
       "       [-5.02690810e-01, -3.53936440e-01],\n",
       "       [-2.81145267e+00,  5.27636264e-01],\n",
       "       [ 1.68276458e-01,  3.08028880e+00],\n",
       "       [-1.01052242e+00,  1.88943845e+00],\n",
       "       [ 1.81756582e+00, -4.76824903e-01],\n",
       "       [ 1.91387348e-01,  3.23774175e-01],\n",
       "       [ 1.71820718e+00, -1.05836323e+00],\n",
       "       [ 4.16430717e-01, -5.85519558e-01],\n",
       "       [ 9.77485537e-01, -1.64319906e-01],\n",
       "       [ 8.13318764e-01, -4.79580963e-01],\n",
       "       [-5.70061827e-01, -1.95601636e+00],\n",
       "       [ 1.36081287e-01,  1.10323407e+00],\n",
       "       [-2.32458239e-01,  4.28100179e-01],\n",
       "       [ 1.02637759e+00,  2.20878741e+00],\n",
       "       [ 4.28173830e-01, -1.19782508e+00],\n",
       "       [-1.23514229e+00, -9.39006042e-01],\n",
       "       [-3.01282340e-01,  7.10277558e-01],\n",
       "       [-1.17840029e+00,  5.70583017e-01],\n",
       "       [ 6.16063704e-01,  1.23217437e+00],\n",
       "       [-5.57806149e-01,  9.22062780e-02],\n",
       "       [-1.10697492e+00,  7.75915438e-02],\n",
       "       [ 3.47746754e-01,  1.04095334e+00],\n",
       "       [ 7.63548031e-01,  1.80574936e-01],\n",
       "       [ 5.77897766e-01,  1.42511945e+00],\n",
       "       [ 4.11304658e-01, -3.65968908e-02],\n",
       "       [ 8.09507737e-01,  8.23829216e-02],\n",
       "       [-3.40720728e-01, -1.65231481e+00],\n",
       "       [ 7.68375186e-01, -4.40771491e-01],\n",
       "       [-1.87171009e+00,  2.58600409e-01],\n",
       "       [ 3.91513365e-01, -1.42644650e+00],\n",
       "       [ 7.93840244e-01,  1.04917510e+00],\n",
       "       [ 1.91390477e-01,  5.15528574e-01],\n",
       "       [ 1.11432683e+00,  1.18190654e+00],\n",
       "       [ 1.74235223e-01, -3.71149463e-02],\n",
       "       [ 9.26280236e-01,  5.12369784e-01],\n",
       "       [ 1.57453870e+00, -2.20438177e-01],\n",
       "       [-5.14940896e-01, -4.31103209e-01],\n",
       "       [-1.40762618e-01,  1.10381620e+00],\n",
       "       [ 5.06756408e-02, -3.93974275e-01],\n",
       "       [-1.09845947e+00,  1.36483334e+00],\n",
       "       [-9.03222781e-01,  6.43011464e-01],\n",
       "       [ 1.02431739e+00, -2.51693452e-01],\n",
       "       [ 1.63327939e+00, -2.82596665e+00],\n",
       "       [-1.39555709e-01,  9.80263406e-02],\n",
       "       [ 5.98527384e-02,  8.98699832e-01],\n",
       "       [ 2.93981663e-01, -1.30236817e+00],\n",
       "       [ 1.32153846e+00,  2.23846132e+00],\n",
       "       [-1.02755150e+00, -1.21319279e+00],\n",
       "       [-4.10059026e-02,  9.21346166e-01],\n",
       "       [-1.08793784e+00, -4.86825325e-01],\n",
       "       [ 4.56553128e-01,  1.98509378e-01],\n",
       "       [ 1.12724088e+00, -3.67993327e-02],\n",
       "       [ 2.47163584e-01, -8.25393255e-01],\n",
       "       [ 1.22068453e+00,  5.29373840e-01],\n",
       "       [-1.73158309e-01, -3.71770453e-01],\n",
       "       [-2.30441747e+00, -3.69260764e-01],\n",
       "       [ 6.71790497e-01, -1.57416279e+00],\n",
       "       [-7.79661877e-01,  5.51693129e-01],\n",
       "       [-1.43131236e-01, -5.87517946e-01],\n",
       "       [-5.34582046e-01,  9.77361978e-02],\n",
       "       [-1.35197211e+00, -9.49164662e-01],\n",
       "       [ 1.57262114e-01, -1.03390893e+00],\n",
       "       [ 1.50108498e-01,  2.18103131e-01],\n",
       "       [-2.00984229e-02, -1.21753919e+00],\n",
       "       [-3.25957686e-01,  2.66488712e+00],\n",
       "       [-5.36926442e-01,  1.09094703e-01],\n",
       "       [-3.27758112e-01,  7.46950432e-01],\n",
       "       [ 6.25312791e-01,  2.02885982e-01],\n",
       "       [ 2.02742033e+00,  7.50210641e-01],\n",
       "       [-8.92222020e-01, -1.83986620e+00],\n",
       "       [-2.12431380e-01,  1.17253023e+00],\n",
       "       [ 8.73614013e-01, -1.90851656e-01],\n",
       "       [ 1.32209136e+00, -1.75244143e+00],\n",
       "       [-1.53486195e+00, -5.01912877e-01],\n",
       "       [-2.09158736e-02, -1.37170412e-01],\n",
       "       [-7.45461765e-01,  1.10366818e+00],\n",
       "       [ 1.14600680e+00,  3.33341235e-01],\n",
       "       [ 5.68501983e-02, -4.13616937e-01],\n",
       "       [ 7.86411258e-02,  2.15743945e+00],\n",
       "       [-1.25718924e+00,  1.50819781e-01],\n",
       "       [-5.61696508e-01,  1.06196947e+00],\n",
       "       [-2.09341971e-01, -1.49149858e-01],\n",
       "       [ 5.31265253e-01,  8.55420130e-01],\n",
       "       [-7.02728985e-01,  4.62700630e-01],\n",
       "       [-6.42664421e-01,  6.73504077e-01],\n",
       "       [ 4.00364739e-01, -8.69323248e-01],\n",
       "       [ 5.27351588e-01, -1.52103296e+00],\n",
       "       [-4.22866389e-01, -2.10179510e-01],\n",
       "       [-5.71958666e-01,  3.41772389e-01],\n",
       "       [ 3.26367329e-01,  3.56313888e-01],\n",
       "       [ 4.83013752e-01, -3.53207853e-02],\n",
       "       [ 1.41599483e-01, -3.59005065e-01],\n",
       "       [-6.05881302e-01, -1.03697227e+00],\n",
       "       [-2.09006345e-01, -5.35429796e-01],\n",
       "       [-6.80984183e-01, -1.12856872e+00],\n",
       "       [-2.25589028e-01, -9.92876148e-01],\n",
       "       [ 8.64067740e-01,  1.10920691e+00],\n",
       "       [ 2.19942751e-01,  1.34147135e+00],\n",
       "       [-2.66719978e-01,  1.36217939e+00],\n",
       "       [ 4.49099621e-01, -2.25803459e-01],\n",
       "       [-1.59801501e-01, -8.50030628e-01],\n",
       "       [ 7.55345192e-01,  8.28212518e-01],\n",
       "       [-1.12380996e-01,  7.64810778e-01],\n",
       "       [-5.97063413e-03,  5.23676397e-01],\n",
       "       [-2.40227442e+00, -2.21752529e+00],\n",
       "       [ 1.37800434e+00, -9.87744101e-01],\n",
       "       [-5.26974478e-01, -7.72580289e-01],\n",
       "       [-2.81584790e-01,  5.83785242e-02],\n",
       "       [-3.00989827e-01, -1.84656986e+00],\n",
       "       [-1.55859997e+00,  1.06288789e+00],\n",
       "       [-2.35443118e+00, -6.61495077e-01],\n",
       "       [-6.09686442e-01,  4.89970599e-02],\n",
       "       [ 1.88076526e-01,  7.73627191e-01],\n",
       "       [-8.02825708e-01,  6.11747073e-01],\n",
       "       [ 1.11111020e+00, -4.24144106e-01],\n",
       "       [ 1.01966387e+00,  2.11951974e+00],\n",
       "       [-1.82622722e+00,  1.38921934e+00],\n",
       "       [ 1.64122947e+00,  1.67069569e-01],\n",
       "       [ 5.35378594e-01, -1.03475042e+00],\n",
       "       [ 2.05824947e+00, -1.58075962e+00],\n",
       "       [-1.67217194e+00, -1.08500989e+00],\n",
       "       [-1.54580991e+00,  1.05032742e-01],\n",
       "       [-4.76926392e-01, -8.49684293e-01],\n",
       "       [-1.62318496e+00, -8.45895306e-01],\n",
       "       [-3.93270244e-01, -3.36927599e-01],\n",
       "       [-2.26744297e-01, -4.45708022e-01],\n",
       "       [ 8.90957254e-01,  8.77963416e-01],\n",
       "       [ 1.05459315e+00, -2.10631904e+00],\n",
       "       [-7.44204875e-01,  4.43511379e-01],\n",
       "       [-1.32251476e-01, -1.07935735e+00],\n",
       "       [-1.78797008e+00,  8.44396583e-01],\n",
       "       [ 5.66909993e-01,  1.57301564e+00],\n",
       "       [ 4.16494051e-01, -2.01527780e+00],\n",
       "       [ 8.18319320e-01,  2.35092880e+00],\n",
       "       [ 1.35959910e+00,  6.57693229e-01],\n",
       "       [ 9.90685654e-02,  5.32321544e-01],\n",
       "       [-1.63827715e+00,  1.62228401e+00],\n",
       "       [ 1.55568618e+00, -1.39599220e+00],\n",
       "       [ 7.75037836e-01,  8.29107493e-02],\n",
       "       [ 1.78279233e-01, -9.43877134e-01],\n",
       "       [ 2.19643479e-01, -2.19961049e+00],\n",
       "       [ 1.19312487e+00,  2.43800922e-01],\n",
       "       [ 1.71351108e+00, -1.27672764e+00],\n",
       "       [ 7.84250074e-02,  1.93619790e-01],\n",
       "       [-1.43844649e+00,  1.17437036e+00],\n",
       "       [ 1.93977761e+00, -1.37807951e+00],\n",
       "       [-6.50849212e-01,  6.80949052e-01],\n",
       "       [-1.44143941e+00,  3.32415148e-01],\n",
       "       [-4.22429567e-01, -5.60480248e-01],\n",
       "       [ 2.58473073e-01,  2.09102733e+00],\n",
       "       [-8.44238095e-01, -3.53057125e-01],\n",
       "       [-7.08156601e-01,  3.26750762e-02],\n",
       "       [ 2.23102638e-01, -2.81252621e-01],\n",
       "       [-4.53813593e-01, -1.37517384e-01],\n",
       "       [-3.03176191e-01, -8.01282996e-01],\n",
       "       [-1.95456004e+00, -4.65478920e-01],\n",
       "       [-1.08234705e+00,  6.41628831e-01],\n",
       "       [-9.29632694e-01,  7.39065911e-01],\n",
       "       [-1.19660758e-01, -8.34719310e-01],\n",
       "       [ 8.90684660e-01, -9.50491912e-01],\n",
       "       [ 7.24985177e-01,  3.83486748e-01],\n",
       "       [ 4.26407058e-01,  1.24878401e+00],\n",
       "       [ 3.10941744e-02,  2.27674968e+00],\n",
       "       [ 5.47731058e-01, -1.46486992e-01],\n",
       "       [ 5.16862701e-01, -1.41966473e-01],\n",
       "       [ 3.52871512e-01, -1.84680290e+00],\n",
       "       [ 1.10761890e+00, -7.65923480e-01],\n",
       "       [-1.00842665e+00,  1.88276995e+00],\n",
       "       [-1.89072954e+00,  8.68462371e-01],\n",
       "       [-2.63131435e-01,  1.94470796e+00],\n",
       "       [-1.74604795e-01,  1.08323051e+00],\n",
       "       [ 1.91471115e+00, -5.91445361e-02],\n",
       "       [-8.41762885e-01, -8.40465606e-01],\n",
       "       [-1.79504934e-01,  6.85857537e-01],\n",
       "       [ 4.20814358e-01,  2.37370648e-01],\n",
       "       [ 1.66804416e+00, -2.01289456e+00],\n",
       "       [-9.66969085e-01,  7.60150731e-01],\n",
       "       [ 9.16787181e-04, -4.09257979e-01],\n",
       "       [-9.08309709e-01,  2.16982516e-01],\n",
       "       [-1.30947067e-01,  1.13378075e+00],\n",
       "       [-1.36427118e+00,  1.49477109e+00],\n",
       "       [ 2.58554616e-01, -9.13168279e-01],\n",
       "       [-2.28499289e+00, -1.14706504e-01],\n",
       "       [ 1.15424186e-01, -2.15082982e+00],\n",
       "       [-6.06541025e-01,  8.79585168e-01],\n",
       "       [ 9.67223063e-02,  6.93216910e-01],\n",
       "       [ 7.26956136e-02, -5.04981381e-01],\n",
       "       [ 1.66370479e+00, -1.03089778e+00]])"
      ]
     },
     "execution_count": 4,
     "metadata": {},
     "output_type": "execute_result"
    }
   ],
   "source": [
    "data"
   ]
  },
  {
   "cell_type": "code",
   "execution_count": 5,
   "metadata": {
    "collapsed": true
   },
   "outputs": [
    {
     "data": {
      "text/plain": [
       "array([0, 0, 0, 0, 0, 0, 0, 0, 0, 0, 0, 0, 0, 0, 0, 0, 0, 0, 0, 0, 0, 0,\n",
       "       0, 0, 0, 0, 0, 0, 0, 0, 0, 0, 0, 0, 0, 0, 0, 0, 0, 0, 0, 0, 0, 0,\n",
       "       0, 0, 0, 0, 0, 0, 0, 0, 0, 0, 0, 0, 0, 0, 0, 0, 0, 0, 0, 0, 0, 0,\n",
       "       0, 0, 0, 0, 0, 0, 0, 0, 0, 0, 0, 0, 0, 0, 0, 0, 0, 0, 0, 0, 0, 0,\n",
       "       0, 0, 0, 0, 0, 0, 0, 0, 0, 0, 0, 0, 0, 0, 0, 0, 0, 0, 0, 0, 0, 0,\n",
       "       0, 0, 0, 0, 0, 0, 0, 0, 0, 0, 0, 0, 0, 0, 0, 0, 0, 0, 0, 0, 0, 0,\n",
       "       0, 0, 0, 0, 0, 0, 0, 0, 0, 0, 0, 0, 0, 0, 0, 0, 0, 0, 0, 0, 0, 0,\n",
       "       0, 0, 0, 0, 0, 0, 0, 0, 0, 0, 0, 0, 0, 0, 0, 0, 0, 0, 0, 0, 0, 0,\n",
       "       0, 0, 0, 0, 0, 0, 0, 0, 0, 0, 0, 0, 0, 0, 0, 0, 0, 0, 0, 0, 0, 0,\n",
       "       0, 0, 0, 0, 0, 0, 0, 0, 0, 0, 0, 0, 0, 0, 0, 0, 0, 0, 0, 0, 0, 0,\n",
       "       0, 0, 0, 0, 0, 0, 0, 0, 0, 0, 0, 0, 0, 0, 0, 0, 0, 0, 0, 0, 0, 0,\n",
       "       0, 0, 0, 0, 0, 0, 0, 0, 0, 0, 0, 0, 0, 0, 0, 0, 0, 0, 0, 0, 0, 0,\n",
       "       0, 0, 0, 0, 0, 0, 0, 0, 0, 0, 0, 0, 0, 0, 0, 0, 0, 0, 0, 0, 0, 0,\n",
       "       0, 0, 0, 0, 0, 0, 0, 0, 0, 0, 0, 0, 0, 0, 0, 0, 0, 0, 0, 0, 0, 0,\n",
       "       0, 0, 0, 0, 0, 0, 0, 0, 0, 0, 0, 0, 0, 0, 0, 0, 0, 0, 0, 0, 0, 0,\n",
       "       0, 0, 0, 0, 0, 0, 0, 0, 0, 0, 0, 0, 0, 0, 0, 0, 0, 0, 0, 0, 0, 0,\n",
       "       0, 0, 0, 0, 0, 0, 0, 0, 0, 0, 0, 0, 0, 0, 0, 0, 0, 0, 0, 0, 0, 0,\n",
       "       0, 0, 0, 0, 0, 0, 0, 0, 0, 0, 0, 0, 0, 0, 0, 0, 0, 0, 0, 0, 0, 0,\n",
       "       0, 0, 0, 0, 0, 0, 0, 0, 0, 0, 0, 0, 0, 0, 0, 0, 0, 0, 0, 0, 0, 0,\n",
       "       0, 0, 0, 0, 0, 0, 0, 0, 0, 0, 0, 0, 0, 0, 0, 0, 0, 0, 0, 0, 0, 0,\n",
       "       0, 0, 0, 0, 0, 0, 0, 0, 0, 0, 0, 0, 0, 0, 0, 0, 0, 0, 0, 0, 0, 0,\n",
       "       0, 0, 0, 0, 0, 0, 0, 0, 0, 0, 0, 0, 0, 0, 0, 0, 0, 0, 0, 0, 0, 0,\n",
       "       0, 0, 0, 0, 0, 0, 0, 0, 0, 0, 0, 0, 0, 0, 0, 0])"
      ]
     },
     "execution_count": 5,
     "metadata": {},
     "output_type": "execute_result"
    }
   ],
   "source": [
    "label"
   ]
  },
  {
   "cell_type": "code",
   "execution_count": 8,
   "metadata": {},
   "outputs": [
    {
     "data": {
      "text/plain": [
       "(-11.0, 11.0, -11.0, 11.0)"
      ]
     },
     "execution_count": 8,
     "metadata": {},
     "output_type": "execute_result"
    },
    {
     "data": {
      "image/png": "[encoded data removed]",
      "text/plain": [
       "<Figure size 432x288 with 1 Axes>"
      ]
     },
     "metadata": {
      "needs_background": "light"
     },
     "output_type": "display_data"
    }
   ],
   "source": [
    "plt.hlines([0],-10,10,linestyles='dotted')\n",
    "plt.vlines([0],-10,10,linestyles='dotted')\n",
    "plt.scatter(data[:,0], data[:,1], alpha=0.3)\n",
    "plt.axis('scaled')"
   ]
  },
  {
   "cell_type": "code",
   "execution_count": 9,
   "metadata": {},
   "outputs": [
    {
     "data": {
      "text/plain": [
       "(-11.0, 11.0, -11.0, 11.0)"
      ]
     },
     "execution_count": 9,
     "metadata": {},
     "output_type": "execute_result"
    },
    {
     "data": {
      "image/png": "[encoded data removed]",
      "text/plain": [
       "<Figure size 432x288 with 1 Axes>"
      ]
     },
     "metadata": {
      "needs_background": "light"
     },
     "output_type": "display_data"
    }
   ],
   "source": [
    "data = data * [3,1]\n",
    "\n",
    "plt.hlines([0],-10,10,linestyles='dotted')\n",
    "plt.vlines([0],-10,10,linestyles='dotted')\n",
    "plt.scatter(data[:,0], data[:,1], alpha=0.3)\n",
    "plt.axis('scaled')"
   ]
  },
  {
   "cell_type": "markdown",
   "metadata": {},
   "source": [
    "### np.random.randn() 사용"
   ]
  },
  {
   "cell_type": "code",
   "execution_count": 18,
   "metadata": {},
   "outputs": [
    {
     "data": {
      "text/plain": [
       "(-11.0, 11.0, -12.55611296637796, 11.924020453661175)"
      ]
     },
     "execution_count": 18,
     "metadata": {},
     "output_type": "execute_result"
    },
    {
     "data": {
      "image/png": "[encoded data removed]",
      "text/plain": [
       "<matplotlib.figure.Figure at 0x2318c3f92e8>"
      ]
     },
     "metadata": {},
     "output_type": "display_data"
    }
   ],
   "source": [
    "X = np.random.randn(500) * 3\n",
    "y = 1*X + np.random.randn(500)\n",
    "\n",
    "plt.hlines([0],-10,10,linestyles='dotted')\n",
    "plt.vlines([0],-10,10,linestyles='dotted')\n",
    "plt.scatter(X, y, alpha=0.3)\n",
    "plt.axis('scaled')"
   ]
  },
  {
   "cell_type": "code",
   "execution_count": 39,
   "metadata": {},
   "outputs": [
    {
     "data": {
      "text/plain": [
       "(-11.737921593754521,\n",
       " 26.49635346884496,\n",
       " -11.479097706493338,\n",
       " 21.061051836360086)"
      ]
     },
     "execution_count": 39,
     "metadata": {},
     "output_type": "execute_result"
    },
    {
     "data": {
      "image/png": "[encoded data removed]",
      "text/plain": [
       "<matplotlib.figure.Figure at 0x2318ad0e5f8>"
      ]
     },
     "metadata": {},
     "output_type": "display_data"
    }
   ],
   "source": [
    "X = X + 5\n",
    "y = y + 5\n",
    "\n",
    "plt.hlines([0],-10,10,linestyles='dotted')\n",
    "plt.vlines([0],-10,10,linestyles='dotted')\n",
    "plt.scatter(X, y, alpha=0.3)\n",
    "plt.axis('scaled')"
   ]
  },
  {
   "cell_type": "code",
   "execution_count": 8,
   "metadata": {},
   "outputs": [
    {
     "data": {
      "text/plain": [
       "<matplotlib.legend.Legend at 0x1fa5a8c5400>"
      ]
     },
     "execution_count": 8,
     "metadata": {},
     "output_type": "execute_result"
    },
    {
     "data": {
      "image/png": "[encoded data removed]",
      "text/plain": [
       "<Figure size 432x288 with 1 Axes>"
      ]
     },
     "metadata": {
      "needs_background": "light"
     },
     "output_type": "display_data"
    }
   ],
   "source": [
    "plt.hlines([0],-10,10,linestyles='dotted')\n",
    "plt.vlines([0],-10,10,linestyles='dotted')\n",
    "plt.scatter(X, y, alpha=0.3, label='samples')\n",
    "plt.axis('scaled')\n",
    "\n",
    "plt.plot([-10,10],[-10,10], 'r--', label='predict line')\n",
    "plt.legend()"
   ]
  },
  {
   "cell_type": "code",
   "execution_count": 9,
   "metadata": {
    "collapsed": true
   },
   "outputs": [
    {
     "data": {
      "text/plain": [
       "(500,)"
      ]
     },
     "metadata": {},
     "output_type": "display_data"
    },
    {
     "data": {
      "text/plain": [
       "(500,)"
      ]
     },
     "metadata": {},
     "output_type": "display_data"
    },
    {
     "data": {
      "text/plain": [
       "array([ 4.41422992,  5.86641576,  3.28203739, -2.46325435,  1.49463758])"
      ]
     },
     "metadata": {},
     "output_type": "display_data"
    },
    {
     "data": {
      "text/plain": [
       "array([ 3.02344866,  5.96882205,  3.67122683, -1.83331176,  1.15069205])"
      ]
     },
     "metadata": {},
     "output_type": "display_data"
    }
   ],
   "source": [
    "display(X.shape, y.shape)\n",
    "display(X[:5], y[:5])"
   ]
  },
  {
   "cell_type": "markdown",
   "metadata": {},
   "source": [
    "- 기울기가 2인 예측에 대한 오차값(비용함수)를 구하시오\n",
    "> 오차는 MSE 를 사용한다"
   ]
  },
  {
   "cell_type": "code",
   "execution_count": 40,
   "metadata": {},
   "outputs": [],
   "source": [
    "X = np.random.randn(500) * 3 + 5\n",
    "y = 1*X + np.random.randn(500)"
   ]
  },
  {
   "cell_type": "code",
   "execution_count": 41,
   "metadata": {},
   "outputs": [
    {
     "data": {
      "text/plain": [
       "<matplotlib.collections.PathCollection at 0x2318c28f208>"
      ]
     },
     "execution_count": 41,
     "metadata": {},
     "output_type": "execute_result"
    },
    {
     "data": {
      "image/png": "[encoded data removed]",
      "text/plain": [
       "<matplotlib.figure.Figure at 0x2318c249940>"
      ]
     },
     "metadata": {},
     "output_type": "display_data"
    }
   ],
   "source": [
    "plt.scatter(X,y)"
   ]
  },
  {
   "cell_type": "code",
   "execution_count": 35,
   "metadata": {},
   "outputs": [
    {
     "data": {
      "text/plain": [
       "38.69375974842714"
      ]
     },
     "execution_count": 35,
     "metadata": {},
     "output_type": "execute_result"
    }
   ],
   "source": [
    "pred_y = 2*X\n",
    "cost = ((y - pred_y)**2).sum()/len(y)\n",
    "cost"
   ]
  },
  {
   "cell_type": "code",
   "execution_count": 37,
   "metadata": {},
   "outputs": [
    {
     "data": {
      "text/plain": [
       "37.75952467739759"
      ]
     },
     "execution_count": 37,
     "metadata": {},
     "output_type": "execute_result"
    }
   ],
   "source": [
    "pred_y = 0*X\n",
    "cost = ((y - pred_y)**2).sum()/len(y)\n",
    "cost"
   ]
  },
  {
   "cell_type": "code",
   "execution_count": 42,
   "metadata": {},
   "outputs": [
    {
     "data": {
      "text/plain": [
       "135.6706111969366"
      ]
     },
     "execution_count": 42,
     "metadata": {},
     "output_type": "execute_result"
    }
   ],
   "source": [
    "pred_y = 3*X\n",
    "cost = ((y - pred_y)**2).sum()/len(y)\n",
    "cost"
   ]
  },
  {
   "cell_type": "code",
   "execution_count": 43,
   "metadata": {},
   "outputs": [
    {
     "data": {
      "text/plain": [
       "134.9929562378436"
      ]
     },
     "execution_count": 43,
     "metadata": {},
     "output_type": "execute_result"
    }
   ],
   "source": [
    "pred_y = -1*X\n",
    "cost = ((y - pred_y)**2).sum()/len(y)\n",
    "cost"
   ]
  },
  {
   "cell_type": "code",
   "execution_count": 44,
   "metadata": {},
   "outputs": [
    {
     "data": {
      "text/plain": [
       "1.0947260954982982"
      ]
     },
     "execution_count": 44,
     "metadata": {},
     "output_type": "execute_result"
    }
   ],
   "source": [
    "pred_y = 1*X\n",
    "cost = ((y - pred_y)**2).sum()/len(y)\n",
    "cost"
   ]
  },
  {
   "cell_type": "code",
   "execution_count": 45,
   "metadata": {},
   "outputs": [
    {
     "data": {
      "text/plain": [
       "1.4472601135303536"
      ]
     },
     "execution_count": 45,
     "metadata": {},
     "output_type": "execute_result"
    }
   ],
   "source": [
    "pred_y = 1.1*X\n",
    "cost = ((y - pred_y)**2).sum()/len(y)\n",
    "cost"
   ]
  },
  {
   "cell_type": "code",
   "execution_count": 46,
   "metadata": {},
   "outputs": [
    {
     "data": {
      "text/plain": [
       "1.413377365575703"
      ]
     },
     "execution_count": 46,
     "metadata": {},
     "output_type": "execute_result"
    }
   ],
   "source": [
    "pred_y = 0.9*X\n",
    "cost = ((y - pred_y)**2).sum()/len(y)\n",
    "cost"
   ]
  },
  {
   "cell_type": "code",
   "execution_count": null,
   "metadata": {},
   "outputs": [],
   "source": []
  },
  {
   "cell_type": "code",
   "execution_count": 50,
   "metadata": {},
   "outputs": [
    {
     "data": {
      "text/plain": [
       "1.0"
      ]
     },
     "metadata": {},
     "output_type": "display_data"
    },
    {
     "data": {
      "text/plain": [
       "1.0947260954982982"
      ]
     },
     "metadata": {},
     "output_type": "display_data"
    }
   ],
   "source": [
    "ws = np.arange(0, 2.001, 0.1) # 기울기 범위\n",
    "#ws = np.linspace(0.997, 1, 10001)\n",
    "costs = []\n",
    "min_cost = np.inf\n",
    "min_w = None\n",
    "\n",
    "for w in ws:\n",
    "    pred_y = X * w\n",
    "    cost = ((pred_y - y)**2).sum() / len(y)\n",
    "    costs.append(cost)\n",
    "    \n",
    "    if cost<min_cost :\n",
    "        min_cost = cost\n",
    "        min_w = w\n",
    "        \n",
    "display(min_w, min_cost)"
   ]
  },
  {
   "cell_type": "code",
   "execution_count": 51,
   "metadata": {
    "collapsed": true
   },
   "outputs": [
    {
     "data": {
      "text/plain": [
       "[34.484576761198,\n",
       " 28.125257898135462,\n",
       " 22.437124323182385,\n",
       " 17.420176036338766,\n",
       " 13.074413037604609,\n",
       " 9.399835326979911,\n",
       " 6.396442904464668,\n",
       " 4.064235770058888,\n",
       " 2.403213923762566,\n",
       " 1.413377365575703,\n",
       " 1.0947260954982982,\n",
       " 1.4472601135303536,\n",
       " 2.4709794196718686,\n",
       " 4.16588401392284,\n",
       " 6.531973896283273,\n",
       " 9.56924906675316,\n",
       " 13.277709525332513,\n",
       " 17.657355272021327,\n",
       " 22.708186306819588,\n",
       " 28.43020262972732,\n",
       " 34.823404240744495]"
      ]
     },
     "execution_count": 51,
     "metadata": {},
     "output_type": "execute_result"
    }
   ],
   "source": [
    "costs"
   ]
  },
  {
   "cell_type": "code",
   "execution_count": 13,
   "metadata": {
    "scrolled": true
   },
   "outputs": [
    {
     "data": {
      "text/plain": [
       "Text(0.5,1,'Cost Function')"
      ]
     },
     "execution_count": 13,
     "metadata": {},
     "output_type": "execute_result"
    },
    {
     "data": {
      "image/png": "[encoded data removed]",
      "text/plain": [
       "<Figure size 432x288 with 1 Axes>"
      ]
     },
     "metadata": {
      "needs_background": "light"
     },
     "output_type": "display_data"
    }
   ],
   "source": [
    "plt.plot(ws, costs, 'o-')\n",
    "plt.xticks(ws, rotation=90)\n",
    "plt.xlabel('w', fontsize=20)\n",
    "plt.ylabel('cost', fontsize=20)\n",
    "plt.title('Cost Function', fontsize=20)"
   ]
  },
  {
   "cell_type": "markdown",
   "metadata": {},
   "source": [
    "### 비용함수(cost)는 기울기(w) 에 대한 이차다항식\n",
    "\n",
    "$$ \\hat{y_i} = w \\cdot x_i $$\n",
    "$$ cost = \\frac{1}{N} \\sum_{i=0}^{N-1} (\\hat{y_i} - y_i)^2 $$\n",
    "$$ = \\frac{1}{N} \\sum_{i=0}^{N-1} (w \\cdot x_i - y_i)^2 $$\n",
    "$$ = (\\frac{1}{N} \\sum_{i=0}^{N-1} x_i^2) \\cdot w^2 -\n",
    "(\\frac{2}{N} \\sum_{i=0}^{N-1} x_i \\cdot y_i) \\cdot w +\n",
    "(\\frac{1}{N} \\sum_{i=0}^{N-1} y_i^2) $$"
   ]
  },
  {
   "cell_type": "code",
   "execution_count": 53,
   "metadata": {},
   "outputs": [
    {
     "data": {
      "text/plain": [
       "33.559264405472945"
      ]
     },
     "execution_count": 53,
     "metadata": {},
     "output_type": "execute_result"
    }
   ],
   "source": [
    "(X**2).mean()"
   ]
  },
  {
   "cell_type": "code",
   "execution_count": 54,
   "metadata": {},
   "outputs": [
    {
     "data": {
      "text/plain": [
       "-66.94911507117266"
      ]
     },
     "execution_count": 54,
     "metadata": {},
     "output_type": "execute_result"
    }
   ],
   "source": [
    "(X*y).mean()*(-2)"
   ]
  },
  {
   "cell_type": "code",
   "execution_count": 55,
   "metadata": {},
   "outputs": [
    {
     "data": {
      "text/plain": [
       "34.484576761198"
      ]
     },
     "execution_count": 55,
     "metadata": {},
     "output_type": "execute_result"
    }
   ],
   "source": [
    "(y**2).mean()"
   ]
  },
  {
   "cell_type": "code",
   "execution_count": 56,
   "metadata": {},
   "outputs": [
    {
     "data": {
      "text/plain": [
       "0.9974759020679607"
      ]
     },
     "execution_count": 56,
     "metadata": {},
     "output_type": "execute_result"
    }
   ],
   "source": [
    "-0.5* (X*y).mean()*(-2) / ((X**2).mean())"
   ]
  },
  {
   "cell_type": "markdown",
   "metadata": {},
   "source": [
    "### 연습문제\n",
    "- 아래 3점에 근사하는 원점을 지나는 직선의 기울기를 찾으시오"
   ]
  },
  {
   "cell_type": "code",
   "execution_count": null,
   "metadata": {},
   "outputs": [],
   "source": [
    "p1 = [1, 1]\n",
    "p2 = [5, 2]\n",
    "p3 = [4, 3]"
   ]
  },
  {
   "cell_type": "code",
   "execution_count": null,
   "metadata": {},
   "outputs": [],
   "source": []
  },
  {
   "cell_type": "code",
   "execution_count": null,
   "metadata": {},
   "outputs": [],
   "source": []
  }
 ],
 "metadata": {
  "kernelspec": {
   "display_name": "Python 3 (ipykernel)",
   "language": "python",
   "name": "python3"
  },
  "language_info": {
   "codemirror_mode": {
    "name": "ipython",
    "version": 3
   },
   "file_extension": ".py",
   "mimetype": "text/x-python",
   "name": "python",
   "nbconvert_exporter": "python",
   "pygments_lexer": "ipython3",
   "version": "3.9.12"
  },
  "latex_envs": {
   "LaTeX_envs_menu_present": true,
   "autoclose": false,
   "autocomplete": true,
   "bibliofile": "biblio.bib",
   "cite_by": "apalike",
   "current_citInitial": 1,
   "eqLabelWithNumbers": true,
   "eqNumInitial": 1,
   "hotkeys": {
    "equation": "Ctrl-E",
    "itemize": "Ctrl-I"
   },
   "labels_anchors": false,
   "latex_user_defs": false,
   "report_style_numbering": false,
   "user_envs_cfg": false
  },
  "nbTranslate": {
   "displayLangs": [
    "*"
   ],
   "hotkey": "",
   "langInMainMenu": true,
   "sourceLang": "en",
   "targetLang": "fr",
   "useGoogleTranslate": true
  },
  "toc": {
   "base_numbering": 1,
   "nav_menu": {},
   "number_sections": true,
   "sideBar": true,
   "skip_h1_title": false,
   "title_cell": "Table of Contents",
   "title_sidebar": "Contents",
   "toc_cell": false,
   "toc_position": {},
   "toc_section_display": true,
   "toc_window_display": false
  },
  "varInspector": {
   "cols": {
    "lenName": 16,
    "lenType": 16,
    "lenVar": 40
   },
   "kernels_config": {
    "python": {
     "delete_cmd_postfix": "",
     "delete_cmd_prefix": "del ",
     "library": "var_list.py",
     "varRefreshCmd": "print(var_dic_list())"
    },
    "r": {
     "delete_cmd_postfix": ") ",
     "delete_cmd_prefix": "rm(",
     "library": "var_list.r",
     "varRefreshCmd": "cat(var_dic_list()) "
    }
   },
   "types_to_exclude": [
    "module",
    "function",
    "builtin_function_or_method",
    "instance",
    "_Feature"
   ],
   "window_display": false
  }
 },
 "nbformat": 4,
 "nbformat_minor": 1
}

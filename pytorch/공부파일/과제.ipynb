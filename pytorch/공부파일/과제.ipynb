{
 "cells": [
  {
   "cell_type": "code",
   "execution_count": 4,
   "id": "4f7b60b3-2cd0-49cc-9828-6885f8ae9b52",
   "metadata": {},
   "outputs": [],
   "source": [
    "import numpy as np\n",
    "import pandas as pd\n",
    "import torch\n",
    "import torch\n",
    "import torch.nn as nn\n",
    "import torch.nn.functional as F\n",
    "import torch.optim as optim\n",
    "from torch.utils.data import dataset\n"
   ]
  },
  {
   "cell_type": "code",
   "execution_count": 5,
   "id": "c523d4b5-7caa-4068-a788-525b0a99e8d1",
   "metadata": {},
   "outputs": [],
   "source": [
    "\n",
    "xy = pd.read_csv('./gpascore.csv')\n",
    "xy = xy.dropna() # 헝성  na값 확인 "
   ]
  },
  {
   "cell_type": "code",
   "execution_count": 6,
   "id": "efe406e7-fd32-4553-91d5-d9a25f3e6ef4",
   "metadata": {},
   "outputs": [],
   "source": [
    "xy_torch = torch.FloatTensor(xy.values)\n",
    "y_train = xy_torch[:,[0]]\n",
    "x_train = xy_torch[:,1:]"
   ]
  },
  {
   "cell_type": "code",
   "execution_count": 7,
   "id": "778b0b63-6673-4e47-8a74-e02ebc698c5f",
   "metadata": {},
   "outputs": [],
   "source": [
    "W = torch.zeros((3, 1), requires_grad=True)\n",
    "b = torch.zeros(1, requires_grad=True)"
   ]
  },
  {
   "cell_type": "code",
   "execution_count": null,
   "id": "63a3fdae-0d7b-487f-917b-374ed75196e0",
   "metadata": {},
   "outputs": [],
   "source": []
  },
  {
   "cell_type": "code",
   "execution_count": 8,
   "id": "7706cabb-7df4-46f6-967a-a1110b68ce86",
   "metadata": {},
   "outputs": [
    {
     "name": "stdout",
     "output_type": "stream",
     "text": [
      "Epoch    0/1000 Cost: 0.693147\n",
      "Epoch 1000/1000 Cost: 0.693131\n"
     ]
    }
   ],
   "source": [
    "# 모델 초기화\n",
    "W = torch.zeros((3, 1), requires_grad=True)\n",
    "b = torch.zeros(1, requires_grad=True)\n",
    "# optimizer 설정\n",
    "optimizer = optim.SGD([W, b], lr=1e-10)\n",
    "nb_epochs = 1000\n",
    "for epoch in range(nb_epochs + 1):\n",
    "    # Cost 계산\n",
    "    hypothesis = torch.sigmoid(x_train.matmul(W) + b) # or .mm or @\n",
    "    cost = F.binary_cross_entropy(hypothesis,y_train) # 같다 ! / \n",
    "    # cost로 H(x) 개선\n",
    "    optimizer.zero_grad()\n",
    "    cost.backward() # 미분 \n",
    "    optimizer.step()\n",
    "    # 100번마다 로그 출력\n",
    "    if epoch % 1000 == 0:\n",
    "        print('Epoch {:4d}/{} Cost: {:.6f}'.format(\n",
    "            epoch, nb_epochs, cost.item()\n",
    "        ))"
   ]
  },
  {
   "cell_type": "code",
   "execution_count": 9,
   "id": "55c7fbb6-bfe3-46ad-8eaa-74c1aaa919e1",
   "metadata": {},
   "outputs": [
    {
     "name": "stdout",
     "output_type": "stream",
     "text": [
      "tensor([[True],\n",
      "        [True],\n",
      "        [True],\n",
      "        [True],\n",
      "        [True]])\n"
     ]
    }
   ],
   "source": [
    "\n",
    "prediction = hypothesis >= torch.FloatTensor([0.5])\n",
    "\n",
    "print(prediction[:5])\n"
   ]
  },
  {
   "cell_type": "code",
   "execution_count": null,
   "id": "fa54b3e2-3dee-48c3-a18b-776b867f732d",
   "metadata": {},
   "outputs": [],
   "source": []
  },
  {
   "cell_type": "code",
   "execution_count": null,
   "id": "7df2e849-459f-430e-8d37-0079ca4075c9",
   "metadata": {},
   "outputs": [],
   "source": []
  },
  {
   "cell_type": "code",
   "execution_count": null,
   "id": "70a40601-73c2-479f-a7f5-3e45dc061c1f",
   "metadata": {},
   "outputs": [],
   "source": []
  }
 ],
 "metadata": {
  "kernelspec": {
   "display_name": "Python 3 (ipykernel)",
   "language": "python",
   "name": "python3"
  },
  "language_info": {
   "codemirror_mode": {
    "name": "ipython",
    "version": 3
   },
   "file_extension": ".py",
   "mimetype": "text/x-python",
   "name": "python",
   "nbconvert_exporter": "python",
   "pygments_lexer": "ipython3",
   "version": "3.9.12"
  }
 },
 "nbformat": 4,
 "nbformat_minor": 5
}

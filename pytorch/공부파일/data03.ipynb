{
 "cells": [
  {
   "cell_type": "code",
   "execution_count": 14,
   "id": "edd0f5f1-6a55-4ff6-a0f4-3c885b7a476d",
   "metadata": {},
   "outputs": [],
   "source": [
    "import numpy as np\n",
    "import torch\n",
    "import torch\n",
    "import torch.nn as nn\n",
    "import torch.nn.functional as F\n",
    "import torch.optim as optim\n",
    "from torch.utils.data import dataset\n"
   ]
  },
  {
   "cell_type": "code",
   "execution_count": 2,
   "id": "67fe9b64-4e50-45a5-8b06-1c5b06b900af",
   "metadata": {},
   "outputs": [],
   "source": [
    "xy = np.loadtxt('./data-03-diabetes.csv',delimiter=',', dtype = np.float32)"
   ]
  },
  {
   "cell_type": "code",
   "execution_count": 3,
   "id": "1f91c383-37d6-4afb-90e6-14c347ebe01c",
   "metadata": {},
   "outputs": [
    {
     "name": "stdout",
     "output_type": "stream",
     "text": [
      "[[-0.294118   0.487437   0.180328  ... -0.53117   -0.0333333  0.       ]\n",
      " [-0.882353  -0.145729   0.0819672 ... -0.766866  -0.666667   1.       ]\n",
      " [-0.0588235  0.839196   0.0491803 ... -0.492741  -0.633333   0.       ]\n",
      " ...\n",
      " [-0.411765   0.21608    0.180328  ... -0.857387  -0.7        1.       ]\n",
      " [-0.882353   0.266332  -0.0163934 ... -0.768574  -0.133333   0.       ]\n",
      " [-0.882353  -0.0653266  0.147541  ... -0.797609  -0.933333   1.       ]]\n"
     ]
    }
   ],
   "source": [
    "print(xy)"
   ]
  },
  {
   "cell_type": "code",
   "execution_count": 26,
   "id": "2cc6e09a-f92c-49d5-b02c-ace94383e205",
   "metadata": {},
   "outputs": [],
   "source": [
    "x_data = xy[:,:-1] # 행렬\n",
    "\n",
    "y_data = xy[:,[-1]]\n",
    "\n",
    "\n",
    "x_train = torch.FloatTensor(x_data)\n",
    "y_train = torch.FloatTensor(y_data)\n"
   ]
  },
  {
   "cell_type": "code",
   "execution_count": 15,
   "id": "fbbe78d9-2b1b-4db9-ae3b-96d24b7e8a8b",
   "metadata": {},
   "outputs": [
    {
     "name": "stdout",
     "output_type": "stream",
     "text": [
      "Epoch    0/100 Cost: 0.693147\n",
      "Epoch   10/100 Cost: 0.572727\n",
      "Epoch   20/100 Cost: 0.539493\n",
      "Epoch   30/100 Cost: 0.519708\n",
      "Epoch   40/100 Cost: 0.507066\n",
      "Epoch   50/100 Cost: 0.498539\n",
      "Epoch   60/100 Cost: 0.492549\n",
      "Epoch   70/100 Cost: 0.488209\n",
      "Epoch   80/100 Cost: 0.484985\n",
      "Epoch   90/100 Cost: 0.482543\n",
      "Epoch  100/100 Cost: 0.480661\n"
     ]
    }
   ],
   "source": [
    "\n",
    "# 모델 초기화\n",
    "W = torch.zeros((8, 1), requires_grad=True)\n",
    "b = torch.zeros(1, requires_grad=True)\n",
    "# optimizer 설정\n",
    "optimizer = optim.SGD([W, b], lr=1)\n",
    "nb_epochs = 100\n",
    "for epoch in range(nb_epochs + 1):\n",
    "    # Cost 계산\n",
    "    hypothesis = torch.sigmoid(x_train.matmul(W) + b) # or .mm or @\n",
    "    cost = F.binary_cross_entropy(hypothesis,y_train) # 같다 ! / \n",
    "    # cost로 H(x) 개선\n",
    "    optimizer.zero_grad()\n",
    "    cost.backward() # 미분 \n",
    "    optimizer.step()\n",
    "    # 100번마다 로그 출력\n",
    "    if epoch % 10 == 0:\n",
    "        print('Epoch {:4d}/{} Cost: {:.6f}'.format(\n",
    "            epoch, nb_epochs, cost.item()\n",
    "        ))"
   ]
  },
  {
   "cell_type": "code",
   "execution_count": null,
   "id": "cf6b58d7-0393-4447-873e-6f3a5ed0eed4",
   "metadata": {},
   "outputs": [],
   "source": []
  },
  {
   "cell_type": "code",
   "execution_count": 16,
   "id": "93b21eb9-5866-4b03-8ba4-7fdcc82ed5a8",
   "metadata": {},
   "outputs": [
    {
     "name": "stdout",
     "output_type": "stream",
     "text": [
      "Epoch    0/100 Cost: 0.250000\n",
      "Epoch   10/100 Cost: 0.206335\n",
      "Epoch   20/100 Cost: 0.195664\n",
      "Epoch   30/100 Cost: 0.187775\n",
      "Epoch   40/100 Cost: 0.181874\n",
      "Epoch   50/100 Cost: 0.177382\n",
      "Epoch   60/100 Cost: 0.173894\n",
      "Epoch   70/100 Cost: 0.171133\n",
      "Epoch   80/100 Cost: 0.168908\n",
      "Epoch   90/100 Cost: 0.167088\n",
      "Epoch  100/100 Cost: 0.165580\n"
     ]
    }
   ],
   "source": [
    "\n",
    "# 모델 초기화\n",
    "W = torch.zeros((8, 1), requires_grad=True)\n",
    "b = torch.zeros(1, requires_grad=True)\n",
    "# optimizer 설정\n",
    "optimizer = optim.SGD([W, b], lr=1)\n",
    "nb_epochs = 100\n",
    "for epoch in range(nb_epochs + 1):\n",
    "    # Cost 계산\n",
    "    hypothesis = torch.sigmoid(x_train.matmul(W) + b) # or .mm or @\n",
    "    cost = -(y_train * torch.log(hypothesis) +\n",
    "             (1 - y_train) * torch.log(1 - hypothesis)).mean()\n",
    "    # cost로 H(x) 개선\n",
    "    optimizer.zero_grad()\n",
    "    cost.backward() # 미분 \n",
    "    optimizer.step()\n",
    "    # 100번마다 로그 출력\n",
    "    if epoch % 10 == 0:\n",
    "        print('Epoch {:4d}/{} Cost: {:.6f}'.format(\n",
    "            epoch, nb_epochs, cost.item()\n",
    "        ))"
   ]
  },
  {
   "cell_type": "code",
   "execution_count": null,
   "id": "27907d12-c036-4d57-9eb8-32f3a878ea29",
   "metadata": {},
   "outputs": [],
   "source": []
  },
  {
   "cell_type": "code",
   "execution_count": null,
   "id": "bdac819d-bfe9-4f43-8f12-5e648390764e",
   "metadata": {},
   "outputs": [],
   "source": [
    "# 정확도 파악 ! "
   ]
  },
  {
   "cell_type": "code",
   "execution_count": 20,
   "id": "f0f43d25-55bc-4908-807e-e647c47c5102",
   "metadata": {},
   "outputs": [
    {
     "name": "stdout",
     "output_type": "stream",
     "text": [
      "tensor([[False],\n",
      "        [ True],\n",
      "        [False],\n",
      "        [ True],\n",
      "        [False]])\n"
     ]
    }
   ],
   "source": [
    "hypothesis = torch.sigmoid(x_train.matmul(W)+b)\n",
    "prediction = hypothesis >= torch.FloatTensor([0.5])\n",
    "\n",
    "print(prediction[:5])"
   ]
  },
  {
   "cell_type": "code",
   "execution_count": 22,
   "id": "9c5ac9a1-4b69-42d7-95f5-51b36c292343",
   "metadata": {},
   "outputs": [
    {
     "name": "stdout",
     "output_type": "stream",
     "text": [
      "tensor([[False],\n",
      "        [ True],\n",
      "        [False],\n",
      "        [ True],\n",
      "        [False]])\n",
      "tensor([[0.],\n",
      "        [1.],\n",
      "        [0.],\n",
      "        [1.],\n",
      "        [0.]])\n"
     ]
    }
   ],
   "source": [
    "print(prediction[:5])\n",
    "print(y_train[:5])"
   ]
  },
  {
   "cell_type": "code",
   "execution_count": null,
   "id": "9ae79db3-ff45-4d04-9f56-078e4fc426e7",
   "metadata": {},
   "outputs": [],
   "source": [
    "accuracy = correct"
   ]
  },
  {
   "cell_type": "code",
   "execution_count": null,
   "id": "7a8ce356-ac0f-452a-a239-726e7151ee11",
   "metadata": {},
   "outputs": [],
   "source": []
  },
  {
   "cell_type": "code",
   "execution_count": null,
   "id": "71e11b04-ef01-43e0-a4a0-95673113ed34",
   "metadata": {},
   "outputs": [],
   "source": []
  },
  {
   "cell_type": "code",
   "execution_count": null,
   "id": "3f35497d-8e87-473d-a6cf-41674d1fab7f",
   "metadata": {},
   "outputs": [],
   "source": []
  }
 ],
 "metadata": {
  "kernelspec": {
   "display_name": "Python 3 (ipykernel)",
   "language": "python",
   "name": "python3"
  },
  "language_info": {
   "codemirror_mode": {
    "name": "ipython",
    "version": 3
   },
   "file_extension": ".py",
   "mimetype": "text/x-python",
   "name": "python",
   "nbconvert_exporter": "python",
   "pygments_lexer": "ipython3",
   "version": "3.9.12"
  }
 },
 "nbformat": 4,
 "nbformat_minor": 5
}

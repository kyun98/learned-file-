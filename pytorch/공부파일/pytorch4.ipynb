{
 "cells": [
  {
   "cell_type": "code",
   "execution_count": 2,
   "id": "da69d595-76b6-445d-a06f-dd963f87846f",
   "metadata": {},
   "outputs": [],
   "source": [
    "import torch\n",
    "import torch.nn as nn\n",
    "import torch.nn.functional as F\n",
    "import torch.optim as optim\n",
    "import numpy as np "
   ]
  },
  {
   "cell_type": "code",
   "execution_count": null,
   "id": "711392bd-561f-41e7-824d-12b6c240f153",
   "metadata": {},
   "outputs": [],
   "source": []
  },
  {
   "cell_type": "code",
   "execution_count": null,
   "id": "b35e010a-4644-49bb-a529-46a25a467256",
   "metadata": {},
   "outputs": [],
   "source": []
  },
  {
   "cell_type": "code",
   "execution_count": null,
   "id": "a1459e79-1be3-41a0-8a85-e14da4efcd3b",
   "metadata": {},
   "outputs": [],
   "source": [
    " 10001 이 되었을때 멈추는 것 ! / 파이 터치 ! / 파라미터 \n",
    "    퍼셉트론 예측값 확인하기 "
   ]
  },
  {
   "cell_type": "code",
   "execution_count": null,
   "id": "a9615736-9ca0-4f3a-b375-8fd1247e91f7",
   "metadata": {},
   "outputs": [],
   "source": []
  },
  {
   "cell_type": "code",
   "execution_count": null,
   "id": "e2d08f26-8187-4dba-a078-7868087a88f5",
   "metadata": {},
   "outputs": [],
   "source": [
    "# 첫번째 레이더 \n",
    "# 두번째 레이어 1개롷\n",
    "# 세번째 레이어 시그모이드로 하기 \n",
    "# 모델은 라인 3개 층을 추가를 했어\n",
    "# 경사하강법 학습률 지정\n",
    "# 층 추가한 것 밖에 없다 .! / "
   ]
  },
  {
   "cell_type": "code",
   "execution_count": 4,
   "id": "65be3630-32af-48e3-b092-56622a18458b",
   "metadata": {},
   "outputs": [],
   "source": [
    "device = 'cuda' if torch.cuda.is_available() else 'cpu'\n",
    "\n",
    "# for reproducibility\n",
    "torch.manual_seed(777)\n",
    "if device == 'cuda':\n",
    "    torch.cuda.manual_seed_all(777)"
   ]
  },
  {
   "cell_type": "code",
   "execution_count": null,
   "id": "0ed62654-e0cc-42a0-b1fc-41be2867050d",
   "metadata": {},
   "outputs": [],
   "source": [
    "import torch\n",
    "torch.manual_seed(777)\n",
    "X = torch.FloatTensor([[0, 0], [0, 1], [1, 0], [1, 1]]).to(device)\n",
    "Y = torch.FloatTensor([[0], [1], [1], [0]]).to(device)"
   ]
  },
  {
   "cell_type": "code",
   "execution_count": 7,
   "id": "6d811c61-8765-4514-acd7-d7ab24aa3327",
   "metadata": {},
   "outputs": [],
   "source": [
    "linear1 = torch.nn.Linear(2, 10, bias=True)\n",
    "linear2 = torch.nn.Linear(10, 10, bias=True)\n",
    "linear3 = torch.nn.Linear(10, 10, bias=True)\n",
    "linear4 = torch.nn.Linear(10, 1, bias=True)\n",
    "sigmoid = torch.nn.Sigmoid()"
   ]
  },
  {
   "cell_type": "code",
   "execution_count": 9,
   "id": "70ae6a15-9cdc-4696-ba50-feda6525f9e5",
   "metadata": {},
   "outputs": [],
   "source": [
    "import torch\n",
    "torch.manual_seed(777)\n",
    "X = torch.FloatTensor([[0, 0], [0, 1], [1, 0], [1, 1]]).to(device)\n",
    "Y = torch.FloatTensor([[0], [1], [1], [0]]).to(device)\n"
   ]
  },
  {
   "cell_type": "code",
   "execution_count": 15,
   "id": "bdb777d3-d3cf-4234-b90a-a30ee495deae",
   "metadata": {},
   "outputs": [],
   "source": [
    "model = torch.nn.Sequential(linear1, sigmoid, linear2, sigmoid , linear3, sigmoid,linear4,sigmoid).to(device)\n",
    "criterion = torch.nn.BCELoss().to(device)\n",
    "optimizer = torch.optim.SGD(model.parameters(), lr=1)"
   ]
  },
  {
   "cell_type": "code",
   "execution_count": 16,
   "id": "09f2b405-4e41-4212-ab69-0a2f5344afa6",
   "metadata": {},
   "outputs": [
    {
     "name": "stdout",
     "output_type": "stream",
     "text": [
      "0 3.676185951917432e-05\n",
      "1000 3.455641126492992e-05\n",
      "2000 3.264899714849889e-05\n",
      "3000 3.08756971207913e-05\n",
      "4000 2.9281223760335706e-05\n",
      "5000 2.7865571610163897e-05\n",
      "6000 2.656913420651108e-05\n",
      "7000 2.54068108915817e-05\n",
      "8000 2.4318998839589767e-05\n",
      "9000 2.3320597392739728e-05\n",
      "10000 2.2411606551031582e-05\n"
     ]
    }
   ],
   "source": [
    "for step in range(10001):\n",
    "    optimizer.zero_grad()\n",
    "    hypothesis = model(X)\n",
    "    cost = criterion(hypothesis, Y)\n",
    "    cost.backward()\n",
    "    optimizer.step()\n",
    "    if step % 1000 == 0:\n",
    "        print(step, cost.item())\n"
   ]
  },
  {
   "cell_type": "code",
   "execution_count": 12,
   "id": "cd0a6777-a54c-4971-9b4c-9fd27bdfceb0",
   "metadata": {},
   "outputs": [
    {
     "name": "stdout",
     "output_type": "stream",
     "text": [
      "\n",
      "Hypothesis:  [[2.8870991e-05]\n",
      " [9.9995327e-01]\n",
      " [9.9996257e-01]\n",
      " [3.4274963e-05]] \n",
      "Correct:  [[0.]\n",
      " [1.]\n",
      " [1.]\n",
      " [0.]] \n",
      "Accuracy:  1.0\n"
     ]
    }
   ],
   "source": [
    "with torch.no_grad():\n",
    "    hypothesis = model(X)\n",
    "    predicted = (hypothesis > 0.5).float()\n",
    "    accuracy = (predicted == Y).float().mean()\n",
    "    print('\\nHypothesis: ', hypothesis.detach().cpu().numpy(), '\\nCorrect: ', predicted.detach().cpu().numpy(), '\\nAccuracy: ', accuracy.item())"
   ]
  },
  {
   "cell_type": "code",
   "execution_count": null,
   "id": "c48d4c2f-393d-4072-8784-bf8639db6a05",
   "metadata": {},
   "outputs": [],
   "source": [
    "# 층 추가했을때의 값 변화 "
   ]
  },
  {
   "cell_type": "code",
   "execution_count": null,
   "id": "8e6fa7a5-e2cd-463d-8652-0288a42e82c8",
   "metadata": {},
   "outputs": [],
   "source": [
    "# 왜 10개? 손글시가 10개니까 \n",
    "# w1 784는 사이즈 # 28*28 ! # 시그모이드 사용한 것 x 값 사용한 것 !/ "
   ]
  },
  {
   "cell_type": "code",
   "execution_count": null,
   "id": "e12ecad9-a95e-4fcf-be81-fe2390769bd1",
   "metadata": {},
   "outputs": [],
   "source": [
    "# 원핫인코딩 \n",
    "# 최종 예측값 , 계산 , \n",
    "# 여기서는 일일히 다 계산 하는 구나 \n",
    "# 렐루로 수행해보기 ! "
   ]
  },
  {
   "cell_type": "code",
   "execution_count": null,
   "id": "2d71647a-5072-452b-8220-99a7de918969",
   "metadata": {},
   "outputs": [],
   "source": [
    "# _  있는 것은 없데이트 해주는 것 ! / normal 정규화 한것 ! / "
   ]
  },
  {
   "cell_type": "code",
   "execution_count": null,
   "id": "eca6ad03-6383-4f71-b2ad-cdd88c9f09b1",
   "metadata": {},
   "outputs": [],
   "source": [
    "#  오비핏팅 조절 , 드롭아웃 하기 ! / "
   ]
  },
  {
   "cell_type": "code",
   "execution_count": null,
   "id": "f9f82f16-dbcc-4108-8824-2e8894e221cb",
   "metadata": {},
   "outputs": [],
   "source": [
    "# 배치 대량의 데이터를 처리하자 1 "
   ]
  },
  {
   "cell_type": "code",
   "execution_count": null,
   "id": "51ddcc8a-2ab8-47a7-b29a-5926effa2562",
   "metadata": {},
   "outputs": [],
   "source": []
  },
  {
   "cell_type": "code",
   "execution_count": null,
   "id": "df330f9a-1d26-4a48-a251-18a369e4328c",
   "metadata": {},
   "outputs": [],
   "source": []
  }
 ],
 "metadata": {
  "kernelspec": {
   "display_name": "Python 3 (ipykernel)",
   "language": "python",
   "name": "python3"
  },
  "language_info": {
   "codemirror_mode": {
    "name": "ipython",
    "version": 3
   },
   "file_extension": ".py",
   "mimetype": "text/x-python",
   "name": "python",
   "nbconvert_exporter": "python",
   "pygments_lexer": "ipython3",
   "version": "3.9.12"
  }
 },
 "nbformat": 4,
 "nbformat_minor": 5
}

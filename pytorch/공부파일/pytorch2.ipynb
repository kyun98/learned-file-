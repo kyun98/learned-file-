{
 "cells": [
  {
   "cell_type": "code",
   "execution_count": 25,
   "id": "61eb735c-147e-4951-8cc4-f8ad1e2b8932",
   "metadata": {},
   "outputs": [],
   "source": [
    "import torch\n",
    "import torch.nn as nn\n",
    "import torch.nn.functional as F\n",
    "import torch.optim as optim\n",
    "from torch.utils.data import dataset"
   ]
  },
  {
   "cell_type": "code",
   "execution_count": 26,
   "id": "ffafbbce-1534-4f7f-99ae-eb8b93fb4637",
   "metadata": {},
   "outputs": [
    {
     "data": {
      "text/plain": [
       "<torch._C.Generator at 0x21c4f57d810>"
      ]
     },
     "execution_count": 26,
     "metadata": {},
     "output_type": "execute_result"
    }
   ],
   "source": [
    "torch.manual_seed(1)"
   ]
  },
  {
   "cell_type": "code",
   "execution_count": 27,
   "id": "b01361ca-2f20-4822-be11-7c8495a0a157",
   "metadata": {},
   "outputs": [],
   "source": [
    "x_train = torch.FloatTensor([[1,2],\n",
    "                             [2,3],\n",
    "                             [3,1],\n",
    "                             [4,3],\n",
    "                             [5,3],\n",
    "                             [6,2]])\n",
    "y_train = torch.FloatTensor([[0], [0], [0], [1], [1],[1]])"
   ]
  },
  {
   "cell_type": "code",
   "execution_count": 28,
   "id": "55d9403b-476b-40f4-9a43-bea840808611",
   "metadata": {},
   "outputs": [
    {
     "name": "stdout",
     "output_type": "stream",
     "text": [
      "torch.Size([6, 2])\n",
      "torch.Size([6, 1])\n"
     ]
    }
   ],
   "source": [
    "print(x_train.shape)\n",
    "print(y_train.shape)"
   ]
  },
  {
   "cell_type": "code",
   "execution_count": 29,
   "id": "1b525e45-c12c-4f46-a4e7-5b77e8452918",
   "metadata": {},
   "outputs": [],
   "source": [
    "# 시그모이드 활성화 함수 "
   ]
  },
  {
   "cell_type": "code",
   "execution_count": 30,
   "id": "cbfa07b1-58d1-43cb-a15f-a9dacb766809",
   "metadata": {},
   "outputs": [],
   "source": [
    "# e^1 = 2.7183 "
   ]
  },
  {
   "cell_type": "code",
   "execution_count": 31,
   "id": "3518e5c6-a0d1-49ee-9299-746736fdebce",
   "metadata": {},
   "outputs": [],
   "source": [
    "# w 값 b 값 추적\n",
    "w = torch.zeros((2,1),requires_grad = True)\n",
    "b = torch.zeros(1,requires_grad = True)\n"
   ]
  },
  {
   "cell_type": "code",
   "execution_count": 33,
   "id": "ca03d23f-96d7-40cf-9cea-855c51a48f49",
   "metadata": {},
   "outputs": [
    {
     "data": {
      "text/plain": [
       "tensor([[0.5000],\n",
       "        [0.5000],\n",
       "        [0.5000],\n",
       "        [0.5000],\n",
       "        [0.5000],\n",
       "        [0.5000]], grad_fn=<MulBackward0>)"
      ]
     },
     "execution_count": 33,
     "metadata": {},
     "output_type": "execute_result"
    }
   ],
   "source": [
    "hypothesis = 1/(1+torch.exp(-(x_train.matmul(w)+b)))\n",
    "hypothesis"
   ]
  },
  {
   "cell_type": "code",
   "execution_count": 11,
   "id": "25b55bc2-3ee4-42aa-a054-a7cca14ee2ec",
   "metadata": {},
   "outputs": [],
   "source": [
    "# 시그모이드 적용해보자 \n"
   ]
  },
  {
   "cell_type": "code",
   "execution_count": 13,
   "id": "4bcde80b-e524-454c-9b0a-55e58d3d85b9",
   "metadata": {},
   "outputs": [],
   "source": [
    "hypothesis = torch.sigmoid(-(x_train.matmul(w)+b)) \n"
   ]
  },
  {
   "cell_type": "code",
   "execution_count": 14,
   "id": "13d98831-ef8b-446b-88c4-a03b84e760c3",
   "metadata": {},
   "outputs": [
    {
     "name": "stdout",
     "output_type": "stream",
     "text": [
      "tensor([[0.5000],\n",
      "        [0.5000],\n",
      "        [0.5000],\n",
      "        [0.5000],\n",
      "        [0.5000],\n",
      "        [0.5000]], grad_fn=<SigmoidBackward0>)\n"
     ]
    }
   ],
   "source": [
    "print(hypothesis) # 같음 "
   ]
  },
  {
   "cell_type": "code",
   "execution_count": 15,
   "id": "55258ba9-37f7-42d2-8007-393ed6be03d9",
   "metadata": {},
   "outputs": [],
   "source": [
    "losses = -(y_train*torch.log(hypothesis)+ (1-y_train)*torch.log(1-hypothesis) )"
   ]
  },
  {
   "cell_type": "code",
   "execution_count": 16,
   "id": "4ebc8bd1-b4ab-459f-a5ab-d9f46b8d777a",
   "metadata": {},
   "outputs": [
    {
     "data": {
      "text/plain": [
       "tensor([[0.6931],\n",
       "        [0.6931],\n",
       "        [0.6931],\n",
       "        [0.6931],\n",
       "        [0.6931],\n",
       "        [0.6931]], grad_fn=<NegBackward0>)"
      ]
     },
     "execution_count": 16,
     "metadata": {},
     "output_type": "execute_result"
    }
   ],
   "source": [
    "losses # 전체값 "
   ]
  },
  {
   "cell_type": "code",
   "execution_count": 17,
   "id": "2b909241-6637-49ed-a2fc-c5c39020e69e",
   "metadata": {},
   "outputs": [],
   "source": [
    "cost = losses.mean()"
   ]
  },
  {
   "cell_type": "code",
   "execution_count": 18,
   "id": "914c3b8c-6841-4615-96ec-562d2cea285c",
   "metadata": {},
   "outputs": [
    {
     "data": {
      "text/plain": [
       "tensor(0.6931, grad_fn=<BinaryCrossEntropyBackward0>)"
      ]
     },
     "execution_count": 18,
     "metadata": {},
     "output_type": "execute_result"
    }
   ],
   "source": [
    "F.binary_cross_entropy(hypothesis,y_train)"
   ]
  },
  {
   "cell_type": "code",
   "execution_count": 22,
   "id": "40271430-7319-47ce-906a-1a6f6d849dae",
   "metadata": {},
   "outputs": [
    {
     "name": "stdout",
     "output_type": "stream",
     "text": [
      "tensor([[0.0003],\n",
      "        [0.0321],\n",
      "        [0.0398],\n",
      "        [0.0448],\n",
      "        [0.0018],\n",
      "        [0.0003]], grad_fn=<NegBackward0>)\n"
     ]
    }
   ],
   "source": [
    "x_train = torch.FloatTensor(x_data)\n",
    "y_train = torch.FloatTensor(y_data)\n",
    "\n",
    "\n",
    "-(y_train[0] * torch.log(hypothesis[0]) + (1 - y_train[0]) * torch.log(1 - hypothesis[0]))\n",
    "\n",
    "losses = -(y_train * torch.log(hypothesis) + (1 - y_train) * torch.log(1 - hypothesis))\n",
    "print(losses)"
   ]
  },
  {
   "cell_type": "code",
   "execution_count": 23,
   "id": "a6902432-5eb5-4895-9b86-1b4357d6087a",
   "metadata": {},
   "outputs": [
    {
     "name": "stdout",
     "output_type": "stream",
     "text": [
      "Epoch    0/1000 Cost: 0.693147\n",
      "Epoch  100/1000 Cost: 0.134722\n",
      "Epoch  200/1000 Cost: 0.080643\n",
      "Epoch  300/1000 Cost: 0.057900\n",
      "Epoch  400/1000 Cost: 0.045300\n",
      "Epoch  500/1000 Cost: 0.037261\n",
      "Epoch  600/1000 Cost: 0.031673\n",
      "Epoch  700/1000 Cost: 0.027556\n",
      "Epoch  800/1000 Cost: 0.024394\n",
      "Epoch  900/1000 Cost: 0.021888\n",
      "Epoch 1000/1000 Cost: 0.019852\n"
     ]
    }
   ],
   "source": [
    "\n",
    "\n",
    "\n",
    "# 모델 초기화\n",
    "W = torch.zeros((2, 1), requires_grad=True)\n",
    "b = torch.zeros(1, requires_grad=True)\n",
    "# optimizer 설정\n",
    "optimizer = optim.SGD([W, b], lr=1)\n",
    "nb_epochs = 1000\n",
    "for epoch in range(nb_epochs + 1):\n",
    "    # Cost 계산\n",
    "    hypothesis = torch.sigmoid(x_train.matmul(W) + b) # or .mm or @\n",
    "    cost = -(y_train * torch.log(hypothesis) +\n",
    "             (1 - y_train) * torch.log(1 - hypothesis)).mean()\n",
    "    # cost로 H(x) 개선\n",
    "    optimizer.zero_grad()\n",
    "    cost.backward() # 미분 \n",
    "    optimizer.step()\n",
    "    # 100번마다 로그 출력\n",
    "    if epoch % 100 == 0:\n",
    "        print('Epoch {:4d}/{} Cost: {:.6f}'.format(\n",
    "            epoch, nb_epochs, cost.item()\n",
    "        ))"
   ]
  },
  {
   "cell_type": "code",
   "execution_count": 24,
   "id": "43a8a7bc-e140-48c0-a68f-cf1d182efc88",
   "metadata": {},
   "outputs": [
    {
     "name": "stdout",
     "output_type": "stream",
     "text": [
      "Epoch    0/1000 Cost: 0.693147\n",
      "Epoch  100/1000 Cost: 0.134722\n",
      "Epoch  200/1000 Cost: 0.080643\n",
      "Epoch  300/1000 Cost: 0.057900\n",
      "Epoch  400/1000 Cost: 0.045300\n",
      "Epoch  500/1000 Cost: 0.037261\n",
      "Epoch  600/1000 Cost: 0.031672\n",
      "Epoch  700/1000 Cost: 0.027556\n",
      "Epoch  800/1000 Cost: 0.024394\n",
      "Epoch  900/1000 Cost: 0.021888\n",
      "Epoch 1000/1000 Cost: 0.019852\n"
     ]
    }
   ],
   "source": [
    "\n",
    "# 모델 초기화\n",
    "W = torch.zeros((2, 1), requires_grad=True)\n",
    "b = torch.zeros(1, requires_grad=True)\n",
    "# optimizer 설정\n",
    "optimizer = optim.SGD([W, b], lr=1)\n",
    "nb_epochs = 1000\n",
    "for epoch in range(nb_epochs + 1):\n",
    "    # Cost 계산\n",
    "    hypothesis = torch.sigmoid(x_train.matmul(W) + b) # or .mm or @\n",
    "    cost = F.binary_cross_entropy(hypothesis,y_train) # 같다 ! / \n",
    "    # cost로 H(x) 개선\n",
    "    optimizer.zero_grad()\n",
    "    cost.backward() # 미분 \n",
    "    optimizer.step()\n",
    "    # 100번마다 로그 출력\n",
    "    if epoch % 100 == 0:\n",
    "        print('Epoch {:4d}/{} Cost: {:.6f}'.format(\n",
    "            epoch, nb_epochs, cost.item()\n",
    "        ))"
   ]
  },
  {
   "cell_type": "code",
   "execution_count": null,
   "id": "ef360f3d-c9bd-43ad-81cf-bf6e156a75af",
   "metadata": {},
   "outputs": [],
   "source": [
    "# 실제 데이터 "
   ]
  },
  {
   "cell_type": "code",
   "execution_count": null,
   "id": "1fdc4244-6d7c-4383-9986-076ba5badcac",
   "metadata": {},
   "outputs": [],
   "source": [
    "\n"
   ]
  },
  {
   "cell_type": "code",
   "execution_count": null,
   "id": "c71cfa66-b832-45f5-abe8-52bb1f8b9bb8",
   "metadata": {},
   "outputs": [],
   "source": []
  },
  {
   "cell_type": "code",
   "execution_count": null,
   "id": "db9070fd-c022-44f0-88d6-5edba07f3004",
   "metadata": {},
   "outputs": [],
   "source": []
  },
  {
   "cell_type": "code",
   "execution_count": null,
   "id": "bc4d9692-0159-4457-a71e-3eacfac24375",
   "metadata": {},
   "outputs": [],
   "source": []
  },
  {
   "cell_type": "code",
   "execution_count": null,
   "id": "eaac5673-da55-4493-a6b4-92d20c40d575",
   "metadata": {},
   "outputs": [],
   "source": []
  },
  {
   "cell_type": "code",
   "execution_count": null,
   "id": "ecbc8e43-d03a-4ce8-bffd-ffe2b1b879b5",
   "metadata": {},
   "outputs": [],
   "source": []
  }
 ],
 "metadata": {
  "kernelspec": {
   "display_name": "Python 3 (ipykernel)",
   "language": "python",
   "name": "python3"
  },
  "language_info": {
   "codemirror_mode": {
    "name": "ipython",
    "version": 3
   },
   "file_extension": ".py",
   "mimetype": "text/x-python",
   "name": "python",
   "nbconvert_exporter": "python",
   "pygments_lexer": "ipython3",
   "version": "3.9.12"
  }
 },
 "nbformat": 4,
 "nbformat_minor": 5
}

{
 "cells": [
  {
   "cell_type": "code",
   "execution_count": 2,
   "id": "f9928c08-1777-465a-8324-83f0f69b4af2",
   "metadata": {},
   "outputs": [],
   "source": [
    "# softmax "
   ]
  },
  {
   "cell_type": "code",
   "execution_count": null,
   "id": "da515337-7429-4f0b-987f-375cab328040",
   "metadata": {},
   "outputs": [],
   "source": [
    "# 확률값으로 던져준다. 그이야기는 클래스 n 개 있을때 확률 각각 더해서 1 되는 확률 값 \n",
    "#  1 2 3 이라는 것은  , "
   ]
  },
  {
   "cell_type": "code",
   "execution_count": null,
   "id": "be6fa29b-557c-4854-9bb2-a41148e434ac",
   "metadata": {},
   "outputs": [],
   "source": [
    "# 0.09 , 0.2447 , 0.6652 / e 1 e 2  e 3 e 4  e 5 분의 e i 값  # 0이면 1 2면 20분의 7 /  "
   ]
  },
  {
   "cell_type": "code",
   "execution_count": null,
   "id": "2eb2e5bd-df24-44c4-a0a6-da8d3d790029",
   "metadata": {},
   "outputs": [],
   "source": []
  },
  {
   "cell_type": "code",
   "execution_count": 46,
   "id": "ca015d45-2d9a-400f-a1e7-2df2b6388dcc",
   "metadata": {},
   "outputs": [],
   "source": [
    "import torch\n",
    "import torch.nn as nn\n",
    "import torch.nn.functional as F\n",
    "import torch.optim as optim\n",
    "import numpy as np "
   ]
  },
  {
   "cell_type": "code",
   "execution_count": 47,
   "id": "7e304263-09c5-452c-bc3e-866c46cfb757",
   "metadata": {},
   "outputs": [
    {
     "data": {
      "text/plain": [
       "<torch._C.Generator at 0x133ff5c4990>"
      ]
     },
     "execution_count": 47,
     "metadata": {},
     "output_type": "execute_result"
    }
   ],
   "source": [
    "torch.manual_seed(1)\n"
   ]
  },
  {
   "cell_type": "code",
   "execution_count": 48,
   "id": "2f6632f7-f7a0-432a-807e-16037d85e123",
   "metadata": {},
   "outputs": [
    {
     "name": "stdout",
     "output_type": "stream",
     "text": [
      "1.0\n",
      "2.718281828459045\n",
      "7.38905609893065\n",
      "20.085536923187668\n"
     ]
    }
   ],
   "source": [
    "print(np.exp(0))\n",
    "print(np.exp(1))\n",
    "print(np.exp(2))\n",
    "print(np.exp(3))"
   ]
  },
  {
   "cell_type": "code",
   "execution_count": 49,
   "id": "53f53d4e-01ee-4d55-ba78-27f370533d0a",
   "metadata": {},
   "outputs": [
    {
     "ename": "IndentationError",
     "evalue": "unexpected indent (1828881802.py, line 3)",
     "output_type": "error",
     "traceback": [
      "\u001b[1;36m  Input \u001b[1;32mIn [49]\u001b[1;36m\u001b[0m\n\u001b[1;33m    ex)  np.exp(-z)  란...   e^(-z)    \"e의 -z 승\"\u001b[0m\n\u001b[1;37m    ^\u001b[0m\n\u001b[1;31mIndentationError\u001b[0m\u001b[1;31m:\u001b[0m unexpected indent\n"
     ]
    }
   ],
   "source": [
    "#  np.exp 는 각 요소에 자연상수  e  를 밑으로 하는 지수함수 값을 반환합니다.\n",
    "\n",
    "             ex)  np.exp(-z)  란...   e^(-z)    \"e의 -z 승\"\n",
    "# [출처] np.exp(-z)  가 무슨 뜻일까?  (feat.넘파이 연산)|작성자 사이다"
   ]
  },
  {
   "cell_type": "code",
   "execution_count": 50,
   "id": "5ae2af85-0d50-4057-acde-e9f98e7c2bc0",
   "metadata": {},
   "outputs": [
    {
     "data": {
      "text/plain": [
       "0.09003057317038046"
      ]
     },
     "execution_count": 50,
     "metadata": {},
     "output_type": "execute_result"
    }
   ],
   "source": [
    "np.exp(1) /(np.exp(1) + np.exp(2) + np.exp(3))"
   ]
  },
  {
   "cell_type": "code",
   "execution_count": 51,
   "id": "803204b7-d076-4f77-ad9a-78c644c58e1f",
   "metadata": {},
   "outputs": [
    {
     "name": "stdout",
     "output_type": "stream",
     "text": [
      "tensor([1., 2., 3.])\n"
     ]
    }
   ],
   "source": [
    "z = torch.FloatTensor([1,2,3])\n",
    "print(z)"
   ]
  },
  {
   "cell_type": "code",
   "execution_count": 52,
   "id": "ca15d506-4c3a-4035-b052-2bded2432e05",
   "metadata": {},
   "outputs": [
    {
     "name": "stdout",
     "output_type": "stream",
     "text": [
      "tensor(1.)\n"
     ]
    }
   ],
   "source": [
    "hypothesis = torch.softmax(z, dim = 0)\n",
    "print(hypothesis.sum())"
   ]
  },
  {
   "cell_type": "code",
   "execution_count": 53,
   "id": "873e65b5-973c-4979-9c4f-0a4fb07954d8",
   "metadata": {},
   "outputs": [],
   "source": [
    "# 가위 바위 보 가정 했을때 , 확률 값  p , 상대방이 보를 낼 확률 , 내가 가위를 낼 경우 , 상대방이 주먹을 낼 경우 ! ,/  \n",
    "# 가위 바위 바구이 가위 가위 가장큰 값 전체 확률을 내준다 .\n"
   ]
  },
  {
   "cell_type": "code",
   "execution_count": 54,
   "id": "387ebe14-510f-45ba-a6ac-1ef19d7ae0ca",
   "metadata": {},
   "outputs": [],
   "source": [
    "#이렇게 우리는 Multiclassification 에서의 Softmax 의 사용 그리고 Binary Classification 에서의 Sigmoid 활성화 함수에 대한 사용법에 대해서 알아보았습니다. \n",
    "#가장 중요한것은 softmax와 sigmoid 모두, logit 이 입력으로 들어오고, 이들의 확률이 출력으로 나타나는것이라고 할 수 있겠습니다.\n",
    "\n",
    "#[출처] 딥러닝 이론 Sigmoid 와 SoftMax|작성자 바고"
   ]
  },
  {
   "cell_type": "code",
   "execution_count": 55,
   "id": "032c96bb-55fb-41d6-92c7-5124b7a87de0",
   "metadata": {},
   "outputs": [],
   "source": [
    "# softmax 정답값과 , 예측값 대해서 px 값 / 결국은 저값 , / p라는 그래프가 있는 것이고 , q 라는 그래프 , q1 , q2 ,, "
   ]
  },
  {
   "cell_type": "code",
   "execution_count": 56,
   "id": "a0931b5b-ea8b-43e2-84ab-222b7ab373be",
   "metadata": {},
   "outputs": [],
   "source": [
    "# h(p,q) # h(p,q2) 크게 되어 있다. 그때 차이 값을 p q 라고 한다. "
   ]
  },
  {
   "cell_type": "code",
   "execution_count": 57,
   "id": "d4c08219-ad71-4ad0-851f-01f96f7de976",
   "metadata": {},
   "outputs": [
    {
     "ename": "SyntaxError",
     "evalue": "invalid syntax (949980751.py, line 1)",
     "output_type": "error",
     "traceback": [
      "\u001b[1;36m  Input \u001b[1;32mIn [57]\u001b[1;36m\u001b[0m\n\u001b[1;33m    p(x) 변했을때 값 # 랜덤값 dim 1  2q번째 값 확률 값이 어떠냐? / 5는 값에서 클래스\u001b[0m\n\u001b[1;37m         ^\u001b[0m\n\u001b[1;31mSyntaxError\u001b[0m\u001b[1;31m:\u001b[0m invalid syntax\n"
     ]
    }
   ],
   "source": [
    "p(x) 변했을때 값 # 랜덤값 dim 1  2q번째 값 확률 값이 어떠냐? / 5는 값에서 클래스 "
   ]
  },
  {
   "cell_type": "code",
   "execution_count": 58,
   "id": "124c7c24-f307-4378-abf4-f0bfe21df5f9",
   "metadata": {},
   "outputs": [],
   "source": [
    "# 원핫 인코딩 한다 ! , /// 가설치가 z 로 설정 3행 5열  토치로 하는데 3행 5열 딴다 . zero 값을 깔고, - 값은 # 0 , 2 1 로 해서 원핫 인코딩 구성을 해라 ! "
   ]
  },
  {
   "cell_type": "code",
   "execution_count": null,
   "id": "e000f48d-2e96-4d25-a71d-5a4c1d418b49",
   "metadata": {},
   "outputs": [],
   "source": []
  },
  {
   "cell_type": "code",
   "execution_count": 59,
   "id": "ff9b65b9-a517-429a-8ae8-8648b551f0b3",
   "metadata": {},
   "outputs": [],
   "source": [
    "# torch.log 써서 코스트 값 구한 것 ! , "
   ]
  },
  {
   "cell_type": "code",
   "execution_count": 60,
   "id": "0ce61600-63dd-4582-8417-1095c03e5768",
   "metadata": {},
   "outputs": [
    {
     "name": "stdout",
     "output_type": "stream",
     "text": [
      "tensor([[0.2645, 0.1639, 0.1855, 0.2585, 0.1277],\n",
      "        [0.2430, 0.1624, 0.2322, 0.1930, 0.1694],\n",
      "        [0.2226, 0.1986, 0.2326, 0.1594, 0.1868]], grad_fn=<SoftmaxBackward0>)\n"
     ]
    }
   ],
   "source": [
    "z = torch.rand(3,5, requires_grad = True  )\n",
    "hypothesis = torch.softmax(z, dim = 1)\n",
    "print(hypothesis)"
   ]
  },
  {
   "cell_type": "code",
   "execution_count": 61,
   "id": "effba3b3-cb43-4cbf-8a94-94f55d41e6b7",
   "metadata": {},
   "outputs": [
    {
     "name": "stdout",
     "output_type": "stream",
     "text": [
      "tensor([0, 2, 1])\n"
     ]
    }
   ],
   "source": [
    "y = torch.randint(5,(3,)).long() # 3행 5열 값 가짐 \n",
    "print(y)"
   ]
  },
  {
   "cell_type": "code",
   "execution_count": 62,
   "id": "df99ea12-d2ad-4d21-a044-e9470bedd38e",
   "metadata": {},
   "outputs": [
    {
     "data": {
      "text/plain": [
       "tensor([[1., 0., 0., 0., 0.],\n",
       "        [0., 0., 1., 0., 0.],\n",
       "        [0., 1., 0., 0., 0.]])"
      ]
     },
     "execution_count": 62,
     "metadata": {},
     "output_type": "execute_result"
    }
   ],
   "source": [
    "y_one_hot = torch.zeros_like(hypothesis) # 3 , 5 \n",
    "y_one_hot.scatter_(1,y.unsqueeze(1),1)"
   ]
  },
  {
   "cell_type": "code",
   "execution_count": null,
   "id": "31f9a59b-c6f3-44c8-a53e-48a8185d6d31",
   "metadata": {},
   "outputs": [],
   "source": []
  },
  {
   "cell_type": "code",
   "execution_count": 69,
   "id": "ac2c64fa-e28a-494f-bc46-98ee7b839c11",
   "metadata": {},
   "outputs": [
    {
     "data": {
      "text/plain": [
       "tensor([[-1.3301, -1.8084, -1.6846, -1.3530, -2.0584],\n",
       "        [-1.4147, -1.8174, -1.4602, -1.6450, -1.7758],\n",
       "        [-1.5025, -1.6165, -1.4586, -1.8360, -1.6776]], grad_fn=<LogBackward0>)"
      ]
     },
     "execution_count": 69,
     "metadata": {},
     "output_type": "execute_result"
    }
   ],
   "source": [
    "torch.log(F.softmax(z,dim = 1)) # 아래와 같은 값 "
   ]
  },
  {
   "cell_type": "code",
   "execution_count": 70,
   "id": "c0349550-482a-4a72-a5f7-a10855bccf5b",
   "metadata": {},
   "outputs": [
    {
     "data": {
      "text/plain": [
       "tensor([[-1.3301, -1.8084, -1.6846, -1.3530, -2.0584],\n",
       "        [-1.4147, -1.8174, -1.4602, -1.6450, -1.7758],\n",
       "        [-1.5025, -1.6165, -1.4586, -1.8360, -1.6776]],\n",
       "       grad_fn=<LogSoftmaxBackward0>)"
      ]
     },
     "execution_count": 70,
     "metadata": {},
     "output_type": "execute_result"
    }
   ],
   "source": [
    "F.log_softmax(z , dim = 1)"
   ]
  },
  {
   "cell_type": "code",
   "execution_count": 65,
   "id": "d3e92260-ec41-411f-96a0-57999a4fb391",
   "metadata": {},
   "outputs": [],
   "source": [
    "#nll negative log likehood \n",
    "\n",
    "# 최종은 F.cross_entropy(z,y)"
   ]
  },
  {
   "cell_type": "code",
   "execution_count": 71,
   "id": "1551b66a-22b0-4627-93e4-e566dc378ed7",
   "metadata": {},
   "outputs": [
    {
     "data": {
      "text/plain": [
       "tensor(1.4689, grad_fn=<MeanBackward0>)"
      ]
     },
     "execution_count": 71,
     "metadata": {},
     "output_type": "execute_result"
    }
   ],
   "source": [
    "# low level\n",
    "cost = (y_one_hot * - torch.log(hypothesis)).sum(dim=1).mean()\n",
    "cost"
   ]
  },
  {
   "cell_type": "code",
   "execution_count": 67,
   "id": "e4af901d-2e35-441e-99de-c987c53b8c0f",
   "metadata": {},
   "outputs": [
    {
     "data": {
      "text/plain": [
       "tensor(1.4689, grad_fn=<NllLossBackward0>)"
      ]
     },
     "execution_count": 67,
     "metadata": {},
     "output_type": "execute_result"
    }
   ],
   "source": [
    "# hgi level\n",
    "F.nll_loss(F.log_softmax(z,dim = 1),y)"
   ]
  },
  {
   "cell_type": "code",
   "execution_count": 73,
   "id": "5cdc763c-f4ab-42e7-be77-b70b95f1edd9",
   "metadata": {},
   "outputs": [
    {
     "data": {
      "text/plain": [
       "tensor(1.4689, grad_fn=<NllLossBackward0>)"
      ]
     },
     "execution_count": 73,
     "metadata": {},
     "output_type": "execute_result"
    }
   ],
   "source": [
    "F.cross_entropy(z,y) # 가장 간단하게 할 수 있다 . ! /\n",
    "# 전체 생략하고 쓰게 되면 , 다시 쓰게 되는 경우가 있다. 최종 손실만 필요하냐 , 아니면 확률 로직도 필요하냐에 따라서 다르다 ,"
   ]
  },
  {
   "cell_type": "code",
   "execution_count": null,
   "id": "ef15fc8d-3569-4e41-a4e4-77204cd5743d",
   "metadata": {},
   "outputs": [],
   "source": [
    "# 클래스화 , 전체적으로 "
   ]
  },
  {
   "cell_type": "code",
   "execution_count": 74,
   "id": "c6cd541b-f1fd-4e09-b5fd-0b72777d7b9d",
   "metadata": {},
   "outputs": [],
   "source": [
    "x_train = [[1, 2, 1, 1],\n",
    "           [2, 1, 3, 2],\n",
    "           [3, 1, 3, 4],\n",
    "           [4, 1, 5, 5],\n",
    "           [1, 7, 5, 5],\n",
    "           [1, 2, 5, 6],\n",
    "           [1, 6, 6, 6],\n",
    "           [1, 7, 7, 7]]\n",
    "y_train = [2, 2, 2, 1, 1, 1, 0, 0]\n",
    "x_train = torch.FloatTensor(x_train)\n",
    "y_train = torch.LongTensor(y_train)\n",
    "# 4차원에 들어가서 클래스 3개 , 4개가 들어가서 아웃풋은 3개를 만든다 ."
   ]
  },
  {
   "cell_type": "code",
   "execution_count": 75,
   "id": "5944daf7-166b-4000-96e6-a1e2f9842970",
   "metadata": {},
   "outputs": [],
   "source": [
    "# 모델 초기화 # x 4개 y 3개 \n",
    "W = torch.zeros((4, 3), requires_grad=True)\n",
    "b = torch.zeros(1,requires_grad=True)"
   ]
  },
  {
   "cell_type": "code",
   "execution_count": 79,
   "id": "ad255fe9-66bc-4bf8-a66b-001ea38ee4ef",
   "metadata": {},
   "outputs": [],
   "source": [
    "optimizer = optim.SGD([W,b], lr = 0.1)"
   ]
  },
  {
   "cell_type": "code",
   "execution_count": 87,
   "id": "183758fb-92f2-4fc1-a73c-12c0b542542f",
   "metadata": {},
   "outputs": [
    {
     "ename": "RuntimeError",
     "evalue": "The size of tensor a (3) must match the size of tensor b (5) at non-singleton dimension 1",
     "output_type": "error",
     "traceback": [
      "\u001b[1;31m---------------------------------------------------------------------------\u001b[0m",
      "\u001b[1;31mRuntimeError\u001b[0m                              Traceback (most recent call last)",
      "Input \u001b[1;32mIn [87]\u001b[0m, in \u001b[0;36m<cell line: 3>\u001b[1;34m()\u001b[0m\n\u001b[0;32m      5\u001b[0m y_one \u001b[38;5;241m=\u001b[39m torch\u001b[38;5;241m.\u001b[39mzeros_like(hypothesis)\n\u001b[0;32m      6\u001b[0m y_one\u001b[38;5;241m.\u001b[39mscatter_(\u001b[38;5;241m1\u001b[39m, y_train\u001b[38;5;241m.\u001b[39munsqueeze(\u001b[38;5;241m1\u001b[39m),\u001b[38;5;241m1\u001b[39m)\n\u001b[1;32m----> 7\u001b[0m cost \u001b[38;5;241m=\u001b[39m (\u001b[43my_one\u001b[49m\u001b[43m \u001b[49m\u001b[38;5;241;43m*\u001b[39;49m\u001b[43m \u001b[49m\u001b[38;5;241;43m-\u001b[39;49m\u001b[43mtorch\u001b[49m\u001b[38;5;241;43m.\u001b[39;49m\u001b[43mlog\u001b[49m\u001b[43m(\u001b[49m\u001b[43mF\u001b[49m\u001b[38;5;241;43m.\u001b[39;49m\u001b[43msoftmax\u001b[49m\u001b[43m(\u001b[49m\u001b[43mz\u001b[49m\u001b[43m,\u001b[49m\u001b[43mdim\u001b[49m\u001b[43m \u001b[49m\u001b[38;5;241;43m=\u001b[39;49m\u001b[43m \u001b[49m\u001b[38;5;241;43m1\u001b[39;49m\u001b[43m)\u001b[49m\u001b[43m)\u001b[49m)\u001b[38;5;241m.\u001b[39msum(dim \u001b[38;5;241m=\u001b[39m \u001b[38;5;241m1\u001b[39m)\u001b[38;5;241m.\u001b[39mmean()\n\u001b[0;32m      9\u001b[0m optimizer\u001b[38;5;241m.\u001b[39mzero_gard()\n\u001b[0;32m     10\u001b[0m cost\u001b[38;5;241m.\u001b[39mbackward()\n",
      "\u001b[1;31mRuntimeError\u001b[0m: The size of tensor a (3) must match the size of tensor b (5) at non-singleton dimension 1"
     ]
    }
   ],
   "source": [
    "# low level \n",
    "epochs = 1000\n",
    "for epoch in range(epochs+1):\n",
    "    hypothesis = F.softmax(x_train.matmul(W)+b ,dim = 1)\n",
    "    y_one = torch.zeros_like(hypothesis)\n",
    "    y_one.scatter_(1, y_train.unsqueeze(1),1)\n",
    "    cost = (y_one * -torch.log(F.softmax(z,dim = 1))).sum(dim = 1).mean()\n",
    "    \n",
    "    optimizer.zero_gard()\n",
    "    cost.backward()\n",
    "    optimizer.step()\n",
    "    \n",
    "    if epoch % 100 == 0 :\n",
    "        print('epoch {:4d}/{} Cost : {:.6f}'.format(\n",
    "        epoch , epochs , cost.item()\n",
    "        ))"
   ]
  },
  {
   "cell_type": "code",
   "execution_count": 88,
   "id": "f11acac4-424c-44a3-8c07-d62779e3bb67",
   "metadata": {},
   "outputs": [],
   "source": [
    "class SoftmaxclassifierModel(nn.Module):\n",
    "    def __init__(self):\n",
    "        super().__init__()\n",
    "        self.linear = nn.Linear(4,3)\n",
    "        \n",
    "    def forward(self,x):\n",
    "        return self.linear(x)\n",
    "        \n"
   ]
  },
  {
   "cell_type": "code",
   "execution_count": 93,
   "id": "dce7e08d-1851-431c-a954-f962eab62cc5",
   "metadata": {},
   "outputs": [],
   "source": [
    "model = SoftmaxclassifierModel()\n",
    "optimizer = optim.SGD(model.parameters(), lr = 0.1)"
   ]
  },
  {
   "cell_type": "code",
   "execution_count": 95,
   "id": "0708c7e8-536b-4f7c-b44d-3183bc78b023",
   "metadata": {},
   "outputs": [
    {
     "name": "stdout",
     "output_type": "stream",
     "text": [
      "epoch    0/1000 Cost : 1.845720\n",
      "epoch  100/1000 Cost : 0.647150\n",
      "epoch  200/1000 Cost : 0.568868\n",
      "epoch  300/1000 Cost : 0.515699\n",
      "epoch  400/1000 Cost : 0.471727\n",
      "epoch  500/1000 Cost : 0.432486\n",
      "epoch  600/1000 Cost : 0.395879\n",
      "epoch  700/1000 Cost : 0.360507\n",
      "epoch  800/1000 Cost : 0.325228\n",
      "epoch  900/1000 Cost : 0.289217\n",
      "epoch 1000/1000 Cost : 0.254086\n"
     ]
    }
   ],
   "source": [
    "# high level \n",
    "\n",
    "\n",
    "\n",
    "epochs = 1000\n",
    "for epoch in range(epochs+1):\n",
    "    \n",
    "    prediction = model(x_train)\n",
    "  \n",
    "    \n",
    "    cost = F.cross_entropy(prediction,y_train)    \n",
    "    optimizer.zero_grad()\n",
    "    cost.backward()\n",
    "    optimizer.step()\n",
    "    \n",
    "    if epoch % 100 == 0 :\n",
    "        print('epoch {:4d}/{} Cost : {:.6f}'.format(\n",
    "        epoch , epochs , cost.item()\n",
    "        ))"
   ]
  },
  {
   "cell_type": "code",
   "execution_count": null,
   "id": "0037f511-9e1d-433b-9e52-598d6eaf99c5",
   "metadata": {},
   "outputs": [],
   "source": []
  },
  {
   "cell_type": "code",
   "execution_count": null,
   "id": "62a7a00d-b876-4fc6-858c-73682d60ee86",
   "metadata": {},
   "outputs": [],
   "source": []
  },
  {
   "cell_type": "code",
   "execution_count": null,
   "id": "4d303730-85c5-4409-a659-4c5eb38710ff",
   "metadata": {},
   "outputs": [],
   "source": []
  },
  {
   "cell_type": "code",
   "execution_count": null,
   "id": "e429b8a9-19eb-47dd-ac10-4f3eed6b6406",
   "metadata": {},
   "outputs": [],
   "source": []
  },
  {
   "cell_type": "code",
   "execution_count": null,
   "id": "39b128b6-1473-4377-a084-63ef34d10745",
   "metadata": {},
   "outputs": [],
   "source": []
  },
  {
   "cell_type": "code",
   "execution_count": null,
   "id": "d2646d40-3085-441a-9729-a2c671857ac1",
   "metadata": {},
   "outputs": [],
   "source": []
  },
  {
   "cell_type": "code",
   "execution_count": null,
   "id": "29b2b2f2-7ee5-45ec-b3d0-422872cf389e",
   "metadata": {},
   "outputs": [],
   "source": []
  },
  {
   "cell_type": "code",
   "execution_count": 84,
   "id": "94feb95a-ad3c-4959-a3bd-bc45fe0f5e9d",
   "metadata": {},
   "outputs": [
    {
     "ename": "RuntimeError",
     "evalue": "The size of tensor a (3) must match the size of tensor b (5) at non-singleton dimension 1",
     "output_type": "error",
     "traceback": [
      "\u001b[1;31m---------------------------------------------------------------------------\u001b[0m",
      "\u001b[1;31mRuntimeError\u001b[0m                              Traceback (most recent call last)",
      "Input \u001b[1;32mIn [84]\u001b[0m, in \u001b[0;36m<cell line: 3>\u001b[1;34m()\u001b[0m\n\u001b[0;32m      5\u001b[0m y_one \u001b[38;5;241m=\u001b[39m torch\u001b[38;5;241m.\u001b[39mzeros_like(hypothesis)\n\u001b[0;32m      6\u001b[0m y_one\u001b[38;5;241m.\u001b[39mscatter_(\u001b[38;5;241m1\u001b[39m, y_train\u001b[38;5;241m.\u001b[39munsqueeze(\u001b[38;5;241m1\u001b[39m),\u001b[38;5;241m1\u001b[39m)\n\u001b[1;32m----> 7\u001b[0m cost \u001b[38;5;241m=\u001b[39m (\u001b[43my_one\u001b[49m\u001b[43m \u001b[49m\u001b[38;5;241;43m*\u001b[39;49m\u001b[43m \u001b[49m\u001b[38;5;241;43m-\u001b[39;49m\u001b[43mtorch\u001b[49m\u001b[38;5;241;43m.\u001b[39;49m\u001b[43mlog\u001b[49m\u001b[43m(\u001b[49m\u001b[43mF\u001b[49m\u001b[38;5;241;43m.\u001b[39;49m\u001b[43msoftmax\u001b[49m\u001b[43m(\u001b[49m\u001b[43mz\u001b[49m\u001b[43m,\u001b[49m\u001b[43mdim\u001b[49m\u001b[43m \u001b[49m\u001b[38;5;241;43m=\u001b[39;49m\u001b[43m \u001b[49m\u001b[38;5;241;43m1\u001b[39;49m\u001b[43m)\u001b[49m\u001b[43m)\u001b[49m)\u001b[38;5;241m.\u001b[39msum(dim \u001b[38;5;241m=\u001b[39m \u001b[38;5;241m1\u001b[39m)\u001b[38;5;241m.\u001b[39mmean()\n\u001b[0;32m      9\u001b[0m optimizer\u001b[38;5;241m.\u001b[39mzero_gard()\n\u001b[0;32m     10\u001b[0m cost\u001b[38;5;241m.\u001b[39mbackward()\n",
      "\u001b[1;31mRuntimeError\u001b[0m: The size of tensor a (3) must match the size of tensor b (5) at non-singleton dimension 1"
     ]
    }
   ],
   "source": []
  },
  {
   "cell_type": "code",
   "execution_count": null,
   "id": "134260c1-c3a7-4ccf-a48c-dd6ddb8ccd68",
   "metadata": {},
   "outputs": [],
   "source": []
  },
  {
   "cell_type": "code",
   "execution_count": null,
   "id": "8a8219a7-7dbf-4a28-a262-5c9d05aefb33",
   "metadata": {},
   "outputs": [],
   "source": []
  },
  {
   "cell_type": "code",
   "execution_count": null,
   "id": "1b6696dd-d61a-4152-8c9d-6a34e6e97acf",
   "metadata": {},
   "outputs": [],
   "source": []
  },
  {
   "cell_type": "code",
   "execution_count": null,
   "id": "2de454e5-dd28-4499-b1d8-830b5255386a",
   "metadata": {},
   "outputs": [],
   "source": []
  },
  {
   "cell_type": "code",
   "execution_count": null,
   "id": "08e444f7-3b6c-494c-9302-c4f8a49c90f7",
   "metadata": {},
   "outputs": [],
   "source": []
  },
  {
   "cell_type": "code",
   "execution_count": null,
   "id": "a95bf9f8-9565-4669-a94f-96b94b5cd2f5",
   "metadata": {},
   "outputs": [],
   "source": []
  }
 ],
 "metadata": {
  "kernelspec": {
   "display_name": "Python 3 (ipykernel)",
   "language": "python",
   "name": "python3"
  },
  "language_info": {
   "codemirror_mode": {
    "name": "ipython",
    "version": 3
   },
   "file_extension": ".py",
   "mimetype": "text/x-python",
   "name": "python",
   "nbconvert_exporter": "python",
   "pygments_lexer": "ipython3",
   "version": "3.9.12"
  }
 },
 "nbformat": 4,
 "nbformat_minor": 5
}

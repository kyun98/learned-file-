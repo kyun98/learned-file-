{
 "cells": [
  {
   "cell_type": "markdown",
   "id": "3d9f1e31-8a9e-49fa-9afb-15c83eb7062d",
   "metadata": {},
   "source": [
    "# 판다스 2"
   ]
  },
  {
   "cell_type": "code",
   "execution_count": 1,
   "id": "e918e3e6-2ca0-46a4-8711-66f3ef7ca865",
   "metadata": {},
   "outputs": [
    {
     "ename": "ImportError",
     "evalue": "DLL load failed while importing _arpack: 지정된 프로시저를 찾을 수 없습니다.",
     "output_type": "error",
     "traceback": [
      "\u001b[1;31m---------------------------------------------------------------------------\u001b[0m",
      "\u001b[1;31mImportError\u001b[0m                               Traceback (most recent call last)",
      "\u001b[1;32m~\\AppData\\Local\\Temp/ipykernel_3656/2351219987.py\u001b[0m in \u001b[0;36m<module>\u001b[1;34m\u001b[0m\n\u001b[1;32m----> 1\u001b[1;33m \u001b[1;32mimport\u001b[0m \u001b[0mseaborn\u001b[0m \u001b[1;32mas\u001b[0m \u001b[0msns\u001b[0m\u001b[1;33m\u001b[0m\u001b[1;33m\u001b[0m\u001b[0m\n\u001b[0m",
      "\u001b[1;32m~\\anaconda3\\lib\\site-packages\\seaborn\\__init__.py\u001b[0m in \u001b[0;36m<module>\u001b[1;34m\u001b[0m\n\u001b[0;32m      1\u001b[0m \u001b[1;31m# Import seaborn objects\u001b[0m\u001b[1;33m\u001b[0m\u001b[1;33m\u001b[0m\u001b[0m\n\u001b[1;32m----> 2\u001b[1;33m \u001b[1;32mfrom\u001b[0m \u001b[1;33m.\u001b[0m\u001b[0mrcmod\u001b[0m \u001b[1;32mimport\u001b[0m \u001b[1;33m*\u001b[0m  \u001b[1;31m# noqa: F401,F403\u001b[0m\u001b[1;33m\u001b[0m\u001b[1;33m\u001b[0m\u001b[0m\n\u001b[0m\u001b[0;32m      3\u001b[0m \u001b[1;32mfrom\u001b[0m \u001b[1;33m.\u001b[0m\u001b[0mutils\u001b[0m \u001b[1;32mimport\u001b[0m \u001b[1;33m*\u001b[0m  \u001b[1;31m# noqa: F401,F403\u001b[0m\u001b[1;33m\u001b[0m\u001b[1;33m\u001b[0m\u001b[0m\n\u001b[0;32m      4\u001b[0m \u001b[1;32mfrom\u001b[0m \u001b[1;33m.\u001b[0m\u001b[0mpalettes\u001b[0m \u001b[1;32mimport\u001b[0m \u001b[1;33m*\u001b[0m  \u001b[1;31m# noqa: F401,F403\u001b[0m\u001b[1;33m\u001b[0m\u001b[1;33m\u001b[0m\u001b[0m\n\u001b[0;32m      5\u001b[0m \u001b[1;32mfrom\u001b[0m \u001b[1;33m.\u001b[0m\u001b[0mrelational\u001b[0m \u001b[1;32mimport\u001b[0m \u001b[1;33m*\u001b[0m  \u001b[1;31m# noqa: F401,F403\u001b[0m\u001b[1;33m\u001b[0m\u001b[1;33m\u001b[0m\u001b[0m\n",
      "\u001b[1;32m~\\anaconda3\\lib\\site-packages\\seaborn\\rcmod.py\u001b[0m in \u001b[0;36m<module>\u001b[1;34m\u001b[0m\n\u001b[0;32m      5\u001b[0m \u001b[1;32mimport\u001b[0m \u001b[0mmatplotlib\u001b[0m \u001b[1;32mas\u001b[0m \u001b[0mmpl\u001b[0m\u001b[1;33m\u001b[0m\u001b[1;33m\u001b[0m\u001b[0m\n\u001b[0;32m      6\u001b[0m \u001b[1;32mfrom\u001b[0m \u001b[0mcycler\u001b[0m \u001b[1;32mimport\u001b[0m \u001b[0mcycler\u001b[0m\u001b[1;33m\u001b[0m\u001b[1;33m\u001b[0m\u001b[0m\n\u001b[1;32m----> 7\u001b[1;33m \u001b[1;32mfrom\u001b[0m \u001b[1;33m.\u001b[0m \u001b[1;32mimport\u001b[0m \u001b[0mpalettes\u001b[0m\u001b[1;33m\u001b[0m\u001b[1;33m\u001b[0m\u001b[0m\n\u001b[0m\u001b[0;32m      8\u001b[0m \u001b[1;33m\u001b[0m\u001b[0m\n\u001b[0;32m      9\u001b[0m \u001b[1;33m\u001b[0m\u001b[0m\n",
      "\u001b[1;32m~\\anaconda3\\lib\\site-packages\\seaborn\\palettes.py\u001b[0m in \u001b[0;36m<module>\u001b[1;34m\u001b[0m\n\u001b[0;32m      7\u001b[0m \u001b[1;32mfrom\u001b[0m \u001b[1;33m.\u001b[0m\u001b[0mexternal\u001b[0m \u001b[1;32mimport\u001b[0m \u001b[0mhusl\u001b[0m\u001b[1;33m\u001b[0m\u001b[1;33m\u001b[0m\u001b[0m\n\u001b[0;32m      8\u001b[0m \u001b[1;33m\u001b[0m\u001b[0m\n\u001b[1;32m----> 9\u001b[1;33m \u001b[1;32mfrom\u001b[0m \u001b[1;33m.\u001b[0m\u001b[0mutils\u001b[0m \u001b[1;32mimport\u001b[0m \u001b[0mdesaturate\u001b[0m\u001b[1;33m,\u001b[0m \u001b[0mget_color_cycle\u001b[0m\u001b[1;33m\u001b[0m\u001b[1;33m\u001b[0m\u001b[0m\n\u001b[0m\u001b[0;32m     10\u001b[0m \u001b[1;32mfrom\u001b[0m \u001b[1;33m.\u001b[0m\u001b[0mcolors\u001b[0m \u001b[1;32mimport\u001b[0m \u001b[0mxkcd_rgb\u001b[0m\u001b[1;33m,\u001b[0m \u001b[0mcrayons\u001b[0m\u001b[1;33m\u001b[0m\u001b[1;33m\u001b[0m\u001b[0m\n\u001b[0;32m     11\u001b[0m \u001b[1;33m\u001b[0m\u001b[0m\n",
      "\u001b[1;32m~\\anaconda3\\lib\\site-packages\\seaborn\\utils.py\u001b[0m in \u001b[0;36m<module>\u001b[1;34m\u001b[0m\n\u001b[0;32m      8\u001b[0m \u001b[1;33m\u001b[0m\u001b[0m\n\u001b[0;32m      9\u001b[0m \u001b[1;32mimport\u001b[0m \u001b[0mnumpy\u001b[0m \u001b[1;32mas\u001b[0m \u001b[0mnp\u001b[0m\u001b[1;33m\u001b[0m\u001b[1;33m\u001b[0m\u001b[0m\n\u001b[1;32m---> 10\u001b[1;33m \u001b[1;32mfrom\u001b[0m \u001b[0mscipy\u001b[0m \u001b[1;32mimport\u001b[0m \u001b[0mstats\u001b[0m\u001b[1;33m\u001b[0m\u001b[1;33m\u001b[0m\u001b[0m\n\u001b[0m\u001b[0;32m     11\u001b[0m \u001b[1;32mimport\u001b[0m \u001b[0mpandas\u001b[0m \u001b[1;32mas\u001b[0m \u001b[0mpd\u001b[0m\u001b[1;33m\u001b[0m\u001b[1;33m\u001b[0m\u001b[0m\n\u001b[0;32m     12\u001b[0m \u001b[1;32mimport\u001b[0m \u001b[0mmatplotlib\u001b[0m \u001b[1;32mas\u001b[0m \u001b[0mmpl\u001b[0m\u001b[1;33m\u001b[0m\u001b[1;33m\u001b[0m\u001b[0m\n",
      "\u001b[1;32m~\\anaconda3\\lib\\site-packages\\scipy\\stats\\__init__.py\u001b[0m in \u001b[0;36m<module>\u001b[1;34m\u001b[0m\n\u001b[0;32m    439\u001b[0m \"\"\"\n\u001b[0;32m    440\u001b[0m \u001b[1;33m\u001b[0m\u001b[0m\n\u001b[1;32m--> 441\u001b[1;33m \u001b[1;32mfrom\u001b[0m \u001b[1;33m.\u001b[0m\u001b[0mstats\u001b[0m \u001b[1;32mimport\u001b[0m \u001b[1;33m*\u001b[0m\u001b[1;33m\u001b[0m\u001b[1;33m\u001b[0m\u001b[0m\n\u001b[0m\u001b[0;32m    442\u001b[0m \u001b[1;32mfrom\u001b[0m \u001b[1;33m.\u001b[0m\u001b[0mdistributions\u001b[0m \u001b[1;32mimport\u001b[0m \u001b[1;33m*\u001b[0m\u001b[1;33m\u001b[0m\u001b[1;33m\u001b[0m\u001b[0m\n\u001b[0;32m    443\u001b[0m \u001b[1;32mfrom\u001b[0m \u001b[1;33m.\u001b[0m\u001b[0mmorestats\u001b[0m \u001b[1;32mimport\u001b[0m \u001b[1;33m*\u001b[0m\u001b[1;33m\u001b[0m\u001b[1;33m\u001b[0m\u001b[0m\n",
      "\u001b[1;32m~\\anaconda3\\lib\\site-packages\\scipy\\stats\\stats.py\u001b[0m in \u001b[0;36m<module>\u001b[1;34m\u001b[0m\n\u001b[0;32m     41\u001b[0m \u001b[1;32mimport\u001b[0m \u001b[0mscipy\u001b[0m\u001b[1;33m.\u001b[0m\u001b[0mspecial\u001b[0m \u001b[1;32mas\u001b[0m \u001b[0mspecial\u001b[0m\u001b[1;33m\u001b[0m\u001b[1;33m\u001b[0m\u001b[0m\n\u001b[0;32m     42\u001b[0m \u001b[1;32mfrom\u001b[0m \u001b[0mscipy\u001b[0m \u001b[1;32mimport\u001b[0m \u001b[0mlinalg\u001b[0m\u001b[1;33m\u001b[0m\u001b[1;33m\u001b[0m\u001b[0m\n\u001b[1;32m---> 43\u001b[1;33m \u001b[1;32mfrom\u001b[0m \u001b[1;33m.\u001b[0m \u001b[1;32mimport\u001b[0m \u001b[0mdistributions\u001b[0m\u001b[1;33m\u001b[0m\u001b[1;33m\u001b[0m\u001b[0m\n\u001b[0m\u001b[0;32m     44\u001b[0m \u001b[1;32mfrom\u001b[0m \u001b[1;33m.\u001b[0m \u001b[1;32mimport\u001b[0m \u001b[0mmstats_basic\u001b[0m\u001b[1;33m\u001b[0m\u001b[1;33m\u001b[0m\u001b[0m\n\u001b[0;32m     45\u001b[0m from ._stats_mstats_common import (_find_repeats, linregress, theilslopes,\n",
      "\u001b[1;32m~\\anaconda3\\lib\\site-packages\\scipy\\stats\\distributions.py\u001b[0m in \u001b[0;36m<module>\u001b[1;34m\u001b[0m\n\u001b[0;32m      6\u001b[0m \u001b[1;31m#       instead of `git blame -Lxxx,+x`.\u001b[0m\u001b[1;33m\u001b[0m\u001b[1;33m\u001b[0m\u001b[0m\n\u001b[0;32m      7\u001b[0m \u001b[1;31m#\u001b[0m\u001b[1;33m\u001b[0m\u001b[1;33m\u001b[0m\u001b[0m\n\u001b[1;32m----> 8\u001b[1;33m \u001b[1;32mfrom\u001b[0m \u001b[1;33m.\u001b[0m\u001b[0m_distn_infrastructure\u001b[0m \u001b[1;32mimport\u001b[0m \u001b[1;33m(\u001b[0m\u001b[0mrv_discrete\u001b[0m\u001b[1;33m,\u001b[0m \u001b[0mrv_continuous\u001b[0m\u001b[1;33m,\u001b[0m \u001b[0mrv_frozen\u001b[0m\u001b[1;33m)\u001b[0m\u001b[1;33m\u001b[0m\u001b[1;33m\u001b[0m\u001b[0m\n\u001b[0m\u001b[0;32m      9\u001b[0m \u001b[1;33m\u001b[0m\u001b[0m\n\u001b[0;32m     10\u001b[0m \u001b[1;32mfrom\u001b[0m \u001b[1;33m.\u001b[0m \u001b[1;32mimport\u001b[0m \u001b[0m_continuous_distns\u001b[0m\u001b[1;33m\u001b[0m\u001b[1;33m\u001b[0m\u001b[0m\n",
      "\u001b[1;32m~\\anaconda3\\lib\\site-packages\\scipy\\stats\\_distn_infrastructure.py\u001b[0m in \u001b[0;36m<module>\u001b[1;34m\u001b[0m\n\u001b[0;32m     22\u001b[0m \u001b[1;31m# for root finding for continuous distribution ppf, and max likelihood\u001b[0m\u001b[1;33m\u001b[0m\u001b[1;33m\u001b[0m\u001b[0m\n\u001b[0;32m     23\u001b[0m \u001b[1;31m# estimation\u001b[0m\u001b[1;33m\u001b[0m\u001b[1;33m\u001b[0m\u001b[0m\n\u001b[1;32m---> 24\u001b[1;33m \u001b[1;32mfrom\u001b[0m \u001b[0mscipy\u001b[0m \u001b[1;32mimport\u001b[0m \u001b[0moptimize\u001b[0m\u001b[1;33m\u001b[0m\u001b[1;33m\u001b[0m\u001b[0m\n\u001b[0m\u001b[0;32m     25\u001b[0m \u001b[1;33m\u001b[0m\u001b[0m\n\u001b[0;32m     26\u001b[0m \u001b[1;31m# for functions of continuous distributions (e.g. moments, entropy, cdf)\u001b[0m\u001b[1;33m\u001b[0m\u001b[1;33m\u001b[0m\u001b[0m\n",
      "\u001b[1;32m~\\anaconda3\\lib\\site-packages\\scipy\\optimize\\__init__.py\u001b[0m in \u001b[0;36m<module>\u001b[1;34m\u001b[0m\n\u001b[0;32m    398\u001b[0m \"\"\"\n\u001b[0;32m    399\u001b[0m \u001b[1;33m\u001b[0m\u001b[0m\n\u001b[1;32m--> 400\u001b[1;33m \u001b[1;32mfrom\u001b[0m \u001b[1;33m.\u001b[0m\u001b[0moptimize\u001b[0m \u001b[1;32mimport\u001b[0m \u001b[1;33m*\u001b[0m\u001b[1;33m\u001b[0m\u001b[1;33m\u001b[0m\u001b[0m\n\u001b[0m\u001b[0;32m    401\u001b[0m \u001b[1;32mfrom\u001b[0m \u001b[1;33m.\u001b[0m\u001b[0m_minimize\u001b[0m \u001b[1;32mimport\u001b[0m \u001b[1;33m*\u001b[0m\u001b[1;33m\u001b[0m\u001b[1;33m\u001b[0m\u001b[0m\n\u001b[0;32m    402\u001b[0m \u001b[1;32mfrom\u001b[0m \u001b[1;33m.\u001b[0m\u001b[0m_root\u001b[0m \u001b[1;32mimport\u001b[0m \u001b[1;33m*\u001b[0m\u001b[1;33m\u001b[0m\u001b[1;33m\u001b[0m\u001b[0m\n",
      "\u001b[1;32m~\\anaconda3\\lib\\site-packages\\scipy\\optimize\\optimize.py\u001b[0m in \u001b[0;36m<module>\u001b[1;34m\u001b[0m\n\u001b[0;32m     34\u001b[0m                          \u001b[0mline_search_wolfe2\u001b[0m \u001b[1;32mas\u001b[0m \u001b[0mline_search\u001b[0m\u001b[1;33m,\u001b[0m\u001b[1;33m\u001b[0m\u001b[1;33m\u001b[0m\u001b[0m\n\u001b[0;32m     35\u001b[0m                          LineSearchWarning)\n\u001b[1;32m---> 36\u001b[1;33m \u001b[1;32mfrom\u001b[0m \u001b[1;33m.\u001b[0m\u001b[0m_numdiff\u001b[0m \u001b[1;32mimport\u001b[0m \u001b[0mapprox_derivative\u001b[0m\u001b[1;33m\u001b[0m\u001b[1;33m\u001b[0m\u001b[0m\n\u001b[0m\u001b[0;32m     37\u001b[0m \u001b[1;32mfrom\u001b[0m \u001b[0mscipy\u001b[0m\u001b[1;33m.\u001b[0m\u001b[0m_lib\u001b[0m\u001b[1;33m.\u001b[0m\u001b[0m_util\u001b[0m \u001b[1;32mimport\u001b[0m \u001b[0mgetfullargspec_no_self\u001b[0m \u001b[1;32mas\u001b[0m \u001b[0m_getfullargspec\u001b[0m\u001b[1;33m\u001b[0m\u001b[1;33m\u001b[0m\u001b[0m\n\u001b[0;32m     38\u001b[0m \u001b[1;32mfrom\u001b[0m \u001b[0mscipy\u001b[0m\u001b[1;33m.\u001b[0m\u001b[0m_lib\u001b[0m\u001b[1;33m.\u001b[0m\u001b[0m_util\u001b[0m \u001b[1;32mimport\u001b[0m \u001b[0mMapWrapper\u001b[0m\u001b[1;33m\u001b[0m\u001b[1;33m\u001b[0m\u001b[0m\n",
      "\u001b[1;32m~\\anaconda3\\lib\\site-packages\\scipy\\optimize\\_numdiff.py\u001b[0m in \u001b[0;36m<module>\u001b[1;34m\u001b[0m\n\u001b[0;32m      4\u001b[0m \u001b[1;32mfrom\u001b[0m \u001b[0mnumpy\u001b[0m\u001b[1;33m.\u001b[0m\u001b[0mlinalg\u001b[0m \u001b[1;32mimport\u001b[0m \u001b[0mnorm\u001b[0m\u001b[1;33m\u001b[0m\u001b[1;33m\u001b[0m\u001b[0m\n\u001b[0;32m      5\u001b[0m \u001b[1;33m\u001b[0m\u001b[0m\n\u001b[1;32m----> 6\u001b[1;33m \u001b[1;32mfrom\u001b[0m \u001b[0mscipy\u001b[0m\u001b[1;33m.\u001b[0m\u001b[0msparse\u001b[0m\u001b[1;33m.\u001b[0m\u001b[0mlinalg\u001b[0m \u001b[1;32mimport\u001b[0m \u001b[0mLinearOperator\u001b[0m\u001b[1;33m\u001b[0m\u001b[1;33m\u001b[0m\u001b[0m\n\u001b[0m\u001b[0;32m      7\u001b[0m \u001b[1;32mfrom\u001b[0m \u001b[1;33m.\u001b[0m\u001b[1;33m.\u001b[0m\u001b[0msparse\u001b[0m \u001b[1;32mimport\u001b[0m \u001b[0missparse\u001b[0m\u001b[1;33m,\u001b[0m \u001b[0mcsc_matrix\u001b[0m\u001b[1;33m,\u001b[0m \u001b[0mcsr_matrix\u001b[0m\u001b[1;33m,\u001b[0m \u001b[0mcoo_matrix\u001b[0m\u001b[1;33m,\u001b[0m \u001b[0mfind\u001b[0m\u001b[1;33m\u001b[0m\u001b[1;33m\u001b[0m\u001b[0m\n\u001b[0;32m      8\u001b[0m \u001b[1;32mfrom\u001b[0m \u001b[1;33m.\u001b[0m\u001b[0m_group_columns\u001b[0m \u001b[1;32mimport\u001b[0m \u001b[0mgroup_dense\u001b[0m\u001b[1;33m,\u001b[0m \u001b[0mgroup_sparse\u001b[0m\u001b[1;33m\u001b[0m\u001b[1;33m\u001b[0m\u001b[0m\n",
      "\u001b[1;32m~\\anaconda3\\lib\\site-packages\\scipy\\sparse\\linalg\\__init__.py\u001b[0m in \u001b[0;36m<module>\u001b[1;34m\u001b[0m\n\u001b[0;32m    112\u001b[0m \u001b[1;32mfrom\u001b[0m \u001b[1;33m.\u001b[0m\u001b[0mdsolve\u001b[0m \u001b[1;32mimport\u001b[0m \u001b[1;33m*\u001b[0m\u001b[1;33m\u001b[0m\u001b[1;33m\u001b[0m\u001b[0m\n\u001b[0;32m    113\u001b[0m \u001b[1;32mfrom\u001b[0m \u001b[1;33m.\u001b[0m\u001b[0minterface\u001b[0m \u001b[1;32mimport\u001b[0m \u001b[1;33m*\u001b[0m\u001b[1;33m\u001b[0m\u001b[1;33m\u001b[0m\u001b[0m\n\u001b[1;32m--> 114\u001b[1;33m \u001b[1;32mfrom\u001b[0m \u001b[1;33m.\u001b[0m\u001b[0meigen\u001b[0m \u001b[1;32mimport\u001b[0m \u001b[1;33m*\u001b[0m\u001b[1;33m\u001b[0m\u001b[1;33m\u001b[0m\u001b[0m\n\u001b[0m\u001b[0;32m    115\u001b[0m \u001b[1;32mfrom\u001b[0m \u001b[1;33m.\u001b[0m\u001b[0mmatfuncs\u001b[0m \u001b[1;32mimport\u001b[0m \u001b[1;33m*\u001b[0m\u001b[1;33m\u001b[0m\u001b[1;33m\u001b[0m\u001b[0m\n\u001b[0;32m    116\u001b[0m \u001b[1;32mfrom\u001b[0m \u001b[1;33m.\u001b[0m\u001b[0m_onenormest\u001b[0m \u001b[1;32mimport\u001b[0m \u001b[1;33m*\u001b[0m\u001b[1;33m\u001b[0m\u001b[1;33m\u001b[0m\u001b[0m\n",
      "\u001b[1;32m~\\anaconda3\\lib\\site-packages\\scipy\\sparse\\linalg\\eigen\\__init__.py\u001b[0m in \u001b[0;36m<module>\u001b[1;34m\u001b[0m\n\u001b[0;32m      7\u001b[0m \u001b[1;33m\u001b[0m\u001b[0m\n\u001b[0;32m      8\u001b[0m \"\"\"\n\u001b[1;32m----> 9\u001b[1;33m \u001b[1;32mfrom\u001b[0m \u001b[1;33m.\u001b[0m\u001b[0marpack\u001b[0m \u001b[1;32mimport\u001b[0m \u001b[1;33m*\u001b[0m\u001b[1;33m\u001b[0m\u001b[1;33m\u001b[0m\u001b[0m\n\u001b[0m\u001b[0;32m     10\u001b[0m \u001b[1;32mfrom\u001b[0m \u001b[1;33m.\u001b[0m\u001b[0mlobpcg\u001b[0m \u001b[1;32mimport\u001b[0m \u001b[1;33m*\u001b[0m\u001b[1;33m\u001b[0m\u001b[1;33m\u001b[0m\u001b[0m\n\u001b[0;32m     11\u001b[0m \u001b[1;33m\u001b[0m\u001b[0m\n",
      "\u001b[1;32m~\\anaconda3\\lib\\site-packages\\scipy\\sparse\\linalg\\eigen\\arpack\\__init__.py\u001b[0m in \u001b[0;36m<module>\u001b[1;34m\u001b[0m\n\u001b[0;32m     18\u001b[0m \u001b[1;33m\u001b[0m\u001b[0m\n\u001b[0;32m     19\u001b[0m \"\"\"\n\u001b[1;32m---> 20\u001b[1;33m \u001b[1;32mfrom\u001b[0m \u001b[1;33m.\u001b[0m\u001b[0marpack\u001b[0m \u001b[1;32mimport\u001b[0m \u001b[1;33m*\u001b[0m\u001b[1;33m\u001b[0m\u001b[1;33m\u001b[0m\u001b[0m\n\u001b[0m",
      "\u001b[1;32m~\\anaconda3\\lib\\site-packages\\scipy\\sparse\\linalg\\eigen\\arpack\\arpack.py\u001b[0m in \u001b[0;36m<module>\u001b[1;34m\u001b[0m\n\u001b[0;32m     40\u001b[0m \u001b[0m__all__\u001b[0m \u001b[1;33m=\u001b[0m \u001b[1;33m[\u001b[0m\u001b[1;34m'eigs'\u001b[0m\u001b[1;33m,\u001b[0m \u001b[1;34m'eigsh'\u001b[0m\u001b[1;33m,\u001b[0m \u001b[1;34m'svds'\u001b[0m\u001b[1;33m,\u001b[0m \u001b[1;34m'ArpackError'\u001b[0m\u001b[1;33m,\u001b[0m \u001b[1;34m'ArpackNoConvergence'\u001b[0m\u001b[1;33m]\u001b[0m\u001b[1;33m\u001b[0m\u001b[1;33m\u001b[0m\u001b[0m\n\u001b[0;32m     41\u001b[0m \u001b[1;33m\u001b[0m\u001b[0m\n\u001b[1;32m---> 42\u001b[1;33m \u001b[1;32mfrom\u001b[0m \u001b[1;33m.\u001b[0m \u001b[1;32mimport\u001b[0m \u001b[0m_arpack\u001b[0m\u001b[1;33m\u001b[0m\u001b[1;33m\u001b[0m\u001b[0m\n\u001b[0m\u001b[0;32m     43\u001b[0m \u001b[0marpack_int\u001b[0m \u001b[1;33m=\u001b[0m \u001b[0m_arpack\u001b[0m\u001b[1;33m.\u001b[0m\u001b[0mtiming\u001b[0m\u001b[1;33m.\u001b[0m\u001b[0mnbx\u001b[0m\u001b[1;33m.\u001b[0m\u001b[0mdtype\u001b[0m\u001b[1;33m\u001b[0m\u001b[1;33m\u001b[0m\u001b[0m\n\u001b[0;32m     44\u001b[0m \u001b[1;33m\u001b[0m\u001b[0m\n",
      "\u001b[1;31mImportError\u001b[0m: DLL load failed while importing _arpack: 지정된 프로시저를 찾을 수 없습니다."
     ]
    }
   ],
   "source": [
    "import seaborn as sns"
   ]
  },
  {
   "cell_type": "code",
   "execution_count": 1,
   "id": "69a6cc05-5b64-4cf5-aff7-cac1976aef83",
   "metadata": {},
   "outputs": [],
   "source": [
    "import pandas as pd\n",
    "\n",
    "df = pd.DataFrame([[1,2],[3,4]] , \n",
    "                  index = [\"a\",\"b\"], \n",
    "                  columns = ['A','B' ]\n",
    "                  )"
   ]
  },
  {
   "cell_type": "code",
   "execution_count": 1,
   "id": "0b90348e-2d25-4bea-a2b3-5d312a077034",
   "metadata": {},
   "outputs": [],
   "source": [
    "\n",
    "\n",
    "# loc 는 문자 , iloc는 숫자로 표현\n",
    "df.iloc[1,1]              \n",
    "df.loc['b',\"B\"]\n",
    "df.loc['b'][\"B\"]                  \n",
    "df.loc[\"B\"]['b']    #이건안돼 \n",
    "df['B']\n",
    "df.B[1]                  "
   ]
  },
  {
   "cell_type": "code",
   "execution_count": 1,
   "id": "abcdf8a3-5a64-4bf0-bf37-bbfcbeb01079",
   "metadata": {},
   "outputs": [],
   "source": [
    "li1 = [1,2,3,4]\n",
    "li2 = [1,2,3,4]\n",
    "li3 = []\n",
    "\n",
    "for i in range(4):\n",
    "    a = li1[i] + li2[i]\n",
    "    li3.append(a)\n",
    "print(li3)"
   ]
  },
  {
   "cell_type": "code",
   "execution_count": 1,
   "id": "e84ccdd4-5131-4f24-9b37-431fb051f76a",
   "metadata": {},
   "outputs": [],
   "source": [
    "li1 = list(range(10))\n",
    "li2 = list(range(10))\n",
    "li3 = []\n",
    "\n",
    "for i in range(len(li1)):\n",
    "    a = li1[i] + li2[i]\n",
    "    li3.append(a)\n",
    "print(li3)"
   ]
  },
  {
   "cell_type": "code",
   "execution_count": 1,
   "id": "fdfd79c7-0ba1-468e-8beb-de93615fc249",
   "metadata": {},
   "outputs": [],
   "source": [
    "a4 = np.array(list(range(10)))\n",
    "a5 = np.array(list(range(10)))\n",
    "a6 = a4+a5\n",
    "print(a6)\n",
    "for i in range(len(li1)):\n",
    "    a = li1[i] + li2[i]\n",
    "    li3.append(a)\n",
    "print(li3)"
   ]
  },
  {
   "cell_type": "code",
   "execution_count": 1,
   "id": "712c1b4a-4808-498e-aebd-c80fec27c63e",
   "metadata": {},
   "outputs": [],
   "source": [
    "df.loc['상기'] = [95,100,80,95]\n",
    "df['주요과목'] = df['수']+df['양']+df['음']"
   ]
  },
  {
   "cell_type": "code",
   "execution_count": 1,
   "id": "667eb9d7-10e6-47a6-bc43-a306b2c140d2",
   "metadata": {},
   "outputs": [],
   "source": [
    "R 처럼 바로 인덱싱이 ㅇ나되기 때문에 ,. iloc 붙혀줘야함 \n",
    "df.iloc[2,3]\n",
    "df.iloc[2][3]                  \n",
    "df.loc[\"아\"][\"쳐\"]\n",
    "df.loc[[\"아\"],[\"쳐\",'수']]\n",
    "df.loc[[\"아\"],[\"쳐\",'수']] = 80,90"
   ]
  },
  {
   "cell_type": "code",
   "execution_count": 1,
   "id": "2b06287e-6ef4-4f58-b628-fd793bbf452c",
   "metadata": {},
   "outputs": [],
   "source": [
    "pd.read_csv()\n",
    "\n",
    "import os\n",
    "os.getcwd()\n",
    "os.chdir(\"C:/python\")\n",
    "\n",
    "pd.read_csv(\"csv_python\")"
   ]
  },
  {
   "cell_type": "code",
   "execution_count": 1,
   "id": "ec2cb3bf-4aa0-446f-82b0-92b01685f20e",
   "metadata": {},
   "outputs": [],
   "source": [
    " # 깃허브 row 주소 복사 \n",
    "\n",
    "\n",
    "address = \"https://raw.githubusercontent.com/plotly/datasets/master/auto-mpg.csv\"\n",
    "df = pd.read_csv(address)\n",
    "df.info()"
   ]
  },
  {
   "cell_type": "code",
   "execution_count": 1,
   "id": "0e2fc2f3-2850-4988-9e80-fadab324d169",
   "metadata": {},
   "outputs": [],
   "source": [
    "astype()\n",
    "\n",
    "df['horsepower'].astype(int)\n",
    "\n",
    "pd.read_excel(\"excel_exam.xlsx\")\n",
    "\n",
    "df.to_excel(\"mpg.xlsx\") # 저장하기"
   ]
  },
  {
   "cell_type": "code",
   "execution_count": 1,
   "id": "c1869410-6f7b-4fd1-bc22-a33189807dae",
   "metadata": {},
   "outputs": [],
   "source": [
    "df[:5]\n",
    "df.head()\n",
    "df.tail()\n",
    "\n",
    "\n",
    "df.count()\n",
    "df.mpg.count()"
   ]
  },
  {
   "cell_type": "code",
   "execution_count": 1,
   "id": "6744eb29-31f6-457a-bed7-95797fc68a20",
   "metadata": {},
   "outputs": [],
   "source": [
    "df[\"mpg\"].value_counts()\n",
    "\n",
    "\n",
    "\n",
    "df['cylinders'].unique()\n",
    "\n",
    "df['cylinders'].value_counts() # 일차원 시리즈에서 쓰인다. "
   ]
  },
  {
   "cell_type": "code",
   "execution_count": 1,
   "id": "4fff41a3-4ce7-4a5f-ab43-20d30805212a",
   "metadata": {},
   "outputs": [],
   "source": [
    "df.corr() # 상관관계"
   ]
  },
  {
   "cell_type": "code",
   "execution_count": 1,
   "id": "ae0b48f3-ceb7-4f5d-a712-e1ff59a56cd9",
   "metadata": {},
   "outputs": [],
   "source": [
    "import seaborn as sns\n",
    "import pandas as pd \n",
    "import numpy as np "
   ]
  },
  {
   "cell_type": "code",
   "execution_count": 1,
   "id": "f0f3f7ed-14b6-4fa8-beec-536cc6f42068",
   "metadata": {},
   "outputs": [],
   "source": [
    "# 판다스에서 범주형을 팩터가 아니라 카테고리라고 한다. \n",
    "\n",
    "df = sns.load_dataset(\"titanic\")\n",
    "sns.get_dataset_names()\n",
    "df.head(5)\n",
    "df.info()\n",
    "\n",
    "df[['pclass,''class']]\n",
    "df.isull()\n",
    "df.isnull().sum()  #is.na"
   ]
  },
  {
   "cell_type": "code",
   "execution_count": 1,
   "id": "38ae7b07-ac90-4c91-bc02-7ea22dcb2811",
   "metadata": {},
   "outputs": [],
   "source": [
    "NA , NAN \n",
    "df[\"deck\"]\n",
    "\n",
    "df[\"deck\"].value_counts()"
   ]
  },
  {
   "cell_type": "code",
   "execution_count": 1,
   "id": "eba7f199-d69e-498a-925e-7fba02dfb0c9",
   "metadata": {},
   "outputs": [],
   "source": [
    "df.isnull().sum()\n",
    "\n",
    "\n",
    "\n",
    "df.dropna(axis = 1 ).info()"
   ]
  },
  {
   "cell_type": "code",
   "execution_count": 1,
   "id": "82e7eb83-06a3-432b-a380-09b8fb7356d0",
   "metadata": {},
   "outputs": [],
   "source": [
    "df['age'] \n",
    "\n",
    "round(df['age'].mean()) # 없어도 그냥 값줌 \n",
    "\n",
    "mean_age = round(df['age'].mean(),1)\n",
    "\n",
    "#na.rm = T \n",
    "\n",
    "df['age'].fillna(mean_age)\n",
    "\n",
    "#inplace 하면 저장까지 \n",
    "\n",
    "\n",
    "df = pd.DataFrame({'A': [ 'a','a','b','a','b']\n",
    "                  , 'B' : [1,1,1,2,2] ,\n",
    "                  'C' : [1,1,2,2,2]\n",
    "                   })"
   ]
  },
  {
   "cell_type": "code",
   "execution_count": 1,
   "id": "ec07d001-e7fc-420f-9c13-4c65fd07baa3",
   "metadata": {},
   "outputs": [],
   "source": [
    "df\n",
    "df.duplicated()  #  중복되는 것 찾기\n",
    "df[\"A\"].duplicated() # A에서 중복되는 것 찾기 \n",
    "\n",
    "df.drop_duplicates() # 중복행 제거 "
   ]
  },
  {
   "cell_type": "code",
   "execution_count": 1,
   "id": "8dbde501-5a42-40af-bddb-272f5391247f",
   "metadata": {},
   "outputs": [],
   "source": [
    "# 데이터 두개 합치기 concat\n",
    "\n",
    "df1 = pd.DataFrame({'a':['a0','a1','a2'],\n",
    "                    'b':['b0','b1','b2'],\n",
    "                    'c':['c0','c1','c2']}\n",
    "                    ,index = [0,1,2])"
   ]
  },
  {
   "cell_type": "code",
   "execution_count": 1,
   "id": "e6d99c54-3bd9-4c49-9a38-d0db8ba6720e",
   "metadata": {},
   "outputs": [],
   "source": [
    "df2 = pd.DataFrame({'d':['d2','d3','d4'],\n",
    "                    'b':['b2','b3','b4'],\n",
    "                    'c':['c0','c1','c2']}\n",
    "                    ,index = [0,1,2])"
   ]
  },
  {
   "cell_type": "code",
   "execution_count": 1,
   "id": "94ca03da-66d9-456b-bedd-8a80a0da688d",
   "metadata": {},
   "outputs": [],
   "source": [
    "pd.concat([df1,df2],ignore_index = True)\n",
    "\n",
    "pd.concat([df1,df2], axis=1)\n",
    "\n",
    "pd.concat([df1,df2], axis=1, join = 'inner')\n",
    "pd.concat([df1,df2], axis=1, join = 'outer')"
   ]
  },
  {
   "cell_type": "code",
   "execution_count": 1,
   "id": "0b3fa960-f943-4b29-8c66-7468a3102682",
   "metadata": {},
   "outputs": [],
   "source": [
    "# merge 비슷함 . 함수이면서 메소드 이기도 함\n",
    "pd.merge(df1, df2) # 메소드\n",
    "df1.merge(df2)\n",
    "\n",
    "df1 = pd.DataFrame({'key':['b','b','a','c','a','a','b'],\n",
    "                    'data1':range(7)})\n",
    "\n",
    "df2 = pd.DataFrame({'key':['b','b','d'],'data2':['A','B','D',]})\n",
    "\n",
    "\n",
    "pd.merge(df1, df2 )\n",
    "pd.merge(df2, df1 )\n",
    "\n",
    "pd.merge(df1, df2, on = 'key' )\n",
    "pd.merge(df1, df2,how = 'outer' ,on = 'key' ) #합집합\n",
    "pd.merge(df1, df2,how = 'inner' ,on = 'key' ) # 교집합\n",
    "pd.merge(df1, df2,how = 'left' ,on = 'key' ) #왼쪽 기준 왼쪽은 다나오게 \n",
    "pd.merge(df1, df2,how = 'right' ,on = 'key' )"
   ]
  },
  {
   "cell_type": "code",
   "execution_count": 1,
   "id": "7ae65e64-5e77-47eb-ac3e-81fb97dab3fc",
   "metadata": {},
   "outputs": [],
   "source": [
    "b = pd.read_clipboard()\n",
    "class\tteacher\n",
    "1\tkim\n",
    "2\tpark\n",
    "3\tsong\n",
    "4\twong\n",
    "5\tyoun"
   ]
  },
  {
   "cell_type": "code",
   "execution_count": 1,
   "id": "afa98131-0ddd-475e-a49d-c5256248a2ac",
   "metadata": {},
   "outputs": [],
   "source": [
    "a = pd.read_csv(\"C:/python/python.txt\"  )\n",
    "a\n",
    "\n",
    "\n",
    "pd.merge(a,b,how='outer',on='class')\n",
    "a.iloc[12,]\n",
    "\n",
    "\n",
    "#groupby \n",
    "\n",
    "df = a \n",
    "\n",
    "# view! 주소만 복사 같은 것 , \n",
    "\n",
    "df.groupby(['']).mean()\n",
    "\n",
    "df %>% select(class,english) %>% \n",
    "group_by(class) %>% summarise(mean(english))"
   ]
  },
  {
   "cell_type": "code",
   "execution_count": 1,
   "id": "0622607a-dc57-420e-8b12-146cf3fea3a0",
   "metadata": {},
   "outputs": [],
   "source": [
    "df\n",
    "df.rename(columns={\"class\":'classes'},inplace = True)\n",
    "df.columns(\"class\":'classes')\n",
    "df.groupby(['classes']).mean()[\"english\"] # 인덱스 번호 붙히기\n",
    "\n",
    "# class 예약어 \n",
    "import pandas as pd \n",
    "\n",
    "df = pd.DataFrame({'A':[1,6], 'B':[2,7]})\n",
    "\n",
    "df['c'] = [3,8]\n",
    "\n",
    "df \n",
    "\n",
    "df.loc[2] = [1,2,3]"
   ]
  },
  {
   "cell_type": "code",
   "execution_count": 1,
   "id": "92cf9383-e58b-44bc-adcb-54ce433ab3f4",
   "metadata": {},
   "outputs": [],
   "source": [
    "df['합계'] = df['A'] + df['B'] + df['C']\n",
    "df['합계'] = df.A + df.B + df.C\n",
    "\n",
    "import numpy as np\n",
    "\n",
    "df.values() # 넘파이 형태로 변환 \n",
    "df.loc['C'].value_counts()\n",
    "\n",
    "\n",
    "df.isnull().sum()\n",
    "\n",
    "# 결측치 안지 아닌지 보는 메소드 \n",
    "# Null 은 값이 아니다. \n",
    "\n",
    "\n",
    "df = pd.read_csv(\"C:/python/python.txt\")\n",
    "df[df['english']<70 | df['math']>80]\n",
    "mask = df[(df['english']<70 )| (df['math']>80)]\n",
    "\n",
    "df[mask]"
   ]
  },
  {
   "cell_type": "code",
   "execution_count": 1,
   "id": "25acafa0-5c9f-4151-83a9-c688d4bbc51b",
   "metadata": {},
   "outputs": [],
   "source": [
    "mask = df((df['class'] > 1 ) & \n",
    "          df[(df['class'] <5 )&(df['math']>80)  ]\n",
    "\n",
    "class %in%(2,3,4)\n",
    "mask = (df['class'] > 1) & (df['class'] < 5) & (df['math'] >= 80)\n",
    "df[mask]\n",
    "mask=([df['class']] in [1,2,3]) & (df['math']>=80)\n",
    "\n",
    "##\n",
    "df\n",
    "df.query('math == 50') # 여기서는 대괄호 안들어가 dplyer 같은 늒미"
   ]
  },
  {
   "cell_type": "code",
   "execution_count": 1,
   "id": "999237fc-6a77-4aca-9bd6-8fdc133175c9",
   "metadata": {},
   "outputs": [],
   "source": [
    "df.query('math == 50 and classes == 1')\n",
    "\n",
    "df.rename({\"class\":\"classes\"}, axis=1, inplace= True)\n",
    "\n",
    "df\n",
    "df.query('(classes== 1 or  classes == 2) and math >50' )\n",
    "df.query('classes in[1,2,3] and math >50' )\n",
    "df['science'] = df['science'].astype('str')\n",
    "\n",
    "df.query(\"'science == 90'\") # 문자로하면 안나옴  따옴표 써주기 \n",
    "df.query(\"'science == 58'\") \n",
    "\n",
    "df.query(\"classes in [2,3,4] and math >= 50\")\n",
    "\n",
    "df.groupby(by = 'classes').mean()['math']   \n",
    "\n",
    "df.groupby( 'classes' ).max()['math']  "
   ]
  },
  {
   "cell_type": "code",
   "execution_count": 1,
   "id": "45389304-8918-45e0-bc7d-068b6d9faa11",
   "metadata": {},
   "outputs": [],
   "source": [
    "df.query('classes == [2,3]' ).groupby( 'classes' ).max()['math']\n",
    "df.query('classes == [2, 3]').groupby('classes')['math'].max()\n",
    "\n",
    "#  수학성적이 60점 ㅣ상인 학생에 대하여 영어성적의 반별평균은? \n",
    "\n",
    "df.query('math>60').groupby('classes').mean()['english']"
   ]
  },
  {
   "cell_type": "code",
   "execution_count": 21,
   "id": "d9667b73-1df6-44d2-a3d7-2fe982750061",
   "metadata": {},
   "outputs": [
    {
     "data": {
      "text/plain": [
       "classes\n",
       "1    52.500000\n",
       "2    37.500000\n",
       "3    65.000000\n",
       "4    59.666667\n",
       "5    78.000000\n",
       "Name: math, dtype: float64"
      ]
     },
     "execution_count": 21,
     "metadata": {},
     "output_type": "execute_result"
    }
   ],
   "source": [
    "import pandas as pd\n",
    "df = pd.read_csv(\"C:/python/python.txt\")\n",
    "df.rename({ \"class\":'classes'}, axis = 1,inplace = True)\n",
    "df.query('science>= 60').groupby('classes').mean()['math'] # ' ' 주의 \n",
    "df[df['science'] >= 60].groupby('classes')[['math']].mean()\n"
   ]
  },
  {
   "cell_type": "code",
   "execution_count": null,
   "id": "a8de1c19-6074-4eff-8933-cfb47ce70894",
   "metadata": {},
   "outputs": [],
   "source": []
  },
  {
   "cell_type": "code",
   "execution_count": null,
   "id": "388d896c-8b31-4b39-9128-a9d339c8d662",
   "metadata": {},
   "outputs": [],
   "source": []
  }
 ],
 "metadata": {
  "kernelspec": {
   "display_name": "Python 3 (ipykernel)",
   "language": "python",
   "name": "python3"
  },
  "language_info": {
   "codemirror_mode": {
    "name": "ipython",
    "version": 3
   },
   "file_extension": ".py",
   "mimetype": "text/x-python",
   "name": "python",
   "nbconvert_exporter": "python",
   "pygments_lexer": "ipython3",
   "version": "3.9.7"
  }
 },
 "nbformat": 4,
 "nbformat_minor": 5
}

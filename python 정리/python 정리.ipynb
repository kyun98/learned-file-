{
 "cells": [
  {
   "cell_type": "markdown",
   "id": "5404f395-374c-44aa-884a-c3333ee4576e",
   "metadata": {
    "tags": []
   },
   "source": [
    "점프 투 파이썬"
   ]
  },
  {
   "cell_type": "markdown",
   "id": "edb89330-623c-43f3-9d23-1b9da42769f7",
   "metadata": {
    "jp-MarkdownHeadingCollapsed": true,
    "tags": []
   },
   "source": [
    "# 1.파이썬이란 무엇인가?\n",
    "파이썬은 가장 많이 사용하는 컴퓨터 프로그래밍 언어이다. 각종 장점을 가지고 있다. \n",
    "\n",
    "\n",
    "1.마크다운을 통해 제목 생성 가능 \n",
    "\n",
    "2. #은 주석표시 혹은 \"\"\" \"\"\" 도 주석 표시 아니면 컨트롤 플러스 슬레시 ctrl + / \n",
    "\n",
    "3. shift enter 하면 run\n",
    "\n",
    "4.  비주얼 스튜디오나 주파이터랩 처럼에디터 프로그램 활용하기\n",
    "\n",
    "5. 파이썬 파일은 .py로 저장됨\n",
    "\n",
    "princessria@nave.com\n",
    "\n",
    "[정순진] [오후 1:26] zoom 링크 안내입니다.\n",
    "예약된 Zoom 회의에 귀하를 초대합니다.\n",
    "\n",
    "\n",
    "Zoom 회의 참가\n",
    "https://us06web.zoom.us/j/89414984338?pwd=T2VVNjQ4dHcxQU1QQjhrdWgvNDNVZz09\n",
    "\n",
    "회의 ID: 894 1498 4338\n",
    "암호: 401\n",
    "\n",
    "드라이브 \n",
    "https://drive.google.com/drive/folders/1prLttglIswKvvcd5cGytC96ziEBSHF0c?usp=sharing\n"
   ]
  },
  {
   "cell_type": "markdown",
   "id": "34340076-5746-47a3-b66a-33ccbf2cd521",
   "metadata": {},
   "source": [
    "# 2.파이썬 프로그래밍의 기초, 자료형"
   ]
  },
  {
   "cell_type": "markdown",
   "id": "10bbb9ea-bdc9-45c2-aded-9f25801496e2",
   "metadata": {},
   "source": [
    "## 2-1 숫자형"
   ]
  },
  {
   "cell_type": "markdown",
   "id": "d62c95ce-dcce-4426-afb5-9cde85803ab1",
   "metadata": {},
   "source": [
    "숫자형에는 정수형과 실수형이 있다."
   ]
  },
  {
   "cell_type": "markdown",
   "id": "3bf0b935-a66e-438b-aa52-4d11ce61d483",
   "metadata": {},
   "source": [
    "### 정수형 \n",
    " 정수형은 다음을 나타낸다. 그리고 줄여서 INT다 integer,INT  정수로 만들어 주는 함수 int()   \\d %d digit의 약어"
   ]
  },
  {
   "cell_type": "code",
   "execution_count": 122,
   "id": "b994fc35-be14-48ec-a4b5-7d82ea73a7eb",
   "metadata": {},
   "outputs": [
    {
     "name": "stdout",
     "output_type": "stream",
     "text": [
      "123\n"
     ]
    }
   ],
   "source": [
    "a = 123\n",
    "print(a)"
   ]
  },
  {
   "cell_type": "code",
   "execution_count": 123,
   "id": "30074285-f467-494b-baf1-52a4d6617ce9",
   "metadata": {},
   "outputs": [
    {
     "data": {
      "text/plain": [
       "int"
      ]
     },
     "execution_count": 123,
     "metadata": {},
     "output_type": "execute_result"
    }
   ],
   "source": [
    "type(a) #type은 괄호 안에 있는 것이 무슨 유형인지 나타나게 해준다. "
   ]
  },
  {
   "cell_type": "code",
   "execution_count": 44,
   "id": "79e9d5a0-37d5-4416-aef9-69291197ef18",
   "metadata": {},
   "outputs": [
    {
     "data": {
      "text/plain": [
       "30"
      ]
     },
     "execution_count": 44,
     "metadata": {},
     "output_type": "execute_result"
    }
   ],
   "source": [
    "len(a) #lne(a) 는 길이를 나타낸다. 나중에 평균을 구할때 길이로 나눠서 사용된다."
   ]
  },
  {
   "cell_type": "markdown",
   "id": "508c0b2a-4a46-4549-97f8-d2d0fc6c103b",
   "metadata": {},
   "source": [
    "### 실수형\n",
    "실수형은 다음과 같다. Floating number ,부동소수점  ex) 3.141592"
   ]
  },
  {
   "cell_type": "code",
   "execution_count": 6,
   "id": "f317809d-ef15-45ea-99d6-20f30178e569",
   "metadata": {},
   "outputs": [
    {
     "name": "stdout",
     "output_type": "stream",
     "text": [
      "1.2\n"
     ]
    }
   ],
   "source": [
    "a = 1.2\n",
    "print(a)"
   ]
  },
  {
   "cell_type": "code",
   "execution_count": 7,
   "id": "50480ab0-fa50-4182-b390-a454499ec9df",
   "metadata": {},
   "outputs": [
    {
     "data": {
      "text/plain": [
       "float"
      ]
     },
     "execution_count": 7,
     "metadata": {},
     "output_type": "execute_result"
    }
   ],
   "source": [
    "type(a)"
   ]
  },
  {
   "cell_type": "markdown",
   "id": "6552d7ce-09b7-49a4-9d77-f1eb807b1ac0",
   "metadata": {
    "tags": []
   },
   "source": [
    "### 연산자"
   ]
  },
  {
   "cell_type": "markdown",
   "id": "ff0c585f-3c0c-4380-ba81-d84a44edef39",
   "metadata": {},
   "source": [
    "### 기본 연산\n",
    "\n",
    "기본 사칙연산 기호는 +-*/  이다. 여기서 몫은 // 나머지는 % 이다. \n",
    "제곱은 ** 으로 나타내며 E는 10의 거듭제곱이다."
   ]
  },
  {
   "cell_type": "code",
   "execution_count": 126,
   "id": "83cbba62-93ab-42fb-9913-a0c2a805afdd",
   "metadata": {},
   "outputs": [
    {
     "data": {
      "text/plain": [
       "4224.0"
      ]
     },
     "execution_count": 126,
     "metadata": {},
     "output_type": "execute_result"
    }
   ],
   "source": [
    "4.224E3"
   ]
  },
  {
   "cell_type": "code",
   "execution_count": 13,
   "id": "f82bc42f-b9f6-4849-ba77-144a8d13d34e",
   "metadata": {},
   "outputs": [
    {
     "data": {
      "text/plain": [
       "3"
      ]
     },
     "execution_count": 13,
     "metadata": {},
     "output_type": "execute_result"
    }
   ],
   "source": [
    "7 % 4"
   ]
  },
  {
   "cell_type": "code",
   "execution_count": 14,
   "id": "aee4d0d5-7cf7-464d-8476-c2a8e5fc1f89",
   "metadata": {},
   "outputs": [
    {
     "data": {
      "text/plain": [
       "4"
      ]
     },
     "execution_count": 14,
     "metadata": {},
     "output_type": "execute_result"
    }
   ],
   "source": [
    "14 // 3 "
   ]
  },
  {
   "cell_type": "code",
   "execution_count": 15,
   "id": "88705efb-e01c-44c9-bda6-01421075e695",
   "metadata": {},
   "outputs": [
    {
     "data": {
      "text/plain": [
       "2"
      ]
     },
     "execution_count": 15,
     "metadata": {},
     "output_type": "execute_result"
    }
   ],
   "source": [
    "14 % 3"
   ]
  },
  {
   "cell_type": "markdown",
   "id": "3340b117-5f9a-4506-ae79-9cae3191b6f9",
   "metadata": {},
   "source": [
    "### import"
   ]
  },
  {
   "cell_type": "code",
   "execution_count": 286,
   "id": "978d9984-882c-4755-ad4f-dc6782183176",
   "metadata": {},
   "outputs": [
    {
     "ename": "TypeError",
     "evalue": "'int' object is not callable",
     "output_type": "error",
     "traceback": [
      "\u001b[1;31m---------------------------------------------------------------------------\u001b[0m",
      "\u001b[1;31mTypeError\u001b[0m                                 Traceback (most recent call last)",
      "\u001b[1;32m~\\AppData\\Local\\Temp/ipykernel_14696/1287959127.py\u001b[0m in \u001b[0;36m<module>\u001b[1;34m\u001b[0m\n\u001b[1;32m----> 1\u001b[1;33m \u001b[0mresult\u001b[0m \u001b[1;33m=\u001b[0m \u001b[0mint\u001b[0m\u001b[1;33m(\u001b[0m\u001b[0msum\u001b[0m\u001b[1;33m(\u001b[0m\u001b[1;33m[\u001b[0m\u001b[1;36m1\u001b[0m\u001b[1;33m,\u001b[0m\u001b[1;36m2\u001b[0m\u001b[1;33m,\u001b[0m\u001b[1;36m3\u001b[0m\u001b[1;33m]\u001b[0m\u001b[1;33m)\u001b[0m\u001b[1;33m)\u001b[0m\u001b[1;33m\u001b[0m\u001b[1;33m\u001b[0m\u001b[0m\n\u001b[0m",
      "\u001b[1;31mTypeError\u001b[0m: 'int' object is not callable"
     ]
    }
   ],
   "source": [
    "result = sum([1,2,3])"
   ]
  },
  {
   "cell_type": "code",
   "execution_count": 288,
   "id": "1afe40df-3102-48e6-b729-3b2538016165",
   "metadata": {},
   "outputs": [
    {
     "ename": "NameError",
     "evalue": "name 'sqrt' is not defined",
     "output_type": "error",
     "traceback": [
      "\u001b[1;31m---------------------------------------------------------------------------\u001b[0m",
      "\u001b[1;31mNameError\u001b[0m                                 Traceback (most recent call last)",
      "\u001b[1;32m~\\AppData\\Local\\Temp/ipykernel_14696/14130709.py\u001b[0m in \u001b[0;36m<module>\u001b[1;34m\u001b[0m\n\u001b[1;32m----> 1\u001b[1;33m \u001b[0msqrt\u001b[0m\u001b[1;33m(\u001b[0m\u001b[1;36m4\u001b[0m\u001b[1;33m)\u001b[0m \u001b[1;31m#루트가 없어,  루트함수\u001b[0m\u001b[1;33m\u001b[0m\u001b[1;33m\u001b[0m\u001b[0m\n\u001b[0m",
      "\u001b[1;31mNameError\u001b[0m: name 'sqrt' is not defined"
     ]
    }
   ],
   "source": [
    "sqrt(4) #루트가 없어,  sqrt는 루트함수이다.  "
   ]
  },
  {
   "cell_type": "code",
   "execution_count": 1,
   "id": "edbaef31-ac4b-4202-94e2-481e897f16be",
   "metadata": {},
   "outputs": [
    {
     "data": {
      "text/plain": [
       "2.0"
      ]
     },
     "execution_count": 1,
     "metadata": {},
     "output_type": "execute_result"
    }
   ],
   "source": [
    "import math # 모듈에서 가지고 오는 것 여기서 math는 모듈이고 import는 모듈을 가지고 위한 함수다.\n",
    "math.sqrt(4)"
   ]
  },
  {
   "cell_type": "code",
   "execution_count": 292,
   "id": "e1b9ac5d-fdc9-4777-a509-3b8677111487",
   "metadata": {},
   "outputs": [],
   "source": [
    "import numpy"
   ]
  },
  {
   "cell_type": "code",
   "execution_count": 294,
   "id": "44937f15-e63e-44ae-8ca2-bb61532ce501",
   "metadata": {},
   "outputs": [
    {
     "data": {
      "text/plain": [
       "2.0"
      ]
     },
     "execution_count": 294,
     "metadata": {},
     "output_type": "execute_result"
    }
   ],
   "source": [
    "numpy.sqrt(4)"
   ]
  },
  {
   "cell_type": "code",
   "execution_count": 295,
   "id": "8afeb141-f475-41f6-8c53-043a56cf3703",
   "metadata": {},
   "outputs": [
    {
     "data": {
      "text/plain": [
       "2.0"
      ]
     },
     "execution_count": 295,
     "metadata": {},
     "output_type": "execute_result"
    }
   ],
   "source": [
    "# 별칭으로 불러 오기 위해 import 한 것을 as를 사용하여 줄임\n",
    "import numpy as np\n",
    "np.sqrt(4)"
   ]
  },
  {
   "cell_type": "code",
   "execution_count": 296,
   "id": "daecf9df-d4b0-45c0-ba1f-c9013514f7f7",
   "metadata": {},
   "outputs": [
    {
     "data": {
      "text/plain": [
       "2.0"
      ]
     },
     "execution_count": 296,
     "metadata": {},
     "output_type": "execute_result"
    }
   ],
   "source": [
    "# 함수 이름으로 사용 \n",
    "from numpy import sqrt \n",
    "sqrt(4)"
   ]
  },
  {
   "cell_type": "code",
   "execution_count": 297,
   "id": "66b64242-e359-4afe-932a-3d380742b51a",
   "metadata": {},
   "outputs": [
    {
     "data": {
      "text/plain": [
       "3628800"
      ]
     },
     "execution_count": 297,
     "metadata": {},
     "output_type": "execute_result"
    }
   ],
   "source": [
    "# 퀴즈 math 라는 모듈이 있다 이 모듈을 사용하여 10! factorial 값을 구하라 더 크게 math 모듈에서 바로 불러와서 바로쓰게 만들기.\n",
    "from math import factorial\n",
    "factorial(10)"
   ]
  },
  {
   "cell_type": "code",
   "execution_count": 2,
   "id": "4b027636-2826-4b2b-b184-0e759abea80f",
   "metadata": {},
   "outputs": [
    {
     "data": {
      "text/plain": [
       "1.5707963267948966"
      ]
     },
     "execution_count": 2,
     "metadata": {},
     "output_type": "execute_result"
    }
   ],
   "source": [
    "from math import pi     # pi 는 ㅠ 파이다.\n",
    "from math import cos\n",
    "pi/2"
   ]
  },
  {
   "cell_type": "code",
   "execution_count": 304,
   "id": "ebe33c18-4503-4f2a-ab9b-49db1ac33242",
   "metadata": {},
   "outputs": [
    {
     "data": {
      "text/plain": [
       "6.123233995736766e-17"
      ]
     },
     "execution_count": 304,
     "metadata": {},
     "output_type": "execute_result"
    }
   ],
   "source": [
    "from numpy import cos\n",
    "cos(pi/2)"
   ]
  },
  {
   "cell_type": "code",
   "execution_count": 5,
   "id": "0b87138f-df96-465b-b7ec-6388fdeda982",
   "metadata": {},
   "outputs": [
    {
     "data": {
      "text/plain": [
       "6.123233995736766e-17"
      ]
     },
     "execution_count": 5,
     "metadata": {},
     "output_type": "execute_result"
    }
   ],
   "source": [
    "import numpy as np\n",
    "np.cos(pi/2)"
   ]
  },
  {
   "cell_type": "code",
   "execution_count": 311,
   "id": "1fc1c388-421f-4596-8293-4bd961be9a04",
   "metadata": {},
   "outputs": [
    {
     "data": {
      "text/plain": [
       "array([0.        , 0.11111111, 0.22222222, 0.33333333, 0.44444444,\n",
       "       0.55555556, 0.66666667, 0.77777778, 0.88888889, 1.        ])"
      ]
     },
     "execution_count": 311,
     "metadata": {},
     "output_type": "execute_result"
    }
   ],
   "source": [
    "np.linspace(0,1,10) # 선형공간 등분할 한다는 것을 의미한다 0과 1 사이를 10분할 그것을 가능하게 하는 것이 linspace"
   ]
  },
  {
   "cell_type": "code",
   "execution_count": 8,
   "id": "4051006c-197d-4649-9bc6-e46a5e47c0b6",
   "metadata": {},
   "outputs": [
    {
     "data": {
      "text/plain": [
       "array([0.        , 0.6981317 , 1.3962634 , 2.0943951 , 2.7925268 ,\n",
       "       3.4906585 , 4.1887902 , 4.88692191, 5.58505361, 6.28318531])"
      ]
     },
     "execution_count": 8,
     "metadata": {},
     "output_type": "execute_result"
    }
   ],
   "source": [
    "x = np.linspace(0,2*np.pi, 10)   # 0과 2 사이를 10분할 한것 여기서 2에다가 np.pi 파이를 곱함  pi 와 같음\n",
    "x"
   ]
  },
  {
   "cell_type": "code",
   "execution_count": 7,
   "id": "cf643726-785a-4552-a0fd-18b9380ac685",
   "metadata": {},
   "outputs": [
    {
     "data": {
      "text/plain": [
       "array([ 0.00000000e+00,  6.42787610e-01,  9.84807753e-01,  8.66025404e-01,\n",
       "        3.42020143e-01, -3.42020143e-01, -8.66025404e-01, -9.84807753e-01,\n",
       "       -6.42787610e-01, -2.44929360e-16])"
      ]
     },
     "execution_count": 7,
     "metadata": {},
     "output_type": "execute_result"
    }
   ],
   "source": [
    "np.sin(x)"
   ]
  },
  {
   "cell_type": "code",
   "execution_count": 318,
   "id": "f19db5f8-53d3-4f79-a302-af8c0349ae49",
   "metadata": {},
   "outputs": [
    {
     "data": {
      "text/plain": [
       "array([ 1.        ,  0.76604444,  0.17364818, -0.5       , -0.93969262,\n",
       "       -0.93969262, -0.5       ,  0.17364818,  0.76604444,  1.        ])"
      ]
     },
     "execution_count": 318,
     "metadata": {},
     "output_type": "execute_result"
    }
   ],
   "source": [
    "np.cos(x)"
   ]
  },
  {
   "cell_type": "code",
   "execution_count": 9,
   "id": "8006306e-0fda-4425-b426-055925255e65",
   "metadata": {},
   "outputs": [
    {
     "data": {
      "text/plain": [
       "[<matplotlib.lines.Line2D at 0x1c2b7284280>]"
      ]
     },
     "execution_count": 9,
     "metadata": {},
     "output_type": "execute_result"
    },
    {
     "data": {
      "image/png": "[encoded data removed]",
      "text/plain": [
       "<Figure size 432x288 with 1 Axes>"
      ]
     },
     "metadata": {
      "needs_background": "light"
     },
     "output_type": "display_data"
    }
   ],
   "source": [
    "import matplotlib.pyplot as plt  #플롯애서 파이 플롯 이 것을 통해 그래프로 보여줌 \n",
    "import numpy as np\n",
    "x = np.linspace(0,2*np.pi, 100)\n",
    "y = np.sin(x)\n",
    "plt.plot(x,y)\n",
    "plt.plot(x,np.cos(x))"
   ]
  },
  {
   "cell_type": "code",
   "execution_count": 324,
   "id": "66a67664-05eb-493f-b0aa-50538d881135",
   "metadata": {},
   "outputs": [
    {
     "data": {
      "text/plain": [
       "[<matplotlib.lines.Line2D at 0x244984fb250>]"
      ]
     },
     "execution_count": 324,
     "metadata": {},
     "output_type": "execute_result"
    },
    {
     "data": {
      "image/png": "[encoded data removed]",
      "text/plain": [
       "<Figure size 432x288 with 1 Axes>"
      ]
     },
     "metadata": {
      "needs_background": "light"
     },
     "output_type": "display_data"
    }
   ],
   "source": [
    "x = np.linspace(0,2*np.pi, 100)\n",
    "plt.plot(x,np.cos(x))"
   ]
  },
  {
   "cell_type": "code",
   "execution_count": 325,
   "id": "4e07fe5c-d7ee-42e1-9428-3c2f5537e6a9",
   "metadata": {},
   "outputs": [
    {
     "data": {
      "text/plain": [
       "[<matplotlib.lines.Line2D at 0x24498560ee0>]"
      ]
     },
     "execution_count": 325,
     "metadata": {},
     "output_type": "execute_result"
    },
    {
     "data": {
      "image/png": "[encoded data removed]",
      "text/plain": [
       "<Figure size 432x288 with 1 Axes>"
      ]
     },
     "metadata": {
      "needs_background": "light"
     },
     "output_type": "display_data"
    }
   ],
   "source": [
    "x = np.linspace(0,2*np.pi, 100)\n",
    "plt.plot(x,np.tan(x))"
   ]
  },
  {
   "cell_type": "markdown",
   "id": "2c6bd1fa-4fee-4465-b92d-4619cfe9dee7",
   "metadata": {},
   "source": [
    "## 2-2 문자열"
   ]
  },
  {
   "cell_type": "markdown",
   "id": "d460970b-e8d8-4593-8a71-d366c610fc0c",
   "metadata": {},
   "source": [
    "### 문자형  \n",
    "한글자 :  character  문자라고 한다.\n",
    "\n",
    "\n",
    "두글자이상 :  string 문자열 라고 우리는 약속했다 따라서 우리는 앞으로 s를 많이 볼 것이다. str\n",
    "또한 문자,단어 등으로 구성된 문자들의 집합을 의미한다.\n",
    "즉 문자형은 2가지 그중에 문자열이 있는 것"
   ]
  },
  {
   "cell_type": "code",
   "execution_count": 17,
   "id": "29fb5110-a477-44af-9bf7-68ee20f57dcc",
   "metadata": {},
   "outputs": [
    {
     "name": "stdout",
     "output_type": "stream",
     "text": [
      "hello\n"
     ]
    }
   ],
   "source": [
    "print('hello')"
   ]
  },
  {
   "cell_type": "markdown",
   "id": "468f255a-cd79-418a-9263-167a0ee4eccc",
   "metadata": {},
   "source": [
    "### 홀따옴표 쌍따옴표\n",
    "\n",
    "문자열 \"스트링\"을 정의할 때는 따옴표로 정의를 내려줘야 한다. 그래야 컴퓨터가 알아먹는다.\n",
    "\n",
    "작은 따옴표 , 큰따옴표 , 3개 다 상관 없다 하지만 문장안에 따옴표를 나타내기 위해서 혹은 구별하기 위해서 써준다. \n",
    "\n",
    "그리고 정렬할때 주로 \\t \\n을 많이 쓴다. new line tap\n",
    "\\ 백슬레시가 붙은 조합을 escape 코드 탈출문자라고 한다. 이것은프로그래밍 할때 사용할 수 있도록 미리 정의해둔 문자의 조합이다"
   ]
  },
  {
   "cell_type": "code",
   "execution_count": 20,
   "id": "4b39aa79-387d-4c74-8e15-66d3a96572d5",
   "metadata": {},
   "outputs": [
    {
     "name": "stdout",
     "output_type": "stream",
     "text": [
      "그가 '사랑해요' 라고 말했다.\n"
     ]
    }
   ],
   "source": [
    "# '그가 사랑해요 라고 말했다.' \n",
    "print(\"그가 '사랑해요' 라고 말했다.\")"
   ]
  },
  {
   "cell_type": "code",
   "execution_count": 129,
   "id": "a74d09b4-53c9-4f83-8701-4bee76eac9d9",
   "metadata": {},
   "outputs": [
    {
     "name": "stdout",
     "output_type": "stream",
     "text": [
      "그가 '사랑해요' 라고 말했다.\n",
      "        그녀도 \"나도요\"라고 말했다 \n"
     ]
    }
   ],
   "source": [
    "print('''그가 '사랑해요' 라고 말했다.\n",
    "        그녀도 \"나도요\"라고 말했다 ''')"
   ]
  },
  {
   "cell_type": "code",
   "execution_count": 25,
   "id": "d3e90687-4c47-427b-8d55-446001a07efc",
   "metadata": {},
   "outputs": [
    {
     "name": "stdout",
     "output_type": "stream",
     "text": [
      "그가 '사랑해요' 라고 말했다. \t 그녀도 \"나도요\"라고 말했다 \n"
     ]
    }
   ],
   "source": [
    "print('''그가 '사랑해요' 라고 말했다. \\t 그녀도 \"나도요\"라고 말했다 ''')"
   ]
  },
  {
   "cell_type": "code",
   "execution_count": 128,
   "id": "f73a76d3-9a47-435f-b548-b4f5153e1788",
   "metadata": {},
   "outputs": [],
   "source": [
    "# \\t 탭만큼 띄워라는 뜻이다  역 슬레시가 있는 문법들은 보통 가독성을 높혀준다.  "
   ]
  },
  {
   "cell_type": "markdown",
   "id": "c4be73eb-f3c0-4dcc-bd97-4662675a18f4",
   "metadata": {},
   "source": [
    "### 문자열의 연산 \n",
    "문자열의 연산에서 + 는 연결 \n",
    "*는 반복을 나타낸다. 나머지는 불가능하다. \n",
    "문자열의 길이를 구할때는 len()을 쓴다"
   ]
  },
  {
   "cell_type": "code",
   "execution_count": 12,
   "id": "2bcb9d1c-ecb2-4b4a-ac44-75f009a691a4",
   "metadata": {},
   "outputs": [
    {
     "data": {
      "text/plain": [
       "'pythonfun'"
      ]
     },
     "execution_count": 12,
     "metadata": {},
     "output_type": "execute_result"
    }
   ],
   "source": [
    "a = 'python'\n",
    "b = 'fun'\n",
    "a + b"
   ]
  },
  {
   "cell_type": "code",
   "execution_count": 35,
   "id": "a966fb20-d33d-47c7-9a5a-921957f3d60d",
   "metadata": {},
   "outputs": [
    {
     "data": {
      "text/plain": [
       "'pythonpython'"
      ]
     },
     "execution_count": 35,
     "metadata": {},
     "output_type": "execute_result"
    }
   ],
   "source": [
    "a*2"
   ]
  },
  {
   "cell_type": "code",
   "execution_count": 40,
   "id": "c504c909-5c10-45ca-be24-2158eabc3215",
   "metadata": {},
   "outputs": [
    {
     "name": "stdout",
     "output_type": "stream",
     "text": [
      "==============================\n"
     ]
    }
   ],
   "source": [
    "\n",
    "#...\n",
    "#...\n",
    "print('='*30)"
   ]
  },
  {
   "cell_type": "code",
   "execution_count": 45,
   "id": "489bee45-1f28-4bd7-9561-7584e99972ad",
   "metadata": {},
   "outputs": [
    {
     "name": "stdout",
     "output_type": "stream",
     "text": [
      "Life is short. You need python\n"
     ]
    }
   ],
   "source": [
    "a = 'Life is short. You need python'\n",
    "print(a)"
   ]
  },
  {
   "cell_type": "code",
   "execution_count": 46,
   "id": "c803c432-e989-413f-8525-20225579c6ea",
   "metadata": {},
   "outputs": [
    {
     "data": {
      "text/plain": [
       "30"
      ]
     },
     "execution_count": 46,
     "metadata": {},
     "output_type": "execute_result"
    }
   ],
   "source": [
    "len(a)"
   ]
  },
  {
   "cell_type": "markdown",
   "id": "23348546-07d4-46ed-b044-105fd70cee84",
   "metadata": {},
   "source": [
    "### indexing, slicing 인덱싱과 슬라이싱 ***\n",
    "인덱싱은 무엇인가를 가리킨다 , 슬라이싱은 무언가를 잘라낸다 \n",
    "\n",
    "여기서 유의해야할 것은 파이썬은 \n",
    "1. 0부터 숫자를 센다 \n",
    "2. 슬라이싱에서 마지막 숫자는 포함시키지 않는다. \n",
    "3. -0은 0과 똑같으므로 뒤부터 시작하는 -는 -1부터 시작한다.\n",
    "[]\n",
    "[:]\n",
    "1. 대괄호는 여기서 찾는다라는 것을 의미한다. \n",
    "2. 문자는 항상 \"\""
   ]
  },
  {
   "cell_type": "code",
   "execution_count": 139,
   "id": "c759e932-70b1-4bff-aacb-c8dae4cbf00f",
   "metadata": {},
   "outputs": [
    {
     "name": "stdout",
     "output_type": "stream",
     "text": [
      "Life Is short, you need python\n"
     ]
    }
   ],
   "source": [
    "a = \"Life Is short, you need python\"\n",
    "print(a)"
   ]
  },
  {
   "cell_type": "code",
   "execution_count": 50,
   "id": "587a860a-e971-4ac2-98c3-453aa6179ac9",
   "metadata": {},
   "outputs": [
    {
     "data": {
      "text/plain": [
       "'f'"
      ]
     },
     "execution_count": 50,
     "metadata": {},
     "output_type": "execute_result"
    }
   ],
   "source": [
    "a[2]"
   ]
  },
  {
   "cell_type": "code",
   "execution_count": 54,
   "id": "1615677e-d8af-4bd9-b1ac-396221530620",
   "metadata": {},
   "outputs": [
    {
     "data": {
      "text/plain": [
       "'n'"
      ]
     },
     "execution_count": 54,
     "metadata": {},
     "output_type": "execute_result"
    }
   ],
   "source": [
    "a[-1]"
   ]
  },
  {
   "cell_type": "code",
   "execution_count": 141,
   "id": "ef4ab117-31a3-47d4-9501-a0a430656db4",
   "metadata": {},
   "outputs": [
    {
     "data": {
      "text/plain": [
       "'Life'"
      ]
     },
     "execution_count": 141,
     "metadata": {},
     "output_type": "execute_result"
    }
   ],
   "source": [
    "a[0]+a[1]+a[2]+a[3] # 슬라이스와 비슷"
   ]
  },
  {
   "cell_type": "code",
   "execution_count": 57,
   "id": "998b8745-21ba-4534-9101-3559960a36d3",
   "metadata": {},
   "outputs": [
    {
     "data": {
      "text/plain": [
       "'Life'"
      ]
     },
     "execution_count": 57,
     "metadata": {},
     "output_type": "execute_result"
    }
   ],
   "source": [
    "a[0:4]"
   ]
  },
  {
   "cell_type": "code",
   "execution_count": 59,
   "id": "f334fc44-c269-485f-a47c-c533f3697d17",
   "metadata": {},
   "outputs": [
    {
     "data": {
      "text/plain": [
       "'short'"
      ]
     },
     "execution_count": 59,
     "metadata": {},
     "output_type": "execute_result"
    }
   ],
   "source": [
    "a[8:13]"
   ]
  },
  {
   "cell_type": "markdown",
   "id": "2ec5ade1-2c8a-4e73-8838-4d3e39b4f8e9",
   "metadata": {},
   "source": [
    "#### 개수를 쉽게 세는 방법\n",
    "\n",
    "1<= a < 3 \n",
    "\n",
    "1<a<3\n",
    "\n",
    "10<= a < 100 \n",
    "\n",
    "#short 5게 뻬 \n",
    "\n",
    "#nedd\n",
    "\n",
    "a[:-7]\n"
   ]
  },
  {
   "cell_type": "code",
   "execution_count": 142,
   "id": "0779c86e-b3f7-48c3-8576-6ccd4ef76c8a",
   "metadata": {},
   "outputs": [
    {
     "data": {
      "text/plain": [
       "'need'"
      ]
     },
     "execution_count": 142,
     "metadata": {},
     "output_type": "execute_result"
    }
   ],
   "source": [
    "a[-11:-7] # 마이너스로도 표현 가능"
   ]
  },
  {
   "cell_type": "code",
   "execution_count": 143,
   "id": "ad0558aa-f4c8-4f8f-b94e-f0f468e2a153",
   "metadata": {},
   "outputs": [
    {
     "data": {
      "text/plain": [
       "'Life'"
      ]
     },
     "execution_count": 143,
     "metadata": {},
     "output_type": "execute_result"
    }
   ],
   "source": [
    "a[0:4]\n",
    "a[:4] # 똑같은말"
   ]
  },
  {
   "cell_type": "code",
   "execution_count": 67,
   "id": "af22acbb-fa5b-4918-9e3d-bc70fe4080c0",
   "metadata": {},
   "outputs": [
    {
     "name": "stdout",
     "output_type": "stream",
     "text": [
      "20220222cold\n"
     ]
    }
   ],
   "source": [
    "today = '20220222cold'\n",
    "print(today)"
   ]
  },
  {
   "cell_type": "markdown",
   "id": "5b09b817-6b27-4913-a30e-25050030468a",
   "metadata": {},
   "source": [
    "'''\n",
    "1. 모두 몇글자?\n",
    "2. 세 조각\n",
    " 2022 0222 cold \n",
    " \n",
    "'''"
   ]
  },
  {
   "cell_type": "code",
   "execution_count": 69,
   "id": "764253dc-98e7-4679-b6d1-7646d0ef9159",
   "metadata": {},
   "outputs": [
    {
     "data": {
      "text/plain": [
       "12"
      ]
     },
     "execution_count": 69,
     "metadata": {},
     "output_type": "execute_result"
    }
   ],
   "source": [
    "len(today)"
   ]
  },
  {
   "cell_type": "code",
   "execution_count": 72,
   "id": "192b0b7e-71f8-4b75-bb15-f0371f067572",
   "metadata": {},
   "outputs": [
    {
     "data": {
      "text/plain": [
       "'2022'"
      ]
     },
     "execution_count": 72,
     "metadata": {},
     "output_type": "execute_result"
    }
   ],
   "source": [
    "today[0:4]"
   ]
  },
  {
   "cell_type": "code",
   "execution_count": 73,
   "id": "ce1de107-9e58-466a-bac8-4d7ed6f471db",
   "metadata": {},
   "outputs": [
    {
     "data": {
      "text/plain": [
       "'0222'"
      ]
     },
     "execution_count": 73,
     "metadata": {},
     "output_type": "execute_result"
    }
   ],
   "source": [
    "today[4:8]"
   ]
  },
  {
   "cell_type": "code",
   "execution_count": 74,
   "id": "2878bebb-28e7-42a9-ae7f-4dd5f4485b52",
   "metadata": {},
   "outputs": [
    {
     "data": {
      "text/plain": [
       "'cold'"
      ]
     },
     "execution_count": 74,
     "metadata": {},
     "output_type": "execute_result"
    }
   ],
   "source": [
    "today[8:12]"
   ]
  },
  {
   "cell_type": "code",
   "execution_count": 75,
   "id": "cc0ae212-d3bb-4cf0-ab9c-f0ab7a9f4b6a",
   "metadata": {},
   "outputs": [],
   "source": [
    "#중간에서 나누는 방법도 괜찮다 . "
   ]
  },
  {
   "cell_type": "markdown",
   "id": "ca51df1f-71e3-4705-9353-bdd768923c07",
   "metadata": {},
   "source": [
    "### formatting \n",
    "문자열 안에 특정한 값을 바꿔주는 것을 가능하게 하는 것 / 1일차 하이라이트\n",
    "\n",
    "경우 1\n",
    " \n",
    "1. %d %digit \n",
    "2. %s string\n",
    "\n",
    "\"I eat %d apples.\" % 3       일단 %d를 빈칸이라고 지정하고 그 뒤에 그 숫자는 3이야 라고 말하는 것 %s도 동일  \n",
    "\n",
    "\n",
    "경우 2\n",
    "혹은 변수를 설정하기\n",
    "number = 3\n",
    " \n",
    " ' i eat %d apples.' %number\n",
    " \n",
    "\n",
    "경우3\n",
    "변수가 2개 이상일때 \n",
    "\n",
    "number = 10 \n",
    "day = \"three\"\n",
    " \n",
    "\" i ate %d apples. so i was sick for %s days.\" %(number, day)\n",
    "\n",
    "\n",
    " 이런 % 붙은 코드들을 문자열 포맷코드라고 한다. % 겹쳐서 쓸때는 %%두번 써주기\n",
    "\n",
    "경우 4\n",
    "\n",
    ".format을 넣는다. \n",
    "이름 인덱스 혼용도 가능하다 . \n",
    "중요한것은 간단히 f 문자열 포매팅도 가능하다 . \n",
    "\n",
    "\n"
   ]
  },
  {
   "cell_type": "markdown",
   "id": "443c827f-cec8-4a91-ac81-f3780f251c50",
   "metadata": {},
   "source": []
  },
  {
   "cell_type": "code",
   "execution_count": 91,
   "id": "24ddb064-929f-40f2-8eb6-2461ae6647f7",
   "metadata": {},
   "outputs": [
    {
     "name": "stdout",
     "output_type": "stream",
     "text": [
      "I ate five apples. So I was sick two days \n"
     ]
    }
   ],
   "source": [
    "print(\"I ate five apples. So I was sick two days \")"
   ]
  },
  {
   "cell_type": "code",
   "execution_count": 93,
   "id": "b156a039-c0cd-422b-b721-ac8759bbcd1b",
   "metadata": {},
   "outputs": [
    {
     "name": "stdout",
     "output_type": "stream",
     "text": [
      "I ate five apples. So I was sick 2 days \n"
     ]
    }
   ],
   "source": [
    " number = 'five'\n",
    " day = 2 \n",
    " print(\"I ate %s apples. So I was sick %s days \" %(number, day) )  "
   ]
  },
  {
   "cell_type": "code",
   "execution_count": 144,
   "id": "ff381415-82c1-4f71-92cd-353bae843c92",
   "metadata": {},
   "outputs": [
    {
     "name": "stdout",
     "output_type": "stream",
     "text": [
      "I ate five apples. So I was sick 2 days \n"
     ]
    }
   ],
   "source": [
    "# 포멧 코드를 숫자와 같이 사용하기  .format이라는 함수를 이용할 수 있음\n",
    "\n",
    "\n",
    "number = 'five'\n",
    "day = 2 \n",
    "print(\"I ate {0} apples. So I was sick {1} days \" .format(number, day) )  "
   ]
  },
  {
   "cell_type": "code",
   "execution_count": 99,
   "id": "071043cd-c6c5-4478-a776-c6a964c3d4b2",
   "metadata": {},
   "outputs": [
    {
     "name": "stdout",
     "output_type": "stream",
     "text": [
      "I ate five apples. So I was sick 2 days \n"
     ]
    }
   ],
   "source": [
    "number = 'five'\n",
    "day = 2 \n",
    "print(f\"I ate {number} apples. So I was sick {day} days \" )  # f  스트링 "
   ]
  },
  {
   "cell_type": "code",
   "execution_count": 16,
   "id": "ab57238e-7469-4f47-b887-f8a8488c6eb0",
   "metadata": {},
   "outputs": [],
   "source": [
    "a = 'hello'"
   ]
  },
  {
   "cell_type": "code",
   "execution_count": 17,
   "id": "0967a7a9-634d-46bb-ad2e-ee3d15754be9",
   "metadata": {},
   "outputs": [
    {
     "data": {
      "text/plain": [
       "5"
      ]
     },
     "execution_count": 17,
     "metadata": {},
     "output_type": "execute_result"
    }
   ],
   "source": [
    "len(a)"
   ]
  },
  {
   "cell_type": "code",
   "execution_count": 18,
   "id": "0cac36c7-38bf-4626-bde2-f33fe8ddbeea",
   "metadata": {},
   "outputs": [
    {
     "data": {
      "text/plain": [
       "2"
      ]
     },
     "execution_count": 18,
     "metadata": {},
     "output_type": "execute_result"
    }
   ],
   "source": [
    "a.count('l')  # 무엇의 L 인가?  hello에서 l 은 몇번째? "
   ]
  },
  {
   "cell_type": "code",
   "execution_count": 19,
   "id": "9a135d2f-6be2-4050-b9d5-0f6a50ea47ad",
   "metadata": {},
   "outputs": [
    {
     "data": {
      "text/plain": [
       "2"
      ]
     },
     "execution_count": 19,
     "metadata": {},
     "output_type": "execute_result"
    }
   ],
   "source": [
    "\"hello\".count(\"l\") # 이런 순서로 써줘야 함"
   ]
  },
  {
   "cell_type": "markdown",
   "id": "4cb94535-088a-496c-8ef9-a29b8a867d9a",
   "metadata": {},
   "source": [
    "#### 객체 지향이라는 것 중요\n",
    "\n",
    "행위 대상. 동사 ()\n",
    "행위대상. 형용사\n",
    "\n",
    "\n",
    "영어   s v 같은 것이라고 생각해 . \n",
    "\n",
    "\n",
    "괄호 대괄호 중괄호 의미 \n",
    "\n",
    "대괄호는 리스트 \n",
    "중괄호는 딕셔너리\n",
    "괄호는 튜플\n",
    "\n",
    "[이 안에 있는 것 ]\n",
    "(동사 행위 , 함수 , 문법)\n",
    "{대괄호 아니고 여기서 선택}\n",
    "\n",
    " a 는 str 타입 , 굉장한 중요한 아이디어 , 객체지향 ,(object oriented)\n",
    "#뭐지?   str , int , f / 모든 종류들 다 객체다 / 문자열 \n",
    "\n",
    " car go \n",
    " 객체 : 동사, 메서드.  go() back() turn()\n",
    " , 형용사 속성 \n",
    " 객체에는 속성과 메서드가 있다. \n",
    "\n",
    " car.go()  자동차가 있고 주인공이 있고 그가 가거나 돌거나 \n",
    "\n",
    " 속성은 안붙혀 , car.color car.size\n",
    "\n",
    "행위를 하는대상은 두고 그 뒤에 동사가 되는 부분에 .을 붙혀준다. 동사일 경우 \n",
    "그 안에 어떻게 동사가 이뤄지는지를 설명하기 위해 () 괄호 \n",
    "형용사는 그냥 . 붙히고 끝 \n",
    "\n",
    "a = 'hello'\n",
    "\n",
    " 그러면 a는 객체 \n",
    "\n",
    " a라는 객체에서 a.   .tap \n",
    " b=2"
   ]
  },
  {
   "cell_type": "code",
   "execution_count": 109,
   "id": "0504b83b-391c-406b-981e-08e1ce6a35f7",
   "metadata": {},
   "outputs": [
    {
     "data": {
      "text/plain": [
       "'hello'"
      ]
     },
     "execution_count": 109,
     "metadata": {},
     "output_type": "execute_result"
    }
   ],
   "source": [
    "\"Hello\".lower() # 소문자로 바꿔줌"
   ]
  },
  {
   "cell_type": "code",
   "execution_count": 111,
   "id": "3c4387c9-7fa8-4a44-9b20-87f2f261669b",
   "metadata": {},
   "outputs": [
    {
     "data": {
      "text/plain": [
       "3"
      ]
     },
     "execution_count": 111,
     "metadata": {},
     "output_type": "execute_result"
    }
   ],
   "source": [
    "a.find(\"l\") #엘을 찾아라"
   ]
  },
  {
   "cell_type": "code",
   "execution_count": 147,
   "id": "4ed854be-c004-4afc-9669-897a0cc149e4",
   "metadata": {},
   "outputs": [
    {
     "data": {
      "text/plain": [
       "'a!b!c!d'"
      ]
     },
     "execution_count": 147,
     "metadata": {},
     "output_type": "execute_result"
    }
   ],
   "source": [
    "\"!\".join(\"abcd\")  # 문자열\"abcd\"을 ! 사이에 삽입하라"
   ]
  },
  {
   "cell_type": "code",
   "execution_count": 148,
   "id": "496ba7fc-0a73-417f-8ba6-92c35841a1a1",
   "metadata": {},
   "outputs": [
    {
     "data": {
      "text/plain": [
       "'Hello'"
      ]
     },
     "execution_count": 148,
     "metadata": {},
     "output_type": "execute_result"
    }
   ],
   "source": [
    "'hello'.upper().lower().capitalize() # 다 수행하고 결국 마지막에 남은 것으로 된다"
   ]
  },
  {
   "cell_type": "code",
   "execution_count": 151,
   "id": "547924f2-a38e-4694-b027-ebe734c97898",
   "metadata": {},
   "outputs": [],
   "source": [
    "a = \"    hello  \""
   ]
  },
  {
   "cell_type": "code",
   "execution_count": 152,
   "id": "0d3a9223-7a7b-4c5f-a2e1-11ec170e7df2",
   "metadata": {},
   "outputs": [
    {
     "data": {
      "text/plain": [
       "11"
      ]
     },
     "execution_count": 152,
     "metadata": {},
     "output_type": "execute_result"
    }
   ],
   "source": [
    "len(a)"
   ]
  },
  {
   "cell_type": "code",
   "execution_count": 153,
   "id": "0d7c7175-d80d-4b84-85ec-3b3e07f4753e",
   "metadata": {},
   "outputs": [
    {
     "data": {
      "text/plain": [
       "'hello'"
      ]
     },
     "execution_count": 153,
     "metadata": {},
     "output_type": "execute_result"
    }
   ],
   "source": [
    "a.strip() # 공백을 없애라"
   ]
  },
  {
   "cell_type": "code",
   "execution_count": 154,
   "id": "63567dda-5f25-4183-a384-37b8cca9e364",
   "metadata": {},
   "outputs": [
    {
     "data": {
      "text/plain": [
       "'    hi  '"
      ]
     },
     "execution_count": 154,
     "metadata": {},
     "output_type": "execute_result"
    }
   ],
   "source": [
    "a.replace(\"hello\",'hi')"
   ]
  },
  {
   "cell_type": "code",
   "execution_count": 155,
   "id": "aa8e03a4-5784-4493-818f-bec40b2c9836",
   "metadata": {},
   "outputs": [
    {
     "name": "stdin",
     "output_type": "stream",
     "text": [
      " a,b,c,d\n"
     ]
    },
    {
     "data": {
      "text/plain": [
       "['a,b,c,d']"
      ]
     },
     "execution_count": 155,
     "metadata": {},
     "output_type": "execute_result"
    }
   ],
   "source": [
    "input().split() # 투입하고 나눈다 공백에 따라서 "
   ]
  },
  {
   "cell_type": "code",
   "execution_count": 120,
   "id": "0d5c2d2b-93c0-4ae6-8c95-b54dfaa9dabd",
   "metadata": {},
   "outputs": [
    {
     "name": "stdin",
     "output_type": "stream",
     "text": [
      " a,b,c,d\n"
     ]
    },
    {
     "data": {
      "text/plain": [
       "['a', 'b', 'c', 'd']"
      ]
     },
     "execution_count": 120,
     "metadata": {},
     "output_type": "execute_result"
    }
   ],
   "source": [
    "input().split(',')"
   ]
  },
  {
   "cell_type": "code",
   "execution_count": 121,
   "id": "5cca4860-2bb6-492b-b816-ffc4f23ad285",
   "metadata": {},
   "outputs": [
    {
     "data": {
      "text/plain": [
       "'    Hello  '"
      ]
     },
     "execution_count": 121,
     "metadata": {},
     "output_type": "execute_result"
    }
   ],
   "source": [
    "a.title() #제목을 어떻게 하냐 "
   ]
  },
  {
   "cell_type": "markdown",
   "id": "b336530f-d1b4-48be-b3b6-accc0ca0471e",
   "metadata": {},
   "source": [
    "#### 2단원 복습 정리\n",
    "\n",
    "\n",
    "1.공백 지우기 strip\n",
    "\n",
    "2. replace 문자열 바꾸기 ('a','b') a를 b로 바꾸기 \n",
    "\n",
    "',' join(adcd)\n",
    "\n",
    "포매팅 다시 보기 !!! / \n"
   ]
  },
  {
   "cell_type": "code",
   "execution_count": 1,
   "id": "bc13a2a1-eb32-4cb9-a71d-6dfbc8543ca0",
   "metadata": {},
   "outputs": [
    {
     "data": {
      "text/plain": [
       "'2022/02/22'"
      ]
     },
     "execution_count": 1,
     "metadata": {},
     "output_type": "execute_result"
    }
   ],
   "source": [
    "#문제\n",
    "x = '2022-02-22'\n",
    "\n",
    "x.replace('-','/')"
   ]
  },
  {
   "cell_type": "markdown",
   "id": "60733d4d-d12c-44a3-91dc-f990dc32528b",
   "metadata": {},
   "source": [
    "## 2-3 리스트  \n",
    "리스트와 딕셔너리는 정말 중요해"
   ]
  },
  {
   "cell_type": "markdown",
   "id": "1c318307-0bc0-41f9-99ae-7ad03642d6d7",
   "metadata": {},
   "source": [
    "컴퓨터 자료형에서 숫자형, 문자형, 참거짓형 \n",
    "\n",
    "언어와 상관없이 모든 언어에서 처음하는 형태 \n",
    "\n",
    "파이썬 고유형 : 리스트 , 튜플, 딕셔너리 , 세트 집합 / 파이썬이 쉬운 이유 ! \n",
    "\n",
    "별표는 에러 , 컴프 엔터 \n"
   ]
  },
  {
   "cell_type": "code",
   "execution_count": 3,
   "id": "bf063ece-fce5-411a-a2de-adb416fb2f94",
   "metadata": {},
   "outputs": [
    {
     "name": "stdout",
     "output_type": "stream",
     "text": [
      "1\n"
     ]
    }
   ],
   "source": [
    "a = 1\n",
    "print(a)"
   ]
  },
  {
   "cell_type": "code",
   "execution_count": 9,
   "id": "2393c45b-ed6e-4270-97a8-8a210639e28e",
   "metadata": {},
   "outputs": [
    {
     "name": "stdout",
     "output_type": "stream",
     "text": [
      "[1, 2, 3]\n"
     ]
    }
   ],
   "source": [
    "b = [1,2,3]\n",
    "print(b)"
   ]
  },
  {
   "cell_type": "code",
   "execution_count": 5,
   "id": "67efafe7-3da6-42bd-9bef-e62380ec4e5a",
   "metadata": {},
   "outputs": [],
   "source": [
    "#복수형 일때 묶어줘야해 묶어주는 기호가 [] 대괄호이다 "
   ]
  },
  {
   "cell_type": "code",
   "execution_count": 7,
   "id": "bdfbe2cb-3d3a-4655-b922-c77deecbd0a5",
   "metadata": {},
   "outputs": [
    {
     "data": {
      "text/plain": [
       "float"
      ]
     },
     "execution_count": 7,
     "metadata": {},
     "output_type": "execute_result"
    }
   ],
   "source": [
    "a = 1.0 \n",
    "type(a)"
   ]
  },
  {
   "cell_type": "code",
   "execution_count": 10,
   "id": "3f411823-597c-4f8a-9075-4035eeeebfcd",
   "metadata": {},
   "outputs": [
    {
     "data": {
      "text/plain": [
       "list"
      ]
     },
     "execution_count": 10,
     "metadata": {},
     "output_type": "execute_result"
    }
   ],
   "source": [
    "type(b)"
   ]
  },
  {
   "cell_type": "markdown",
   "id": "cf9088a9-ef06-4064-9c4c-1c3c9a8b87b6",
   "metadata": {},
   "source": [
    "- 리스트 만들기 <>\n",
    " []로 묶어준다.\n",
    " \n",
    " 만들기, 접근, 수정, 삭제  \n",
    " a = print\n",
    " C R U D\n",
    "create, read , update , delete \n"
   ]
  },
  {
   "cell_type": "code",
   "execution_count": 12,
   "id": "55d3af1f-489e-442b-b47f-543c7daa891e",
   "metadata": {},
   "outputs": [
    {
     "name": "stdout",
     "output_type": "stream",
     "text": [
      "[1, 2, '철수', '영희', [11, 10, 12, 'hello']]\n"
     ]
    }
   ],
   "source": [
    "a = [1,2,\"철수\",'영희', [11,10,12, 'hello']]\n",
    "print(a)"
   ]
  },
  {
   "cell_type": "code",
   "execution_count": 16,
   "id": "3952d378-98a1-488e-ae0b-42a388022cc3",
   "metadata": {},
   "outputs": [
    {
     "data": {
      "text/plain": [
       "5"
      ]
     },
     "execution_count": 16,
     "metadata": {},
     "output_type": "execute_result"
    }
   ],
   "source": [
    "len(a)"
   ]
  },
  {
   "cell_type": "markdown",
   "id": "761bb0b3-a1e3-4bb8-94a7-4fb9a63c0f35",
   "metadata": {},
   "source": [
    "#### 접근하기 - 인덱싱과 슬라이싱\n",
    "인덱스 안에서도 슬라이싱과 인덱싱이 가능하다"
   ]
  },
  {
   "cell_type": "code",
   "execution_count": 31,
   "id": "52c330ed-f8b9-4cfb-a510-8de004422911",
   "metadata": {},
   "outputs": [
    {
     "name": "stdout",
     "output_type": "stream",
     "text": [
      "[1, 2, '철수', '영희', [11, 10, 12, 'hello']]\n"
     ]
    }
   ],
   "source": [
    "a = [1,2,\"철수\",'영희', [11,10,12, 'hello']]  # nested list 중첩리스트\n",
    "print(a)"
   ]
  },
  {
   "cell_type": "code",
   "execution_count": 21,
   "id": "0e12c5ca-ab02-463b-a86e-adbc05a55470",
   "metadata": {},
   "outputs": [
    {
     "data": {
      "text/plain": [
       "'철수'"
      ]
     },
     "execution_count": 21,
     "metadata": {},
     "output_type": "execute_result"
    }
   ],
   "source": [
    "a[2]  # 0 1 2  #접근도 대괄호 와이 ?  자판에 키보드가 한정되기 때문에 그냥 그 기호로 쓰는 것 "
   ]
  },
  {
   "cell_type": "code",
   "execution_count": 23,
   "id": "bbc4667b-d8a8-43de-a643-59a3621c3182",
   "metadata": {},
   "outputs": [
    {
     "data": {
      "text/plain": [
       "[11, 10, 12, 'hello']"
      ]
     },
     "execution_count": 23,
     "metadata": {},
     "output_type": "execute_result"
    }
   ],
   "source": [
    "a[4] #  콕콕 찍기는 인덱싱"
   ]
  },
  {
   "cell_type": "code",
   "execution_count": 28,
   "id": "4930f23d-f967-4e4b-ac6a-1769fc56abb5",
   "metadata": {},
   "outputs": [
    {
     "data": {
      "text/plain": [
       "12"
      ]
     },
     "execution_count": 28,
     "metadata": {},
     "output_type": "execute_result"
    }
   ],
   "source": [
    "a[4][2] #같이 써주는 구나 "
   ]
  },
  {
   "cell_type": "code",
   "execution_count": 29,
   "id": "f63fd490-1380-4cb2-8773-c44fc8364acd",
   "metadata": {},
   "outputs": [
    {
     "data": {
      "text/plain": [
       "'llo'"
      ]
     },
     "execution_count": 29,
     "metadata": {},
     "output_type": "execute_result"
    }
   ],
   "source": [
    "### llo만 출력\n",
    "a[4][3][2:]"
   ]
  },
  {
   "cell_type": "code",
   "execution_count": 37,
   "id": "f61ed31e-2746-464c-8aac-d9f694db1c41",
   "metadata": {},
   "outputs": [
    {
     "data": {
      "text/plain": [
       "[2, 3]"
      ]
     },
     "execution_count": 37,
     "metadata": {},
     "output_type": "execute_result"
    }
   ],
   "source": [
    "A = [1,2,3,4,5]\n",
    "A[1:3]"
   ]
  },
  {
   "cell_type": "markdown",
   "id": "11c490b9-49e6-470b-9739-92903f719b77",
   "metadata": {},
   "source": [
    "#### 리스트의 연산하기 "
   ]
  },
  {
   "cell_type": "code",
   "execution_count": 38,
   "id": "f9286b7b-eafa-4f19-8b18-7017358787eb",
   "metadata": {},
   "outputs": [],
   "source": [
    "a = [1,2,3]\n",
    "b = [4,5,6]"
   ]
  },
  {
   "cell_type": "code",
   "execution_count": 39,
   "id": "bc51be04-9825-4070-92ef-2b23d4b68a1e",
   "metadata": {},
   "outputs": [
    {
     "data": {
      "text/plain": [
       "[1, 2, 3, 4, 5, 6]"
      ]
     },
     "execution_count": 39,
     "metadata": {},
     "output_type": "execute_result"
    }
   ],
   "source": [
    "a+b"
   ]
  },
  {
   "cell_type": "code",
   "execution_count": 40,
   "id": "ca9b1686-3afa-4926-b437-ad9c17fc2124",
   "metadata": {},
   "outputs": [
    {
     "data": {
      "text/plain": [
       "[1, 2, 3, 1, 2, 3]"
      ]
     },
     "execution_count": 40,
     "metadata": {},
     "output_type": "execute_result"
    }
   ],
   "source": [
    "a*2"
   ]
  },
  {
   "cell_type": "code",
   "execution_count": 41,
   "id": "0fcb6647-be59-4967-a98b-67793cb2f5db",
   "metadata": {},
   "outputs": [],
   "source": [
    "del(a[1])"
   ]
  },
  {
   "cell_type": "code",
   "execution_count": 42,
   "id": "2e454812-fd49-4773-8f4c-9a6440ce5f26",
   "metadata": {},
   "outputs": [
    {
     "name": "stdout",
     "output_type": "stream",
     "text": [
      "[1, 3]\n"
     ]
    }
   ],
   "source": [
    "print(a)"
   ]
  },
  {
   "cell_type": "markdown",
   "id": "84964034-f95a-4b63-ac4f-26136591b7de",
   "metadata": {},
   "source": [
    "####  수정하기 \n"
   ]
  },
  {
   "cell_type": "code",
   "execution_count": 22,
   "id": "33f7daf1-d58a-4ed6-bff6-d2cf83dc2119",
   "metadata": {},
   "outputs": [],
   "source": [
    "a = [1,2,3]"
   ]
  },
  {
   "cell_type": "code",
   "execution_count": 20,
   "id": "25ba857f-df21-4628-b349-0ef21cdeca43",
   "metadata": {},
   "outputs": [],
   "source": [
    "# 가장중요한 것은 등호에 달려 있다 등호는 , 변수에서 중요하게 쓰인다 a= b 시차가 있다. 오른쪽이 올드 오른쪽에서 왼쪽 전혀 같지 않아.  같다는 == \n",
    "# a <- b 밀고 들어가는 것 \n",
    "#따라서 = 는 덮어쓴다는 의미이다.  2가 20으로 바뀐다."
   ]
  },
  {
   "cell_type": "code",
   "execution_count": 47,
   "id": "41608da9-731e-446d-9079-7153def5a123",
   "metadata": {},
   "outputs": [
    {
     "ename": "SyntaxError",
     "evalue": "cannot assign to literal (Temp/ipykernel_604/390167626.py, line 1)",
     "output_type": "error",
     "traceback": [
      "\u001b[1;36m  File \u001b[1;32m\"C:\\Users\\kyun\\AppData\\Local\\Temp/ipykernel_604/390167626.py\"\u001b[1;36m, line \u001b[1;32m1\u001b[0m\n\u001b[1;33m    2= 20\u001b[0m\n\u001b[1;37m    ^\u001b[0m\n\u001b[1;31mSyntaxError\u001b[0m\u001b[1;31m:\u001b[0m cannot assign to literal\n"
     ]
    }
   ],
   "source": [
    " # 2 = 20\n",
    " # 2 <-20 \n",
    " # a[1] = 20 이런 논리로 가는 것 "
   ]
  },
  {
   "cell_type": "code",
   "execution_count": 48,
   "id": "0aab119f-c900-4169-b844-6a7d2dd6f529",
   "metadata": {},
   "outputs": [],
   "source": [
    "a[1] = 20 #이런 논리로 가는 것 "
   ]
  },
  {
   "cell_type": "code",
   "execution_count": 50,
   "id": "cf98187f-32cf-4a70-aa37-73b38ebcfabc",
   "metadata": {},
   "outputs": [
    {
     "data": {
      "text/plain": [
       "[1, 20, 3]"
      ]
     },
     "execution_count": 50,
     "metadata": {},
     "output_type": "execute_result"
    }
   ],
   "source": [
    "a"
   ]
  },
  {
   "cell_type": "code",
   "execution_count": null,
   "id": "35afde8c-4fe5-47be-abfc-d71733dc29d6",
   "metadata": {},
   "outputs": [],
   "source": [
    "#리스트의 수정\n",
    "a = [ 1,2 ,[\"고양이\",\"소\"],[2,1,\"강아지\"]] \n",
    "print(a[3][2])\n",
    "a[3][2] = \"고양이\"\n",
    "a"
   ]
  },
  {
   "cell_type": "code",
   "execution_count": 51,
   "id": "2bd495ab-b626-4b90-bdc5-573c8b0fbd3e",
   "metadata": {},
   "outputs": [],
   "source": [
    "a[2] = 30"
   ]
  },
  {
   "cell_type": "code",
   "execution_count": 52,
   "id": "72e13bb9-3288-407c-84f6-c65b43e398ac",
   "metadata": {},
   "outputs": [
    {
     "data": {
      "text/plain": [
       "[1, 20, 30]"
      ]
     },
     "execution_count": 52,
     "metadata": {},
     "output_type": "execute_result"
    }
   ],
   "source": [
    "a"
   ]
  },
  {
   "cell_type": "code",
   "execution_count": 23,
   "id": "48ac96f9-164c-48f1-bab2-af967906e2a3",
   "metadata": {},
   "outputs": [],
   "source": [
    "del a[1] # del은 삭제한다는 의미 "
   ]
  },
  {
   "cell_type": "code",
   "execution_count": 55,
   "id": "f5411b70-bc5e-4b11-aff7-b9364e1e87be",
   "metadata": {},
   "outputs": [
    {
     "data": {
      "text/plain": [
       "[1, 30]"
      ]
     },
     "execution_count": 55,
     "metadata": {},
     "output_type": "execute_result"
    }
   ],
   "source": [
    "a"
   ]
  },
  {
   "cell_type": "code",
   "execution_count": 59,
   "id": "f4cd00fd-309d-4715-bcdb-1b8a020fcb63",
   "metadata": {},
   "outputs": [
    {
     "name": "stdout",
     "output_type": "stream",
     "text": [
      "[1, 2]\n"
     ]
    }
   ],
   "source": [
    "a = [1,2,3,4,5]\n",
    "\n",
    "del a[2:]\n",
    "print(a)"
   ]
  },
  {
   "cell_type": "markdown",
   "id": "6d7a99a5-e3f6-494c-896f-1a987c3ae6ec",
   "metadata": {},
   "source": [
    "#### 리스트 관련 함수 "
   ]
  },
  {
   "cell_type": "code",
   "execution_count": 105,
   "id": "6ab35292-2b2e-486d-a994-babf81ea085b",
   "metadata": {},
   "outputs": [
    {
     "data": {
      "text/plain": [
       "['1', '2', '3']"
      ]
     },
     "execution_count": 105,
     "metadata": {},
     "output_type": "execute_result"
    }
   ],
   "source": [
    "a = ['1','2','3']\n",
    "a"
   ]
  },
  {
   "cell_type": "code",
   "execution_count": 106,
   "id": "d256666f-34f1-47cd-981b-1376e809c89d",
   "metadata": {},
   "outputs": [],
   "source": [
    "del a[3:]\n",
    " ### 내가지 중에서 리스트가 60~70퍼 차지 , 딕셔너리가 30퍼 차지 , 튜플 세트 거이 안써 \n",
    "    \n",
    "a.append('4')   "
   ]
  },
  {
   "cell_type": "code",
   "execution_count": 107,
   "id": "14ed91a2-99c6-4ce1-9fe6-5caea1356271",
   "metadata": {},
   "outputs": [],
   "source": [
    "a.append(\"철수\")"
   ]
  },
  {
   "cell_type": "code",
   "execution_count": 108,
   "id": "82cc929d-5409-4207-b209-71279261c9ff",
   "metadata": {},
   "outputs": [
    {
     "data": {
      "text/plain": [
       "['1', '2', '3', '4', '철수']"
      ]
     },
     "execution_count": 108,
     "metadata": {},
     "output_type": "execute_result"
    }
   ],
   "source": [
    "a"
   ]
  },
  {
   "cell_type": "code",
   "execution_count": 109,
   "id": "0ef16d8e-b46c-45ca-92f3-70cda688c9ab",
   "metadata": {},
   "outputs": [],
   "source": [
    "a.append('[1,2,3]')"
   ]
  },
  {
   "cell_type": "code",
   "execution_count": 110,
   "id": "ede0cc05-1e00-412a-b66d-405f40e4e0a4",
   "metadata": {},
   "outputs": [
    {
     "data": {
      "text/plain": [
       "['1', '2', '3', '4', '철수', '[1,2,3]']"
      ]
     },
     "execution_count": 110,
     "metadata": {},
     "output_type": "execute_result"
    }
   ],
   "source": [
    "a"
   ]
  },
  {
   "cell_type": "code",
   "execution_count": 111,
   "id": "420e98c5-a958-4091-8ee1-d2936dc05935",
   "metadata": {},
   "outputs": [],
   "source": [
    "a.sort()  # 모두 통일 시켜 주기 "
   ]
  },
  {
   "cell_type": "code",
   "execution_count": 112,
   "id": "65d4e139-bc7a-480d-980d-1e56e3ef82a9",
   "metadata": {},
   "outputs": [
    {
     "data": {
      "text/plain": [
       "['1', '2', '3', '4', '[1,2,3]', '철수']"
      ]
     },
     "execution_count": 112,
     "metadata": {},
     "output_type": "execute_result"
    }
   ],
   "source": [
    "a"
   ]
  },
  {
   "cell_type": "code",
   "execution_count": 113,
   "id": "b5a2151e-c46e-4951-8e38-213e1179ac8a",
   "metadata": {},
   "outputs": [
    {
     "data": {
      "text/plain": [
       "<function list.reverse()>"
      ]
     },
     "execution_count": 113,
     "metadata": {},
     "output_type": "execute_result"
    }
   ],
   "source": [
    "a.reverse"
   ]
  },
  {
   "cell_type": "code",
   "execution_count": 114,
   "id": "50c153e1-2c11-4cb9-8ac5-a883bd5e5e88",
   "metadata": {},
   "outputs": [
    {
     "data": {
      "text/plain": [
       "['1', '2', '3', '4', '[1,2,3]', '철수']"
      ]
     },
     "execution_count": 114,
     "metadata": {},
     "output_type": "execute_result"
    }
   ],
   "source": [
    "a"
   ]
  },
  {
   "cell_type": "code",
   "execution_count": 120,
   "id": "f93be16f-b157-44e4-aaec-15c2facf97ae",
   "metadata": {},
   "outputs": [
    {
     "data": {
      "text/plain": [
       "[4, 3, 2, 1]"
      ]
     },
     "execution_count": 120,
     "metadata": {},
     "output_type": "execute_result"
    }
   ],
   "source": [
    "a = [2,4,3,1]\n",
    "a.sort()\n",
    "a.reverse()\n",
    "a"
   ]
  },
  {
   "cell_type": "code",
   "execution_count": 122,
   "id": "6869b648-0668-4b2d-badc-0e8eb6765aee",
   "metadata": {},
   "outputs": [
    {
     "data": {
      "text/plain": [
       "1"
      ]
     },
     "execution_count": 122,
     "metadata": {},
     "output_type": "execute_result"
    }
   ],
   "source": [
    "a.index(3)\n",
    "# 원소를 말하는 것 , 이녀석의 인덱스 번호 3의 인덱스 번호는 1번  0 1 2번째니까 "
   ]
  },
  {
   "cell_type": "code",
   "execution_count": 24,
   "id": "e7d783c4-2bd1-4127-984c-6f4ed332d467",
   "metadata": {},
   "outputs": [],
   "source": [
    "a = ['철수', ' 영희']"
   ]
  },
  {
   "cell_type": "code",
   "execution_count": 25,
   "id": "b5458c1a-bd4c-447a-abca-b5e309b4a355",
   "metadata": {},
   "outputs": [
    {
     "data": {
      "text/plain": [
       "0"
      ]
     },
     "execution_count": 25,
     "metadata": {},
     "output_type": "execute_result"
    }
   ],
   "source": [
    "a.index('철수')"
   ]
  },
  {
   "cell_type": "code",
   "execution_count": 26,
   "id": "c2a45eca-ced4-41f7-8d89-1f2857e4e99a",
   "metadata": {},
   "outputs": [
    {
     "data": {
      "text/plain": [
       "['철수', '짱구', ' 영희']"
      ]
     },
     "execution_count": 26,
     "metadata": {},
     "output_type": "execute_result"
    }
   ],
   "source": [
    "a.insert(1,\"짱구\") # 2번째 자리에 짱구를 넣어준다\n",
    "a"
   ]
  },
  {
   "cell_type": "code",
   "execution_count": 27,
   "id": "8100e471-3890-4489-9442-58f4cefd6cca",
   "metadata": {},
   "outputs": [],
   "source": [
    "a.remove('짱구')\n",
    "del a[1]"
   ]
  },
  {
   "cell_type": "code",
   "execution_count": 28,
   "id": "ac95871e-0907-4a56-bd64-c7f7881b6c2a",
   "metadata": {},
   "outputs": [
    {
     "data": {
      "text/plain": [
       "'철수'"
      ]
     },
     "execution_count": 28,
     "metadata": {},
     "output_type": "execute_result"
    }
   ],
   "source": [
    "a.pop() # 빈칸이면 마지막부터 빼는 것을 보여준다. "
   ]
  },
  {
   "cell_type": "code",
   "execution_count": 49,
   "id": "a0b18c3c-aaee-4c41-a3c4-48e5c8c3a800",
   "metadata": {},
   "outputs": [
    {
     "data": {
      "text/plain": [
       "3"
      ]
     },
     "execution_count": 49,
     "metadata": {},
     "output_type": "execute_result"
    }
   ],
   "source": [
    "a = [1,2,3]\n",
    "a.pop()"
   ]
  },
  {
   "cell_type": "code",
   "execution_count": 50,
   "id": "cd46feb2-2a2d-49a1-b05f-9d771d0408cf",
   "metadata": {},
   "outputs": [],
   "source": [
    "a.append(2)"
   ]
  },
  {
   "cell_type": "code",
   "execution_count": 51,
   "id": "31986288-688d-4b27-8c19-28612cb025f8",
   "metadata": {},
   "outputs": [],
   "source": [
    "a.append(3)"
   ]
  },
  {
   "cell_type": "code",
   "execution_count": 52,
   "id": "be08e574-bad1-4282-8b96-3eae15ed4243",
   "metadata": {},
   "outputs": [
    {
     "data": {
      "text/plain": [
       "[1, 2, 2, 3]"
      ]
     },
     "execution_count": 52,
     "metadata": {},
     "output_type": "execute_result"
    }
   ],
   "source": [
    "a"
   ]
  },
  {
   "cell_type": "code",
   "execution_count": 55,
   "id": "f6801933-b641-404f-9a88-511583127e11",
   "metadata": {},
   "outputs": [
    {
     "data": {
      "text/plain": [
       "2"
      ]
     },
     "execution_count": 55,
     "metadata": {},
     "output_type": "execute_result"
    }
   ],
   "source": [
    "a.pop()"
   ]
  },
  {
   "cell_type": "code",
   "execution_count": 145,
   "id": "1dc5089a-f776-42b4-8a5c-008266f4b795",
   "metadata": {},
   "outputs": [
    {
     "data": {
      "text/plain": [
       "[]"
      ]
     },
     "execution_count": 145,
     "metadata": {},
     "output_type": "execute_result"
    }
   ],
   "source": [
    "a"
   ]
  },
  {
   "cell_type": "code",
   "execution_count": 146,
   "id": "f3999c44-c33c-4cef-810b-a0589db9f4c2",
   "metadata": {},
   "outputs": [],
   "source": [
    "# 1 들어갈 자리 확보, 빈방에 집어 넣어 , 한놈 더왔어, \n",
    "# 4번째 녀석 방이 없어 문제 임시로 방을 만들어서 붙히지 않고 방을 해체하고 방을 새로 만들어 , 그리고 옮기고 간다. \n",
    "#들어온 순서는 123 나오는 순서는 321 first in last out FILO\n",
    "# 팝 번째는 그것만 아니라면 마지막것만 "
   ]
  },
  {
   "cell_type": "code",
   "execution_count": 57,
   "id": "fc195309-fbdf-4945-b9d0-d9a5f71e5829",
   "metadata": {},
   "outputs": [
    {
     "data": {
      "text/plain": [
       "1"
      ]
     },
     "execution_count": 57,
     "metadata": {},
     "output_type": "execute_result"
    }
   ],
   "source": [
    "a.count(2)"
   ]
  },
  {
   "cell_type": "code",
   "execution_count": 148,
   "id": "12281f73-e859-4ba4-8f78-ae8bfa94c6d4",
   "metadata": {},
   "outputs": [],
   "source": [
    "a.append([4,5])  # 두개 이상은 묶어줘, 리스트는 안되네? "
   ]
  },
  {
   "cell_type": "code",
   "execution_count": 151,
   "id": "ad5fd08c-e602-4145-a260-8057607192a5",
   "metadata": {},
   "outputs": [
    {
     "data": {
      "text/plain": [
       "[[4, 5]]"
      ]
     },
     "execution_count": 151,
     "metadata": {},
     "output_type": "execute_result"
    }
   ],
   "source": [
    "type(a)\n",
    "a"
   ]
  },
  {
   "cell_type": "code",
   "execution_count": 152,
   "id": "42eae429-6d4f-421b-8a14-a7522067ec65",
   "metadata": {},
   "outputs": [],
   "source": [
    "#이러면  리스트로 들어가니 extend   써준다\n",
    "a.extend([1,2,3])"
   ]
  },
  {
   "cell_type": "code",
   "execution_count": 153,
   "id": "ec422a7f-e1d3-456c-8f87-bfb701f8064c",
   "metadata": {},
   "outputs": [
    {
     "data": {
      "text/plain": [
       "[[4, 5], 1, 2, 3]"
      ]
     },
     "execution_count": 153,
     "metadata": {},
     "output_type": "execute_result"
    }
   ],
   "source": [
    "a"
   ]
  },
  {
   "cell_type": "markdown",
   "id": "71db5a24-eb19-4911-aef6-9be3949fcd82",
   "metadata": {},
   "source": [
    "## 2-4 튜플\n",
    "-리스트와 99퍼 같다.\n",
    "\n",
    "-다른점은 수정할 수 없다. \n",
    "\n",
    "파이썬의 디폴트는 튜플이다 () 즉 생략가능"
   ]
  },
  {
   "cell_type": "code",
   "execution_count": 29,
   "id": "b98b00e3-984d-4fde-b6aa-4b14d8d90b8d",
   "metadata": {},
   "outputs": [],
   "source": [
    " a = (1,2,3)"
   ]
  },
  {
   "cell_type": "code",
   "execution_count": 30,
   "id": "886f0b47-dc62-4bf7-b5db-b76cc3fbe163",
   "metadata": {},
   "outputs": [
    {
     "name": "stdout",
     "output_type": "stream",
     "text": [
      "(1, 2, 3)\n"
     ]
    }
   ],
   "source": [
    "a = 1 ,2 ,3\n",
    "print(a)\n",
    "# 튜플이 디폴트 "
   ]
  },
  {
   "cell_type": "code",
   "execution_count": 31,
   "id": "a23b02bc-d969-4c60-8984-f2f183dfa80b",
   "metadata": {},
   "outputs": [
    {
     "data": {
      "text/plain": [
       "1"
      ]
     },
     "execution_count": 31,
     "metadata": {},
     "output_type": "execute_result"
    }
   ],
   "source": [
    "a[0]"
   ]
  },
  {
   "cell_type": "code",
   "execution_count": 32,
   "id": "45237abd-3f0a-4e79-be59-a833c90cf9a9",
   "metadata": {},
   "outputs": [
    {
     "data": {
      "text/plain": [
       "(1, 2, 3)"
      ]
     },
     "execution_count": 32,
     "metadata": {},
     "output_type": "execute_result"
    }
   ],
   "source": [
    "a[:]"
   ]
  },
  {
   "cell_type": "code",
   "execution_count": 33,
   "id": "0da34cb6-f85f-4691-af22-548111f52b44",
   "metadata": {},
   "outputs": [
    {
     "ename": "TypeError",
     "evalue": "'tuple' object does not support item assignment",
     "output_type": "error",
     "traceback": [
      "\u001b[1;31m---------------------------------------------------------------------------\u001b[0m",
      "\u001b[1;31mTypeError\u001b[0m                                 Traceback (most recent call last)",
      "\u001b[1;32m~\\AppData\\Local\\Temp/ipykernel_6644/431216296.py\u001b[0m in \u001b[0;36m<module>\u001b[1;34m\u001b[0m\n\u001b[1;32m----> 1\u001b[1;33m \u001b[0ma\u001b[0m \u001b[1;33m[\u001b[0m\u001b[1;36m1\u001b[0m\u001b[1;33m]\u001b[0m \u001b[1;33m=\u001b[0m \u001b[1;36m20\u001b[0m \u001b[1;31m# x 튜플은 불가능|\u001b[0m\u001b[1;33m\u001b[0m\u001b[1;33m\u001b[0m\u001b[0m\n\u001b[0m",
      "\u001b[1;31mTypeError\u001b[0m: 'tuple' object does not support item assignment"
     ]
    }
   ],
   "source": [
    "a [1] = 20 # x 튜플은 불가능|"
   ]
  },
  {
   "cell_type": "code",
   "execution_count": 34,
   "id": "08bf72dd-9472-4817-8819-2e2d4eff1f70",
   "metadata": {},
   "outputs": [],
   "source": [
    "a = (1, )  # 전형적 표현 방법 칸이 두칸이 아니다. \n"
   ]
  },
  {
   "cell_type": "code",
   "execution_count": 35,
   "id": "55662e19-d027-4ea0-a5de-09013e9e0d28",
   "metadata": {},
   "outputs": [
    {
     "data": {
      "text/plain": [
       "(1, 4)"
      ]
     },
     "execution_count": 35,
     "metadata": {},
     "output_type": "execute_result"
    }
   ],
   "source": [
    "a + (4,) # 하나만 더할때 (,) 써주기 "
   ]
  },
  {
   "cell_type": "markdown",
   "id": "b5154646-77c6-4d07-8463-deb9485af9a7",
   "metadata": {
    "tags": []
   },
   "source": [
    "## 2-5 딕서녀리\n",
    "dictionary \n",
    "딕셔너리는 키와 벨류를 가지고 있다. \n",
    "키는 한개 그러나 벨류는 여러가지 가능하다.\n",
    "\n",
    "중괄호로 만들며 순서가 없어인덱스가가 가능하지 않다.\n",
    "\n",
    "키 값은 리스트 불가능하다"
   ]
  },
  {
   "cell_type": "markdown",
   "id": "1acaee24-ab3e-4d07-9a38-c9cf7b607a19",
   "metadata": {},
   "source": [
    "''' 만들기\n",
    "\n",
    "    남은 중간 괄호 {} 사전 1 : 1 대응 {apple : 사과 }\n",
    "    \n",
    "#{apple : 사과, 능금 ,.... } 1:N 대응 \n",
    "\n",
    "    앞에 있는 것은 key , 뒤는  value  , 키와 벨류의 순서쌍이다. \n",
    "    \n",
    "JSON 파일이 그렇게 되어 있다.\n",
    "\n",
    "xml, JSON{Font size : 13}\n",
    "    \n",
    "    '''\n",
    "    "
   ]
  },
  {
   "cell_type": "code",
   "execution_count": 171,
   "id": "a23288a1-f6e4-49ac-92fd-499631fb7e8e",
   "metadata": {},
   "outputs": [
    {
     "data": {
      "text/plain": [
       "{'apple': '사과', 'bannana': '바나나', 'cherry': '체리'}"
      ]
     },
     "execution_count": 171,
     "metadata": {},
     "output_type": "execute_result"
    }
   ],
   "source": [
    "a = {\"apple\" : \"사과\" , \"bannana\" : \"바나나\" , \"cherry\": '체리'}\n",
    "a"
   ]
  },
  {
   "cell_type": "code",
   "execution_count": 170,
   "id": "a5ef3d54-bb6e-4d1d-854b-3e00c2104545",
   "metadata": {},
   "outputs": [
    {
     "data": {
      "text/plain": [
       "dict"
      ]
     },
     "execution_count": 170,
     "metadata": {},
     "output_type": "execute_result"
    }
   ],
   "source": [
    "type(a)"
   ]
  },
  {
   "cell_type": "code",
   "execution_count": 172,
   "id": "770c3d7a-091f-483c-894c-d58338b48658",
   "metadata": {},
   "outputs": [
    {
     "data": {
      "text/plain": [
       "'사과'"
      ]
     },
     "execution_count": 172,
     "metadata": {},
     "output_type": "execute_result"
    }
   ],
   "source": [
    "a[\"apple\"]  # 접근은 대괄호 "
   ]
  },
  {
   "cell_type": "code",
   "execution_count": 174,
   "id": "a7b1df42-dc19-4608-929c-e0778dcf7026",
   "metadata": {},
   "outputs": [
    {
     "ename": "KeyError",
     "evalue": "0",
     "output_type": "error",
     "traceback": [
      "\u001b[1;31m---------------------------------------------------------------------------\u001b[0m",
      "\u001b[1;31mKeyError\u001b[0m                                  Traceback (most recent call last)",
      "\u001b[1;32m~\\AppData\\Local\\Temp/ipykernel_604/2018977708.py\u001b[0m in \u001b[0;36m<module>\u001b[1;34m\u001b[0m\n\u001b[1;32m----> 1\u001b[1;33m \u001b[0ma\u001b[0m\u001b[1;33m[\u001b[0m\u001b[1;36m0\u001b[0m\u001b[1;33m]\u001b[0m    \u001b[1;31m# 딕셔너리는 0번 1번 2번이 되어 있지 않다. 인덱스 번호가 없다 어처피 딕셔너리니까\u001b[0m\u001b[1;33m\u001b[0m\u001b[1;33m\u001b[0m\u001b[0m\n\u001b[0m",
      "\u001b[1;31mKeyError\u001b[0m: 0"
     ]
    }
   ],
   "source": [
    "a[0]    # 딕셔너리는 0번 1번 2번이 되어 있지 않다. 인덱스 번호가 없다 어처피 딕셔너리니까  그래서 인댁스 할 수 없다. "
   ]
  },
  {
   "cell_type": "code",
   "execution_count": 175,
   "id": "a5e1438f-ca65-4268-a397-37b95a5de27a",
   "metadata": {},
   "outputs": [
    {
     "data": {
      "text/plain": [
       "dict_keys(['apple', 'bannana', 'cherry'])"
      ]
     },
     "execution_count": 175,
     "metadata": {},
     "output_type": "execute_result"
    }
   ],
   "source": [
    "a.keys()"
   ]
  },
  {
   "cell_type": "code",
   "execution_count": 177,
   "id": "463d4dda-491c-413a-9dd9-2a8c4ffe95e4",
   "metadata": {},
   "outputs": [
    {
     "data": {
      "text/plain": [
       "dict_values(['사과', '바나나', '체리'])"
      ]
     },
     "execution_count": 177,
     "metadata": {},
     "output_type": "execute_result"
    }
   ],
   "source": [
    "a.values()"
   ]
  },
  {
   "cell_type": "code",
   "execution_count": 178,
   "id": "51205cd6-7119-45f8-ab0a-6be60e3faf03",
   "metadata": {},
   "outputs": [
    {
     "data": {
      "text/plain": [
       "dict_items([('apple', '사과'), ('bannana', '바나나'), ('cherry', '체리')])"
      ]
     },
     "execution_count": 178,
     "metadata": {},
     "output_type": "execute_result"
    }
   ],
   "source": [
    "a.items()"
   ]
  },
  {
   "cell_type": "code",
   "execution_count": 179,
   "id": "87a577a9-0c4c-4406-a4c9-5a274c89501d",
   "metadata": {},
   "outputs": [],
   "source": [
    "a = {\"apple\" : \"사과\" , \"banana\" : \"바나나\" , \"cherry\": '체리'}"
   ]
  },
  {
   "cell_type": "code",
   "execution_count": 187,
   "id": "21b68588-0dcf-4a63-a784-2e05d5e6aa0e",
   "metadata": {},
   "outputs": [],
   "source": [
    "# 수정하기  바나나 말고 버네너 \n",
    "# 옛날것 = 새로운것\n"
   ]
  },
  {
   "cell_type": "code",
   "execution_count": 204,
   "id": "403ba455-eee4-4c76-9c46-71102c14f27d",
   "metadata": {},
   "outputs": [],
   "source": [
    " a[\"banana\"] = \"버네너\""
   ]
  },
  {
   "cell_type": "code",
   "execution_count": 205,
   "id": "2adc3215-5467-4c16-bb33-fef6397c114d",
   "metadata": {},
   "outputs": [],
   "source": [
    " a[\"banan\"] = \"버네너\"  # 추가가 되네 "
   ]
  },
  {
   "cell_type": "code",
   "execution_count": 206,
   "id": "e9d8850d-b125-43bb-af16-8dd139521827",
   "metadata": {},
   "outputs": [],
   "source": [
    "a = {\"apple\" : \"사과\" , \"banana\" : \"바나나\" , \"cherry\": '체리'}"
   ]
  },
  {
   "cell_type": "code",
   "execution_count": 207,
   "id": "9c8f84f3-56b0-48cf-b63b-48b1f5f1fbfe",
   "metadata": {},
   "outputs": [],
   "source": [
    "#durion : 두리안 추가\n"
   ]
  },
  {
   "cell_type": "code",
   "execution_count": 208,
   "id": "96f47752-2e5d-42a6-9a89-83174ce914df",
   "metadata": {},
   "outputs": [
    {
     "ename": "IndentationError",
     "evalue": "unexpected indent (Temp/ipykernel_604/95746151.py, line 2)",
     "output_type": "error",
     "traceback": [
      "\u001b[1;36m  File \u001b[1;32m\"C:\\Users\\kyun\\AppData\\Local\\Temp/ipykernel_604/95746151.py\"\u001b[1;36m, line \u001b[1;32m2\u001b[0m\n\u001b[1;33m    a[\"banan\"] = \"버네너\"  # 추가가 되네\u001b[0m\n\u001b[1;37m    ^\u001b[0m\n\u001b[1;31mIndentationError\u001b[0m\u001b[1;31m:\u001b[0m unexpected indent\n"
     ]
    }
   ],
   "source": [
    "a[\"durion\"] = '두리안' \n",
    "a"
   ]
  },
  {
   "cell_type": "markdown",
   "id": "c7f1b2ff-32f8-4f2b-a104-35fefeefa5e1",
   "metadata": {},
   "source": [
    "-있으면 덮어쓰고 없으면 만들어준다. "
   ]
  },
  {
   "cell_type": "code",
   "execution_count": 210,
   "id": "55fed133-afb2-4d01-9fcb-ef22df21e593",
   "metadata": {},
   "outputs": [],
   "source": [
    "del a[\"durion\"]"
   ]
  },
  {
   "cell_type": "code",
   "execution_count": 213,
   "id": "783522f4-6a85-46fe-b930-431b4695ccd6",
   "metadata": {},
   "outputs": [],
   "source": [
    "# 사과 하고 능금 ,백설공주 \n",
    "\n",
    "a[\"apple\"] = [\"사과\" , \"능금\" , \"백설공주\"] "
   ]
  },
  {
   "cell_type": "code",
   "execution_count": 214,
   "id": "9801ba27-8ca2-4747-bee2-05a63041f1e3",
   "metadata": {},
   "outputs": [
    {
     "data": {
      "text/plain": [
       "{'apple': ['사과', '능금', '백설공주'], 'banana': '바나나', 'cherry': '체리'}"
      ]
     },
     "execution_count": 214,
     "metadata": {},
     "output_type": "execute_result"
    }
   ],
   "source": [
    "a"
   ]
  },
  {
   "cell_type": "code",
   "execution_count": 215,
   "id": "f1188807-17b5-422c-bb34-ac96e34281f9",
   "metadata": {},
   "outputs": [],
   "source": [
    "a = {\"name\" : \"홍길동\" , \"birth\" : \"1128\" , \"age\" : \"30\" }"
   ]
  },
  {
   "cell_type": "code",
   "execution_count": 216,
   "id": "27ab9df7-dfee-4daa-bb69-0afc44fa5b84",
   "metadata": {},
   "outputs": [
    {
     "name": "stdout",
     "output_type": "stream",
     "text": [
      "{'name': '홍길동', 'birth': '1128', 'age': '30'}\n"
     ]
    }
   ],
   "source": [
    "print(a)"
   ]
  },
  {
   "cell_type": "code",
   "execution_count": null,
   "id": "34921507-865d-4302-bd03-80fc27b90def",
   "metadata": {},
   "outputs": [],
   "source": [
    "# 딕셔너리 \n",
    "a = {\"apple\" : \"사과\" , \"banana\" : \"바나나\", \"cherry\" : \"체리\"}\n",
    "\n",
    "a[\"grafe\"] = \"포도\" \n",
    "del a[\"banana\"]\n",
    "a"
   ]
  },
  {
   "cell_type": "markdown",
   "id": "d85960f5-8c77-4138-8d0a-43838b733ef1",
   "metadata": {},
   "source": [
    "## 2-6집합\n",
    "집합은 중복을 허용하지 않는다 그리고 순서가 없다"
   ]
  },
  {
   "cell_type": "code",
   "execution_count": 37,
   "id": "247fddc5-ac6a-4569-91a8-f51908306eb9",
   "metadata": {},
   "outputs": [],
   "source": [
    "##세트 이용\n",
    "s1 = set([1,2,3])\n",
    "s2 = set([2,3,6])"
   ]
  },
  {
   "cell_type": "code",
   "execution_count": 222,
   "id": "6d76afcf-aacb-4b48-9fbe-cc44fddb240b",
   "metadata": {},
   "outputs": [
    {
     "data": {
      "text/plain": [
       "{'e', 'h', 'l', 'o'}"
      ]
     },
     "execution_count": 222,
     "metadata": {},
     "output_type": "execute_result"
    }
   ],
   "source": [
    "s3 = set('hello')\n",
    "s3"
   ]
  },
  {
   "cell_type": "code",
   "execution_count": 224,
   "id": "8c580587-28a3-402c-ba19-ac347ec2e78a",
   "metadata": {},
   "outputs": [
    {
     "data": {
      "text/plain": [
       "{1, 2, 3, 6}"
      ]
     },
     "execution_count": 224,
     "metadata": {},
     "output_type": "execute_result"
    }
   ],
   "source": [
    "#합집합은 유니온 \n",
    "\n",
    "s1.union(s2)"
   ]
  },
  {
   "cell_type": "code",
   "execution_count": 225,
   "id": "069b7e42-b63b-48f0-9e2e-edbb1bc707a0",
   "metadata": {},
   "outputs": [
    {
     "data": {
      "text/plain": [
       "{1, 2, 3, 6}"
      ]
     },
     "execution_count": 225,
     "metadata": {},
     "output_type": "execute_result"
    }
   ],
   "source": [
    "s1 | s2 "
   ]
  },
  {
   "cell_type": "code",
   "execution_count": 227,
   "id": "3b616818-4cdb-4164-9e3a-41222e1054c1",
   "metadata": {},
   "outputs": [
    {
     "data": {
      "text/plain": [
       "{2, 3}"
      ]
     },
     "execution_count": 227,
     "metadata": {},
     "output_type": "execute_result"
    }
   ],
   "source": [
    "s1&s2\n",
    "s1.intersection(s2) #교집합"
   ]
  },
  {
   "cell_type": "code",
   "execution_count": 228,
   "id": "9168017b-9866-4301-88be-e58891b2a0fb",
   "metadata": {},
   "outputs": [
    {
     "data": {
      "text/plain": [
       "{1}"
      ]
     },
     "execution_count": 228,
     "metadata": {},
     "output_type": "execute_result"
    }
   ],
   "source": [
    "#차집합\n",
    "s1-s2"
   ]
  },
  {
   "cell_type": "code",
   "execution_count": 229,
   "id": "c9f7fd74-d26f-4169-adf9-d7b3abe38478",
   "metadata": {},
   "outputs": [
    {
     "data": {
      "text/plain": [
       "{6}"
      ]
     },
     "execution_count": 229,
     "metadata": {},
     "output_type": "execute_result"
    }
   ],
   "source": [
    "s2.difference(s1)"
   ]
  },
  {
   "cell_type": "code",
   "execution_count": 230,
   "id": "2796ce29-da68-45a0-90d8-521a21ce2b49",
   "metadata": {},
   "outputs": [
    {
     "data": {
      "text/plain": [
       "{1, 2, 3, 4}"
      ]
     },
     "execution_count": 230,
     "metadata": {},
     "output_type": "execute_result"
    }
   ],
   "source": [
    "s1.add(4) #집합에 추가하기\n",
    "s1"
   ]
  },
  {
   "cell_type": "code",
   "execution_count": 38,
   "id": "52edfcbd-da58-404d-9ce1-b62820b26dc0",
   "metadata": {},
   "outputs": [
    {
     "data": {
      "text/plain": [
       "{1, 2, 3, 4, 5, 6}"
      ]
     },
     "execution_count": 38,
     "metadata": {},
     "output_type": "execute_result"
    }
   ],
   "source": [
    "s1.update([4,5,6]) #리스트 여러개 추가\n",
    "s1"
   ]
  },
  {
   "cell_type": "code",
   "execution_count": 237,
   "id": "98929510-56ff-4f90-9af9-a3a92af9d60e",
   "metadata": {},
   "outputs": [
    {
     "data": {
      "text/plain": [
       "{1, 4, 5, 6}"
      ]
     },
     "execution_count": 237,
     "metadata": {},
     "output_type": "execute_result"
    }
   ],
   "source": [
    "s1.remove(3)\n",
    "s1"
   ]
  },
  {
   "cell_type": "code",
   "execution_count": null,
   "id": "1451f2a3-5637-4fd7-aabe-569fb88704cd",
   "metadata": {},
   "outputs": [],
   "source": [
    "# 숫자형 , 문자형 , 불형 (참거짓형)\n",
    "# 파이썬 리스트 , 집합 , 딕서너리"
   ]
  },
  {
   "cell_type": "code",
   "execution_count": null,
   "id": "c6a9e264-bd3f-427b-bef3-87b34d596aee",
   "metadata": {},
   "outputs": [],
   "source": [
    "# 같냐 다르나 "
   ]
  },
  {
   "cell_type": "markdown",
   "id": "8cf6eedd-4fe6-4bd0-ad63-808a79d53406",
   "metadata": {},
   "source": [
    "## 2-7 참 거짓형 불자료 \n",
    "등호는 등호가 아니다. 이미 선점을 했기 때문에 어쩔 수 없이 두번 표시할 수 밖에 없다. \n",
    "boolean 약자 bool\n",
    "빈칸\"\"\n",
    "[]\n",
    "0 만 거짓이다"
   ]
  },
  {
   "cell_type": "code",
   "execution_count": 239,
   "id": "38ba4eb4-6510-4452-b7f2-a768b32efc0c",
   "metadata": {},
   "outputs": [
    {
     "data": {
      "text/plain": [
       "True"
      ]
     },
     "execution_count": 239,
     "metadata": {},
     "output_type": "execute_result"
    }
   ],
   "source": [
    "1 == 1 "
   ]
  },
  {
   "cell_type": "code",
   "execution_count": 240,
   "id": "3a036078-5d9f-4fe4-8d3a-59cb7432df2b",
   "metadata": {},
   "outputs": [
    {
     "data": {
      "text/plain": [
       "False"
      ]
     },
     "execution_count": 240,
     "metadata": {},
     "output_type": "execute_result"
    }
   ],
   "source": [
    "1 == 2"
   ]
  },
  {
   "cell_type": "code",
   "execution_count": 241,
   "id": "0b27ccb9-67b2-4492-ad69-aa24d60507f6",
   "metadata": {},
   "outputs": [
    {
     "data": {
      "text/plain": [
       "True"
      ]
     },
     "execution_count": 241,
     "metadata": {},
     "output_type": "execute_result"
    }
   ],
   "source": [
    "2 > 1"
   ]
  },
  {
   "cell_type": "code",
   "execution_count": 242,
   "id": "28753434-81c9-4c2f-b46a-edd91d79c516",
   "metadata": {},
   "outputs": [
    {
     "data": {
      "text/plain": [
       "False"
      ]
     },
     "execution_count": 242,
     "metadata": {},
     "output_type": "execute_result"
    }
   ],
   "source": [
    "2 < 1 "
   ]
  },
  {
   "cell_type": "code",
   "execution_count": 243,
   "id": "ece93581-468c-4b67-aa96-fd77ff207003",
   "metadata": {},
   "outputs": [
    {
     "name": "stdout",
     "output_type": "stream",
     "text": [
      "1\n",
      "2\n",
      "3\n"
     ]
    }
   ],
   "source": [
    "for i in [1,2,3] :\n",
    "    print(i)"
   ]
  },
  {
   "cell_type": "code",
   "execution_count": 245,
   "id": "6945cb4d-4f6c-4bd1-9db0-4b080535415a",
   "metadata": {},
   "outputs": [
    {
     "name": "stdout",
     "output_type": "stream",
     "text": [
      "ture\n"
     ]
    }
   ],
   "source": [
    "if 1 < 2 : \n",
    "    print(\"ture\")\n",
    "else : \n",
    "    print('flase')"
   ]
  },
  {
   "cell_type": "code",
   "execution_count": null,
   "id": "ac4d734c-2a08-48a2-9b7e-7733a9d9e807",
   "metadata": {},
   "outputs": [],
   "source": [
    "# : 뒤는 네칸 or tap 띄우기 ~면 : ~이다 라는 듯 "
   ]
  },
  {
   "cell_type": "code",
   "execution_count": 258,
   "id": "2d1e55ad-20d2-44e5-b8eb-9dacc33cb5bb",
   "metadata": {},
   "outputs": [
    {
     "name": "stdout",
     "output_type": "stream",
     "text": [
      "flase\n"
     ]
    }
   ],
   "source": [
    "if  '': \n",
    "    print(\"ture\")\n",
    "else : \n",
    "    print('flase')"
   ]
  },
  {
   "cell_type": "code",
   "execution_count": null,
   "id": "9107499e-3dd1-4cbe-abbf-bcb83321e487",
   "metadata": {},
   "outputs": [],
   "source": [
    "#  숫자는 거짓 판별 가능하다.  0은 거짓  0 빼고 다 참  / 빈문자열은 거짓 "
   ]
  },
  {
   "cell_type": "code",
   "execution_count": 261,
   "id": "170fa6da-f83c-4c07-8a07-87ca59b24610",
   "metadata": {},
   "outputs": [
    {
     "data": {
      "text/plain": [
       "bool"
      ]
     },
     "execution_count": 261,
     "metadata": {},
     "output_type": "execute_result"
    }
   ],
   "source": [
    "a = 1 < 2\n",
    "type(a)"
   ]
  },
  {
   "cell_type": "code",
   "execution_count": 262,
   "id": "f302f88b-c293-419d-a413-c8258d0d1616",
   "metadata": {},
   "outputs": [
    {
     "data": {
      "text/plain": [
       "True"
      ]
     },
     "execution_count": 262,
     "metadata": {},
     "output_type": "execute_result"
    }
   ],
   "source": [
    "a = 1 < 2 \n",
    "a"
   ]
  },
  {
   "cell_type": "code",
   "execution_count": 263,
   "id": "83ca3327-76be-4f2f-a57f-9b59192378e3",
   "metadata": {},
   "outputs": [
    {
     "data": {
      "text/plain": [
       "True"
      ]
     },
     "execution_count": 263,
     "metadata": {},
     "output_type": "execute_result"
    }
   ],
   "source": [
    "bool(2) "
   ]
  },
  {
   "cell_type": "markdown",
   "id": "bdfdb55b-2613-41df-a710-b435b5e84f1e",
   "metadata": {},
   "source": [
    "## 2-8 변수 만들기"
   ]
  },
  {
   "cell_type": "markdown",
   "id": "82fa4941-009e-489f-8e3b-1e18240eda8c",
   "metadata": {},
   "source": [
    "변수 이름 = 변수에 저장할 값\n",
    "\n",
    "변수란 파이썬에서 객체를 말하는 것일 수도 있다."
   ]
  },
  {
   "cell_type": "markdown",
   "id": "b3512489-2991-4a9a-9703-95ab96f648d0",
   "metadata": {},
   "source": [
    "### 데이터 형 변환 "
   ]
  },
  {
   "cell_type": "code",
   "execution_count": 271,
   "id": "79a603d5-80a0-452e-8684-5671afe6ad4a",
   "metadata": {},
   "outputs": [
    {
     "data": {
      "text/plain": [
       "'\\n숫자 : int (interger) , float  (floationg point)\\n문자 : str(string)\\n\\n참.거짓 : bool(boolean)\\n'"
      ]
     },
     "execution_count": 271,
     "metadata": {},
     "output_type": "execute_result"
    }
   ],
   "source": [
    "'''\n",
    "숫자 : int (interger) , float  (floationg point)\n",
    "문자 : str(string)\n",
    "\n",
    "참.거짓 : bool(boolean)\n",
    "'''"
   ]
  },
  {
   "cell_type": "code",
   "execution_count": 265,
   "id": "b81c21bd-35ae-4e9e-bd4f-ef565950f5a6",
   "metadata": {},
   "outputs": [
    {
     "data": {
      "text/plain": [
       "3"
      ]
     },
     "execution_count": 265,
     "metadata": {},
     "output_type": "execute_result"
    }
   ],
   "source": [
    "# 정수만 취하고 싶으면 정수 만들어 지는 함수 , \n",
    "int(3.14)"
   ]
  },
  {
   "cell_type": "code",
   "execution_count": 266,
   "id": "2dc30c5a-45a7-45ad-ae00-17abd06e08f6",
   "metadata": {},
   "outputs": [
    {
     "data": {
      "text/plain": [
       "3.0"
      ]
     },
     "execution_count": 266,
     "metadata": {},
     "output_type": "execute_result"
    }
   ],
   "source": [
    "float(3)"
   ]
  },
  {
   "cell_type": "code",
   "execution_count": 267,
   "id": "32082fb1-0c5e-461e-9456-dfd9bf7b4163",
   "metadata": {},
   "outputs": [
    {
     "data": {
      "text/plain": [
       "1"
      ]
     },
     "execution_count": 267,
     "metadata": {},
     "output_type": "execute_result"
    }
   ],
   "source": [
    "a = \"1\"\n",
    "a\n",
    "int(\"1\")"
   ]
  },
  {
   "cell_type": "code",
   "execution_count": 268,
   "id": "9398838b-62d5-4e84-933a-54868bffb1d8",
   "metadata": {},
   "outputs": [
    {
     "data": {
      "text/plain": [
       "'1'"
      ]
     },
     "execution_count": 268,
     "metadata": {},
     "output_type": "execute_result"
    }
   ],
   "source": [
    "str(1)"
   ]
  },
  {
   "cell_type": "code",
   "execution_count": 269,
   "id": "5c2a0192-cc12-4e60-afcb-64f69d04f1ce",
   "metadata": {},
   "outputs": [
    {
     "data": {
      "text/plain": [
       "2"
      ]
     },
     "execution_count": 269,
     "metadata": {},
     "output_type": "execute_result"
    }
   ],
   "source": [
    "int(\"2\")"
   ]
  },
  {
   "cell_type": "code",
   "execution_count": 272,
   "id": "d3f387eb-1ada-4b07-9c1b-6a9f9bff484e",
   "metadata": {},
   "outputs": [],
   "source": [
    "# 변수는 단지다 . \n",
    "# 김치독 1 2 3 "
   ]
  },
  {
   "cell_type": "code",
   "execution_count": 39,
   "id": "4ac422f2-c31a-4e95-a502-23fe7bec06f7",
   "metadata": {},
   "outputs": [
    {
     "name": "stdout",
     "output_type": "stream",
     "text": [
      "python\n",
      "life\n"
     ]
    }
   ],
   "source": [
    "a,b = ('python', 'life')\n",
    "print(a)\n",
    "print(b)"
   ]
  },
  {
   "cell_type": "markdown",
   "id": "83ce8b66-8d02-4c08-b3f4-230ded33e720",
   "metadata": {},
   "source": [
    "# 3 제어문\n",
    "if while for 같은 것"
   ]
  },
  {
   "cell_type": "markdown",
   "id": "192d8797-ec85-437a-9b70-2bf77d360c60",
   "metadata": {},
   "source": [
    "## input 알아보기 "
   ]
  },
  {
   "cell_type": "code",
   "execution_count": 281,
   "id": "fbde9207-a60d-4c90-babd-bbd74a89c2b2",
   "metadata": {},
   "outputs": [
    {
     "name": "stdout",
     "output_type": "stream",
     "text": [
      "i ate 5 apples. so i was sick 3 three days.\n",
      "i ate 5 apples. so i was sick 3 three days.\n"
     ]
    }
   ],
   "source": [
    "number = 5\n",
    "day = 3\n",
    "\n",
    "print(\"i ate {0} apples. so i was sick {1} three days.\".format(number,day))\n",
    "\n",
    "print(f\"i ate {number} apples. so i was sick {day} three days.\")\n"
   ]
  },
  {
   "cell_type": "code",
   "execution_count": 284,
   "id": "8267974b-413c-49f7-a84b-1aa0dc2795cf",
   "metadata": {},
   "outputs": [
    {
     "name": "stdin",
     "output_type": "stream",
     "text": [
      "몇개 먹었나요? 3\n",
      "며칠?  1\n"
     ]
    },
    {
     "name": "stdout",
     "output_type": "stream",
     "text": [
      "i ate 3 apples. so i was sick 1 three days.\n",
      "i ate 3 apples. so i was sick 1 three days.\n"
     ]
    }
   ],
   "source": [
    "# 바꿀때 인풋 기다려줌 \n",
    "number = input(\"몇개 먹었나요?\")\n",
    "day = input(\"며칠? \")\n",
    "\n",
    "print(\"i ate {0} apples. so i was sick {1} three days.\".format(number,day))\n",
    "\n",
    "print(f\"i ate {number} apples. so i was sick {day} three days.\")"
   ]
  },
  {
   "cell_type": "code",
   "execution_count": 289,
   "id": "65ddaa86-7d0b-4e19-8ed4-23776c419bc4",
   "metadata": {},
   "outputs": [
    {
     "name": "stdin",
     "output_type": "stream",
     "text": [
      "숫자를 입력해 주세요 123\n",
      "숫자를 입력해 주세요 456\n"
     ]
    }
   ],
   "source": [
    "a = input(\"숫자를 입력해 주세요\")\n",
    "b = input(\"숫자를 입력해 주세요\")"
   ]
  },
  {
   "cell_type": "code",
   "execution_count": 290,
   "id": "b38ee9e5-3084-4b70-bc95-b271751e5e60",
   "metadata": {},
   "outputs": [
    {
     "data": {
      "text/plain": [
       "'123456'"
      ]
     },
     "execution_count": 290,
     "metadata": {},
     "output_type": "execute_result"
    }
   ],
   "source": [
    "a+b"
   ]
  },
  {
   "cell_type": "code",
   "execution_count": 292,
   "id": "78e86176-440d-435e-9bf2-01636d32414b",
   "metadata": {},
   "outputs": [],
   "source": [
    "# 스트링 취급 스트링 덧셈은 결국 이어준 것  # 즉 문자열로 출력된다. "
   ]
  },
  {
   "cell_type": "code",
   "execution_count": 296,
   "id": "e6a02683-e30d-4222-9c44-e6fe1468051b",
   "metadata": {},
   "outputs": [
    {
     "data": {
      "text/plain": [
       "912"
      ]
     },
     "execution_count": 296,
     "metadata": {},
     "output_type": "execute_result"
    }
   ],
   "source": [
    "#더하고 싶다면\n",
    "int(a) + int(b)"
   ]
  },
  {
   "cell_type": "code",
   "execution_count": 297,
   "id": "f7dd59da-dbb8-43e1-a2c8-475c35508448",
   "metadata": {},
   "outputs": [
    {
     "name": "stdin",
     "output_type": "stream",
     "text": [
      " 1\n",
      " 2\n"
     ]
    }
   ],
   "source": [
    "a = int(input(\"\"))\n",
    "b = int(input(\"\"))"
   ]
  },
  {
   "cell_type": "code",
   "execution_count": 298,
   "id": "da938f22-a708-4309-8426-471984c14da8",
   "metadata": {},
   "outputs": [
    {
     "data": {
      "text/plain": [
       "3"
      ]
     },
     "execution_count": 298,
     "metadata": {},
     "output_type": "execute_result"
    }
   ],
   "source": [
    "a+b"
   ]
  },
  {
   "cell_type": "code",
   "execution_count": 299,
   "id": "915b8e6b-0911-41bf-b1ac-3328060698e0",
   "metadata": {},
   "outputs": [],
   "source": [
    "# 입력받은 수를 11로 나눈 나머지를 알고 싶다. "
   ]
  },
  {
   "cell_type": "code",
   "execution_count": 305,
   "id": "14fbdccb-3fa9-438a-a476-984f2c8cf1ee",
   "metadata": {},
   "outputs": [
    {
     "name": "stdin",
     "output_type": "stream",
     "text": [
      " 123\n"
     ]
    },
    {
     "name": "stdout",
     "output_type": "stream",
     "text": [
      "123를 11로 나눈 나머지는 2 입니다\n"
     ]
    }
   ],
   "source": [
    "number = int(input())\n",
    "last = number%11\n",
    "print(f\"{number}를 11로 나눈 나머지는 {last} 입니다\")  "
   ]
  },
  {
   "cell_type": "code",
   "execution_count": 307,
   "id": "e9c4ccb2-bff2-4fb0-94fd-098bb7bd820e",
   "metadata": {},
   "outputs": [],
   "source": [
    "# 여기서 내가 실수 한 것은 int  처리와 프린트 처리 하는 것  몫은// 나머지는 % )"
   ]
  },
  {
   "cell_type": "code",
   "execution_count": 308,
   "id": "52b803a2-65e4-4ab1-b683-e768e68ab29e",
   "metadata": {},
   "outputs": [
    {
     "name": "stdin",
     "output_type": "stream",
     "text": [
      " 12\n"
     ]
    },
    {
     "name": "stdout",
     "output_type": "stream",
     "text": [
      "12를 11로 나눈 나머지는 1 입니다\n"
     ]
    }
   ],
   "source": [
    "number = int(input())\n",
    "last = number%11\n",
    "print(f\"{number}를 11로 나눈 나머지는 {number%11} 입니다\")  "
   ]
  },
  {
   "cell_type": "code",
   "execution_count": 312,
   "id": "b927a5e8-59bb-4272-91cc-11cddddd9b05",
   "metadata": {},
   "outputs": [
    {
     "name": "stdout",
     "output_type": "stream",
     "text": [
      "나의 이름은 김민균이고 나이는 25살 입니다\n"
     ]
    }
   ],
   "source": [
    "# 이름과 나이를 입력 받아서 \n",
    "name = '김민균'\n",
    "age = 25\n",
    "print(\"나의 이름은 {0}이고 나이는 {1}살 입니다\".format(name,age))"
   ]
  },
  {
   "cell_type": "code",
   "execution_count": 314,
   "id": "47fbfb10-2d68-4d30-923a-482bd2497c5e",
   "metadata": {},
   "outputs": [
    {
     "name": "stdout",
     "output_type": "stream",
     "text": [
      "나의 이름은 김민균이고 나이는 25살 입니다\n"
     ]
    }
   ],
   "source": [
    "name = '김민균'\n",
    "age = 25\n",
    "print(f\"나의 이름은 {name}이고 나이는 {age}살 입니다\".format(name,age))"
   ]
  },
  {
   "cell_type": "code",
   "execution_count": 315,
   "id": "fa056054-15ac-43e6-8e26-3653221b973a",
   "metadata": {},
   "outputs": [
    {
     "name": "stdin",
     "output_type": "stream",
     "text": [
      " 김민균\n",
      " 25\n"
     ]
    },
    {
     "name": "stdout",
     "output_type": "stream",
     "text": [
      "나의 이름은 김민균이고 나이는 25살 입니다\n"
     ]
    }
   ],
   "source": [
    "name = input('')\n",
    "age = int(input())\n",
    "print(f\"나의 이름은 {name}이고 나이는 {age}살 입니다\".format(name,age))\n",
    "\n",
    "#숫자는 인트 써주기"
   ]
  },
  {
   "cell_type": "code",
   "execution_count": null,
   "id": "2183e8f1-7693-48e8-964c-502866b1bc14",
   "metadata": {},
   "outputs": [],
   "source": [
    "input1 = int(input(\"첫번째숫자\"))\n",
    "input2 = int(input(\"두번째 숫자\"))\n",
    "\n",
    "total = input1 + input2\n",
    "print(\"두수의 합은 %d 입니다\" %total )"
   ]
  },
  {
   "cell_type": "markdown",
   "id": "de66a4f2-e98a-406a-b906-e8d868dde411",
   "metadata": {},
   "source": [
    "## 3-1 조건문 if 문 \n",
    "읽는 방법이 너무 많으면 인기 있기 힘들어  의사소통을 위해서 \n",
    "/파이썬 승리 중 하나 문법적 규율  그 큰 규칙중 하나가 들여쓰기 \n",
    "줄을 맞춰줘야함 \n",
    "\n"
   ]
  },
  {
   "cell_type": "code",
   "execution_count": null,
   "id": "25d3ce82-0c79-412d-bd2c-90a563631103",
   "metadata": {},
   "outputs": [],
   "source": [
    "비교 연산자\n",
    "특이한것만\n",
    "x == y 같다\n",
    "x!= y 같지 않다\n",
    "x += y   / x + y 같은 경우를 나타냄  \n",
    "x in [리스트] 리스트에 있으면 참\n",
    "x not in  [리스트] 리스트에 없으면 참 \n",
    "and 모두 or 둘중 하나  not x 아니면 "
   ]
  },
  {
   "cell_type": "code",
   "execution_count": null,
   "id": "68983729-c568-457e-954a-8d259eb9b840",
   "metadata": {},
   "outputs": [],
   "source": [
    "if 조건 : \n",
    "    실행될 문장\n",
    "else :\n",
    "    실행될 문장 \n",
    "    \n",
    "들여쓰기 유무에 따른 동급 \n"
   ]
  },
  {
   "cell_type": "code",
   "execution_count": 319,
   "id": "7b9356c1-fbe4-4f5b-ba16-d42a88c676ab",
   "metadata": {},
   "outputs": [
    {
     "name": "stdout",
     "output_type": "stream",
     "text": [
      "no\n"
     ]
    }
   ],
   "source": [
    "if 1 > 2 :\n",
    "    print(\"yes\")\n",
    "else:\n",
    "    print(\"no\")"
   ]
  },
  {
   "cell_type": "code",
   "execution_count": null,
   "id": "9f0f5b5c-7a10-4b79-ac46-65898f794220",
   "metadata": {},
   "outputs": [],
   "source": [
    "if :\n",
    "else   if \n",
    "       else   if \n",
    "             else \n",
    "        \n",
    "       \n"
   ]
  },
  {
   "cell_type": "code",
   "execution_count": 320,
   "id": "72de4e44-40a5-4854-8b7f-cb2fc7348e17",
   "metadata": {},
   "outputs": [],
   "source": [
    "#if\n",
    "# elif  줄여서 "
   ]
  },
  {
   "cell_type": "code",
   "execution_count": null,
   "id": "5611ccec-67e7-449a-a1bb-3c5879df68d7",
   "metadata": {},
   "outputs": [],
   "source": [
    "if\n",
    "elif\n",
    "elif\n",
    "else\n"
   ]
  },
  {
   "cell_type": "code",
   "execution_count": 323,
   "id": "017528e2-72b8-454c-9104-1a87be3cc09c",
   "metadata": {},
   "outputs": [
    {
     "name": "stdin",
     "output_type": "stream",
     "text": [
      "숫자를 입력해 주세요 1\n"
     ]
    },
    {
     "name": "stdout",
     "output_type": "stream",
     "text": [
      "홀수입니다\n"
     ]
    }
   ],
   "source": [
    "# 입력받아서 짝수이면 짝수입니다. 홀수면 훌수 입니다.\n",
    "number =  int(input(\"숫자를 입력해 주세요\"))\n",
    "if number % 2 == 0 : \n",
    "    print(\"짝수입니다\")\n",
    "else :\n",
    "    print(\"홀수입니다\")"
   ]
  },
  {
   "cell_type": "code",
   "execution_count": 41,
   "id": "6f9fef15-fa8e-4bd3-b49b-60f7f11207ae",
   "metadata": {},
   "outputs": [
    {
     "name": "stdin",
     "output_type": "stream",
     "text": [
      "숫자를 입력하세요 5\n"
     ]
    },
    {
     "name": "stdout",
     "output_type": "stream",
     "text": [
      "봄입니다.\n"
     ]
    }
   ],
   "source": [
    "#  온도를 입력받아서 30도 이상이면 '여름입니다'  20도 이상이면 가을입니다   # 어처피 이프에서 날라갔으니까 살아남은 데이터 로만 한다 ! \n",
    "#int 로 정수처리 해주기\n",
    "tem = int(input(\"숫자를 입력하세요\"))\n",
    "if tem >= 30 :\n",
    "    print(\"여름입니다\")\n",
    "elif  30>tem and tem >=20 :\n",
    "    print(\"가을입니다\")\n",
    "elif 20 > tem > 0 :\n",
    "    print(\"봄입니다.\")\n",
    "else :\n",
    "    print(\"겨울입니다\")"
   ]
  },
  {
   "cell_type": "code",
   "execution_count": 332,
   "id": "047686b4-21b0-4c95-b705-52d51208c467",
   "metadata": {},
   "outputs": [
    {
     "name": "stdin",
     "output_type": "stream",
     "text": [
      "숫자를 입력하세요 -1\n"
     ]
    },
    {
     "name": "stdout",
     "output_type": "stream",
     "text": [
      "겨울입니다\n"
     ]
    }
   ],
   "source": [
    "#  온도를 입력받아서 30도 이상이면 '여름입니다'  20도 이상이면 가을입니다  \n",
    "# 어처피 이프에서 날라갔으니까 살아남은 데이터 로만 한다 !  방향 등호  #elif깔끔 if는 듬성듬성 \n",
    "\n",
    "tem = int(input(\"숫자를 입력하세요\"))\n",
    "if tem >= 30 :\n",
    "    print(\"여름입니다\")\n",
    "elif  tem >=20 :\n",
    "    print(\"가을입니다\")\n",
    "elif tem >= 0 :\n",
    "    print(\"봄입니다.\")\n",
    "else :\n",
    "    print(\"겨울입니다\")"
   ]
  },
  {
   "cell_type": "markdown",
   "id": "05439083-d9d1-480f-b348-d268b2e99c52",
   "metadata": {},
   "source": [
    "- A in B 형태"
   ]
  },
  {
   "cell_type": "code",
   "execution_count": 337,
   "id": "bc35204f-793f-4566-88df-55c109bca1b8",
   "metadata": {},
   "outputs": [
    {
     "name": "stdout",
     "output_type": "stream",
     "text": [
      "버스틀 타라 \n",
      "택시를 하라\n"
     ]
    }
   ],
   "source": [
    "pocket = [\"bill\", \"coins\", \"card\"]\n",
    "\n",
    "if  \"bill\" in pocket :\n",
    "    print(\"버스틀 타라 \")\n",
    "if \"coins\" in pocket:\n",
    "    print(\"택시를 하라\")\n",
    "else : \n",
    "    print(\"걸어가라\")"
   ]
  },
  {
   "cell_type": "markdown",
   "id": "c542b636-6c36-4cc4-8dfa-c90898b5151f",
   "metadata": {},
   "source": [
    "## 3-2 for문 for A in B : \n",
    "\n"
   ]
  },
  {
   "cell_type": "code",
   "execution_count": 342,
   "id": "5cc25f2d-12b1-42b2-a85d-eabdcf7dbf7e",
   "metadata": {},
   "outputs": [
    {
     "name": "stdout",
     "output_type": "stream",
     "text": [
      "1\n",
      "10\n",
      "2\n",
      "20\n",
      "3\n",
      "30\n"
     ]
    }
   ],
   "source": [
    "for i in [1,2,3] :\n",
    "    print(i)\n",
    "    print(i*10)       #  반복해서 실행 \n",
    "    \n",
    "    \n",
    "    # 1 \n",
    "    #10 \n",
    "    #2 \n",
    "    #20 \n",
    "    #3\n",
    "    # 30 \n",
    "    "
   ]
  },
  {
   "cell_type": "code",
   "execution_count": 343,
   "id": "92b564ba-0c4f-4516-ae55-b26c422545c8",
   "metadata": {},
   "outputs": [],
   "source": [
    "# I 이중에서 한개를 뽑아온디 "
   ]
  },
  {
   "cell_type": "code",
   "execution_count": 344,
   "id": "84a0d00b-fb56-4a7d-a578-bef629273c25",
   "metadata": {},
   "outputs": [
    {
     "ename": "IndentationError",
     "evalue": "expected an indented block (Temp/ipykernel_604/1902636533.py, line 3)",
     "output_type": "error",
     "traceback": [
      "\u001b[1;36m  File \u001b[1;32m\"C:\\Users\\kyun\\AppData\\Local\\Temp/ipykernel_604/1902636533.py\"\u001b[1;36m, line \u001b[1;32m3\u001b[0m\n\u001b[1;33m    for i in [1,2,3]\u001b[0m\n\u001b[1;37m    ^\u001b[0m\n\u001b[1;31mIndentationError\u001b[0m\u001b[1;31m:\u001b[0m expected an indented block\n"
     ]
    }
   ],
   "source": [
    "for A in B :     \n",
    "for i in [1,2,3]"
   ]
  },
  {
   "cell_type": "code",
   "execution_count": 347,
   "id": "5c705872-4704-4033-a541-dbf9977b8d23",
   "metadata": {},
   "outputs": [
    {
     "name": "stdout",
     "output_type": "stream",
     "text": [
      "a\n",
      "10\n",
      "No\n",
      "a\n",
      "10\n",
      "No\n",
      "a\n",
      "10\n",
      "No\n",
      "a\n",
      "10\n",
      "No\n"
     ]
    }
   ],
   "source": [
    "for i in [1,2,3,5] :\n",
    "    print(\"a\")\n",
    "    print(10)       #  리스트 안에 있는 만큼 반복해서 실행 \n",
    "    print(\"No\")"
   ]
  },
  {
   "cell_type": "code",
   "execution_count": 353,
   "id": "6462831a-615c-4afa-b772-af1127914069",
   "metadata": {},
   "outputs": [
    {
     "name": "stdout",
     "output_type": "stream",
     "text": [
      "1\n",
      "2\n",
      "3\n",
      "4\n",
      "5\n",
      "6\n",
      "7\n",
      "8\n",
      "9\n",
      "10\n"
     ]
    }
   ],
   "source": [
    "numbers = [ 1,2,3,4,5,6,7,8,9,10]\n",
    "for number in numbers :\n",
    "    print(number)\n",
    "    # shift tap 도움말"
   ]
  },
  {
   "cell_type": "code",
   "execution_count": 354,
   "id": "81a5a4c7-e7b8-4843-a1c7-ee5ce3ce0c29",
   "metadata": {},
   "outputs": [
    {
     "data": {
      "text/plain": [
       "range(0, 10)"
      ]
     },
     "execution_count": 354,
     "metadata": {},
     "output_type": "execute_result"
    }
   ],
   "source": [
    "range(100)"
   ]
  },
  {
   "cell_type": "code",
   "execution_count": 357,
   "id": "aa42fd02-a714-4d52-8ae5-3a00b93505e0",
   "metadata": {},
   "outputs": [
    {
     "data": {
      "text/plain": [
       "[0, 1, 2, 3, 4, 5, 6, 7, 8, 9]"
      ]
     },
     "execution_count": 357,
     "metadata": {},
     "output_type": "execute_result"
    }
   ],
   "source": [
    "list(range(10))"
   ]
  },
  {
   "cell_type": "code",
   "execution_count": 42,
   "id": "b709eb28-e8ce-4b74-8e30-d4a120c77164",
   "metadata": {},
   "outputs": [
    {
     "name": "stdout",
     "output_type": "stream",
     "text": [
      "1\n",
      "2\n",
      "3\n",
      "4\n",
      "5\n",
      "6\n",
      "7\n",
      "8\n",
      "9\n",
      "10\n"
     ]
    }
   ],
   "source": [
    "for number in range(1,11) :\n",
    "    print(number)"
   ]
  },
  {
   "cell_type": "code",
   "execution_count": 365,
   "id": "e23b2827-bdbc-40f2-9587-dcebeca19fb2",
   "metadata": {},
   "outputs": [
    {
     "data": {
      "text/plain": [
       "[1, 2, 3, 4, 5, 6, 7, 8, 9, 10]"
      ]
     },
     "execution_count": 365,
     "metadata": {},
     "output_type": "execute_result"
    }
   ],
   "source": [
    "list(range(1,11))"
   ]
  },
  {
   "cell_type": "code",
   "execution_count": 369,
   "id": "5a71bfd6-8cde-4f62-8a20-7903fb51464a",
   "metadata": {},
   "outputs": [
    {
     "data": {
      "text/plain": [
       "[1, 4, 7, 10]"
      ]
     },
     "execution_count": 369,
     "metadata": {},
     "output_type": "execute_result"
    }
   ],
   "source": [
    "list(range(1,11,3))   # 스탭 몇칸씩 건너 뛰나 "
   ]
  },
  {
   "cell_type": "code",
   "execution_count": 370,
   "id": "7dd54418-9a70-49c3-ab78-38792fa92e0a",
   "metadata": {},
   "outputs": [
    {
     "name": "stdout",
     "output_type": "stream",
     "text": [
      "1\n",
      "2\n",
      "3\n",
      "4\n",
      "5\n",
      "6\n",
      "7\n",
      "8\n",
      "9\n",
      "10\n"
     ]
    }
   ],
   "source": [
    "for i in range (1,11):\n",
    "    print(i)"
   ]
  },
  {
   "cell_type": "code",
   "execution_count": 371,
   "id": "0ac04e55-0875-419c-909a-aa439e535e69",
   "metadata": {},
   "outputs": [
    {
     "data": {
      "text/plain": [
       "[2, 4, 6, 8, 10]"
      ]
     },
     "execution_count": 371,
     "metadata": {},
     "output_type": "execute_result"
    }
   ],
   "source": [
    "# 1부터 10 까지 10까지 사이의 모든 짝수를 출력해보자\n",
    "list(range(2,11,2))"
   ]
  },
  {
   "cell_type": "code",
   "execution_count": 43,
   "id": "986adf0a-5b0d-4a62-ac49-9cab4f8ac079",
   "metadata": {},
   "outputs": [
    {
     "name": "stdout",
     "output_type": "stream",
     "text": [
      "2  4  6  8  10  "
     ]
    }
   ],
   "source": [
    "for i in range(2,11,2):\n",
    "    print(i, end = '  ')  # end쓴 것은 빈칸주려고 "
   ]
  },
  {
   "cell_type": "code",
   "execution_count": 44,
   "id": "082c1b3c-0e6c-4abd-9f74-4ac4aca1dcc3",
   "metadata": {},
   "outputs": [
    {
     "name": "stdout",
     "output_type": "stream",
     "text": [
      "1 a,1 b,1 c,2 a,2 b,2 c,"
     ]
    }
   ],
   "source": [
    "for i in [1,2]: \n",
    "    for j in [\"a\",\"b\",\"c\"] :\n",
    "        print(i,j,end = \",\") #구별을 ,로 하게 함 end를 써서 ,  각 객체 끝날때 ,써준다는 의미"
   ]
  },
  {
   "cell_type": "code",
   "execution_count": 379,
   "id": "abdc4861-dc8f-479d-98e3-b327e5b8f006",
   "metadata": {},
   "outputs": [
    {
     "name": "stdout",
     "output_type": "stream",
     "text": [
      "1 a,1 b,1 c,2 a,2 b,2 c,"
     ]
    }
   ],
   "source": [
    "for i in [1,2]: \n",
    "    for j in [\"a\",\"b\",\"c\"] :\n",
    "        print(i,j,end = \",\")"
   ]
  },
  {
   "cell_type": "code",
   "execution_count": 380,
   "id": "80c547c8-f3af-4853-acd0-8689a15e7c6f",
   "metadata": {},
   "outputs": [
    {
     "ename": "SyntaxError",
     "evalue": "invalid syntax (Temp/ipykernel_604/2718204934.py, line 1)",
     "output_type": "error",
     "traceback": [
      "\u001b[1;36m  File \u001b[1;32m\"C:\\Users\\kyun\\AppData\\Local\\Temp/ipykernel_604/2718204934.py\"\u001b[1;36m, line \u001b[1;32m1\u001b[0m\n\u001b[1;33m    2X1 = 2\u001b[0m\n\u001b[1;37m     ^\u001b[0m\n\u001b[1;31mSyntaxError\u001b[0m\u001b[1;31m:\u001b[0m invalid syntax\n"
     ]
    }
   ],
   "source": [
    "2X1 = 2\n",
    "2X2 = 4\n",
    "2X3 = 6\n",
    "'''\n",
    "2X9"
   ]
  },
  {
   "cell_type": "code",
   "execution_count": 400,
   "id": "3493a894-6e25-4cc1-ab62-1a5102dd22ff",
   "metadata": {},
   "outputs": [
    {
     "name": "stdout",
     "output_type": "stream",
     "text": [
      "2단\n",
      "2 X 1= 2\n",
      "2 X 2= 4\n",
      "2 X 3= 6\n",
      "2 X 4= 8\n",
      "2 X 5= 10\n",
      "2 X 6= 12\n",
      "2 X 7= 14\n",
      "2 X 8= 16\n",
      "2 X 9= 18\n",
      "3단\n",
      "3 X 1= 3\n",
      "3 X 2= 6\n",
      "3 X 3= 9\n",
      "3 X 4= 12\n",
      "3 X 5= 15\n",
      "3 X 6= 18\n",
      "3 X 7= 21\n",
      "3 X 8= 24\n",
      "3 X 9= 27\n",
      "4단\n",
      "4 X 1= 4\n",
      "4 X 2= 8\n",
      "4 X 3= 12\n",
      "4 X 4= 16\n",
      "4 X 5= 20\n",
      "4 X 6= 24\n",
      "4 X 7= 28\n",
      "4 X 8= 32\n",
      "4 X 9= 36\n",
      "5단\n",
      "5 X 1= 5\n",
      "5 X 2= 10\n",
      "5 X 3= 15\n",
      "5 X 4= 20\n",
      "5 X 5= 25\n",
      "5 X 6= 30\n",
      "5 X 7= 35\n",
      "5 X 8= 40\n",
      "5 X 9= 45\n",
      "6단\n",
      "6 X 1= 6\n",
      "6 X 2= 12\n",
      "6 X 3= 18\n",
      "6 X 4= 24\n",
      "6 X 5= 30\n",
      "6 X 6= 36\n",
      "6 X 7= 42\n",
      "6 X 8= 48\n",
      "6 X 9= 54\n",
      "7단\n",
      "7 X 1= 7\n",
      "7 X 2= 14\n",
      "7 X 3= 21\n",
      "7 X 4= 28\n",
      "7 X 5= 35\n",
      "7 X 6= 42\n",
      "7 X 7= 49\n",
      "7 X 8= 56\n",
      "7 X 9= 63\n",
      "8단\n",
      "8 X 1= 8\n",
      "8 X 2= 16\n",
      "8 X 3= 24\n",
      "8 X 4= 32\n",
      "8 X 5= 40\n",
      "8 X 6= 48\n",
      "8 X 7= 56\n",
      "8 X 8= 64\n",
      "8 X 9= 72\n",
      "9단\n",
      "9 X 1= 9\n",
      "9 X 2= 18\n",
      "9 X 3= 27\n",
      "9 X 4= 36\n",
      "9 X 5= 45\n",
      "9 X 6= 54\n",
      "9 X 7= 63\n",
      "9 X 8= 72\n",
      "9 X 9= 81\n"
     ]
    }
   ],
   "source": [
    "for i in range(2,10): \n",
    "    print(f\"<{i}단>\")\n",
    "    for j in range(1,10) :\n",
    "        print(f\"{i} X {j}= {i*j}\")\n",
    "    "
   ]
  },
  {
   "cell_type": "code",
   "execution_count": 401,
   "id": "de0b502f-b2dc-4d22-8fb5-a54d0ba27dea",
   "metadata": {},
   "outputs": [],
   "source": [
    " # 프린트의 영향력을 위치에 따라서 달라진다."
   ]
  },
  {
   "cell_type": "code",
   "execution_count": 405,
   "id": "a679b8f7-dec8-41fc-800a-e79845188b62",
   "metadata": {},
   "outputs": [
    {
     "data": {
      "text/plain": [
       "set()"
      ]
     },
     "execution_count": 405,
     "metadata": {},
     "output_type": "execute_result"
    }
   ],
   "source": [
    "s1 = set([1,2,3])\n",
    "s2 = set([4,5,6])\n",
    "\n",
    "s1 = {1,2,3}\n",
    "s2 = {4,5,6}\n",
    "\n",
    "s1&s2"
   ]
  },
  {
   "cell_type": "code",
   "execution_count": 50,
   "id": "a2dce354-4981-4d0e-8113-a71daa49bceb",
   "metadata": {},
   "outputs": [
    {
     "name": "stdout",
     "output_type": "stream",
     "text": [
      "3 X 1= 3\n",
      "3 X 2= 6\n",
      "3 X 3= 9\n",
      "3 X 4= 12\n",
      "3 x 3 = 9\n",
      "4 X 1= 4\n",
      "4 X 2= 8\n",
      "4 X 3= 12\n",
      "4 X 4= 16\n",
      "3 x 4 = 12\n",
      "5 X 1= 5\n",
      "5 X 2= 10\n",
      "5 X 3= 15\n",
      "5 X 4= 20\n",
      "3 x 5 = 15\n",
      "6 X 1= 6\n",
      "6 X 2= 12\n",
      "6 X 3= 18\n",
      "6 X 4= 24\n",
      "3 x 6 = 18\n",
      "7 X 1= 7\n",
      "7 X 2= 14\n",
      "7 X 3= 21\n",
      "7 X 4= 28\n",
      "3 x 7 = 21\n",
      "8 X 1= 8\n",
      "8 X 2= 16\n",
      "8 X 3= 24\n",
      "8 X 4= 32\n",
      "3 x 8 = 24\n",
      "9 X 1= 9\n",
      "9 X 2= 18\n",
      "9 X 3= 27\n",
      "9 X 4= 36\n",
      "3 x 9 = 27\n"
     ]
    }
   ],
   "source": [
    "for i in range(3,10) :\n",
    "    for j in range(1,5) :\n",
    "          print(f\"{i} X {j}= {i*j}\")\n",
    "    print(\"3 x %d = %d\" %(i,3*i))\n",
    "        "
   ]
  },
  {
   "cell_type": "code",
   "execution_count": 59,
   "id": "a90819c8-6dab-4e14-a55b-704912edb818",
   "metadata": {},
   "outputs": [
    {
     "name": "stdout",
     "output_type": "stream",
     "text": [
      "<2단>\n",
      "<3단>\n",
      "<4단>\n",
      "<5단>\n",
      "<6단>\n",
      "<7단>\n",
      "<8단>\n",
      "<9단>\n"
     ]
    }
   ],
   "source": [
    "for i in range(2,10): \n",
    "    print(f\"<{i}단>\")"
   ]
  },
  {
   "cell_type": "code",
   "execution_count": 61,
   "id": "5a96f90c-e67f-484b-8728-9428efc2efad",
   "metadata": {},
   "outputs": [
    {
     "name": "stdout",
     "output_type": "stream",
     "text": [
      "0 X 1= 0\n",
      "1 X 1= 1\n",
      "2 X 1= 2\n",
      "0 X 2= 0\n",
      "1 X 2= 2\n",
      "2 X 2= 4\n"
     ]
    }
   ],
   "source": [
    "for j in range(1,3) :\n",
    "        for i in range(3) :\n",
    "            print(f\"{i} X {j}= {i*j}\")"
   ]
  },
  {
   "cell_type": "code",
   "execution_count": 60,
   "id": "3bc0b4ed-7373-4c17-9c4d-12caccf1f9d3",
   "metadata": {},
   "outputs": [
    {
     "ename": "SyntaxError",
     "evalue": "invalid syntax (Temp/ipykernel_6644/450765752.py, line 2)",
     "output_type": "error",
     "traceback": [
      "\u001b[1;36m  File \u001b[1;32m\"C:\\Users\\kyun\\AppData\\Local\\Temp/ipykernel_6644/450765752.py\"\u001b[1;36m, line \u001b[1;32m2\u001b[0m\n\u001b[1;33m    print(3,\"x\" ,'i' \"=\" 3*'i' )\u001b[0m\n\u001b[1;37m                         ^\u001b[0m\n\u001b[1;31mSyntaxError\u001b[0m\u001b[1;31m:\u001b[0m invalid syntax\n"
     ]
    }
   ],
   "source": [
    "for i in range(10) :\n",
    "    print(3,\"x\" ,'i' \"=\" 3*'i' )"
   ]
  },
  {
   "cell_type": "code",
   "execution_count": 431,
   "id": "6bb59ba1-dfe2-48e9-a4a3-96188888b10c",
   "metadata": {},
   "outputs": [
    {
     "name": "stdout",
     "output_type": "stream",
     "text": [
      "1\n",
      "3\n",
      "5\n",
      "7\n",
      "9\n"
     ]
    }
   ],
   "source": [
    "for i in range(1,11,2) :    #스타트 스탑 스텝\n",
    "    print(i)"
   ]
  },
  {
   "cell_type": "code",
   "execution_count": null,
   "id": "ccfc4078-7d1e-4d12-ab36-4b6ad73293f0",
   "metadata": {},
   "outputs": [],
   "source": [
    "for i in range(1,11,) :\n",
    "    print(i)\n",
    "    "
   ]
  },
  {
   "cell_type": "code",
   "execution_count": 52,
   "id": "a629269d-1b7c-4a09-b8df-7741824891b8",
   "metadata": {},
   "outputs": [
    {
     "name": "stdout",
     "output_type": "stream",
     "text": [
      "1\n",
      "3\n",
      "5\n",
      "7\n",
      "9\n"
     ]
    }
   ],
   "source": [
    "for i in range(1,11):\n",
    "    if i %2 != 0:\n",
    "        print(i)"
   ]
  },
  {
   "cell_type": "code",
   "execution_count": 434,
   "id": "2ee660bc-7f64-4510-8f6f-5e1f717470f7",
   "metadata": {},
   "outputs": [
    {
     "name": "stdin",
     "output_type": "stream",
     "text": [
      "숫자를 입력하세요 1\n"
     ]
    },
    {
     "name": "stdout",
     "output_type": "stream",
     "text": [
      "3의 배수가 아닙니다\n"
     ]
    }
   ],
   "source": [
    "a = int(input(\"숫자를 입력하세요\"))\n",
    "if a %3 == 0 :\n",
    "    print(\"3의 배수가 맞습니다\")\n",
    "elif a == 0 :\n",
    "    print(\"0을입력하셨습니다\")\n",
    "elif a %3 != 0 :\n",
    "    print(\"3의 배수가 아닙니다\")\n",
    "    \n"
   ]
  },
  {
   "cell_type": "code",
   "execution_count": 435,
   "id": "a8d776e1-e0ea-43fe-ac0f-ad812476158e",
   "metadata": {},
   "outputs": [],
   "source": [
    "#  특정 배수는 %몫이 0인 것 "
   ]
  },
  {
   "cell_type": "code",
   "execution_count": 437,
   "id": "4c6045e4-57ca-41b8-8095-b7951e1ca5b6",
   "metadata": {},
   "outputs": [
    {
     "name": "stdout",
     "output_type": "stream",
     "text": [
      "*\n",
      "**\n",
      "***\n",
      "****\n",
      "*****\n"
     ]
    }
   ],
   "source": [
    "for i in range(1,6) :\n",
    "    print(\"*\"*i)  # 프린트 문자를 i만큼 곱한다."
   ]
  },
  {
   "cell_type": "code",
   "execution_count": 438,
   "id": "853b30fe-dd59-4047-a05a-2d5c3e24e115",
   "metadata": {},
   "outputs": [],
   "source": [
    "# i 만하면 그 숫자들만 배열만 그리고 그것을 다른 문자와 곱해줄 수 있다. "
   ]
  },
  {
   "cell_type": "code",
   "execution_count": 439,
   "id": "155a2455-9c96-479b-a957-d894e2868a34",
   "metadata": {},
   "outputs": [
    {
     "name": "stdout",
     "output_type": "stream",
     "text": [
      "\n",
      "*\n",
      "**\n",
      "***\n",
      "****\n",
      "*****\n"
     ]
    }
   ],
   "source": [
    "for i in range(6) :\n",
    "    print(\"*\"*i)"
   ]
  },
  {
   "cell_type": "code",
   "execution_count": 440,
   "id": "b4b01d62-f16e-483c-a8bc-e94d570658d4",
   "metadata": {},
   "outputs": [
    {
     "name": "stdout",
     "output_type": "stream",
     "text": [
      "1 2\n",
      "3 4\n",
      "5 6\n"
     ]
    }
   ],
   "source": [
    "a  = [(1,2), (3,4), (5,6)]\n",
    "for (i,j) in a: \n",
    "    print (i,j)  # a 안에 변수 i,j를 출력하기 "
   ]
  },
  {
   "cell_type": "code",
   "execution_count": 446,
   "id": "738c59bd-0b75-411d-988f-18eef6f0112e",
   "metadata": {},
   "outputs": [
    {
     "name": "stdout",
     "output_type": "stream",
     "text": [
      "1학생은 합격입니다\n",
      "2학생은 불합격입니다\n",
      "3학생은 합격입니다\n",
      "4학생은 불합격입니다\n",
      "5학생은 합격입니다\n"
     ]
    }
   ],
   "source": [
    "marks = [90,25,67,45,80]\n",
    "number = 0 \n",
    "for mark in marks :\n",
    "    number = number + 1 \n",
    "    if mark >= 60 :\n",
    "        print(f\"{number}학생은 합격입니다\")\n",
    "    else:\n",
    "        print(f\"{number}학생은 불합격입니다\")\n",
    "\n",
    "# 리스트가 있어 마크스라는 , 그리고 숫자는 0부터 시작해 마크는 마크스에서 부터 시작해\n",
    "# 숫자는 시행할때마다 하나씩 더해져  그리고 마크스안에 서 반복하는 마크가 60이 넘는다면 \n",
    "그 넘버 숫자는 합격이라고 써줄거야 "
   ]
  },
  {
   "cell_type": "code",
   "execution_count": 447,
   "id": "b039856d-c942-4047-b4c7-c9554e425afd",
   "metadata": {},
   "outputs": [],
   "source": [
    " # 1부터 10 더하기 \n"
   ]
  },
  {
   "cell_type": "code",
   "execution_count": 459,
   "id": "86e4c23d-8b46-47e4-bc5e-7b6d51a9ffe7",
   "metadata": {},
   "outputs": [
    {
     "name": "stdout",
     "output_type": "stream",
     "text": [
      "1\n",
      "3\n",
      "6\n",
      "10\n",
      "15\n",
      "21\n",
      "28\n",
      "36\n",
      "45\n",
      "55\n"
     ]
    }
   ],
   "source": [
    "sum = 0\n",
    "for i in range(1,11) :\n",
    "    sum = sum + i\n",
    "    print(sum)"
   ]
  },
  {
   "cell_type": "code",
   "execution_count": 460,
   "id": "ae98f118-21b5-4dfd-a641-7fdbfa6b430b",
   "metadata": {},
   "outputs": [
    {
     "name": "stdout",
     "output_type": "stream",
     "text": [
      "5050\n"
     ]
    }
   ],
   "source": [
    "sum = 0\n",
    "for i in range(1,101) :\n",
    "    sum += i   #4칙연산 다가능 \n",
    "print(sum) #프린트를 어디다가 거냐에 따라서 출력값이 달라짐"
   ]
  },
  {
   "cell_type": "code",
   "execution_count": null,
   "id": "6ed64274-c1ad-4c95-aa99-8bdde28edd87",
   "metadata": {},
   "outputs": [],
   "source": [
    "# 합 1 3 = 1 + 2  6 = 3 + 3   10 = 6 + 4  15 10 + 5  \n",
    "\n",
    "\n",
    "1 = 0 + 1\n",
    "\n",
    "sum = sum' + i   # i 만큼 더한다. "
   ]
  },
  {
   "cell_type": "code",
   "execution_count": 463,
   "id": "b103a5ba-9c20-4a57-b21e-a49611b965d9",
   "metadata": {},
   "outputs": [
    {
     "name": "stdout",
     "output_type": "stream",
     "text": [
      "1\n",
      "2\n",
      "3\n"
     ]
    }
   ],
   "source": [
    "a = [1,2,3]\n",
    "for i in a :\n",
    "    print(i)"
   ]
  },
  {
   "cell_type": "code",
   "execution_count": 63,
   "id": "82726191-5f49-4550-8143-299341cfd156",
   "metadata": {},
   "outputs": [
    {
     "name": "stdout",
     "output_type": "stream",
     "text": [
      "1 1\n",
      "1 2\n",
      "1 3\n",
      "2 a\n",
      "2 b\n",
      "2 c\n"
     ]
    },
    {
     "ename": "IndexError",
     "evalue": "list index out of range",
     "output_type": "error",
     "traceback": [
      "\u001b[1;31m---------------------------------------------------------------------------\u001b[0m",
      "\u001b[1;31mIndexError\u001b[0m                                Traceback (most recent call last)",
      "\u001b[1;32m~\\AppData\\Local\\Temp/ipykernel_6644/333581128.py\u001b[0m in \u001b[0;36m<module>\u001b[1;34m\u001b[0m\n\u001b[0;32m      2\u001b[0m \u001b[1;32mfor\u001b[0m \u001b[0mi\u001b[0m \u001b[1;32min\u001b[0m \u001b[0mrange\u001b[0m\u001b[1;33m(\u001b[0m\u001b[1;36m3\u001b[0m\u001b[1;33m)\u001b[0m \u001b[1;33m:\u001b[0m\u001b[1;33m\u001b[0m\u001b[1;33m\u001b[0m\u001b[0m\n\u001b[0;32m      3\u001b[0m     \u001b[1;32mfor\u001b[0m \u001b[0mj\u001b[0m \u001b[1;32min\u001b[0m \u001b[0mrange\u001b[0m\u001b[1;33m(\u001b[0m\u001b[1;36m3\u001b[0m\u001b[1;33m)\u001b[0m\u001b[1;33m:\u001b[0m\u001b[1;33m\u001b[0m\u001b[1;33m\u001b[0m\u001b[0m\n\u001b[1;32m----> 4\u001b[1;33m         \u001b[0mprint\u001b[0m\u001b[1;33m(\u001b[0m\u001b[0mi\u001b[0m\u001b[1;33m+\u001b[0m\u001b[1;36m1\u001b[0m\u001b[1;33m,\u001b[0m \u001b[0ma\u001b[0m\u001b[1;33m[\u001b[0m\u001b[0mi\u001b[0m\u001b[1;33m]\u001b[0m\u001b[1;33m[\u001b[0m\u001b[0mj\u001b[0m\u001b[1;33m]\u001b[0m\u001b[1;33m)\u001b[0m\u001b[1;33m\u001b[0m\u001b[1;33m\u001b[0m\u001b[0m\n\u001b[0m",
      "\u001b[1;31mIndexError\u001b[0m: list index out of range"
     ]
    }
   ],
   "source": [
    "a = [[1,2,3],[\"a\", \"b\" ,\"c\"]]   # i를 012범위에서 출력을 하는데 3번 반복 첫번째는 i+1을해서 1부터  두번째는 a의 이중리스트를 사용해서 출력 i번째 리스트안에 j 객체 \n",
    "for i in range(3) :\n",
    "    for j in range(3):\n",
    "        print(i+1, a[i][j])"
   ]
  },
  {
   "cell_type": "code",
   "execution_count": 66,
   "id": "c8c51649-e6a2-49a7-81ff-4764f380550b",
   "metadata": {},
   "outputs": [
    {
     "name": "stdout",
     "output_type": "stream",
     "text": [
      "0\n",
      "0\n",
      "1\n",
      "1\n",
      "2\n",
      "2\n"
     ]
    }
   ],
   "source": [
    "for i in range(3) : #i를 012범위에 출력 했을때 2번 반복을 의미\n",
    "    for j in range(2):\n",
    "        print(i) # 두번 겹쳤을때 i 값 "
   ]
  },
  {
   "cell_type": "code",
   "execution_count": null,
   "id": "cd57879a-a89b-4ee0-a212-0627bbad336f",
   "metadata": {},
   "outputs": [],
   "source": []
  },
  {
   "cell_type": "code",
   "execution_count": 329,
   "id": "022b63ff-a4ba-44f9-bba9-8d314071c5b0",
   "metadata": {},
   "outputs": [
    {
     "name": "stdout",
     "output_type": "stream",
     "text": [
      "[1, 2, 3]\n",
      "[1, 2, 3]\n",
      "[1, 2, 3]\n",
      "['a', 'b', 'c']\n",
      "['a', 'b', 'c']\n",
      "['a', 'b', 'c']\n"
     ]
    },
    {
     "ename": "IndexError",
     "evalue": "list index out of range",
     "output_type": "error",
     "traceback": [
      "\u001b[1;31m---------------------------------------------------------------------------\u001b[0m",
      "\u001b[1;31mIndexError\u001b[0m                                Traceback (most recent call last)",
      "\u001b[1;32m~\\AppData\\Local\\Temp/ipykernel_14696/3451270442.py\u001b[0m in \u001b[0;36m<module>\u001b[1;34m\u001b[0m\n\u001b[0;32m      2\u001b[0m \u001b[1;32mfor\u001b[0m \u001b[0mi\u001b[0m \u001b[1;32min\u001b[0m \u001b[0mrange\u001b[0m\u001b[1;33m(\u001b[0m\u001b[1;36m3\u001b[0m\u001b[1;33m)\u001b[0m \u001b[1;33m:\u001b[0m\u001b[1;33m\u001b[0m\u001b[1;33m\u001b[0m\u001b[0m\n\u001b[0;32m      3\u001b[0m     \u001b[1;32mfor\u001b[0m \u001b[0mj\u001b[0m \u001b[1;32min\u001b[0m \u001b[0mrange\u001b[0m\u001b[1;33m(\u001b[0m\u001b[1;36m3\u001b[0m\u001b[1;33m)\u001b[0m\u001b[1;33m:\u001b[0m\u001b[1;33m\u001b[0m\u001b[1;33m\u001b[0m\u001b[0m\n\u001b[1;32m----> 4\u001b[1;33m         \u001b[0mprint\u001b[0m\u001b[1;33m(\u001b[0m\u001b[0ma\u001b[0m\u001b[1;33m[\u001b[0m\u001b[0mi\u001b[0m\u001b[1;33m]\u001b[0m\u001b[1;33m)\u001b[0m\u001b[1;33m\u001b[0m\u001b[1;33m\u001b[0m\u001b[0m\n\u001b[0m",
      "\u001b[1;31mIndexError\u001b[0m: list index out of range"
     ]
    }
   ],
   "source": [
    "a = [[1,2,3],[\"a\", \"b\" , \"c\"]]\n",
    "for i in range(3) :\n",
    "    for j in range(3):\n",
    "        print(a[i])"
   ]
  },
  {
   "cell_type": "code",
   "execution_count": 71,
   "id": "2370e97e-5530-4440-8ce4-b806570e755a",
   "metadata": {},
   "outputs": [
    {
     "name": "stdout",
     "output_type": "stream",
     "text": [
      "[2, 4, 6, 8, 10] [1, 3, 5, 7, 9]\n"
     ]
    }
   ],
   "source": [
    "even = []\n",
    "odd = []\n",
    "for i in range(1,11) :\n",
    "    if i%2 == 0 : \n",
    "        even.append(i)\n",
    "    else :\n",
    "        odd.append(i)\n",
    "print(even,odd)"
   ]
  },
  {
   "cell_type": "markdown",
   "id": "5366745c-5153-40ef-8bfb-9b945aa9e38e",
   "metadata": {},
   "source": [
    "### 리스트 내포  comprehension \n",
    "리스트 내포란 함수를 간단하게 한줄로 만드는 것을 말한다."
   ]
  },
  {
   "cell_type": "code",
   "execution_count": 479,
   "id": "689f0191-ba43-4268-a3dd-e984c79a3b3a",
   "metadata": {},
   "outputs": [
    {
     "name": "stdout",
     "output_type": "stream",
     "text": [
      "[2, 4, 6, 8]\n"
     ]
    }
   ],
   "source": [
    "a = [ 1, 2 , 3 , 4]\n",
    "b = []\n",
    "for i in a: \n",
    "    #print(i*2)\n",
    "    b.append(i*2)\n",
    "print(b)\n",
    "# 빈리스트를 만들어주고 거기다가 i 의 값을 2배 곱해서 넣어준다"
   ]
  },
  {
   "cell_type": "code",
   "execution_count": 67,
   "id": "35f82cfa-02f3-472a-985c-9f3a32d694fc",
   "metadata": {},
   "outputs": [
    {
     "name": "stdout",
     "output_type": "stream",
     "text": [
      "[2, 4, 6, 8]\n"
     ]
    }
   ],
   "source": [
    "a = [ 1, 2 , 3 , 4]\n",
    "print([2*i for i in a]) # 이것이 리스트 컴프리핸션이다. 먼저 표현식 (프린크하려는값) for i in list if 조건 \n"
   ]
  },
  {
   "cell_type": "code",
   "execution_count": 481,
   "id": "988a98cd-1ae9-4e0a-940f-a01e5045e10e",
   "metadata": {},
   "outputs": [
    {
     "name": "stdout",
     "output_type": "stream",
     "text": [
      "[6, 12]\n"
     ]
    }
   ],
   "source": [
    "a = [ 1, 2 , 3 , 4]\n",
    "b = []\n",
    "for i in a: \n",
    "    if i%2 == 0 :\n",
    "        b.append(i*3)\n",
    "print(b)"
   ]
  },
  {
   "cell_type": "code",
   "execution_count": 482,
   "id": "3744aa4d-5ab6-489a-a4a9-273e38b2a0b9",
   "metadata": {},
   "outputs": [
    {
     "name": "stdout",
     "output_type": "stream",
     "text": [
      "[6, 12]\n"
     ]
    }
   ],
   "source": [
    "a = [ 1, 2 , 3 , 4]\n",
    "print([3*i for i in a if i % 2 == 0 ])"
   ]
  },
  {
   "cell_type": "code",
   "execution_count": 68,
   "id": "ee8b1326-872e-4b94-bdad-2255471dc77f",
   "metadata": {},
   "outputs": [
    {
     "name": "stdout",
     "output_type": "stream",
     "text": [
      "[1, 2, 3]\n",
      "['a', 'b', 'c', 'd']\n"
     ]
    }
   ],
   "source": [
    "a = [[1,2,3],[\"a\", \"b\" , \"c\" , \"d\"]]\n",
    "for i in a :\n",
    "    print(i)"
   ]
  },
  {
   "cell_type": "code",
   "execution_count": 487,
   "id": "3581070f-8090-4ade-b763-b185c15266c3",
   "metadata": {},
   "outputs": [
    {
     "name": "stdout",
     "output_type": "stream",
     "text": [
      "1\n",
      "2\n",
      "3\n",
      "a\n",
      "b\n",
      "c\n",
      "d\n"
     ]
    }
   ],
   "source": [
    "a = [[1,2,3],[\"a\", \"b\" , \"c\" , \"d\"]]\n",
    "for i in a :\n",
    "    for j in i :\n",
    "        print(j)"
   ]
  },
  {
   "cell_type": "code",
   "execution_count": null,
   "id": "fbdb6ff2-ad55-4245-b7a6-8e4fbfa45d7b",
   "metadata": {},
   "outputs": [],
   "source": [
    "# i는  : 두가지 / a는 리스트  i 도 리스트  "
   ]
  },
  {
   "cell_type": "code",
   "execution_count": 489,
   "id": "b332b87e-31bc-453a-8805-486e123c3958",
   "metadata": {},
   "outputs": [
    {
     "name": "stdout",
     "output_type": "stream",
     "text": [
      "1\n",
      "2\n"
     ]
    }
   ],
   "source": [
    "a = [[1,2,3],[\"a\", \"b\" , \"c\" , \"d\"]]\n",
    "print(a[0][0])\n",
    "print(a[0][1])\n",
    "print(a[0][1])\n",
    "print(a[0][1])\n",
    "print(a[0][1])\n",
    "print(a[0][1])\n",
    "print(a[0][1])\n",
    "print(a[0][1])"
   ]
  },
  {
   "cell_type": "code",
   "execution_count": null,
   "id": "8539b185-889a-47f0-ae51-06198146007e",
   "metadata": {},
   "outputs": [],
   "source": [
    "printa[i][j]"
   ]
  },
  {
   "cell_type": "code",
   "execution_count": 69,
   "id": "dc86a1b2-7a8d-44a0-a898-e727b4e86687",
   "metadata": {},
   "outputs": [
    {
     "name": "stdout",
     "output_type": "stream",
     "text": [
      "1\n",
      "2\n",
      "3\n",
      "4\n",
      "a\n",
      "b\n",
      "c\n",
      "d\n"
     ]
    }
   ],
   "source": [
    "a = [[1,2,3,4],[\"a\", \"b\" , \"c\" , \"d\"]]\n",
    "for i in [0,1] :\n",
    "    for j in [0,1,2,3] :\n",
    "        print(a[i][j]) #이렇게 하면 좀더 직관적으로 이해하기 쉬움"
   ]
  },
  {
   "cell_type": "code",
   "execution_count": 491,
   "id": "fb0b97f2-a42b-44e8-86bd-d381ba5f4f7a",
   "metadata": {},
   "outputs": [
    {
     "name": "stdout",
     "output_type": "stream",
     "text": [
      "1\n",
      "2\n",
      "3\n",
      "4\n",
      "a\n",
      "b\n",
      "c\n",
      "d\n"
     ]
    }
   ],
   "source": [
    "a = [[1,2,3,4],[\"a\", \"b\" , \"c\" , \"d\"]]\n",
    "for i in range(2) :\n",
    "    for j in [0,1,2,3] :\n",
    "        print(a[i][j])"
   ]
  },
  {
   "cell_type": "code",
   "execution_count": 494,
   "id": "bf24ae72-4f70-4892-a147-81b7f0659885",
   "metadata": {},
   "outputs": [
    {
     "name": "stdout",
     "output_type": "stream",
     "text": [
      "1\n",
      "2\n",
      "3\n",
      "4\n",
      "a\n",
      "b\n",
      "c\n",
      "d\n"
     ]
    }
   ],
   "source": [
    "a = [[1,2,3,4],[\"a\", \"b\" , \"c\" , \"d\"]]\n",
    "for i in range(len(a)) :\n",
    "    for j in range(len(a[i])) :\n",
    "        print(a[i][j])"
   ]
  },
  {
   "cell_type": "code",
   "execution_count": null,
   "id": "8065f090-20ca-4b33-b0a8-2618941e218f",
   "metadata": {},
   "outputs": [],
   "source": [
    "# for 1부터 100 까지합\n",
    "sum = 0\n",
    "for i in range(1,101,2):\n",
    "    sum += i\n",
    "print(sum)\n",
    "# for 1부터 100 까지합  입력받은 수까지의 합\n",
    "sum = 0\n",
    "num = int(input(\"숫자를 입력하세요\"))\n",
    "for i in range(1, num+1 ):\n",
    "    sum += i\n",
    "print(sum)\n",
    "# for a부터 b 까지 홀수들 또는  짝수까지의 합\n",
    "sum = 0\n",
    "a = int(input(\"숫자를 입력하세요\"))\n",
    "b = int(input(\"숫자를 입력하세요\"))\n",
    "for i in range(a ,b+1 ,2 ):\n",
    "    sum += i\n",
    "print(sum)"
   ]
  },
  {
   "cell_type": "markdown",
   "id": "c281e983-b60e-4b7e-beb8-a0615d7497b7",
   "metadata": {},
   "source": [
    "## 3-2 while 문 \n",
    "-if + for  반복을 조건에 따라 반복한다 \n",
    "\n",
    "for은 정해진 숫자 반복\n",
    "while은 ㅁ무한반복 "
   ]
  },
  {
   "cell_type": "code",
   "execution_count": 70,
   "id": "8dcdc15d-6707-4d10-94cc-9f663ac42517",
   "metadata": {},
   "outputs": [
    {
     "name": "stdout",
     "output_type": "stream",
     "text": [
      "11\n"
     ]
    }
   ],
   "source": [
    "sum = 0\n",
    "for i in range(11) :\n",
    "    sum = sum + 1 \n",
    "print(sum)"
   ]
  },
  {
   "cell_type": "code",
   "execution_count": 497,
   "id": "81aa2974-9349-43a9-ba65-7d1363c566f1",
   "metadata": {},
   "outputs": [
    {
     "name": "stdout",
     "output_type": "stream",
     "text": [
      "나무 1번 찍었습니다 \n",
      "나무 2번 찍었습니다 \n",
      "나무 3번 찍었습니다 \n",
      "나무 4번 찍었습니다 \n",
      "나무 5번 찍었습니다 \n",
      "나무 6번 찍었습니다 \n",
      "나무 7번 찍었습니다 \n",
      "나무 8번 찍었습니다 \n",
      "나무 9번 찍었습니다 \n",
      "나무 10번 찍었습니다 \n",
      "나무 넘어 값니다\n"
     ]
    }
   ],
   "source": [
    "treehit = 0\n",
    "while treehit < 10:\n",
    "    treehit = treehit + 1\n",
    "    print(f\"나무 {treehit}번 찍었습니다 \")\n",
    "    if treehit == 10:\n",
    "        print(\"나무 넘어 값니다\")"
   ]
  },
  {
   "cell_type": "code",
   "execution_count": 498,
   "id": "c2269eed-256b-4ef6-8d54-0e602e258f08",
   "metadata": {},
   "outputs": [
    {
     "name": "stdout",
     "output_type": "stream",
     "text": [
      "1\n",
      "2\n",
      "3\n",
      "4\n",
      "5\n",
      "6\n",
      "7\n",
      "8\n",
      "9\n",
      "10\n"
     ]
    }
   ],
   "source": [
    "k = 0 \n",
    "while k < 10 :\n",
    "    k = k+1\n",
    "    print(k)"
   ]
  },
  {
   "cell_type": "code",
   "execution_count": 511,
   "id": "2e44e265-df9b-4fe1-81f4-4700784224fa",
   "metadata": {},
   "outputs": [
    {
     "name": "stdout",
     "output_type": "stream",
     "text": [
      "1\n",
      "2\n",
      "4\n",
      "5\n",
      "7\n",
      "8\n",
      "10\n"
     ]
    }
   ],
   "source": [
    "#brake vs continue(위로 올라감,2 인상황이 올라가 ) vs pass\n",
    "a = 0 \n",
    "while a < 10 :\n",
    "    a += 1\n",
    "    if a%3 == 0:\n",
    "        continue\n",
    "    print(a)"
   ]
  },
  {
   "cell_type": "code",
   "execution_count": 526,
   "id": "4b6bd14c-064b-415f-83d2-d6f903a25d1c",
   "metadata": {},
   "outputs": [
    {
     "ename": "IndentationError",
     "evalue": "expected an indented block (Temp/ipykernel_604/694432663.py, line 4)",
     "output_type": "error",
     "traceback": [
      "\u001b[1;36m  File \u001b[1;32m\"C:\\Users\\kyun\\AppData\\Local\\Temp/ipykernel_604/694432663.py\"\u001b[1;36m, line \u001b[1;32m4\u001b[0m\n\u001b[1;33m    sum = sum + score\u001b[0m\n\u001b[1;37m    ^\u001b[0m\n\u001b[1;31mIndentationError\u001b[0m\u001b[1;31m:\u001b[0m expected an indented block\n"
     ]
    }
   ],
   "source": [
    "score = [ 70,60,55,75,95,90,80,80,85,100]\n",
    "sum = 0\n",
    "for score in scores:\n",
    "sum = sum + score\n",
    "print(sum/len(a))"
   ]
  },
  {
   "cell_type": "code",
   "execution_count": 532,
   "id": "8eb7bbb7-9453-410e-8d4d-0893b40ac32f",
   "metadata": {},
   "outputs": [
    {
     "name": "stdout",
     "output_type": "stream",
     "text": [
      "79.0\n"
     ]
    }
   ],
   "source": [
    "a = [ 70,60,55,75,95,90,80,80,85,100]\n",
    "sum = 0\n",
    "for score in a :\n",
    "    sum = sum + score\n",
    "print(sum/len(a))"
   ]
  },
  {
   "cell_type": "markdown",
   "id": "b3fbeff5-d0a5-4e29-9650-aac175d9030d",
   "metadata": {},
   "source": [
    "## 3단원 취약점 : for 두번 겹쳐질때 헷갈림 "
   ]
  },
  {
   "cell_type": "markdown",
   "id": "8a24e213-2672-41a0-bcf0-4d7532d809ae",
   "metadata": {},
   "source": [
    "# 4.프로그램의 입출력"
   ]
  },
  {
   "cell_type": "markdown",
   "id": "6778f0aa-a133-4c12-935c-f5451589a764",
   "metadata": {},
   "source": [
    "## 4-1 함수 \n",
    "함수는 알고 있는 것과 똑같다"
   ]
  },
  {
   "cell_type": "code",
   "execution_count": null,
   "id": "d23fd308-5e0c-404e-995c-0a2038223f70",
   "metadata": {},
   "outputs": [],
   "source": [
    "# 함수 만들기\n",
    " def 함수이름( , ) :\n",
    "        실행"
   ]
  },
  {
   "cell_type": "code",
   "execution_count": 534,
   "id": "41a60435-55d1-4fd5-aa45-aac1a58bcc3a",
   "metadata": {},
   "outputs": [],
   "source": [
    "def add(a,b) :   # 여기서 a와 b는 매개변수이고 C는 인수이다 . 그리고 함수에서는 프린트보다는 return을쓴다. \n",
    "    c = a + b\n",
    "    print(c) "
   ]
  },
  {
   "cell_type": "code",
   "execution_count": 535,
   "id": "1ce5f9a2-77b9-4f36-bed5-cae0302c8704",
   "metadata": {},
   "outputs": [
    {
     "name": "stdout",
     "output_type": "stream",
     "text": [
      "4\n"
     ]
    }
   ],
   "source": [
    "add(1,3)"
   ]
  },
  {
   "cell_type": "code",
   "execution_count": 536,
   "id": "c172b9f9-2a9f-458a-ac0c-5e2b15072a56",
   "metadata": {},
   "outputs": [],
   "source": [
    "def add(a,b) :\n",
    "    print(a + b)"
   ]
  },
  {
   "cell_type": "code",
   "execution_count": 537,
   "id": "d241eade-eaa6-4a8a-8246-ff4333aef744",
   "metadata": {},
   "outputs": [],
   "source": [
    "def add(a,b):\n",
    "    print(a + b)"
   ]
  },
  {
   "cell_type": "code",
   "execution_count": null,
   "id": "0d0cce86-c273-4995-867c-798b536aad48",
   "metadata": {},
   "outputs": [],
   "source": [
    "def say():\n",
    "    print(\"hello\")\n",
    "say()\n",
    "\n",
    "#컨 쉽 - 쉽 m 통합"
   ]
  },
  {
   "cell_type": "code",
   "execution_count": 540,
   "id": "47ce08da-9d6c-4a1c-a32d-a30a02ed9149",
   "metadata": {},
   "outputs": [
    {
     "name": "stdout",
     "output_type": "stream",
     "text": [
      "hello\n"
     ]
    },
    {
     "ename": "TypeError",
     "evalue": "unsupported operand type(s) for +: 'NoneType' and 'str'",
     "output_type": "error",
     "traceback": [
      "\u001b[1;31m---------------------------------------------------------------------------\u001b[0m",
      "\u001b[1;31mTypeError\u001b[0m                                 Traceback (most recent call last)",
      "\u001b[1;32m~\\AppData\\Local\\Temp/ipykernel_604/1165478241.py\u001b[0m in \u001b[0;36m<module>\u001b[1;34m\u001b[0m\n\u001b[0;32m      1\u001b[0m \u001b[0ma\u001b[0m \u001b[1;33m=\u001b[0m \u001b[0msay\u001b[0m\u001b[1;33m(\u001b[0m\u001b[1;33m)\u001b[0m\u001b[1;33m\u001b[0m\u001b[1;33m\u001b[0m\u001b[0m\n\u001b[1;32m----> 2\u001b[1;33m \u001b[0mprint\u001b[0m\u001b[1;33m(\u001b[0m\u001b[0ma\u001b[0m \u001b[1;33m+\u001b[0m \u001b[1;34m\"good moring\"\u001b[0m\u001b[1;33m)\u001b[0m\u001b[1;33m\u001b[0m\u001b[1;33m\u001b[0m\u001b[0m\n\u001b[0m",
      "\u001b[1;31mTypeError\u001b[0m: unsupported operand type(s) for +: 'NoneType' and 'str'"
     ]
    }
   ],
   "source": [
    "a = say()\n",
    "print(a + \"good moring\") # 결과 값이 없는함수 "
   ]
  },
  {
   "cell_type": "code",
   "execution_count": 541,
   "id": "9675b531-e847-41dd-a963-2e978963df53",
   "metadata": {},
   "outputs": [],
   "source": [
    "# 1개를 입력 받아서 입력값의 2배를 출력해주는 함수 만들어 주세요 "
   ]
  },
  {
   "cell_type": "code",
   "execution_count": 542,
   "id": "0ccbb084-3e52-4444-9a4e-8a5966ad1811",
   "metadata": {},
   "outputs": [],
   "source": [
    "def double(a):\n",
    "    print(a*2)"
   ]
  },
  {
   "cell_type": "code",
   "execution_count": 544,
   "id": "c221d353-4950-4131-a2c9-b8f5f08c02a0",
   "metadata": {},
   "outputs": [
    {
     "name": "stdout",
     "output_type": "stream",
     "text": [
      "2\n"
     ]
    }
   ],
   "source": [
    "double(1)"
   ]
  },
  {
   "cell_type": "code",
   "execution_count": 547,
   "id": "934d3dba-930b-4a20-97f5-b9e7f6c91df6",
   "metadata": {},
   "outputs": [],
   "source": [
    "def t(a,b):\n",
    "    print(a*b)"
   ]
  },
  {
   "cell_type": "code",
   "execution_count": 548,
   "id": "84c84f10-9f59-4d71-86a7-dcf4d10cd300",
   "metadata": {},
   "outputs": [
    {
     "name": "stdout",
     "output_type": "stream",
     "text": [
      "20\n"
     ]
    }
   ],
   "source": [
    "t(5,4)"
   ]
  },
  {
   "cell_type": "code",
   "execution_count": 568,
   "id": "2db39b81-cb6a-4da3-a907-1e47242a9273",
   "metadata": {},
   "outputs": [
    {
     "name": "stdout",
     "output_type": "stream",
     "text": [
      "[2, 4, 6, 8, 10] [1, 3, 5, 7, 9]\n"
     ]
    }
   ],
   "source": []
  },
  {
   "cell_type": "code",
   "execution_count": 577,
   "id": "81067bae-1166-465c-b6eb-3850994977aa",
   "metadata": {},
   "outputs": [],
   "source": [
    "def add(a,b,c = 10) :\n",
    "    result = a - b + c\n",
    "    return result"
   ]
  },
  {
   "cell_type": "code",
   "execution_count": 578,
   "id": "0c0e3532-1e48-4a36-8456-f77ababb1c56",
   "metadata": {},
   "outputs": [
    {
     "data": {
      "text/plain": [
       "9"
      ]
     },
     "execution_count": 578,
     "metadata": {},
     "output_type": "execute_result"
    }
   ],
   "source": [
    "add(1,2)"
   ]
  },
  {
   "cell_type": "code",
   "execution_count": 579,
   "id": "37af1cd9-c91c-4d53-a313-1a405f0c5e4b",
   "metadata": {},
   "outputs": [
    {
     "data": {
      "text/plain": [
       "2"
      ]
     },
     "execution_count": 579,
     "metadata": {},
     "output_type": "execute_result"
    }
   ],
   "source": [
    "add(1,2,3) # 디폴트가 10 들어오면 뭉개"
   ]
  },
  {
   "cell_type": "code",
   "execution_count": 580,
   "id": "9d076bca-29f1-4949-8378-7796f4874c2e",
   "metadata": {},
   "outputs": [
    {
     "data": {
      "text/plain": [
       "2"
      ]
     },
     "execution_count": 580,
     "metadata": {},
     "output_type": "execute_result"
    }
   ],
   "source": [
    "add(a = 1, b =2 , c = 3)"
   ]
  },
  {
   "cell_type": "code",
   "execution_count": 582,
   "id": "dcb333bc-9564-4cb1-9ce7-e05d50f11d91",
   "metadata": {},
   "outputs": [
    {
     "data": {
      "text/plain": [
       "2"
      ]
     },
     "execution_count": 582,
     "metadata": {},
     "output_type": "execute_result"
    }
   ],
   "source": [
    "add(b =2, a = 1, c = 3)"
   ]
  },
  {
   "cell_type": "code",
   "execution_count": 584,
   "id": "dec2d1f3-8b49-4630-b523-2d0d4b544ad2",
   "metadata": {},
   "outputs": [
    {
     "ename": "SyntaxError",
     "evalue": "non-default argument follows default argument (Temp/ipykernel_604/2187200027.py, line 1)",
     "output_type": "error",
     "traceback": [
      "\u001b[1;36m  File \u001b[1;32m\"C:\\Users\\kyun\\AppData\\Local\\Temp/ipykernel_604/2187200027.py\"\u001b[1;36m, line \u001b[1;32m1\u001b[0m\n\u001b[1;33m    def add(a, b = 10,c) :\u001b[0m\n\u001b[1;37m                       ^\u001b[0m\n\u001b[1;31mSyntaxError\u001b[0m\u001b[1;31m:\u001b[0m non-default argument follows default argument\n"
     ]
    }
   ],
   "source": [
    "def add(a, b = 10,c) :\n",
    "    result = a - b + c\n",
    "    return result # 순서가 중요함 C =10 인것은 가능하나 비는 불가능"
   ]
  },
  {
   "cell_type": "code",
   "execution_count": 585,
   "id": "debeec4d-ae76-4160-a996-fcb120af280f",
   "metadata": {},
   "outputs": [],
   "source": [
    "#입력값이 여러개 \n",
    "def add_many(*a):\n",
    "    result = 0\n",
    "    for i in a : \n",
    "        result += i \n",
    "    return result"
   ]
  },
  {
   "cell_type": "code",
   "execution_count": 586,
   "id": "4c45dbf5-bcc0-4525-8671-856612c54012",
   "metadata": {},
   "outputs": [
    {
     "data": {
      "text/plain": [
       "15"
      ]
     },
     "execution_count": 586,
     "metadata": {},
     "output_type": "execute_result"
    }
   ],
   "source": [
    "add_many(1,2,3,4,5)"
   ]
  },
  {
   "cell_type": "code",
   "execution_count": null,
   "id": "a63e54d7-2e5f-4f84-9f30-e40fd14e16f8",
   "metadata": {},
   "outputs": [],
   "source": [
    "def add_mul(a,b) : \n",
    "    return a+b , a*b\n",
    "    "
   ]
  },
  {
   "cell_type": "code",
   "execution_count": null,
   "id": "d9275176-2579-4bea-b1f5-7d0040b796d1",
   "metadata": {},
   "outputs": [],
   "source": [
    "add_mul(1,2)  #두가개 동시에 , 디폴트 튜플 묶어서 내버림"
   ]
  },
  {
   "cell_type": "code",
   "execution_count": null,
   "id": "9e777699-ea4a-4bf1-8793-4d625fc1784e",
   "metadata": {},
   "outputs": [],
   "source": [
    "first, second = add_mul(1,2)"
   ]
  },
  {
   "cell_type": "code",
   "execution_count": 593,
   "id": "a464d69a-95bb-4e20-ba7c-1b4ff70c47b9",
   "metadata": {},
   "outputs": [
    {
     "data": {
      "text/plain": [
       "3"
      ]
     },
     "execution_count": 593,
     "metadata": {},
     "output_type": "execute_result"
    }
   ],
   "source": [
    "first"
   ]
  },
  {
   "cell_type": "code",
   "execution_count": 595,
   "id": "7714c330-b3a8-46f3-bf13-545665199693",
   "metadata": {},
   "outputs": [
    {
     "data": {
      "text/plain": [
       "2"
      ]
     },
     "execution_count": 595,
     "metadata": {},
     "output_type": "execute_result"
    }
   ],
   "source": [
    "second #튜플이 디폴트니까 안써도 ㅇㅋ "
   ]
  },
  {
   "cell_type": "code",
   "execution_count": 610,
   "id": "c5cb29c8-8dc6-41ac-b4b3-bc29af97f444",
   "metadata": {},
   "outputs": [
    {
     "ename": "SyntaxError",
     "evalue": "invalid syntax (Temp/ipykernel_604/479906267.py, line 3)",
     "output_type": "error",
     "traceback": [
      "\u001b[1;36m  File \u001b[1;32m\"C:\\Users\\kyun\\AppData\\Local\\Temp/ipykernel_604/479906267.py\"\u001b[1;36m, line \u001b[1;32m3\u001b[0m\n\u001b[1;33m    for i inrange(1,a+1)\u001b[0m\n\u001b[1;37m          ^\u001b[0m\n\u001b[1;31mSyntaxError\u001b[0m\u001b[1;31m:\u001b[0m invalid syntax\n"
     ]
    }
   ],
   "source": [
    "def add_x(a) :\n",
    "    sum = 0\n",
    "    for i inrange(1,a+1)\n",
    "        sum += i\n",
    "    print(sum)"
   ]
  },
  {
   "cell_type": "code",
   "execution_count": 616,
   "id": "864b1005-5581-4235-9986-a9241ba5c9d9",
   "metadata": {},
   "outputs": [],
   "source": [
    "def add_plus(a,b) :\n",
    "    sum = 0 \n",
    "    for i in range(a,b+1,2):\n",
    "        sum += i\n",
    "    return sum\n"
   ]
  },
  {
   "cell_type": "code",
   "execution_count": 617,
   "id": "4232090c-d17b-489b-aa4a-e29c1512cb38",
   "metadata": {},
   "outputs": [
    {
     "data": {
      "text/plain": [
       "25"
      ]
     },
     "execution_count": 617,
     "metadata": {},
     "output_type": "execute_result"
    }
   ],
   "source": [
    "add_plus(1,10)"
   ]
  },
  {
   "cell_type": "code",
   "execution_count": 618,
   "id": "c9c9e059-2f5d-4146-9b7a-1bc0ea52c3d3",
   "metadata": {},
   "outputs": [],
   "source": [
    "# 이름과 나이를 입력받아서 나의 이름은 ㅁㅁ 이고 나이는 ㅁㅁ세 입니다 "
   ]
  },
  {
   "cell_type": "code",
   "execution_count": null,
   "id": "460d5110-cd8a-4ce8-95ba-3dcb70528160",
   "metadata": {},
   "outputs": [],
   "source": []
  },
  {
   "cell_type": "code",
   "execution_count": null,
   "id": "4fe1b665-7934-4eba-a455-239bc3149800",
   "metadata": {},
   "outputs": [],
   "source": [
    "name = input()\n",
    "age = int(input())\n",
    "print(f\"나의 이름은{name}이고 나이는 {age} 입니다\")"
   ]
  },
  {
   "cell_type": "code",
   "execution_count": null,
   "id": "d9c9f851-f293-47c0-b07a-3c6355f2dc0b",
   "metadata": {},
   "outputs": [],
   "source": [
    "#[1,2,3]의 합과 평균은? \n",
    "#총합은 00이고 평균은 00입니다. \n"
   ]
  },
  {
   "cell_type": "code",
   "execution_count": null,
   "id": "6702b37c-7296-4437-98ad-2923d5125c3c",
   "metadata": {},
   "outputs": [],
   "source": []
  },
  {
   "cell_type": "code",
   "execution_count": null,
   "id": "4b251fea-771f-4a26-9f9a-69301cb29408",
   "metadata": {},
   "outputs": [],
   "source": [
    "def sum_mean(b) : \n",
    "    sum = 0\n",
    "    for a in b : \n",
    "        sum+= a\n",
    "        mean = sum/len(b)\n",
    "        return(f\" 총합은 { sum}이고 평균ㅇㄴ {mena}입니다.\"\")"
   ]
  },
  {
   "cell_type": "code",
   "execution_count": null,
   "id": "55a967a4-e1c3-4f64-a506-93a185d3d07d",
   "metadata": {},
   "outputs": [],
   "source": [
    "# print와 return의 차이 \\"
   ]
  },
  {
   "cell_type": "markdown",
   "id": "2c8d8c6b-1ced-42fa-a12f-c93415b05dcd",
   "metadata": {},
   "source": [
    "### 변수의 범위 "
   ]
  },
  {
   "cell_type": "code",
   "execution_count": 1,
   "id": "ea6deb29-bd80-4b1a-a944-686fffd18a2b",
   "metadata": {},
   "outputs": [],
   "source": [
    " a = 1\n",
    "def vartest(x):\n",
    "    x = x + 1\n",
    "    return x  "
   ]
  },
  {
   "cell_type": "code",
   "execution_count": 2,
   "id": "04eb4307-3d8e-4130-b46c-4b8c9fdeb80b",
   "metadata": {},
   "outputs": [
    {
     "data": {
      "text/plain": [
       "12"
      ]
     },
     "execution_count": 2,
     "metadata": {},
     "output_type": "execute_result"
    }
   ],
   "source": [
    "vartest(11)"
   ]
  },
  {
   "cell_type": "code",
   "execution_count": 73,
   "id": "32a667dd-d981-4555-9312-e13508f995d5",
   "metadata": {},
   "outputs": [],
   "source": [
    "a = 1\n",
    "def vartest(first) :\n",
    "    first = first + 1 \n",
    "    return a"
   ]
  },
  {
   "cell_type": "code",
   "execution_count": 74,
   "id": "db51683c-8a8e-4349-aa66-e6ecc0caa4e3",
   "metadata": {},
   "outputs": [],
   "source": [
    "a = vartest(10)"
   ]
  },
  {
   "cell_type": "code",
   "execution_count": 14,
   "id": "5362165b-62e6-4071-912e-a4824b899351",
   "metadata": {},
   "outputs": [],
   "source": [
    "a = 1\n",
    "def vartest(a) :\n",
    "    a = a + 1\n",
    "    return a"
   ]
  },
  {
   "cell_type": "code",
   "execution_count": null,
   "id": "d3fb8d91-fe09-4cfd-935f-fa338662cb09",
   "metadata": {},
   "outputs": [],
   "source": [
    "def avg_numbers(*args): #*args인수를 이야기함 매개변수 \n",
    "    result = 0\n",
    "    for i in args:\n",
    "        result+=i\n",
    "    return result/len(args)\n",
    "avg_number(1,2)\n",
    "avg_numbers(1,2,3,4,5)"
   ]
  },
  {
   "cell_type": "code",
   "execution_count": null,
   "id": "e3eda5d2-eba8-4ed8-8585-b55283475801",
   "metadata": {},
   "outputs": [],
   "source": [
    "def is_odd(number):\n",
    "    if number % 2 == 1 :\n",
    "        return True\n",
    "    else:\n",
    "        return False"
   ]
  },
  {
   "cell_type": "markdown",
   "id": "31a6c2b0-5f22-45fd-91d6-4a86146953b5",
   "metadata": {},
   "source": [
    "### lamda 함수 만들기"
   ]
  },
  {
   "cell_type": "code",
   "execution_count": 17,
   "id": "8e98c942-c340-43d1-8f28-b06939cacae4",
   "metadata": {},
   "outputs": [
    {
     "data": {
      "text/plain": [
       "5"
      ]
     },
     "execution_count": 17,
     "metadata": {},
     "output_type": "execute_result"
    }
   ],
   "source": [
    "(lambda a,b : a+b)(2,3)"
   ]
  },
  {
   "cell_type": "code",
   "execution_count": null,
   "id": "f4af7159-cec7-4bb6-8c6b-ab289808768e",
   "metadata": {},
   "outputs": [],
   "source": [
    "# 입력 받을 수를 2배 해서 출력해주는 람다함수를 만드어 봅시다 "
   ]
  },
  {
   "cell_type": "code",
   "execution_count": 18,
   "id": "d4ca6db0-95d3-4a8d-a1f6-9bb15c8dc6b2",
   "metadata": {},
   "outputs": [
    {
     "data": {
      "text/plain": [
       "8"
      ]
     },
     "execution_count": 18,
     "metadata": {},
     "output_type": "execute_result"
    }
   ],
   "source": [
    "(lambda a : a*2)(4)"
   ]
  },
  {
   "cell_type": "code",
   "execution_count": null,
   "id": "704cfbd8-1cd7-4e9e-ba31-ac965d8b1fae",
   "metadata": {},
   "outputs": [],
   "source": [
    "def add (a,b) :\n",
    "    return a + b"
   ]
  },
  {
   "cell_type": "markdown",
   "id": "cbd1cebd-241c-4126-b284-78413308518b",
   "metadata": {},
   "source": [
    "## 4-3파일 읽고 쓰기 \n",
    "많이 쓰이지는 않는다."
   ]
  },
  {
   "cell_type": "code",
   "execution_count": 19,
   "id": "130e9e5c-6fc9-4849-9069-f5e36860bf17",
   "metadata": {},
   "outputs": [],
   "source": [
    "# 가끔씩만사용 "
   ]
  },
  {
   "cell_type": "code",
   "execution_count": 20,
   "id": "6ce09207-51b9-400a-bd66-0df742318525",
   "metadata": {},
   "outputs": [
    {
     "data": {
      "text/plain": [
       "'C:\\\\Users\\\\kyun'"
      ]
     },
     "execution_count": 20,
     "metadata": {},
     "output_type": "execute_result"
    }
   ],
   "source": [
    "pwd # present working directiory "
   ]
  },
  {
   "cell_type": "markdown",
   "id": "b5db11f7-3a1e-4c48-98d8-be4ef5563434",
   "metadata": {},
   "source": [
    "파일이름: greeting.txt\n",
    "내용 : Hello"
   ]
  },
  {
   "cell_type": "code",
   "execution_count": 75,
   "id": "19e9ad9d-4c7f-4f02-b43e-716eaf0f3b14",
   "metadata": {},
   "outputs": [],
   "source": [
    "file = open(\"greeting.txt\" , mode = 'w' ) #  기본 구성은 파일 열고 w로 쓰기 모드로 하고 .write 내용 close로 닫아주기"
   ]
  },
  {
   "cell_type": "code",
   "execution_count": 24,
   "id": "30dcb641-dcb3-4931-a670-dd4a15c93067",
   "metadata": {},
   "outputs": [
    {
     "data": {
      "text/plain": [
       "_io.TextIOWrapper"
      ]
     },
     "execution_count": 24,
     "metadata": {},
     "output_type": "execute_result"
    }
   ],
   "source": [
    "type(file)"
   ]
  },
  {
   "cell_type": "code",
   "execution_count": 26,
   "id": "87ca2152-1510-4877-8079-3bd78d413940",
   "metadata": {},
   "outputs": [],
   "source": [
    "file.write(\"hello\")\n",
    "file.close()"
   ]
  },
  {
   "cell_type": "code",
   "execution_count": 30,
   "id": "356e76e5-651b-4458-9da4-5be07eb62c1c",
   "metadata": {},
   "outputs": [],
   "source": [
    "f = open(\"새파일.txt\", \"w\")\n",
    "for i in range(3,21):\n",
    "    data = f\"{i}번째 줄입니다. \\n\" \n",
    "    f.write(data)\n",
    "f.close()"
   ]
  },
  {
   "cell_type": "code",
   "execution_count": 42,
   "id": "18436921-10e4-459a-b455-3645f16e6a07",
   "metadata": {},
   "outputs": [
    {
     "name": "stdout",
     "output_type": "stream",
     "text": [
      "life is too short\n"
     ]
    }
   ],
   "source": [
    "f1 = open(\"test.txt\", 'w')\n",
    "f1.write(\"life is too short\")\n",
    "f1.close()\n",
    "f2 = open(\"test.txt\", 'r')\n",
    "print(f2.read())"
   ]
  },
  {
   "cell_type": "code",
   "execution_count": null,
   "id": "c030994f-bc08-4e53-afb4-4071afe65ef1",
   "metadata": {},
   "outputs": [],
   "source": [
    "user_input = input(\"저장할 내용을 입력하세요:\")\n",
    "f = open('test.txt', a)\n",
    "f.write(user_input)\n",
    "f.write('\\n')\n",
    "f.close()"
   ]
  },
  {
   "cell_type": "code",
   "execution_count": 46,
   "id": "9f07793b-9ead-49bc-b43f-305106d3f211",
   "metadata": {},
   "outputs": [],
   "source": [
    "f = open('test.txt','r')\n",
    "body = \"life is too short \\n you need java\"\n",
    "f.close()\n",
    "body = \"life is too short \\n you need python\"\n",
    "f = open('test.txt','a')\n",
    "f.write(body)\n",
    "f.close()\n"
   ]
  },
  {
   "cell_type": "code",
   "execution_count": 47,
   "id": "288296fe-d166-44a7-9319-a9d0587aefde",
   "metadata": {},
   "outputs": [],
   "source": [
    "body = \"life is too short \\n you need python\"\n",
    "f = open('test.txt','a')\n",
    "f.write(body)\n",
    "f.close()"
   ]
  },
  {
   "cell_type": "code",
   "execution_count": null,
   "id": "db265bb1-ee79-4e3c-a91f-9117194e6730",
   "metadata": {},
   "outputs": [],
   "source": [
    "f = open('test.txt', 'r')\n",
    "body = read()\n",
    "body = body.replace(\"jave\",\"python\")"
   ]
  },
  {
   "cell_type": "markdown",
   "id": "95273825-521f-4c81-9fe2-3a545bd730fc",
   "metadata": {},
   "source": [
    "### 파일 읽기"
   ]
  },
  {
   "cell_type": "code",
   "execution_count": 1,
   "id": "e7eab3a9-5043-4e48-b1d7-c9d627e9afd0",
   "metadata": {},
   "outputs": [],
   "source": [
    "## 만들기와 거이 동일함 "
   ]
  },
  {
   "cell_type": "code",
   "execution_count": 7,
   "id": "21637592-2d5d-41aa-bab2-dfe93169761f",
   "metadata": {},
   "outputs": [
    {
     "name": "stdout",
     "output_type": "stream",
     "text": [
      "\n",
      "\n",
      "1\n",
      "\n",
      "2\n",
      "\n",
      "3\n",
      "\n",
      "4\n",
      "\n",
      "5\n"
     ]
    }
   ],
   "source": [
    "f = open(\"python.txt\", \"r\")  # W 쓰기 모드 ,r 읽기 모드 , a  추가모드\n",
    "lines = f.readlines()\n",
    "for line in lines:\n",
    "    print(line)\n",
    "f.close()"
   ]
  },
  {
   "cell_type": "code",
   "execution_count": 8,
   "id": "77169ad9-478b-4f76-9032-e8d5a4dd5070",
   "metadata": {},
   "outputs": [
    {
     "name": "stdout",
     "output_type": "stream",
     "text": [
      "\n",
      "1\n",
      "2\n",
      "3\n",
      "4\n",
      "5\n",
      "\n",
      "1\n",
      "2\n",
      "3\n",
      "4\n",
      "5\n",
      "\n",
      "1\n",
      "2\n",
      "3\n",
      "4\n",
      "5\n",
      "\n",
      "1\n",
      "2\n",
      "3\n",
      "4\n",
      "5\n",
      "\n",
      "1\n",
      "2\n",
      "3\n",
      "4\n",
      "5\n",
      "\n",
      "1\n",
      "2\n",
      "3\n",
      "4\n",
      "5\n"
     ]
    }
   ],
   "source": [
    "f = open(\"python.txt\", \"r\")\n",
    "data = f.read()\n",
    "for line in lines:\n",
    "    print(data)\n",
    "f.close()"
   ]
  },
  {
   "cell_type": "code",
   "execution_count": 10,
   "id": "ebbe9e92-9820-4946-a3cb-a43724b4ec3d",
   "metadata": {},
   "outputs": [],
   "source": [
    "f = open(\"python.txt\", \"w\")\n",
    "f.write(\"hello\")\n",
    "f.close()"
   ]
  },
  {
   "cell_type": "code",
   "execution_count": 13,
   "id": "e0281eef-da96-4b1c-ad5c-e286d208560b",
   "metadata": {},
   "outputs": [],
   "source": [
    "f = open(\"python.txt\", \"a\")\n",
    "f.write(\"hello \\n\")\n",
    "f.close()"
   ]
  },
  {
   "cell_type": "code",
   "execution_count": 14,
   "id": "f2cdc4ce-6453-4e65-b173-8e2844adb8f5",
   "metadata": {},
   "outputs": [],
   "source": [
    "# w r a b 모드 b는 사진이나 jpg 같은 음악 같은 영상 wr ab 같이 \n",
    "# with  ans "
   ]
  },
  {
   "cell_type": "code",
   "execution_count": 15,
   "id": "9f403c32-5d74-4f4a-9e29-1e3afb05802e",
   "metadata": {},
   "outputs": [],
   "source": [
    "f = open(\"새파일.txt\", \"w\")\n",
    "\n",
    "\n"
   ]
  },
  {
   "cell_type": "markdown",
   "id": "d4b51ff0-fcd1-47e5-a13b-b18ba1b6cc4f",
   "metadata": {},
   "source": [
    "### with  문사용 "
   ]
  },
  {
   "cell_type": "code",
   "execution_count": 17,
   "id": "de270ad0-bb75-46dc-9d73-9349056905d8",
   "metadata": {},
   "outputs": [
    {
     "ename": "UnsupportedOperation",
     "evalue": "not writable",
     "output_type": "error",
     "traceback": [
      "\u001b[1;31m---------------------------------------------------------------------------\u001b[0m",
      "\u001b[1;31mUnsupportedOperation\u001b[0m                      Traceback (most recent call last)",
      "\u001b[1;32m~\\AppData\\Local\\Temp/ipykernel_14696/2023365672.py\u001b[0m in \u001b[0;36m<module>\u001b[1;34m\u001b[0m\n\u001b[1;32m----> 1\u001b[1;33m \u001b[1;32mwith\u001b[0m \u001b[0mopen\u001b[0m\u001b[1;33m(\u001b[0m\u001b[1;34m\"새파일.txt\"\u001b[0m\u001b[1;33m,\u001b[0m \u001b[1;34m\"r\"\u001b[0m\u001b[1;33m)\u001b[0m \u001b[1;32mas\u001b[0m \u001b[0mf\u001b[0m\u001b[1;33m:\u001b[0m \u001b[0mf\u001b[0m\u001b[1;33m.\u001b[0m\u001b[0mwrite\u001b[0m\u001b[1;33m(\u001b[0m\u001b[1;34m\"hello \\n\"\u001b[0m\u001b[1;33m)\u001b[0m\u001b[1;33m\u001b[0m\u001b[1;33m\u001b[0m\u001b[0m\n\u001b[0m\u001b[0;32m      2\u001b[0m \u001b[0mprint\u001b[0m\u001b[1;33m(\u001b[0m\u001b[0mf\u001b[0m\u001b[1;33m.\u001b[0m\u001b[0mread\u001b[0m\u001b[1;33m(\u001b[0m\u001b[1;33m)\u001b[0m\u001b[1;33m)\u001b[0m\u001b[1;33m\u001b[0m\u001b[1;33m\u001b[0m\u001b[0m\n",
      "\u001b[1;31mUnsupportedOperation\u001b[0m: not writable"
     ]
    }
   ],
   "source": [
    "with open(\"새파일.txt\", \"r\") as f: f.write(\"hello \\n\")\n",
    "print(f.read())"
   ]
  },
  {
   "cell_type": "code",
   "execution_count": 21,
   "id": "e1a1e446-341f-4791-be43-ce280193d4d3",
   "metadata": {},
   "outputs": [],
   "source": [
    "with open(\"새파일.txt\", \"w\") as f: f.write(\"hello \\n\")"
   ]
  },
  {
   "cell_type": "code",
   "execution_count": 19,
   "id": "dd3ab4d1-6ef6-4c48-b3bc-4d9e62b00944",
   "metadata": {},
   "outputs": [
    {
     "name": "stdout",
     "output_type": "stream",
     "text": [
      "hello \n",
      "\n"
     ]
    }
   ],
   "source": [
    "with open(\"새파일.txt\", \"r\") as f:\n",
    "    print(f.read())"
   ]
  },
  {
   "cell_type": "code",
   "execution_count": 25,
   "id": "97ec9b97-e23b-4909-9707-cb425ff0168d",
   "metadata": {},
   "outputs": [
    {
     "name": "stdout",
     "output_type": "stream",
     "text": [
      "life is too short\n"
     ]
    }
   ],
   "source": [
    "with open(\"test.txt\",\"w\") as f1 : f1.write(\"life is too short\")\n",
    "with open(\"test.txt\",\"r\") as f2 : print(f2.read())"
   ]
  },
  {
   "cell_type": "code",
   "execution_count": null,
   "id": "577c95e7-1fcf-44d9-852b-aa99e7ae1b7c",
   "metadata": {},
   "outputs": [],
   "source": []
  },
  {
   "cell_type": "code",
   "execution_count": null,
   "id": "8efd30e4-1e52-4b2c-9d3b-80df5c66263f",
   "metadata": {},
   "outputs": [],
   "source": []
  },
  {
   "cell_type": "markdown",
   "id": "17f3f62f-1a3e-4dfb-b814-9fa9b47cc753",
   "metadata": {},
   "source": [
    "# 5 파이썬 날개 달기"
   ]
  },
  {
   "cell_type": "code",
   "execution_count": 26,
   "id": "9e804ded-b6ff-4d3f-9fdd-0d12555ee1cc",
   "metadata": {},
   "outputs": [],
   "source": [
    "# 클래스 정말 중요하다 . "
   ]
  },
  {
   "cell_type": "markdown",
   "id": "364ce4df-e427-4b85-945a-d5328b2df66e",
   "metadata": {},
   "source": [
    "\n",
    "## 5-1 클래스\n",
    "\n",
    "클래스는 파이썬에만 있는 것 \n",
    "\n",
    "클래스가 있으면 반복되는 함수 묶음을  잘 처리할 수 있게 됨 계산기 포스기처럼 \n",
    "\n",
    " 객체(objects) == 인스턴스 \n",
    " pos2 는 객체이기도 하고 인스턴스 이기도 하고 \n",
    " 다른좀은 포스라는 객체가 있다. 사물에 집중 인스턴스 , , 이 포스는 pos   클레스에서 만들어져 온 것 입니다.  \n",
    " 전역변수 > 클래스 변수, > 객체변수 > 인스턴스 변수  \n",
    " \n",
    " 클레스 안에 함수를 메소드라고 한다.\n",
    " 첫번째 메소드는 __init__ 을 써준다"
   ]
  },
  {
   "cell_type": "code",
   "execution_count": 55,
   "id": "f077c0ca-0ae0-42a3-8056-228c436c932f",
   "metadata": {},
   "outputs": [],
   "source": [
    "result = 0 \n",
    "def add1(n):\n",
    "    global result \n",
    "    result += n \n",
    "    return result \n",
    "\n",
    "def add2(n):\n",
    "    global result \n",
    "    result += n \n",
    "    return result \n",
    "def add(n):\n",
    "    global result \n",
    "    result += n \n",
    "    return result"
   ]
  },
  {
   "cell_type": "code",
   "execution_count": 56,
   "id": "25e79870-5b2a-4db9-8317-9c0841410b90",
   "metadata": {},
   "outputs": [
    {
     "data": {
      "text/plain": [
       "3"
      ]
     },
     "execution_count": 56,
     "metadata": {},
     "output_type": "execute_result"
    }
   ],
   "source": [
    "add(3)"
   ]
  },
  {
   "cell_type": "code",
   "execution_count": 57,
   "id": "f02979a0-4568-4fca-a0cb-a0399fcc8c1c",
   "metadata": {},
   "outputs": [
    {
     "data": {
      "text/plain": [
       "7"
      ]
     },
     "execution_count": 57,
     "metadata": {},
     "output_type": "execute_result"
    }
   ],
   "source": [
    "add(4)"
   ]
  },
  {
   "cell_type": "code",
   "execution_count": 50,
   "id": "e130e179-b884-4c18-a55a-e4fb4aeac2c7",
   "metadata": {},
   "outputs": [
    {
     "data": {
      "text/plain": [
       "30"
      ]
     },
     "execution_count": 50,
     "metadata": {},
     "output_type": "execute_result"
    }
   ],
   "source": [
    "add1(5)"
   ]
  },
  {
   "cell_type": "code",
   "execution_count": 51,
   "id": "ae713d80-9e80-419b-956b-c3a4251e39b3",
   "metadata": {},
   "outputs": [
    {
     "data": {
      "text/plain": [
       "33"
      ]
     },
     "execution_count": 51,
     "metadata": {},
     "output_type": "execute_result"
    }
   ],
   "source": [
    "add1(3)"
   ]
  },
  {
   "cell_type": "code",
   "execution_count": 142,
   "id": "0d583de5-2ed2-42c7-bb20-09aeb3fc3153",
   "metadata": {},
   "outputs": [],
   "source": [
    "class Pos:\n",
    "    def __init__(self):\n",
    "        self.result = 0 \n",
    "    def add(self,n):\n",
    "        self.result += n \n",
    "        return self.result\n",
    "    def sub(self,n):\n",
    "        self.result -= n \n",
    "        return self.result\n",
    "    def mul(self,n):\n",
    "        self.result *= n\n",
    "        return self.result\n",
    "    def div(self,n):\n",
    "        self.result /= n\n",
    "        return self.result"
   ]
  },
  {
   "cell_type": "code",
   "execution_count": 143,
   "id": "b465d873-66db-44d7-899c-93723c13756f",
   "metadata": {},
   "outputs": [],
   "source": [
    "# 컨트롤 대괄호 옮기기  마치 함수 인 것 처럼 불러줘 , 함수인지 클래스인지? 구별하려고 대문자로 시작 하는 것 클래스 , 소문자는 함수다. \n",
    "#machine 객체를 생성하고 , 계산하기 20 , 30 , "
   ]
  },
  {
   "cell_type": "code",
   "execution_count": 144,
   "id": "fdd75dc7-52f2-473e-8ed3-f8be68d5f95e",
   "metadata": {},
   "outputs": [],
   "source": [
    "pos1 = Pos() # 클래스 불러오기"
   ]
  },
  {
   "cell_type": "code",
   "execution_count": 145,
   "id": "d7e94ece-3d38-4478-a9b0-c888d937b641",
   "metadata": {},
   "outputs": [
    {
     "data": {
      "text/plain": [
       "3"
      ]
     },
     "execution_count": 145,
     "metadata": {},
     "output_type": "execute_result"
    }
   ],
   "source": [
    "pos1.add(3)"
   ]
  },
  {
   "cell_type": "code",
   "execution_count": 146,
   "id": "d2ba8b30-465a-4002-8434-b477683fabeb",
   "metadata": {},
   "outputs": [],
   "source": [
    "pos1.add(4)\n",
    "pos2 = Pos()"
   ]
  },
  {
   "cell_type": "code",
   "execution_count": 147,
   "id": "aa2636ae-992f-4ba1-84cf-5d7e28961d2a",
   "metadata": {},
   "outputs": [
    {
     "data": {
      "text/plain": [
       "5"
      ]
     },
     "execution_count": 147,
     "metadata": {},
     "output_type": "execute_result"
    }
   ],
   "source": [
    "pos2.add(5)"
   ]
  },
  {
   "cell_type": "code",
   "execution_count": 150,
   "id": "dacba7c1-363c-4696-b648-24aa9e69f8b5",
   "metadata": {},
   "outputs": [],
   "source": [
    "machine = Pos()"
   ]
  },
  {
   "cell_type": "code",
   "execution_count": 151,
   "id": "21b2922e-1cd0-4e2d-9d90-70eeb499567e",
   "metadata": {},
   "outputs": [
    {
     "data": {
      "text/plain": [
       "20"
      ]
     },
     "execution_count": 151,
     "metadata": {},
     "output_type": "execute_result"
    }
   ],
   "source": [
    "machine.add(20)"
   ]
  },
  {
   "cell_type": "code",
   "execution_count": 152,
   "id": "45241f30-0276-4e86-98d7-5cde8bb6275a",
   "metadata": {},
   "outputs": [
    {
     "data": {
      "text/plain": [
       "50"
      ]
     },
     "execution_count": 152,
     "metadata": {},
     "output_type": "execute_result"
    }
   ],
   "source": [
    "machine.add(30)"
   ]
  },
  {
   "cell_type": "code",
   "execution_count": 153,
   "id": "1fb4ab0c-13a9-4720-ba43-17c0aaadac44",
   "metadata": {},
   "outputs": [
    {
     "data": {
      "text/plain": [
       "500"
      ]
     },
     "execution_count": 153,
     "metadata": {},
     "output_type": "execute_result"
    }
   ],
   "source": [
    "machine.mul(10)"
   ]
  },
  {
   "cell_type": "code",
   "execution_count": 154,
   "id": "47dd930b-2ff0-4bb1-bd39-35673ac5d542",
   "metadata": {},
   "outputs": [
    {
     "data": {
      "text/plain": [
       "50.0"
      ]
     },
     "execution_count": 154,
     "metadata": {},
     "output_type": "execute_result"
    }
   ],
   "source": [
    "machine.div(10)"
   ]
  },
  {
   "cell_type": "code",
   "execution_count": 141,
   "id": "dae31f23-5343-4fd2-b395-3c6357a2166a",
   "metadata": {},
   "outputs": [
    {
     "data": {
      "text/plain": [
       "100.0"
      ]
     },
     "execution_count": 141,
     "metadata": {},
     "output_type": "execute_result"
    }
   ],
   "source": [
    "500/5"
   ]
  },
  {
   "cell_type": "code",
   "execution_count": 162,
   "id": "bbea17d5-a09b-4505-a2f3-4907cb46357b",
   "metadata": {},
   "outputs": [],
   "source": [
    "class Fourcal:\n",
    "    def setdata(self, first, second ):\n",
    "        self.first = first\n",
    "        self.second = second\n",
    "        \n"
   ]
  },
  {
   "cell_type": "code",
   "execution_count": 163,
   "id": "a592efe4-1d0e-4056-92c1-993195213222",
   "metadata": {},
   "outputs": [],
   "source": [
    "obj = Fourcal()"
   ]
  },
  {
   "cell_type": "code",
   "execution_count": 164,
   "id": "5d01bcf0-cef8-4493-b73a-029456d6bec2",
   "metadata": {},
   "outputs": [],
   "source": [
    "calcul = Fourcal()"
   ]
  },
  {
   "cell_type": "code",
   "execution_count": 165,
   "id": "e995d6c7-73b6-4fa3-b096-f7f1451508e9",
   "metadata": {},
   "outputs": [],
   "source": [
    "obj.setdata(1,2)"
   ]
  },
  {
   "cell_type": "code",
   "execution_count": 168,
   "id": "7be13cb2-50ec-4345-bfb9-d8bf83e88193",
   "metadata": {},
   "outputs": [
    {
     "data": {
      "text/plain": [
       "2493480921392"
      ]
     },
     "execution_count": 168,
     "metadata": {},
     "output_type": "execute_result"
    }
   ],
   "source": [
    "id(obj.first)"
   ]
  },
  {
   "cell_type": "code",
   "execution_count": 167,
   "id": "3547f04e-faa3-44c5-abcd-9df42eed8664",
   "metadata": {},
   "outputs": [
    {
     "data": {
      "text/plain": [
       "1"
      ]
     },
     "execution_count": 167,
     "metadata": {},
     "output_type": "execute_result"
    }
   ],
   "source": [
    "obj.first"
   ]
  },
  {
   "cell_type": "code",
   "execution_count": 185,
   "id": "249e48a2-692a-4079-a0fa-df9a11c1bbbb",
   "metadata": {},
   "outputs": [],
   "source": [
    "class Fourcal:\n",
    "    def setdata(self, first, second ):\n",
    "        self.first = first\n",
    "        self.second = second\n",
    "        \n",
    "    def add(self):\n",
    "        result = self.first + self.second\n",
    "        return result\n",
    "    def sub(self):\n",
    "        result = self.first - self.second\n",
    "        return result\n",
    "    def mul(self):\n",
    "        result = self.first * self.second\n",
    "        return result\n",
    "    def div(self):\n",
    "        result = self.first / self.second\n",
    "        return result   "
   ]
  },
  {
   "cell_type": "code",
   "execution_count": 186,
   "id": "15cf9750-75ad-4996-b6af-3ce8cc1a6d75",
   "metadata": {},
   "outputs": [],
   "source": [
    "cal = Fourcal()"
   ]
  },
  {
   "cell_type": "code",
   "execution_count": 191,
   "id": "ea8e838a-8e0e-4f0c-bbb4-7caf1060299d",
   "metadata": {},
   "outputs": [],
   "source": [
    "cal.setdata(1,2)"
   ]
  },
  {
   "cell_type": "code",
   "execution_count": 193,
   "id": "96203301-f086-4574-8803-363d06d6b4e0",
   "metadata": {},
   "outputs": [
    {
     "data": {
      "text/plain": [
       "3"
      ]
     },
     "execution_count": 193,
     "metadata": {},
     "output_type": "execute_result"
    }
   ],
   "source": [
    "cal.add()"
   ]
  },
  {
   "cell_type": "code",
   "execution_count": 194,
   "id": "8807c1dc-df9c-4b09-88d1-9f839ebddd41",
   "metadata": {},
   "outputs": [],
   "source": [
    "#init  스페셜함 만나면 생성하면서 이 줄 무조건 실행 생성과 동시에 실행 , "
   ]
  },
  {
   "cell_type": "code",
   "execution_count": null,
   "id": "b90ecfae-b466-4dde-b135-c373beddbd7b",
   "metadata": {},
   "outputs": [],
   "source": [
    "cal = Fourcal()"
   ]
  },
  {
   "cell_type": "code",
   "execution_count": 139,
   "id": "c0240cd2-398c-47a9-962c-7bfba379028b",
   "metadata": {},
   "outputs": [],
   "source": [
    "class Fourcal:\n",
    "    def __init__(self, first, second ):\n",
    "        self.first = first   # self.first와 first 는 같은 것이 아니야 구분\n",
    "        self.second = second\n",
    "        \n",
    "    def add(self):\n",
    "        result = self.first + self.second\n",
    "        return result\n",
    "    def sub(self):\n",
    "        result = self.first - self.second\n",
    "        return result\n",
    "    def mul(self):\n",
    "        result = self.first * self.second\n",
    "        return result\n",
    "    def div(self):\n",
    "        result = self.first / self.second\n",
    "        return result   "
   ]
  },
  {
   "cell_type": "code",
   "execution_count": 140,
   "id": "86cac83a-00fb-4c50-a49f-199bbc20e959",
   "metadata": {},
   "outputs": [],
   "source": [
    "cal = Fourcal(10,10)"
   ]
  },
  {
   "cell_type": "code",
   "execution_count": 141,
   "id": "78303597-4887-4d5f-9e08-4104f1e3f709",
   "metadata": {},
   "outputs": [
    {
     "data": {
      "text/plain": [
       "0"
      ]
     },
     "execution_count": 141,
     "metadata": {},
     "output_type": "execute_result"
    }
   ],
   "source": [
    "cal.sub()"
   ]
  },
  {
   "cell_type": "markdown",
   "id": "26463f25-4fca-441c-a244-118dc794570e",
   "metadata": {},
   "source": [
    "- 생성자라고한다 init construct"
   ]
  },
  {
   "cell_type": "markdown",
   "id": "5f00f070-e305-4652-9986-f749809db560",
   "metadata": {},
   "source": [
    "- __ dunder 던더 라고 읽는다"
   ]
  },
  {
   "cell_type": "code",
   "execution_count": null,
   "id": "f644a389-8fb0-4815-bd0c-106c70a67773",
   "metadata": {},
   "outputs": [],
   "source": [
    "## 클래스를 만들자\n",
    "객체 생성지 , 인스턴트화 할때 , 객체 초기화 할때입력값 한개를 받아야 한다\n",
    "add 함수는 한개의 입력을 받아서 앞의 값고 더하여 출력한다\n",
    "obj.add(3)이라고 하면 어떤 값이 출력 되어야 한다. \n",
    "\n",
    "__init___\n",
    " 이나 sedest하면 거기에 값을 먼저  넣어야 한다. "
   ]
  },
  {
   "cell_type": "code",
   "execution_count": 222,
   "id": "af09f680-847c-471f-87e7-771bc4ed0a45",
   "metadata": {},
   "outputs": [],
   "source": [
    "class Four:\n",
    "    def __init__(self,first):\n",
    "        self.first = first\n",
    "        \n",
    "    def add(self):\n",
    "        result += n\n",
    "        return result\n",
    "        "
   ]
  },
  {
   "cell_type": "code",
   "execution_count": null,
   "id": "4e75027c-b7fe-42f8-bf46-ab9376165564",
   "metadata": {},
   "outputs": [],
   "source": []
  },
  {
   "cell_type": "code",
   "execution_count": null,
   "id": "2fd49fd5-6957-46b4-b0ba-2c7579ba3146",
   "metadata": {},
   "outputs": [],
   "source": []
  },
  {
   "cell_type": "markdown",
   "id": "fffd45b3-bc2d-418a-a8c7-f0227bc92fda",
   "metadata": {},
   "source": [
    "### 상속\n",
    "클래스를 물려 받고 거기다가 또 추가할 수도 있는 것"
   ]
  },
  {
   "cell_type": "code",
   "execution_count": 128,
   "id": "9ff258ce-bd63-4f1b-b16a-950f417a5204",
   "metadata": {},
   "outputs": [],
   "source": [
    "class Fourcal:\n",
    "    def __init__(self, first, second ):\n",
    "        self.first = first\n",
    "        self.second = second\n",
    "        \n",
    "    def add(self):\n",
    "        result = self.first + self.second\n",
    "        return result\n",
    "    def sub(self):\n",
    "        result = self.first - self.second\n",
    "        return result\n",
    "    def mul(self):\n",
    "        result = self.first * self.second\n",
    "        return result\n",
    "    def div(self):\n",
    "        result = self.first / self.second\n",
    "        return result   "
   ]
  },
  {
   "cell_type": "code",
   "execution_count": 129,
   "id": "9d28dd7d-825c-4694-950f-39cd572ee67d",
   "metadata": {},
   "outputs": [],
   "source": [
    "class Child(Fourcal):\n",
    "    pass\n"
   ]
  },
  {
   "cell_type": "code",
   "execution_count": 130,
   "id": "3b10b1a5-530b-459d-bf06-57d547f20420",
   "metadata": {},
   "outputs": [],
   "source": [
    "a = Child(1,2)"
   ]
  },
  {
   "cell_type": "code",
   "execution_count": 131,
   "id": "b06d3478-8eb3-4cfe-86c6-669726430c92",
   "metadata": {},
   "outputs": [
    {
     "data": {
      "text/plain": [
       "3"
      ]
     },
     "execution_count": 131,
     "metadata": {},
     "output_type": "execute_result"
    }
   ],
   "source": [
    "a.add()"
   ]
  },
  {
   "cell_type": "code",
   "execution_count": 132,
   "id": "02465c91-53c6-46f1-9d93-cfed149cded9",
   "metadata": {},
   "outputs": [
    {
     "data": {
      "text/plain": [
       "-1"
      ]
     },
     "execution_count": 132,
     "metadata": {},
     "output_type": "execute_result"
    }
   ],
   "source": [
    "a.sub()"
   ]
  },
  {
   "cell_type": "code",
   "execution_count": 133,
   "id": "30d0ba34-2da5-4942-8404-5437729d3ccd",
   "metadata": {},
   "outputs": [],
   "source": [
    "class Child(Fourcal):\n",
    "    def power(self):\n",
    "        result = self.first ** self.second\n",
    "        return result\n",
    "        "
   ]
  },
  {
   "cell_type": "code",
   "execution_count": 134,
   "id": "145fc7ee-b0dd-4b7f-97ee-4e6360fbb217",
   "metadata": {},
   "outputs": [],
   "source": [
    "a = Child(1,0)"
   ]
  },
  {
   "cell_type": "code",
   "execution_count": 138,
   "id": "2b5704d8-8eab-451c-b89c-fa270a57af79",
   "metadata": {},
   "outputs": [
    {
     "data": {
      "text/plain": [
       "1"
      ]
     },
     "execution_count": 138,
     "metadata": {},
     "output_type": "execute_result"
    }
   ],
   "source": [
    "a.power()"
   ]
  },
  {
   "cell_type": "code",
   "execution_count": 136,
   "id": "f513a81c-9c4f-487d-81ff-30332fd4156a",
   "metadata": {},
   "outputs": [
    {
     "data": {
      "text/plain": [
       "0"
      ]
     },
     "execution_count": 136,
     "metadata": {},
     "output_type": "execute_result"
    }
   ],
   "source": [
    "a.mul()"
   ]
  },
  {
   "cell_type": "code",
   "execution_count": null,
   "id": "88d6fb01-2fd8-4227-ba99-f8e1a5cee87a",
   "metadata": {},
   "outputs": [],
   "source": [
    "# t상속은 () 상속 하는 클래스 입력 "
   ]
  },
  {
   "cell_type": "code",
   "execution_count": 125,
   "id": "ec104763-e923-48b6-b0a4-234c0d543b24",
   "metadata": {},
   "outputs": [],
   "source": [
    "class Child(Fourcal):\n",
    "    def power(self,first,second):\n",
    "        result = self.first ** self.second\n",
    "        return result\n",
    "        \n",
    "    def div(self):\n",
    "        if self.second == 0:\n",
    "            print(\"0으로 나누면 안되요\")\n",
    "        else : \n",
    "            result = self.first ** self.second\n",
    "        return result"
   ]
  },
  {
   "cell_type": "code",
   "execution_count": 142,
   "id": "0194799e-0c8f-4076-a09c-60e166375b04",
   "metadata": {},
   "outputs": [],
   "source": [
    "a = Child(1,3)"
   ]
  },
  {
   "cell_type": "code",
   "execution_count": 144,
   "id": "8100430e-6132-41d8-95b8-c663a25ccd24",
   "metadata": {},
   "outputs": [
    {
     "data": {
      "text/plain": [
       "1"
      ]
     },
     "execution_count": 144,
     "metadata": {},
     "output_type": "execute_result"
    }
   ],
   "source": [
    "a.power() # 숫자는 정의 할때 그래야 __init__"
   ]
  },
  {
   "cell_type": "markdown",
   "id": "d3e5ddcd-6e61-4391-9181-2689422c1c33",
   "metadata": {},
   "source": [
    "### 매서드 오버라이딩 재정의 \n",
    "똑같은 매서드를 정의 내려버리면 기존의 것은 덮어진다."
   ]
  },
  {
   "cell_type": "code",
   "execution_count": 145,
   "id": "30f9e490-7ae5-4d72-8ba8-73571a9c185f",
   "metadata": {},
   "outputs": [],
   "source": [
    "class Child(Fourcal):\n",
    "    def power(self):\n",
    "        result = self.first ** self.second\n",
    "        return result\n",
    "        \n",
    "    def div(self):\n",
    "        if self.second != 0:\n",
    "            result = self.first ** self.second\n",
    "            return result\n",
    "        else:\n",
    "            print(\"0으로 나누면 안돼요\")"
   ]
  },
  {
   "cell_type": "code",
   "execution_count": 146,
   "id": "03f539e1-621a-464f-a2f3-548f163f1732",
   "metadata": {},
   "outputs": [],
   "source": [
    "a = Child(1,0)"
   ]
  },
  {
   "cell_type": "code",
   "execution_count": 147,
   "id": "f596b1e0-eb04-43e0-b8f4-d5e923b60c9d",
   "metadata": {},
   "outputs": [
    {
     "name": "stdout",
     "output_type": "stream",
     "text": [
      "0으로 나누면 안돼요\n"
     ]
    }
   ],
   "source": [
    "a.div()"
   ]
  },
  {
   "cell_type": "code",
   "execution_count": 249,
   "id": "c4d443c5-58e8-4a6d-833b-60857252197e",
   "metadata": {},
   "outputs": [],
   "source": [
    "class Child(Fourcal):\n",
    "    def mul(self):\n",
    "        if self.second or self.first == 0: \n",
    "            print(\"fail\")\n",
    "        else:\n",
    "            result = self.first * self.second\n",
    "            return result"
   ]
  },
  {
   "cell_type": "code",
   "execution_count": 251,
   "id": "494d3f61-14b2-4d10-9c27-bf4868f2de4d",
   "metadata": {},
   "outputs": [],
   "source": [
    "a = Child(1,0)"
   ]
  },
  {
   "cell_type": "code",
   "execution_count": 252,
   "id": "69b11185-04ee-4bd8-bfde-a467f4c27f21",
   "metadata": {},
   "outputs": [
    {
     "name": "stdout",
     "output_type": "stream",
     "text": [
      "fail\n"
     ]
    }
   ],
   "source": [
    "a.mul()"
   ]
  },
  {
   "cell_type": "code",
   "execution_count": 253,
   "id": "dc922809-3416-4ac0-a062-1f709e5581e5",
   "metadata": {},
   "outputs": [],
   "source": [
    "# 클래스 인스턴스 메소드 "
   ]
  },
  {
   "cell_type": "markdown",
   "id": "b7e213af-68ed-47d9-8b1e-546469abd020",
   "metadata": {},
   "source": [
    "### 클래스 변수 \n",
    "클래스 변수는 클래스 안에 모든 것에 적용이 되기 때문에 나중에 한다"
   ]
  },
  {
   "cell_type": "code",
   "execution_count": 255,
   "id": "584e01dd-6ec9-4988-b9b9-78f74b4e0ae2",
   "metadata": {},
   "outputs": [],
   "source": [
    "class Family:\n",
    "    lastname = \"김\""
   ]
  },
  {
   "cell_type": "code",
   "execution_count": 258,
   "id": "8da51c9b-cc34-417a-95d5-8a8faf37a052",
   "metadata": {},
   "outputs": [
    {
     "data": {
      "text/plain": [
       "'김'"
      ]
     },
     "execution_count": 258,
     "metadata": {},
     "output_type": "execute_result"
    }
   ],
   "source": [
    "Family.lastname"
   ]
  },
  {
   "cell_type": "code",
   "execution_count": 259,
   "id": "f269cb8d-67fa-4436-983a-0f21ea494b80",
   "metadata": {},
   "outputs": [
    {
     "data": {
      "text/plain": [
       "'김'"
      ]
     },
     "execution_count": 259,
     "metadata": {},
     "output_type": "execute_result"
    }
   ],
   "source": [
    " b = Family()\n",
    "b.lastname"
   ]
  },
  {
   "cell_type": "code",
   "execution_count": 260,
   "id": "04e869e8-c00d-4066-84fc-52277276d9c9",
   "metadata": {},
   "outputs": [],
   "source": [
    "Family.lastname = \"박\""
   ]
  },
  {
   "cell_type": "code",
   "execution_count": 261,
   "id": "62382a7f-6821-461e-84dc-d5ae5f120eb9",
   "metadata": {},
   "outputs": [
    {
     "data": {
      "text/plain": [
       "'박'"
      ]
     },
     "execution_count": 261,
     "metadata": {},
     "output_type": "execute_result"
    }
   ],
   "source": [
    "b.lastname"
   ]
  },
  {
   "cell_type": "code",
   "execution_count": 262,
   "id": "0527a73b-068b-44a4-9420-198ae569d543",
   "metadata": {},
   "outputs": [],
   "source": [
    "class Person:\n",
    "    lastname = \"박\"\n",
    "    \n",
    "    def __init__(self):\n",
    "        self.name = \"철수\"\n",
    "        self.age = 30"
   ]
  },
  {
   "cell_type": "code",
   "execution_count": 264,
   "id": "4fc1dcb9-334e-4652-ab90-317034344d22",
   "metadata": {},
   "outputs": [],
   "source": [
    "people = Person()"
   ]
  },
  {
   "cell_type": "code",
   "execution_count": 265,
   "id": "251535ae-168e-40df-8830-8ef66f982b9e",
   "metadata": {},
   "outputs": [
    {
     "data": {
      "text/plain": [
       "'박'"
      ]
     },
     "execution_count": 265,
     "metadata": {},
     "output_type": "execute_result"
    }
   ],
   "source": [
    "people.lastname"
   ]
  },
  {
   "cell_type": "code",
   "execution_count": 266,
   "id": "eef95f2f-52b5-4ff3-9c0f-529d1b11e1b3",
   "metadata": {},
   "outputs": [
    {
     "data": {
      "text/plain": [
       "'박'"
      ]
     },
     "execution_count": 266,
     "metadata": {},
     "output_type": "execute_result"
    }
   ],
   "source": [
    "people.lastname"
   ]
  },
  {
   "cell_type": "code",
   "execution_count": 267,
   "id": "681e12ad-4d8f-4ee6-b110-8a6c93585177",
   "metadata": {},
   "outputs": [
    {
     "data": {
      "text/plain": [
       "'철수'"
      ]
     },
     "execution_count": 267,
     "metadata": {},
     "output_type": "execute_result"
    }
   ],
   "source": [
    "people.name   #인스턴스  변수 , 객체 변수 "
   ]
  },
  {
   "cell_type": "code",
   "execution_count": 269,
   "id": "b67d041d-d5b4-49c9-af0e-9502aaaf588a",
   "metadata": {},
   "outputs": [
    {
     "data": {
      "text/plain": [
       "'박'"
      ]
     },
     "execution_count": 269,
     "metadata": {},
     "output_type": "execute_result"
    }
   ],
   "source": [
    "Person.lastname # 다른 것이다. "
   ]
  },
  {
   "cell_type": "code",
   "execution_count": 270,
   "id": "862144dd-b737-4aa8-b0e3-b0f6975cafb9",
   "metadata": {},
   "outputs": [],
   "source": [
    "\n",
    "def ave(*a):\n",
    "    sum = 0\n",
    "    for i in a:\n",
    "        sum += i \n",
    "    return sum/len(a)"
   ]
  },
  {
   "cell_type": "code",
   "execution_count": 271,
   "id": "0913a3a5-f847-4daf-adc9-40f0fafa6e10",
   "metadata": {},
   "outputs": [
    {
     "data": {
      "text/plain": [
       "1.0"
      ]
     },
     "execution_count": 271,
     "metadata": {},
     "output_type": "execute_result"
    }
   ],
   "source": [
    "ave(1)"
   ]
  },
  {
   "cell_type": "code",
   "execution_count": 272,
   "id": "fb7e5f5d-6c39-4f1d-ae48-12777579c0f2",
   "metadata": {},
   "outputs": [
    {
     "ename": "SyntaxError",
     "evalue": "invalid syntax (Temp/ipykernel_14696/3780481388.py, line 3)",
     "output_type": "error",
     "traceback": [
      "\u001b[1;36m  File \u001b[1;32m\"C:\\Users\\kyun\\AppData\\Local\\Temp/ipykernel_14696/3780481388.py\"\u001b[1;36m, line \u001b[1;32m3\u001b[0m\n\u001b[1;33m    for i in range(1,1000)\u001b[0m\n\u001b[1;37m                          ^\u001b[0m\n\u001b[1;31mSyntaxError\u001b[0m\u001b[1;31m:\u001b[0m invalid syntax\n"
     ]
    }
   ],
   "source": [
    "def af(*b):\n",
    "    sum = 0\n",
    "    for i in range(1,1000)\n",
    "    "
   ]
  },
  {
   "cell_type": "code",
   "execution_count": 279,
   "id": "d4b5f58a-f678-46ad-97f2-c191a635a2ef",
   "metadata": {},
   "outputs": [
    {
     "name": "stdout",
     "output_type": "stream",
     "text": [
      "156361\n"
     ]
    }
   ],
   "source": [
    "sum = 0\n",
    "for i in range(1,1000):\n",
    "    if i %5 == 0 or i%7 ==0:\n",
    "        sum += i\n",
    "print(sum)"
   ]
  },
  {
   "cell_type": "code",
   "execution_count": 280,
   "id": "d236a815-75a6-4518-8594-a0eb0c76b7f0",
   "metadata": {},
   "outputs": [],
   "source": [
    "# def 함수 이름 (입력값):\n",
    "#     5로나누고 정수값\n"
   ]
  },
  {
   "cell_type": "code",
   "execution_count": null,
   "id": "ab7eefa8-f82a-4f7b-b6dc-373b2221bde0",
   "metadata": {},
   "outputs": [],
   "source": [
    "-상속과 변수"
   ]
  },
  {
   "cell_type": "code",
   "execution_count": 8,
   "id": "3effb85d-69c8-41e7-abb0-7acbfdeaf616",
   "metadata": {},
   "outputs": [],
   "source": [
    "class Person:\n",
    "    def __init__(self):\n",
    "        self.name =\"park\"\n",
    "        self.age = 23\n",
    "        \n",
    "class Korean(Person):\n",
    "    def __init__(self):   #생성자\n",
    "        super().__init__()\n",
    "        self.lang = \"한국어\"\n",
    "        \n",
    "class American(Person):\n",
    "    def __init__(self):\n",
    "        super().__init__()\n",
    "        self.lang = \"English\"\n",
    "        \n",
    "        \n",
    "# 오버드라이빙 되어버려 같은 함수 그래서 super  함수 진행 시킴. "
   ]
  },
  {
   "cell_type": "code",
   "execution_count": 11,
   "id": "c6c20be3-3cbd-447e-8d22-4de17f8dd716",
   "metadata": {},
   "outputs": [
    {
     "name": "stdout",
     "output_type": "stream",
     "text": [
      "park 23 English\n"
     ]
    }
   ],
   "source": [
    "k1 = Korean()\n",
    "a1 = American()\n",
    "print(a1.name,a1.age,a1.lang)\n",
    "\n"
   ]
  },
  {
   "cell_type": "markdown",
   "id": "1df32228-e98f-4dfe-9f76-742b038ea25d",
   "metadata": {},
   "source": [
    "'''r객체 : 형용사 속성, 변수 attribute 예 ) car.color, car.size , car.year\n",
    " 동사 움직임 메소드 , 예) car.go()  car.turn()\n",
    "'''"
   ]
  },
  {
   "cell_type": "code",
   "execution_count": 10,
   "id": "a3c435d3-8f38-4878-b852-e0f318ad54d0",
   "metadata": {},
   "outputs": [
    {
     "data": {
      "text/plain": [
       "'한국어'"
      ]
     },
     "execution_count": 10,
     "metadata": {},
     "output_type": "execute_result"
    }
   ],
   "source": [
    "k1.lang"
   ]
  },
  {
   "cell_type": "code",
   "execution_count": 7,
   "id": "33c4bcd0-b96a-4b6f-a774-660e085e8dd1",
   "metadata": {},
   "outputs": [
    {
     "ename": "SyntaxError",
     "evalue": "invalid syntax (Temp/ipykernel_15428/949754677.py, line 1)",
     "output_type": "error",
     "traceback": [
      "\u001b[1;36m  File \u001b[1;32m\"C:\\Users\\kyun\\AppData\\Local\\Temp/ipykernel_15428/949754677.py\"\u001b[1;36m, line \u001b[1;32m1\u001b[0m\n\u001b[1;33m    k1.(age)  #부모로 부터 안와서 그래\u001b[0m\n\u001b[1;37m       ^\u001b[0m\n\u001b[1;31mSyntaxError\u001b[0m\u001b[1;31m:\u001b[0m invalid syntax\n"
     ]
    }
   ],
   "source": [
    "k1.(age)  #부모로 부터 안와서 그래 "
   ]
  },
  {
   "cell_type": "code",
   "execution_count": null,
   "id": "356e783e-4d55-4581-b729-7311e816dc34",
   "metadata": {},
   "outputs": [],
   "source": [
    "#8090"
   ]
  },
  {
   "cell_type": "code",
   "execution_count": 14,
   "id": "29d05503-9275-4eb5-a237-2afb724b99ac",
   "metadata": {},
   "outputs": [],
   "source": [
    "class Person:\n",
    "    def __init__(self):\n",
    "        self.name =\"길동\"\n",
    "        self.age = 23\n",
    "    def show(self):\n",
    "        print(f\"이름은{self.name}이고 나이는 {self.age}입니다\")\n",
    "        \n",
    "    def say(self):\n",
    "        print(\"어서오세요\")\n",
    "\n",
    "        \n",
    "        \n",
    "        \n",
    "        \n",
    "class Korean(Person):\n",
    "    def __init__(self):   #생성자\n",
    "        super().__init__()\n",
    "        self.lang = \"한국어\"\n",
    "        \n",
    "    def say(self):\n",
    "        print(\"어서오세요\")\n",
    "  \n",
    "        \n",
    "class American(Person):\n",
    "    def __init__(self):\n",
    "        super().__init__()\n",
    "        self.lang = \"English\"\n",
    "    def say(self):\n",
    "        print(\"good morning\")\n",
    "        \n",
    "        "
   ]
  },
  {
   "cell_type": "code",
   "execution_count": 15,
   "id": "e66af645-1f4b-45d1-81e3-aaaf52a60e82",
   "metadata": {},
   "outputs": [],
   "source": [
    "p1 = Person()\n",
    "k1 = Korean()\n",
    "a1 = American()"
   ]
  },
  {
   "cell_type": "code",
   "execution_count": 22,
   "id": "c2b507db-ef66-47e6-9403-f6faf6760525",
   "metadata": {},
   "outputs": [
    {
     "data": {
      "text/plain": [
       "'길동'"
      ]
     },
     "execution_count": 22,
     "metadata": {},
     "output_type": "execute_result"
    }
   ],
   "source": [
    "k1.name"
   ]
  },
  {
   "cell_type": "code",
   "execution_count": 23,
   "id": "ecca8681-3645-4de7-8b21-ad1fc8c637b8",
   "metadata": {},
   "outputs": [
    {
     "data": {
      "text/plain": [
       "23"
      ]
     },
     "execution_count": 23,
     "metadata": {},
     "output_type": "execute_result"
    }
   ],
   "source": [
    "k1.age"
   ]
  },
  {
   "cell_type": "code",
   "execution_count": 24,
   "id": "311af380-0bb5-4a1b-9e15-63d58b29bfa0",
   "metadata": {},
   "outputs": [
    {
     "name": "stdout",
     "output_type": "stream",
     "text": [
      "어서오세요\n"
     ]
    }
   ],
   "source": [
    "k1.say()"
   ]
  },
  {
   "cell_type": "code",
   "execution_count": 25,
   "id": "bd9b480b-947b-4769-b871-2e74c9ed0bcc",
   "metadata": {},
   "outputs": [
    {
     "name": "stdout",
     "output_type": "stream",
     "text": [
      "이름은길동이고 나이는 23입니다\n"
     ]
    }
   ],
   "source": [
    "k1.show()"
   ]
  },
  {
   "cell_type": "markdown",
   "id": "0ff38a10-8609-4483-bf08-657a12f4be01",
   "metadata": {},
   "source": [
    "- 클래스 변수와 인스턴스 변수"
   ]
  },
  {
   "cell_type": "code",
   "execution_count": 41,
   "id": "946fe2ee-514f-47bc-8043-5637a70eeb77",
   "metadata": {},
   "outputs": [],
   "source": [
    "name = \"아이유\"\n",
    "class Person:\n",
    "    name = \"park\" # 클래스 변수\n",
    "    \n",
    "    def __init___(self,name):  #인스턴스 변수 지역변수 로컬 변수 \n",
    "        self.name = name  \n"
   ]
  },
  {
   "cell_type": "code",
   "execution_count": 42,
   "id": "84bda730-5405-4bda-9be3-2373fdb29c21",
   "metadata": {},
   "outputs": [],
   "source": [
    "p1 = Person()"
   ]
  },
  {
   "cell_type": "code",
   "execution_count": 46,
   "id": "a051dd8b-b064-455f-888b-e7d3e0f98380",
   "metadata": {},
   "outputs": [
    {
     "data": {
      "text/plain": [
       "'아이유'"
      ]
     },
     "execution_count": 46,
     "metadata": {},
     "output_type": "execute_result"
    }
   ],
   "source": [
    "name"
   ]
  },
  {
   "cell_type": "code",
   "execution_count": 43,
   "id": "0ffdaeea-90bc-4a90-aff0-1ea8edf874f6",
   "metadata": {},
   "outputs": [],
   "source": [
    "#함수 안에 변수는  self. 클래스이름.클래스변수"
   ]
  },
  {
   "cell_type": "code",
   "execution_count": 44,
   "id": "3464b2a3-4d1f-4adc-ada3-53ff693ba6b2",
   "metadata": {},
   "outputs": [
    {
     "data": {
      "text/plain": [
       "'park'"
      ]
     },
     "execution_count": 44,
     "metadata": {},
     "output_type": "execute_result"
    }
   ],
   "source": [
    "p1.name"
   ]
  },
  {
   "cell_type": "code",
   "execution_count": 45,
   "id": "7100b6e2-ca6c-4f55-8a96-b6179dea03bb",
   "metadata": {},
   "outputs": [
    {
     "data": {
      "text/plain": [
       "'park'"
      ]
     },
     "execution_count": 45,
     "metadata": {},
     "output_type": "execute_result"
    }
   ],
   "source": [
    "Person.name"
   ]
  },
  {
   "cell_type": "code",
   "execution_count": 62,
   "id": "03fb2bf2-41e2-4d44-bb2f-5a9045858420",
   "metadata": {},
   "outputs": [
    {
     "name": "stdout",
     "output_type": "stream",
     "text": [
      "전우치\n",
      "홍길동\n",
      "장길산\n"
     ]
    }
   ],
   "source": [
    "name = \"전우치\"\n",
    "class People : \n",
    "    name = \"홍길동\" \n",
    "    def __init__(self):\n",
    "        self.name = \"장길산\"\n",
    "        \n",
    "p1 = People()\n",
    "print(name) # 전역변수\n",
    "print(People.name) #  클래스 변수\n",
    "print(p1.name) # 로컬변수 인스턴스변수"
   ]
  },
  {
   "cell_type": "code",
   "execution_count": 54,
   "id": "dba90c85-4d3b-4445-9961-ee59d6071724",
   "metadata": {},
   "outputs": [
    {
     "data": {
      "text/plain": [
       "'전우치'"
      ]
     },
     "execution_count": 54,
     "metadata": {},
     "output_type": "execute_result"
    }
   ],
   "source": [
    "name"
   ]
  },
  {
   "cell_type": "code",
   "execution_count": 55,
   "id": "f0f67b9c-3403-4655-915c-860b8281fc0c",
   "metadata": {},
   "outputs": [
    {
     "data": {
      "text/plain": [
       "'홍길동'"
      ]
     },
     "execution_count": 55,
     "metadata": {},
     "output_type": "execute_result"
    }
   ],
   "source": [
    "People.name"
   ]
  },
  {
   "cell_type": "code",
   "execution_count": 56,
   "id": "2ffdb437-8e54-4622-869b-98edc4dea659",
   "metadata": {},
   "outputs": [],
   "source": [
    "p1 = People()"
   ]
  },
  {
   "cell_type": "code",
   "execution_count": 57,
   "id": "9c80172d-2770-4585-8775-10d785700bd8",
   "metadata": {},
   "outputs": [
    {
     "data": {
      "text/plain": [
       "'홍길동'"
      ]
     },
     "execution_count": 57,
     "metadata": {},
     "output_type": "execute_result"
    }
   ],
   "source": [
    "p1.name"
   ]
  },
  {
   "cell_type": "code",
   "execution_count": 58,
   "id": "2af028d4-1f36-4368-8578-0c7449511527",
   "metadata": {},
   "outputs": [
    {
     "name": "stdout",
     "output_type": "stream",
     "text": [
      "홍길동\n"
     ]
    }
   ],
   "source": [
    "print(p1.name)"
   ]
  },
  {
   "cell_type": "markdown",
   "id": "bd09e474-b4c1-4d2f-bf88-397849291238",
   "metadata": {},
   "source": [
    "## 5-2 모듈\n",
    "모듈이란 함수나 변수 또는 클래스를 모아 놓은 파일이다 .\n",
    "import를 사용해서 가지고 온다. "
   ]
  },
  {
   "cell_type": "code",
   "execution_count": 150,
   "id": "b7cb388e-d1e3-495e-ac64-82555869ffcf",
   "metadata": {},
   "outputs": [
    {
     "data": {
      "text/plain": [
       "[<matplotlib.lines.Line2D at 0x220b06102e0>]"
      ]
     },
     "execution_count": 150,
     "metadata": {},
     "output_type": "execute_result"
    },
    {
     "data": {
      "image/png": "[encoded data removed]",
      "text/plain": [
       "<Figure size 432x288 with 1 Axes>"
      ]
     },
     "metadata": {
      "needs_background": "light"
     },
     "output_type": "display_data"
    }
   ],
   "source": [
    "import matplotlib.pyplot as plt\n",
    "import numpy as np\n",
    "x = np.linspace(0,2*np.pi, 100)\n",
    "y = np.sin(x)\n",
    "plt.plot(x,y)\n",
    "plt.plot(x,np.cos(x))"
   ]
  },
  {
   "cell_type": "code",
   "execution_count": 151,
   "id": "25188f53-5381-484c-b426-c25e76787f80",
   "metadata": {},
   "outputs": [
    {
     "data": {
      "text/plain": [
       "[<matplotlib.lines.Line2D at 0x220b0df82b0>]"
      ]
     },
     "execution_count": 151,
     "metadata": {},
     "output_type": "execute_result"
    },
    {
     "data": {
      "image/png": "[encoded data removed]",
      "text/plain": [
       "<Figure size 432x288 with 1 Axes>"
      ]
     },
     "metadata": {
      "needs_background": "light"
     },
     "output_type": "display_data"
    }
   ],
   "source": [
    "import matplotlib.pyplot as plt\n",
    "import numpy as no\n",
    "x = np.linspace(0,2*np.pi,100)\n",
    "plt.plot(x,np.sin(x))"
   ]
  },
  {
   "cell_type": "code",
   "execution_count": null,
   "id": "6f2881a0-482c-4e22-b5cd-255db26ba9e8",
   "metadata": {},
   "outputs": [],
   "source": [
    "np."
   ]
  },
  {
   "cell_type": "code",
   "execution_count": 1,
   "id": "777a8b94-5ffe-455f-b7b7-0cc7a16c99b8",
   "metadata": {},
   "outputs": [
    {
     "ename": "SyntaxError",
     "evalue": "invalid syntax (Temp/ipykernel_27460/3088590993.py, line 4)",
     "output_type": "error",
     "traceback": [
      "\u001b[1;36m  File \u001b[1;32m\"C:\\Users\\kyun\\AppData\\Local\\Temp/ipykernel_27460/3088590993.py\"\u001b[1;36m, line \u001b[1;32m4\u001b[0m\n\u001b[1;33m    __init__  없으면 기본으로 해버려\u001b[0m\n\u001b[1;37m              ^\u001b[0m\n\u001b[1;31mSyntaxError\u001b[0m\u001b[1;31m:\u001b[0m invalid syntax\n"
     ]
    }
   ],
   "source": [
    "# 실행 안되게 막아주는 것  \n",
    "if __name__ == \"__main__\" :\n",
    "    \n",
    "    __init__  없으면 기본으로 해버려 "
   ]
  },
  {
   "cell_type": "code",
   "execution_count": 2,
   "id": "10c61c4c-2836-40e2-9ac9-6d884da0ae36",
   "metadata": {},
   "outputs": [
    {
     "name": "stdout",
     "output_type": "stream",
     "text": [
      "1\n"
     ]
    }
   ],
   "source": [
    "result = 0 \n",
    "i = 1 \n",
    "while i <= 1000 :\n",
    "    if result %3 == 0:\n",
    "        result+= i\n",
    "    i += 1\n",
    "print(result)"
   ]
  },
  {
   "cell_type": "code",
   "execution_count": 6,
   "id": "f14cf6ff-c60b-4ec2-9066-e204c8ddb3ec",
   "metadata": {},
   "outputs": [
    {
     "name": "stdout",
     "output_type": "stream",
     "text": [
      "1\n",
      "2\n",
      "3\n",
      "4\n",
      "5\n",
      "6\n",
      "7\n",
      "8\n",
      "9\n",
      "10\n"
     ]
    }
   ],
   "source": [
    "for i in range(1,11):\n",
    "    print(i)\n",
    "    "
   ]
  },
  {
   "cell_type": "code",
   "execution_count": 21,
   "id": "5eb24f16-0fdc-4797-8d12-6154cd25cbc2",
   "metadata": {},
   "outputs": [
    {
     "name": "stdout",
     "output_type": "stream",
     "text": [
      "61.666666666666664\n"
     ]
    }
   ],
   "source": [
    "A = [70,60,55]\n",
    "total = 0 \n",
    "\n",
    "for i in A :\n",
    "    total += i\n",
    "aver = total/len(A)\n",
    "print(aver)"
   ]
  },
  {
   "cell_type": "code",
   "execution_count": 22,
   "id": "ce95dbba-04ed-4c89-a613-4a83a39ff8f1",
   "metadata": {},
   "outputs": [
    {
     "name": "stdout",
     "output_type": "stream",
     "text": [
      "[2, 6]\n"
     ]
    }
   ],
   "source": [
    "num = [1,2,3]\n",
    "result = [n*2 for n in num if n % 2 == 1] \n",
    "print(result)"
   ]
  },
  {
   "cell_type": "code",
   "execution_count": 20,
   "id": "217e051b-d526-40d8-9966-0ade4cf4975d",
   "metadata": {},
   "outputs": [
    {
     "ename": "TypeError",
     "evalue": "print() argument after * must be an iterable, not int",
     "output_type": "error",
     "traceback": [
      "\u001b[1;31m---------------------------------------------------------------------------\u001b[0m",
      "\u001b[1;31mTypeError\u001b[0m                                 Traceback (most recent call last)",
      "\u001b[1;32m~\\AppData\\Local\\Temp/ipykernel_27460/2394854669.py\u001b[0m in \u001b[0;36m<module>\u001b[1;34m\u001b[0m\n\u001b[0;32m      3\u001b[0m     \u001b[0mi\u001b[0m \u001b[1;33m+=\u001b[0m \u001b[1;36m1\u001b[0m\u001b[1;33m\u001b[0m\u001b[1;33m\u001b[0m\u001b[0m\n\u001b[0;32m      4\u001b[0m     \u001b[1;32mif\u001b[0m \u001b[0mi\u001b[0m \u001b[1;33m>\u001b[0m \u001b[1;36m5\u001b[0m \u001b[1;33m:\u001b[0m \u001b[1;32mbreak\u001b[0m\u001b[1;33m\u001b[0m\u001b[1;33m\u001b[0m\u001b[0m\n\u001b[1;32m----> 5\u001b[1;33m     \u001b[0mprint\u001b[0m\u001b[1;33m(\u001b[0m\u001b[1;33m*\u001b[0m\u001b[0mi\u001b[0m\u001b[1;33m)\u001b[0m\u001b[1;33m\u001b[0m\u001b[1;33m\u001b[0m\u001b[0m\n\u001b[0m",
      "\u001b[1;31mTypeError\u001b[0m: print() argument after * must be an iterable, not int"
     ]
    }
   ],
   "source": [
    "i = 0\n",
    "while True:\n",
    "    i += 1\n",
    "    if i > 5 : break \n",
    "    print(*i)"
   ]
  },
  {
   "cell_type": "markdown",
   "id": "487059cb-c86f-432f-a67e-14e5e07b63cc",
   "metadata": {},
   "source": [
    "## 5-3 예외 처리 \n",
    "try 와 except를 사용\n",
    "오류가 나도 실행시키게 만들기"
   ]
  },
  {
   "cell_type": "code",
   "execution_count": 67,
   "id": "76e5053e-26f6-4c55-bff2-00617e6178ba",
   "metadata": {},
   "outputs": [
    {
     "name": "stdout",
     "output_type": "stream",
     "text": [
      "10\n",
      "11\n",
      "12\n"
     ]
    },
    {
     "ename": "IndexError",
     "evalue": "list index out of range",
     "output_type": "error",
     "traceback": [
      "\u001b[1;31m---------------------------------------------------------------------------\u001b[0m",
      "\u001b[1;31mIndexError\u001b[0m                                Traceback (most recent call last)",
      "\u001b[1;32m~\\AppData\\Local\\Temp/ipykernel_15428/1133341981.py\u001b[0m in \u001b[0;36m<module>\u001b[1;34m\u001b[0m\n\u001b[0;32m      1\u001b[0m \u001b[0ma\u001b[0m \u001b[1;33m=\u001b[0m \u001b[1;33m[\u001b[0m\u001b[1;36m10\u001b[0m\u001b[1;33m,\u001b[0m\u001b[1;36m11\u001b[0m\u001b[1;33m,\u001b[0m\u001b[1;36m12\u001b[0m\u001b[1;33m]\u001b[0m\u001b[1;33m\u001b[0m\u001b[1;33m\u001b[0m\u001b[0m\n\u001b[0;32m      2\u001b[0m \u001b[1;32mfor\u001b[0m \u001b[0mi\u001b[0m \u001b[1;32min\u001b[0m \u001b[0mrange\u001b[0m\u001b[1;33m(\u001b[0m\u001b[1;36m4\u001b[0m\u001b[1;33m)\u001b[0m\u001b[1;33m:\u001b[0m\u001b[1;33m\u001b[0m\u001b[1;33m\u001b[0m\u001b[0m\n\u001b[1;32m----> 3\u001b[1;33m     \u001b[0mprint\u001b[0m\u001b[1;33m(\u001b[0m\u001b[0ma\u001b[0m\u001b[1;33m[\u001b[0m\u001b[0mi\u001b[0m\u001b[1;33m]\u001b[0m\u001b[1;33m)\u001b[0m\u001b[1;33m\u001b[0m\u001b[1;33m\u001b[0m\u001b[0m\n\u001b[0m\u001b[0;32m      4\u001b[0m \u001b[1;33m\u001b[0m\u001b[0m\n",
      "\u001b[1;31mIndexError\u001b[0m: list index out of range"
     ]
    }
   ],
   "source": [
    "a = [10,11,12]\n",
    "for i in range(4):\n",
    "    print(a[i])\n",
    "    "
   ]
  },
  {
   "cell_type": "code",
   "execution_count": 68,
   "id": "529a3115-055b-49df-aa0e-dd69679bb272",
   "metadata": {},
   "outputs": [
    {
     "name": "stdout",
     "output_type": "stream",
     "text": [
      "10\n",
      "11\n",
      "12\n"
     ]
    }
   ],
   "source": [
    "a = [10,11,12]\n",
    "try:\n",
    "    for i in range(4):\n",
    "        print(a[i])\n",
    "except:\n",
    "    pass"
   ]
  },
  {
   "cell_type": "code",
   "execution_count": 152,
   "id": "82b2b873-b4b2-439e-a67e-30a6b514a46f",
   "metadata": {},
   "outputs": [],
   "source": [
    "try:\n",
    "    4/0\n",
    "except :\n",
    "    pass"
   ]
  },
  {
   "cell_type": "code",
   "execution_count": 75,
   "id": "f51117b4-96f0-4bba-a710-2544b170de08",
   "metadata": {},
   "outputs": [
    {
     "name": "stdout",
     "output_type": "stream",
     "text": [
      "0으로 나누셨군요\n"
     ]
    }
   ],
   "source": [
    "try:\n",
    "    4/0\n",
    "except ZeroDivisionError as e:\n",
    "    print(\"0으로 나누셨군요\")"
   ]
  },
  {
   "cell_type": "code",
   "execution_count": 78,
   "id": "de57a000-24cd-4756-8346-217921f546fc",
   "metadata": {},
   "outputs": [
    {
     "name": "stdout",
     "output_type": "stream",
     "text": [
      "division by zero\n"
     ]
    }
   ],
   "source": [
    "try:\n",
    "    4/0\n",
    "except ZeroDivisionError as e:\n",
    "    print(e)"
   ]
  },
  {
   "cell_type": "code",
   "execution_count": null,
   "id": "b9409e17-7462-4dac-b0c0-d7c6de1f3948",
   "metadata": {},
   "outputs": [],
   "source": [
    "class Bird:\n",
    "    def fly(self)\n",
    "    \n",
    "    \n",
    "class Eagle(Bird):\n",
    "    def fly(self):\n",
    "        print(\"날다\")\n",
    "e1 = Eagle()\n",
    "e1.fly()"
   ]
  },
  {
   "cell_type": "markdown",
   "id": "771c9f40-64d5-4dd2-b1fa-f63d6a3e071f",
   "metadata": {},
   "source": [
    "## 5-4내장함수"
   ]
  },
  {
   "cell_type": "code",
   "execution_count": null,
   "id": "9c863b8d-f0d2-4f34-9585-42fb16e6d2cc",
   "metadata": {},
   "outputs": [],
   "source": [
    "print()\n",
    "int()\n",
    "float()\n",
    "str()\n",
    "bool()\n",
    "type(\n",
    "range()\n",
    "len()\n",
    "sum()\n",
    "max()\n",
    "min()\n",
    "dir()\n",
    "''.format() # 메소드지 내장함수는 아님 \n",
    "open()\n",
    "close()\n",
    "input()\n",
    "all([1,2,3])    \n",
    "    \n",
    "    \n",
    "    \n",
    "    \n",
    "    \n",
    "    \n",
    "    \n",
    "    "
   ]
  },
  {
   "cell_type": "code",
   "execution_count": 82,
   "id": "4d5b4a5a-7b5f-4c98-9d88-444bbadd1f33",
   "metadata": {},
   "outputs": [
    {
     "data": {
      "text/plain": [
       "True"
      ]
     },
     "execution_count": 82,
     "metadata": {},
     "output_type": "execute_result"
    }
   ],
   "source": [
    "all([1])    "
   ]
  },
  {
   "cell_type": "code",
   "execution_count": null,
   "id": "8d5e6f43-2ad4-4dde-99d0-d70453952893",
   "metadata": {},
   "outputs": [],
   "source": [
    "#iterable 이트러블 그것이 뭐냐면 이트러블 한 것이 들어가야 해 , 이트러블은 순환가능한 , "
   ]
  },
  {
   "cell_type": "code",
   "execution_count": 153,
   "id": "0747b35c-59e2-45a8-9c64-8511b1b96685",
   "metadata": {},
   "outputs": [
    {
     "data": {
      "text/plain": [
       "'M'"
      ]
     },
     "execution_count": 153,
     "metadata": {},
     "output_type": "execute_result"
    }
   ],
   "source": [
    "chr(77)"
   ]
  },
  {
   "cell_type": "code",
   "execution_count": 77,
   "id": "c9616e6c-afe0-4ede-9706-07f6d0536647",
   "metadata": {},
   "outputs": [
    {
     "name": "stdout",
     "output_type": "stream",
     "text": [
      "0 a\n",
      "1 b\n",
      "2 c\n"
     ]
    }
   ],
   "source": [
    "for i, j in enumerate([\"a\",\"b\",\"c\"]): #열거하다 라는 뜻 반복되는 객체가 어느 위치 인지 알려줌\n",
    "    print(i, j)"
   ]
  },
  {
   "cell_type": "code",
   "execution_count": null,
   "id": "2d90c289-6da3-4f21-b90d-1a61599acf68",
   "metadata": {},
   "outputs": [],
   "source": [
    "for i in []"
   ]
  },
  {
   "cell_type": "code",
   "execution_count": 78,
   "id": "621ab876-1e9f-4e6d-8e1a-416f63b29f1d",
   "metadata": {},
   "outputs": [
    {
     "data": {
      "text/plain": [
       "True"
      ]
     },
     "execution_count": 78,
     "metadata": {},
     "output_type": "execute_result"
    }
   ],
   "source": [
    "# filter( 리턴값이 참 거짓 함수 , 리스트 자료형 ) 필터는 걸러줘 특정 숫자를 조건에 따라서 \n",
    "\n",
    "\n",
    "bool(3)"
   ]
  },
  {
   "cell_type": "code",
   "execution_count": 79,
   "id": "972e8d9f-8296-4e91-a0ce-385b814b2a8a",
   "metadata": {},
   "outputs": [
    {
     "data": {
      "text/plain": [
       "[-2, -1, 1, 2]"
      ]
     },
     "execution_count": 79,
     "metadata": {},
     "output_type": "execute_result"
    }
   ],
   "source": [
    "list(filter(bool,[-2,-1,0,1,2]))"
   ]
  },
  {
   "cell_type": "code",
   "execution_count": 81,
   "id": "37042ffa-2dae-4f51-85e6-8f4054b59b6c",
   "metadata": {},
   "outputs": [
    {
     "data": {
      "text/plain": [
       "False"
      ]
     },
     "execution_count": 81,
     "metadata": {},
     "output_type": "execute_result"
    }
   ],
   "source": [
    "def positive(x):\n",
    "    return x>0\n",
    "positive(-2)"
   ]
  },
  {
   "cell_type": "code",
   "execution_count": 82,
   "id": "52ae4f74-c97e-43fe-bdf2-bf4befa09949",
   "metadata": {},
   "outputs": [
    {
     "data": {
      "text/plain": [
       "[1, 2]"
      ]
     },
     "execution_count": 82,
     "metadata": {},
     "output_type": "execute_result"
    }
   ],
   "source": [
    "list(filter(positive,[-2,-1,0,1,2]))"
   ]
  },
  {
   "cell_type": "code",
   "execution_count": 83,
   "id": "c39e5005-d243-49e7-8422-d1682e75aa06",
   "metadata": {},
   "outputs": [
    {
     "data": {
      "text/plain": [
       "[1, 2]"
      ]
     },
     "execution_count": 83,
     "metadata": {},
     "output_type": "execute_result"
    }
   ],
   "source": [
    "list(filter(lambda x : x>0  ,[-2,-1,0,1,2]))"
   ]
  },
  {
   "cell_type": "code",
   "execution_count": 84,
   "id": "46a4ab56-7864-4ba3-bdd1-dbb1c3bc389c",
   "metadata": {},
   "outputs": [],
   "source": [
    "def two_times(numberList):\n",
    "    result = []\n",
    "    for number in numerList:\n",
    "        result.append(number*2)\n",
    "    return result"
   ]
  },
  {
   "cell_type": "code",
   "execution_count": 85,
   "id": "0686369a-af7d-4121-804c-f08bf161c820",
   "metadata": {},
   "outputs": [
    {
     "data": {
      "text/plain": [
       "[6, 8]"
      ]
     },
     "execution_count": 85,
     "metadata": {},
     "output_type": "execute_result"
    }
   ],
   "source": [
    "list(map(lambda x: 2*x ,[3,4]))  #맵은 각 요소의 값을 묶어서 보내줌 "
   ]
  },
  {
   "cell_type": "markdown",
   "id": "928e8ef3-c7f8-490b-a02c-ff890761a8c9",
   "metadata": {},
   "source": [
    "### mutable 자료형  순환 가능한 . immutable 자료형  \n",
    "iterable :리스트 튜플 dictionary set str range\n",
    "\n",
    "\n",
    "mutable : 수정가능한 리스트 딕셔너리 \n",
    "immutatble : 튜플 스트링 int \n",
    "\n",
    "\n",
    "for i in iterable 자료형 "
   ]
  },
  {
   "cell_type": "code",
   "execution_count": 110,
   "id": "dd70800a-054a-46ba-ae1e-f7e9e7861384",
   "metadata": {},
   "outputs": [
    {
     "data": {
      "text/plain": [
       "[10, 11, 12]"
      ]
     },
     "execution_count": 110,
     "metadata": {},
     "output_type": "execute_result"
    }
   ],
   "source": [
    "a = sorted(a) #정렬한 후 다시 리스트 돌려주기\n",
    "a"
   ]
  },
  {
   "cell_type": "code",
   "execution_count": 87,
   "id": "55f30090-4261-42a3-af21-7087eeb94a2f",
   "metadata": {},
   "outputs": [],
   "source": [
    "a = [2,1,3]\n",
    "a.sort() #값은 안보여줌"
   ]
  },
  {
   "cell_type": "code",
   "execution_count": 112,
   "id": "9ca0df43-f040-4fe2-86c4-f150325c226a",
   "metadata": {},
   "outputs": [
    {
     "data": {
      "text/plain": [
       "[1, 2, 3]"
      ]
     },
     "execution_count": 112,
     "metadata": {},
     "output_type": "execute_result"
    }
   ],
   "source": [
    "a"
   ]
  },
  {
   "cell_type": "code",
   "execution_count": null,
   "id": "79490726-3216-4a18-b163-b3c4be8d3583",
   "metadata": {},
   "outputs": [],
   "source": [
    "stu = [\"a\",\"b\"]"
   ]
  },
  {
   "cell_type": "code",
   "execution_count": 6,
   "id": "c629b1b7-7aa3-422c-86f3-96a869cda96c",
   "metadata": {},
   "outputs": [
    {
     "name": "stdout",
     "output_type": "stream",
     "text": [
      "1 a\n",
      "2 b\n"
     ]
    }
   ],
   "source": [
    "stu = [\"a\",\"b\"]\n",
    "for i,a in enumerate([\"a\",\"b\"]):\n",
    "    print(i+1,a)"
   ]
  },
  {
   "cell_type": "code",
   "execution_count": null,
   "id": "9f2bbf62-663b-40ae-9267-d5bd1f935d92",
   "metadata": {},
   "outputs": [],
   "source": [
    "def positivie(l):\n",
    "    result = []\n",
    "    for i in l:\n",
    "        if i %2 ==0:\n",
    "            result.append(i)\n",
    "        return result\n",
    "print(postivie([])"
   ]
  },
  {
   "cell_type": "code",
   "execution_count": null,
   "id": "ab8b73ae-30cf-464e-bdae-91a656789fa4",
   "metadata": {},
   "outputs": [],
   "source": [
    "def positivie(l):\n",
    "    return x %2 == 0\n",
    "print(list(filter(positivie,[1,2,3,4,5])))"
   ]
  },
  {
   "cell_type": "code",
   "execution_count": 10,
   "id": "a4fb9d17-4646-49e0-a034-2effb67fc528",
   "metadata": {},
   "outputs": [
    {
     "data": {
      "text/plain": [
       "[2, 4]"
      ]
     },
     "execution_count": 10,
     "metadata": {},
     "output_type": "execute_result"
    }
   ],
   "source": [
    "list(filter(lambda x: x%2==0,[1,2,3,4,5]))"
   ]
  },
  {
   "cell_type": "code",
   "execution_count": 13,
   "id": "5f8b0ef0-d447-4e6c-ad91-c4224181d599",
   "metadata": {},
   "outputs": [
    {
     "name": "stdout",
     "output_type": "stream",
     "text": [
      "[2, 4]\n"
     ]
    }
   ],
   "source": [
    "def is_even(x):\n",
    "    return x %2 == 0\n",
    "print(list(filter(is_even,[1,2,3,4,5])))"
   ]
  },
  {
   "cell_type": "code",
   "execution_count": 22,
   "id": "66d684b6-ac68-4070-aa99-2f87b0ac203b",
   "metadata": {},
   "outputs": [],
   "source": [
    "def div_mod(a,b):\n",
    "    try: \n",
    "        a//b\n",
    "    except ZeroDivisionError:\n",
    "        print(\"055\")"
   ]
  },
  {
   "cell_type": "code",
   "execution_count": 23,
   "id": "f08fceae-c80e-4697-b8fb-780d353b0ae6",
   "metadata": {},
   "outputs": [
    {
     "name": "stdout",
     "output_type": "stream",
     "text": [
      "055\n"
     ]
    }
   ],
   "source": [
    "div_mod(4,0)"
   ]
  },
  {
   "cell_type": "code",
   "execution_count": 24,
   "id": "9e0962e7-8341-4230-89a1-e16156f190d1",
   "metadata": {},
   "outputs": [
    {
     "name": "stdin",
     "output_type": "stream",
     "text": [
      "숫자를 입력해주세요 f\n"
     ]
    },
    {
     "name": "stdout",
     "output_type": "stream",
     "text": [
      "잘못된 값입니다\n"
     ]
    }
   ],
   "source": [
    "try:\n",
    "    num = int(input(\"숫자를 입력해주세요\"))\n",
    "    print(num)\n",
    "except ValueError:\n",
    "    print(\"잘못된 값입니다\")"
   ]
  },
  {
   "cell_type": "code",
   "execution_count": 25,
   "id": "b8b50b91-e75c-4a61-9aff-96f99212b88e",
   "metadata": {},
   "outputs": [],
   "source": [
    "Fibo_seq = [1,2,3,5,8,13,23]\n",
    "even_list =list(filter(lambda x : x%2==0, Fibo_seq))\n",
    "     "
   ]
  },
  {
   "cell_type": "code",
   "execution_count": 26,
   "id": "757c33a6-31ee-47e0-a661-f4206b20e0a1",
   "metadata": {},
   "outputs": [
    {
     "data": {
      "text/plain": [
       "[('으나', 23, '대학생'), ('dns', 25, 'gkr')]"
      ]
     },
     "execution_count": 26,
     "metadata": {},
     "output_type": "execute_result"
    }
   ],
   "source": [
    "name = ['으나','dns']\n",
    "age = [23,25]\n",
    "job = ['대학생',\"gkr\"]\n",
    "list(zip(name,age,job))"
   ]
  },
  {
   "cell_type": "code",
   "execution_count": 27,
   "id": "971e475d-bf46-46b8-8d86-6cccb9a71769",
   "metadata": {},
   "outputs": [],
   "source": [
    "t = (2,\"rlfehd\")"
   ]
  },
  {
   "cell_type": "code",
   "execution_count": 29,
   "id": "f16b6433-ad5e-4939-80e0-849d2c942da1",
   "metadata": {},
   "outputs": [
    {
     "name": "stdout",
     "output_type": "stream",
     "text": [
      "(2, 'rlfehd')\n"
     ]
    }
   ],
   "source": [
    "print(t)"
   ]
  },
  {
   "cell_type": "code",
   "execution_count": 30,
   "id": "c1694b8d-8b30-41e4-9fbe-5656a45b4603",
   "metadata": {},
   "outputs": [
    {
     "data": {
      "text/plain": [
       "2"
      ]
     },
     "execution_count": 30,
     "metadata": {},
     "output_type": "execute_result"
    }
   ],
   "source": [
    "t[0 ]"
   ]
  },
  {
   "cell_type": "markdown",
   "id": "75795ea0-82e3-4fdd-b795-286a2e73a72d",
   "metadata": {},
   "source": [
    "## 5-6 외장함수 라이브러리"
   ]
  },
  {
   "cell_type": "code",
   "execution_count": null,
   "id": "51e9c298-e409-4722-9b78-1cd605a6c4b9",
   "metadata": {},
   "outputs": [],
   "source": [
    "#sys 파이썬 인터 프리터가 제공하는 변수와 함수를 직접 제어할 수 잇게 해주는 모듈이다. "
   ]
  },
  {
   "cell_type": "code",
   "execution_count": 93,
   "id": "1c411a2a-4fc3-4bbe-a327-d5502ddea5e0",
   "metadata": {},
   "outputs": [],
   "source": [
    "f = open('test.txt',\"wb\") #word\n",
    "data = {1:'y',2:\"zs\"} #한글\n",
    "import pickle  \n",
    "pickle.dump(data,f) #객체 자체로 저장 깨지지 않게\n",
    "f.close()"
   ]
  },
  {
   "cell_type": "code",
   "execution_count": 94,
   "id": "aac72a3e-f148-47b6-b6c1-4242fd6aa589",
   "metadata": {},
   "outputs": [
    {
     "name": "stdout",
     "output_type": "stream",
     "text": [
      " C 드라이브의 볼륨에는 이름이 없습니다.\n",
      " 볼륨 일련 번호: FA06-924D\n",
      "\n",
      " C:\\Users\\kyun\\Desktop\\pythonworkshop 디렉터리\n",
      "\n",
      "2022-03-04  오후 05:42    <DIR>          .\n",
      "2022-03-04  오후 05:42    <DIR>          ..\n",
      "2022-02-27  오후 09:56    <DIR>          .ipynb_checkpoints\n",
      "2022-03-04  오후 04:46                 0 greeting.txt\n",
      "2022-03-03  오후 02:26                28 Helloworld.pickle\n",
      "2022-03-04  오전 11:29               301 my_python.py\n",
      "2022-02-25  오전 11:03                14 python.py\n",
      "2022-02-25  오전 11:03                14 python.txt\n",
      "2022-03-04  오후 05:42           331,331 python01.ipynb\n",
      "2022-02-28  오후 02:23                20 pythonpractice.txt\n",
      "2022-02-25  오전 10:43                66 test.py\n",
      "2022-03-04  오후 05:43                29 test.txt\n",
      "2022-02-25  오전 10:36                17 tet02.py\n",
      "2022-03-02  오후 02:19               192 thread.py\n",
      "2022-02-27  오후 09:58               952 Untitled.ipynb\n",
      "2022-02-25  오후 04:40                23 untitled.py\n",
      "2022-02-25  오전 10:34                 0 새 텍스트 문서.txt\n",
      "2022-02-25  오전 10:23                 8 새파일.txt\n",
      "2022-03-04  오후 04:52           140,197 연습문제.ipynb\n",
      "              16개 파일             473,192 바이트\n",
      "               3개 디렉터리  448,833,605,632 바이트 남음\n"
     ]
    }
   ],
   "source": [
    "!dir"
   ]
  },
  {
   "cell_type": "code",
   "execution_count": 97,
   "id": "f96358e6-6816-46b4-abd7-f4eec6c0a8c4",
   "metadata": {},
   "outputs": [
    {
     "name": "stdout",
     "output_type": "stream",
     "text": [
      "{1: 'y', 2: 'zs'}\n"
     ]
    }
   ],
   "source": [
    "print(data)"
   ]
  },
  {
   "cell_type": "code",
   "execution_count": 38,
   "id": "2376e727-19f1-444b-bb99-a5d22795e85c",
   "metadata": {},
   "outputs": [
    {
     "data": {
      "text/plain": [
       "'C:\\\\Users\\\\kyun\\\\Desktop\\\\pythonworkshop'"
      ]
     },
     "execution_count": 38,
     "metadata": {},
     "output_type": "execute_result"
    }
   ],
   "source": [
    "pwd"
   ]
  },
  {
   "cell_type": "code",
   "execution_count": 40,
   "id": "9ccf581b-0156-4b23-9b7c-3a53a1a1068b",
   "metadata": {},
   "outputs": [
    {
     "ename": "SyntaxError",
     "evalue": "EOL while scanning string literal (Temp/ipykernel_12488/1694134527.py, line 1)",
     "output_type": "error",
     "traceback": [
      "\u001b[1;36m  File \u001b[1;32m\"C:\\Users\\kyun\\AppData\\Local\\Temp/ipykernel_12488/1694134527.py\"\u001b[1;36m, line \u001b[1;32m1\u001b[0m\n\u001b[1;33m    os.chdir(\"D:\\\")\u001b[0m\n\u001b[1;37m                   ^\u001b[0m\n\u001b[1;31mSyntaxError\u001b[0m\u001b[1;31m:\u001b[0m EOL while scanning string literal\n"
     ]
    }
   ],
   "source": [
    "os.chdir(\"D:\\\")"
   ]
  },
  {
   "cell_type": "code",
   "execution_count": 41,
   "id": "59187fbe-2fd6-4ab9-a10b-a9ca3b32d6f1",
   "metadata": {},
   "outputs": [],
   "source": [
    "import glob"
   ]
  },
  {
   "cell_type": "code",
   "execution_count": 46,
   "id": "6a66e23d-00c2-4567-9424-9d9383558da6",
   "metadata": {},
   "outputs": [
    {
     "data": {
      "text/plain": [
       "[]"
      ]
     },
     "execution_count": 46,
     "metadata": {},
     "output_type": "execute_result"
    }
   ],
   "source": [
    "glob.glob(\"C:\\pythonworkshop\\*\") #이름 알게 해줌 "
   ]
  },
  {
   "cell_type": "code",
   "execution_count": 49,
   "id": "2486fd99-d43b-4b2c-a6b7-3e0a75fc0db6",
   "metadata": {},
   "outputs": [
    {
     "name": "stdout",
     "output_type": "stream",
     "text": [
      "27436464.468199328\n",
      "457274.40780332213\n",
      "19053.10032513842\n",
      "52.200274863392934\n"
     ]
    }
   ],
   "source": [
    "import time # 시간관련된 함수\n",
    "print(time.time()/60) # 분\n",
    "print(time.time()/60/60) # 시\n",
    "print(time.time()/60/60/24) # 일\n",
    "print(time.time()/60/60/24/365)"
   ]
  },
  {
   "cell_type": "code",
   "execution_count": 50,
   "id": "5ad2f6a8-b9fb-483a-b79f-e0d44804e084",
   "metadata": {},
   "outputs": [
    {
     "data": {
      "text/plain": [
       "time.struct_time(tm_year=2022, tm_mon=3, tm_mday=2, tm_hour=11, tm_min=24, tm_sec=57, tm_wday=2, tm_yday=61, tm_isdst=0)"
      ]
     },
     "execution_count": 50,
     "metadata": {},
     "output_type": "execute_result"
    }
   ],
   "source": [
    "time.localtime() "
   ]
  },
  {
   "cell_type": "code",
   "execution_count": 51,
   "id": "1ac25fed-35be-46c2-afc3-e52b71453836",
   "metadata": {},
   "outputs": [
    {
     "data": {
      "text/plain": [
       "'Wed Mar  2 11:28:51 2022'"
      ]
     },
     "execution_count": 51,
     "metadata": {},
     "output_type": "execute_result"
    }
   ],
   "source": [
    "time.ctime() #튜플형태 "
   ]
  },
  {
   "cell_type": "code",
   "execution_count": 52,
   "id": "5fe16452-24b8-49bd-8ee3-3feeb97f6f01",
   "metadata": {},
   "outputs": [
    {
     "data": {
      "text/plain": [
       "'03/02/22'"
      ]
     },
     "execution_count": 52,
     "metadata": {},
     "output_type": "execute_result"
    }
   ],
   "source": [
    "time.strftime(\"%x\",time.localtime()) #특정시간 %y %m %d %H \n"
   ]
  },
  {
   "cell_type": "code",
   "execution_count": 54,
   "id": "1708b49a-4f13-4340-b63c-7ca3f3238a06",
   "metadata": {},
   "outputs": [],
   "source": [
    "import calendar"
   ]
  },
  {
   "cell_type": "code",
   "execution_count": 56,
   "id": "8d86f47d-cc02-4170-b2dd-a9834ac97a24",
   "metadata": {},
   "outputs": [
    {
     "data": {
      "text/plain": [
       "'                                  2022\\n\\n      January                   February                   March\\nMo Tu We Th Fr Sa Su      Mo Tu We Th Fr Sa Su      Mo Tu We Th Fr Sa Su\\n                1  2          1  2  3  4  5  6          1  2  3  4  5  6\\n 3  4  5  6  7  8  9       7  8  9 10 11 12 13       7  8  9 10 11 12 13\\n10 11 12 13 14 15 16      14 15 16 17 18 19 20      14 15 16 17 18 19 20\\n17 18 19 20 21 22 23      21 22 23 24 25 26 27      21 22 23 24 25 26 27\\n24 25 26 27 28 29 30      28                        28 29 30 31\\n31\\n\\n       April                      May                       June\\nMo Tu We Th Fr Sa Su      Mo Tu We Th Fr Sa Su      Mo Tu We Th Fr Sa Su\\n             1  2  3                         1             1  2  3  4  5\\n 4  5  6  7  8  9 10       2  3  4  5  6  7  8       6  7  8  9 10 11 12\\n11 12 13 14 15 16 17       9 10 11 12 13 14 15      13 14 15 16 17 18 19\\n18 19 20 21 22 23 24      16 17 18 19 20 21 22      20 21 22 23 24 25 26\\n25 26 27 28 29 30         23 24 25 26 27 28 29      27 28 29 30\\n                          30 31\\n\\n        July                     August                  September\\nMo Tu We Th Fr Sa Su      Mo Tu We Th Fr Sa Su      Mo Tu We Th Fr Sa Su\\n             1  2  3       1  2  3  4  5  6  7                1  2  3  4\\n 4  5  6  7  8  9 10       8  9 10 11 12 13 14       5  6  7  8  9 10 11\\n11 12 13 14 15 16 17      15 16 17 18 19 20 21      12 13 14 15 16 17 18\\n18 19 20 21 22 23 24      22 23 24 25 26 27 28      19 20 21 22 23 24 25\\n25 26 27 28 29 30 31      29 30 31                  26 27 28 29 30\\n\\n      October                   November                  December\\nMo Tu We Th Fr Sa Su      Mo Tu We Th Fr Sa Su      Mo Tu We Th Fr Sa Su\\n                1  2          1  2  3  4  5  6                1  2  3  4\\n 3  4  5  6  7  8  9       7  8  9 10 11 12 13       5  6  7  8  9 10 11\\n10 11 12 13 14 15 16      14 15 16 17 18 19 20      12 13 14 15 16 17 18\\n17 18 19 20 21 22 23      21 22 23 24 25 26 27      19 20 21 22 23 24 25\\n24 25 26 27 28 29 30      28 29 30                  26 27 28 29 30 31\\n31\\n'"
      ]
     },
     "execution_count": 56,
     "metadata": {},
     "output_type": "execute_result"
    }
   ],
   "source": [
    "calendar.calendar(2022)"
   ]
  },
  {
   "cell_type": "code",
   "execution_count": 57,
   "id": "a390a06b-8ed2-42f1-9fc0-c51929cb90fd",
   "metadata": {},
   "outputs": [
    {
     "name": "stdout",
     "output_type": "stream",
     "text": [
      "     March 2022\n",
      "Mo Tu We Th Fr Sa Su\n",
      "    1  2  3  4  5  6\n",
      " 7  8  9 10 11 12 13\n",
      "14 15 16 17 18 19 20\n",
      "21 22 23 24 25 26 27\n",
      "28 29 30 31\n"
     ]
    }
   ],
   "source": [
    "calendar.prmonth(2022,3)"
   ]
  },
  {
   "cell_type": "code",
   "execution_count": 58,
   "id": "f312eec3-20f2-466b-b173-4d156f1451b6",
   "metadata": {},
   "outputs": [
    {
     "data": {
      "text/plain": [
       "3"
      ]
     },
     "execution_count": 58,
     "metadata": {},
     "output_type": "execute_result"
    }
   ],
   "source": [
    "calendar.weekday(2015,12,31)"
   ]
  },
  {
   "cell_type": "markdown",
   "id": "94e909f9-aa11-4247-960d-196a09667f4e",
   "metadata": {},
   "source": [
    "#### random "
   ]
  },
  {
   "cell_type": "code",
   "execution_count": 59,
   "id": "b476a03e-6b30-45e2-9333-aa8b02406bca",
   "metadata": {},
   "outputs": [
    {
     "data": {
      "text/plain": [
       "0.43991981483405607"
      ]
     },
     "execution_count": 59,
     "metadata": {},
     "output_type": "execute_result"
    }
   ],
   "source": [
    "import random\n",
    "random.random() #0~1 값 +값을 1개만 돌려준다"
   ]
  },
  {
   "cell_type": "code",
   "execution_count": 60,
   "id": "078b65ff-e7e3-4c8b-bc99-193cfb596e70",
   "metadata": {},
   "outputs": [
    {
     "data": {
      "text/plain": [
       "534"
      ]
     },
     "execution_count": 60,
     "metadata": {},
     "output_type": "execute_result"
    }
   ],
   "source": [
    "random.randint(1,1000)  #랜덤 랜딧하면 범위 안에 랜덤 숫자 하나 "
   ]
  },
  {
   "cell_type": "code",
   "execution_count": 64,
   "id": "17911469-2056-43a6-a13d-80dd04a71e62",
   "metadata": {},
   "outputs": [
    {
     "name": "stdout",
     "output_type": "stream",
     "text": [
      "2\n",
      "3\n",
      "5\n",
      "4\n",
      "1\n"
     ]
    }
   ],
   "source": [
    "#random_pop.py\n",
    "import random\n",
    "def random_pop(data):\n",
    "    number = random.randint(0,len(data)-1)\n",
    "    return data.pop(number)\n",
    "\n",
    "if __name__== \"__main__\":\n",
    "    data = [1,2,3,4,5]\n",
    "    while data: print(random_pop(data))"
   ]
  },
  {
   "cell_type": "code",
   "execution_count": null,
   "id": "7bb3ff73-ea9c-42f9-a6aa-5138d34ce2d1",
   "metadata": {},
   "outputs": [],
   "source": []
  },
  {
   "cell_type": "code",
   "execution_count": 66,
   "id": "dd44ef4a-8a8c-40bb-8bc3-293d9d656d27",
   "metadata": {},
   "outputs": [
    {
     "data": {
      "text/plain": [
       "[3, 3]"
      ]
     },
     "execution_count": 66,
     "metadata": {},
     "output_type": "execute_result"
    }
   ],
   "source": [
    "random.choices([1,2,3,4], k=2) #복원추출 with replacement"
   ]
  },
  {
   "cell_type": "code",
   "execution_count": null,
   "id": "5a2b0ac3-c27d-4f6d-bcb8-bbe51b87813a",
   "metadata": {},
   "outputs": [],
   "source": []
  },
  {
   "cell_type": "code",
   "execution_count": null,
   "id": "2f4354f7-17bd-4654-90b5-435328806bdf",
   "metadata": {},
   "outputs": [],
   "source": [
    "#추출한다 random.sample\n",
    "random.sample()"
   ]
  },
  {
   "cell_type": "code",
   "execution_count": 69,
   "id": "d96f0b61-3be4-4b35-85b4-dc63930473b8",
   "metadata": {},
   "outputs": [
    {
     "data": {
      "text/plain": [
       "[4, 1, 2, 3]"
      ]
     },
     "execution_count": 69,
     "metadata": {},
     "output_type": "execute_result"
    }
   ],
   "source": [
    "random.sample([1,2,3,4],k=4)  # 비복원샘플 without replacement "
   ]
  },
  {
   "cell_type": "code",
   "execution_count": null,
   "id": "aae44e28-3f37-4bf5-b92b-dc493fa47039",
   "metadata": {},
   "outputs": [],
   "source": [
    "# random\n",
    "# np.random  # 정규 분포 있대 100 개를 뽑아라 랜덤에서는 해낼 수 없어 , 넘파이에서 가지고 와야해 "
   ]
  },
  {
   "cell_type": "code",
   "execution_count": 71,
   "id": "89c5872e-1aec-4cf9-b8f7-1548ef2a31fd",
   "metadata": {},
   "outputs": [
    {
     "data": {
      "text/plain": [
       "[2, 5, 3, 4, 1]"
      ]
     },
     "execution_count": 71,
     "metadata": {},
     "output_type": "execute_result"
    }
   ],
   "source": [
    "import random\n",
    "data = [1,2,3,4,5]\n",
    "random.shuffle(data)\n",
    "data"
   ]
  },
  {
   "cell_type": "code",
   "execution_count": 77,
   "id": "bba9783f-02db-4a83-a138-df03b9b0a089",
   "metadata": {},
   "outputs": [
    {
     "data": {
      "text/plain": [
       "0.9560342718892494"
      ]
     },
     "execution_count": 77,
     "metadata": {},
     "output_type": "execute_result"
    }
   ],
   "source": [
    "import random\n",
    "random.seed(2)\n",
    "random.random()\n",
    "    #  출발숫자 지점을  계속 똑같은 수만 나와 , 다른 사람 재현 하는 것 같은 숫자 시드 값을 같이 준더 ,  "
   ]
  },
  {
   "cell_type": "code",
   "execution_count": 107,
   "id": "7c59fcf7-c8b0-4feb-87b9-67255e159093",
   "metadata": {},
   "outputs": [
    {
     "name": "stdout",
     "output_type": "stream",
     "text": [
      "시작합니다\n",
      "끝났습니다.\n"
     ]
    }
   ],
   "source": [
    "import time\n",
    "def log_task():\n",
    "    for i in range(5):\n",
    "        time.sleep(1) # 초\n",
    "        print( \"working:%d\" %i)\n",
    "\n",
    "print(\"시작합니다\")\n",
    "\n",
    "print(\"끝났습니다.\")"
   ]
  },
  {
   "cell_type": "markdown",
   "id": "108776c6-9fa8-4b1c-9963-0d261f4fa7dd",
   "metadata": {},
   "source": []
  },
  {
   "cell_type": "markdown",
   "id": "21b11e94-0525-4be7-80ab-94636566d0fa",
   "metadata": {},
   "source": [
    "# 7.정규표현식\n",
    "\n",
    "메타 문자라고 해서 미리 약속해둔 기호를 사용하여 문자를 찾는 것. "
   ]
  },
  {
   "cell_type": "code",
   "execution_count": 85,
   "id": "69cc9f23-4e50-46e1-946a-97603715c5ef",
   "metadata": {},
   "outputs": [
    {
     "data": {
      "text/plain": [
       "<re.Match object; span=(0, 4), match='123a'>"
      ]
     },
     "execution_count": 85,
     "metadata": {},
     "output_type": "execute_result"
    }
   ],
   "source": [
    "import re   #re라는 모듈을 불러오기 \n",
    "pat =re.compile(r'[0-9]{3}a') #컴파일을 해서 파일 편집 묶기 컴파일 할때 r''형태로 한다 지금 여기는 0부터 9까지 그중 3개가 사용됨 그리고 a까지  \n",
    "re.search(pat,\"123abc\") # pat 안에서 \"\" 문자 찾기"
   ]
  },
  {
   "cell_type": "code",
   "execution_count": 109,
   "id": "8d06ca8f-e045-429a-9683-0de865658448",
   "metadata": {},
   "outputs": [],
   "source": [
    "import urllib.request as req\n",
    "import re "
   ]
  },
  {
   "cell_type": "code",
   "execution_count": 104,
   "id": "bb7fcb3b-ea89-462b-9424-fc1597464012",
   "metadata": {},
   "outputs": [
    {
     "name": "stdout",
     "output_type": "stream",
     "text": [
      "<!DOCTYPE html><html lang=\"ko\"> <head> <meta charset=\"utf-8\" /> <title>Daum</title> <meta http-equiv=\"x-ua-compatible\" content=\"IE=edge\" /> <meta property=\"og:url\" content=\"//www.daum.net/\" /> <meta property=\"og:type\" content=\"website\" /> <meta property=\"og:title\" content=\"Daum\" /> <meta http-equiv=\"Pragma\" content=\"no-cache\" /> <meta http-equiv=\"Expires\" content=\"-1\" /> <meta name=\"referrer\" content=\"origin\" /> <meta property=\"og:image\" content=\"https://i1.daumcdn.net/svc/image/U03/common_icon/5587C4E4012FCD0001\" /> <meta property=\"og:description\" content=\"나의 관심 콘텐츠를 가장 즐겁게 볼 수 있는 Daum\" /> <meta name=\"msapplication-task\" content=\"name=Daum;action-uri=//www.daum.net/;icon-uri=/favicon.ico\" /> <meta name=\"msapplication-task\" content=\"name=미디어다음;action-uri=//news.daum.net/;icon-uri=/media_favicon.ico\" /> <meta name=\"msapplication-task\" content=\"name=메일;action-uri=//mail.daum.net;icon-uri=/mail_favicon.ico\" /> <link href=\"https://t1.daumcdn.net/top/favicon.ico\" rel=\"shortcut icon\" /> <meta name=\"referrer\" content=\"origin\" /> <link rel=\"search\" type=\"application/opensearchdescription+xml\" href=\"https://search.daum.net/OpenSearch.xml\" title=\"다음\" /> <link rel=\"stylesheet\" href=\"https://t1.daumcdn.net/top/tiller-pc/20220218_100902/css/common.css\" /> <script src=\"https://t1.daumcdn.net/kas/static/na.min.js\"></script> </head> <body> <noscript> 이 사이트의 기능을 모두 활용하기 위해서는 자바스크립트를 활성화 시킬 필요가 있습니다. <a href=\"https://www.enable-javascript.com/ko/\"> 브라우저에서 자바스크립트를 활성화하는 방법</a >을 참고 하세요. </noscript> <script src=\"https://t1.daumcdn.net/tiara/js/v1/tiara.min.js\" type=\"text/javascript\"></script> <script src=\"https://t1.daumcdn.net/top/tiller-pc/lib/1636937121956/polyfill.min.js\" type=\"text/javascript\" ></script> <script src=\"https://t1.daumcdn.net/top/tiller-pc/20220218_100902/js/app.js\" type=\"text/javascript\"></script> <script src=\"https://t1.daumcdn.net/kas/static/ba.min.js\" type=\"text/javascript\" defer></script> <script src=\"https://t1.daumcdn.net/top/tiller-pc/1632900517149/tiller-pc-suggest.js\" type=\"text/javascript\" defer ></script> </body></html>\n"
     ]
    }
   ],
   "source": [
    "rep = req.urlopen(\"https://www.daum.net/\")\n",
    "data = rep.read().decode('utf8')    # urllib. request를 불러오고 그것을 req 로 축약 그리고 그 안에서 urlopen하는 함수 사용 / 데이터를 거기서 찾아서 봄 \n",
    "print(data)\n",
    "# 시작은 http:// 끝은 .js"
   ]
  },
  {
   "cell_type": "code",
   "execution_count": 105,
   "id": "4caa58f8-ecdd-4709-8c49-184b47abe94c",
   "metadata": {},
   "outputs": [
    {
     "data": {
      "text/plain": [
       "['.js', '/js', '.js', '.js', '/js', '.js', '.js', '.js']"
      ]
     },
     "execution_count": 105,
     "metadata": {},
     "output_type": "execute_result"
    }
   ],
   "source": [
    "re.findall(\".js\",data) # 매치되는 모든 문자열 을 리스트로 돌려주기 "
   ]
  },
  {
   "cell_type": "code",
   "execution_count": null,
   "id": "e8b0e0a3-c2fe-42c6-bfc1-4808174a27e4",
   "metadata": {},
   "outputs": [],
   "source": [
    "li = re.findall(\"h[:./\\W]*[.]{1}js\",data)\n",
    "for i in li:\n",
    "    print(i)"
   ]
  },
  {
   "cell_type": "code",
   "execution_count": 100,
   "id": "523d257c-5580-472a-9478-70c15d48ffa1",
   "metadata": {},
   "outputs": [],
   "source": [
    "for i in li:\n",
    "    print(i)"
   ]
  },
  {
   "cell_type": "code",
   "execution_count": 108,
   "id": "0322e66d-1969-4331-9735-cb7ffd6a9085",
   "metadata": {},
   "outputs": [
    {
     "name": "stdout",
     "output_type": "stream",
     "text": [
      "<!DOCTYPE html><html lang=\"ko\"> <head> <meta charset=\"utf-8\" /> <title>Daum</title> <meta http-equiv=\"x-ua-compatible\" content=\"IE=edge\" /> <meta property=\"og:url\" content=\"//www.daum.net/\" /> <meta property=\"og:type\" content=\"website\" /> <meta property=\"og:title\" content=\"Daum\" /> <meta http-equiv=\"Pragma\" content=\"no-cache\" /> <meta http-equiv=\"Expires\" content=\"-1\" /> <meta name=\"referrer\" content=\"origin\" /> <meta property=\"og:image\" content=\"https://i1.daumcdn.net/svc/image/U03/common_icon/5587C4E4012FCD0001\" /> <meta property=\"og:description\" content=\"나의 관심 콘텐츠를 가장 즐겁게 볼 수 있는 Daum\" /> <meta name=\"msapplication-task\" content=\"name=Daum;action-uri=//www.daum.net/;icon-uri=/favicon.ico\" /> <meta name=\"msapplication-task\" content=\"name=미디어다음;action-uri=//news.daum.net/;icon-uri=/media_favicon.ico\" /> <meta name=\"msapplication-task\" content=\"name=메일;action-uri=//mail.daum.net;icon-uri=/mail_favicon.ico\" /> <link href=\"https://t1.daumcdn.net/top/favicon.ico\" rel=\"shortcut icon\" /> <meta name=\"referrer\" content=\"origin\" /> <link rel=\"search\" type=\"application/opensearchdescription+xml\" href=\"https://search.daum.net/OpenSearch.xml\" title=\"다음\" /> <link rel=\"stylesheet\" href=\"https://t1.daumcdn.net/top/tiller-pc/20220218_100902/css/common.css\" /> <script src=\"https://t1.daumcdn.net/kas/static/na.min.js\"></script> </head> <body> <noscript> 이 사이트의 기능을 모두 활용하기 위해서는 자바스크립트를 활성화 시킬 필요가 있습니다. <a href=\"https://www.enable-javascript.com/ko/\"> 브라우저에서 자바스크립트를 활성화하는 방법</a >을 참고 하세요. </noscript> <script src=\"https://t1.daumcdn.net/tiara/js/v1/tiara.min.js\" type=\"text/javascript\"></script> <script src=\"https://t1.daumcdn.net/top/tiller-pc/lib/1636937121956/polyfill.min.js\" type=\"text/javascript\" ></script> <script src=\"https://t1.daumcdn.net/top/tiller-pc/20220218_100902/js/app.js\" type=\"text/javascript\"></script> <script src=\"https://t1.daumcdn.net/kas/static/ba.min.js\" type=\"text/javascript\" defer></script> <script src=\"https://t1.daumcdn.net/top/tiller-pc/1632900517149/tiller-pc-suggest.js\" type=\"text/javascript\" defer ></script> </body></html>\n"
     ]
    }
   ],
   "source": [
    "import urllib.request as req\n",
    "import re\n",
    "rep = req.urlopen('http://www.daum.net')\n",
    "data = rep.read().decode('utf-8')\n",
    "print(data)\n",
    "re.findall('.js',data)\n",
    "re.findall('https://',data)\n",
    "li = re.findall('h[:./\\W]*[.]{1}js',data)\n",
    "for i in li:\n",
    "    print(i)"
   ]
  },
  {
   "cell_type": "code",
   "execution_count": 109,
   "id": "621644b2-8360-480a-8ef0-0cc6df169227",
   "metadata": {},
   "outputs": [],
   "source": [
    "메타문자 \n",
    "[] 클래스 안에 있는 문자중 한개와 매치 \n",
    "\\d [0-9]\n",
    "\\D [^0-9]\n",
    "\\s 공백과 매치 \n",
    "\\S 공백 제외한 것들과 매치\n",
    "\\w 문자와 숫자와 매치 [a-zA-Z0-9]\n",
    "\\W 반대 \n",
    ". 줄바꿈 제외 모든 것과 매치\n",
    "[.] .이 있으면 매치\n",
    "* 0회 이상 반복\n",
    "+ 1회이상 반복 \n",
    "{m,n} m~n까지 반복 \n",
    "? 1회 이하 반복 \n",
    "| or\n",
    "^ 맨처음과 일치\n",
    "[^]반대를 의미 \n",
    "$ 마지막과 매치 \n",
    "\\A 처음과 매치 \n",
    "\\Z 끝과 매치 \n",
    "\\b 단어구분 보통은 빈칸\n"
   ]
  },
  {
   "cell_type": "code",
   "execution_count": null,
   "id": "eac2bd36-9d06-42e8-bf11-591b7064a5e2",
   "metadata": {},
   "outputs": [],
   "source": [
    "re 모듈 \n",
    "search() 문자열 전체를 검색하여 정규식과 매치 되는지 조사 \n",
    "findall() 정규식과 매치되는 모든 문자열 \n",
    "group() 매치된 문자열을 돌려줌 0 전체 1 첫번째 n번째 그룹 \n",
    "(? P<name>) 이름 붙히기 \n",
    "sub(a, b) 매치되는 단어를 다른 문자로 바꿔줌 \n"
   ]
  },
  {
   "cell_type": "code",
   "execution_count": null,
   "id": "1d8d0054-d63e-4e71-bc9a-4ed1cefee71e",
   "metadata": {},
   "outputs": [],
   "source": [
    "백슬레시는 탈출문자 \\ 자체를 사용하려면 \\\\써서 이스케이프 처리 "
   ]
  }
 ],
 "metadata": {
  "kernelspec": {
   "display_name": "Python 3 (ipykernel)",
   "language": "python",
   "name": "python3"
  },
  "language_info": {
   "codemirror_mode": {
    "name": "ipython",
    "version": 3
   },
   "file_extension": ".py",
   "mimetype": "text/x-python",
   "name": "python",
   "nbconvert_exporter": "python",
   "pygments_lexer": "ipython3",
   "version": "3.9.7"
  },
  "toc-autonumbering": false,
  "toc-showtags": false
 },
 "nbformat": 4,
 "nbformat_minor": 5
}

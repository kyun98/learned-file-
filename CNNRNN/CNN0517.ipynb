{
 "cells": [
  {
   "cell_type": "markdown",
   "id": "3f0f93f6-a8a2-44b1-bc4d-5033133dcca6",
   "metadata": {},
   "source": [
    "# 5월 17일 "
   ]
  },
  {
   "cell_type": "code",
   "execution_count": null,
   "id": "dd441ff8-b102-42c4-bce1-6396f1e6a1a0",
   "metadata": {},
   "outputs": [],
   "source": [
    "import pandas as pd"
   ]
  },
  {
   "cell_type": "code",
   "execution_count": 2,
   "id": "c1a43e53-583b-4df7-9d01-6120f990530b",
   "metadata": {},
   "outputs": [
    {
     "ename": "ImportError",
     "evalue": "cannot import name 'saveable_objects_from_trackable' from 'tensorflow.python.training.saving.saveable_object_util' (C:\\Users\\kyun\\anaconda3\\lib\\site-packages\\tensorflow\\python\\training\\saving\\saveable_object_util.py)",
     "output_type": "error",
     "traceback": [
      "\u001b[1;31m---------------------------------------------------------------------------\u001b[0m",
      "\u001b[1;31mImportError\u001b[0m                               Traceback (most recent call last)",
      "Input \u001b[1;32mIn [2]\u001b[0m, in \u001b[0;36m<cell line: 1>\u001b[1;34m()\u001b[0m\n\u001b[1;32m----> 1\u001b[0m \u001b[38;5;28;01mimport\u001b[39;00m \u001b[38;5;21;01mtensorflow\u001b[39;00m\n",
      "File \u001b[1;32m~\\anaconda3\\lib\\site-packages\\tensorflow\\__init__.py:45\u001b[0m, in \u001b[0;36m<module>\u001b[1;34m\u001b[0m\n\u001b[0;32m     42\u001b[0m \u001b[38;5;28;01mfrom\u001b[39;00m \u001b[38;5;21;01mtensorflow\u001b[39;00m\u001b[38;5;21;01m.\u001b[39;00m\u001b[38;5;21;01mpython\u001b[39;00m \u001b[38;5;28;01mimport\u001b[39;00m tf2 \u001b[38;5;28;01mas\u001b[39;00m _tf2\n\u001b[0;32m     43\u001b[0m _tf2\u001b[38;5;241m.\u001b[39menable()\n\u001b[1;32m---> 45\u001b[0m \u001b[38;5;28;01mfrom\u001b[39;00m \u001b[38;5;21;01m.\u001b[39;00m\u001b[38;5;21;01m_api\u001b[39;00m\u001b[38;5;21;01m.\u001b[39;00m\u001b[38;5;21;01mv2\u001b[39;00m \u001b[38;5;28;01mimport\u001b[39;00m __internal__\n\u001b[0;32m     46\u001b[0m \u001b[38;5;28;01mfrom\u001b[39;00m \u001b[38;5;21;01m.\u001b[39;00m\u001b[38;5;21;01m_api\u001b[39;00m\u001b[38;5;21;01m.\u001b[39;00m\u001b[38;5;21;01mv2\u001b[39;00m \u001b[38;5;28;01mimport\u001b[39;00m __operators__\n\u001b[0;32m     47\u001b[0m \u001b[38;5;28;01mfrom\u001b[39;00m \u001b[38;5;21;01m.\u001b[39;00m\u001b[38;5;21;01m_api\u001b[39;00m\u001b[38;5;21;01m.\u001b[39;00m\u001b[38;5;21;01mv2\u001b[39;00m \u001b[38;5;28;01mimport\u001b[39;00m audio\n",
      "File \u001b[1;32m~\\anaconda3\\lib\\site-packages\\tensorflow\\_api\\v2\\__internal__\\__init__.py:24\u001b[0m, in \u001b[0;36m<module>\u001b[1;34m\u001b[0m\n\u001b[0;32m     22\u001b[0m \u001b[38;5;28;01mfrom\u001b[39;00m \u001b[38;5;21;01m.\u001b[39;00m \u001b[38;5;28;01mimport\u001b[39;00m test\n\u001b[0;32m     23\u001b[0m \u001b[38;5;28;01mfrom\u001b[39;00m \u001b[38;5;21;01m.\u001b[39;00m \u001b[38;5;28;01mimport\u001b[39;00m tf2\n\u001b[1;32m---> 24\u001b[0m \u001b[38;5;28;01mfrom\u001b[39;00m \u001b[38;5;21;01m.\u001b[39;00m \u001b[38;5;28;01mimport\u001b[39;00m tracking\n\u001b[0;32m     25\u001b[0m \u001b[38;5;28;01mfrom\u001b[39;00m \u001b[38;5;21;01m.\u001b[39;00m \u001b[38;5;28;01mimport\u001b[39;00m train\n\u001b[0;32m     26\u001b[0m \u001b[38;5;28;01mfrom\u001b[39;00m \u001b[38;5;21;01m.\u001b[39;00m \u001b[38;5;28;01mimport\u001b[39;00m types\n",
      "File \u001b[1;32m~\\anaconda3\\lib\\site-packages\\tensorflow\\_api\\v2\\__internal__\\tracking\\__init__.py:8\u001b[0m, in \u001b[0;36m<module>\u001b[1;34m\u001b[0m\n\u001b[0;32m      3\u001b[0m \u001b[38;5;124;03m\"\"\"Public API for tf.__internal__.tracking namespace.\u001b[39;00m\n\u001b[0;32m      4\u001b[0m \u001b[38;5;124;03m\"\"\"\u001b[39;00m\n\u001b[0;32m      6\u001b[0m \u001b[38;5;28;01mimport\u001b[39;00m \u001b[38;5;21;01msys\u001b[39;00m \u001b[38;5;28;01mas\u001b[39;00m \u001b[38;5;21;01m_sys\u001b[39;00m\n\u001b[1;32m----> 8\u001b[0m \u001b[38;5;28;01mfrom\u001b[39;00m \u001b[38;5;21;01mtensorflow\u001b[39;00m\u001b[38;5;21;01m.\u001b[39;00m\u001b[38;5;21;01mpython\u001b[39;00m\u001b[38;5;21;01m.\u001b[39;00m\u001b[38;5;21;01mtraining\u001b[39;00m\u001b[38;5;21;01m.\u001b[39;00m\u001b[38;5;21;01msaving\u001b[39;00m\u001b[38;5;21;01m.\u001b[39;00m\u001b[38;5;21;01msaveable_object_util\u001b[39;00m \u001b[38;5;28;01mimport\u001b[39;00m saveable_objects_from_trackable\n\u001b[0;32m      9\u001b[0m \u001b[38;5;28;01mfrom\u001b[39;00m \u001b[38;5;21;01mtensorflow\u001b[39;00m\u001b[38;5;21;01m.\u001b[39;00m\u001b[38;5;21;01mpython\u001b[39;00m\u001b[38;5;21;01m.\u001b[39;00m\u001b[38;5;21;01mtraining\u001b[39;00m\u001b[38;5;21;01m.\u001b[39;00m\u001b[38;5;21;01mtracking\u001b[39;00m\u001b[38;5;21;01m.\u001b[39;00m\u001b[38;5;21;01mautotrackable\u001b[39;00m \u001b[38;5;28;01mimport\u001b[39;00m AutoTrackable\n\u001b[0;32m     10\u001b[0m \u001b[38;5;28;01mfrom\u001b[39;00m \u001b[38;5;21;01mtensorflow\u001b[39;00m\u001b[38;5;21;01m.\u001b[39;00m\u001b[38;5;21;01mpython\u001b[39;00m\u001b[38;5;21;01m.\u001b[39;00m\u001b[38;5;21;01mtraining\u001b[39;00m\u001b[38;5;21;01m.\u001b[39;00m\u001b[38;5;21;01mtracking\u001b[39;00m\u001b[38;5;21;01m.\u001b[39;00m\u001b[38;5;21;01mbase\u001b[39;00m \u001b[38;5;28;01mimport\u001b[39;00m CheckpointInitialValue\n",
      "\u001b[1;31mImportError\u001b[0m: cannot import name 'saveable_objects_from_trackable' from 'tensorflow.python.training.saving.saveable_object_util' (C:\\Users\\kyun\\anaconda3\\lib\\site-packages\\tensorflow\\python\\training\\saving\\saveable_object_util.py)"
     ]
    }
   ],
   "source": [
    "import tensorflow"
   ]
  },
  {
   "cell_type": "code",
   "execution_count": null,
   "id": "a82c5280-8dc8-455c-ba96-d5271cf81ff1",
   "metadata": {},
   "outputs": [],
   "source": []
  },
  {
   "cell_type": "code",
   "execution_count": 23,
   "id": "9084fd7a",
   "metadata": {},
   "outputs": [],
   "source": [
    "df = pd.read_csv('mnist_train.csv')"
   ]
  },
  {
   "cell_type": "code",
   "execution_count": 24,
   "id": "6ef61d34",
   "metadata": {},
   "outputs": [
    {
     "data": {
      "text/html": [
       "<div>\n",
       "<style scoped>\n",
       "    .dataframe tbody tr th:only-of-type {\n",
       "        vertical-align: middle;\n",
       "    }\n",
       "\n",
       "    .dataframe tbody tr th {\n",
       "        vertical-align: top;\n",
       "    }\n",
       "\n",
       "    .dataframe thead th {\n",
       "        text-align: right;\n",
       "    }\n",
       "</style>\n",
       "<table border=\"1\" class=\"dataframe\">\n",
       "  <thead>\n",
       "    <tr style=\"text-align: right;\">\n",
       "      <th></th>\n",
       "      <th>label</th>\n",
       "      <th>1x1</th>\n",
       "      <th>1x2</th>\n",
       "      <th>1x3</th>\n",
       "      <th>1x4</th>\n",
       "      <th>1x5</th>\n",
       "      <th>1x6</th>\n",
       "      <th>1x7</th>\n",
       "      <th>1x8</th>\n",
       "      <th>1x9</th>\n",
       "      <th>...</th>\n",
       "      <th>28x19</th>\n",
       "      <th>28x20</th>\n",
       "      <th>28x21</th>\n",
       "      <th>28x22</th>\n",
       "      <th>28x23</th>\n",
       "      <th>28x24</th>\n",
       "      <th>28x25</th>\n",
       "      <th>28x26</th>\n",
       "      <th>28x27</th>\n",
       "      <th>28x28</th>\n",
       "    </tr>\n",
       "  </thead>\n",
       "  <tbody>\n",
       "    <tr>\n",
       "      <th>0</th>\n",
       "      <td>5</td>\n",
       "      <td>0</td>\n",
       "      <td>0</td>\n",
       "      <td>0</td>\n",
       "      <td>0</td>\n",
       "      <td>0</td>\n",
       "      <td>0</td>\n",
       "      <td>0</td>\n",
       "      <td>0</td>\n",
       "      <td>0</td>\n",
       "      <td>...</td>\n",
       "      <td>0</td>\n",
       "      <td>0</td>\n",
       "      <td>0</td>\n",
       "      <td>0</td>\n",
       "      <td>0</td>\n",
       "      <td>0</td>\n",
       "      <td>0</td>\n",
       "      <td>0</td>\n",
       "      <td>0</td>\n",
       "      <td>0</td>\n",
       "    </tr>\n",
       "    <tr>\n",
       "      <th>1</th>\n",
       "      <td>0</td>\n",
       "      <td>0</td>\n",
       "      <td>0</td>\n",
       "      <td>0</td>\n",
       "      <td>0</td>\n",
       "      <td>0</td>\n",
       "      <td>0</td>\n",
       "      <td>0</td>\n",
       "      <td>0</td>\n",
       "      <td>0</td>\n",
       "      <td>...</td>\n",
       "      <td>0</td>\n",
       "      <td>0</td>\n",
       "      <td>0</td>\n",
       "      <td>0</td>\n",
       "      <td>0</td>\n",
       "      <td>0</td>\n",
       "      <td>0</td>\n",
       "      <td>0</td>\n",
       "      <td>0</td>\n",
       "      <td>0</td>\n",
       "    </tr>\n",
       "    <tr>\n",
       "      <th>2</th>\n",
       "      <td>4</td>\n",
       "      <td>0</td>\n",
       "      <td>0</td>\n",
       "      <td>0</td>\n",
       "      <td>0</td>\n",
       "      <td>0</td>\n",
       "      <td>0</td>\n",
       "      <td>0</td>\n",
       "      <td>0</td>\n",
       "      <td>0</td>\n",
       "      <td>...</td>\n",
       "      <td>0</td>\n",
       "      <td>0</td>\n",
       "      <td>0</td>\n",
       "      <td>0</td>\n",
       "      <td>0</td>\n",
       "      <td>0</td>\n",
       "      <td>0</td>\n",
       "      <td>0</td>\n",
       "      <td>0</td>\n",
       "      <td>0</td>\n",
       "    </tr>\n",
       "    <tr>\n",
       "      <th>3</th>\n",
       "      <td>1</td>\n",
       "      <td>0</td>\n",
       "      <td>0</td>\n",
       "      <td>0</td>\n",
       "      <td>0</td>\n",
       "      <td>0</td>\n",
       "      <td>0</td>\n",
       "      <td>0</td>\n",
       "      <td>0</td>\n",
       "      <td>0</td>\n",
       "      <td>...</td>\n",
       "      <td>0</td>\n",
       "      <td>0</td>\n",
       "      <td>0</td>\n",
       "      <td>0</td>\n",
       "      <td>0</td>\n",
       "      <td>0</td>\n",
       "      <td>0</td>\n",
       "      <td>0</td>\n",
       "      <td>0</td>\n",
       "      <td>0</td>\n",
       "    </tr>\n",
       "    <tr>\n",
       "      <th>4</th>\n",
       "      <td>9</td>\n",
       "      <td>0</td>\n",
       "      <td>0</td>\n",
       "      <td>0</td>\n",
       "      <td>0</td>\n",
       "      <td>0</td>\n",
       "      <td>0</td>\n",
       "      <td>0</td>\n",
       "      <td>0</td>\n",
       "      <td>0</td>\n",
       "      <td>...</td>\n",
       "      <td>0</td>\n",
       "      <td>0</td>\n",
       "      <td>0</td>\n",
       "      <td>0</td>\n",
       "      <td>0</td>\n",
       "      <td>0</td>\n",
       "      <td>0</td>\n",
       "      <td>0</td>\n",
       "      <td>0</td>\n",
       "      <td>0</td>\n",
       "    </tr>\n",
       "  </tbody>\n",
       "</table>\n",
       "<p>5 rows × 785 columns</p>\n",
       "</div>"
      ],
      "text/plain": [
       "   label  1x1  1x2  1x3  1x4  1x5  1x6  1x7  1x8  1x9  ...  28x19  28x20  \\\n",
       "0      5    0    0    0    0    0    0    0    0    0  ...      0      0   \n",
       "1      0    0    0    0    0    0    0    0    0    0  ...      0      0   \n",
       "2      4    0    0    0    0    0    0    0    0    0  ...      0      0   \n",
       "3      1    0    0    0    0    0    0    0    0    0  ...      0      0   \n",
       "4      9    0    0    0    0    0    0    0    0    0  ...      0      0   \n",
       "\n",
       "   28x21  28x22  28x23  28x24  28x25  28x26  28x27  28x28  \n",
       "0      0      0      0      0      0      0      0      0  \n",
       "1      0      0      0      0      0      0      0      0  \n",
       "2      0      0      0      0      0      0      0      0  \n",
       "3      0      0      0      0      0      0      0      0  \n",
       "4      0      0      0      0      0      0      0      0  \n",
       "\n",
       "[5 rows x 785 columns]"
      ]
     },
     "execution_count": 24,
     "metadata": {},
     "output_type": "execute_result"
    }
   ],
   "source": [
    "df.head()"
   ]
  },
  {
   "cell_type": "code",
   "execution_count": 25,
   "id": "df24bf68",
   "metadata": {},
   "outputs": [],
   "source": [
    "import numpy as np\n",
    "import tensorflow as tf         # tensorflow 기본\n",
    "from tensorflow.keras.models import Sequential   # 모델 BOX 정의\n",
    "from tensorflow.keras.layers import Flatten, Dense   # 모델 BOX Input Layer, Output layer\n",
    "from tensorflow.keras.optimizers import SGD   # 알고리즘 담당\n",
    "from sklearn.model_selection import train_test_split   # train, test 데이터를 분리\n",
    "from sklearn.preprocessing import MinMaxScaler    # 데이터 정규화  - 큰숮자를 작은 숫자로 변경 (-1 ~ 1)"
   ]
  },
  {
   "cell_type": "code",
   "execution_count": 26,
   "id": "a97ed9aa",
   "metadata": {},
   "outputs": [],
   "source": [
    "X_data = df.drop('label', axis=1, inplace=False)"
   ]
  },
  {
   "cell_type": "code",
   "execution_count": 27,
   "id": "fc8878d0",
   "metadata": {},
   "outputs": [
    {
     "data": {
      "text/plain": [
       "(60000, 784)"
      ]
     },
     "execution_count": 27,
     "metadata": {},
     "output_type": "execute_result"
    }
   ],
   "source": [
    "X_data.shape"
   ]
  },
  {
   "cell_type": "code",
   "execution_count": 28,
   "id": "12fdece0",
   "metadata": {},
   "outputs": [],
   "source": [
    "Y_data = df['label']"
   ]
  },
  {
   "cell_type": "code",
   "execution_count": 29,
   "id": "168ea174",
   "metadata": {},
   "outputs": [],
   "source": [
    "# 픽셀 데이터를 정규화(0~1 사이의 실수로 변환)\n",
    "scaler = MinMaxScaler()                    # scaler 객체 생성\n",
    "scaler.fit(X_data)                         # scaler 객체를 학습\n",
    "norm_x_data = scaler.transform(X_data)     # scaler를 통해서 실제값을 변환"
   ]
  },
  {
   "cell_type": "code",
   "execution_count": 30,
   "id": "60e809c6",
   "metadata": {},
   "outputs": [],
   "source": [
    "norm_train_x_data, norm_test_x_data, train_y_data, test_y_data = train_test_split(norm_x_data, Y_data, test_size=0.3)"
   ]
  },
  {
   "cell_type": "code",
   "execution_count": 31,
   "id": "a06004a9",
   "metadata": {},
   "outputs": [
    {
     "data": {
      "text/plain": [
       "(42000, 784)"
      ]
     },
     "execution_count": 31,
     "metadata": {},
     "output_type": "execute_result"
    }
   ],
   "source": [
    "norm_train_x_data.shape"
   ]
  },
  {
   "cell_type": "code",
   "execution_count": 32,
   "id": "faef7dc7",
   "metadata": {},
   "outputs": [],
   "source": [
    "from tensorflow.keras.layers import Conv2D, MaxPooling2D"
   ]
  },
  {
   "cell_type": "code",
   "execution_count": 33,
   "id": "4c99db72",
   "metadata": {},
   "outputs": [],
   "source": [
    "model =  Sequential()"
   ]
  },
  {
   "cell_type": "code",
   "execution_count": 34,
   "id": "b31f0b84",
   "metadata": {},
   "outputs": [],
   "source": [
    "model.add(Conv2D(filters=32,\n",
    "    kernel_size=(3,3),\n",
    "    strides=(1,1),\n",
    "    activation='relu',\n",
    "    input_shape=(28,28,1)))"
   ]
  },
  {
   "cell_type": "code",
   "execution_count": 35,
   "id": "16359f7c",
   "metadata": {},
   "outputs": [],
   "source": [
    "model.add(Conv2D(filters=64,\n",
    "    kernel_size=(3,3),\n",
    "    strides=(1,1),\n",
    "    activation='relu'))"
   ]
  },
  {
   "cell_type": "code",
   "execution_count": 36,
   "id": "d7d38c5f",
   "metadata": {},
   "outputs": [],
   "source": [
    "model.add(MaxPooling2D(pool_size=(2,2)))"
   ]
  },
  {
   "cell_type": "code",
   "execution_count": 37,
   "id": "39dc3d55",
   "metadata": {},
   "outputs": [],
   "source": [
    "model.add(Conv2D(filters=64,\n",
    "    kernel_size=(3,3),\n",
    "    strides=(1,1),\n",
    "    activation='relu'))"
   ]
  },
  {
   "cell_type": "code",
   "execution_count": 38,
   "id": "8cd2fddc",
   "metadata": {},
   "outputs": [],
   "source": [
    "# FC layer(DNN) 의; input Layer\n",
    "model.add(Flatten())  # 전체 4차원 에서 2차원으로 바꾸주는것"
   ]
  },
  {
   "cell_type": "code",
   "execution_count": 39,
   "id": "bccd8486",
   "metadata": {},
   "outputs": [],
   "source": [
    "# hidden  layer\n",
    "\n",
    "model.add(Dense(units=256, activation='relu'))"
   ]
  },
  {
   "cell_type": "code",
   "execution_count": 40,
   "id": "87ce986a",
   "metadata": {},
   "outputs": [],
   "source": [
    "# output  layer\n",
    "model.add(Dense(units=10, activation='softmax'))"
   ]
  },
  {
   "cell_type": "code",
   "execution_count": 41,
   "id": "f4acad2a",
   "metadata": {},
   "outputs": [],
   "source": [
    "#model이 어떻게 동작하는지를 지정\n",
    "model.compile(optimizer=SGD(learning_rate=0.0001),\n",
    "             loss='sparse_categorical_crossentropy',\n",
    "             metrics=['accuracy'])"
   ]
  },
  {
   "cell_type": "code",
   "execution_count": 42,
   "id": "e6b069b9",
   "metadata": {
    "run_control": {
     "marked": false
    }
   },
   "outputs": [
    {
     "data": {
      "text/plain": [
       "(42000, 784)"
      ]
     },
     "execution_count": 42,
     "metadata": {},
     "output_type": "execute_result"
    }
   ],
   "source": [
    "norm_train_x_data.shape"
   ]
  },
  {
   "cell_type": "code",
   "execution_count": 43,
   "id": "c1bddaea",
   "metadata": {},
   "outputs": [],
   "source": [
    "norm_train_x_data=norm_train_x_data.reshape(-1,28,28,1) # 알아서 맞추기 "
   ]
  },
  {
   "cell_type": "code",
   "execution_count": 44,
   "id": "cf900020",
   "metadata": {},
   "outputs": [
    {
     "data": {
      "text/plain": [
       "(42000, 28, 28, 1)"
      ]
     },
     "execution_count": 44,
     "metadata": {},
     "output_type": "execute_result"
    }
   ],
   "source": [
    "norm_train_x_data.shape"
   ]
  },
  {
   "cell_type": "code",
   "execution_count": 45,
   "id": "5eaf1383",
   "metadata": {},
   "outputs": [
    {
     "name": "stdout",
     "output_type": "stream",
     "text": [
      "Epoch 1/30\n",
      "1050/1050 [==============================] - 35s 33ms/step - loss: 2.2898 - accuracy: 0.1671 - val_loss: 2.2783 - val_accuracy: 0.2230\n",
      "Epoch 2/30\n",
      "1050/1050 [==============================] - 35s 33ms/step - loss: 2.2669 - accuracy: 0.2789 - val_loss: 2.2532 - val_accuracy: 0.3324\n",
      "Epoch 3/30\n",
      "1050/1050 [==============================] - 35s 33ms/step - loss: 2.2387 - accuracy: 0.3606 - val_loss: 2.2202 - val_accuracy: 0.4005\n",
      "Epoch 4/30\n",
      "1050/1050 [==============================] - 35s 33ms/step - loss: 2.1991 - accuracy: 0.4203 - val_loss: 2.1713 - val_accuracy: 0.4620\n",
      "Epoch 5/30\n",
      "1050/1050 [==============================] - 35s 34ms/step - loss: 2.1369 - accuracy: 0.4880 - val_loss: 2.0908 - val_accuracy: 0.5288\n",
      "Epoch 6/30\n",
      "1050/1050 [==============================] - 37s 35ms/step - loss: 2.0290 - accuracy: 0.5611 - val_loss: 1.9452 - val_accuracy: 0.6206\n",
      "Epoch 7/30\n",
      "1050/1050 [==============================] - 36s 34ms/step - loss: 1.8275 - accuracy: 0.6573 - val_loss: 1.6713 - val_accuracy: 0.7080\n",
      "Epoch 8/30\n",
      "1050/1050 [==============================] - 37s 35ms/step - loss: 1.4763 - accuracy: 0.7221 - val_loss: 1.2512 - val_accuracy: 0.7681\n",
      "Epoch 9/30\n",
      "1050/1050 [==============================] - 39s 37ms/step - loss: 1.0621 - accuracy: 0.7783 - val_loss: 0.8826 - val_accuracy: 0.8010\n",
      "Epoch 10/30\n",
      "1050/1050 [==============================] - 41s 39ms/step - loss: 0.7782 - accuracy: 0.8117 - val_loss: 0.6788 - val_accuracy: 0.8314\n",
      "Epoch 11/30\n",
      "1050/1050 [==============================] - 41s 39ms/step - loss: 0.6264 - accuracy: 0.8367 - val_loss: 0.5714 - val_accuracy: 0.8494\n",
      "Epoch 12/30\n",
      "1050/1050 [==============================] - 40s 38ms/step - loss: 0.5422 - accuracy: 0.8526 - val_loss: 0.5098 - val_accuracy: 0.8614\n",
      "Epoch 13/30\n",
      "1050/1050 [==============================] - 42s 40ms/step - loss: 0.4907 - accuracy: 0.8632 - val_loss: 0.4697 - val_accuracy: 0.8712\n",
      "Epoch 14/30\n",
      "1050/1050 [==============================] - 40s 38ms/step - loss: 0.4562 - accuracy: 0.8713 - val_loss: 0.4420 - val_accuracy: 0.8777\n",
      "Epoch 15/30\n",
      "1050/1050 [==============================] - 39s 38ms/step - loss: 0.4317 - accuracy: 0.8762 - val_loss: 0.4219 - val_accuracy: 0.8810\n",
      "Epoch 16/30\n",
      "1050/1050 [==============================] - 39s 37ms/step - loss: 0.4123 - accuracy: 0.8804 - val_loss: 0.4058 - val_accuracy: 0.8842\n",
      "Epoch 17/30\n",
      "1050/1050 [==============================] - 41s 39ms/step - loss: 0.3969 - accuracy: 0.8847 - val_loss: 0.3912 - val_accuracy: 0.8875\n",
      "Epoch 18/30\n",
      "1050/1050 [==============================] - 40s 38ms/step - loss: 0.3838 - accuracy: 0.8883 - val_loss: 0.3808 - val_accuracy: 0.8911\n",
      "Epoch 19/30\n",
      "1050/1050 [==============================] - 41s 39ms/step - loss: 0.3725 - accuracy: 0.8911 - val_loss: 0.3704 - val_accuracy: 0.8937\n",
      "Epoch 20/30\n",
      "1050/1050 [==============================] - 40s 38ms/step - loss: 0.3623 - accuracy: 0.8933 - val_loss: 0.3607 - val_accuracy: 0.8963\n",
      "Epoch 21/30\n",
      "1050/1050 [==============================] - 41s 39ms/step - loss: 0.3534 - accuracy: 0.8966 - val_loss: 0.3528 - val_accuracy: 0.8981\n",
      "Epoch 22/30\n",
      "1050/1050 [==============================] - 41s 39ms/step - loss: 0.3451 - accuracy: 0.8986 - val_loss: 0.3445 - val_accuracy: 0.9015\n",
      "Epoch 23/30\n",
      "1050/1050 [==============================] - 40s 38ms/step - loss: 0.3375 - accuracy: 0.9011 - val_loss: 0.3372 - val_accuracy: 0.9042\n",
      "Epoch 24/30\n",
      "1050/1050 [==============================] - 39s 38ms/step - loss: 0.3303 - accuracy: 0.9031 - val_loss: 0.3337 - val_accuracy: 0.9031\n",
      "Epoch 25/30\n",
      "1050/1050 [==============================] - 40s 38ms/step - loss: 0.3240 - accuracy: 0.9042 - val_loss: 0.3249 - val_accuracy: 0.9052\n",
      "Epoch 26/30\n",
      "1050/1050 [==============================] - 39s 37ms/step - loss: 0.3177 - accuracy: 0.9065 - val_loss: 0.3202 - val_accuracy: 0.9074\n",
      "Epoch 27/30\n",
      "1050/1050 [==============================] - 39s 37ms/step - loss: 0.3122 - accuracy: 0.9079 - val_loss: 0.3134 - val_accuracy: 0.9090\n",
      "Epoch 28/30\n",
      "1050/1050 [==============================] - 39s 37ms/step - loss: 0.3065 - accuracy: 0.9102 - val_loss: 0.3098 - val_accuracy: 0.9102\n",
      "Epoch 29/30\n",
      "1050/1050 [==============================] - 39s 37ms/step - loss: 0.3010 - accuracy: 0.9112 - val_loss: 0.3039 - val_accuracy: 0.9119\n",
      "Epoch 30/30\n",
      "1050/1050 [==============================] - 39s 38ms/step - loss: 0.2960 - accuracy: 0.9128 - val_loss: 0.2993 - val_accuracy: 0.9125\n"
     ]
    }
   ],
   "source": [
    "# 설정을 모두 마치었으면 모델 학습\n",
    "history = model.fit(norm_train_x_data, train_y_data, epochs=30,\n",
    "         verbose=1,\n",
    "         validation_split=0.2)"
   ]
  },
  {
   "cell_type": "code",
   "execution_count": 46,
   "id": "4d11b7e7",
   "metadata": {},
   "outputs": [],
   "source": [
    "# 다중분류냐 아니냐 ! "
   ]
  },
  {
   "cell_type": "code",
   "execution_count": 47,
   "id": "2fae3710",
   "metadata": {},
   "outputs": [
    {
     "name": "stdout",
     "output_type": "stream",
     "text": [
      "Model: \"sequential_1\"\n",
      "_________________________________________________________________\n",
      " Layer (type)                Output Shape              Param #   \n",
      "=================================================================\n",
      " conv2d_3 (Conv2D)           (None, 26, 26, 32)        320       \n",
      "                                                                 \n",
      " conv2d_4 (Conv2D)           (None, 24, 24, 64)        18496     \n",
      "                                                                 \n",
      " max_pooling2d_1 (MaxPooling  (None, 12, 12, 64)       0         \n",
      " 2D)                                                             \n",
      "                                                                 \n",
      " conv2d_5 (Conv2D)           (None, 10, 10, 64)        36928     \n",
      "                                                                 \n",
      " flatten_1 (Flatten)         (None, 6400)              0         \n",
      "                                                                 \n",
      " dense_2 (Dense)             (None, 256)               1638656   \n",
      "                                                                 \n",
      " dense_3 (Dense)             (None, 10)                2570      \n",
      "                                                                 \n",
      "=================================================================\n",
      "Total params: 1,696,970\n",
      "Trainable params: 1,696,970\n",
      "Non-trainable params: 0\n",
      "_________________________________________________________________\n"
     ]
    }
   ],
   "source": [
    "# 최종적으로 각 신경망\n",
    "model.summary()"
   ]
  },
  {
   "cell_type": "code",
   "execution_count": 48,
   "id": "f14fc3f6-2ecd-4534-ae8c-99fc41ff6369",
   "metadata": {},
   "outputs": [],
   "source": [
    "# 그래프까지 그리기 "
   ]
  },
  {
   "cell_type": "code",
   "execution_count": 49,
   "id": "a20c2e65-ce27-495b-9095-d99f4d7fb723",
   "metadata": {},
   "outputs": [],
   "source": [
    "import matplotlib.pyplot as plt"
   ]
  },
  {
   "cell_type": "code",
   "execution_count": null,
   "id": "34a0625d-ea9f-4c0f-a0a3-268fcf23062e",
   "metadata": {},
   "outputs": [],
   "source": [
    "epochs = range(leb(acc))\n",
    "plt.plot(epochs, acc, 'bo',label = 'Training accuracy')\n",
    "plt.plot(epochs,val_acc , 'b', lable = 'validation accuracy')\n",
    "plt.tile('')\n",
    "plt.lengend()\n",
    "plt.figure()\n",
    "\n",
    "plt.plot(epochs,loss,'bo',label = 'Training loss')"
   ]
  },
  {
   "cell_type": "code",
   "execution_count": 50,
   "id": "47573f40-d13f-407b-b206-b589f2825209",
   "metadata": {},
   "outputs": [],
   "source": [
    "acc = history.history['accuracy']\n",
    "loss =  history.history['loss']\n",
    "val_acc =  history.history['val_accuracy']\n",
    "val_loss = history.history['val_loss']\n",
    "epochs = range(len(acc))\n",
    "plt.plot(epochs, acc, 'bo', label='Training accuracy')\n",
    "plt.plot(epochs, val_acc, 'b', label='Validation accuracy')\n",
    "plt.title('Training and validation accuracy')\n",
    "plt.legend()\n",
    "\n",
    "plt.figure()\n",
    "\n",
    "plt.plot(epochs, loss, 'bo', label='Training loss')\n",
    "plt.plot(epochs, val_loss, 'b', label='Validation loss')\n",
    "plt.title('Training and validation loss')\n",
    "\n",
    "plt.legend()\n",
    "\n",
    "plt.show()"
   ]
  },
  {
   "cell_type": "code",
   "execution_count": 51,
   "id": "586432d0-8250-4998-a0d7-e9165398023c",
   "metadata": {},
   "outputs": [],
   "source": [
    "epochs = range(len(acc))"
   ]
  },
  {
   "cell_type": "code",
   "execution_count": 52,
   "id": "14153e30-7bdd-482e-ba07-827bf027df2a",
   "metadata": {},
   "outputs": [
    {
     "data": {
      "image/png": "[encoded data removed]",
      "text/plain": [
       "<Figure size 432x288 with 1 Axes>"
      ]
     },
     "metadata": {
      "needs_background": "light"
     },
     "output_type": "display_data"
    },
    {
     "data": {
      "image/png": "[encoded data removed]",
      "text/plain": [
       "<Figure size 432x288 with 1 Axes>"
      ]
     },
     "metadata": {
      "needs_background": "light"
     },
     "output_type": "display_data"
    }
   ],
   "source": [
    "plt.plot(epochs, acc, 'bo', label='Training accuracy')\n",
    "plt.plot(epochs, val_acc, 'b', label='Validation accuracy')\n",
    "plt.title('Training and validation accuracy')\n",
    "plt.legend()\n",
    "\n",
    "plt.figure()\n",
    "\n",
    "plt.plot(epochs, loss, 'bo', label='Training loss')\n",
    "plt.plot(epochs, val_loss, 'b', label='Validation loss')\n",
    "plt.title('Training and validation loss')\n",
    "\n",
    "plt.legend()\n",
    "\n",
    "plt.show()"
   ]
  },
  {
   "cell_type": "code",
   "execution_count": 53,
   "id": "4e1fddf3-44be-452d-ad33-387fa43575f3",
   "metadata": {},
   "outputs": [
    {
     "name": "stdout",
     "output_type": "stream",
     "text": [
      "Model: \"sequential_1\"\n",
      "_________________________________________________________________\n",
      " Layer (type)                Output Shape              Param #   \n",
      "=================================================================\n",
      " conv2d_3 (Conv2D)           (None, 26, 26, 32)        320       \n",
      "                                                                 \n",
      " conv2d_4 (Conv2D)           (None, 24, 24, 64)        18496     \n",
      "                                                                 \n",
      " max_pooling2d_1 (MaxPooling  (None, 12, 12, 64)       0         \n",
      " 2D)                                                             \n",
      "                                                                 \n",
      " conv2d_5 (Conv2D)           (None, 10, 10, 64)        36928     \n",
      "                                                                 \n",
      " flatten_1 (Flatten)         (None, 6400)              0         \n",
      "                                                                 \n",
      " dense_2 (Dense)             (None, 256)               1638656   \n",
      "                                                                 \n",
      " dense_3 (Dense)             (None, 10)                2570      \n",
      "                                                                 \n",
      "=================================================================\n",
      "Total params: 1,696,970\n",
      "Trainable params: 1,696,970\n",
      "Non-trainable params: 0\n",
      "_________________________________________________________________\n"
     ]
    }
   ],
   "source": [
    "model.summary()"
   ]
  },
  {
   "cell_type": "code",
   "execution_count": 1,
   "id": "b9bda5ee-9296-49e1-8ae6-7105fdc63c96",
   "metadata": {},
   "outputs": [
    {
     "data": {
      "text/plain": [
       "'C:\\\\Users\\\\kyun\\\\python lib\\\\수업'"
      ]
     },
     "execution_count": 1,
     "metadata": {},
     "output_type": "execute_result"
    }
   ],
   "source": [
    "import os\n",
    "os.getcwd()"
   ]
  },
  {
   "cell_type": "code",
   "execution_count": null,
   "id": "e42599eb-1ab0-4b6e-b206-6c5cd8c9bc7d",
   "metadata": {},
   "outputs": [],
   "source": []
  },
  {
   "cell_type": "markdown",
   "id": "ef627cdb-c47e-4135-b15e-66fb8b6ac613",
   "metadata": {},
   "source": [
    "# cnn 이미지 처리 "
   ]
  },
  {
   "cell_type": "code",
   "execution_count": 3,
   "id": "ebc36f43-42a8-49f5-8e7c-afb6c5a946e8",
   "metadata": {},
   "outputs": [],
   "source": [
    "import numpy as np\n",
    "import tensorflow        # tensorflow 기본\n",
    "from tensorflow.keras.models import Sequential   # 모델 BOX 정의\n",
    "from tensorflow.keras.layers import Flatten, Dense   # 모델 BOX Input Layer, Output layer\n",
    "from tensorflow.keras.layers import Conv2D, MaxPooling2D\n",
    "from tensorflow.keras.optimizers import Adam   # 알고리즘 담당\n",
    "from sklearn.model_selection import train_test_split   # train, test 데이터를 분리\n",
    "from tensorflow.keras.preprocessing.image import ImageDataGenerator   # 데이터 정규화  - 큰숮자를 작은 숫자로 변경 (-1 ~ 1)"
   ]
  },
  {
   "cell_type": "code",
   "execution_count": 4,
   "id": "1e5f656c-4909-4f95-acf8-53c5f35d5fe2",
   "metadata": {},
   "outputs": [],
   "source": [
    "#  아마자 대아토 갹채 샹송'\n",
    "\n",
    "\n",
    "Train_data = ImageDataGenerator(rescale = 1/255)\n",
    "Test_data = ImageDataGenerator(rescale = 1/255)\n",
    "train_dir = './cats_and_dogs_filtered/train/'\n",
    "test_dir = './cats_and_dogs_filtered/validation/'"
   ]
  },
  {
   "cell_type": "code",
   "execution_count": 5,
   "id": "cd8faeec-e49c-4bf9-8529-2c4834988a42",
   "metadata": {},
   "outputs": [
    {
     "name": "stdout",
     "output_type": "stream",
     "text": [
      "Found 2000 images belonging to 2 classes.\n",
      "Found 1000 images belonging to 2 classes.\n"
     ]
    }
   ],
   "source": [
    "train_generator = Train_data.flow_from_directory(\n",
    "    train_dir,  #  학습요 이미지 폴더 \n",
    "    classes=['cats', 'dogs'] , # cats 포디 이미지 label을 0으로 # dogs 폴터의 이미지는  label을 1로 가져간다 .\n",
    "    target_size=(150,150) ,     # 이미지를 리사이즈 \n",
    "    batch_size = 20 ,         # 한번에 20개의 이미지만  가져온다.  \n",
    "    class_mode='binary', # 이진분류 \n",
    ") # 학습용 이미지를 가져올 폴더 \n",
    "\n",
    "test_generator = Test_data.flow_from_directory(\n",
    "    test_dir,  #  학습요 이미지 폴더 \n",
    "    classes=['cats', 'dogs'] , # cats 포디 이미지 label을 0으로 # dogs 폴터의 이미지는  label을 1로 가져간다 .\n",
    "    target_size=(150,150) ,     # 이미지를 리사이즈 \n",
    "    batch_size = 10 ,         # 한번에 10개의 이미지만  가져온다.  \n",
    "    class_mode='binary', # 이진분류 \n",
    ") # 학습용 이미지를 가져올 폴더 "
   ]
  },
  {
   "cell_type": "code",
   "execution_count": 6,
   "id": "d56c28c8-6783-4c98-876c-6e3845ddfbda",
   "metadata": {},
   "outputs": [],
   "source": [
    "model = Sequential()\n",
    "\n",
    "\n",
    "model.add(Conv2D(filters=32,\n",
    "    kernel_size=(3,3),\n",
    "    strides=(1,1),\n",
    "    activation='relu',\n",
    "    input_shape=(150,150,3)))\n",
    "\n",
    "model.add(Conv2D(filters=64,\n",
    "    kernel_size=(3,3),\n",
    "    strides=(1,1),\n",
    "    activation='relu'))\n",
    "\n",
    "model.add(MaxPooling2D(pool_size=(2,2)))\n",
    "\n",
    "model.add(Conv2D(filters=64,\n",
    "    kernel_size=(3,3),\n",
    "    strides=(1,1),\n",
    "    activation='relu'))"
   ]
  },
  {
   "cell_type": "code",
   "execution_count": 7,
   "id": "a9e5d38c-b2c4-400a-b35f-94ebf3a24c55",
   "metadata": {},
   "outputs": [],
   "source": []
  },
  {
   "cell_type": "code",
   "execution_count": 8,
   "id": "fd87f4fd-b9aa-4fe9-bd0f-7c2e8dfe296a",
   "metadata": {},
   "outputs": [],
   "source": [
    "model.add(Flatten()) \n",
    "model.add(Dense(units=256, activation='relu'))\n",
    "model.add(Dense(units=1, activation='softmax'))\n",
    "model.compile(optimizer=Adam(learning_rate=1e-4),\n",
    "              loss='binary_crossentropy',\n",
    "              metrics=['accuracy'])"
   ]
  },
  {
   "cell_type": "code",
   "execution_count": 9,
   "id": "eda53b00-27aa-4ca4-8f0a-a5fcfeeb903d",
   "metadata": {},
   "outputs": [],
   "source": []
  },
  {
   "cell_type": "code",
   "execution_count": 12,
   "id": "951df846-9f33-45fe-8cb3-1d197da80eca",
   "metadata": {},
   "outputs": [],
   "source": [
    "model.compile(optimizer=Adam(learning_rate=1e-4),\n",
    "              loss='binary_crossentropy',\n",
    "              metrics=['accuracy'])"
   ]
  },
  {
   "cell_type": "markdown",
   "id": "4b0c46f8-84d5-4cbc-9a90-17fa4a1a2b41",
   "metadata": {},
   "source": [
    " # 오류 unexpected EOF while parsing 괄호닫기"
   ]
  },
  {
   "cell_type": "code",
   "execution_count": 13,
   "id": "0a57e6dc-bf73-4927-905f-8517968a331e",
   "metadata": {},
   "outputs": [
    {
     "name": "stdout",
     "output_type": "stream",
     "text": [
      "100/100 [==============================] - 179s 2s/step - loss: 0.6996 - accuracy: 0.5000 - val_loss: 0.6624 - val_accuracy: 0.5140\n"
     ]
    }
   ],
   "source": [
    "history = model.fit(train_generator,\n",
    "        steps_per_epoch=100,\n",
    "         epochs=1,\n",
    "         verbose=1,\n",
    "         validation_data = test_generator,\n",
    "         validation_steps=50)\n"
   ]
  },
  {
   "cell_type": "code",
   "execution_count": null,
   "id": "6d240599-af63-40d6-adab-302bd2969219",
   "metadata": {},
   "outputs": [],
   "source": [
    "# model.predict(y_train)\n",
    "# 플링 ! / "
   ]
  },
  {
   "cell_type": "code",
   "execution_count": 1,
   "id": "8012ed60-d293-4440-9eb4-466875dab959",
   "metadata": {},
   "outputs": [
    {
     "ename": "SyntaxError",
     "evalue": "invalid syntax (1044367101.py, line 1)",
     "output_type": "error",
     "traceback": [
      "\u001b[1;36m  Input \u001b[1;32mIn [1]\u001b[1;36m\u001b[0m\n\u001b[1;33m    plot 까지 !\u001b[0m\n\u001b[1;37m         ^\u001b[0m\n\u001b[1;31mSyntaxError\u001b[0m\u001b[1;31m:\u001b[0m invalid syntax\n"
     ]
    }
   ],
   "source": [
    "# plot 까지 ! "
   ]
  },
  {
   "cell_type": "code",
   "execution_count": 2,
   "id": "ae94684c-6fae-406a-a1c9-215457f5e3e2",
   "metadata": {},
   "outputs": [],
   "source": [
    "import tensorflow"
   ]
  },
  {
   "cell_type": "code",
   "execution_count": null,
   "id": "e67502d6-1255-4ced-83ed-37f9798e9ef1",
   "metadata": {},
   "outputs": [],
   "source": [
    "# 안될때는 디렉토리를 추가하자 "
   ]
  },
  {
   "cell_type": "code",
   "execution_count": null,
   "id": "858a2f2f-578a-4068-8a94-89cb0eb01cad",
   "metadata": {},
   "outputs": [],
   "source": [
    "132"
   ]
  },
  {
   "cell_type": "code",
   "execution_count": null,
   "id": "d2d37a5a-5e27-4f80-8636-5f302d797866",
   "metadata": {},
   "outputs": [],
   "source": [
    "\n",
    "이미, 자연어 처리 , 1번 기업 ! / 기업 ,관심사 , 언어, / 통계 프로젝트 ,/ \n",
    "\n",
    "/데이터 셋, / 기업 , / \n"
   ]
  },
  {
   "cell_type": "markdown",
   "id": "01ef2da8-97e3-40d2-92a7-7f13079db042",
   "metadata": {},
   "source": [
    "# 5월 18일 전이학습 "
   ]
  },
  {
   "cell_type": "code",
   "execution_count": null,
   "id": "125d71f6-2ed4-4a08-abf9-e9cd8a370647",
   "metadata": {},
   "outputs": [],
   "source": [
    "3 차원 이니까 필터도 3개가 필요해 "
   ]
  },
  {
   "cell_type": "code",
   "execution_count": null,
   "id": "f178dc22-9930-42cd-afc1-16bf19b49995",
   "metadata": {},
   "outputs": [],
   "source": [
    "각각하나를 만들어서 합친다 . 채널 3차원 2차원이지만 3차원으로 나와 , / 필터 2차원으로 엑티브 맵이 구성이 되고 각자 3차원으로 구성된다 .\n"
   ]
  },
  {
   "cell_type": "code",
   "execution_count": null,
   "id": "ad22b60b-8b2d-4c12-b534-c1d8353ba02c",
   "metadata": {},
   "outputs": [],
   "source": [
    "컨볼루션 , 필터가 정해주고, 3*3 4*4 정방형 데이터 , / 모르지만 필터 가정하고 , 이미지도 가정하고 곱해 / 컬러면 3개가 동시에 ,/"
   ]
  },
  {
   "cell_type": "code",
   "execution_count": null,
   "id": "755bccc1-0047-4397-bb5c-c7d4ac58324c",
   "metadata": {},
   "outputs": [],
   "source": [
    "# 스트라이브에서 만약 1이면 한칸움직여 , / 표현식 , 합성곱에서 , 활성함수, "
   ]
  },
  {
   "cell_type": "code",
   "execution_count": null,
   "id": "0c9d8285-47f2-4c25-8cf6-b0f452e6e732",
   "metadata": {},
   "outputs": [],
   "source": [
    "# 핏처 맵 , 분류 , / 여기 까지는 굉장히 자원이 플요하다. 누가 ? 구글이나 ms 수행한 미리 학습해놓은 결과를 가져다 쓴다. "
   ]
  },
  {
   "cell_type": "code",
   "execution_count": null,
   "id": "9deaea4d-b2f6-4de3-aea4-175f40eb066d",
   "metadata": {},
   "outputs": [],
   "source": [
    "# 전이학습 ~ 남에꺼 , /똑같은 것을 전이 학습 한다. vgg 16 "
   ]
  },
  {
   "cell_type": "code",
   "execution_count": 4,
   "id": "e5d4e910-13ab-4cfd-ab22-9f7824db11b3",
   "metadata": {},
   "outputs": [],
   "source": [
    "# 전이학습에 대해서 알아봅시다. \n",
    "from tensorflow.keras.applications import VGG16 # 전이학습\n",
    "model_base = VGG16( weights = 'imagenet',\n",
    "                   include_top =False,\n",
    "                   input_shape = (150,150,3))"
   ]
  },
  {
   "cell_type": "code",
   "execution_count": 21,
   "id": "1d491a90-aaab-4a38-ae75-48325e8cc174",
   "metadata": {},
   "outputs": [
    {
     "name": "stdout",
     "output_type": "stream",
     "text": [
      "Downloading data from https://storage.googleapis.com/tensorflow/keras-applications/vgg16/vgg16_weights_tf_dim_ordering_tf_kernels_notop.h5\n",
      "58889256/58889256 [==============================] - 20s 0us/step\n",
      "Model: \"vgg16\"\n",
      "_________________________________________________________________\n",
      " Layer (type)                Output Shape              Param #   \n",
      "=================================================================\n",
      " input_1 (InputLayer)        [(None, 150, 150, 3)]     0         \n",
      "                                                                 \n",
      " block1_conv1 (Conv2D)       (None, 150, 150, 64)      1792      \n",
      "                                                                 \n",
      " block1_conv2 (Conv2D)       (None, 150, 150, 64)      36928     \n",
      "                                                                 \n",
      " block1_pool (MaxPooling2D)  (None, 75, 75, 64)        0         \n",
      "                                                                 \n",
      " block2_conv1 (Conv2D)       (None, 75, 75, 128)       73856     \n",
      "                                                                 \n",
      " block2_conv2 (Conv2D)       (None, 75, 75, 128)       147584    \n",
      "                                                                 \n",
      " block2_pool (MaxPooling2D)  (None, 37, 37, 128)       0         \n",
      "                                                                 \n",
      " block3_conv1 (Conv2D)       (None, 37, 37, 256)       295168    \n",
      "                                                                 \n",
      " block3_conv2 (Conv2D)       (None, 37, 37, 256)       590080    \n",
      "                                                                 \n",
      " block3_conv3 (Conv2D)       (None, 37, 37, 256)       590080    \n",
      "                                                                 \n",
      " block3_pool (MaxPooling2D)  (None, 18, 18, 256)       0         \n",
      "                                                                 \n",
      " block4_conv1 (Conv2D)       (None, 18, 18, 512)       1180160   \n",
      "                                                                 \n",
      " block4_conv2 (Conv2D)       (None, 18, 18, 512)       2359808   \n",
      "                                                                 \n",
      " block4_conv3 (Conv2D)       (None, 18, 18, 512)       2359808   \n",
      "                                                                 \n",
      " block4_pool (MaxPooling2D)  (None, 9, 9, 512)         0         \n",
      "                                                                 \n",
      " block5_conv1 (Conv2D)       (None, 9, 9, 512)         2359808   \n",
      "                                                                 \n",
      " block5_conv2 (Conv2D)       (None, 9, 9, 512)         2359808   \n",
      "                                                                 \n",
      " block5_conv3 (Conv2D)       (None, 9, 9, 512)         2359808   \n",
      "                                                                 \n",
      " block5_pool (MaxPooling2D)  (None, 4, 4, 512)         0         \n",
      "                                                                 \n",
      "=================================================================\n",
      "Total params: 14,714,688\n",
      "Trainable params: 14,714,688\n",
      "Non-trainable params: 0\n",
      "_________________________________________________________________\n",
      "None\n"
     ]
    }
   ],
   "source": [
    "\n",
    "print(model_base.summary())"
   ]
  },
  {
   "cell_type": "code",
   "execution_count": 7,
   "id": "c794509a-714f-4600-9a4b-4c1b9125005a",
   "metadata": {},
   "outputs": [],
   "source": [
    "# VGG16으로 이미 만들어저셔 필요가 없다. \n",
    "\n",
    "\n",
    "from tensorflow.keras.applications import VGG16 # 전이학습\n",
    "model_base = VGG16( weights = 'imagenet',\n",
    "                   include_top =False,\n",
    "                   input_shape = (150,150,3))\n",
    "model.add(model_base) # 모델 추가 "
   ]
  },
  {
   "cell_type": "code",
   "execution_count": 5,
   "id": "0ae1b60d-70fe-4dfe-80c6-b2cb128e73b5",
   "metadata": {},
   "outputs": [],
   "source": [
    "import numpy as np\n",
    "import tensorflow        # tensorflow 기본\n",
    "from tensorflow.keras.models import Sequential   # 모델 BOX 정의\n",
    "from tensorflow.keras.layers import Flatten, Dense   # 모델 BOX Input Layer, Output layer\n",
    "from tensorflow.keras.layers import Conv2D, MaxPooling2D\n",
    "from tensorflow.keras.optimizers import Adam   # 알고리즘 담당\n",
    "from sklearn.model_selection import train_test_split   # train, test 데이터를 분리\n",
    "from tensorflow.keras.preprocessing.image import ImageDataGenerator   # 데이터 정규화  - 큰숮자를 작은 숫자로 변경 (-1 ~ 1)"
   ]
  },
  {
   "cell_type": "code",
   "execution_count": 6,
   "id": "408bd619-fec9-4e12-9571-7558881758f7",
   "metadata": {},
   "outputs": [],
   "source": [
    "#  아마자 대아토 갹채 샹송'\n",
    "model = Sequential()\n",
    "Train_data = ImageDataGenerator(rescale = 1/255)\n",
    "Test_data = ImageDataGenerator(rescale = 1/255)\n",
    "train_dir = './cats_and_dogs_filtered/train/'\n",
    "test_dir = './cats_and_dogs_filtered/validation/'"
   ]
  },
  {
   "cell_type": "code",
   "execution_count": 18,
   "id": "72486ed1-cbba-451c-bc7a-cad6d6e5d37d",
   "metadata": {},
   "outputs": [
    {
     "name": "stdout",
     "output_type": "stream",
     "text": [
      "Found 2000 images belonging to 2 classes.\n",
      "Found 1000 images belonging to 2 classes.\n"
     ]
    }
   ],
   "source": [
    "train_generator = Train_data.flow_from_directory(\n",
    "    train_dir,  #  학습요 이미지 폴더 \n",
    "    classes=['cats', 'dogs'] , # cats 포디 이미지 label을 0으로 # dogs 폴터의 이미지는  label을 1로 가져간다 .\n",
    "    target_size=(150,150) ,     # 이미지를 리사이즈 \n",
    "    batch_size = 20 ,         # 한번에 20개의 이미지만  가져온다.  \n",
    "    class_mode='binary', # 이진분류 \n",
    ") # 학습용 이미지를 가져올 폴더 \n",
    "\n",
    "test_generator = Test_data.flow_from_directory(\n",
    "    test_dir,  #  학습요 이미지 폴더 \n",
    "    classes=['cats', 'dogs'] , # cats 포디 이미지 label을 0으로 # dogs 폴터의 이미지는  label을 1로 가져간다 .\n",
    "    target_size=(150,150) ,     # 이미지를 리사이즈 \n",
    "    batch_size = 10 ,         # 한번에 10개의 이미지만  가져온다.  \n",
    "    class_mode='binary', # 이진분류 \n",
    ") # 학습용 이미지를 가져올 폴더 "
   ]
  },
  {
   "cell_type": "code",
   "execution_count": 16,
   "id": "f0b20ea5-278d-46e0-bbd7-1ac8c6be85b2",
   "metadata": {},
   "outputs": [],
   "source": [
    "# 플레튼 해야 해 !\n",
    "# FC layer (DNN) input layer \n",
    "\n",
    "model.add(Flatten())\n",
    "model.add(Dense(units=1, activation='sigmoid'))\n",
    "model.compile(optimizer=Adam(learning_rate=0.0001),# \n",
    "              loss='binary_crossentropy',\n",
    "              metrics=['accuracy'])"
   ]
  },
  {
   "cell_type": "code",
   "execution_count": null,
   "id": "0a4fd92c-2a69-4bae-9a82-3228b81331c1",
   "metadata": {},
   "outputs": [],
   "source": [
    "# 모델 박스는 가지고 와야해 \n",
    "# model.add(Flatten()) \n",
    "#  #  히든레이어 안해도돼 model.add(Dense(units=256, activation='relu'))\n",
    "# model.add(Dense(units=1, activation='softmax')) # \n"
   ]
  },
  {
   "cell_type": "code",
   "execution_count": 19,
   "id": "2f52ff21-cf63-47f1-8fb5-495117ceb749",
   "metadata": {},
   "outputs": [
    {
     "name": "stdout",
     "output_type": "stream",
     "text": [
      "100/100 [==============================] - 393s 4s/step - loss: 0.5075 - accuracy: 0.7450 - val_loss: 0.3740 - val_accuracy: 0.8220\n"
     ]
    }
   ],
   "source": [
    "history = model.fit(train_generator,\n",
    "        steps_per_epoch=100,\n",
    "         epochs=1,\n",
    "         verbose=1,\n",
    "         validation_data = test_generator,\n",
    "         validation_steps=50)\n"
   ]
  },
  {
   "cell_type": "code",
   "execution_count": null,
   "id": "9282d322-86bd-4fde-b744-128e12c8a8ca",
   "metadata": {},
   "outputs": [],
   "source": []
  },
  {
   "cell_type": "code",
   "execution_count": null,
   "id": "fbc13e59-acbe-4844-9523-810746e72898",
   "metadata": {},
   "outputs": [],
   "source": []
  },
  {
   "cell_type": "code",
   "execution_count": null,
   "id": "27e17d34-34a5-43de-8468-77a60beb82a9",
   "metadata": {},
   "outputs": [],
   "source": []
  },
  {
   "cell_type": "code",
   "execution_count": null,
   "id": "43ee0a0c-8e8d-4d84-980b-44f1a2e76ec7",
   "metadata": {},
   "outputs": [],
   "source": []
  },
  {
   "cell_type": "code",
   "execution_count": null,
   "id": "e026f238-b78d-418b-b3d4-2ff5cf4eaf62",
   "metadata": {},
   "outputs": [],
   "source": []
  }
 ],
 "metadata": {
  "kernelspec": {
   "display_name": "Python 3 (ipykernel)",
   "language": "python",
   "name": "python3"
  },
  "language_info": {
   "codemirror_mode": {
    "name": "ipython",
    "version": 3
   },
   "file_extension": ".py",
   "mimetype": "text/x-python",
   "name": "python",
   "nbconvert_exporter": "python",
   "pygments_lexer": "ipython3",
   "version": "3.9.12"
  },
  "latex_envs": {
   "LaTeX_envs_menu_present": true,
   "autoclose": false,
   "autocomplete": true,
   "bibliofile": "biblio.bib",
   "cite_by": "apalike",
   "current_citInitial": 1,
   "eqLabelWithNumbers": true,
   "eqNumInitial": 1,
   "hotkeys": {
    "equation": "Ctrl-E",
    "itemize": "Ctrl-I"
   },
   "labels_anchors": false,
   "latex_user_defs": false,
   "report_style_numbering": false,
   "user_envs_cfg": false
  },
  "nbTranslate": {
   "displayLangs": [
    "*"
   ],
   "hotkey": "",
   "langInMainMenu": true,
   "sourceLang": "en",
   "targetLang": "fr",
   "useGoogleTranslate": true
  },
  "toc": {
   "base_numbering": 1,
   "nav_menu": {},
   "number_sections": true,
   "sideBar": true,
   "skip_h1_title": false,
   "title_cell": "Table of Contents",
   "title_sidebar": "Contents",
   "toc_cell": false,
   "toc_position": {},
   "toc_section_display": true,
   "toc_window_display": false
  },
  "varInspector": {
   "cols": {
    "lenName": 16,
    "lenType": 16,
    "lenVar": 40
   },
   "kernels_config": {
    "python": {
     "delete_cmd_postfix": "",
     "delete_cmd_prefix": "del ",
     "library": "var_list.py",
     "varRefreshCmd": "print(var_dic_list())"
    },
    "r": {
     "delete_cmd_postfix": ") ",
     "delete_cmd_prefix": "rm(",
     "library": "var_list.r",
     "varRefreshCmd": "cat(var_dic_list()) "
    }
   },
   "types_to_exclude": [
    "module",
    "function",
    "builtin_function_or_method",
    "instance",
    "_Feature"
   ],
   "window_display": false
  }
 },
 "nbformat": 4,
 "nbformat_minor": 5
}

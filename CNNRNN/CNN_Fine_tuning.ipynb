{
 "cells": [
  {
   "cell_type": "code",
   "execution_count": 1,
   "id": "f48a1d23",
   "metadata": {},
   "outputs": [],
   "source": [
    "# ImageDataGenerator를 이용해서 Cats and Dogs binary classification\n",
    "# 문제를 해결해 보아요!\n",
    "\n",
    "import numpy as np\n",
    "from tensorflow.keras.models import Sequential\n",
    "from tensorflow.keras.layers import Conv2D, MaxPooling2D, GlobalAveragePooling2D\n",
    "from tensorflow.keras.layers import Flatten, Dense\n",
    "from tensorflow.keras.optimizers import Adam  # 평균적으로 높은 효율을 내는 알고리즘\n",
    "from tensorflow.keras.preprocessing.image import ImageDataGenerator"
   ]
  },
  {
   "cell_type": "code",
   "execution_count": 2,
   "id": "127a883a",
   "metadata": {},
   "outputs": [],
   "source": [
    "# ImageDataGenerator 객체 생성\n",
    "Train_Datagen =  ImageDataGenerator(rescale=1/255)\n",
    "Test_Datagen =  ImageDataGenerator(rescale=1/255)"
   ]
  },
  {
   "cell_type": "code",
   "execution_count": 3,
   "id": "8cf82527",
   "metadata": {},
   "outputs": [],
   "source": [
    "train_dir = './cats_and_dogs/train'\n",
    "test_dir = './cats_and_dogs/test'"
   ]
  },
  {
   "cell_type": "code",
   "execution_count": 4,
   "id": "72a22c5e",
   "metadata": {},
   "outputs": [
    {
     "name": "stdout",
     "output_type": "stream",
     "text": [
      "Found 2000 images belonging to 2 classes.\n",
      "Found 1000 images belonging to 2 classes.\n"
     ]
    }
   ],
   "source": [
    "# ImageDataGenerator  설정\n",
    "\n",
    "train_generator = Train_Datagen.flow_from_directory(\n",
    "    train_dir,   # 학습용 이미지를 가져올 폴더\n",
    "    classes=['cats', 'dogs'],  # cats 포더의 이미지 label을 0으로\n",
    "                               #dogs 폴의 이미지는 label을 1로 설정\n",
    "    target_size=(150, 150),    #이미지 resize\n",
    "    batch_size=20,             #한번에 20개의 이미지만 가져와서 학습\n",
    "    class_mode='binary'        #이진분류인 경우 설정\n",
    ")\n",
    "\n",
    "test_generator = Test_Datagen.flow_from_directory(\n",
    "    test_dir,   # 학습용 이미지를 가져올 폴더\n",
    "    classes=['cats', 'dogs'],  # cats 포더의 이미지 label을 0으로\n",
    "                               #dogs 폴의 이미지는 label을 1로 설정\n",
    "    target_size=(150, 150),    #이미지 resize\n",
    "    batch_size=20,             #한번에 20개의 이미지만 가져와서 학습\n",
    "    class_mode='binary'        #이진분류인 경우 설정\n",
    ")"
   ]
  },
  {
   "cell_type": "code",
   "execution_count": 5,
   "id": "834e325e",
   "metadata": {
    "run_control": {
     "marked": false
    }
   },
   "outputs": [
    {
     "name": "stdout",
     "output_type": "stream",
     "text": [
      "Model: \"vgg16\"\n",
      "_________________________________________________________________\n",
      "Layer (type)                 Output Shape              Param #   \n",
      "=================================================================\n",
      "input_1 (InputLayer)         [(None, 150, 150, 3)]     0         \n",
      "_________________________________________________________________\n",
      "block1_conv1 (Conv2D)        (None, 150, 150, 64)      1792      \n",
      "_________________________________________________________________\n",
      "block1_conv2 (Conv2D)        (None, 150, 150, 64)      36928     \n",
      "_________________________________________________________________\n",
      "block1_pool (MaxPooling2D)   (None, 75, 75, 64)        0         \n",
      "_________________________________________________________________\n",
      "block2_conv1 (Conv2D)        (None, 75, 75, 128)       73856     \n",
      "_________________________________________________________________\n",
      "block2_conv2 (Conv2D)        (None, 75, 75, 128)       147584    \n",
      "_________________________________________________________________\n",
      "block2_pool (MaxPooling2D)   (None, 37, 37, 128)       0         \n",
      "_________________________________________________________________\n",
      "block3_conv1 (Conv2D)        (None, 37, 37, 256)       295168    \n",
      "_________________________________________________________________\n",
      "block3_conv2 (Conv2D)        (None, 37, 37, 256)       590080    \n",
      "_________________________________________________________________\n",
      "block3_conv3 (Conv2D)        (None, 37, 37, 256)       590080    \n",
      "_________________________________________________________________\n",
      "block3_pool (MaxPooling2D)   (None, 18, 18, 256)       0         \n",
      "_________________________________________________________________\n",
      "block4_conv1 (Conv2D)        (None, 18, 18, 512)       1180160   \n",
      "_________________________________________________________________\n",
      "block4_conv2 (Conv2D)        (None, 18, 18, 512)       2359808   \n",
      "_________________________________________________________________\n",
      "block4_conv3 (Conv2D)        (None, 18, 18, 512)       2359808   \n",
      "_________________________________________________________________\n",
      "block4_pool (MaxPooling2D)   (None, 9, 9, 512)         0         \n",
      "_________________________________________________________________\n",
      "block5_conv1 (Conv2D)        (None, 9, 9, 512)         2359808   \n",
      "_________________________________________________________________\n",
      "block5_conv2 (Conv2D)        (None, 9, 9, 512)         2359808   \n",
      "_________________________________________________________________\n",
      "block5_conv3 (Conv2D)        (None, 9, 9, 512)         2359808   \n",
      "_________________________________________________________________\n",
      "block5_pool (MaxPooling2D)   (None, 4, 4, 512)         0         \n",
      "=================================================================\n",
      "Total params: 14,714,688\n",
      "Trainable params: 14,714,688\n",
      "Non-trainable params: 0\n",
      "_________________________________________________________________\n",
      "None\n"
     ]
    }
   ],
   "source": [
    "## 전이학습에 대해서 알아보아요!!\n",
    "## 사용하는 기학습된 네트워크(Pretrained Network)는\n",
    "## VGG16을 이용해 보아요!\n",
    "\n",
    "from tensorflow.keras.applications import VGG16\n",
    "\n",
    "model_base = VGG16(weights='imagenet',\n",
    "                   include_top=False,    # classification 제외!\n",
    "                   input_shape=(150,150,3))\n",
    "\n",
    "print(model_base.summary())"
   ]
  },
  {
   "cell_type": "code",
   "execution_count": 6,
   "id": "c75c6500",
   "metadata": {
    "scrolled": true
   },
   "outputs": [
    {
     "name": "stdout",
     "output_type": "stream",
     "text": [
      "Model: \"sequential\"\n",
      "_________________________________________________________________\n",
      "Layer (type)                 Output Shape              Param #   \n",
      "=================================================================\n",
      "vgg16 (Functional)           (None, 4, 4, 512)         14714688  \n",
      "_________________________________________________________________\n",
      "flatten (Flatten)            (None, 8192)              0         \n",
      "_________________________________________________________________\n",
      "dense (Dense)                (None, 256)               2097408   \n",
      "_________________________________________________________________\n",
      "dense_1 (Dense)              (None, 1)                 257       \n",
      "=================================================================\n",
      "Total params: 16,812,353\n",
      "Trainable params: 16,812,353\n",
      "Non-trainable params: 0\n",
      "_________________________________________________________________\n"
     ]
    }
   ],
   "source": [
    "# CNN Model 구현\n",
    "model = Sequential()\n",
    "\n",
    "model.add(model_base)\n",
    "\n",
    "model.add(Flatten())    # 전체 데이터를 4차원에서 2차원으로 변경\n",
    "\n",
    "model.add(Dense(256, activation= 'relu'))\n",
    "\n",
    "# output layer\n",
    "model.add(Dense(units=1,\n",
    "                activation='sigmoid'))\n",
    "\n",
    "model.summary()"
   ]
  },
  {
   "cell_type": "markdown",
   "id": "d613846b",
   "metadata": {},
   "source": [
    "모델을 컴파일하고 훈련하기전에 합성곱 기반 층을 freezing 하는것이 중요한데\n",
    "\n",
    "Layer를 Freezing 하는것은 training하는동안 layer의 weight가 업데이트 되는것을 막는것이다.\n",
    "\n",
    "이를 통해서 Convolutional base에 의해서 train되었던 것들이 수정될것이다.\n",
    "\n",
    "케라스에서는 trainable 속성을 False로 설정해서 네트워크를 Freeze할수 있다."
   ]
  },
  {
   "cell_type": "code",
   "execution_count": 7,
   "id": "e96747cf",
   "metadata": {},
   "outputs": [
    {
     "name": "stdout",
     "output_type": "stream",
     "text": [
      "before freeze, len of trainable_weights 30\n",
      "after  freeze, len of trainable_weights 4\n"
     ]
    }
   ],
   "source": [
    "print('before freeze, len of trainable_weights', len(model.trainable_weights))\n",
    "model_base.trainable = False\n",
    "print('after  freeze, len of trainable_weights', len(model.trainable_weights))"
   ]
  },
  {
   "cell_type": "markdown",
   "id": "87484903",
   "metadata": {},
   "source": [
    "앞에서 보면 training 되는 parameter가 엄청 많은데\n",
    "\n",
    "weight가 30개 밖에 안된다는것이 이해가 안될 수 있다.\n",
    "\n",
    "하지만 결국 층마다 2개씩( weight matrix, bias vector)가 추가된다고 생각하면 된다.\n",
    "\n",
    "y = wx + b 에서 w가 weight matrix, b가 bias vector라서\n",
    "\n",
    "각 layer마다 2개씩이라고 생각하면 된다."
   ]
  },
  {
   "cell_type": "code",
   "execution_count": 8,
   "id": "f0559150",
   "metadata": {},
   "outputs": [
    {
     "name": "stdout",
     "output_type": "stream",
     "text": [
      "<keras.engine.input_layer.InputLayer object at 0x0000025B4213ECA0> False\n",
      "<keras.layers.convolutional.Conv2D object at 0x0000025B4221D370> False\n",
      "<keras.layers.convolutional.Conv2D object at 0x0000025B4221D970> False\n",
      "<keras.layers.pooling.MaxPooling2D object at 0x0000025B423D1D00> False\n",
      "<keras.layers.convolutional.Conv2D object at 0x0000025B423D1310> False\n",
      "<keras.layers.convolutional.Conv2D object at 0x0000025B423E9CA0> False\n",
      "<keras.layers.pooling.MaxPooling2D object at 0x0000025B423ED730> False\n",
      "<keras.layers.convolutional.Conv2D object at 0x0000025B423ED3D0> False\n",
      "<keras.layers.convolutional.Conv2D object at 0x0000025B4251E2E0> False\n",
      "<keras.layers.convolutional.Conv2D object at 0x0000025B4251E430> False\n",
      "<keras.layers.pooling.MaxPooling2D object at 0x0000025B423D8AC0> False\n",
      "<keras.layers.convolutional.Conv2D object at 0x0000025B4251EF70> False\n",
      "<keras.layers.convolutional.Conv2D object at 0x0000025B42535EE0> False\n",
      "<keras.layers.convolutional.Conv2D object at 0x0000025B42530250> False\n",
      "<keras.layers.pooling.MaxPooling2D object at 0x0000025B425474F0> False\n",
      "<keras.layers.convolutional.Conv2D object at 0x0000025B42535B20> False\n",
      "<keras.layers.convolutional.Conv2D object at 0x0000025B42564A60> False\n",
      "<keras.layers.convolutional.Conv2D object at 0x0000025B4256AB20> False\n",
      "<keras.layers.pooling.MaxPooling2D object at 0x0000025B423D89A0> False\n"
     ]
    }
   ],
   "source": [
    "#for layer in model_base.layers[:-10]:\n",
    "#   layer.trainable = False\n",
    "\n",
    "for layer in model_base.layers:\n",
    "    print(layer, layer.trainable)"
   ]
  },
  {
   "cell_type": "code",
   "execution_count": 9,
   "id": "7adb3411",
   "metadata": {},
   "outputs": [],
   "source": [
    "# print(model.summary())\n",
    "# model이 어떻게 동작하는지를 지정\n",
    "model.compile(optimizer=Adam(learning_rate=0.0001),\n",
    "              loss='binary_crossentropy',\n",
    "              metrics=['accuracy'])"
   ]
  },
  {
   "cell_type": "code",
   "execution_count": 10,
   "id": "dddcd7b4",
   "metadata": {},
   "outputs": [
    {
     "name": "stdout",
     "output_type": "stream",
     "text": [
      "Model: \"vgg16\"\n",
      "_________________________________________________________________\n",
      "Layer (type)                 Output Shape              Param #   \n",
      "=================================================================\n",
      "input_1 (InputLayer)         [(None, 150, 150, 3)]     0         \n",
      "_________________________________________________________________\n",
      "block1_conv1 (Conv2D)        (None, 150, 150, 64)      1792      \n",
      "_________________________________________________________________\n",
      "block1_conv2 (Conv2D)        (None, 150, 150, 64)      36928     \n",
      "_________________________________________________________________\n",
      "block1_pool (MaxPooling2D)   (None, 75, 75, 64)        0         \n",
      "_________________________________________________________________\n",
      "block2_conv1 (Conv2D)        (None, 75, 75, 128)       73856     \n",
      "_________________________________________________________________\n",
      "block2_conv2 (Conv2D)        (None, 75, 75, 128)       147584    \n",
      "_________________________________________________________________\n",
      "block2_pool (MaxPooling2D)   (None, 37, 37, 128)       0         \n",
      "_________________________________________________________________\n",
      "block3_conv1 (Conv2D)        (None, 37, 37, 256)       295168    \n",
      "_________________________________________________________________\n",
      "block3_conv2 (Conv2D)        (None, 37, 37, 256)       590080    \n",
      "_________________________________________________________________\n",
      "block3_conv3 (Conv2D)        (None, 37, 37, 256)       590080    \n",
      "_________________________________________________________________\n",
      "block3_pool (MaxPooling2D)   (None, 18, 18, 256)       0         \n",
      "_________________________________________________________________\n",
      "block4_conv1 (Conv2D)        (None, 18, 18, 512)       1180160   \n",
      "_________________________________________________________________\n",
      "block4_conv2 (Conv2D)        (None, 18, 18, 512)       2359808   \n",
      "_________________________________________________________________\n",
      "block4_conv3 (Conv2D)        (None, 18, 18, 512)       2359808   \n",
      "_________________________________________________________________\n",
      "block4_pool (MaxPooling2D)   (None, 9, 9, 512)         0         \n",
      "_________________________________________________________________\n",
      "block5_conv1 (Conv2D)        (None, 9, 9, 512)         2359808   \n",
      "_________________________________________________________________\n",
      "block5_conv2 (Conv2D)        (None, 9, 9, 512)         2359808   \n",
      "_________________________________________________________________\n",
      "block5_conv3 (Conv2D)        (None, 9, 9, 512)         2359808   \n",
      "_________________________________________________________________\n",
      "block5_pool (MaxPooling2D)   (None, 4, 4, 512)         0         \n",
      "=================================================================\n",
      "Total params: 14,714,688\n",
      "Trainable params: 0\n",
      "Non-trainable params: 14,714,688\n",
      "_________________________________________________________________\n",
      "None\n"
     ]
    }
   ],
   "source": [
    "print(model_base.summary())"
   ]
  },
  {
   "cell_type": "code",
   "execution_count": 11,
   "id": "2780f12c",
   "metadata": {},
   "outputs": [
    {
     "name": "stdout",
     "output_type": "stream",
     "text": [
      "Model: \"sequential\"\n",
      "_________________________________________________________________\n",
      "Layer (type)                 Output Shape              Param #   \n",
      "=================================================================\n",
      "vgg16 (Functional)           (None, 4, 4, 512)         14714688  \n",
      "_________________________________________________________________\n",
      "flatten (Flatten)            (None, 8192)              0         \n",
      "_________________________________________________________________\n",
      "dense (Dense)                (None, 256)               2097408   \n",
      "_________________________________________________________________\n",
      "dense_1 (Dense)              (None, 1)                 257       \n",
      "=================================================================\n",
      "Total params: 16,812,353\n",
      "Trainable params: 2,097,665\n",
      "Non-trainable params: 14,714,688\n",
      "_________________________________________________________________\n",
      "None\n"
     ]
    }
   ],
   "source": [
    "print(model.summary())"
   ]
  },
  {
   "cell_type": "code",
   "execution_count": 12,
   "id": "0d295cb6",
   "metadata": {},
   "outputs": [
    {
     "name": "stdout",
     "output_type": "stream",
     "text": [
      "Epoch 1/30\n",
      "100/100 [==============================] - 21s 157ms/step - loss: 0.3829 - accuracy: 0.8140 - val_loss: 0.2892 - val_accuracy: 0.8780\n",
      "Epoch 2/30\n",
      "100/100 [==============================] - 16s 156ms/step - loss: 0.2267 - accuracy: 0.9120 - val_loss: 0.2567 - val_accuracy: 0.8820\n",
      "Epoch 3/30\n",
      "100/100 [==============================] - 16s 156ms/step - loss: 0.1684 - accuracy: 0.9380 - val_loss: 0.3193 - val_accuracy: 0.8480\n",
      "Epoch 4/30\n",
      "100/100 [==============================] - 16s 157ms/step - loss: 0.1313 - accuracy: 0.9590 - val_loss: 0.2506 - val_accuracy: 0.8920\n",
      "Epoch 5/30\n",
      "100/100 [==============================] - 16s 158ms/step - loss: 0.0995 - accuracy: 0.9725 - val_loss: 0.2484 - val_accuracy: 0.8860\n",
      "Epoch 6/30\n",
      "100/100 [==============================] - 16s 158ms/step - loss: 0.0762 - accuracy: 0.9820 - val_loss: 0.2545 - val_accuracy: 0.8840\n",
      "Epoch 7/30\n",
      "100/100 [==============================] - 16s 158ms/step - loss: 0.0634 - accuracy: 0.9900 - val_loss: 0.2582 - val_accuracy: 0.8910\n",
      "Epoch 8/30\n",
      "100/100 [==============================] - 16s 158ms/step - loss: 0.0480 - accuracy: 0.9960 - val_loss: 0.2683 - val_accuracy: 0.8810\n",
      "Epoch 9/30\n",
      "100/100 [==============================] - 16s 158ms/step - loss: 0.0387 - accuracy: 0.9985 - val_loss: 0.2812 - val_accuracy: 0.8850\n",
      "Epoch 10/30\n",
      "100/100 [==============================] - 16s 158ms/step - loss: 0.0322 - accuracy: 0.9995 - val_loss: 0.2718 - val_accuracy: 0.8870\n",
      "Epoch 11/30\n",
      "100/100 [==============================] - 16s 159ms/step - loss: 0.0252 - accuracy: 0.9990 - val_loss: 0.2781 - val_accuracy: 0.8860\n",
      "Epoch 12/30\n",
      "100/100 [==============================] - 16s 159ms/step - loss: 0.0217 - accuracy: 1.0000 - val_loss: 0.2962 - val_accuracy: 0.8840\n",
      "Epoch 13/30\n",
      "100/100 [==============================] - 16s 159ms/step - loss: 0.0201 - accuracy: 0.9995 - val_loss: 0.3051 - val_accuracy: 0.8840\n",
      "Epoch 14/30\n",
      "100/100 [==============================] - 16s 159ms/step - loss: 0.0141 - accuracy: 1.0000 - val_loss: 0.3038 - val_accuracy: 0.8870\n",
      "Epoch 15/30\n",
      "100/100 [==============================] - 16s 159ms/step - loss: 0.0125 - accuracy: 1.0000 - val_loss: 0.3020 - val_accuracy: 0.8860\n",
      "Epoch 16/30\n",
      "100/100 [==============================] - 16s 160ms/step - loss: 0.0105 - accuracy: 1.0000 - val_loss: 0.3139 - val_accuracy: 0.8850\n",
      "Epoch 17/30\n",
      "100/100 [==============================] - 16s 160ms/step - loss: 0.0087 - accuracy: 1.0000 - val_loss: 0.3158 - val_accuracy: 0.8860\n",
      "Epoch 18/30\n",
      "100/100 [==============================] - 16s 160ms/step - loss: 0.0076 - accuracy: 1.0000 - val_loss: 0.3227 - val_accuracy: 0.8860\n",
      "Epoch 19/30\n",
      "100/100 [==============================] - 16s 160ms/step - loss: 0.0068 - accuracy: 1.0000 - val_loss: 0.3400 - val_accuracy: 0.8840\n",
      "Epoch 20/30\n",
      "100/100 [==============================] - 16s 160ms/step - loss: 0.0060 - accuracy: 1.0000 - val_loss: 0.3318 - val_accuracy: 0.8860\n",
      "Epoch 21/30\n",
      "100/100 [==============================] - 16s 160ms/step - loss: 0.0053 - accuracy: 1.0000 - val_loss: 0.3359 - val_accuracy: 0.8850\n",
      "Epoch 22/30\n",
      "100/100 [==============================] - 16s 160ms/step - loss: 0.0047 - accuracy: 1.0000 - val_loss: 0.3422 - val_accuracy: 0.8840\n",
      "Epoch 23/30\n",
      "100/100 [==============================] - 16s 160ms/step - loss: 0.0041 - accuracy: 1.0000 - val_loss: 0.3496 - val_accuracy: 0.8830\n",
      "Epoch 24/30\n",
      "100/100 [==============================] - 16s 160ms/step - loss: 0.0036 - accuracy: 1.0000 - val_loss: 0.3548 - val_accuracy: 0.8840\n",
      "Epoch 25/30\n",
      "100/100 [==============================] - 16s 160ms/step - loss: 0.0032 - accuracy: 1.0000 - val_loss: 0.3592 - val_accuracy: 0.8840\n",
      "Epoch 26/30\n",
      "100/100 [==============================] - 16s 160ms/step - loss: 0.0029 - accuracy: 1.0000 - val_loss: 0.3830 - val_accuracy: 0.8860\n",
      "Epoch 27/30\n",
      "100/100 [==============================] - 16s 160ms/step - loss: 0.0027 - accuracy: 1.0000 - val_loss: 0.3675 - val_accuracy: 0.8820\n",
      "Epoch 28/30\n",
      "100/100 [==============================] - 16s 160ms/step - loss: 0.0024 - accuracy: 1.0000 - val_loss: 0.3746 - val_accuracy: 0.8820\n",
      "Epoch 29/30\n",
      "100/100 [==============================] - 16s 160ms/step - loss: 0.0021 - accuracy: 1.0000 - val_loss: 0.3774 - val_accuracy: 0.8840\n",
      "Epoch 30/30\n",
      "100/100 [==============================] - 16s 160ms/step - loss: 0.0020 - accuracy: 1.0000 - val_loss: 0.3895 - val_accuracy: 0.8780\n"
     ]
    }
   ],
   "source": [
    "# 설정이 다 되었으면 모델을 학습.\n",
    "history = model.fit(train_generator,\n",
    "          steps_per_epoch=100,\n",
    "          epochs=30,\n",
    "          verbose=1,\n",
    "          validation_data=test_generator,\n",
    "          validation_steps=50)"
   ]
  },
  {
   "cell_type": "code",
   "execution_count": 13,
   "id": "0d5fcc20",
   "metadata": {},
   "outputs": [],
   "source": [
    "import matplotlib.pylab as plt"
   ]
  },
  {
   "cell_type": "code",
   "execution_count": 14,
   "id": "e5db2c74",
   "metadata": {},
   "outputs": [
    {
     "data": {
      "image/png": "[encoded data removed]",
      "text/plain": [
       "<Figure size 864x288 with 2 Axes>"
      ]
     },
     "metadata": {
      "needs_background": "light"
     },
     "output_type": "display_data"
    }
   ],
   "source": [
    "def plot_loss_acc(history, epoch):\n",
    "\n",
    "    loss, val_loss = history.history['loss'], history.history['val_loss']\n",
    "    acc, val_acc = history.history['accuracy'], history.history['val_accuracy']\n",
    "\n",
    "    fig, axes = plt.subplots(1, 2, figsize=(12, 4))\n",
    "\n",
    "    axes[0].plot(range(1, epoch + 1), loss, label='Training')\n",
    "    axes[0].plot(range(1, epoch + 1), val_loss, label='Validation')\n",
    "    axes[0].legend(loc='best')\n",
    "    axes[0].set_title('Loss')\n",
    "\n",
    "    axes[1].plot(range(1, epoch + 1), acc, label='Training')\n",
    "    axes[1].plot(range(1, epoch + 1), val_acc, label='Validation')\n",
    "    axes[1].legend(loc='best')\n",
    "    axes[1].set_title('Accuracy')\n",
    "\n",
    "    plt.show()\n",
    "\n",
    "plot_loss_acc(history, 30)"
   ]
  },
  {
   "cell_type": "code",
   "execution_count": null,
   "id": "edbe3735",
   "metadata": {},
   "outputs": [],
   "source": []
  }
 ],
 "metadata": {
  "kernelspec": {
   "display_name": "Python 3 (ipykernel)",
   "language": "python",
   "name": "python3"
  },
  "language_info": {
   "codemirror_mode": {
    "name": "ipython",
    "version": 3
   },
   "file_extension": ".py",
   "mimetype": "text/x-python",
   "name": "python",
   "nbconvert_exporter": "python",
   "pygments_lexer": "ipython3",
   "version": "3.9.12"
  },
  "latex_envs": {
   "LaTeX_envs_menu_present": true,
   "autoclose": false,
   "autocomplete": true,
   "bibliofile": "biblio.bib",
   "cite_by": "apalike",
   "current_citInitial": 1,
   "eqLabelWithNumbers": true,
   "eqNumInitial": 1,
   "hotkeys": {
    "equation": "Ctrl-E",
    "itemize": "Ctrl-I"
   },
   "labels_anchors": false,
   "latex_user_defs": false,
   "report_style_numbering": false,
   "user_envs_cfg": false
  },
  "nbTranslate": {
   "displayLangs": [
    "*"
   ],
   "hotkey": "",
   "langInMainMenu": true,
   "sourceLang": "en",
   "targetLang": "fr",
   "useGoogleTranslate": true
  },
  "toc": {
   "base_numbering": 1,
   "nav_menu": {},
   "number_sections": false,
   "sideBar": true,
   "skip_h1_title": false,
   "title_cell": "Table of Contents",
   "title_sidebar": "Contents",
   "toc_cell": false,
   "toc_position": {
    "height": "calc(100% - 180px)",
    "left": "10px",
    "top": "150px",
    "width": "241.167px"
   },
   "toc_section_display": true,
   "toc_window_display": false
  },
  "varInspector": {
   "cols": {
    "lenName": 16,
    "lenType": 16,
    "lenVar": 40
   },
   "kernels_config": {
    "python": {
     "delete_cmd_postfix": "",
     "delete_cmd_prefix": "del ",
     "library": "var_list.py",
     "varRefreshCmd": "print(var_dic_list())"
    },
    "r": {
     "delete_cmd_postfix": ") ",
     "delete_cmd_prefix": "rm(",
     "library": "var_list.r",
     "varRefreshCmd": "cat(var_dic_list()) "
    }
   },
   "types_to_exclude": [
    "module",
    "function",
    "builtin_function_or_method",
    "instance",
    "_Feature"
   ],
   "window_display": false
  }
 },
 "nbformat": 4,
 "nbformat_minor": 5
}

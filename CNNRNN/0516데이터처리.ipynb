{
 "cells": [
  {
   "cell_type": "code",
   "execution_count": 1,
   "id": "783ae754",
   "metadata": {},
   "outputs": [],
   "source": [
    "import tensorflow as tf"
   ]
  },
  {
   "cell_type": "code",
   "execution_count": 2,
   "id": "8b200ebb",
   "metadata": {},
   "outputs": [],
   "source": [
    "# 1. MNIST 데이터넷 임포트\n",
    "mnist = tf.keras.datasets.mnist\n",
    "(x_train, y_train), (x_test, y_test) = mnist.load_data()"
   ]
  },
  {
   "cell_type": "code",
   "execution_count": 3,
   "id": "16dbf397",
   "metadata": {},
   "outputs": [],
   "source": [
    "# 2. 데이터 전처리\n",
    "x_train, x_test = x_train/255.0, x_test/255.0"
   ]
  },
  {
   "cell_type": "code",
   "execution_count": 6,
   "id": "b1a2e758",
   "metadata": {},
   "outputs": [],
   "source": [
    "# 3. 모델 구성\n",
    "model = tf.keras.models.Sequential([\n",
    "  tf.keras.layers.Flatten(input_shape=(28, 28)),\n",
    "  tf.keras.layers.Dense(512, activation='relu'),\n",
    "  tf.keras.layers.Dense(10, activation='softmax')\n",
    "])"
   ]
  },
  {
   "cell_type": "code",
   "execution_count": 7,
   "id": "3e6f9419",
   "metadata": {},
   "outputs": [],
   "source": [
    "# 4. 모델 컴파일\n",
    "model.compile(optimizer='adam',\n",
    "            loss='sparse_categorical_crossentropy',\n",
    "            metrics=['accuracy'])"
   ]
  },
  {
   "cell_type": "code",
   "execution_count": 8,
   "id": "cef320b4",
   "metadata": {},
   "outputs": [
    {
     "name": "stdout",
     "output_type": "stream",
     "text": [
      "Epoch 1/2\n",
      "1875/1875 [==============================] - 9s 4ms/step - loss: 0.1999 - accuracy: 0.9408\n",
      "Epoch 2/2\n",
      "1875/1875 [==============================] - 6s 3ms/step - loss: 0.0823 - accuracy: 0.9743\n"
     ]
    }
   ],
   "source": [
    "# 5. 모델 훈련\n",
    "history = model.fit(x_train, y_train, epochs=2, verbose=1)"
   ]
  },
  {
   "cell_type": "code",
   "execution_count": 22,
   "id": "fe761fb5",
   "metadata": {},
   "outputs": [],
   "source": [
    "# 5. 모델 훈련\n",
    "# verbose: Integer. 0, 1, or 2. \n",
    "# Verbosity mode. \n",
    "# 0 = silent, \n",
    "# 1 = progress bar, \n",
    "# 2 = one line per epoch."
   ]
  },
  {
   "cell_type": "code",
   "execution_count": 23,
   "id": "2fc91cab",
   "metadata": {},
   "outputs": [
    {
     "name": "stdout",
     "output_type": "stream",
     "text": [
      "Epoch 1/50\n",
      "50/50 [==============================] - 1s 11ms/step - loss: 0.0025 - accuracy: 0.9997 - val_loss: 0.0652 - val_accuracy: 0.9841\n",
      "Epoch 2/50\n",
      "50/50 [==============================] - 0s 10ms/step - loss: 0.0021 - accuracy: 0.9998 - val_loss: 0.0647 - val_accuracy: 0.9841\n",
      "Epoch 3/50\n",
      "50/50 [==============================] - 1s 10ms/step - loss: 0.0019 - accuracy: 0.9998 - val_loss: 0.0645 - val_accuracy: 0.9845\n",
      "Epoch 4/50\n",
      "50/50 [==============================] - 1s 12ms/step - loss: 0.0017 - accuracy: 0.9999 - val_loss: 0.0644 - val_accuracy: 0.9849\n",
      "Epoch 5/50\n",
      "50/50 [==============================] - 1s 11ms/step - loss: 0.0016 - accuracy: 0.9999 - val_loss: 0.0643 - val_accuracy: 0.9846\n",
      "Epoch 6/50\n",
      "50/50 [==============================] - 0s 10ms/step - loss: 0.0014 - accuracy: 0.9999 - val_loss: 0.0643 - val_accuracy: 0.9848\n",
      "Epoch 7/50\n",
      "50/50 [==============================] - 0s 10ms/step - loss: 0.0013 - accuracy: 0.9999 - val_loss: 0.0642 - val_accuracy: 0.9850\n",
      "Epoch 8/50\n",
      "50/50 [==============================] - 0s 10ms/step - loss: 0.0013 - accuracy: 1.0000 - val_loss: 0.0643 - val_accuracy: 0.9851\n",
      "Epoch 9/50\n",
      "50/50 [==============================] - 0s 10ms/step - loss: 0.0012 - accuracy: 1.0000 - val_loss: 0.0643 - val_accuracy: 0.9851\n",
      "Epoch 10/50\n",
      "50/50 [==============================] - 1s 10ms/step - loss: 0.0011 - accuracy: 1.0000 - val_loss: 0.0644 - val_accuracy: 0.9850\n",
      "Epoch 11/50\n",
      "50/50 [==============================] - 1s 11ms/step - loss: 0.0011 - accuracy: 1.0000 - val_loss: 0.0644 - val_accuracy: 0.9851\n",
      "Epoch 12/50\n",
      "50/50 [==============================] - 0s 10ms/step - loss: 0.0010 - accuracy: 1.0000 - val_loss: 0.0645 - val_accuracy: 0.9850\n",
      "Epoch 13/50\n",
      "50/50 [==============================] - 0s 8ms/step - loss: 0.0010 - accuracy: 1.0000 - val_loss: 0.0645 - val_accuracy: 0.9848\n",
      "Epoch 14/50\n",
      "50/50 [==============================] - 0s 8ms/step - loss: 9.6408e-04 - accuracy: 1.0000 - val_loss: 0.0646 - val_accuracy: 0.9849\n",
      "Epoch 15/50\n",
      "50/50 [==============================] - 1s 15ms/step - loss: 9.2614e-04 - accuracy: 1.0000 - val_loss: 0.0647 - val_accuracy: 0.9849\n",
      "Epoch 16/50\n",
      "50/50 [==============================] - 0s 9ms/step - loss: 8.9195e-04 - accuracy: 1.0000 - val_loss: 0.0647 - val_accuracy: 0.9850\n",
      "Epoch 17/50\n",
      "50/50 [==============================] - 0s 9ms/step - loss: 8.6028e-04 - accuracy: 1.0000 - val_loss: 0.0648 - val_accuracy: 0.9852\n",
      "Epoch 18/50\n",
      "50/50 [==============================] - 1s 11ms/step - loss: 8.3586e-04 - accuracy: 1.0000 - val_loss: 0.0649 - val_accuracy: 0.9851\n",
      "Epoch 19/50\n",
      "50/50 [==============================] - 1s 10ms/step - loss: 8.0610e-04 - accuracy: 1.0000 - val_loss: 0.0650 - val_accuracy: 0.9852\n",
      "Epoch 20/50\n",
      "50/50 [==============================] - 1s 10ms/step - loss: 7.8117e-04 - accuracy: 1.0000 - val_loss: 0.0650 - val_accuracy: 0.9853\n",
      "Epoch 21/50\n",
      "50/50 [==============================] - 1s 12ms/step - loss: 7.5450e-04 - accuracy: 1.0000 - val_loss: 0.0651 - val_accuracy: 0.9854\n",
      "Epoch 22/50\n",
      "50/50 [==============================] - 1s 13ms/step - loss: 7.3341e-04 - accuracy: 1.0000 - val_loss: 0.0652 - val_accuracy: 0.9853\n",
      "Epoch 23/50\n",
      "50/50 [==============================] - 1s 12ms/step - loss: 7.1152e-04 - accuracy: 1.0000 - val_loss: 0.0653 - val_accuracy: 0.9853\n",
      "Epoch 24/50\n",
      "50/50 [==============================] - 1s 12ms/step - loss: 6.8987e-04 - accuracy: 1.0000 - val_loss: 0.0653 - val_accuracy: 0.9854\n",
      "Epoch 25/50\n",
      "50/50 [==============================] - 1s 12ms/step - loss: 6.7076e-04 - accuracy: 1.0000 - val_loss: 0.0654 - val_accuracy: 0.9855\n",
      "Epoch 26/50\n",
      "50/50 [==============================] - 1s 12ms/step - loss: 6.5143e-04 - accuracy: 1.0000 - val_loss: 0.0654 - val_accuracy: 0.9854\n",
      "Epoch 27/50\n",
      "50/50 [==============================] - 1s 12ms/step - loss: 6.3388e-04 - accuracy: 1.0000 - val_loss: 0.0655 - val_accuracy: 0.9855\n",
      "Epoch 28/50\n",
      "50/50 [==============================] - 1s 10ms/step - loss: 6.1565e-04 - accuracy: 1.0000 - val_loss: 0.0656 - val_accuracy: 0.9855\n",
      "Epoch 29/50\n",
      "50/50 [==============================] - 1s 11ms/step - loss: 5.9919e-04 - accuracy: 1.0000 - val_loss: 0.0657 - val_accuracy: 0.9856\n",
      "Epoch 30/50\n",
      "50/50 [==============================] - 1s 10ms/step - loss: 5.8456e-04 - accuracy: 1.0000 - val_loss: 0.0657 - val_accuracy: 0.9855\n",
      "Epoch 31/50\n",
      "50/50 [==============================] - 1s 10ms/step - loss: 5.6848e-04 - accuracy: 1.0000 - val_loss: 0.0658 - val_accuracy: 0.9854\n",
      "Epoch 32/50\n",
      "50/50 [==============================] - 1s 11ms/step - loss: 5.5485e-04 - accuracy: 1.0000 - val_loss: 0.0659 - val_accuracy: 0.9855\n",
      "Epoch 33/50\n",
      "50/50 [==============================] - 1s 10ms/step - loss: 5.4156e-04 - accuracy: 1.0000 - val_loss: 0.0660 - val_accuracy: 0.9855\n",
      "Epoch 34/50\n",
      "50/50 [==============================] - 1s 10ms/step - loss: 5.2804e-04 - accuracy: 1.0000 - val_loss: 0.0660 - val_accuracy: 0.9855\n",
      "Epoch 35/50\n",
      "50/50 [==============================] - 0s 10ms/step - loss: 5.1479e-04 - accuracy: 1.0000 - val_loss: 0.0661 - val_accuracy: 0.9856\n",
      "Epoch 36/50\n",
      "50/50 [==============================] - 1s 10ms/step - loss: 5.0276e-04 - accuracy: 1.0000 - val_loss: 0.0661 - val_accuracy: 0.9855\n",
      "Epoch 37/50\n",
      "50/50 [==============================] - 1s 11ms/step - loss: 4.9113e-04 - accuracy: 1.0000 - val_loss: 0.0663 - val_accuracy: 0.9854\n",
      "Epoch 38/50\n",
      "50/50 [==============================] - 1s 11ms/step - loss: 4.7916e-04 - accuracy: 1.0000 - val_loss: 0.0663 - val_accuracy: 0.9852\n",
      "Epoch 39/50\n",
      "50/50 [==============================] - 0s 10ms/step - loss: 4.6776e-04 - accuracy: 1.0000 - val_loss: 0.0664 - val_accuracy: 0.9853\n",
      "Epoch 40/50\n",
      "50/50 [==============================] - 1s 10ms/step - loss: 4.5756e-04 - accuracy: 1.0000 - val_loss: 0.0665 - val_accuracy: 0.9853\n",
      "Epoch 41/50\n",
      "50/50 [==============================] - 1s 10ms/step - loss: 4.4637e-04 - accuracy: 1.0000 - val_loss: 0.0666 - val_accuracy: 0.9852\n",
      "Epoch 42/50\n",
      "50/50 [==============================] - 1s 11ms/step - loss: 4.3731e-04 - accuracy: 1.0000 - val_loss: 0.0667 - val_accuracy: 0.9851\n",
      "Epoch 43/50\n",
      "50/50 [==============================] - 1s 10ms/step - loss: 4.2677e-04 - accuracy: 1.0000 - val_loss: 0.0667 - val_accuracy: 0.9853\n",
      "Epoch 44/50\n",
      "50/50 [==============================] - 1s 10ms/step - loss: 4.1812e-04 - accuracy: 1.0000 - val_loss: 0.0668 - val_accuracy: 0.9852\n",
      "Epoch 45/50\n",
      "50/50 [==============================] - 1s 10ms/step - loss: 4.0879e-04 - accuracy: 1.0000 - val_loss: 0.0669 - val_accuracy: 0.9854\n",
      "Epoch 46/50\n",
      "50/50 [==============================] - 1s 11ms/step - loss: 3.9896e-04 - accuracy: 1.0000 - val_loss: 0.0670 - val_accuracy: 0.9853\n",
      "Epoch 47/50\n",
      "50/50 [==============================] - 1s 10ms/step - loss: 3.9077e-04 - accuracy: 1.0000 - val_loss: 0.0670 - val_accuracy: 0.9853\n",
      "Epoch 48/50\n",
      "50/50 [==============================] - 1s 11ms/step - loss: 3.8240e-04 - accuracy: 1.0000 - val_loss: 0.0671 - val_accuracy: 0.9854\n",
      "Epoch 49/50\n",
      "50/50 [==============================] - 1s 11ms/step - loss: 3.7365e-04 - accuracy: 1.0000 - val_loss: 0.0673 - val_accuracy: 0.9855\n",
      "Epoch 50/50\n",
      "50/50 [==============================] - 1s 11ms/step - loss: 3.6635e-04 - accuracy: 1.0000 - val_loss: 0.0674 - val_accuracy: 0.9854\n"
     ]
    }
   ],
   "source": [
    "history = model.fit(x_train, y_train,\n",
    "                    validation_data=(x_test,y_test), \n",
    "                    steps_per_epoch=50,\n",
    "                    validation_steps=50,\n",
    "                    epochs=50, verbose=1)"
   ]
  },
  {
   "cell_type": "code",
   "execution_count": 24,
   "id": "ac80f9ba",
   "metadata": {},
   "outputs": [],
   "source": [
    "# 6. 모델 저장\n",
    "model.save('model1.h5')"
   ]
  },
  {
   "cell_type": "code",
   "execution_count": 25,
   "id": "f61ac30e",
   "metadata": {},
   "outputs": [
    {
     "name": "stdout",
     "output_type": "stream",
     "text": [
      "Model: \"sequential\"\n",
      "_________________________________________________________________\n",
      "Layer (type)                 Output Shape              Param #   \n",
      "=================================================================\n",
      "flatten (Flatten)            (None, 784)               0         \n",
      "_________________________________________________________________\n",
      "dense (Dense)                (None, 512)               401920    \n",
      "_________________________________________________________________\n",
      "dense_1 (Dense)              (None, 10)                5130      \n",
      "=================================================================\n",
      "Total params: 407,050\n",
      "Trainable params: 407,050\n",
      "Non-trainable params: 0\n",
      "_________________________________________________________________\n"
     ]
    }
   ],
   "source": [
    "model.summary()"
   ]
  },
  {
   "cell_type": "code",
   "execution_count": 26,
   "id": "b26eada0",
   "metadata": {},
   "outputs": [],
   "source": [
    "import matplotlib.pyplot as plt"
   ]
  },
  {
   "cell_type": "code",
   "execution_count": 27,
   "id": "5682d018",
   "metadata": {},
   "outputs": [],
   "source": [
    "acc = history.history['accuracy']\n",
    "loss =  history.history['loss']\n",
    "val_acc =  history.history['val_accuracy']\n",
    "val_loss = history.history['val_loss']"
   ]
  },
  {
   "cell_type": "code",
   "execution_count": 31,
   "id": "13c7dbbc",
   "metadata": {},
   "outputs": [],
   "source": [
    "# acc"
   ]
  },
  {
   "cell_type": "code",
   "execution_count": 29,
   "id": "31d79067",
   "metadata": {},
   "outputs": [],
   "source": [
    "epochs = range(len(acc))"
   ]
  },
  {
   "cell_type": "code",
   "execution_count": 30,
   "id": "b5e3fa20",
   "metadata": {},
   "outputs": [
    {
     "data": {
      "image/png": "[encoded data removed]",
      "text/plain": [
       "<Figure size 432x288 with 1 Axes>"
      ]
     },
     "metadata": {
      "needs_background": "light"
     },
     "output_type": "display_data"
    },
    {
     "data": {
      "image/png": "[encoded data removed]",
      "text/plain": [
       "<Figure size 432x288 with 1 Axes>"
      ]
     },
     "metadata": {
      "needs_background": "light"
     },
     "output_type": "display_data"
    }
   ],
   "source": [
    "plt.plot(epochs, acc, 'bo', label='Training accuracy')\n",
    "plt.plot(epochs, val_acc, 'b', label='Validation accuracy')\n",
    "plt.title('Training and validation accuracy')\n",
    "plt.legend()\n",
    "\n",
    "plt.figure()\n",
    "\n",
    "plt.plot(epochs, loss, 'bo', label='Training loss')\n",
    "plt.plot(epochs, val_loss, 'b', label='Validation loss')\n",
    "plt.title('Training and validation loss')\n",
    "\n",
    "plt.legend()\n",
    "\n",
    "plt.show()"
   ]
  },
  {
   "cell_type": "code",
   "execution_count": null,
   "id": "882d19d4",
   "metadata": {},
   "outputs": [],
   "source": []
  },
  {
   "cell_type": "code",
   "execution_count": null,
   "id": "a8954c4f",
   "metadata": {},
   "outputs": [],
   "source": []
  },
  {
   "cell_type": "code",
   "execution_count": null,
   "id": "8a0287d8",
   "metadata": {},
   "outputs": [],
   "source": []
  },
  {
   "cell_type": "code",
   "execution_count": null,
   "id": "9f0bda3a",
   "metadata": {},
   "outputs": [],
   "source": [
    "통계학 regression 회귀 "
   ]
  },
  {
   "cell_type": "code",
   "execution_count": null,
   "id": "08f1d5e7",
   "metadata": {},
   "outputs": [],
   "source": []
  },
  {
   "cell_type": "code",
   "execution_count": 3,
   "id": "06abf2c6",
   "metadata": {},
   "outputs": [
    {
     "name": "stdout",
     "output_type": "stream",
     "text": [
      "Num GPUs Available:  0\n",
      "2.8.0\n"
     ]
    },
    {
     "data": {
      "text/plain": [
       "'3.9.7 (default, Sep 16 2021, 16:59:28) [MSC v.1916 64 bit (AMD64)]'"
      ]
     },
     "execution_count": 3,
     "metadata": {},
     "output_type": "execute_result"
    }
   ],
   "source": [
    "import tensorflow as tf\n",
    "from tensorflow import keras\n",
    "\n",
    "print(\"Num GPUs Available: \", len(tf.config.experimental.list_physical_devices('GPU')))\n",
    "# Num GPUs Available: 1 이상의 숫자가 나오면 성공. 나는 외장 GPU가 하나라서 1로 출력된다.\n",
    "# 만약 계속 0으로 뜬다면, 이 방법을 따라하기 전에 본인 컴퓨터에 외장 GPU가 깔려있나 확인해보자\n",
    "\n",
    "tf.test.is_built_with_cuda()\n",
    "# True라고 나오면 성공\n",
    "\n",
    "print(tf.version.VERSION)\n",
    "# tensorflow 버전명이 정상 출력되면 성공. 내 경우는 2.1.0이다\n",
    "\n",
    "import sys\n",
    "sys.version"
   ]
  },
  {
   "cell_type": "code",
   "execution_count": 5,
   "id": "647d524e",
   "metadata": {},
   "outputs": [
    {
     "data": {
      "text/plain": [
       "[]"
      ]
     },
     "execution_count": 5,
     "metadata": {},
     "output_type": "execute_result"
    }
   ],
   "source": [
    "tf.config.experimental.list_physical_devices('GPU')\n"
   ]
  },
  {
   "cell_type": "code",
   "execution_count": 7,
   "id": "94056546",
   "metadata": {},
   "outputs": [
    {
     "data": {
      "text/plain": [
       "''"
      ]
     },
     "execution_count": 7,
     "metadata": {},
     "output_type": "execute_result"
    }
   ],
   "source": [
    "tf.test.gpu_device_name()"
   ]
  },
  {
   "cell_type": "code",
   "execution_count": 3,
   "id": "d576e499",
   "metadata": {},
   "outputs": [],
   "source": [
    "import pandas as pd \n",
    "df = pd.read_csv(\"C:/Users/user/Downloads/mnist_train.csv/mnist_train.csv\")\n",
    "df.head()"
   ]
  },
  {
   "cell_type": "code",
   "execution_count": 19,
   "id": "3f0b9633",
   "metadata": {},
   "outputs": [],
   "source": [
    "import numpy as np \n",
    "import tensorflow as tf # 텐서 플로우 기본 임포트\n",
    "from tensorflow.keras.models import Sequential # 모델 박스\n",
    "from tensorflow.keras.layers import Flatten, Dense # 모델박스 정의 인풋레이어 아웃풋 레이어 정의하기 \n",
    "from tensorflow.keras.optimizers import SGD       #옵티마이저 알고리즘 담당\n",
    "from sklearn.model_selection import train_test_split # 트레인 테스트 분리\n",
    "from sklearn.preprocessing import MinMaxScaler # 큰 숫자를 작은 숫자로 변경 -1~ +1까지 \n",
    "from tensorflow.keras.layers import Conv2D, MaxPooling2D # cnn"
   ]
  },
  {
   "cell_type": "code",
   "execution_count": 36,
   "id": "1951ed6e",
   "metadata": {
    "scrolled": true
   },
   "outputs": [],
   "source": [
    "y_data = df['label']\n",
    "x_data = df.drop('label', axis = 1)"
   ]
  },
  {
   "cell_type": "code",
   "execution_count": 38,
   "id": "dd97d8c5",
   "metadata": {},
   "outputs": [],
   "source": [
    "# 픽셀 데이터 정규화 하는데, 정규화 (0~1 사이의 실수로 변환 )\n",
    "scaler = MinMaxScaler() # 객체 생성 \n",
    "scaler.fit(x_data) # r객체학습\n",
    "norm_x_data = scaler.transform(x_data) #scaler 사용해서 실제 갑을 변환 "
   ]
  },
  {
   "cell_type": "code",
   "execution_count": 41,
   "id": "b22d40f8",
   "metadata": {},
   "outputs": [],
   "source": [
    "x_train,x_test,y_train,y_test = train_test_split(norm_x_data,y_data,test_size = 0.3)"
   ]
  },
  {
   "cell_type": "code",
   "execution_count": 92,
   "id": "c2b56d87",
   "metadata": {},
   "outputs": [],
   "source": [
    "model = Sequential()\n",
    "model.add(Conv2D(\n",
    "    filters=32,\n",
    "    kernel_size = (3,3),\n",
    "    strides= (1,1),\n",
    "    activation = 'relu',\n",
    "    input_shape=(28, 28, 1))) "
   ]
  },
  {
   "cell_type": "code",
   "execution_count": 93,
   "id": "9cb00517",
   "metadata": {},
   "outputs": [],
   "source": [
    "model.add(Conv2D(\n",
    "    filters=64,\n",
    "    kernel_size = (3,3),\n",
    "    strides= (1,1),\n",
    "    activation = 'relu'\n",
    "    )) "
   ]
  },
  {
   "cell_type": "code",
   "execution_count": 86,
   "id": "fc499ec7",
   "metadata": {},
   "outputs": [],
   "source": [
    "model.add(MaxPooling2D(pool_size = (2,2)))"
   ]
  },
  {
   "cell_type": "code",
   "execution_count": 87,
   "id": "fc746168",
   "metadata": {},
   "outputs": [],
   "source": []
  },
  {
   "cell_type": "code",
   "execution_count": null,
   "id": "4687235d",
   "metadata": {},
   "outputs": [],
   "source": [
    "model.add(Dense(units))"
   ]
  },
  {
   "cell_type": "code",
   "execution_count": 89,
   "id": "e0dcbda1",
   "metadata": {},
   "outputs": [
    {
     "ename": "SyntaxError",
     "evalue": "unexpected EOF while parsing (Temp/ipykernel_9344/1435991563.py, line 2)",
     "output_type": "error",
     "traceback": [
      "\u001b[1;36m  File \u001b[1;32m\"C:\\Users\\user\\AppData\\Local\\Temp/ipykernel_9344/1435991563.py\"\u001b[1;36m, line \u001b[1;32m2\u001b[0m\n\u001b[1;33m    model.add(Dense(units=10, activation = 'softmax')\u001b[0m\n\u001b[1;37m                                                     ^\u001b[0m\n\u001b[1;31mSyntaxError\u001b[0m\u001b[1;31m:\u001b[0m unexpected EOF while parsing\n"
     ]
    }
   ],
   "source": [
    "# 아웃풋\n",
    "model.add(Dense(units=10, activation = 'softmax')"
   ]
  },
  {
   "cell_type": "code",
   "execution_count": 70,
   "id": "3d629303",
   "metadata": {},
   "outputs": [],
   "source": [
    "model.add(Dense(units))"
   ]
  },
  {
   "cell_type": "code",
   "execution_count": 71,
   "id": "1238d29f",
   "metadata": {},
   "outputs": [],
   "source": [
    "model.add(Flatten())"
   ]
  },
  {
   "cell_type": "code",
   "execution_count": null,
   "id": "75a989c9",
   "metadata": {},
   "outputs": [],
   "source": []
  },
  {
   "cell_type": "code",
   "execution_count": 60,
   "id": "67678627",
   "metadata": {},
   "outputs": [],
   "source": [
    "\n"
   ]
  },
  {
   "cell_type": "code",
   "execution_count": 63,
   "id": "005d1fd2",
   "metadata": {},
   "outputs": [],
   "source": [
    "# wjscp 4차원에서 2차원으로 "
   ]
  },
  {
   "cell_type": "code",
   "execution_count": 46,
   "id": "d8ad674f",
   "metadata": {},
   "outputs": [],
   "source": [
    "#  DNN flatten 으로 풀엇어 ,그러나 cnn은 3차원으로 들어와 28,28 g하나가 들어간다는것"
   ]
  },
  {
   "cell_type": "code",
   "execution_count": 47,
   "id": "b47741ad",
   "metadata": {},
   "outputs": [],
   "source": [
    "# fc layer (dnn) 의 imput layer 필요해 "
   ]
  },
  {
   "cell_type": "code",
   "execution_count": 78,
   "id": "777e51e8",
   "metadata": {},
   "outputs": [],
   "source": [
    "# 은닉층\n"
   ]
  },
  {
   "cell_type": "code",
   "execution_count": 80,
   "id": "a1d97f52",
   "metadata": {},
   "outputs": [
    {
     "ename": "SyntaxError",
     "evalue": "unexpected EOF while parsing (Temp/ipykernel_9344/123097312.py, line 2)",
     "output_type": "error",
     "traceback": [
      "\u001b[1;36m  File \u001b[1;32m\"C:\\Users\\user\\AppData\\Local\\Temp/ipykernel_9344/123097312.py\"\u001b[1;36m, line \u001b[1;32m2\u001b[0m\n\u001b[1;33m    model.add(Dense(units=10, activation = 'softmax')\u001b[0m\n\u001b[1;37m                                                     ^\u001b[0m\n\u001b[1;31mSyntaxError\u001b[0m\u001b[1;31m:\u001b[0m unexpected EOF while parsing\n"
     ]
    }
   ],
   "source": []
  },
  {
   "cell_type": "code",
   "execution_count": 82,
   "id": "f135bbaf",
   "metadata": {},
   "outputs": [],
   "source": [
    "# 모델 어떻게 동작하는지 지정 컴파일\n",
    "compile\n",
    "model.compile(optimizer = SGD(learning_rate = 0.0001), loss = 'sparse_categorical_crossentropy',metrics = ['accuracy'])"
   ]
  },
  {
   "cell_type": "code",
   "execution_count": 83,
   "id": "880823b0",
   "metadata": {},
   "outputs": [
    {
     "name": "stdout",
     "output_type": "stream",
     "text": [
      "Epoch 1/50\n"
     ]
    },
    {
     "ename": "ValueError",
     "evalue": "in user code:\n\n    File \"C:\\ProgramData\\Anaconda3\\lib\\site-packages\\keras\\engine\\training.py\", line 1021, in train_function  *\n        return step_function(self, iterator)\n    File \"C:\\ProgramData\\Anaconda3\\lib\\site-packages\\keras\\engine\\training.py\", line 1010, in step_function  **\n        outputs = model.distribute_strategy.run(run_step, args=(data,))\n    File \"C:\\ProgramData\\Anaconda3\\lib\\site-packages\\keras\\engine\\training.py\", line 1000, in run_step  **\n        outputs = model.train_step(data)\n    File \"C:\\ProgramData\\Anaconda3\\lib\\site-packages\\keras\\engine\\training.py\", line 859, in train_step\n        y_pred = self(x, training=True)\n    File \"C:\\ProgramData\\Anaconda3\\lib\\site-packages\\keras\\utils\\traceback_utils.py\", line 67, in error_handler\n        raise e.with_traceback(filtered_tb) from None\n    File \"C:\\ProgramData\\Anaconda3\\lib\\site-packages\\keras\\engine\\input_spec.py\", line 264, in assert_input_compatibility\n        raise ValueError(f'Input {input_index} of layer \"{layer_name}\" is '\n\n    ValueError: Input 0 of layer \"sequential_5\" is incompatible with the layer: expected shape=(None, 28, 28, 1), found shape=(32, 784)\n",
     "output_type": "error",
     "traceback": [
      "\u001b[1;31m---------------------------------------------------------------------------\u001b[0m",
      "\u001b[1;31mValueError\u001b[0m                                Traceback (most recent call last)",
      "\u001b[1;32m~\\AppData\\Local\\Temp/ipykernel_9344/2663946917.py\u001b[0m in \u001b[0;36m<module>\u001b[1;34m\u001b[0m\n\u001b[0;32m      1\u001b[0m \u001b[1;31m# 설정을 모두 마쳤으면 예측 하고 비교 !\u001b[0m\u001b[1;33m\u001b[0m\u001b[1;33m\u001b[0m\u001b[0m\n\u001b[1;32m----> 2\u001b[1;33m \u001b[0mmodel\u001b[0m\u001b[1;33m.\u001b[0m\u001b[0mfit\u001b[0m\u001b[1;33m(\u001b[0m\u001b[0mx_train\u001b[0m\u001b[1;33m,\u001b[0m \u001b[0my_train\u001b[0m\u001b[1;33m,\u001b[0m \u001b[0mepochs\u001b[0m \u001b[1;33m=\u001b[0m \u001b[1;36m50\u001b[0m \u001b[1;33m,\u001b[0m \u001b[0mverbose\u001b[0m\u001b[1;33m=\u001b[0m\u001b[1;36m1\u001b[0m \u001b[1;33m,\u001b[0m \u001b[0mvalidation_split\u001b[0m \u001b[1;33m=\u001b[0m \u001b[1;36m0.2\u001b[0m \u001b[1;33m)\u001b[0m\u001b[1;33m\u001b[0m\u001b[1;33m\u001b[0m\u001b[0m\n\u001b[0m",
      "\u001b[1;32mC:\\ProgramData\\Anaconda3\\lib\\site-packages\\keras\\utils\\traceback_utils.py\u001b[0m in \u001b[0;36merror_handler\u001b[1;34m(*args, **kwargs)\u001b[0m\n\u001b[0;32m     65\u001b[0m     \u001b[1;32mexcept\u001b[0m \u001b[0mException\u001b[0m \u001b[1;32mas\u001b[0m \u001b[0me\u001b[0m\u001b[1;33m:\u001b[0m  \u001b[1;31m# pylint: disable=broad-except\u001b[0m\u001b[1;33m\u001b[0m\u001b[1;33m\u001b[0m\u001b[0m\n\u001b[0;32m     66\u001b[0m       \u001b[0mfiltered_tb\u001b[0m \u001b[1;33m=\u001b[0m \u001b[0m_process_traceback_frames\u001b[0m\u001b[1;33m(\u001b[0m\u001b[0me\u001b[0m\u001b[1;33m.\u001b[0m\u001b[0m__traceback__\u001b[0m\u001b[1;33m)\u001b[0m\u001b[1;33m\u001b[0m\u001b[1;33m\u001b[0m\u001b[0m\n\u001b[1;32m---> 67\u001b[1;33m       \u001b[1;32mraise\u001b[0m \u001b[0me\u001b[0m\u001b[1;33m.\u001b[0m\u001b[0mwith_traceback\u001b[0m\u001b[1;33m(\u001b[0m\u001b[0mfiltered_tb\u001b[0m\u001b[1;33m)\u001b[0m \u001b[1;32mfrom\u001b[0m \u001b[1;32mNone\u001b[0m\u001b[1;33m\u001b[0m\u001b[1;33m\u001b[0m\u001b[0m\n\u001b[0m\u001b[0;32m     68\u001b[0m     \u001b[1;32mfinally\u001b[0m\u001b[1;33m:\u001b[0m\u001b[1;33m\u001b[0m\u001b[1;33m\u001b[0m\u001b[0m\n\u001b[0;32m     69\u001b[0m       \u001b[1;32mdel\u001b[0m \u001b[0mfiltered_tb\u001b[0m\u001b[1;33m\u001b[0m\u001b[1;33m\u001b[0m\u001b[0m\n",
      "\u001b[1;32mC:\\ProgramData\\Anaconda3\\lib\\site-packages\\tensorflow\\python\\framework\\func_graph.py\u001b[0m in \u001b[0;36mautograph_handler\u001b[1;34m(*args, **kwargs)\u001b[0m\n\u001b[0;32m   1145\u001b[0m           \u001b[1;32mexcept\u001b[0m \u001b[0mException\u001b[0m \u001b[1;32mas\u001b[0m \u001b[0me\u001b[0m\u001b[1;33m:\u001b[0m  \u001b[1;31m# pylint:disable=broad-except\u001b[0m\u001b[1;33m\u001b[0m\u001b[1;33m\u001b[0m\u001b[0m\n\u001b[0;32m   1146\u001b[0m             \u001b[1;32mif\u001b[0m \u001b[0mhasattr\u001b[0m\u001b[1;33m(\u001b[0m\u001b[0me\u001b[0m\u001b[1;33m,\u001b[0m \u001b[1;34m\"ag_error_metadata\"\u001b[0m\u001b[1;33m)\u001b[0m\u001b[1;33m:\u001b[0m\u001b[1;33m\u001b[0m\u001b[1;33m\u001b[0m\u001b[0m\n\u001b[1;32m-> 1147\u001b[1;33m               \u001b[1;32mraise\u001b[0m \u001b[0me\u001b[0m\u001b[1;33m.\u001b[0m\u001b[0mag_error_metadata\u001b[0m\u001b[1;33m.\u001b[0m\u001b[0mto_exception\u001b[0m\u001b[1;33m(\u001b[0m\u001b[0me\u001b[0m\u001b[1;33m)\u001b[0m\u001b[1;33m\u001b[0m\u001b[1;33m\u001b[0m\u001b[0m\n\u001b[0m\u001b[0;32m   1148\u001b[0m             \u001b[1;32melse\u001b[0m\u001b[1;33m:\u001b[0m\u001b[1;33m\u001b[0m\u001b[1;33m\u001b[0m\u001b[0m\n\u001b[0;32m   1149\u001b[0m               \u001b[1;32mraise\u001b[0m\u001b[1;33m\u001b[0m\u001b[1;33m\u001b[0m\u001b[0m\n",
      "\u001b[1;31mValueError\u001b[0m: in user code:\n\n    File \"C:\\ProgramData\\Anaconda3\\lib\\site-packages\\keras\\engine\\training.py\", line 1021, in train_function  *\n        return step_function(self, iterator)\n    File \"C:\\ProgramData\\Anaconda3\\lib\\site-packages\\keras\\engine\\training.py\", line 1010, in step_function  **\n        outputs = model.distribute_strategy.run(run_step, args=(data,))\n    File \"C:\\ProgramData\\Anaconda3\\lib\\site-packages\\keras\\engine\\training.py\", line 1000, in run_step  **\n        outputs = model.train_step(data)\n    File \"C:\\ProgramData\\Anaconda3\\lib\\site-packages\\keras\\engine\\training.py\", line 859, in train_step\n        y_pred = self(x, training=True)\n    File \"C:\\ProgramData\\Anaconda3\\lib\\site-packages\\keras\\utils\\traceback_utils.py\", line 67, in error_handler\n        raise e.with_traceback(filtered_tb) from None\n    File \"C:\\ProgramData\\Anaconda3\\lib\\site-packages\\keras\\engine\\input_spec.py\", line 264, in assert_input_compatibility\n        raise ValueError(f'Input {input_index} of layer \"{layer_name}\" is '\n\n    ValueError: Input 0 of layer \"sequential_5\" is incompatible with the layer: expected shape=(None, 28, 28, 1), found shape=(32, 784)\n"
     ]
    }
   ],
   "source": [
    "# 설정을 모두 마쳤으면 예측 하고 비교 ! \n",
    "model.fit(x_train, y_train, epochs = 50 , verbose=1 , validation_split = 0.2 )"
   ]
  },
  {
   "cell_type": "code",
   "execution_count": null,
   "id": "b86d479f",
   "metadata": {},
   "outputs": [],
   "source": []
  },
  {
   "cell_type": "code",
   "execution_count": null,
   "id": "3e6a7a97-ba05-4bf6-8788-cb3eda8afec0",
   "metadata": {},
   "outputs": [],
   "source": [
    "cnn 쉽게 이해하기 "
   ]
  },
  {
   "cell_type": "code",
   "execution_count": null,
   "id": "9292eede-9a9a-43bb-9b85-152c432b919c",
   "metadata": {},
   "outputs": [],
   "source": [
    "이미지를 위해서 합성곱을 했다. 문제는  dnn의 문제부터 출발 \n",
    "중요한 이미지 디덱트 , 긴부리 , 새라는 것은 짧은 것을 가지는 경우도 있다. / 위에 있는 새 부리 중간에 있는 색부리 28행 28열"
   ]
  },
  {
   "cell_type": "code",
   "execution_count": null,
   "id": "06bc390f-380f-44f4-8a49-8664ac23e4d6",
   "metadata": {},
   "outputs": [],
   "source": [
    "숫자가 들어가 있어 0~ 255까지 있음 , / 5 x 5 = "
   ]
  },
  {
   "cell_type": "code",
   "execution_count": null,
   "id": "c329befe-06f8-49b8-a4ef-0ad42c3525df",
   "metadata": {},
   "outputs": [],
   "source": [
    "필터와 커널은 동일하다 . 필터라는 것을 101 010 101 / "
   ]
  },
  {
   "cell_type": "code",
   "execution_count": null,
   "id": "a0a01559-b27e-460e-a4d3-3b6ec8601a0c",
   "metadata": {},
   "outputs": [],
   "source": [
    "행렬을 곱해 , 둘이 곱해 , 1,*1 +0+1 /움직여서 한다 , .."
   ]
  },
  {
   "cell_type": "code",
   "execution_count": null,
   "id": "f5dfeaed-2f29-469c-8cea-bfb32150db9e",
   "metadata": {},
   "outputs": [],
   "source": [
    "5행 5열 3행 3열의 결과로 필터 스트라이빙 적용한 합성곱 , / "
   ]
  },
  {
   "cell_type": "code",
   "execution_count": null,
   "id": "3839b960-e944-4cec-b1c0-71db611063b2",
   "metadata": {},
   "outputs": [],
   "source": [
    "r dp eogksrjt , g b 리절트 합해서 하나로 차원을 만든다. "
   ]
  },
  {
   "cell_type": "code",
   "execution_count": null,
   "id": "0c9732ce-c6ab-4ca8-a47a-5ab67cb75fff",
   "metadata": {},
   "outputs": [],
   "source": [
    "갈수록 사이즈가 줄어든다 .10개정도 필터가 필요함 입력값이 10개라 10개 필요함 . "
   ]
  },
  {
   "cell_type": "code",
   "execution_count": null,
   "id": "6c1d882d-b8ad-4c53-8222-3a4fcd4f434f",
   "metadata": {},
   "outputs": [],
   "source": [
    "풀링, 맥스풀링 , 그리고 평균풀링 ,\n",
    "특징들만 골라서 , 학습 !  \n",
    "\n",
    "1자는 / 불러와서 ,, 한다 , 사이징 한 결과 줄어 들어 , 또다시 풀링하고 ,4차원이 발생\n",
    "2차원으로 펼쳐서 가야 해서 리에십해야한다 ."
   ]
  },
  {
   "cell_type": "code",
   "execution_count": null,
   "id": "91cb45f7-ed30-473e-ac30-7ce1f17186e0",
   "metadata": {},
   "outputs": [],
   "source": []
  },
  {
   "cell_type": "code",
   "execution_count": null,
   "id": "766f00e1-62f0-4486-a70e-0d0158b7a5ee",
   "metadata": {},
   "outputs": [],
   "source": []
  },
  {
   "cell_type": "code",
   "execution_count": null,
   "id": "d66e1023-d957-41da-b40f-b7ce9375eb68",
   "metadata": {},
   "outputs": [],
   "source": []
  },
  {
   "cell_type": "code",
   "execution_count": null,
   "id": "4c9ffc9c-7afe-4aea-a1f4-84531aba78d0",
   "metadata": {},
   "outputs": [],
   "source": []
  }
 ],
 "metadata": {
  "hide_input": false,
  "kernelspec": {
   "display_name": "Python 3 (ipykernel)",
   "language": "python",
   "name": "python3"
  },
  "language_info": {
   "codemirror_mode": {
    "name": "ipython",
    "version": 3
   },
   "file_extension": ".py",
   "mimetype": "text/x-python",
   "name": "python",
   "nbconvert_exporter": "python",
   "pygments_lexer": "ipython3",
   "version": "3.9.12"
  },
  "latex_envs": {
   "LaTeX_envs_menu_present": true,
   "autoclose": false,
   "autocomplete": true,
   "bibliofile": "biblio.bib",
   "cite_by": "apalike",
   "current_citInitial": 1,
   "eqLabelWithNumbers": true,
   "eqNumInitial": 1,
   "hotkeys": {
    "equation": "Ctrl-E",
    "itemize": "Ctrl-I"
   },
   "labels_anchors": false,
   "latex_user_defs": false,
   "report_style_numbering": false,
   "user_envs_cfg": false
  },
  "nbTranslate": {
   "displayLangs": [
    "*"
   ],
   "hotkey": "",
   "langInMainMenu": true,
   "sourceLang": "en",
   "targetLang": "fr",
   "useGoogleTranslate": true
  },
  "toc": {
   "base_numbering": 1,
   "nav_menu": {},
   "number_sections": true,
   "sideBar": true,
   "skip_h1_title": false,
   "title_cell": "Table of Contents",
   "title_sidebar": "Contents",
   "toc_cell": false,
   "toc_position": {},
   "toc_section_display": true,
   "toc_window_display": false
  },
  "toc-autonumbering": true,
  "varInspector": {
   "cols": {
    "lenName": 16,
    "lenType": 16,
    "lenVar": 40
   },
   "kernels_config": {
    "python": {
     "delete_cmd_postfix": "",
     "delete_cmd_prefix": "del ",
     "library": "var_list.py",
     "varRefreshCmd": "print(var_dic_list())"
    },
    "r": {
     "delete_cmd_postfix": ") ",
     "delete_cmd_prefix": "rm(",
     "library": "var_list.r",
     "varRefreshCmd": "cat(var_dic_list()) "
    }
   },
   "types_to_exclude": [
    "module",
    "function",
    "builtin_function_or_method",
    "instance",
    "_Feature"
   ],
   "window_display": false
  }
 },
 "nbformat": 4,
 "nbformat_minor": 5
}

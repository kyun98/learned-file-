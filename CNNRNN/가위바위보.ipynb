{
 "cells": [
  {
   "cell_type": "code",
   "execution_count": 1,
   "id": "352d6804-118c-4f99-bae3-cc0d673438e9",
   "metadata": {},
   "outputs": [],
   "source": [
    "import numpy as np\n",
    "import tensorflow        # tensorflow 기본\n",
    "from tensorflow.keras.models import Sequential   # 모델 BOX 정의\n",
    "from tensorflow.keras.layers import Flatten, Dense   # 모델 BOX Input Layer, Output layer\n",
    "from tensorflow.keras.layers import Conv2D, MaxPooling2D, Dropout\n",
    "from tensorflow.keras.optimizers import Adam   # 알고리즘 담당\n",
    "from sklearn.model_selection import train_test_split   # train, test 데이터를 분리\n",
    "from tensorflow.keras.preprocessing.image import ImageDataGenerator   # 데이터 정규화  - 큰숮자를 작은 숫자로 변경 (-1 ~ 1)\n"
   ]
  },
  {
   "cell_type": "code",
   "execution_count": 2,
   "id": "22d3847b-8e91-41ca-8c5e-43439e72a825",
   "metadata": {},
   "outputs": [],
   "source": [
    "data = ImageDataGenerator(rescale = 1./255,\n",
    "                         #rotation_range = 40, \n",
    "                         #width_shift_range = 0.2,\n",
    "                         #height_shift_range = 0.2,\n",
    "                         #shear_range = 0.2,\n",
    "                         #zoom_range = 0.2,\n",
    "                         #horizontal_flip = True,\n",
    "                         #fill_mode = 'nearest',\n",
    "                         validation_split = 0.2)\n",
    " \n",
    "\n",
    "data_dir = './data/data/'"
   ]
  },
  {
   "cell_type": "code",
   "execution_count": 3,
   "id": "8394951c-12ec-4e88-aa51-4c49815f5a8c",
   "metadata": {},
   "outputs": [
    {
     "name": "stdout",
     "output_type": "stream",
     "text": [
      "Found 2316 images belonging to 3 classes.\n"
     ]
    }
   ],
   "source": [
    "data_generator = data.flow_from_directory(data_dir,\n",
    "batch_size = 128,\n",
    "classes=['rock', 'scissors','paper'],\n",
    "target_size = (150, 150),\n",
    "class_mode = 'categorical',\n",
    "subset = 'training', )\n"
   ]
  },
  {
   "cell_type": "code",
   "execution_count": 4,
   "id": "d6f3991b-b9d8-49b2-84b6-a2f0fd2fac7c",
   "metadata": {},
   "outputs": [
    {
     "name": "stdout",
     "output_type": "stream",
     "text": [
      "Found 2892 images belonging to 3 classes.\n"
     ]
    }
   ],
   "source": [
    "data_generator = data.flow_from_directory(\n",
    "    data_dir,  #  학습요 이미지 폴더 \n",
    "    classes=['rock', 'scissors','paper'] , # cats 포디 이미지 label을 0으로 # dogs 폴터의 이미지는  label을 1로 가져간다 .\n",
    "    target_size=(150,150) ,     # 이미지를 리사이즈 \n",
    "    batch_size = 20 ,         # 한번에 20개의 이미지만  가져온다.  \n",
    "    class_mode='categorical', # 분류 \n",
    ") # 학습용 이미지를 가져올 폴더 "
   ]
  },
  {
   "cell_type": "code",
   "execution_count": 5,
   "id": "22598b1a-08aa-486a-b5d2-250a1ebf810d",
   "metadata": {},
   "outputs": [],
   "source": [
    "model = Sequential([\n",
    "   Conv2D(64, (3, 3), activation='relu', input_shape=(150, 150, 3)),\n",
    "   MaxPooling2D(2, 2),\n",
    "   Conv2D(64, (3, 3), activation='relu'),\n",
    "   MaxPooling2D(2, 2),\n",
    "   Conv2D(128, (3, 3), activation='relu'),\n",
    "   MaxPooling2D(2, 2),\n",
    "   Conv2D(128, (3, 3), activation='relu'),\n",
    "   MaxPooling2D(2, 2),\n",
    "   Flatten(), # 2D -> 1D 변환 \n",
    "   Dropout(0.5), # 과적합 방지를 위한 Dropout  \n",
    "   Dense(512, activation='relu'),\n",
    "   Dense(3, activation='softmax'),\n",
    "]) \n"
   ]
  },
  {
   "cell_type": "code",
   "execution_count": 6,
   "id": "c1efa951-bf46-41ee-8dc0-d1a40eade5dd",
   "metadata": {},
   "outputs": [],
   "source": [
    "model.add(Flatten()) \n",
    "\n",
    "model.compile(optimizer=Adam(learning_rate=1e-4),\n",
    "              loss='categorical_crossentropy',\n",
    "              metrics=['accuracy'])"
   ]
  },
  {
   "cell_type": "code",
   "execution_count": 7,
   "id": "055dd09c-74ae-4ed0-bf8b-dfdcc39e9c7c",
   "metadata": {},
   "outputs": [
    {
     "name": "stdout",
     "output_type": "stream",
     "text": [
      "100/100 [==============================] - 35s 339ms/step - loss: 1.0910 - accuracy: 0.3565\n"
     ]
    }
   ],
   "source": [
    "history = model.fit(data_generator,\n",
    "        steps_per_epoch=100,\n",
    "         epochs=1,\n",
    "         verbose=1,\n",
    "         validation_steps=50)"
   ]
  },
  {
   "cell_type": "code",
   "execution_count": 21,
   "id": "4a21de90-efe9-411d-b0b4-223bf193bcd4",
   "metadata": {},
   "outputs": [],
   "source": []
  },
  {
   "cell_type": "code",
   "execution_count": null,
   "id": "c8a9e5fc-534a-493f-94dd-30ee549ebea8",
   "metadata": {},
   "outputs": [],
   "source": []
  },
  {
   "cell_type": "code",
   "execution_count": null,
   "id": "b611c70a-fcd2-4bbd-be06-292b6230f5bd",
   "metadata": {},
   "outputs": [],
   "source": []
  },
  {
   "cell_type": "code",
   "execution_count": null,
   "id": "7d9a9915-25d5-4f01-9daa-097b55991820",
   "metadata": {},
   "outputs": [],
   "source": [
    " "
   ]
  },
  {
   "cell_type": "code",
   "execution_count": null,
   "id": "99c93b4e-59ee-432b-8119-eb404b7bfe6f",
   "metadata": {},
   "outputs": [],
   "source": []
  },
  {
   "cell_type": "code",
   "execution_count": null,
   "id": "e2fa5080-2dc7-4766-9b6c-08b5f14265f5",
   "metadata": {},
   "outputs": [],
   "source": []
  },
  {
   "cell_type": "code",
   "execution_count": null,
   "id": "de82fedc-7596-4dc0-8e9f-9145fa277b45",
   "metadata": {},
   "outputs": [],
   "source": []
  },
  {
   "cell_type": "code",
   "execution_count": null,
   "id": "ba8ff565-e6cf-4553-b235-470483224c2b",
   "metadata": {},
   "outputs": [],
   "source": []
  },
  {
   "cell_type": "code",
   "execution_count": null,
   "id": "631a4295-dc3f-40bd-87be-dec2a0d893d4",
   "metadata": {},
   "outputs": [],
   "source": []
  },
  {
   "cell_type": "code",
   "execution_count": null,
   "id": "9df93ca8-d14a-490a-b92c-3258e3a32129",
   "metadata": {},
   "outputs": [],
   "source": []
  }
 ],
 "metadata": {
  "kernelspec": {
   "display_name": "Python 3 (ipykernel)",
   "language": "python",
   "name": "python3"
  },
  "language_info": {
   "codemirror_mode": {
    "name": "ipython",
    "version": 3
   },
   "file_extension": ".py",
   "mimetype": "text/x-python",
   "name": "python",
   "nbconvert_exporter": "python",
   "pygments_lexer": "ipython3",
   "version": "3.9.12"
  }
 },
 "nbformat": 4,
 "nbformat_minor": 5
}

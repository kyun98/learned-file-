{
 "cells": [
  {
   "cell_type": "code",
   "execution_count": 1,
   "id": "f48a1d23",
   "metadata": {},
   "outputs": [],
   "source": [
    "# ImageDataGenerator를 이용해서 Cats and Dogs binary classification\n",
    "# 문제를 해결해 보아요!\n",
    "\n",
    "import numpy as np\n",
    "from tensorflow.keras.models import Sequential\n",
    "from tensorflow.keras.layers import Conv2D, MaxPooling2D, GlobalAveragePooling2D\n",
    "from tensorflow.keras.layers import Flatten, Dense\n",
    "from tensorflow.keras.optimizers import Adam  # 평균적으로 높은 효율을 내는 알고리즘\n",
    "from tensorflow.keras.preprocessing.image import ImageDataGenerator"
   ]
  },
  {
   "cell_type": "code",
   "execution_count": 2,
   "id": "127a883a",
   "metadata": {},
   "outputs": [],
   "source": [
    "# ImageDataGenerator 객체 생성\n",
    "Train_Datagen =  ImageDataGenerator(rescale=1/255)\n",
    "Test_Datagen =  ImageDataGenerator(rescale=1/255)"
   ]
  },
  {
   "cell_type": "code",
   "execution_count": 3,
   "id": "8cf82527",
   "metadata": {},
   "outputs": [],
   "source": [
    "train_dir = './cats_and_dogs/train'\n",
    "test_dir = './cats_and_dogs/test'"
   ]
  },
  {
   "cell_type": "code",
   "execution_count": 4,
   "id": "72a22c5e",
   "metadata": {},
   "outputs": [
    {
     "name": "stdout",
     "output_type": "stream",
     "text": [
      "Found 2000 images belonging to 2 classes.\n",
      "Found 1000 images belonging to 2 classes.\n"
     ]
    }
   ],
   "source": [
    "# ImageDataGenerator  설정\n",
    "\n",
    "train_generator = Train_Datagen.flow_from_directory(\n",
    "    train_dir,   # 학습용 이미지를 가져올 폴더\n",
    "    classes=['cats', 'dogs'],  # cats 포더의 이미지 label을 0으로\n",
    "                               #dogs 폴의 이미지는 label을 1로 설정\n",
    "    target_size=(150, 150),    #이미지 resize\n",
    "    batch_size=20,             #한번에 20개의 이미지만 가져와서 학습\n",
    "    class_mode='binary'        #이진분류인 경우 설정\n",
    ")\n",
    "\n",
    "test_generator = Test_Datagen.flow_from_directory(\n",
    "    test_dir,   # 학습용 이미지를 가져올 폴더\n",
    "    classes=['cats', 'dogs'],  # cats 포더의 이미지 label을 0으로\n",
    "                               #dogs 폴의 이미지는 label을 1로 설정\n",
    "    target_size=(150, 150),    #이미지 resize\n",
    "    batch_size=20,             #한번에 20개의 이미지만 가져와서 학습\n",
    "    class_mode='binary'        #이진분류인 경우 설정\n",
    ")"
   ]
  },
  {
   "cell_type": "code",
   "execution_count": 5,
   "id": "834e325e",
   "metadata": {
    "run_control": {
     "marked": false
    }
   },
   "outputs": [
    {
     "name": "stdout",
     "output_type": "stream",
     "text": [
      "Model: \"vgg16\"\n",
      "_________________________________________________________________\n",
      "Layer (type)                 Output Shape              Param #   \n",
      "=================================================================\n",
      "input_1 (InputLayer)         [(None, 150, 150, 3)]     0         \n",
      "_________________________________________________________________\n",
      "block1_conv1 (Conv2D)        (None, 150, 150, 64)      1792      \n",
      "_________________________________________________________________\n",
      "block1_conv2 (Conv2D)        (None, 150, 150, 64)      36928     \n",
      "_________________________________________________________________\n",
      "block1_pool (MaxPooling2D)   (None, 75, 75, 64)        0         \n",
      "_________________________________________________________________\n",
      "block2_conv1 (Conv2D)        (None, 75, 75, 128)       73856     \n",
      "_________________________________________________________________\n",
      "block2_conv2 (Conv2D)        (None, 75, 75, 128)       147584    \n",
      "_________________________________________________________________\n",
      "block2_pool (MaxPooling2D)   (None, 37, 37, 128)       0         \n",
      "_________________________________________________________________\n",
      "block3_conv1 (Conv2D)        (None, 37, 37, 256)       295168    \n",
      "_________________________________________________________________\n",
      "block3_conv2 (Conv2D)        (None, 37, 37, 256)       590080    \n",
      "_________________________________________________________________\n",
      "block3_conv3 (Conv2D)        (None, 37, 37, 256)       590080    \n",
      "_________________________________________________________________\n",
      "block3_pool (MaxPooling2D)   (None, 18, 18, 256)       0         \n",
      "_________________________________________________________________\n",
      "block4_conv1 (Conv2D)        (None, 18, 18, 512)       1180160   \n",
      "_________________________________________________________________\n",
      "block4_conv2 (Conv2D)        (None, 18, 18, 512)       2359808   \n",
      "_________________________________________________________________\n",
      "block4_conv3 (Conv2D)        (None, 18, 18, 512)       2359808   \n",
      "_________________________________________________________________\n",
      "block4_pool (MaxPooling2D)   (None, 9, 9, 512)         0         \n",
      "_________________________________________________________________\n",
      "block5_conv1 (Conv2D)        (None, 9, 9, 512)         2359808   \n",
      "_________________________________________________________________\n",
      "block5_conv2 (Conv2D)        (None, 9, 9, 512)         2359808   \n",
      "_________________________________________________________________\n",
      "block5_conv3 (Conv2D)        (None, 9, 9, 512)         2359808   \n",
      "_________________________________________________________________\n",
      "block5_pool (MaxPooling2D)   (None, 4, 4, 512)         0         \n",
      "=================================================================\n",
      "Total params: 14,714,688\n",
      "Trainable params: 14,714,688\n",
      "Non-trainable params: 0\n",
      "_________________________________________________________________\n",
      "None\n"
     ]
    }
   ],
   "source": [
    "## 전이학습에 대해서 알아보아요!!\n",
    "## 사용하는 기학습된 네트워크(Pretrained Network)는\n",
    "## VGG16을 이용해 보아요!\n",
    "\n",
    "from tensorflow.keras.applications import VGG16\n",
    "\n",
    "model_base = VGG16(weights='imagenet',\n",
    "                   include_top=False,    # classification 제외!\n",
    "                   input_shape=(150,150,3))\n",
    "\n",
    "print(model_base.summary())"
   ]
  },
  {
   "cell_type": "code",
   "execution_count": 6,
   "id": "c75c6500",
   "metadata": {},
   "outputs": [],
   "source": [
    "# CNN Model 구현\n",
    "model = Sequential()\n",
    "\n",
    "model.add(model_base)\n",
    "\n",
    "model.add(Flatten())    # 전체 데이터를 4차원에서 2차원으로 변경\n",
    "\n",
    "model.add(Dense(256, activation= 'relu'))\n",
    "\n",
    "# output layer\n",
    "model.add(Dense(units=1,\n",
    "                activation='sigmoid'))"
   ]
  },
  {
   "cell_type": "code",
   "execution_count": 7,
   "id": "e96747cf",
   "metadata": {},
   "outputs": [
    {
     "name": "stdout",
     "output_type": "stream",
     "text": [
      "before freeze, len of trainable_weights 30\n",
      "after  freeze, len of trainable_weights 30\n"
     ]
    }
   ],
   "source": [
    "print('before freeze, len of trainable_weights', len(model.trainable_weights))\n",
    "model_base.trainable = True\n",
    "print('after  freeze, len of trainable_weights', len(model.trainable_weights))"
   ]
  },
  {
   "cell_type": "code",
   "execution_count": 8,
   "id": "a50b2f98",
   "metadata": {},
   "outputs": [],
   "source": [
    "set_trainable = False\n",
    "for layer in model_base.layers:\n",
    "    if layer.name == 'block5_conv1' :\n",
    "        set_trainable = True\n",
    "    if set_trainable:\n",
    "        layer.trainable = True\n",
    "    else:\n",
    "        layer.trainable = False"
   ]
  },
  {
   "cell_type": "code",
   "execution_count": 9,
   "id": "f0559150",
   "metadata": {},
   "outputs": [
    {
     "name": "stdout",
     "output_type": "stream",
     "text": [
      "<keras.engine.input_layer.InputLayer object at 0x000002938E110EB0> False\n",
      "<keras.layers.convolutional.Conv2D object at 0x000002938E1C2FD0> False\n",
      "<keras.layers.convolutional.Conv2D object at 0x000002938E1E8610> False\n",
      "<keras.layers.pooling.MaxPooling2D object at 0x00000293945AAA90> False\n",
      "<keras.layers.convolutional.Conv2D object at 0x00000293945AA100> False\n",
      "<keras.layers.convolutional.Conv2D object at 0x00000293945C0970> False\n",
      "<keras.layers.pooling.MaxPooling2D object at 0x00000293945C6CA0> False\n",
      "<keras.layers.convolutional.Conv2D object at 0x00000293945C6B80> False\n",
      "<keras.layers.convolutional.Conv2D object at 0x00000293945D80D0> False\n",
      "<keras.layers.convolutional.Conv2D object at 0x00000293945D8C40> False\n",
      "<keras.layers.pooling.MaxPooling2D object at 0x00000293945E2C10> False\n",
      "<keras.layers.convolutional.Conv2D object at 0x00000293945DBD30> False\n",
      "<keras.layers.convolutional.Conv2D object at 0x00000293945EEBB0> False\n",
      "<keras.layers.convolutional.Conv2D object at 0x00000293945F4130> False\n",
      "<keras.layers.pooling.MaxPooling2D object at 0x0000029394651340> False\n",
      "<keras.layers.convolutional.Conv2D object at 0x00000293946513A0> True\n",
      "<keras.layers.convolutional.Conv2D object at 0x00000293945E82E0> True\n",
      "<keras.layers.convolutional.Conv2D object at 0x00000293945CCDC0> True\n",
      "<keras.layers.pooling.MaxPooling2D object at 0x00000293945B22E0> True\n"
     ]
    }
   ],
   "source": [
    "for layer in model_base.layers[:-10]:\n",
    "    layer.trainable = False\n",
    "\n",
    "for layer in model_base.layers:\n",
    "    print(layer, layer.trainable)"
   ]
  },
  {
   "cell_type": "code",
   "execution_count": 10,
   "id": "7adb3411",
   "metadata": {},
   "outputs": [],
   "source": [
    "# print(model.summary())\n",
    "# model이 어떻게 동작하는지를 지정\n",
    "model.compile(optimizer=Adam(learning_rate=0.0001),\n",
    "              loss='binary_crossentropy',\n",
    "              metrics=['accuracy'])"
   ]
  },
  {
   "cell_type": "code",
   "execution_count": 11,
   "id": "3b964e56",
   "metadata": {},
   "outputs": [
    {
     "name": "stdout",
     "output_type": "stream",
     "text": [
      "Model: \"vgg16\"\n",
      "_________________________________________________________________\n",
      "Layer (type)                 Output Shape              Param #   \n",
      "=================================================================\n",
      "input_1 (InputLayer)         [(None, 150, 150, 3)]     0         \n",
      "_________________________________________________________________\n",
      "block1_conv1 (Conv2D)        (None, 150, 150, 64)      1792      \n",
      "_________________________________________________________________\n",
      "block1_conv2 (Conv2D)        (None, 150, 150, 64)      36928     \n",
      "_________________________________________________________________\n",
      "block1_pool (MaxPooling2D)   (None, 75, 75, 64)        0         \n",
      "_________________________________________________________________\n",
      "block2_conv1 (Conv2D)        (None, 75, 75, 128)       73856     \n",
      "_________________________________________________________________\n",
      "block2_conv2 (Conv2D)        (None, 75, 75, 128)       147584    \n",
      "_________________________________________________________________\n",
      "block2_pool (MaxPooling2D)   (None, 37, 37, 128)       0         \n",
      "_________________________________________________________________\n",
      "block3_conv1 (Conv2D)        (None, 37, 37, 256)       295168    \n",
      "_________________________________________________________________\n",
      "block3_conv2 (Conv2D)        (None, 37, 37, 256)       590080    \n",
      "_________________________________________________________________\n",
      "block3_conv3 (Conv2D)        (None, 37, 37, 256)       590080    \n",
      "_________________________________________________________________\n",
      "block3_pool (MaxPooling2D)   (None, 18, 18, 256)       0         \n",
      "_________________________________________________________________\n",
      "block4_conv1 (Conv2D)        (None, 18, 18, 512)       1180160   \n",
      "_________________________________________________________________\n",
      "block4_conv2 (Conv2D)        (None, 18, 18, 512)       2359808   \n",
      "_________________________________________________________________\n",
      "block4_conv3 (Conv2D)        (None, 18, 18, 512)       2359808   \n",
      "_________________________________________________________________\n",
      "block4_pool (MaxPooling2D)   (None, 9, 9, 512)         0         \n",
      "_________________________________________________________________\n",
      "block5_conv1 (Conv2D)        (None, 9, 9, 512)         2359808   \n",
      "_________________________________________________________________\n",
      "block5_conv2 (Conv2D)        (None, 9, 9, 512)         2359808   \n",
      "_________________________________________________________________\n",
      "block5_conv3 (Conv2D)        (None, 9, 9, 512)         2359808   \n",
      "_________________________________________________________________\n",
      "block5_pool (MaxPooling2D)   (None, 4, 4, 512)         0         \n",
      "=================================================================\n",
      "Total params: 14,714,688\n",
      "Trainable params: 7,079,424\n",
      "Non-trainable params: 7,635,264\n",
      "_________________________________________________________________\n",
      "None\n"
     ]
    }
   ],
   "source": [
    "print(model_base.summary())"
   ]
  },
  {
   "cell_type": "code",
   "execution_count": 12,
   "id": "a4d2373f",
   "metadata": {},
   "outputs": [
    {
     "name": "stdout",
     "output_type": "stream",
     "text": [
      "Model: \"sequential\"\n",
      "_________________________________________________________________\n",
      "Layer (type)                 Output Shape              Param #   \n",
      "=================================================================\n",
      "vgg16 (Functional)           (None, 4, 4, 512)         14714688  \n",
      "_________________________________________________________________\n",
      "flatten (Flatten)            (None, 8192)              0         \n",
      "_________________________________________________________________\n",
      "dense (Dense)                (None, 256)               2097408   \n",
      "_________________________________________________________________\n",
      "dense_1 (Dense)              (None, 1)                 257       \n",
      "=================================================================\n",
      "Total params: 16,812,353\n",
      "Trainable params: 9,177,089\n",
      "Non-trainable params: 7,635,264\n",
      "_________________________________________________________________\n",
      "None\n"
     ]
    }
   ],
   "source": [
    "print(model.summary())"
   ]
  },
  {
   "cell_type": "code",
   "execution_count": 13,
   "id": "0d295cb6",
   "metadata": {},
   "outputs": [
    {
     "name": "stdout",
     "output_type": "stream",
     "text": [
      "Epoch 1/30\n",
      "100/100 [==============================] - 24s 182ms/step - loss: 0.3269 - accuracy: 0.8515 - val_loss: 0.2223 - val_accuracy: 0.8980\n",
      "Epoch 2/30\n",
      "100/100 [==============================] - 18s 181ms/step - loss: 0.1140 - accuracy: 0.9505 - val_loss: 0.2209 - val_accuracy: 0.9120\n",
      "Epoch 3/30\n",
      "100/100 [==============================] - 18s 182ms/step - loss: 0.0404 - accuracy: 0.9855 - val_loss: 0.2117 - val_accuracy: 0.9220\n",
      "Epoch 4/30\n",
      "100/100 [==============================] - 18s 182ms/step - loss: 0.0241 - accuracy: 0.9915 - val_loss: 0.4642 - val_accuracy: 0.8650\n",
      "Epoch 5/30\n",
      "100/100 [==============================] - 18s 183ms/step - loss: 0.0096 - accuracy: 0.9970 - val_loss: 0.4025 - val_accuracy: 0.9000\n",
      "Epoch 6/30\n",
      "100/100 [==============================] - 18s 183ms/step - loss: 0.0139 - accuracy: 0.9945 - val_loss: 0.4027 - val_accuracy: 0.9030\n",
      "Epoch 7/30\n",
      "100/100 [==============================] - 18s 183ms/step - loss: 0.0192 - accuracy: 0.9920 - val_loss: 0.3248 - val_accuracy: 0.9140\n",
      "Epoch 8/30\n",
      "100/100 [==============================] - 18s 183ms/step - loss: 0.0477 - accuracy: 0.9815 - val_loss: 0.2922 - val_accuracy: 0.9100\n",
      "Epoch 9/30\n",
      "100/100 [==============================] - 18s 184ms/step - loss: 0.0200 - accuracy: 0.9935 - val_loss: 0.3751 - val_accuracy: 0.9210\n",
      "Epoch 10/30\n",
      "100/100 [==============================] - 18s 184ms/step - loss: 8.3004e-04 - accuracy: 1.0000 - val_loss: 0.3850 - val_accuracy: 0.9210\n",
      "Epoch 11/30\n",
      "100/100 [==============================] - 18s 184ms/step - loss: 1.0320e-04 - accuracy: 1.0000 - val_loss: 0.4001 - val_accuracy: 0.9190\n",
      "Epoch 12/30\n",
      "100/100 [==============================] - 18s 184ms/step - loss: 5.0420e-05 - accuracy: 1.0000 - val_loss: 0.4087 - val_accuracy: 0.9190\n",
      "Epoch 13/30\n",
      "100/100 [==============================] - 18s 184ms/step - loss: 3.8065e-05 - accuracy: 1.0000 - val_loss: 0.4157 - val_accuracy: 0.9190\n",
      "Epoch 14/30\n",
      "100/100 [==============================] - 18s 184ms/step - loss: 3.0492e-05 - accuracy: 1.0000 - val_loss: 0.4221 - val_accuracy: 0.9190\n",
      "Epoch 15/30\n",
      "100/100 [==============================] - 18s 184ms/step - loss: 2.5242e-05 - accuracy: 1.0000 - val_loss: 0.4279 - val_accuracy: 0.9190\n",
      "Epoch 16/30\n",
      "100/100 [==============================] - 18s 184ms/step - loss: 2.1291e-05 - accuracy: 1.0000 - val_loss: 0.4329 - val_accuracy: 0.9190\n",
      "Epoch 17/30\n",
      "100/100 [==============================] - 18s 184ms/step - loss: 1.8358e-05 - accuracy: 1.0000 - val_loss: 0.4376 - val_accuracy: 0.9190\n",
      "Epoch 18/30\n",
      "100/100 [==============================] - 18s 185ms/step - loss: 1.5876e-05 - accuracy: 1.0000 - val_loss: 0.4420 - val_accuracy: 0.9190\n",
      "Epoch 19/30\n",
      "100/100 [==============================] - 18s 185ms/step - loss: 1.3914e-05 - accuracy: 1.0000 - val_loss: 0.4464 - val_accuracy: 0.9190\n",
      "Epoch 20/30\n",
      "100/100 [==============================] - 18s 185ms/step - loss: 1.2258e-05 - accuracy: 1.0000 - val_loss: 0.4503 - val_accuracy: 0.9190\n",
      "Epoch 21/30\n",
      "100/100 [==============================] - 18s 185ms/step - loss: 1.0915e-05 - accuracy: 1.0000 - val_loss: 0.4543 - val_accuracy: 0.9190\n",
      "Epoch 22/30\n",
      "100/100 [==============================] - 18s 184ms/step - loss: 9.7449e-06 - accuracy: 1.0000 - val_loss: 0.4579 - val_accuracy: 0.9190\n",
      "Epoch 23/30\n",
      "100/100 [==============================] - 18s 184ms/step - loss: 8.7491e-06 - accuracy: 1.0000 - val_loss: 0.4615 - val_accuracy: 0.9190\n",
      "Epoch 24/30\n",
      "100/100 [==============================] - 18s 184ms/step - loss: 7.8912e-06 - accuracy: 1.0000 - val_loss: 0.4648 - val_accuracy: 0.9200\n",
      "Epoch 25/30\n",
      "100/100 [==============================] - 18s 184ms/step - loss: 7.1495e-06 - accuracy: 1.0000 - val_loss: 0.4682 - val_accuracy: 0.9200\n",
      "Epoch 26/30\n",
      "100/100 [==============================] - 18s 184ms/step - loss: 6.4787e-06 - accuracy: 1.0000 - val_loss: 0.4714 - val_accuracy: 0.9210\n",
      "Epoch 27/30\n",
      "100/100 [==============================] - 18s 184ms/step - loss: 5.8856e-06 - accuracy: 1.0000 - val_loss: 0.4743 - val_accuracy: 0.9210\n",
      "Epoch 28/30\n",
      "100/100 [==============================] - 18s 185ms/step - loss: 5.3738e-06 - accuracy: 1.0000 - val_loss: 0.4773 - val_accuracy: 0.9210\n",
      "Epoch 29/30\n",
      "100/100 [==============================] - 18s 185ms/step - loss: 4.9144e-06 - accuracy: 1.0000 - val_loss: 0.4801 - val_accuracy: 0.9200\n",
      "Epoch 30/30\n",
      "100/100 [==============================] - 18s 184ms/step - loss: 4.4993e-06 - accuracy: 1.0000 - val_loss: 0.4831 - val_accuracy: 0.9210\n"
     ]
    }
   ],
   "source": [
    "# 설정이 다 되었으면 모델을 학습.\n",
    "history = model.fit(train_generator,\n",
    "          steps_per_epoch=100,\n",
    "          epochs=30,\n",
    "          verbose=1,\n",
    "          validation_data=test_generator,\n",
    "          validation_steps=50)"
   ]
  },
  {
   "cell_type": "code",
   "execution_count": 14,
   "id": "1ddb5fce",
   "metadata": {},
   "outputs": [
    {
     "name": "stdout",
     "output_type": "stream",
     "text": [
      "Model: \"sequential\"\n",
      "_________________________________________________________________\n",
      "Layer (type)                 Output Shape              Param #   \n",
      "=================================================================\n",
      "vgg16 (Functional)           (None, 4, 4, 512)         14714688  \n",
      "_________________________________________________________________\n",
      "flatten (Flatten)            (None, 8192)              0         \n",
      "_________________________________________________________________\n",
      "dense (Dense)                (None, 256)               2097408   \n",
      "_________________________________________________________________\n",
      "dense_1 (Dense)              (None, 1)                 257       \n",
      "=================================================================\n",
      "Total params: 16,812,353\n",
      "Trainable params: 9,177,089\n",
      "Non-trainable params: 7,635,264\n",
      "_________________________________________________________________\n"
     ]
    }
   ],
   "source": [
    "model.summary()"
   ]
  },
  {
   "cell_type": "code",
   "execution_count": 15,
   "id": "0d5fcc20",
   "metadata": {},
   "outputs": [],
   "source": [
    "import matplotlib.pylab as plt"
   ]
  },
  {
   "cell_type": "code",
   "execution_count": 16,
   "id": "e5db2c74",
   "metadata": {},
   "outputs": [
    {
     "data": {
      "image/png": "[encoded data removed]",
      "text/plain": [
       "<Figure size 864x288 with 2 Axes>"
      ]
     },
     "metadata": {
      "needs_background": "light"
     },
     "output_type": "display_data"
    }
   ],
   "source": [
    "def plot_loss_acc(history, epoch):\n",
    "\n",
    "    loss, val_loss = history.history['loss'], history.history['val_loss']\n",
    "    acc, val_acc = history.history['accuracy'], history.history['val_accuracy']\n",
    "\n",
    "    fig, axes = plt.subplots(1, 2, figsize=(12, 4))\n",
    "\n",
    "    axes[0].plot(range(1, epoch + 1), loss, label='Training')\n",
    "    axes[0].plot(range(1, epoch + 1), val_loss, label='Validation')\n",
    "    axes[0].legend(loc='best')\n",
    "    axes[0].set_title('Loss')\n",
    "\n",
    "    axes[1].plot(range(1, epoch + 1), acc, label='Training')\n",
    "    axes[1].plot(range(1, epoch + 1), val_acc, label='Validation')\n",
    "    axes[1].legend(loc='best')\n",
    "    axes[1].set_title('Accuracy')\n",
    "\n",
    "    plt.show()\n",
    "\n",
    "plot_loss_acc(history, 30)"
   ]
  },
  {
   "cell_type": "code",
   "execution_count": null,
   "id": "edbe3735",
   "metadata": {},
   "outputs": [],
   "source": []
  }
 ],
 "metadata": {
  "kernelspec": {
   "display_name": "Python 3 (ipykernel)",
   "language": "python",
   "name": "python3"
  },
  "language_info": {
   "codemirror_mode": {
    "name": "ipython",
    "version": 3
   },
   "file_extension": ".py",
   "mimetype": "text/x-python",
   "name": "python",
   "nbconvert_exporter": "python",
   "pygments_lexer": "ipython3",
   "version": "3.9.12"
  },
  "latex_envs": {
   "LaTeX_envs_menu_present": true,
   "autoclose": false,
   "autocomplete": true,
   "bibliofile": "biblio.bib",
   "cite_by": "apalike",
   "current_citInitial": 1,
   "eqLabelWithNumbers": true,
   "eqNumInitial": 1,
   "hotkeys": {
    "equation": "Ctrl-E",
    "itemize": "Ctrl-I"
   },
   "labels_anchors": false,
   "latex_user_defs": false,
   "report_style_numbering": false,
   "user_envs_cfg": false
  },
  "nbTranslate": {
   "displayLangs": [
    "*"
   ],
   "hotkey": "",
   "langInMainMenu": true,
   "sourceLang": "en",
   "targetLang": "fr",
   "useGoogleTranslate": true
  },
  "toc": {
   "base_numbering": 1,
   "nav_menu": {},
   "number_sections": false,
   "sideBar": true,
   "skip_h1_title": false,
   "title_cell": "Table of Contents",
   "title_sidebar": "Contents",
   "toc_cell": false,
   "toc_position": {},
   "toc_section_display": true,
   "toc_window_display": false
  },
  "varInspector": {
   "cols": {
    "lenName": 16,
    "lenType": 16,
    "lenVar": 40
   },
   "kernels_config": {
    "python": {
     "delete_cmd_postfix": "",
     "delete_cmd_prefix": "del ",
     "library": "var_list.py",
     "varRefreshCmd": "print(var_dic_list())"
    },
    "r": {
     "delete_cmd_postfix": ") ",
     "delete_cmd_prefix": "rm(",
     "library": "var_list.r",
     "varRefreshCmd": "cat(var_dic_list()) "
    }
   },
   "types_to_exclude": [
    "module",
    "function",
    "builtin_function_or_method",
    "instance",
    "_Feature"
   ],
   "window_display": false
  }
 },
 "nbformat": 4,
 "nbformat_minor": 5
}

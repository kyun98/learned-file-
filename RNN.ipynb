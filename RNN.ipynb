{
 "cells": [
  {
   "cell_type": "markdown",
   "id": "e903b247-d6a0-4c70-9830-bb1c156e5204",
   "metadata": {},
   "source": [
    "# RNN 순환 신경망 "
   ]
  },
  {
   "cell_type": "code",
   "execution_count": null,
   "id": "313e6708-2bae-4d66-8cc0-5df7956a1638",
   "metadata": {},
   "outputs": [],
   "source": [
    "기억을 갖는다. "
   ]
  },
  {
   "cell_type": "code",
   "execution_count": null,
   "id": "f31c34db-ddb0-4517-a60b-451d9cac7086",
   "metadata": {},
   "outputs": [],
   "source": [
    "가중치 3개를 갖는다. "
   ]
  },
  {
   "cell_type": "code",
   "execution_count": null,
   "id": "d3c042b8-c5b3-4206-b6b5-a9842a8d33dd",
   "metadata": {},
   "outputs": [],
   "source": [
    "패딩, 모델 입력하려면 샘플의 길이를 동일하게 맞춰야 함 . \n",
    "이것을 패딩작업이라고 한다. 보통 숫자 0 크기를 맞춰줘 , "
   ]
  },
  {
   "cell_type": "code",
   "execution_count": 1,
   "id": "415ff38b-4654-4f1b-ad10-3d3939521ec4",
   "metadata": {},
   "outputs": [],
   "source": [
    "import numpy as np"
   ]
  },
  {
   "cell_type": "code",
   "execution_count": 2,
   "id": "c1f36746-264d-4154-964b-189e278c3d68",
   "metadata": {},
   "outputs": [],
   "source": [
    "timesteps = 100\n",
    "input_features = 32\n",
    "output_features = 64 "
   ]
  },
  {
   "cell_type": "code",
   "execution_count": 5,
   "id": "7c686e3e-9672-42b9-8125-d39d4803a7b4",
   "metadata": {},
   "outputs": [
    {
     "data": {
      "text/plain": [
       "array([[0.85563869, 0.09430401, 0.60487987, ..., 0.06413753, 0.58211465,\n",
       "        0.1365547 ],\n",
       "       [0.75524066, 0.5375986 , 0.63462854, ..., 0.59161785, 0.5228551 ,\n",
       "        0.44812598],\n",
       "       [0.36994721, 0.40828176, 0.80711936, ..., 0.42560962, 0.85813793,\n",
       "        0.25826291],\n",
       "       ...,\n",
       "       [0.9465052 , 0.37262174, 0.25403225, ..., 0.28651396, 0.89350936,\n",
       "        0.8497665 ],\n",
       "       [0.97265001, 0.03091061, 0.16441149, ..., 0.59417105, 0.5123855 ,\n",
       "        0.60279291],\n",
       "       [0.25085399, 0.67199331, 0.72396791, ..., 0.83275053, 0.31298219,\n",
       "        0.5551519 ]])"
      ]
     },
     "execution_count": 5,
     "metadata": {},
     "output_type": "execute_result"
    }
   ],
   "source": [
    "inputs = np.random.random((timesteps,input_features))\n",
    "\n",
    "inputs"
   ]
  },
  {
   "cell_type": "code",
   "execution_count": 6,
   "id": "1a0157da-e17f-4bcc-9da5-1dac6e4eec66",
   "metadata": {},
   "outputs": [],
   "source": [
    "state_t = np.zeros((output_features))"
   ]
  },
  {
   "cell_type": "code",
   "execution_count": 17,
   "id": "28c853cd-779f-42e7-b21e-2d0529c9355e",
   "metadata": {},
   "outputs": [],
   "source": [
    "W = np.random.random((output_features,input_features )) # 64,32\n",
    "U = np.random.random((output_features,output_features)) # 업데이트 (64x64)\n",
    "b = np.random.random((output_features)) # 바이어스 64 \n",
    "# 필요 "
   ]
  },
  {
   "cell_type": "code",
   "execution_count": 10,
   "id": "7ddf9129-b4c3-4325-ae4c-8775eb8fbb27",
   "metadata": {},
   "outputs": [],
   "source": [
    "sucessive_outputs = []"
   ]
  },
  {
   "cell_type": "code",
   "execution_count": 18,
   "id": "ba8e7086-71c1-4391-904f-3e474a6f3860",
   "metadata": {},
   "outputs": [],
   "source": [
    "for input_t in inputs:\n",
    "    output_t = np.tanh(np.dot(W,input_t) + np.dot(U, state_t) + b)\n",
    "    sucessive_outputs.append(output_t)\n",
    "    state_t = output_t\n",
    "    \n",
    "final_output_sequence = np.stack(sucessive_outputs, axis = 0 )"
   ]
  },
  {
   "cell_type": "code",
   "execution_count": 21,
   "id": "8c32575e-19d7-40fa-99c7-984864e42d92",
   "metadata": {},
   "outputs": [
    {
     "data": {
      "text/plain": [
       "list"
      ]
     },
     "execution_count": 21,
     "metadata": {},
     "output_type": "execute_result"
    }
   ],
   "source": [
    "type(sucessive_outputs)"
   ]
  },
  {
   "cell_type": "code",
   "execution_count": 23,
   "id": "568892b4-8ab9-4007-b16b-cc2974ed07aa",
   "metadata": {},
   "outputs": [
    {
     "data": {
      "text/plain": [
       "array([[0.99999963, 0.99999912, 0.99998169, ..., 0.99997875, 0.99996247,\n",
       "        0.9999784 ],\n",
       "       [1.        , 1.        , 1.        , ..., 1.        , 1.        ,\n",
       "        1.        ],\n",
       "       [1.        , 1.        , 1.        , ..., 1.        , 1.        ,\n",
       "        1.        ],\n",
       "       ...,\n",
       "       [1.        , 1.        , 1.        , ..., 1.        , 1.        ,\n",
       "        1.        ],\n",
       "       [1.        , 1.        , 1.        , ..., 1.        , 1.        ,\n",
       "        1.        ],\n",
       "       [1.        , 1.        , 1.        , ..., 1.        , 1.        ,\n",
       "        1.        ]])"
      ]
     },
     "execution_count": 23,
     "metadata": {},
     "output_type": "execute_result"
    }
   ],
   "source": [
    "final_output_sequence"
   ]
  },
  {
   "cell_type": "code",
   "execution_count": 46,
   "id": "2cbfb2c4-475a-4ec9-9534-069f9a3f07a3",
   "metadata": {},
   "outputs": [],
   "source": [
    "from tensorflow.keras.layers import SimpleRNN , Embedding ,Dense \n",
    "from tensorflow.keras.models import Sequential\n"
   ]
  },
  {
   "cell_type": "code",
   "execution_count": 27,
   "id": "5418d31d-69bb-4269-82c6-3d32d8a61566",
   "metadata": {},
   "outputs": [
    {
     "name": "stdout",
     "output_type": "stream",
     "text": [
      "Model: \"sequential\"\n",
      "_________________________________________________________________\n",
      " Layer (type)                Output Shape              Param #   \n",
      "=================================================================\n",
      " embedding (Embedding)       (None, None, 32)          320000    \n",
      "                                                                 \n",
      " simple_rnn (SimpleRNN)      (None, 32)                2080      \n",
      "                                                                 \n",
      "=================================================================\n",
      "Total params: 322,080\n",
      "Trainable params: 322,080\n",
      "Non-trainable params: 0\n",
      "_________________________________________________________________\n"
     ]
    }
   ],
   "source": [
    "model = Sequential()\n",
    "model.add(Embedding(10000,32))\n",
    "model.add(SimpleRNN(32))\n",
    "model.summary()"
   ]
  },
  {
   "cell_type": "code",
   "execution_count": null,
   "id": "0fadecfd-175b-41f1-9a1b-e81e02f02964",
   "metadata": {},
   "outputs": [],
   "source": []
  },
  {
   "cell_type": "code",
   "execution_count": 30,
   "id": "737bc77c-cc73-4a01-9734-6a1a9d92dd7c",
   "metadata": {},
   "outputs": [
    {
     "name": "stdout",
     "output_type": "stream",
     "text": [
      "Model: \"sequential_3\"\n",
      "_________________________________________________________________\n",
      " Layer (type)                Output Shape              Param #   \n",
      "=================================================================\n",
      " embedding_3 (Embedding)     (None, None, 32)          320000    \n",
      "                                                                 \n",
      " simple_rnn_3 (SimpleRNN)    (None, None, 32)          2080      \n",
      "                                                                 \n",
      " simple_rnn_4 (SimpleRNN)    (None, None, 32)          2080      \n",
      "                                                                 \n",
      " simple_rnn_5 (SimpleRNN)    (None, None, 32)          2080      \n",
      "                                                                 \n",
      " simple_rnn_6 (SimpleRNN)    (None, 32)                2080      \n",
      "                                                                 \n",
      "=================================================================\n",
      "Total params: 328,320\n",
      "Trainable params: 328,320\n",
      "Non-trainable params: 0\n",
      "_________________________________________________________________\n"
     ]
    }
   ],
   "source": [
    "model = Sequential()\n",
    "model.add(Embedding(10000,32))\n",
    "model.add(SimpleRNN(32, return_sequences= True))\n",
    "model.add(SimpleRNN(32, return_sequences= True))\n",
    "model.add(SimpleRNN(32, return_sequences= True))\n",
    "model.add(SimpleRNN(32))\n",
    "model.summary()"
   ]
  },
  {
   "cell_type": "code",
   "execution_count": 33,
   "id": "5bfbbb3f-a9ca-44be-87de-7bab976b2886",
   "metadata": {},
   "outputs": [],
   "source": [
    "from tensorflow.keras.datasets import imdb\n",
    "from tensorflow.keras.preprocessing import sequence"
   ]
  },
  {
   "cell_type": "code",
   "execution_count": 57,
   "id": "61307fee-d0c4-4c51-8cf7-66b869884e32",
   "metadata": {},
   "outputs": [],
   "source": [
    "num_words = 10000\n",
    "max_len = 500\n",
    "batch_size = 32  # 한번에 몇개냐 ? "
   ]
  },
  {
   "cell_type": "code",
   "execution_count": 36,
   "id": "91578be9-3284-4f6e-8af1-5aba301849b7",
   "metadata": {},
   "outputs": [
    {
     "name": "stdout",
     "output_type": "stream",
     "text": [
      "Downloading data from https://storage.googleapis.com/tensorflow/tf-keras-datasets/imdb.npz\n",
      "17464789/17464789 [==============================] - 4s 0us/step\n"
     ]
    }
   ],
   "source": [
    "(x_train,y_train),(x_test,y_test) = imdb.load_data(num_words = num_words)"
   ]
  },
  {
   "cell_type": "code",
   "execution_count": 43,
   "id": "b8fa1675-3abf-4d94-b878-ae600439be9e",
   "metadata": {},
   "outputs": [
    {
     "name": "stdout",
     "output_type": "stream",
     "text": [
      "25000\n",
      "(25000, 500)\n"
     ]
    }
   ],
   "source": [
    "print(len(x_train))\n",
    "print(pad_x_train.shape) # 2500 500 컬럼 "
   ]
  },
  {
   "cell_type": "code",
   "execution_count": 40,
   "id": "b4aeeed7-b455-4abc-a893-47fff18ecd3d",
   "metadata": {},
   "outputs": [],
   "source": [
    "pad_x_train = sequence.pad_sequences(x_train, maxlen= max_len )\n",
    "pad_x_test = sequence.pad_sequences(x_test, maxlen= max_len ) # 패딩 \n"
   ]
  },
  {
   "cell_type": "code",
   "execution_count": null,
   "id": "7779c12c-2496-4029-9d64-039e406efeb0",
   "metadata": {},
   "outputs": [],
   "source": [
    "# 패딩을 해준다는 것 "
   ]
  },
  {
   "cell_type": "code",
   "execution_count": 47,
   "id": "15a7aa90-fe68-48e2-8d2d-805f40dee141",
   "metadata": {},
   "outputs": [],
   "source": [
    "model = Sequential()\n",
    "model.add(Embedding(10000,32))\n",
    "model.add(SimpleRNN(32))\n",
    "model.add(Dense(1,activation='sigmoid'))\n"
   ]
  },
  {
   "cell_type": "code",
   "execution_count": null,
   "id": "60bf7fba-acdd-4986-aef6-40e1055ec732",
   "metadata": {},
   "outputs": [],
   "source": []
  },
  {
   "cell_type": "code",
   "execution_count": 49,
   "id": "a1478e53-afb7-434d-b64a-b1618b16e55b",
   "metadata": {},
   "outputs": [],
   "source": [
    "model.compile(optimizer = 'rmsprop', loss = 'binary_crossentropy', metrics = ['accuracy']) # 문자라서 "
   ]
  },
  {
   "cell_type": "code",
   "execution_count": 51,
   "id": "170834e8-c129-4e0b-b141-c53ee2e60308",
   "metadata": {},
   "outputs": [
    {
     "name": "stdout",
     "output_type": "stream",
     "text": [
      "Epoch 1/10\n",
      "157/157 [==============================] - 17s 75ms/step - loss: 0.6066 - accuracy: 0.6594 - val_loss: 0.4862 - val_accuracy: 0.7676\n",
      "Epoch 2/10\n",
      "157/157 [==============================] - 11s 72ms/step - loss: 0.3753 - accuracy: 0.8454 - val_loss: 0.4055 - val_accuracy: 0.8266\n",
      "Epoch 3/10\n",
      "157/157 [==============================] - 12s 74ms/step - loss: 0.2927 - accuracy: 0.8847 - val_loss: 0.4062 - val_accuracy: 0.8228\n",
      "Epoch 4/10\n",
      "157/157 [==============================] - 11s 72ms/step - loss: 0.2276 - accuracy: 0.9130 - val_loss: 0.4262 - val_accuracy: 0.8156\n",
      "Epoch 5/10\n",
      "157/157 [==============================] - 11s 72ms/step - loss: 0.1584 - accuracy: 0.9423 - val_loss: 0.4451 - val_accuracy: 0.8154\n",
      "Epoch 6/10\n",
      "157/157 [==============================] - 12s 74ms/step - loss: 0.1082 - accuracy: 0.9619 - val_loss: 0.4948 - val_accuracy: 0.8284\n",
      "Epoch 7/10\n",
      "157/157 [==============================] - 11s 73ms/step - loss: 0.0702 - accuracy: 0.9775 - val_loss: 0.6649 - val_accuracy: 0.7410\n",
      "Epoch 8/10\n",
      "157/157 [==============================] - 11s 73ms/step - loss: 0.0430 - accuracy: 0.9875 - val_loss: 0.5697 - val_accuracy: 0.8452\n",
      "Epoch 9/10\n",
      "157/157 [==============================] - 12s 73ms/step - loss: 0.0299 - accuracy: 0.9902 - val_loss: 0.6494 - val_accuracy: 0.8094\n",
      "Epoch 10/10\n",
      "157/157 [==============================] - 12s 73ms/step - loss: 0.0192 - accuracy: 0.9942 - val_loss: 0.7808 - val_accuracy: 0.7610\n"
     ]
    }
   ],
   "source": [
    "history = model.fit(pad_x_train,y_train, epochs = 10 , batch_size = 128, validation_split= 0.2 )"
   ]
  },
  {
   "cell_type": "code",
   "execution_count": 55,
   "id": "ede09eec-67b7-41da-a23b-da10e9ba5085",
   "metadata": {},
   "outputs": [
    {
     "data": {
      "text/plain": [
       "[<matplotlib.lines.Line2D at 0x19cc2e66fa0>]"
      ]
     },
     "execution_count": 55,
     "metadata": {},
     "output_type": "execute_result"
    },
    {
     "data": {
      "image/png": "[encoded data removed]",
      "text/plain": [
       "<Figure size 432x288 with 1 Axes>"
      ]
     },
     "metadata": {},
     "output_type": "display_data"
    },
    {
     "data": {
      "image/png": "[encoded data removed]",
      "text/plain": [
       "<Figure size 432x288 with 1 Axes>"
      ]
     },
     "metadata": {},
     "output_type": "display_data"
    }
   ],
   "source": [
    "import matplotlib.pyplot as plt \n",
    "plt.style.use('seaborn-white')\n",
    "acc = history.history['accuracy']\n",
    "val_acc = history.history['val_accuracy']\n",
    "loss = history.history['loss']\n",
    "val_loss = history.history['val_loss']\n",
    "epochs = range(1,len(loss)+1) # 0부터 시작하니까 \n",
    "plt.plot(epochs, loss , 'b-', label= 'training loss')\n",
    "plt.plot(epochs, val_loss , 'r:', label= 'test loss')\n",
    "plt.grid()\n",
    "plt.legend()\n",
    "\n",
    "plt.figure()\n",
    "plt.plot(epochs, acc , 'b-', label= ' training acc')\n",
    "plt.plot(epochs, val_acc , 'r:', label= 'val test acc')"
   ]
  },
  {
   "cell_type": "code",
   "execution_count": null,
   "id": "2a027452-6711-48e6-874a-8dc4b880aac2",
   "metadata": {},
   "outputs": [],
   "source": [
    "# 들어우는 것 y 데이터 라벨 \n",
    "# 얼만큼 했냐 에폭 그러면 시계열 적인가 ? "
   ]
  },
  {
   "cell_type": "code",
   "execution_count": 56,
   "id": "7361f831-910c-4e9d-a433-3b4bbdd2598e",
   "metadata": {},
   "outputs": [
    {
     "name": "stdout",
     "output_type": "stream",
     "text": [
      "782/782 [==============================] - 10s 13ms/step - loss: 0.7714 - accuracy: 0.7588\n"
     ]
    },
    {
     "data": {
      "text/plain": [
       "[0.7714076638221741, 0.758840024471283]"
      ]
     },
     "execution_count": 56,
     "metadata": {},
     "output_type": "execute_result"
    }
   ],
   "source": [
    "# 검증\n",
    "model.evaluate(pad_x_test,y_test)"
   ]
  },
  {
   "cell_type": "code",
   "execution_count": null,
   "id": "ebbc2643-8249-4c83-ae90-36cfd08ee293",
   "metadata": {},
   "outputs": [],
   "source": [
    "# 500ro 단어만 입력해기 때문에 성능이 낮게 나온다.\n",
    "# simpleRNN은 긴 시퀀스를 처리 하는데에 적합하지 않다. ! / "
   ]
  },
  {
   "cell_type": "code",
   "execution_count": null,
   "id": "763ebc46-90bd-45b2-85b8-fcf7a56fe5a2",
   "metadata": {},
   "outputs": [],
   "source": [
    "# lstm , 복잡 입력 3개 출력 3개 /  - 파생된것이 버트 \n",
    "# 시계열 순차에 대해서 중요한 것만  , / 기억할 수 있는 알고리즘으로 만들어져 있다./\n",
    "# GRU  출력은 1개 ! /  DRNN  / "
   ]
  },
  {
   "cell_type": "code",
   "execution_count": null,
   "id": "ca785e13-8b7d-4a3b-87b9-faf1010e4192",
   "metadata": {},
   "outputs": [],
   "source": []
  },
  {
   "cell_type": "code",
   "execution_count": null,
   "id": "465600d4-aee6-4928-b310-bbb4efd4e876",
   "metadata": {},
   "outputs": [],
   "source": [
    "# 2 연습"
   ]
  },
  {
   "cell_type": "code",
   "execution_count": 60,
   "id": "154c1f22-f239-4d75-b81c-b39f8323f999",
   "metadata": {},
   "outputs": [],
   "source": [
    "from tensorflow.keras.datasets import imdb\n",
    "import numpy as np\n",
    "import matplotlib.pyplot as plt \n"
   ]
  },
  {
   "cell_type": "code",
   "execution_count": 65,
   "id": "2236eeb8-3b16-4230-abd0-02183d5b00af",
   "metadata": {},
   "outputs": [
    {
     "name": "stdout",
     "output_type": "stream",
     "text": [
      "train data count: 25000 \n",
      "test data count: 25000 \n",
      " classes : 2 \n"
     ]
    }
   ],
   "source": [
    "(x_train,y_train),(x_test,y_test) = imdb.load_data()\n",
    "\n",
    "print('train data count: {} '. format(len(x_train)))\n",
    "print('test data count: {} '. format(len(x_test)))\n",
    "print(' classes : {} '. format(num_classes))"
   ]
  },
  {
   "cell_type": "code",
   "execution_count": 66,
   "id": "436e3983-f359-438d-ac57-05aef8c06a8e",
   "metadata": {},
   "outputs": [],
   "source": [
    "num_classes = len(set(y_train))\n"
   ]
  },
  {
   "cell_type": "code",
   "execution_count": 67,
   "id": "f580a3ce-f79c-492e-b526-84d01d6f5f0a",
   "metadata": {},
   "outputs": [
    {
     "data": {
      "text/plain": [
       "array([list([1, 14, 22, 16, 43, 530, 973, 1622, 1385, 65, 458, 4468, 66, 3941, 4, 173, 36, 256, 5, 25, 100, 43, 838, 112, 50, 670, 22665, 9, 35, 480, 284, 5, 150, 4, 172, 112, 167, 21631, 336, 385, 39, 4, 172, 4536, 1111, 17, 546, 38, 13, 447, 4, 192, 50, 16, 6, 147, 2025, 19, 14, 22, 4, 1920, 4613, 469, 4, 22, 71, 87, 12, 16, 43, 530, 38, 76, 15, 13, 1247, 4, 22, 17, 515, 17, 12, 16, 626, 18, 19193, 5, 62, 386, 12, 8, 316, 8, 106, 5, 4, 2223, 5244, 16, 480, 66, 3785, 33, 4, 130, 12, 16, 38, 619, 5, 25, 124, 51, 36, 135, 48, 25, 1415, 33, 6, 22, 12, 215, 28, 77, 52, 5, 14, 407, 16, 82, 10311, 8, 4, 107, 117, 5952, 15, 256, 4, 31050, 7, 3766, 5, 723, 36, 71, 43, 530, 476, 26, 400, 317, 46, 7, 4, 12118, 1029, 13, 104, 88, 4, 381, 15, 297, 98, 32, 2071, 56, 26, 141, 6, 194, 7486, 18, 4, 226, 22, 21, 134, 476, 26, 480, 5, 144, 30, 5535, 18, 51, 36, 28, 224, 92, 25, 104, 4, 226, 65, 16, 38, 1334, 88, 12, 16, 283, 5, 16, 4472, 113, 103, 32, 15, 16, 5345, 19, 178, 32]),\n",
       "       list([1, 194, 1153, 194, 8255, 78, 228, 5, 6, 1463, 4369, 5012, 134, 26, 4, 715, 8, 118, 1634, 14, 394, 20, 13, 119, 954, 189, 102, 5, 207, 110, 3103, 21, 14, 69, 188, 8, 30, 23, 7, 4, 249, 126, 93, 4, 114, 9, 2300, 1523, 5, 647, 4, 116, 9, 35, 8163, 4, 229, 9, 340, 1322, 4, 118, 9, 4, 130, 4901, 19, 4, 1002, 5, 89, 29, 952, 46, 37, 4, 455, 9, 45, 43, 38, 1543, 1905, 398, 4, 1649, 26, 6853, 5, 163, 11, 3215, 10156, 4, 1153, 9, 194, 775, 7, 8255, 11596, 349, 2637, 148, 605, 15358, 8003, 15, 123, 125, 68, 23141, 6853, 15, 349, 165, 4362, 98, 5, 4, 228, 9, 43, 36893, 1157, 15, 299, 120, 5, 120, 174, 11, 220, 175, 136, 50, 9, 4373, 228, 8255, 5, 25249, 656, 245, 2350, 5, 4, 9837, 131, 152, 491, 18, 46151, 32, 7464, 1212, 14, 9, 6, 371, 78, 22, 625, 64, 1382, 9, 8, 168, 145, 23, 4, 1690, 15, 16, 4, 1355, 5, 28, 6, 52, 154, 462, 33, 89, 78, 285, 16, 145, 95]),\n",
       "       list([1, 14, 47, 8, 30, 31, 7, 4, 249, 108, 7, 4, 5974, 54, 61, 369, 13, 71, 149, 14, 22, 112, 4, 2401, 311, 12, 16, 3711, 33, 75, 43, 1829, 296, 4, 86, 320, 35, 534, 19, 263, 4821, 1301, 4, 1873, 33, 89, 78, 12, 66, 16, 4, 360, 7, 4, 58, 316, 334, 11, 4, 1716, 43, 645, 662, 8, 257, 85, 1200, 42, 1228, 2578, 83, 68, 3912, 15, 36, 165, 1539, 278, 36, 69, 44076, 780, 8, 106, 14, 6905, 1338, 18, 6, 22, 12, 215, 28, 610, 40, 6, 87, 326, 23, 2300, 21, 23, 22, 12, 272, 40, 57, 31, 11, 4, 22, 47, 6, 2307, 51, 9, 170, 23, 595, 116, 595, 1352, 13, 191, 79, 638, 89, 51428, 14, 9, 8, 106, 607, 624, 35, 534, 6, 227, 7, 129, 113]),\n",
       "       ...,\n",
       "       list([1, 11, 6, 230, 245, 6401, 9, 6, 1225, 446, 86527, 45, 2174, 84, 8322, 4007, 21, 4, 912, 84, 14532, 325, 725, 134, 15271, 1715, 84, 5, 36, 28, 57, 1099, 21, 8, 140, 8, 703, 5, 11656, 84, 56, 18, 1644, 14, 9, 31, 7, 4, 9406, 1209, 2295, 26094, 1008, 18, 6, 20, 207, 110, 563, 12, 8, 2901, 17793, 8, 97, 6, 20, 53, 4767, 74, 4, 460, 364, 1273, 29, 270, 11, 960, 108, 45, 40, 29, 2961, 395, 11, 6, 4065, 500, 7, 14492, 89, 364, 70, 29, 140, 4, 64, 4780, 11, 4, 2678, 26, 178, 4, 529, 443, 17793, 5, 27, 710, 117, 74936, 8123, 165, 47, 84, 37, 131, 818, 14, 595, 10, 10, 61, 1242, 1209, 10, 10, 288, 2260, 1702, 34, 2901, 17793, 4, 65, 496, 4, 231, 7, 790, 5, 6, 320, 234, 2766, 234, 1119, 1574, 7, 496, 4, 139, 929, 2901, 17793, 7750, 5, 4241, 18, 4, 8497, 13164, 250, 11, 1818, 7561, 4, 4217, 5408, 747, 1115, 372, 1890, 1006, 541, 9303, 7, 4, 59, 11027, 4, 3586, 22459]),\n",
       "       list([1, 1446, 7079, 69, 72, 3305, 13, 610, 930, 8, 12, 582, 23, 5, 16, 484, 685, 54, 349, 11, 4120, 2959, 45, 58, 1466, 13, 197, 12, 16, 43, 23, 21469, 5, 62, 30, 145, 402, 11, 4131, 51, 575, 32, 61, 369, 71, 66, 770, 12, 1054, 75, 100, 2198, 8, 4, 105, 37, 69, 147, 712, 75, 3543, 44, 257, 390, 5, 69, 263, 514, 105, 50, 286, 1814, 23, 4, 123, 13, 161, 40, 5, 421, 4, 116, 16, 897, 13, 40691, 40, 319, 5872, 112, 6700, 11, 4803, 121, 25, 70, 3468, 4, 719, 3798, 13, 18, 31, 62, 40, 8, 7200, 4, 29455, 7, 14, 123, 5, 942, 25, 8, 721, 12, 145, 5, 202, 12, 160, 580, 202, 12, 6, 52, 58, 11418, 92, 401, 728, 12, 39, 14, 251, 8, 15, 251, 5, 21213, 12, 38, 84, 80, 124, 12, 9, 23]),\n",
       "       list([1, 17, 6, 194, 337, 7, 4, 204, 22, 45, 254, 8, 106, 14, 123, 4, 12815, 270, 14437, 5, 16923, 12255, 732, 2098, 101, 405, 39, 14, 1034, 4, 1310, 9, 115, 50, 305, 12, 47, 4, 168, 5, 235, 7, 38, 111, 699, 102, 7, 4, 4039, 9245, 9, 24, 6, 78, 1099, 17, 2345, 16553, 21, 27, 9685, 6139, 5, 29043, 1603, 92, 1183, 4, 1310, 7, 4, 204, 42, 97, 90, 35, 221, 109, 29, 127, 27, 118, 8, 97, 12, 157, 21, 6789, 85010, 9, 6, 66, 78, 1099, 4, 631, 1191, 5, 2642, 272, 191, 1070, 6, 7585, 8, 2197, 70907, 10755, 544, 5, 383, 1271, 848, 1468, 12183, 497, 16876, 8, 1597, 8778, 19280, 21, 60, 27, 239, 9, 43, 8368, 209, 405, 10, 10, 12, 764, 40, 4, 248, 20, 12, 16, 5, 174, 1791, 72, 7, 51, 6, 1739, 22, 4, 204, 131, 9])],\n",
       "      dtype=object)"
      ]
     },
     "execution_count": 67,
     "metadata": {},
     "output_type": "execute_result"
    }
   ],
   "source": [
    "x_train"
   ]
  },
  {
   "cell_type": "code",
   "execution_count": 69,
   "id": "1d13ab2b-98aa-4a30-b274-0bcbd68fb1e8",
   "metadata": {},
   "outputs": [
    {
     "name": "stdout",
     "output_type": "stream",
     "text": [
      "train data review:  [1, 14, 22, 16, 43, 530, 973, 1622, 1385, 65, 458, 4468, 66, 3941, 4, 173, 36, 256, 5, 25, 100, 43, 838, 112, 50, 670, 22665, 9, 35, 480, 284, 5, 150, 4, 172, 112, 167, 21631, 336, 385, 39, 4, 172, 4536, 1111, 17, 546, 38, 13, 447, 4, 192, 50, 16, 6, 147, 2025, 19, 14, 22, 4, 1920, 4613, 469, 4, 22, 71, 87, 12, 16, 43, 530, 38, 76, 15, 13, 1247, 4, 22, 17, 515, 17, 12, 16, 626, 18, 19193, 5, 62, 386, 12, 8, 316, 8, 106, 5, 4, 2223, 5244, 16, 480, 66, 3785, 33, 4, 130, 12, 16, 38, 619, 5, 25, 124, 51, 36, 135, 48, 25, 1415, 33, 6, 22, 12, 215, 28, 77, 52, 5, 14, 407, 16, 82, 10311, 8, 4, 107, 117, 5952, 15, 256, 4, 31050, 7, 3766, 5, 723, 36, 71, 43, 530, 476, 26, 400, 317, 46, 7, 4, 12118, 1029, 13, 104, 88, 4, 381, 15, 297, 98, 32, 2071, 56, 26, 141, 6, 194, 7486, 18, 4, 226, 22, 21, 134, 476, 26, 480, 5, 144, 30, 5535, 18, 51, 36, 28, 224, 92, 25, 104, 4, 226, 65, 16, 38, 1334, 88, 12, 16, 283, 5, 16, 4472, 113, 103, 32, 15, 16, 5345, 19, 178, 32]\n",
      "train label review:  1\n"
     ]
    }
   ],
   "source": [
    "print('train data review: ', x_train[0])\n",
    "print('train label review: ', y_train[0])"
   ]
  },
  {
   "cell_type": "code",
   "execution_count": null,
   "id": "a019e7bf-e596-4045-923a-df4d0121457d",
   "metadata": {},
   "outputs": [],
   "source": [
    "# 0은 긍정 1은 부정 /"
   ]
  },
  {
   "cell_type": "code",
   "execution_count": 72,
   "id": "d05b3ac1-7de6-4139-9efd-c10cfd3e4089",
   "metadata": {},
   "outputs": [
    {
     "name": "stdout",
     "output_type": "stream",
     "text": [
      "max review length : 2494\n",
      "mean review length : 238.71364\n",
      "min review length : 11\n"
     ]
    }
   ],
   "source": [
    "review_length = [len(review) for review in x_train]\n",
    "\n",
    "print( 'max review length : {}'.format(np.max(review_length)))\n",
    "print( 'mean review length : {}'.format(np.mean(review_length)))\n",
    "print( 'min review length : {}'.format(np.min(review_length)))\n"
   ]
  },
  {
   "cell_type": "code",
   "execution_count": 74,
   "id": "8858390f-a8de-4f56-bfd7-3d055d61a0ad",
   "metadata": {},
   "outputs": [
    {
     "data": {
      "image/png": "[encoded data removed]",
      "text/plain": [
       "<Figure size 432x288 with 2 Axes>"
      ]
     },
     "metadata": {},
     "output_type": "display_data"
    }
   ],
   "source": [
    "plt.subplot(1,2,1)\n",
    "plt.boxplot(review_length)\n",
    "plt.subplot(1,2,2)\n",
    "plt.hist(review_length, bins = 50)\n",
    "plt.show()"
   ]
  },
  {
   "cell_type": "code",
   "execution_count": 77,
   "id": "ceedd56e-687f-4177-9914-af3069172d54",
   "metadata": {},
   "outputs": [],
   "source": [
    "word_to_index = imdb.get_word_index()\n",
    "index_to_word = {}\n",
    "for key,value in word_to_index.items():\n",
    "    index_to_word[value+3] = key # 왜 3더해 ?"
   ]
  },
  {
   "cell_type": "code",
   "execution_count": 82,
   "id": "4f4d3841-3a69-4010-abf7-63aa0f099a04",
   "metadata": {},
   "outputs": [
    {
     "name": "stdout",
     "output_type": "stream",
     "text": [
      "단어: the \n"
     ]
    }
   ],
   "source": [
    "print('빈도수 상위 1등 단어: {} '.format(index_to_word[4])) # 가장많이 나타난 단어 "
   ]
  },
  {
   "cell_type": "code",
   "execution_count": 85,
   "id": "bd7c7c5b-e9c8-4d53-94ea-bfdb3485301d",
   "metadata": {},
   "outputs": [
    {
     "ename": "SyntaxError",
     "evalue": "closing parenthesis ')' does not match opening parenthesis '[' (493792129.py, line 1)",
     "output_type": "error",
     "traceback": [
      "\u001b[1;36m  Input \u001b[1;32mIn [86]\u001b[1;36m\u001b[0m\n\u001b[1;33m    print('빈도수 상위 1등 단어: {} '.format(index_to_word[7)) # 가장많이 나타난 단어\u001b[0m\n\u001b[1;37m                                                    ^\u001b[0m\n\u001b[1;31mSyntaxError\u001b[0m\u001b[1;31m:\u001b[0m closing parenthesis ')' does not match opening parenthesis '['\n"
     ]
    }
   ],
   "source": [
    "print('빈도수 상위 1등 단어: {} '.format(index_to_word[6])) # 가장많이 나타난 단어 "
   ]
  },
  {
   "cell_type": "code",
   "execution_count": 97,
   "id": "3431ed53-1f68-445d-a32f-ba84be596748",
   "metadata": {},
   "outputs": [
    {
     "name": "stdout",
     "output_type": "stream",
     "text": [
      "<sos> this film was just brilliant casting location scenery story direction everyone's really suited the part they played and you could just imagine being there robert redford's is an amazing actor and now the same being director norman's father came from the same scottish island as myself so i loved the fact there was a real connection with this film the witty remarks throughout the film were great it was just brilliant so much that i bought the film as soon as it was released for retail and would recommend it to everyone to watch and the fly fishing was amazing really cried at the end it was so sad and you know what they say if you cry at a film it must have been good and this definitely was also congratulations to the two little boy's that played the part's of norman and paul they were just brilliant children are often left out of the praising list i think because the stars that play them all grown up are such a big profile for the whole film but these children are amazing and should be praised for what they have done don't you think the whole story was so lovely because it was true and was someone's life after all that was shared with us all\n"
     ]
    }
   ],
   "source": [
    "for index, token in enumerate(('<pad>', '<sos>', '<unk>')):\n",
    "    index_to_word[index] = token\n",
    "    \n",
    "    \n",
    "print(\" \".join([index_to_word[index] for index in x_train[0]]))    \n",
    "    "
   ]
  },
  {
   "cell_type": "code",
   "execution_count": null,
   "id": "b96b665b-93a4-42c7-a79b-9b7eb891ea6e",
   "metadata": {},
   "outputs": [],
   "source": []
  }
 ],
 "metadata": {
  "kernelspec": {
   "display_name": "Python 3 (ipykernel)",
   "language": "python",
   "name": "python3"
  },
  "language_info": {
   "codemirror_mode": {
    "name": "ipython",
    "version": 3
   },
   "file_extension": ".py",
   "mimetype": "text/x-python",
   "name": "python",
   "nbconvert_exporter": "python",
   "pygments_lexer": "ipython3",
   "version": "3.9.12"
  }
 },
 "nbformat": 4,
 "nbformat_minor": 5
}

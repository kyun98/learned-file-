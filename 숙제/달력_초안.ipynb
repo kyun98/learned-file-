{
 "cells": [
  {
   "cell_type": "code",
   "execution_count": 1,
   "id": "ed271152",
   "metadata": {},
   "outputs": [
    {
     "data": {
      "text/plain": [
       "371"
      ]
     },
     "execution_count": 1,
     "metadata": {},
     "output_type": "execute_result"
    }
   ],
   "source": [
    "m = [31, 28, 31, 30, 31, 30, 31, 31, 30, 31, 30, 31]\n",
    "li = [j  for i in m for j in range(1, i+1)]\n",
    "import numpy as np\n",
    "import datetime\n",
    "cal = np.array([0, 0, 0, 0, 0, 0]+li).reshape(-1,7)\n",
    "yoil = [\"Su\",\"Mo\", \"Tu\", \"We\", \"Th\", \"Fr\", \"Sa\"]\n",
    "iljung = {400:['x','y','z']}\n",
    "len(cal.flatten())"
   ]
  },
  {
   "cell_type": "code",
   "execution_count": 2,
   "id": "84b4c7d3",
   "metadata": {},
   "outputs": [],
   "source": [
    "## 달력출력\n",
    "def toomonth(x):\n",
    "    z = 0\n",
    "    for i in range(371):\n",
    "        if z == x:\n",
    "            if x in (1, 7, 10):\n",
    "                print(\"{}월\".format(x))\n",
    "                print(\" \", \" \".join(yoil))\n",
    "                print(cal[(z//7):(z//7)+6,:])\n",
    "                break\n",
    "            else:\n",
    "                print(\"{}월\".format(x))\n",
    "                print(\" \", \" \".join(yoil))\n",
    "                print(cal[(z//7):(z//7)+5,:])\n",
    "                break\n",
    "        elif cal.flatten()[i] == 1:\n",
    "            z += 1"
   ]
  },
  {
   "cell_type": "code",
   "execution_count": 3,
   "id": "5173c3fc",
   "metadata": {},
   "outputs": [],
   "source": [
    "## 일정표\n",
    "def iljong_in(x, y, z):\n",
    "    k=0\n",
    "    for i in range(x):\n",
    "        k += m[i]\n",
    "    k += y\n",
    "    if k in list(iljung.keys()):\n",
    "        if iljung[k] == None:\n",
    "            del iljung[k]\n",
    "            iljung[k] = z\n",
    "        elif type(iljung[k]) == str:\n",
    "            iljung[k] = [iljung[k]]+[z]\n",
    "        else:\n",
    "            iljung[k] = iljung[k]+[z]\n",
    "    else:\n",
    "        iljung[k] = z\n",
    "\n",
    "def iljong_out(x, y):\n",
    "    k=0\n",
    "    for i in range(x):\n",
    "        k += m[i]\n",
    "    k += y\n",
    "    if k in list(iljung.keys()):\n",
    "        print(iljung[k])\n",
    "    else:\n",
    "        print('일정이 없습니다.')"
   ]
  },
  {
   "cell_type": "code",
   "execution_count": 9,
   "id": "b0560460",
   "metadata": {},
   "outputs": [],
   "source": [
    "def tooday():\n",
    "    print(datetime.datetime.now())\n",
    "    k = sum(m[0 : int(str(datetime.datetime.now())[5:7])]) + int(str(datetime.datetime.now())[8:10])\n",
    "    if k in list(iljung.keys()):\n",
    "        print(\"금일 일정\")\n",
    "        print(iljung[k])\n",
    "    else:\n",
    "        print('일정이 없습니다.')"
   ]
  },
  {
   "cell_type": "code",
   "execution_count": 10,
   "id": "27f0141a",
   "metadata": {},
   "outputs": [
    {
     "name": "stdout",
     "output_type": "stream",
     "text": [
      "4월\n",
      "  Su Mo Tu We Th Fr Sa\n",
      "[[ 0  0  0  0  0  0  1]\n",
      " [ 2  3  4  5  6  7  8]\n",
      " [ 9 10 11 12 13 14 15]\n",
      " [16 17 18 19 20 21 22]\n",
      " [23 24 25 26 27 28 29]]\n"
     ]
    }
   ],
   "source": [
    "toomonth(4)"
   ]
  },
  {
   "cell_type": "code",
   "execution_count": 11,
   "id": "2ce52de2",
   "metadata": {},
   "outputs": [],
   "source": [
    "iljong_in(5, 19, 'hello, world')"
   ]
  },
  {
   "cell_type": "code",
   "execution_count": 12,
   "id": "9fdbc879",
   "metadata": {},
   "outputs": [
    {
     "name": "stdout",
     "output_type": "stream",
     "text": [
      "2022-05-19 09:20:09.424829\n",
      "금일 일정\n",
      "['hello, world', 'hello, world']\n"
     ]
    }
   ],
   "source": [
    "tooday()"
   ]
  },
  {
   "cell_type": "code",
   "execution_count": null,
   "id": "8f5d3dd8",
   "metadata": {},
   "outputs": [],
   "source": []
  }
 ],
 "metadata": {
  "kernelspec": {
   "display_name": "Python 3 (ipykernel)",
   "language": "python",
   "name": "python3"
  },
  "language_info": {
   "codemirror_mode": {
    "name": "ipython",
    "version": 3
   },
   "file_extension": ".py",
   "mimetype": "text/x-python",
   "name": "python",
   "nbconvert_exporter": "python",
   "pygments_lexer": "ipython3",
   "version": "3.9.12"
  }
 },
 "nbformat": 4,
 "nbformat_minor": 5
}

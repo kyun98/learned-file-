{
 "cells": [
  {
   "cell_type": "code",
   "execution_count": 1,
   "id": "6b6302f1",
   "metadata": {},
   "outputs": [
    {
     "data": {
      "text/plain": [
       "'\\nplt.imshow(image, cmap=\"color\")\\nplt.colorbar() # 오른쪽에 컬러바\\n\\nplt.scatter(x, y, c = 색상기준y)\\nplt.xlabel(...) # x축 이름지정\\nplt.ylabel(...) # y축 이름지정\\nplt.colorbar()\\n\\nplt.subplot(행, 열, ..번째)\\n\\nsklearn.linear_model.LinearRegression()\\nmodel.coef_ # 가중치(기울기)\\nmodel.intercept_ # 절편값\\n선형 그래프와 자연상수 지수로 산점도, 선형그래프 그려보기\\nplt(x, y, alpha=(투명도, 숫자값))\\nplt.boxplot(x)\\n'"
      ]
     },
     "execution_count": 1,
     "metadata": {},
     "output_type": "execute_result"
    }
   ],
   "source": [
    "# 15일차, 16일차 복습\n",
    "\"\"\"\n",
    "plt.imshow(image, cmap=\"color\")\n",
    "plt.colorbar() # 오른쪽에 컬러바\n",
    "\n",
    "plt.scatter(x, y, c = (색상기준)y)\n",
    "plt.xlabel(...) # x축 이름지정\n",
    "plt.ylabel(...) # y축 이름지정\n",
    "plt.colorbar()\n",
    "\n",
    "plt.subplot(행, 열, ..번째)\n",
    "\n",
    "sklearn.linear_model.LinearRegression()\n",
    "model.coef_ # 가중치(기울기)\n",
    "model.intercept_ # 절편값\n",
    "선형 그래프와 자연상수 지수로 산점도, 선형그래프 그려보기\n",
    "plt(x, y, alpha=(투명도, 숫자값))\n",
    "plt.boxplot(x)\n",
    "\"\"\""
   ]
  },
  {
   "cell_type": "markdown",
   "id": "900f589e",
   "metadata": {},
   "source": [
    "# 기하학 처리"
   ]
  },
  {
   "cell_type": "code",
   "execution_count": 2,
   "id": "2a9d4dc4",
   "metadata": {},
   "outputs": [],
   "source": [
    "# 크기변경 : 확대시 영상 품질 저하의 문제\n",
    "# 최근접 이웃 보간법 : 화소 하나를 근접한 행렬로 늘리고 목적 영상의 화소에 가깝게 처리\n",
    "# 양선형 보건법 : 이웃한 화소들을 기반으로 값을 가져옴\n",
    "# 평행이동 : 평행이동\n",
    "# 화전 : 원점 기준 회전 (회전 행렬 이용)\n",
    "# 어파인 변환 : 회전 행렬 + 평행이동 + 크기변경\n",
    "# 원근 투시 변환 : 3차원 세계를 2차원의 평면으로 옮길때 관찰자 입장에서 반영(내적)"
   ]
  },
  {
   "cell_type": "markdown",
   "id": "132ea99e",
   "metadata": {},
   "source": [
    "# 주파수"
   ]
  },
  {
   "cell_type": "code",
   "execution_count": 3,
   "id": "f125aff2",
   "metadata": {},
   "outputs": [],
   "source": [
    "# 저주파 영역 : 화소 밝기가 점진적 변화 / 고주파 영역 : 화소밝기가 급변\n",
    "# 푸리에 변환 : 삼각함수 사용 > 주기성 이용해 분리\n",
    "# 필터링에 이용"
   ]
  },
  {
   "cell_type": "markdown",
   "id": "ded8a5e4",
   "metadata": {},
   "source": [
    "# 특징 처리"
   ]
  },
  {
   "cell_type": "code",
   "execution_count": null,
   "id": "c9f0179a",
   "metadata": {},
   "outputs": [],
   "source": [
    "# 허프 변환 : 영상 화소간의 누적 행렬 계산을 통해 영상 화소의 직선 검사\n",
    "# 멀티 하네스의 전처리(기울기 보정) > 침식연산으로 객체부분만 남기고 삭제 > 허프변환을 이용한 기울기 검출\n",
    "# K-NN : cv2모듈에서 ml.KNearest_create() 로 접근"
   ]
  },
  {
   "cell_type": "code",
   "execution_count": null,
   "id": "a6cf1e49-6844-4cae-8ed1-985d727a81a4",
   "metadata": {},
   "outputs": [],
   "source": []
  },
  {
   "cell_type": "code",
   "execution_count": null,
   "id": "307cc689-2016-4970-ad58-61f2c2bf41f7",
   "metadata": {},
   "outputs": [],
   "source": []
  },
  {
   "cell_type": "code",
   "execution_count": null,
   "id": "81cd9554-8ded-46f0-94ad-6992abbc1958",
   "metadata": {},
   "outputs": [],
   "source": []
  },
  {
   "cell_type": "code",
   "execution_count": null,
   "id": "f252ec6a-1098-4690-a79a-4d3b83a3c719",
   "metadata": {},
   "outputs": [],
   "source": []
  },
  {
   "cell_type": "code",
   "execution_count": null,
   "id": "24562b67-dbf7-4d86-9968-190d98c028a7",
   "metadata": {},
   "outputs": [],
   "source": []
  }
 ],
 "metadata": {
  "kernelspec": {
   "display_name": "Python 3 (ipykernel)",
   "language": "python",
   "name": "python3"
  },
  "language_info": {
   "codemirror_mode": {
    "name": "ipython",
    "version": 3
   },
   "file_extension": ".py",
   "mimetype": "text/x-python",
   "name": "python",
   "nbconvert_exporter": "python",
   "pygments_lexer": "ipython3",
   "version": "3.9.12"
  }
 },
 "nbformat": 4,
 "nbformat_minor": 5
}
